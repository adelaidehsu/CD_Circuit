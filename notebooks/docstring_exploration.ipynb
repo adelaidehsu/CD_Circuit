{
 "cells": [
  {
   "cell_type": "code",
   "execution_count": 3,
   "id": "be0f3e36-fa19-4472-8945-3e17f6f8a3a9",
   "metadata": {
    "tags": []
   },
   "outputs": [],
   "source": [
    "%load_ext autoreload\n",
    "%autoreload 2"
   ]
  },
  {
   "cell_type": "code",
   "execution_count": 4,
   "id": "39df4701-17e9-4f7d-bf8e-5b1e7e2ed251",
   "metadata": {
    "tags": []
   },
   "outputs": [
    {
     "name": "stderr",
     "output_type": "stream",
     "text": [
      "/accounts/projects/binyu/georgiasimpression/.local/lib/python3.12/site-packages/transformers/utils/hub.py:127: FutureWarning: Using `TRANSFORMERS_CACHE` is deprecated and will be removed in v5 of Transformers. Use `HF_HOME` instead.\n",
      "  warnings.warn(\n"
     ]
    }
   ],
   "source": [
    "from transformer_lens import HookedTransformer\n",
    "import random\n",
    "import sys\n",
    "import os\n",
    "import collections\n",
    "import operator\n",
    "\n",
    "base_dir = os.path.split(os.getcwd())[0]\n",
    "sys.path.append(base_dir)\n",
    "from pyfunctions.general import compare_same\n",
    "from pyfunctions.cdt_basic import *\n",
    "from pyfunctions.cdt_source_to_target import *\n",
    "from pyfunctions.cdt_from_source_nodes import *\n",
    "from pyfunctions.toy_model import *\n",
    "import seaborn as sns\n",
    "import matplotlib.pyplot as plt\n",
    "\n",
    "import torch"
   ]
  },
  {
   "cell_type": "code",
   "execution_count": 5,
   "id": "a1cbf067-0094-4f4e-a638-d0af92064665",
   "metadata": {
    "tags": []
   },
   "outputs": [
    {
     "name": "stderr",
     "output_type": "stream",
     "text": [
      "/accounts/projects/binyu/georgiasimpression/.local/lib/python3.12/site-packages/transformers/tokenization_utils_base.py:1601: FutureWarning: `clean_up_tokenization_spaces` was not set. It will be set to `True` by default. This behavior will be depracted in transformers v4.45, and will be then set to `False` by default. For more details check this issue: https://github.com/huggingface/transformers/issues/31884\n",
      "  warnings.warn(\n",
      "huggingface/tokenizers: The current process just got forked, after parallelism has already been used. Disabling parallelism to avoid deadlocks...\n",
      "To disable this warning, you can either:\n",
      "\t- Avoid using `tokenizers` before the fork if possible\n",
      "\t- Explicitly set the environment variable TOKENIZERS_PARALLELISM=(true | false)\n",
      "huggingface/tokenizers: The current process just got forked, after parallelism has already been used. Disabling parallelism to avoid deadlocks...\n",
      "To disable this warning, you can either:\n",
      "\t- Avoid using `tokenizers` before the fork if possible\n",
      "\t- Explicitly set the environment variable TOKENIZERS_PARALLELISM=(true | false)\n",
      "huggingface/tokenizers: The current process just got forked, after parallelism has already been used. Disabling parallelism to avoid deadlocks...\n",
      "To disable this warning, you can either:\n",
      "\t- Avoid using `tokenizers` before the fork if possible\n",
      "\t- Explicitly set the environment variable TOKENIZERS_PARALLELISM=(true | false)\n",
      "huggingface/tokenizers: The current process just got forked, after parallelism has already been used. Disabling parallelism to avoid deadlocks...\n",
      "To disable this warning, you can either:\n",
      "\t- Avoid using `tokenizers` before the fork if possible\n",
      "\t- Explicitly set the environment variable TOKENIZERS_PARALLELISM=(true | false)\n",
      "huggingface/tokenizers: The current process just got forked, after parallelism has already been used. Disabling parallelism to avoid deadlocks...\n",
      "To disable this warning, you can either:\n",
      "\t- Avoid using `tokenizers` before the fork if possible\n",
      "\t- Explicitly set the environment variable TOKENIZERS_PARALLELISM=(true | false)\n",
      "huggingface/tokenizers: The current process just got forked, after parallelism has already been used. Disabling parallelism to avoid deadlocks...\n",
      "To disable this warning, you can either:\n",
      "\t- Avoid using `tokenizers` before the fork if possible\n",
      "\t- Explicitly set the environment variable TOKENIZERS_PARALLELISM=(true | false)\n",
      "huggingface/tokenizers: The current process just got forked, after parallelism has already been used. Disabling parallelism to avoid deadlocks...\n",
      "To disable this warning, you can either:\n",
      "\t- Avoid using `tokenizers` before the fork if possible\n",
      "\t- Explicitly set the environment variable TOKENIZERS_PARALLELISM=(true | false)\n",
      "huggingface/tokenizers: The current process just got forked, after parallelism has already been used. Disabling parallelism to avoid deadlocks...\n",
      "To disable this warning, you can either:\n",
      "\t- Avoid using `tokenizers` before the fork if possible\n",
      "\t- Explicitly set the environment variable TOKENIZERS_PARALLELISM=(true | false)\n",
      "huggingface/tokenizers: The current process just got forked, after parallelism has already been used. Disabling parallelism to avoid deadlocks...\n",
      "To disable this warning, you can either:\n",
      "\t- Avoid using `tokenizers` before the fork if possible\n",
      "\t- Explicitly set the environment variable TOKENIZERS_PARALLELISM=(true | false)\n",
      "huggingface/tokenizers: The current process just got forked, after parallelism has already been used. Disabling parallelism to avoid deadlocks...\n",
      "To disable this warning, you can either:\n",
      "\t- Avoid using `tokenizers` before the fork if possible\n",
      "\t- Explicitly set the environment variable TOKENIZERS_PARALLELISM=(true | false)\n",
      "huggingface/tokenizers: The current process just got forked, after parallelism has already been used. Disabling parallelism to avoid deadlocks...\n",
      "To disable this warning, you can either:\n",
      "\t- Avoid using `tokenizers` before the fork if possible\n",
      "\t- Explicitly set the environment variable TOKENIZERS_PARALLELISM=(true | false)\n",
      "huggingface/tokenizers: The current process just got forked, after parallelism has already been used. Disabling parallelism to avoid deadlocks...\n",
      "To disable this warning, you can either:\n",
      "\t- Avoid using `tokenizers` before the fork if possible\n",
      "\t- Explicitly set the environment variable TOKENIZERS_PARALLELISM=(true | false)\n",
      "huggingface/tokenizers: The current process just got forked, after parallelism has already been used. Disabling parallelism to avoid deadlocks...\n",
      "To disable this warning, you can either:\n",
      "\t- Avoid using `tokenizers` before the fork if possible\n",
      "\t- Explicitly set the environment variable TOKENIZERS_PARALLELISM=(true | false)\n",
      "huggingface/tokenizers: The current process just got forked, after parallelism has already been used. Disabling parallelism to avoid deadlocks...\n",
      "To disable this warning, you can either:\n",
      "\t- Avoid using `tokenizers` before the fork if possible\n",
      "\t- Explicitly set the environment variable TOKENIZERS_PARALLELISM=(true | false)\n"
     ]
    },
    {
     "name": "stdout",
     "output_type": "stream",
     "text": [
      "Loaded pretrained model attn-only-4l into HookedTransformer\n"
     ]
    },
    {
     "data": {
      "text/plain": [
       "'Toggle whether to explicitly calculate and expose the result for each attention head.\\nUseful for interpretability but can easily burn through GPU memory.\\n        '"
      ]
     },
     "execution_count": 5,
     "metadata": {},
     "output_type": "execute_result"
    }
   ],
   "source": [
    "# from mi_utils_public import *\n",
    "device = 'cuda:0' if torch.cuda.is_available() else 'cpu'\n",
    "torch.autograd.set_grad_enabled(False)\n",
    "model = HookedTransformer.from_pretrained('attn-only-4l',\n",
    "                                         fold_ln=False)\n",
    "model.cfg.use_attn_result = False # what does this do?\n",
    "\"\"\"Toggle whether to explicitly calculate and expose the result for each attention head.\n",
    "Useful for interpretability but can easily burn through GPU memory.\n",
    "        \"\"\"\n",
    "# because running subprocess breaks things\n",
    "# %env TOKENIZERS_PARALLELISM=true\n",
    "\n"
   ]
  },
  {
   "cell_type": "code",
   "execution_count": 115,
   "id": "92befc56-e4df-4dac-b568-d2a8fb268261",
   "metadata": {
    "collapsed": true,
    "jupyter": {
     "outputs_hidden": true
    },
    "tags": []
   },
   "outputs": [
    {
     "name": "stdout",
     "output_type": "stream",
     "text": [
      "HookedTransformer(\n",
      "  (embed): Embed()\n",
      "  (hook_embed): HookPoint()\n",
      "  (pos_embed): PosEmbed()\n",
      "  (hook_pos_embed): HookPoint()\n",
      "  (blocks): ModuleList(\n",
      "    (0-3): 4 x TransformerBlock(\n",
      "      (ln1): LayerNorm(\n",
      "        (hook_scale): HookPoint()\n",
      "        (hook_normalized): HookPoint()\n",
      "      )\n",
      "      (attn): Attention(\n",
      "        (hook_k): HookPoint()\n",
      "        (hook_q): HookPoint()\n",
      "        (hook_v): HookPoint()\n",
      "        (hook_z): HookPoint()\n",
      "        (hook_attn_scores): HookPoint()\n",
      "        (hook_pattern): HookPoint()\n",
      "        (hook_result): HookPoint()\n",
      "      )\n",
      "      (hook_attn_in): HookPoint()\n",
      "      (hook_q_input): HookPoint()\n",
      "      (hook_k_input): HookPoint()\n",
      "      (hook_v_input): HookPoint()\n",
      "      (hook_mlp_in): HookPoint()\n",
      "      (hook_attn_out): HookPoint()\n",
      "      (hook_mlp_out): HookPoint()\n",
      "      (hook_resid_pre): HookPoint()\n",
      "      (hook_resid_post): HookPoint()\n",
      "    )\n",
      "  )\n",
      "  (ln_final): LayerNorm(\n",
      "    (hook_scale): HookPoint()\n",
      "    (hook_normalized): HookPoint()\n",
      "  )\n",
      "  (unembed): Unembed()\n",
      ")\n"
     ]
    }
   ],
   "source": [
    "print(model)"
   ]
  },
  {
   "cell_type": "code",
   "execution_count": 6,
   "id": "68ac0b0f-cbfb-43df-a24e-35dab545e754",
   "metadata": {
    "tags": []
   },
   "outputs": [],
   "source": [
    "\n",
    "from im_utils.prompts import Prompt, docstring_ind_prompt_gen\n",
    "\n",
    "batch_size = 50\n",
    "\n",
    "docstring_ind_prompt_kwargs = dict(\n",
    "    n_matching_args=3,\n",
    "    n_def_prefix_args=2,\n",
    "    n_def_suffix_args=1,\n",
    "    n_doc_prefix_args=0,\n",
    "    met_desc_len=3,\n",
    "    arg_desc_len=2\n",
    ")\n",
    "prompts = [docstring_ind_prompt_gen(\"rest\", **docstring_ind_prompt_kwargs) for _ in range(batch_size)]"
   ]
  },
  {
   "cell_type": "code",
   "execution_count": 7,
   "id": "2d8d9004-4a12-4246-bc9d-d7339a90e790",
   "metadata": {
    "tags": []
   },
   "outputs": [],
   "source": [
    "tokens = model.to_str_tokens(prompts[0].clean_prompt)\n"
   ]
  },
  {
   "cell_type": "code",
   "execution_count": 8,
   "id": "2cf3d334-05b4-43b8-898c-04c160e01fc8",
   "metadata": {
    "tags": []
   },
   "outputs": [],
   "source": [
    "pos_labels = model.to_str_tokens(prompts[0].clean_prompt)\n",
    "pos_labels[ 0] = \"BOS\"\n",
    "pos_labels[ 1] = \"⏎\"\n",
    "pos_labels[ 2] = \"def\"\n",
    "pos_labels[ 3] = \"rand0\"\n",
    "pos_labels[ 4] = \"(\"\n",
    "pos_labels[ 5] = \"self\"\n",
    "pos_labels[ 6] = \",_0\"\n",
    "pos_labels[ 7] = \"rand1\"\n",
    "pos_labels[ 8] = \",_1\"\n",
    "pos_labels[ 9] = \"rand2\"\n",
    "pos_labels[10] = \",_2\"\n",
    "pos_labels[11] = \"A_def\"\n",
    "pos_labels[12] = \",_A\"\n",
    "pos_labels[13] = \"B_def\"\n",
    "pos_labels[14] = \",_B\"\n",
    "pos_labels[15] = \"C_def\"\n",
    "pos_labels[16] = \",_C\"\n",
    "pos_labels[17] = \"rand3\"\n",
    "pos_labels[18] = \"):\"\n",
    "pos_labels[19] = \"⏎···_0\"\n",
    "pos_labels[20] = '\"\"\"'\n",
    "pos_labels[21] = \"rand4\"\n",
    "pos_labels[22] = \"rand5\"\n",
    "pos_labels[23] = \"rand6\"\n",
    "pos_labels[24] = \"⏎⏎···_1\"\n",
    "pos_labels[25] = \"·:_0\"\n",
    "pos_labels[26] = \"param_1\"\n",
    "pos_labels[27] = \"A_doc\"\n",
    "pos_labels[28] = \":_1\"\n",
    "pos_labels[29] = \"rand7\"\n",
    "pos_labels[30] = \"rand8\"\n",
    "pos_labels[31] = \"⏎···_2\"\n",
    "pos_labels[32] = \"·:_1\"\n",
    "pos_labels[33] = \"param_2\"\n",
    "pos_labels[34] = \"B_doc\"\n",
    "pos_labels[35] = \":_2\"\n",
    "pos_labels[36] = \"rand9\"\n",
    "pos_labels[37] = \"rand10\"\n",
    "pos_labels[38] = \"⏎···_3\"\n",
    "pos_labels[39] = \"·:_2\"\n",
    "pos_labels[40] = \"param_3\""
   ]
  },
  {
   "cell_type": "code",
   "execution_count": 22,
   "id": "685235b0-7ad0-4c78-b845-27b147af5cc4",
   "metadata": {
    "collapsed": true,
    "jupyter": {
     "outputs_hidden": true
    },
    "tags": []
   },
   "outputs": [
    {
     "name": "stdout",
     "output_type": "stream",
     "text": [
      "\n",
      "def msg(self, description, status, call):\n",
      "    \"\"\"choice minute sort\n",
      "\n",
      "    :param description: drug machine\n",
      "    :param status: ground register\n",
      "    :param\n",
      "\n",
      "def msg(self, description, status, call):\n",
      "    \"\"\"choice minute sort\n",
      "\n",
      "    :param state: drug machine\n",
      "    :param server: ground register\n",
      "    :param\n",
      "\n",
      "def msg(self, state, server, call):\n",
      "    \"\"\"choice minute sort\n",
      "\n",
      "    :param state: drug machine\n",
      "    :param server: ground register\n",
      "    :param\n",
      "\n",
      "def msg(self, description, status, option):\n",
      "    \"\"\"choice minute sort\n",
      "\n",
      "    :param state: drug machine\n",
      "    :param server: ground register\n",
      "    :param\n",
      "\n",
      "def msg(self, filename, valid, host):\n",
      "    \"\"\"choice minute sort\n",
      "\n",
      "    :param name: drug machine\n",
      "    :param index: ground register\n",
      "    :param\n",
      "\n",
      "def msg(self, description, status, call):\n",
      "    \"\"\"choice minute sort\n",
      "\n",
      "    :param description: drug\n",
      "    :param status: ground machine register\n",
      "    :param\n",
      "\n",
      "def msg(self, description, status, call):\n",
      "    \"\"\"choice minute sort\n",
      "\n",
      "    :param state: drug\n",
      "    :param server: ground machine register\n",
      "    :param\n"
     ]
    }
   ],
   "source": [
    "# dir(prompts[0])\n",
    "'''\n",
    "'clean_prompt',\n",
    " 'correct_answers',\n",
    " 'corrupt_prompt',\n",
    " 'print_all_corrupt',\n",
    " 'print_all_corrupt_tokenized',\n",
    " 'print_clean',\n",
    " 'print_clean_tokenized',\n",
    " 'print_corrupt',\n",
    " 'print_corrupt_tokenized',\n",
    " 'print_tokenized',\n",
    " 'wrong_answers'\n",
    "'''\n",
    "\n",
    "print(prompts[0].clean_prompt)\n",
    "# 'random_doc', 'random_def', 'random_answer', 'random_def_doc', 'random_answer_doc', 'random_random', 'vary_length_doc_desc', 'vary_length_doc_desc_random_doc'\n",
    "# print(prompts[0].corrupt_prompt.keys())\n",
    "# type(prompts[0])\n",
    "# These are actually decently well explained in the original LessWrong post, I just didn't see it at first.\n",
    "print(prompts[0].corrupt_prompt['random_doc'])\n",
    "print(prompts[0].corrupt_prompt['random_def_doc'])\n",
    "print(prompts[0].corrupt_prompt['random_answer_doc'])\n",
    "print(prompts[0].corrupt_prompt['random_random'])\n",
    "print(prompts[0].corrupt_prompt['vary_length_doc_desc'])\n",
    "print(prompts[0].corrupt_prompt['vary_length_doc_desc_random_doc'])\n"
   ]
  },
  {
   "cell_type": "code",
   "execution_count": 162,
   "id": "5a2ba9f0-3f65-4ced-b5e4-f90a68763d89",
   "metadata": {
    "tags": []
   },
   "outputs": [
    {
     "name": "stdout",
     "output_type": "stream",
     "text": [
      "hook_embed                     (1, 35, 512)\n",
      "hook_pos_embed                 (1, 35, 512)\n",
      "blocks.0.hook_resid_pre        (1, 35, 512)\n",
      "blocks.0.ln1.hook_scale        (1, 35, 1)\n",
      "blocks.0.ln1.hook_normalized   (1, 35, 512)\n",
      "blocks.0.attn.hook_q           (1, 35, 8, 64)\n",
      "blocks.0.attn.hook_k           (1, 35, 8, 64)\n",
      "blocks.0.attn.hook_v           (1, 35, 8, 64)\n",
      "blocks.0.attn.hook_attn_scores (1, 8, 35, 35)\n",
      "blocks.0.attn.hook_pattern     (1, 8, 35, 35)\n",
      "blocks.0.attn.hook_z           (1, 35, 8, 64)\n",
      "blocks.0.hook_attn_out         (1, 35, 512)\n",
      "blocks.0.hook_resid_post       (1, 35, 512)\n",
      "ln_final.hook_scale            (1, 35, 1)\n",
      "ln_final.hook_normalized       (1, 35, 512)\n"
     ]
    }
   ],
   "source": [
    "logits, cache = model.run_with_cache(prompts[0].clean_prompt)\n",
    "tokens = model.to_tokens(prompts[0].clean_prompt).to(device)\n",
    "# logits, cache = model.run_with_cache(tokens)\n",
    "for activation_name, activation in cache.items():\n",
    "    # Only print for first layer\n",
    "    if \".0.\" in activation_name or \"blocks\" not in activation_name:\n",
    "        print(f\"{activation_name:30} {tuple(activation.shape)}\")"
   ]
  },
  {
   "cell_type": "code",
   "execution_count": 158,
   "id": "a1573d0f-19b5-4c04-a77e-e42e07438d22",
   "metadata": {
    "tags": []
   },
   "outputs": [
    {
     "name": "stdout",
     "output_type": "stream",
     "text": [
      "100.00% of the values are equal\n"
     ]
    },
    {
     "data": {
      "text/plain": [
       "1.0"
      ]
     },
     "execution_count": 158,
     "metadata": {},
     "output_type": "execute_result"
    }
   ],
   "source": [
    "compare_same(cache['blocks.1.hook_resid_pre'], cache['blocks.0.hook_resid_post'])"
   ]
  },
  {
   "cell_type": "code",
   "execution_count": 25,
   "id": "a0d1af7d-28dc-4d7f-99b7-ceadc46a5546",
   "metadata": {
    "tags": []
   },
   "outputs": [
    {
     "name": "stderr",
     "output_type": "stream",
     "text": [
      "/accounts/projects/binyu/georgiasimpression/.local/lib/python3.12/site-packages/transformers/modeling_utils.py:1080: FutureWarning: The `device` argument is deprecated and will be removed in v5 of Transformers.\n",
      "  warnings.warn(\n"
     ]
    }
   ],
   "source": [
    "encoding = model.tokenizer.encode_plus(prompts[0].clean_prompt, \n",
    "                                 add_special_tokens=True, \n",
    "                                 max_length=512,\n",
    "                                 truncation=True, \n",
    "                                 # prepend_bos=True, # currently dealing with this: make sure BOS prepend matches because currently the sequence lengths are off-by-one\n",
    "                                 padding = \"longest\", \n",
    "                                 return_attention_mask=True, \n",
    "                                 return_tensors=\"pt\").to(device)\n",
    "encoding_idxs, attention_mask = encoding.input_ids, encoding.attention_mask\n",
    "\n",
    "# god help us if we want to make HF prepend the BOS token, which this model expects\n",
    "# so do it ourselves manually\n",
    "attention_mask = torch.tensor([[1] + attention_mask.cpu().numpy().tolist()[0]], device=device)\n",
    "encoding_idxs = torch.tensor([[1] + encoding_idxs.cpu().numpy().tolist()[0]], device=device)\n",
    "input_shape = encoding_idxs.size()\n",
    "extended_attention_mask = get_extended_attention_mask(attention_mask, \n",
    "                                                        input_shape, \n",
    "                                                        model,\n",
    "                                                        device)"
   ]
  },
  {
   "cell_type": "code",
   "execution_count": 175,
   "id": "620ac2b4-e534-43c1-aba2-f5c99dc3d028",
   "metadata": {
    "tags": []
   },
   "outputs": [
    {
     "name": "stdout",
     "output_type": "stream",
     "text": [
      "100.00% of the values are equal\n",
      "100.00% of the values are equal\n"
     ]
    },
    {
     "data": {
      "text/plain": [
       "1.0"
      ]
     },
     "execution_count": 175,
     "metadata": {},
     "output_type": "execute_result"
    }
   ],
   "source": [
    "in_0 = cache['blocks.0.hook_resid_pre']\n",
    "compare_same(cache['hook_embed'] + cache['hook_pos_embed'], cache['blocks.0.hook_resid_pre'])\n",
    "\n",
    "# Ensure that the encodings are the same (they won't be if you set prepend_bos=True for one and not the other!)\n",
    "# print(tokens)\n",
    "# print(encoding.input_ids)\n",
    "\n",
    "# Note that model.embed alone isn't the same thing as what we might normally call \"the embedding\"!\n",
    "embedding_output = model.embed(encoding_idxs) + model.pos_embed(encoding_idxs)\n",
    "compare_same(in_0, embedding_output, atol=1e-8, rtol=1e-6)"
   ]
  },
  {
   "cell_type": "code",
   "execution_count": 136,
   "id": "8f837e48-7390-40a6-b270-5e56d387365a",
   "metadata": {
    "tags": []
   },
   "outputs": [
    {
     "name": "stdout",
     "output_type": "stream",
     "text": [
      "100.00% of the values are equal\n"
     ]
    },
    {
     "data": {
      "text/plain": [
       "1.0"
      ]
     },
     "execution_count": 136,
     "metadata": {},
     "output_type": "execute_result"
    }
   ],
   "source": [
    "\n",
    "att_probs = prop_toy_model_4l_layer(torch.zeros_like(in_0), embedding_output, extended_attention_mask, None, \n",
    "                  {}, [], 0, None,\n",
    "                  model.blocks[0], device, att_probs = None, set_irrel_to_mean=False, target_decomp_method=\"residual\")\n",
    "compare_same(att_probs, cache['blocks.0.attn.hook_pattern'])\n",
    "# print(type(att_probs))"
   ]
  },
  {
   "cell_type": "code",
   "execution_count": 142,
   "id": "3b999eb8-4522-470b-934a-d71cf57d460f",
   "metadata": {
    "tags": []
   },
   "outputs": [],
   "source": [
    "# now check correctness of prop implementation\n",
    "rel, irrel, _, _ = prop_toy_model_4l_layer(torch.zeros_like(in_0), embedding_output, extended_attention_mask, None, \n",
    "                  {}, [], 0, None,\n",
    "                  model.blocks[0], device, att_probs = None, set_irrel_to_mean=False, target_decomp_method=\"residual\")\n",
    "output_layer_0 = rel + irrel"
   ]
  },
  {
   "cell_type": "code",
   "execution_count": 177,
   "id": "dd3431e8-5688-457e-a027-6135d06524e9",
   "metadata": {
    "tags": []
   },
   "outputs": [
    {
     "name": "stdout",
     "output_type": "stream",
     "text": [
      "99.99% of the values are equal\n"
     ]
    },
    {
     "data": {
      "text/plain": [
       "0.9999441964285715"
      ]
     },
     "execution_count": 177,
     "metadata": {},
     "output_type": "execute_result"
    }
   ],
   "source": [
    "compare_same(output_layer_0, cache['blocks.1.hook_resid_pre'], atol=1e-4)\n",
    "# print(type(desired_output_layer_0))\n",
    "# compare_same(output_layer_0, cache['blocks.1.hook_resid_pre'], atol=1e-6, rtol=1e-5) # numerical error accumulation is significant for this model compared to gpt-2, wonder why?\n"
   ]
  },
  {
   "cell_type": "code",
   "execution_count": 167,
   "id": "ba3d06cf-ffea-457c-932f-a640dabc1d6d",
   "metadata": {
    "tags": []
   },
   "outputs": [],
   "source": [
    "out_a_ln = prop_toy_model_4l(encoding_idxs,\n",
    "            extended_attention_mask,\n",
    "            model,\n",
    "            [(Node(0, 0, 0),)],\n",
    "            [],\n",
    "            device,\n",
    "            mean_acts = None,\n",
    "            att_list = None,\n",
    "            set_irrel_to_mean=False\n",
    ")"
   ]
  },
  {
   "cell_type": "code",
   "execution_count": 168,
   "id": "383a638b-3652-4c21-a6c5-dbc39618e3fb",
   "metadata": {
    "tags": []
   },
   "outputs": [
    {
     "name": "stdout",
     "output_type": "stream",
     "text": [
      "99.66% of the values are equal\n"
     ]
    },
    {
     "data": {
      "text/plain": [
       "0.9965959821428572"
      ]
     },
     "execution_count": 168,
     "metadata": {},
     "output_type": "execute_result"
    }
   ],
   "source": [
    "compare_same(cache['ln_final.hook_normalized'], out_a_ln)"
   ]
  },
  {
   "cell_type": "code",
   "execution_count": 165,
   "id": "ffbbaefd-5be9-4391-a84d-9bc91f449a2a",
   "metadata": {
    "tags": []
   },
   "outputs": [],
   "source": [
    "out_decomps, _, _, _ = prop_toy_model_4l(encoding_idxs,\n",
    "            extended_attention_mask,\n",
    "            model,\n",
    "            [(Node(0, 0, 0),)],\n",
    "            [],\n",
    "            device,\n",
    "            mean_acts = None,\n",
    "            att_list = None,\n",
    "            set_irrel_to_mean=False\n",
    ")\n",
    "output_total = out_decomps[0].rel + out_decomps[0].irrel"
   ]
  },
  {
   "cell_type": "code",
   "execution_count": 156,
   "id": "7e8756d6-2232-46bb-886f-ed85673b9abc",
   "metadata": {
    "tags": []
   },
   "outputs": [
    {
     "name": "stdout",
     "output_type": "stream",
     "text": [
      "torch.Size([1, 35, 48262])\n"
     ]
    }
   ],
   "source": [
    "print(logits.shape)"
   ]
  },
  {
   "cell_type": "code",
   "execution_count": 173,
   "id": "2e75d591-12f5-4844-bc64-cf22c7bc620e",
   "metadata": {
    "tags": []
   },
   "outputs": [
    {
     "name": "stdout",
     "output_type": "stream",
     "text": [
      "100.00% of the values are equal\n"
     ]
    },
    {
     "data": {
      "text/plain": [
       "0.999997039966374"
      ]
     },
     "execution_count": 173,
     "metadata": {},
     "output_type": "execute_result"
    }
   ],
   "source": [
    "compare_same(output_total, logits, atol=1) # error accumulated approaches 1e-4 in absolute value.\n"
   ]
  },
  {
   "cell_type": "code",
   "execution_count": 180,
   "id": "e870560f-8c57-4bb1-babb-1b9cbe897924",
   "metadata": {
    "tags": []
   },
   "outputs": [
    {
     "name": "stdout",
     "output_type": "stream",
     "text": [
      "\n",
      "def user(self, node, ret, order, version, read, settings):\n",
      "    \"\"\"export chemical plate\n",
      "\n",
      "    :param order: trip miss\n",
      "    :param version: strength scale\n",
      "    :param\n"
     ]
    }
   ],
   "source": [
    "print(prompts[0].clean_prompt)"
   ]
  },
  {
   "cell_type": "code",
   "execution_count": 43,
   "id": "b2304ba2-2910-45af-a3b2-b4f711d13690",
   "metadata": {
    "tags": []
   },
   "outputs": [],
   "source": [
    "text = prompts[0].clean_prompt\n",
    "logits, cache = model.run_with_cache(text)\n",
    "probs = logits.softmax(dim=-1)\n",
    "most_likely_next_tokens = model.tokenizer.batch_decode(logits.argmax(dim=-1)[0])"
   ]
  },
  {
   "cell_type": "code",
   "execution_count": 50,
   "id": "42026a08-7a8e-4ff0-8ea4-980cc5ac48b9",
   "metadata": {
    "tags": []
   },
   "outputs": [
    {
     "name": "stdout",
     "output_type": "stream",
     "text": [
      "tensor(0.4272, device='cuda:0')\n"
     ]
    }
   ],
   "source": [
    "print(probs[0, -1, model.to_single_token(tokens[pos_labels.index(\"C_def\")])])"
   ]
  },
  {
   "cell_type": "code",
   "execution_count": 45,
   "id": "16723852-f576-4638-83d2-56dfeec94194",
   "metadata": {
    "tags": []
   },
   "outputs": [
    {
     "name": "stdout",
     "output_type": "stream",
     "text": [
      "['.', 'The', ' get', '_', 'request', ',', ' resource', '):', ' name', '=', ' name', '=', ' **', \"='\", ' name', ',', ' status', '):', '\\n   ', ' \"\"\"', '\\n   ', 's', '.', '.', ' @', 'param', ' fields', ':', ' The', ' value', ' for', ' :', 'param', ' action', ':', ' the', ' stand', '\\n   ', ' :', 'param', ' status']\n"
     ]
    }
   ],
   "source": [
    "print(most_likely_next_tokens)"
   ]
  },
  {
   "cell_type": "code",
   "execution_count": 30,
   "id": "d1a37811-1234-4c4f-afb4-01d191a6cc91",
   "metadata": {
    "tags": []
   },
   "outputs": [
    {
     "name": "stdout",
     "output_type": "stream",
     "text": [
      "\n",
      "def resource(self, fields, shape, last, action, status, info):\n",
      "    \"\"\"trust worker register\n",
      "\n",
      "    :param last: dollar stand\n",
      "    :param action: currency program\n",
      "    :param\n"
     ]
    }
   ],
   "source": [
    "print(prompts[0].clean_prompt)"
   ]
  },
  {
   "cell_type": "code",
   "execution_count": 9,
   "id": "8a34abdc-0fdd-4a43-a0f5-1bbf119a3c3f",
   "metadata": {
    "tags": []
   },
   "outputs": [],
   "source": [
    "prompt_idx = 0"
   ]
  },
  {
   "cell_type": "code",
   "execution_count": 10,
   "id": "57b72e36-261c-40ab-9a6e-04478ff45064",
   "metadata": {
    "tags": []
   },
   "outputs": [
    {
     "name": "stdout",
     "output_type": "stream",
     "text": [
      "\n",
      "def group(self, update, index, port, start, string, size):\n",
      "    \"\"\"science while bell\n",
      "\n",
      "    :param port: property vision\n",
      "    :param start: guy force\n",
      "    :param\n",
      " string\n",
      "Tokenized prompt: ['<|BOS|>', '\\n', 'def', ' group', '(', 'self', ',', ' update', ',', ' index', ',', ' port', ',', ' start', ',', ' string', ',', ' size', '):', '\\n   ', ' \"\"\"', 'science', ' while', ' bell', '\\n\\n   ', ' :', 'param', ' port', ':', ' property', ' vision', '\\n   ', ' :', 'param', ' start', ':', ' guy', ' force', '\\n   ', ' :', 'param']\n",
      "Tokenized answer: [' string']\n"
     ]
    },
    {
     "data": {
      "text/html": [
       "<pre style=\"white-space:pre;overflow-x:auto;line-height:normal;font-family:Menlo,'DejaVu Sans Mono',consolas,'Courier New',monospace\">Performance on answer token:\n",
       "<span style=\"font-weight: bold\">Rank: </span><span style=\"color: #008080; text-decoration-color: #008080; font-weight: bold\">0</span><span style=\"font-weight: bold\">        Logit: </span><span style=\"color: #008080; text-decoration-color: #008080; font-weight: bold\">20.66</span><span style=\"font-weight: bold\"> Prob: </span><span style=\"color: #008080; text-decoration-color: #008080; font-weight: bold\">83.40</span><span style=\"font-weight: bold\">% Token: | string|</span>\n",
       "</pre>\n"
      ],
      "text/plain": [
       "Performance on answer token:\n",
       "\u001b[1mRank: \u001b[0m\u001b[1;36m0\u001b[0m\u001b[1m        Logit: \u001b[0m\u001b[1;36m20.66\u001b[0m\u001b[1m Prob: \u001b[0m\u001b[1;36m83.40\u001b[0m\u001b[1m% Token: | string|\u001b[0m\n"
      ]
     },
     "metadata": {},
     "output_type": "display_data"
    },
    {
     "name": "stdout",
     "output_type": "stream",
     "text": [
      "Top 0th token. Logit: 20.66 Prob: 83.40% Token: | string|\n",
      "Top 1th token. Logit: 16.97 Prob:  2.06% Token: | boolean|\n",
      "Top 2th token. Logit: 16.55 Prob:  1.36% Token: | int|\n",
      "Top 3th token. Logit: 16.16 Prob:  0.92% Token: | size|\n",
      "Top 4th token. Logit: 16.09 Prob:  0.86% Token: | end|\n",
      "Top 5th token. Logit: 16.05 Prob:  0.83% Token: | str|\n",
      "Top 6th token. Logit: 15.94 Prob:  0.74% Token: | strings|\n",
      "Top 7th token. Logit: 15.90 Prob:  0.71% Token: | bool|\n",
      "Top 8th token. Logit: 15.85 Prob:  0.67% Token: | start|\n",
      "Top 9th token. Logit: 15.38 Prob:  0.42% Token: | float|\n"
     ]
    },
    {
     "data": {
      "text/html": [
       "<pre style=\"white-space:pre;overflow-x:auto;line-height:normal;font-family:Menlo,'DejaVu Sans Mono',consolas,'Courier New',monospace\"><span style=\"font-weight: bold\">Ranks of the answer tokens:</span> <span style=\"font-weight: bold\">[(</span><span style=\"color: #008000; text-decoration-color: #008000\">' string'</span>, <span style=\"color: #008080; text-decoration-color: #008080; font-weight: bold\">0</span><span style=\"font-weight: bold\">)]</span>\n",
       "</pre>\n"
      ],
      "text/plain": [
       "\u001b[1mRanks of the answer tokens:\u001b[0m \u001b[1m[\u001b[0m\u001b[1m(\u001b[0m\u001b[32m' string'\u001b[0m, \u001b[1;36m0\u001b[0m\u001b[1m)\u001b[0m\u001b[1m]\u001b[0m\n"
      ]
     },
     "metadata": {},
     "output_type": "display_data"
    }
   ],
   "source": [
    "example_prompt = prompts[prompt_idx].clean_prompt\n",
    "tokens = model.to_str_tokens(example_prompt)\n",
    "\n",
    "example_answer = tokens[pos_labels.index(\"C_def\")]\n",
    "print(example_prompt)\n",
    "print(example_answer)\n",
    "transformer_lens.utils.test_prompt(example_prompt, example_answer, model, prepend_bos=True)"
   ]
  },
  {
   "cell_type": "code",
   "execution_count": 11,
   "id": "76d722ba-c7ac-4313-abeb-25fcb6147a08",
   "metadata": {},
   "outputs": [],
   "source": [
    "\n",
    "num_layers = len(model.blocks)\n",
    "seq_len = len(pos_labels)\n",
    "num_attention_heads = model.cfg.n_heads"
   ]
  },
  {
   "cell_type": "code",
   "execution_count": 12,
   "id": "e3aa1d53-4505-4be5-a13e-05c9c41c346d",
   "metadata": {
    "tags": []
   },
   "outputs": [],
   "source": [
    "corrupt_prompt = prompts[prompt_idx].corrupt_prompt['random_answer_doc']\n",
    "\n",
    "# corrupt_tokens = model.to_str_tokens(corrupt_prompt)\n",
    "corrupt_logits, corrupt_cache = model.run_with_cache(corrupt_prompt)\n",
    "corrupt_attention_outputs = [corrupt_cache['blocks.' + str(i) + '.attn.hook_z'] for i in range(num_layers)]\n",
    "corrupt_attention_outputs = torch.stack(corrupt_attention_outputs, dim=1).squeeze(0) # now layer, seq, n_heads, dim_attn (squeezed away the batch dim)\n",
    "old_shape = corrupt_attention_outputs.shape\n",
    "last_dim = old_shape[-2] * old_shape[-1]\n",
    "new_shape = old_shape[:-2] + (last_dim,)\n",
    "corrupt_attention_outputs = corrupt_attention_outputs.view(new_shape)"
   ]
  },
  {
   "cell_type": "code",
   "execution_count": 11,
   "id": "bd41cbcb-5c86-4b57-9e20-05b8b492100b",
   "metadata": {
    "tags": []
   },
   "outputs": [
    {
     "data": {
      "text/plain": [
       "torch.Size([4, 41, 512])"
      ]
     },
     "execution_count": 11,
     "metadata": {},
     "output_type": "execute_result"
    }
   ],
   "source": [
    "corrupt_attention_outputs.shape\n",
    "# corrupt_logits.shape"
   ]
  },
  {
   "cell_type": "code",
   "execution_count": 40,
   "id": "58ba2d43-cde8-4d71-8663-87a98b13258b",
   "metadata": {
    "tags": []
   },
   "outputs": [
    {
     "name": "stderr",
     "output_type": "stream",
     "text": [
      "/accounts/projects/binyu/georgiasimpression/.local/lib/python3.12/site-packages/transformers/modeling_utils.py:1080: FutureWarning: The `device` argument is deprecated and will be removed in v5 of Transformers.\n",
      "  warnings.warn(\n"
     ]
    },
    {
     "name": "stdout",
     "output_type": "stream",
     "text": [
      "Running inputs 0 to 64 (of 1312)\n",
      "Running inputs 64 to 128 (of 1312)\n",
      "Running inputs 128 to 192 (of 1312)\n",
      "Running inputs 192 to 256 (of 1312)\n",
      "Running inputs 256 to 320 (of 1312)\n",
      "Running inputs 320 to 384 (of 1312)\n",
      "Running inputs 384 to 448 (of 1312)\n",
      "Running inputs 448 to 512 (of 1312)\n",
      "Running inputs 512 to 576 (of 1312)\n",
      "Running inputs 576 to 640 (of 1312)\n",
      "Running inputs 640 to 704 (of 1312)\n",
      "Running inputs 704 to 768 (of 1312)\n",
      "Running inputs 768 to 832 (of 1312)\n",
      "Running inputs 832 to 896 (of 1312)\n",
      "Running inputs 896 to 960 (of 1312)\n",
      "Running inputs 960 to 1024 (of 1312)\n",
      "Running inputs 1024 to 1088 (of 1312)\n",
      "Running inputs 1088 to 1152 (of 1312)\n",
      "Running inputs 1152 to 1216 (of 1312)\n",
      "Running inputs 1216 to 1280 (of 1312)\n",
      "Running inputs 1280 to 1312 (of 1312)\n"
     ]
    }
   ],
   "source": [
    "import itertools\n",
    "import functools\n",
    "encoding = model.tokenizer.encode_plus(prompts[prompt_idx].clean_prompt, \n",
    "                                 add_special_tokens=True, \n",
    "                                 max_length=512,\n",
    "                                 truncation=True, \n",
    "                                 # prepend_bos=True, # currently dealing with this: make sure BOS prepend matches because currently the sequence lengths are off-by-one\n",
    "                                 padding = \"longest\", \n",
    "                                 return_attention_mask=True, \n",
    "                                 return_tensors=\"pt\").to(device)\n",
    "encoding_idxs, attention_mask = encoding.input_ids, encoding.attention_mask\n",
    "\n",
    "# god help us if we want to make HF prepend the BOS token, which this model expects\n",
    "# so do it ourselves manually\n",
    "attention_mask = torch.tensor([[1] + attention_mask.cpu().numpy().tolist()[0]], device=device)\n",
    "encoding_idxs = torch.tensor([[1] + encoding_idxs.cpu().numpy().tolist()[0]], device=device)\n",
    "input_shape = encoding_idxs.size()\n",
    "extended_attention_mask = get_extended_attention_mask(attention_mask, \n",
    "                                                        input_shape, \n",
    "                                                        model,\n",
    "                                                        device)\n",
    "\n",
    "ranges = [\n",
    "        [layer for layer in range(num_layers)],\n",
    "        [sequence_position for sequence_position in range(seq_len)],\n",
    "        [attention_head_idx for attention_head_idx in range(num_attention_heads)]\n",
    "]\n",
    "source_nodes = [Node(*x) for x in itertools.product(*ranges)]\n",
    "ablation_sets = [(n,) for n in source_nodes]\n",
    "\n",
    "target_nodes = []\n",
    "\n",
    "# cache activations for faster batch run\n",
    "# out_decomp, _, _, pre_layer_activations = prop_toy_model_4l(encoding_idxs[0:1, :], extended_attention_mask, model, [ablation_sets[0]], target_nodes=target_nodes, device=device, mean_acts=corrupt_attention_outputs, set_irrel_to_mean=True)\n",
    "\n",
    "prop_fn = lambda ablation_list: prop_toy_model_4l(encoding_idxs[0:1, :], extended_attention_mask, model, ablation_list, target_nodes=target_nodes, device=device, mean_acts=corrupt_attention_outputs, set_irrel_to_mean=True)\n",
    "out_decomps, target_decomps = batch_run(prop_fn, ablation_sets) #, num_at_time=32)"
   ]
  },
  {
   "cell_type": "code",
   "execution_count": 14,
   "id": "d24e75a7-0d09-4573-a40d-90bd285aaff4",
   "metadata": {
    "tags": []
   },
   "outputs": [
    {
     "name": "stdout",
     "output_type": "stream",
     "text": [
      "tensor(20.6641, device='cuda:0')\n"
     ]
    }
   ],
   "source": [
    "logits, cache = model.run_with_cache(prompts[prompt_idx].clean_prompt)\n",
    "\n",
    "correct_logit_idx = model.to_single_token(tokens[pos_labels.index(\"C_def\")])\n",
    "print(logits[0, -1, correct_logit_idx])\n"
   ]
  },
  {
   "cell_type": "code",
   "execution_count": 56,
   "id": "cf3eec51-ab45-4fc9-81dc-f2a691847f05",
   "metadata": {
    "collapsed": true,
    "jupyter": {
     "outputs_hidden": true,
     "source_hidden": true
    },
    "tags": []
   },
   "outputs": [
    {
     "name": "stdout",
     "output_type": "stream",
     "text": [
      "18.428976\n",
      "[ 4.0796576  2.415863   7.0873547  5.1420507  5.5726786  4.3406076\n",
      " 20.308504   9.830674   9.087577  15.697247  10.331891   9.550322\n",
      "  9.558107 ]\n",
      "2.415863\n"
     ]
    }
   ],
   "source": [
    "# just a check\n",
    "\n",
    "output = out_decomps[0].rel + out_decomps[0].irrel\n",
    "tokens = model.to_str_tokens(text)\n",
    "\n",
    "# print(tokens.shape)\n",
    "correct_logit_idx = model.to_single_token(tokens[pos_labels.index(\"C_def\")])\n",
    "correct_logit = output[0, -1, correct_logit_idx]\n",
    "incorrect_seq_idxs = [pos_labels.index(\"A_def\"), pos_labels.index(\"B_def\"),\n",
    "                 pos_labels.index(\"rand0\"),\n",
    "                 pos_labels.index(\"rand1\"),\n",
    "                 pos_labels.index(\"rand2\"),\n",
    "                 pos_labels.index(\"rand3\"),\n",
    "                 pos_labels.index(\"rand4\"),\n",
    "                 pos_labels.index(\"rand5\"),\n",
    "                 pos_labels.index(\"rand6\"),\n",
    "                 pos_labels.index(\"rand7\"),\n",
    "                 pos_labels.index(\"rand8\"),\n",
    "                 pos_labels.index(\"rand9\"),\n",
    "                 pos_labels.index(\"rand10\"),\n",
    "                 ]\n",
    "incorrect_logit_idxs = [model.to_single_token(tokens[idx]) for idx in incorrect_seq_idxs]\n",
    "incorrect_logits = output[0, -1, incorrect_logit_idxs]\n",
    "\n",
    "diffs = (correct_logit - incorrect_logits)\n",
    "print(correct_logit)\n",
    "print(diffs)\n",
    "print(np.min(diffs))"
   ]
  },
  {
   "cell_type": "code",
   "execution_count": 41,
   "id": "00822bb1-8fec-4a7f-b6f9-fbe3caefcdeb",
   "metadata": {
    "tags": []
   },
   "outputs": [],
   "source": [
    "text = prompts[prompt_idx].clean_prompt\n",
    "\n",
    "relevances = np.zeros((num_layers, seq_len, num_attention_heads))\n",
    "tokens = model.to_str_tokens(text) # NOT to_tokens(text)\n",
    "Result = collections.namedtuple('Result', ('ablation_set', 'score'))\n",
    "results = []\n",
    "\n",
    "for layer_idx in range(num_layers):\n",
    "    for seq_pos in range(seq_len):\n",
    "        for head_idx in range(num_attention_heads):\n",
    "            score = 0\n",
    "            decomp = out_decomps[layer_idx * seq_len * num_attention_heads + seq_pos * num_attention_heads + head_idx]\n",
    "            correct_logit_idx = model.to_single_token(tokens[pos_labels.index(\"C_def\")])\n",
    "            rel_correct_logit = decomp.rel[0, -1, correct_logit_idx]\n",
    "            incorrect_seq_idxs = [pos_labels.index(\"A_def\"), pos_labels.index(\"B_def\"),\n",
    "                             pos_labels.index(\"rand0\"),\n",
    "                             pos_labels.index(\"rand1\"),\n",
    "                             pos_labels.index(\"rand2\"),\n",
    "                             pos_labels.index(\"rand3\"),\n",
    "                             pos_labels.index(\"rand4\"),\n",
    "                             pos_labels.index(\"rand5\"),\n",
    "                             pos_labels.index(\"rand6\"),\n",
    "                             pos_labels.index(\"rand7\"),\n",
    "                             pos_labels.index(\"rand8\"),\n",
    "                             pos_labels.index(\"rand9\"),\n",
    "                             pos_labels.index(\"rand10\"),\n",
    "                             ]\n",
    "            incorrect_logit_idxs = [model.to_single_token(tokens[idx]) for idx in incorrect_seq_idxs]\n",
    "            rel_incorrect_logits = decomp.rel[0, -1, incorrect_logit_idxs]\n",
    "            score = np.min(rel_correct_logit - rel_incorrect_logits)\n",
    "            relevances[layer_idx, seq_pos, head_idx] = score\n",
    "            results.append(Result(decomp.ablation_set, score))\n",
    "sums_per_layer = np.sum(relevances, axis=(1, 2))\n",
    "sums_per_layer[sums_per_layer == 0] = -1e-8\n",
    "normalized_relevances = relevances / np.expand_dims(sums_per_layer, (1, 2))\n",
    "results.sort(key=operator.attrgetter('score'), reverse=True)"
   ]
  },
  {
   "cell_type": "code",
   "execution_count": 42,
   "id": "2c587efc-2e0f-4c08-a1f9-553c956ab249",
   "metadata": {
    "tags": []
   },
   "outputs": [
    {
     "data": {
      "image/png": "[encoded data removed]",
      "text/plain": [
       "<Figure size 640x480 with 2 Axes>"
      ]
     },
     "metadata": {},
     "output_type": "display_data"
    }
   ],
   "source": [
    "\n",
    "s = sns.heatmap(normalized_relevances[:, -1, :], xticklabels = range(num_attention_heads), yticklabels = range(num_layers), cmap='Blues', cbar_kws={'label': ''})\n",
    "s.set(xlabel='Head', ylabel='Layer')\n",
    "plt.title(\"relevance of nodes at last sequence position to logits, normalized for mean relevance among heads in layer\")\n",
    "plt.show()"
   ]
  },
  {
   "cell_type": "code",
   "execution_count": 18,
   "id": "251797fb-2882-4f1c-95c7-8fddd1dfebd1",
   "metadata": {
    "tags": []
   },
   "outputs": [
    {
     "name": "stdout",
     "output_type": "stream",
     "text": [
      "Result(ablation_set=(Node(layer_idx=3, sequence_idx=40, attn_head_idx=0),), score=3.5854855)\n",
      "Result(ablation_set=(Node(layer_idx=3, sequence_idx=40, attn_head_idx=6),), score=1.620693)\n",
      "Result(ablation_set=(Node(layer_idx=2, sequence_idx=40, attn_head_idx=3),), score=0.26229173)\n",
      "Result(ablation_set=(Node(layer_idx=3, sequence_idx=40, attn_head_idx=7),), score=0.1636591)\n",
      "Result(ablation_set=(Node(layer_idx=0, sequence_idx=15, attn_head_idx=5),), score=0.11920023)\n",
      "Result(ablation_set=(Node(layer_idx=2, sequence_idx=40, attn_head_idx=7),), score=0.09153849)\n",
      "Result(ablation_set=(Node(layer_idx=0, sequence_idx=15, attn_head_idx=0),), score=0.033045173)\n",
      "Result(ablation_set=(Node(layer_idx=1, sequence_idx=34, attn_head_idx=1),), score=0.02659972)\n",
      "Result(ablation_set=(Node(layer_idx=2, sequence_idx=29, attn_head_idx=7),), score=0.025986627)\n",
      "Result(ablation_set=(Node(layer_idx=1, sequence_idx=27, attn_head_idx=1),), score=0.024690509)\n",
      "Result(ablation_set=(Node(layer_idx=2, sequence_idx=18, attn_head_idx=1),), score=0.022711635)\n",
      "Result(ablation_set=(Node(layer_idx=1, sequence_idx=15, attn_head_idx=3),), score=0.020621777)\n",
      "Result(ablation_set=(Node(layer_idx=2, sequence_idx=38, attn_head_idx=7),), score=0.018891394)\n",
      "Result(ablation_set=(Node(layer_idx=1, sequence_idx=19, attn_head_idx=3),), score=0.017226428)\n",
      "Result(ablation_set=(Node(layer_idx=1, sequence_idx=34, attn_head_idx=6),), score=0.017215706)\n",
      "Result(ablation_set=(Node(layer_idx=0, sequence_idx=27, attn_head_idx=0),), score=0.015927196)\n",
      "Result(ablation_set=(Node(layer_idx=1, sequence_idx=15, attn_head_idx=7),), score=0.015478581)\n",
      "Result(ablation_set=(Node(layer_idx=1, sequence_idx=30, attn_head_idx=5),), score=0.01494772)\n",
      "Result(ablation_set=(Node(layer_idx=1, sequence_idx=30, attn_head_idx=1),), score=0.0147103)\n",
      "Result(ablation_set=(Node(layer_idx=1, sequence_idx=35, attn_head_idx=5),), score=0.014111102)\n"
     ]
    }
   ],
   "source": [
    "for result in results[:20]:\n",
    "    print(result)"
   ]
  },
  {
   "cell_type": "code",
   "execution_count": null,
   "id": "2f795c37-4e33-40c0-8564-4173ed9e2bd9",
   "metadata": {
    "collapsed": true,
    "jupyter": {
     "outputs_hidden": true,
     "source_hidden": true
    },
    "tags": []
   },
   "outputs": [
    {
     "name": "stdout",
     "output_type": "stream",
     "text": [
      "Running inputs 0 to 32 (of 32)\n"
     ]
    }
   ],
   "source": [
    "import itertools\n",
    "import functools\n",
    "encoding = model.tokenizer.encode_plus(prompts[prompt_idx].clean_prompt, \n",
    "                                 add_special_tokens=True, \n",
    "                                 max_length=512,\n",
    "                                 truncation=True, \n",
    "                                 padding = \"longest\", \n",
    "                                 return_attention_mask=True, \n",
    "                                 return_tensors=\"pt\").to(device)\n",
    "encoding_idxs, attention_mask = encoding.input_ids, encoding.attention_mask\n",
    "\n",
    "# god help us if we want to make HF prepend the BOS token, which this model expects\n",
    "# so do it ourselves manually\n",
    "attention_mask = torch.tensor([[1] + attention_mask.cpu().numpy().tolist()[0]], device=device)\n",
    "encoding_idxs = torch.tensor([[1] + encoding_idxs.cpu().numpy().tolist()[0]], device=device)\n",
    "input_shape = encoding_idxs.size()\n",
    "extended_attention_mask = get_extended_attention_mask(attention_mask, \n",
    "                                                        input_shape, \n",
    "                                                        model,\n",
    "                                                        device)\n",
    "'''\n",
    "ranges = [\n",
    "        [layer for layer in range(num_layers)],\n",
    "        [sequence_position for sequence_position in range(seq_len)],\n",
    "        [attention_head_idx for attention_head_idx in range(num_attention_heads)]\n",
    "]\n",
    "source_nodes = [Node(*x) for x in itertools.product(*ranges)]\n",
    "ablation_sets = [(n,) for n in source_nodes]\n",
    "\n",
    "'''\n",
    "ablation_sets = []\n",
    "for layer in range(num_layers):\n",
    "    for attn_head in range(num_attention_heads):\n",
    "        ablation_sets.append(tuple(Node(layer, seq_pos, attn_head) for seq_pos in range(seq_len)))\n",
    "\n",
    "target_nodes = []\n",
    "\n",
    "# cache activations for faster batch run\n",
    "# out_decomp, _, _, pre_layer_activations = prop_toy_model_4l(encoding_idxs[0:1, :], extended_attention_mask, model, [ablation_sets[0]], target_nodes=target_nodes, device=device, mean_acts=corrupt_attention_outputs, set_irrel_to_mean=True)\n",
    "\n",
    "prop_fn = lambda ablation_list: prop_toy_model_4l(encoding_idxs[0:1, :], extended_attention_mask, model, ablation_list, target_nodes=target_nodes, device=device, mean_acts=corrupt_attention_outputs, set_irrel_to_mean=True)\n",
    "out_decomps, target_decomps = batch_run(prop_fn, ablation_sets) #, num_at_time=32)"
   ]
  },
  {
   "cell_type": "code",
   "execution_count": null,
   "id": "e7924c3f-1be5-43ea-9e96-0c6d1d40519d",
   "metadata": {
    "jupyter": {
     "source_hidden": true
    },
    "tags": []
   },
   "outputs": [],
   "source": [
    "text = prompts[prompt_idx].clean_prompt\n",
    "\n",
    "relevances = np.zeros((num_layers, num_attention_heads))\n",
    "tokens = model.to_str_tokens(text) # NOT to_tokens(text)\n",
    "Result = collections.namedtuple('Result', ('ablation_set', 'score'))\n",
    "results = []\n",
    "\n",
    "for layer_idx in range(num_layers):\n",
    "    for head_idx in range(num_attention_heads):\n",
    "        score = 0\n",
    "        decomp = out_decomps[layer_idx * num_attention_heads + head_idx]\n",
    "        correct_logit_idx = model.to_single_token(tokens[pos_labels.index(\"C_def\")])\n",
    "        rel_correct_logit = decomp.rel[0, -1, correct_logit_idx]\n",
    "        incorrect_seq_idxs = [pos_labels.index(\"A_def\"), pos_labels.index(\"B_def\"),\n",
    "                         pos_labels.index(\"rand0\"),\n",
    "                         pos_labels.index(\"rand1\"),\n",
    "                         pos_labels.index(\"rand2\"),\n",
    "                         pos_labels.index(\"rand3\"),\n",
    "                         pos_labels.index(\"rand4\"),\n",
    "                         pos_labels.index(\"rand5\"),\n",
    "                         pos_labels.index(\"rand6\"),\n",
    "                         pos_labels.index(\"rand7\"),\n",
    "                         pos_labels.index(\"rand8\"),\n",
    "                         pos_labels.index(\"rand9\"),\n",
    "                         pos_labels.index(\"rand10\"),\n",
    "                         ]\n",
    "        incorrect_logit_idxs = [model.to_single_token(tokens[idx]) for idx in incorrect_seq_idxs]\n",
    "        rel_incorrect_logits = decomp.rel[0, -1, incorrect_logit_idxs]\n",
    "        score = np.min(rel_correct_logit - rel_incorrect_logits)\n",
    "        relevances[layer_idx, head_idx] = score\n",
    "        results.append(Result(decomp.ablation_set, score))\n",
    "sums_per_layer = np.sum(relevances, axis=1)\n",
    "sums_per_layer[sums_per_layer == 0] = -1e-8\n",
    "normalized_relevances = relevances / np.expand_dims(sums_per_layer, 1)\n",
    "results.sort(key=operator.attrgetter('score'), reverse=True)"
   ]
  },
  {
   "cell_type": "code",
   "execution_count": null,
   "id": "81d9798e-525f-4d21-8638-508f4e1964dc",
   "metadata": {
    "collapsed": true,
    "jupyter": {
     "outputs_hidden": true,
     "source_hidden": true
    },
    "tags": []
   },
   "outputs": [
    {
     "name": "stdout",
     "output_type": "stream",
     "text": [
      "3.0:  3.5854855\n",
      "3.6:  1.620693\n",
      "2.3:  0.2665378\n",
      "3.7:  0.1636591\n",
      "2.7:  0.11762053\n",
      "0.0:  0.022501111\n",
      "0.3:  0.015666306\n",
      "2.0:  0.00905484\n",
      "1.7:  0.0027136207\n",
      "1.3:  0.0024920702\n",
      "2.1:  -0.0019327998\n",
      "1.2:  -0.0033437312\n",
      "2.6:  -0.0044555664\n",
      "0.5:  -0.0048312545\n",
      "0.1:  -0.006903589\n",
      "0.6:  -0.008307397\n",
      "0.2:  -0.011153758\n",
      "1.0:  -0.012790024\n",
      "0.7:  -0.022209883\n",
      "0.4:  -0.023172408\n"
     ]
    }
   ],
   "source": [
    "for result in results[:20]:\n",
    "    print(\"%d.%d: \" % (result.ablation_set[0].layer_idx, result.ablation_set[0].attn_head_idx), result.score)"
   ]
  },
  {
   "cell_type": "code",
   "execution_count": 76,
   "id": "4607a538-cd2c-4f94-8b93-40ae49a3c1aa",
   "metadata": {
    "tags": []
   },
   "outputs": [
    {
     "data": {
      "text/plain": [
       "'\\nArg movers: 3.0, 3.6 at last position\\nInduction: 1.4 at last position\\nPrev token: 0.2 at B_doc, or the one after?\\n'"
      ]
     },
     "execution_count": 76,
     "metadata": {},
     "output_type": "execute_result"
    }
   ],
   "source": [
    "'''\n",
    "Arg movers: 3.0, 3.6 at last position (40)\n",
    "Induction: 1.4 at last position (40)\n",
    "Prev token: 0.2 at B_doc, or the one after? (34) or (35) # can't be found by patching, maybe can be found here\n",
    "Prev token: 2.0 at C_def (15)\n",
    "Prev token: 1.4 at the fourth comma?? (14)\n",
    "\n",
    "Also 0.5 at B_def (13), C_def (15) and B_doc (34), (0.4 relevant to 1.4), 1.2.\n",
    "Also 2.3, 0.5, 1.2, 0.0, 0.1, 2.2, in roughly that order.\n",
    "'''"
   ]
  },
  {
   "cell_type": "code",
   "execution_count": 43,
   "id": "8878cba2-3e09-4b74-83e8-a1257cac958d",
   "metadata": {
    "tags": []
   },
   "outputs": [],
   "source": [
    "results_per_iter = []\n",
    "results_per_iter.append(results)"
   ]
  },
  {
   "cell_type": "code",
   "execution_count": 44,
   "id": "da921e36-58d5-449b-b6ef-081a678e4822",
   "metadata": {
    "tags": []
   },
   "outputs": [],
   "source": [
    "outliers = results[:2]"
   ]
  },
  {
   "cell_type": "code",
   "execution_count": 23,
   "id": "e509c4ea-347b-422f-9e90-0aa9a899869e",
   "metadata": {
    "tags": []
   },
   "outputs": [
    {
     "data": {
      "text/plain": [
       "Node(layer_idx=3, sequence_idx=40, attn_head_idx=7)"
      ]
     },
     "execution_count": 23,
     "metadata": {},
     "output_type": "execute_result"
    }
   ],
   "source": [
    "results[0].ablation_set[0]"
   ]
  },
  {
   "cell_type": "code",
   "execution_count": 50,
   "id": "fd76c254-03eb-4c15-9c36-610b625ff69e",
   "metadata": {
    "tags": []
   },
   "outputs": [
    {
     "name": "stdout",
     "output_type": "stream",
     "text": [
      "[Node(layer_idx=3, sequence_idx=40, attn_head_idx=0), Node(layer_idx=3, sequence_idx=40, attn_head_idx=6)]\n"
     ]
    }
   ],
   "source": [
    "print(target_nodes)"
   ]
  },
  {
   "cell_type": "code",
   "execution_count": null,
   "id": "bf526208-0ff7-492d-baed-e3d27ec0880c",
   "metadata": {},
   "outputs": [],
   "source": [
    "# def calculate_decompositions(omit=)"
   ]
  },
  {
   "cell_type": "code",
   "execution_count": 46,
   "id": "86f82034-e351-4b67-87f8-d8054bd27e33",
   "metadata": {
    "tags": []
   },
   "outputs": [
    {
     "name": "stdout",
     "output_type": "stream",
     "text": [
      "Running inputs 0 to 64 (of 1312)\n",
      "Running inputs 64 to 128 (of 1312)\n",
      "Running inputs 128 to 192 (of 1312)\n",
      "Running inputs 192 to 256 (of 1312)\n",
      "Running inputs 256 to 320 (of 1312)\n",
      "Running inputs 320 to 384 (of 1312)\n",
      "Running inputs 384 to 448 (of 1312)\n",
      "Running inputs 448 to 512 (of 1312)\n",
      "Running inputs 512 to 576 (of 1312)\n",
      "Running inputs 576 to 640 (of 1312)\n",
      "Running inputs 640 to 704 (of 1312)\n",
      "Running inputs 704 to 768 (of 1312)\n",
      "Running inputs 768 to 832 (of 1312)\n",
      "Running inputs 832 to 896 (of 1312)\n",
      "Running inputs 896 to 960 (of 1312)\n",
      "Running inputs 960 to 1024 (of 1312)\n",
      "Running inputs 1024 to 1088 (of 1312)\n",
      "Running inputs 1088 to 1152 (of 1312)\n",
      "Running inputs 1152 to 1216 (of 1312)\n",
      "Running inputs 1216 to 1280 (of 1312)\n",
      "Running inputs 1280 to 1312 (of 1312)\n"
     ]
    }
   ],
   "source": [
    "ranges = [\n",
    "        [layer for layer in range(num_layers)],\n",
    "        [sequence_position for sequence_position in range(seq_len)],\n",
    "        [attention_head_idx for attention_head_idx in range(num_attention_heads)]\n",
    "]\n",
    "source_nodes = [Node(*x) for x in itertools.product(*ranges)]\n",
    "ablation_sets = [(n,) for n in source_nodes]\n",
    "\n",
    "target_nodes = [outlier.ablation_set[0] for outlier in outliers]\n",
    "\n",
    "# cache activations for faster batch run\n",
    "# out_decomp, _, _, pre_layer_activations = prop_toy_model_4l(encoding_idxs[0:1, :], extended_attention_mask, model, [ablation_sets[0]], target_nodes=target_nodes, device=device, mean_acts=corrupt_attention_outputs, set_irrel_to_mean=True)\n",
    "\n",
    "prop_fn = lambda ablation_list: prop_toy_model_4l(encoding_idxs[0:1, :], extended_attention_mask, model, ablation_list, target_nodes=target_nodes, device=device, mean_acts=corrupt_attention_outputs, set_irrel_to_mean=True)\n",
    "out_decomps, target_decomps = batch_run(prop_fn, ablation_sets)"
   ]
  },
  {
   "cell_type": "code",
   "execution_count": 52,
   "id": "0f8943bc-7273-4e5c-acb5-54a908d892dc",
   "metadata": {},
   "outputs": [],
   "source": [
    "relevances = np.zeros((num_layers, seq_len, num_attention_heads))\n",
    "results = []\n",
    "for layer_idx in range(num_layers):\n",
    "    for seq_pos in range(seq_len):\n",
    "        for head_idx in range(num_attention_heads):\n",
    "            score = 0\n",
    "            target_decomp = target_decomps[layer_idx * seq_len * num_attention_heads + seq_pos * num_attention_heads + head_idx]\n",
    "\n",
    "            for i in range(len(target_decomp.target_nodes)):\n",
    "                rels_magnitude = torch.mean(abs(target_decomp.rels[i])) # np.mean if you are on cpu\n",
    "                irrels_magnitude = torch.mean(abs(target_decomp.irrels[i])) # np.mean if you are on cpu\n",
    "                target_node_score = rels_magnitude / (rels_magnitude + irrels_magnitude)\n",
    "                score += (target_node_score)\n",
    "            if target_decomp.ablation_set[0] in target_nodes:\n",
    "                score = 0\n",
    "            relevances[layer_idx, seq_pos, head_idx] = score\n",
    "\n",
    "\n",
    "sums_per_layer = np.sum(relevances, axis=(1, 2))\n",
    "sums_per_layer[sums_per_layer == 0] = -1e-8\n",
    "normalized_relevances = relevances / np.expand_dims(sums_per_layer, (1, 2))\n",
    "\n",
    "for layer_idx in range(num_layers):\n",
    "    for seq_pos in range(seq_len):\n",
    "        for head_idx in range(num_attention_heads):\n",
    "            target_decomp = target_decomps[layer_idx * seq_len * num_attention_heads + seq_pos * num_attention_heads + head_idx]\n",
    "            results.append(Result(target_decomp.ablation_set, normalized_relevances[layer_idx, seq_pos, head_idx]))\n",
    "\n",
    "results.sort(key=operator.attrgetter('score'), reverse=True)"
   ]
  },
  {
   "cell_type": "code",
   "execution_count": 53,
   "id": "44c4437c-4ee3-4315-ac90-7f8f030b9c0b",
   "metadata": {},
   "outputs": [
    {
     "data": {
      "image/png": "[encoded data removed]",
      "text/plain": [
       "<Figure size 640x480 with 2 Axes>"
      ]
     },
     "metadata": {},
     "output_type": "display_data"
    }
   ],
   "source": [
    "\n",
    "s = sns.heatmap(normalized_relevances[:, -1, :], xticklabels = range(num_attention_heads), yticklabels = range(num_layers), cmap='Blues', cbar_kws={'label': ''})\n",
    "s.set(xlabel='Head', ylabel='Layer')\n",
    "plt.title(\"relevance of nodes at last sequence position to 'arg mover' heads, normalized\")\n",
    "plt.show()"
   ]
  },
  {
   "cell_type": "code",
   "execution_count": 54,
   "id": "70bad1d8-9349-4748-b4ee-a1d68b51e49c",
   "metadata": {
    "tags": []
   },
   "outputs": [
    {
     "name": "stdout",
     "output_type": "stream",
     "text": [
      "Result(ablation_set=(Node(layer_idx=1, sequence_idx=40, attn_head_idx=4),), score=0.032711816531185205)\n",
      "Result(ablation_set=(Node(layer_idx=0, sequence_idx=15, attn_head_idx=5),), score=0.030794397106076284)\n",
      "Result(ablation_set=(Node(layer_idx=1, sequence_idx=33, attn_head_idx=4),), score=0.026381776620932666)\n",
      "Result(ablation_set=(Node(layer_idx=0, sequence_idx=15, attn_head_idx=0),), score=0.025318222446663194)\n",
      "Result(ablation_set=(Node(layer_idx=1, sequence_idx=16, attn_head_idx=4),), score=0.024339840176474347)\n",
      "Result(ablation_set=(Node(layer_idx=0, sequence_idx=27, attn_head_idx=5),), score=0.02243953862044958)\n",
      "Result(ablation_set=(Node(layer_idx=1, sequence_idx=16, attn_head_idx=0),), score=0.0213306289177877)\n",
      "Result(ablation_set=(Node(layer_idx=2, sequence_idx=35, attn_head_idx=3),), score=0.021242188012500232)\n",
      "Result(ablation_set=(Node(layer_idx=2, sequence_idx=16, attn_head_idx=0),), score=0.019600634980159938)\n",
      "Result(ablation_set=(Node(layer_idx=0, sequence_idx=15, attn_head_idx=1),), score=0.019284765882146473)\n",
      "Result(ablation_set=(Node(layer_idx=0, sequence_idx=1, attn_head_idx=0),), score=0.018793657094622364)\n",
      "Result(ablation_set=(Node(layer_idx=1, sequence_idx=15, attn_head_idx=0),), score=0.01821248862553926)\n",
      "Result(ablation_set=(Node(layer_idx=0, sequence_idx=1, attn_head_idx=1),), score=0.01781732569178185)\n",
      "Result(ablation_set=(Node(layer_idx=0, sequence_idx=34, attn_head_idx=5),), score=0.017780765151210905)\n",
      "Result(ablation_set=(Node(layer_idx=1, sequence_idx=35, attn_head_idx=4),), score=0.017603480039369578)\n",
      "Result(ablation_set=(Node(layer_idx=0, sequence_idx=34, attn_head_idx=1),), score=0.01742664348219968)\n",
      "Result(ablation_set=(Node(layer_idx=2, sequence_idx=15, attn_head_idx=5),), score=0.01665382625904511)\n",
      "Result(ablation_set=(Node(layer_idx=2, sequence_idx=28, attn_head_idx=3),), score=0.01660024527291989)\n",
      "Result(ablation_set=(Node(layer_idx=1, sequence_idx=27, attn_head_idx=2),), score=0.01655400459638443)\n",
      "Result(ablation_set=(Node(layer_idx=1, sequence_idx=15, attn_head_idx=4),), score=0.01564419433768002)\n"
     ]
    }
   ],
   "source": [
    "for result in results[:20]:\n",
    "    print(result)\n",
    "    \n",
    "'''\n",
    "Arg movers: 3.0, 3.6 at last position (40)\n",
    "Induction: 1.4 at last position (40)\n",
    "Prev token: 0.2 at B_doc, or the one after? (34) or (35) # can't be found by patching, maybe can be found here\n",
    "Prev token: 2.0 at C_def (15)\n",
    "Prev token: 1.4 at the fourth comma?? (14)\n",
    "\n",
    "Also 0.5 at B_def (13), C_def (15) and B_doc (34), (0.4 relevant to 1.4), 1.2.\n",
    "Also 2.3, 0.5, 1.2, 0.0, 0.1, 2.2, in roughly that order.\n",
    "'''"
   ]
  },
  {
   "cell_type": "code",
   "execution_count": null,
   "id": "5eed5161-4318-4354-908e-026debb8e2b0",
   "metadata": {},
   "outputs": [],
   "source": []
  }
 ],
 "metadata": {
  "kernelspec": {
   "display_name": "Python 3.12 (ipykernel)",
   "language": "python",
   "name": "python3.12"
  },
  "language_info": {
   "codemirror_mode": {
    "name": "ipython",
    "version": 3
   },
   "file_extension": ".py",
   "mimetype": "text/x-python",
   "name": "python",
   "nbconvert_exporter": "python",
   "pygments_lexer": "ipython3",
   "version": "3.12.2"
  }
 },
 "nbformat": 4,
 "nbformat_minor": 5
}
