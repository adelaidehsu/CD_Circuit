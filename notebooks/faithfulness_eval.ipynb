{
 "cells": [
  {
   "cell_type": "code",
   "execution_count": 1,
   "id": "5c99f7a5-8b3a-444d-9ac1-765c87f89c84",
   "metadata": {
    "tags": []
   },
   "outputs": [],
   "source": [
    "%load_ext autoreload\n",
    "%autoreload 2"
   ]
  },
  {
   "cell_type": "code",
   "execution_count": 2,
   "id": "2f655dfd-4efb-44dd-82c6-36c7c02dff83",
   "metadata": {
    "tags": []
   },
   "outputs": [],
   "source": [
    "import argparse\n",
    "import numpy as np\n",
    "import os\n",
    "import pandas as pd\n",
    "import scipy as sp\n",
    "import sys\n",
    "import torch\n",
    "import torch.nn.functional as F\n",
    "import warnings\n",
    "import random\n",
    "import collections\n",
    "\n",
    "# CD-T Imports\n",
    "import math\n",
    "import tqdm\n",
    "import seaborn as sns\n",
    "import matplotlib.pyplot as plt\n",
    "import pickle\n",
    "import itertools\n",
    "import operator\n",
    "\n",
    "from torch import nn\n",
    "\n",
    "warnings.filterwarnings(\"ignore\")\n",
    "\n",
    "base_dir = os.path.split(os.getcwd())[0]\n",
    "sys.path.append(base_dir)\n",
    "\n",
    "from argparse import Namespace\n",
    "from pyfunctions.cdt_basic import *\n",
    "from pyfunctions.cdt_source_to_target import *\n",
    "from pyfunctions.faithfulness_ablations import *\n",
    "from pyfunctions.ioi_dataset import IOIDataset\n",
    "from pyfunctions.faithfulness_ablations import logits_to_ave_logit_diff_2, add_mean_ablation_hook# add_knock_out_hook\n",
    "\n",
    "from sklearn import preprocessing\n",
    "from sklearn.model_selection import train_test_split\n",
    "from torch.utils.data import DataLoader, RandomSampler, SequentialSampler, TensorDataset\n",
    "from transformers import AutoTokenizer, AutoModel\n",
    "from transformers import GPT2Tokenizer, GPT2Model\n",
    "from pyfunctions.wrappers import Node, AblationSet"
   ]
  },
  {
   "cell_type": "code",
   "execution_count": null,
   "id": "48aaa819-3122-4c13-9379-a532e4e860dc",
   "metadata": {
    "tags": []
   },
   "outputs": [],
   "source": [
    "device = 'cuda:0' if torch.cuda.is_available() else 'cpu'\n",
    "torch.autograd.set_grad_enabled(False)\n",
    "# Model code adapted from Callum McDougall's notebook for ARENA on reproducing the IOI paper using TransformerLens.\n",
    "# This makes some sense, since EasyTransformer, the repo/lib released by the IOI authors, was forked from TransformerLens.\n",
    "# In fact, this makes the reproduction a little bit more faithful, since they most likely do certain things such as \n",
    "# \"folding\" LayerNorms to improve their interpretability results, and we are able to do the same by using TransformerLens.\n",
    "\n",
    "from transformer_lens import utils, HookedTransformer, ActivationCache\n",
    "model = HookedTransformer.from_pretrained(\"gpt2-small\",\n",
    "                                          center_unembed=True,\n",
    "                                          center_writing_weights=True,\n",
    "                                          fold_ln=False,\n",
    "                                          refactor_factored_attn_matrices=True)"
   ]
  },
  {
   "cell_type": "code",
   "execution_count": 94,
   "id": "18ac1fef-c504-48c2-8d5e-6c2a22d614d0",
   "metadata": {
    "tags": []
   },
   "outputs": [
    {
     "name": "stderr",
     "output_type": "stream",
     "text": [
      "2024-09-30 06:15:44.174680: I tensorflow/core/util/port.cc:113] oneDNN custom operations are on. You may see slightly different numerical results due to floating-point round-off errors from different computation orders. To turn them off, set the environment variable `TF_ENABLE_ONEDNN_OPTS=0`.\n",
      "2024-09-30 06:15:50.004199: I tensorflow/core/platform/cpu_feature_guard.cc:210] This TensorFlow binary is optimized to use available CPU instructions in performance-critical operations.\n",
      "To enable the following instructions: AVX2 AVX512F AVX512_VNNI FMA, in other operations, rebuild TensorFlow with the appropriate compiler flags.\n",
      "2024-09-30 06:16:03.352692: W tensorflow/compiler/tf2tensorrt/utils/py_utils.cc:38] TF-TRT Warning: Could not find TensorRT\n"
     ]
    }
   ],
   "source": [
    "ioi_dataset = IOIDataset(prompt_type=\"mixed\", N=100, tokenizer=model.tokenizer, prepend_bos=False)\n",
    "abc_dataset = (\n",
    "    ioi_dataset.gen_flipped_prompts((\"IO\", \"RAND\"))\n",
    "    .gen_flipped_prompts((\"S\", \"RAND\"))\n",
    "    .gen_flipped_prompts((\"S1\", \"RAND\"))\n",
    ")"
   ]
  },
  {
   "cell_type": "code",
   "execution_count": 39,
   "id": "e63dafb6-b22d-42de-bf45-04ec6310a031",
   "metadata": {
    "tags": []
   },
   "outputs": [
    {
     "name": "stdout",
     "output_type": "stream",
     "text": [
      "tensor(3.3168, device='cuda:0')\n"
     ]
    }
   ],
   "source": [
    "# GPT-2 (Clean)\n",
    "model.reset_hooks(including_permanent=True)\n",
    "logits, cache = model.run_with_cache(ioi_dataset.toks) # run on entire dataset along batch dimension\n",
    "ave_logit_diff = logits_to_ave_logit_diff_2(logits, ioi_dataset)\n",
    "print(ave_logit_diff)"
   ]
  },
  {
   "cell_type": "code",
   "execution_count": 95,
   "id": "95045091-5f3d-41d8-b3bd-9f3874347af4",
   "metadata": {
    "tags": []
   },
   "outputs": [],
   "source": [
    "SEQ_LEN = ioi_dataset.toks.shape[-1]"
   ]
  },
  {
   "cell_type": "code",
   "execution_count": 73,
   "id": "af2b4337-6bee-4e74-b011-9d7c58c7fc32",
   "metadata": {
    "tags": []
   },
   "outputs": [
    {
     "name": "stdout",
     "output_type": "stream",
     "text": [
      "tensor(-0.6226, device='cuda:0')\n"
     ]
    }
   ],
   "source": [
    "# baseline circuit  (ablate every node)\n",
    "circuit = []\n",
    "for l in range(12):\n",
    "    for pos in range(SEQ_LEN):\n",
    "        for head in range(12):\n",
    "            circuit.append(Node(l, pos, head))\n",
    "        \n",
    "base_model = add_mean_ablation_hook(model, means_dataset=abc_dataset, circuit=[])\n",
    "logits, cache = base_model.run_with_cache(ioi_dataset.toks) # run on entire dataset along batch dimension\n",
    "ave_logit_diff = logits_to_ave_logit_diff_2(logits, ioi_dataset)\n",
    "print(ave_logit_diff)"
   ]
  },
  {
   "cell_type": "code",
   "execution_count": null,
   "id": "32b53c87-aebd-4b02-84a8-babec0ff79e5",
   "metadata": {},
   "outputs": [],
   "source": []
  },
  {
   "cell_type": "code",
   "execution_count": 41,
   "id": "e47ea6c4-f370-4eba-8153-dbdf82f40453",
   "metadata": {
    "tags": []
   },
   "outputs": [],
   "source": [
    "MODEL_CLEAN = 3.3168\n",
    "MODEL_NULL = -0.6226"
   ]
  },
  {
   "cell_type": "code",
   "execution_count": 18,
   "id": "0be9498b-3904-41ea-a77f-0599d4aeca61",
   "metadata": {
    "tags": []
   },
   "outputs": [],
   "source": [
    "def prepare_heads_into_nodes(heads, seq_len):\n",
    "    circuit = []\n",
    "    for x in heads:\n",
    "        l = int(x.split('.')[0])\n",
    "        head = int(x.split('.')[1])\n",
    "        for pos in range(seq_len):\n",
    "            circuit.append(Node(l, pos, head))\n",
    "    return circuit\n",
    "\n",
    "def compute_ioi_score(model, circuit, mean_data, run_data, knock_out=False):\n",
    "    if knock_out:\n",
    "        model = add_knock_out_hook(model, means_dataset=mean_data, circuit=circuit)\n",
    "    else:\n",
    "        model = add_mean_ablation_hook(model, means_dataset=mean_data, circuit=circuit)\n",
    "    logits, cache = model.run_with_cache(run_data.toks) # run on entire dataset along batch dimension\n",
    "    ave_logit_diff = logits_to_ave_logit_diff_2(logits, run_data)\n",
    "    return ave_logit_diff\n",
    "\n",
    "def compute_faithfulness(circuit_score, model_clean, model_null):\n",
    "    return (circuit_score - model_null) / (model_clean - model_null)"
   ]
  },
  {
   "cell_type": "code",
   "execution_count": 43,
   "id": "8304201b-f8eb-411d-9697-d2e4e63fd8f7",
   "metadata": {
    "tags": []
   },
   "outputs": [],
   "source": [
    "import matplotlib.pyplot as plt\n",
    "import tqdm"
   ]
  },
  {
   "cell_type": "markdown",
   "id": "24765b7f-aa76-4566-9fa2-8852be12c115",
   "metadata": {
    "user_expressions": []
   },
   "source": [
    "## Faithfulness vs node count"
   ]
  },
  {
   "cell_type": "code",
   "execution_count": 119,
   "id": "4014a12f-b46f-4419-8697-119ba689329d",
   "metadata": {
    "tags": []
   },
   "outputs": [
    {
     "name": "stderr",
     "output_type": "stream",
     "text": [
      "100%|██████████| 144/144 [07:25<00:00,  3.09s/it]\n"
     ]
    }
   ],
   "source": [
    "# random\n",
    "import random\n",
    "random.seed(24)\n",
    "\n",
    "all_heads = []\n",
    "for i in range(12):\n",
    "    for j in range(12):\n",
    "        all_heads.append(f'{i}.{j}')\n",
    "random.shuffle(all_heads)\n",
    "\n",
    "circuit = []\n",
    "rand_faith_scores = []\n",
    "for head in tqdm.tqdm(all_heads):\n",
    "    circuit.extend(prepare_heads_into_nodes([head], SEQ_LEN))\n",
    "    circuit_score = compute_ioi_score(model, circuit, abc_dataset, ioi_dataset)\n",
    "    faithfulness = compute_faithfulness(circuit_score, MODEL_CLEAN, MODEL_NULL)\n",
    "    rand_faith_scores.append(faithfulness)"
   ]
  },
  {
   "cell_type": "code",
   "execution_count": 121,
   "id": "c84ff456-80ba-4f9c-81ea-c55942bf122c",
   "metadata": {
    "tags": []
   },
   "outputs": [
    {
     "data": {
      "text/plain": [
       "[<matplotlib.lines.Line2D at 0x7fe8d244e090>]"
      ]
     },
     "execution_count": 121,
     "metadata": {},
     "output_type": "execute_result"
    },
    {
     "data": {
      "image/png": "[encoded data removed]",
      "text/plain": [
       "<Figure size 640x480 with 1 Axes>"
      ]
     },
     "metadata": {},
     "output_type": "display_data"
    }
   ],
   "source": [
    "rand_faith_scores = [x.detach().cpu().numpy() for x in rand_faith_scores]\n",
    "plt.plot(range(1, len(all_heads)+1), rand_faith_scores)"
   ]
  },
  {
   "cell_type": "code",
   "execution_count": 122,
   "id": "ebfbfcba-ea5a-46d6-8e9e-738fe491fd6e",
   "metadata": {
    "tags": []
   },
   "outputs": [],
   "source": [
    "with open(f'REDACTED', 'w') as f:\n",
    "    json.dump({i:float(x) for i, x in enumerate(rand_faith_scores)}, f)"
   ]
  },
  {
   "cell_type": "code",
   "execution_count": 101,
   "id": "7a5f93fb-341b-43fc-99b2-1515ad9f9ca4",
   "metadata": {
    "tags": []
   },
   "outputs": [
    {
     "name": "stderr",
     "output_type": "stream",
     "text": [
      "100%|██████████| 144/144 [07:23<00:00,  3.08s/it]\n"
     ]
    }
   ],
   "source": [
    "# read in node importance\n",
    "import json\n",
    "th = 90\n",
    "with open(f'REDACTED', 'r') as f:\n",
    "    cdt_heads = json.load(f)\n",
    "    \n",
    "circuit = []\n",
    "faith_scores = []\n",
    "for head, importance in tqdm.tqdm(cdt_heads):\n",
    "    circuit.extend(prepare_heads_into_nodes([head], SEQ_LEN))\n",
    "    circuit_score = compute_ioi_score(model, circuit, abc_dataset, ioi_dataset)\n",
    "    faithfulness = compute_faithfulness(circuit_score, MODEL_CLEAN, MODEL_NULL)\n",
    "    faith_scores.append(faithfulness)"
   ]
  },
  {
   "cell_type": "code",
   "execution_count": 102,
   "id": "4e98c80c-327f-4486-855b-a2a05af2dbde",
   "metadata": {
    "tags": []
   },
   "outputs": [
    {
     "data": {
      "text/plain": [
       "[<matplotlib.lines.Line2D at 0x7fe8b19a69c0>]"
      ]
     },
     "execution_count": 102,
     "metadata": {},
     "output_type": "execute_result"
    },
    {
     "data": {
      "image/png": "[encoded data removed]",
      "text/plain": [
       "<Figure size 640x480 with 1 Axes>"
      ]
     },
     "metadata": {},
     "output_type": "display_data"
    }
   ],
   "source": [
    "# 90\n",
    "faith_scores = [x.detach().cpu().numpy() for x in faith_scores]\n",
    "plt.plot(range(1, len(cdt_heads)+1), faith_scores)"
   ]
  },
  {
   "cell_type": "code",
   "execution_count": 97,
   "id": "56542452-2a4e-416a-a81c-f7e02fd07c27",
   "metadata": {
    "tags": []
   },
   "outputs": [
    {
     "data": {
      "text/plain": [
       "[<matplotlib.lines.Line2D at 0x7fe8b17c7a10>]"
      ]
     },
     "execution_count": 97,
     "metadata": {},
     "output_type": "execute_result"
    },
    {
     "data": {
      "image/png": "[encoded data removed]",
      "text/plain": [
       "<Figure size 640x480 with 1 Axes>"
      ]
     },
     "metadata": {},
     "output_type": "display_data"
    }
   ],
   "source": [
    "# 99\n",
    "faith_scores = [x.detach().cpu().numpy() for x in faith_scores]\n",
    "plt.plot(range(1, len(cdt_heads)+1), faith_scores)"
   ]
  },
  {
   "cell_type": "code",
   "execution_count": 103,
   "id": "0bb90cf4-4559-4f18-a797-9403e9c59763",
   "metadata": {
    "tags": []
   },
   "outputs": [],
   "source": [
    "with open(f'REDACTED', 'w') as f:\n",
    "    json.dump({i:float(x) for i, x in enumerate(faith_scores)}, f)"
   ]
  },
  {
   "cell_type": "code",
   "execution_count": 79,
   "id": "030d3602-743d-4746-852c-32353a647127",
   "metadata": {
    "tags": []
   },
   "outputs": [
    {
     "name": "stderr",
     "output_type": "stream",
     "text": [
      "100%|██████████| 144/144 [08:54<00:00,  3.71s/it]\n"
     ]
    }
   ],
   "source": [
    "# read in node importance\n",
    "import json\n",
    "with open('REDACTED', 'r') as f:\n",
    "    eap_heads = json.load(f)\n",
    "eap_heads_scores = eap_heads['0.077']    \n",
    "\n",
    "eap_circuit = []\n",
    "eap_faith_scores = []\n",
    "for head, importance in tqdm.tqdm(eap_heads_scores):\n",
    "    eap_circuit.extend(prepare_heads_into_nodes([head], SEQ_LEN))\n",
    "    circuit_score = compute_ioi_score(model, eap_circuit, abc_dataset, ioi_dataset)\n",
    "    faithfulness = compute_faithfulness(circuit_score, MODEL_CLEAN, MODEL_NULL)\n",
    "    eap_faith_scores.append(faithfulness)\n"
   ]
  },
  {
   "cell_type": "code",
   "execution_count": 129,
   "id": "a3b9d7dc-6b72-455a-88b3-8d2e1afcaca5",
   "metadata": {
    "tags": []
   },
   "outputs": [
    {
     "data": {
      "image/png": "[encoded data removed]",
      "text/plain": [
       "<Figure size 640x480 with 1 Axes>"
      ]
     },
     "metadata": {},
     "output_type": "display_data"
    }
   ],
   "source": [
    "#eap_faith_scores = [x.detach().cpu().numpy() for x in eap_faith_scores]\n",
    "plt.rcParams.update({'font.size': 12})\n",
    "\n",
    "fig = plt.figure()\n",
    "\n",
    "plt.plot(range(1, len(cdt_heads)+1), faith_scores, label=f'CD-T')\n",
    "plt.plot(range(1, len(eap_heads_scores)+1), eap_faith_scores, label=f'EAP')\n",
    "plt.plot(range(1, len(all_heads)+1), rand_faith_scores, label=f'Random', color='darkorchid')\n",
    "plt.axhline(y=1, color='dimgrey', linestyle='--')\n",
    "\n",
    "plt.title(\"Faithfulness (IOI)\", fontsize=12)\n",
    "plt.xlabel(\"No. Atten. Heads\", fontsize=12)\n",
    "plt.ylabel(\"Faithfulness\")\n",
    "\n",
    "plt.legend(loc=\"lower right\")\n",
    "\n",
    "# Show the plot\n",
    "plt.show()\n",
    "fig.savefig('REDACTED', dpi=300, bbox_inches='tight')"
   ]
  },
  {
   "cell_type": "code",
   "execution_count": 88,
   "id": "aab7313e-0045-4dfd-9d61-bc91e8c28aa1",
   "metadata": {
    "tags": []
   },
   "outputs": [],
   "source": [
    "with open('REDACTED', 'w') as f:\n",
    "    json.dump({i:float(x) for i, x in enumerate(eap_faith_scores)}, f)"
   ]
  },
  {
   "cell_type": "code",
   "execution_count": null,
   "id": "5ff8af47-42c2-4943-867c-d7a8c8ae811f",
   "metadata": {},
   "outputs": [],
   "source": []
  },
  {
   "cell_type": "code",
   "execution_count": null,
   "id": "487f13a3-af5f-4304-9d03-e97319b0b887",
   "metadata": {},
   "outputs": [],
   "source": []
  },
  {
   "cell_type": "code",
   "execution_count": 96,
   "id": "2fb06133-da18-46ae-aab5-416033e5803b",
   "metadata": {
    "tags": []
   },
   "outputs": [],
   "source": [
    "# define the circuit here\n",
    "CIRCUIT = {\n",
    "    \"name mover\": [(9, 9), (10, 0), (9, 6)],\n",
    "    #\"backup name mover\": [(10, 10), (10, 6), (10, 2), (10, 1), (11, 2), (9, 7), (9, 0), (11, 9)],\n",
    "    #\"negative name mover\": [(10, 7), (11, 10)],\n",
    "    \"s2 inhibition\": [(7, 3), (7, 9), (8, 10)],\n",
    "    \"induction\": [(5, 5), (5, 8), (5, 9)],\n",
    "    \"duplicate token\": [(0, 1), (0, 10), (3, 0)],\n",
    "    \"previous token\": [(0, 6), (0, 7), (0, 10)],\n",
    "}\n",
    "\n",
    "SEQ_POS_TO_KEEP = {\n",
    "    \"name mover\": \"end\",\n",
    "    \"backup name mover\": \"end\",\n",
    "    \"negative name mover\": \"end\",\n",
    "    \"s2 inhibition\": \"end\",\n",
    "    \"induction\": \"S2\",\n",
    "    \"duplicate token\": \"S2\",\n",
    "    \"previous token\": \"S+1\",\n",
    "}\n",
    "\n",
    "all_heads = []\n",
    "for i in range(12):\n",
    "    for j in range(12):\n",
    "        all_heads.append(f'{i}.{j}')"
   ]
  },
  {
   "cell_type": "markdown",
   "id": "0df68a7c-f3e4-4fb1-9c03-75ef2e433d78",
   "metadata": {
    "user_expressions": []
   },
   "source": [
    "## Hypothesis testing: (recovered circuit more faithful than random circuit)"
   ]
  },
  {
   "cell_type": "code",
   "execution_count": null,
   "id": "3035392c-aa95-4c35-9cad-d6d5ff8586d7",
   "metadata": {
    "tags": []
   },
   "outputs": [],
   "source": [
    "# CD-T\n",
    "cdt_ioi_circuit_score = compute_ioi_score(model, CIRCUIT, abc_dataset, ioi_dataset)\n",
    "faith = compute_faithfulness(cdt_ioi_circuit_score, MODEL_CLEAN, MODEL_NULL)\n",
    "print(faith)\n",
    "\n",
    "# sample random circuits with size N from M\n",
    "percent = range(10, 101, 10)\n",
    "seeds = range(10)\n",
    "p_more_faithful_collect = []\n",
    "#p_is_in_rand_c = []\n",
    "for p in tqdm.tqdm(percent):\n",
    "    N = int(p/100 * len(all_heads))\n",
    "    # sample 10 random circuits for each N\n",
    "    cnt = 0\n",
    "    #in_cnt = 0\n",
    "    for s in seeds:\n",
    "        random.seed(s)\n",
    "        rand_circuit = prepare_heads_into_nodes(random.sample(all_heads, N), SEQ_LEN)\n",
    "        rand_circuit_score = compute_ioi_score(model, rand_circuit, abc_dataset, ioi_dataset)\n",
    "        rand_faith = compute_faithfulness(rand_circuit_score, MODEL_CLEAN, MODEL_NULL)\n",
    "        \n",
    "        if faith > rand_faith:\n",
    "            cnt += 1\n",
    "        \n",
    "        #if set(cdt_ioi_circuit).issubset(rand_circuit):\n",
    "        #    in_cnt += 1\n",
    "            \n",
    "    p_N = cnt / len(seeds)\n",
    "    #p_in = in_cnt / len(seeds)\n",
    "    print(p_N)\n",
    "    p_more_faithful_collect.append(p_N)\n",
    "    #p_is_in_rand_c.append(p_in)"
   ]
  },
  {
   "cell_type": "code",
   "execution_count": 62,
   "id": "375517f9-21c8-4cec-a6d4-b658e909ad50",
   "metadata": {
    "tags": []
   },
   "outputs": [],
   "source": [
    "def compute_probabilities_better_than_random(our_circuit_faithfulness, generate_random_circuit_fn, compute_faithfulness_fn):\n",
    "    percent = range(10, 101, 10)\n",
    "    seeds = range(10)\n",
    "    p_more_faithful_collect = []\n",
    "    #p_is_in_rand_c = []\n",
    "    for p in tqdm.tqdm(percent):\n",
    "        proportion_of_heads = p / 100\n",
    "        # N = int(p/100 * len(all_heads))\n",
    "        # sample 10 random circuits for each N\n",
    "        cnt = 0\n",
    "        #in_cnt = 0\n",
    "        for s in seeds:\n",
    "            random.seed(s)\n",
    "            rand_circuit = generate_random_circuit_fn(proportion_of_heads)\n",
    "            # rand_circuit_score = compute_ioi_score(model, rand_circuit, abc_dataset, ioi_dataset)\n",
    "            rand_faith = compute_faithfulness_fn(rand_circuit) # rand_circuit_score, MODEL_CLEAN, MODEL_NULL)\n",
    "\n",
    "            if our_circuit_faithfulness > rand_faith:\n",
    "                cnt += 1\n",
    "\n",
    "            #if set(cdt_ioi_circuit).issubset(rand_circuit):\n",
    "            #    in_cnt += 1\n",
    "\n",
    "        p_N = cnt / len(seeds)\n",
    "        #p_in = in_cnt / len(seeds)\n",
    "        print(p_N)\n",
    "        p_more_faithful_collect.append(p_N)\n",
    "    return p_more_faithful_collect"
   ]
  },
  {
   "cell_type": "markdown",
   "id": "bb84937b-959a-4961-892b-1a791df534ea",
   "metadata": {
    "tags": [],
    "user_expressions": []
   },
   "source": [
    "### Docstring"
   ]
  },
  {
   "cell_type": "code",
   "execution_count": 108,
   "id": "f452cd46-f013-4241-a3a7-d1de038181d1",
   "metadata": {
    "tags": []
   },
   "outputs": [
    {
     "name": "stdout",
     "output_type": "stream",
     "text": [
      "Loaded pretrained model attn-only-4l into HookedTransformer\n"
     ]
    }
   ],
   "source": [
    "# from mi_utils_public import *\n",
    "device = 'cuda:0' if torch.cuda.is_available() else 'cpu'\n",
    "torch.autograd.set_grad_enabled(False)\n",
    "model = HookedTransformer.from_pretrained('attn-only-4l',\n",
    "                                         fold_ln=False)\n",
    "\n",
    "\"\"\"Toggle whether to explicitly calculate and expose the result for each attention head.\n",
    "Useful for interpretability but can easily burn through GPU memory.\n",
    "\n",
    "        \"\"\"\n",
    "model.cfg.use_attn_result = False # Not actually needed because we have methods for accessing the activation cache anyway.\n",
    "# note from the mi_utils guys: \"because running subprocess breaks things\"\n",
    "# %env TOKENIZERS_PARALLELISM=true\n",
    "\n",
    "\n",
    "from im_utils.prompts import Prompt, docstring_ind_prompt_gen\n",
    "\n",
    "batch_size = 2000\n",
    "\n",
    "docstring_ind_prompt_kwargs = dict(\n",
    "    n_matching_args=3,\n",
    "    n_def_prefix_args=2,\n",
    "    n_def_suffix_args=1,\n",
    "    n_doc_prefix_args=0,\n",
    "    met_desc_len=3,\n",
    "    arg_desc_len=2\n",
    ")\n",
    "prompts = [docstring_ind_prompt_gen(\"rest\", **docstring_ind_prompt_kwargs) for _ in range(batch_size)]"
   ]
  },
  {
   "cell_type": "code",
   "execution_count": 116,
   "id": "859a8a99-aa8d-4c46-b185-8c2aaaf7e075",
   "metadata": {
    "tags": []
   },
   "outputs": [],
   "source": [
    "num_layers = len(model.blocks)\n",
    "seq_len = len(pos_labels)\n",
    "num_attention_heads = model.cfg.n_heads"
   ]
  },
  {
   "cell_type": "code",
   "execution_count": 109,
   "id": "fb0abd52-1fe0-4e14-9e42-2bbf7893e01f",
   "metadata": {
    "tags": []
   },
   "outputs": [],
   "source": [
    "pos_labels = model.to_str_tokens(prompts[0].clean_prompt)\n",
    "pos_labels[ 0] = \"BOS\"\n",
    "pos_labels[ 1] = \"⏎\"\n",
    "pos_labels[ 2] = \"def\"\n",
    "pos_labels[ 3] = \"rand0\"\n",
    "pos_labels[ 4] = \"(\"\n",
    "pos_labels[ 5] = \"self\"\n",
    "pos_labels[ 6] = \",_0\"\n",
    "pos_labels[ 7] = \"rand1\"\n",
    "pos_labels[ 8] = \",_1\"\n",
    "pos_labels[ 9] = \"rand2\"\n",
    "pos_labels[10] = \",_2\"\n",
    "pos_labels[11] = \"A_def\"\n",
    "pos_labels[12] = \",_A\"\n",
    "pos_labels[13] = \"B_def\"\n",
    "pos_labels[14] = \",_B\"\n",
    "pos_labels[15] = \"C_def\"\n",
    "pos_labels[16] = \",_C\"\n",
    "pos_labels[17] = \"rand3\"\n",
    "pos_labels[18] = \"):\"\n",
    "pos_labels[19] = \"⏎···_0\"\n",
    "pos_labels[20] = '\"\"\"'\n",
    "pos_labels[21] = \"rand4\"\n",
    "pos_labels[22] = \"rand5\"\n",
    "pos_labels[23] = \"rand6\"\n",
    "pos_labels[24] = \"⏎⏎···_1\"\n",
    "pos_labels[25] = \"·:_0\"\n",
    "pos_labels[26] = \"param_1\"\n",
    "pos_labels[27] = \"A_doc\"\n",
    "pos_labels[28] = \":_1\"\n",
    "pos_labels[29] = \"rand7\"\n",
    "pos_labels[30] = \"rand8\"\n",
    "pos_labels[31] = \"⏎···_2\"\n",
    "pos_labels[32] = \"·:_1\"\n",
    "pos_labels[33] = \"param_2\"\n",
    "pos_labels[34] = \"B_doc\"\n",
    "pos_labels[35] = \":_2\"\n",
    "pos_labels[36] = \"rand9\"\n",
    "pos_labels[37] = \"rand10\"\n",
    "pos_labels[38] = \"⏎···_3\"\n",
    "pos_labels[39] = \"·:_2\"\n",
    "pos_labels[40] = \"param_3\""
   ]
  },
  {
   "cell_type": "code",
   "execution_count": null,
   "id": "0a0cfbef-bd86-41de-bc95-c2c60519a258",
   "metadata": {
    "tags": []
   },
   "outputs": [],
   "source": [
    "# Get a \"better\" dataset, i.e, ones where the model answers the correct answer, preferably by a wide margin.\n",
    "# the toy model actually isn't very good at the docstring task, only getting it right like 50-75% of the time.\n",
    "# We obviously can't investigate the question of how the model does the docstring task if it's not actually \"doing\" it.\n",
    "good_prompts = []\n",
    "for prompt in prompts:\n",
    "    clean_prompt = prompt.clean_prompt\n",
    "    tokens = model.to_str_tokens(clean_prompt)\n",
    "    # it's perhaps better to check if the model's prediction logit is highest by a certain threshold.\n",
    "    correct_answer = tokens[pos_labels.index(\"C_def\")]\n",
    "    model_prediction = model.to_string(model.generate(clean_prompt, max_new_tokens=1, do_sample=False, return_type='tensor')[0][-1])\n",
    "    if model_prediction == correct_answer:\n",
    "        good_prompts.append(prompt)\n",
    "prompts = good_prompts"
   ]
  },
  {
   "cell_type": "code",
   "execution_count": 117,
   "id": "ff8a5e64-ba24-419d-9a03-6c9542fa9d4e",
   "metadata": {
    "tags": []
   },
   "outputs": [],
   "source": [
    "TEST_DATASET_SIZE = 100\n",
    "test_dataset = [prompt.clean_prompt for prompt in prompts[:TEST_DATASET_SIZE:]]\n",
    "\n",
    "corrupt_prompts = [prompt.corrupt_prompt['random_answer_doc'] for prompt in prompts[:TEST_DATASET_SIZE]]\n",
    "\n",
    "corrupt_logits, corrupt_cache = model.run_with_cache(corrupt_prompts)\n",
    "corrupt_attention_outputs = [corrupt_cache['blocks.' + str(i) + '.attn.hook_z'] for i in range(num_layers)]\n",
    "corrupt_attention_outputs = torch.stack(corrupt_attention_outputs, dim=0) # now batch, layer, seq_ nheads, dim_model"
   ]
  },
  {
   "cell_type": "code",
   "execution_count": 118,
   "id": "980fe012-9c48-4e4d-9278-e769efd4e092",
   "metadata": {
    "tags": []
   },
   "outputs": [],
   "source": [
    "def logits_to_ave_logit_diff(logits, test_dataset):\n",
    "    total = 0\n",
    "    for i in range(len(test_dataset)):\n",
    "        text = test_dataset[i]\n",
    "        tokens = model.to_str_tokens(text) # NOT to_tokens(text)\n",
    "        correct_logit_idx = model.to_single_token(tokens[pos_labels.index(\"C_def\")])\n",
    "        rel_correct_logit = logits[i, -1, correct_logit_idx]\n",
    "        incorrect_seq_idxs = [pos_labels.index(\"A_def\"), pos_labels.index(\"B_def\"),\n",
    "                         pos_labels.index(\"rand0\"),\n",
    "                         pos_labels.index(\"rand1\"),\n",
    "                         pos_labels.index(\"rand2\"),\n",
    "                         pos_labels.index(\"rand3\"),\n",
    "                         pos_labels.index(\"rand4\"),\n",
    "                         pos_labels.index(\"rand5\"),\n",
    "                         pos_labels.index(\"rand6\"),\n",
    "                         pos_labels.index(\"rand7\"),\n",
    "                         pos_labels.index(\"rand8\"),\n",
    "                         pos_labels.index(\"rand9\"),\n",
    "                         pos_labels.index(\"rand10\"),\n",
    "                         ]\n",
    "        incorrect_logit_idxs = [model.to_single_token(tokens[idx]) for idx in incorrect_seq_idxs]\n",
    "        rel_incorrect_logits = logits[0, -1, incorrect_logit_idxs]\n",
    "        total += np.min(rel_correct_logit - rel_incorrect_logits)\n",
    "    avg = total / len(test_dataset)\n",
    "    return avg"
   ]
  },
  {
   "cell_type": "code",
   "execution_count": 119,
   "id": "ce2758b5-5233-4112-af63-9a78d1d319d7",
   "metadata": {
    "tags": []
   },
   "outputs": [],
   "source": [
    "def generate_random_circuit(proportion_of_heads):\n",
    "    all_heads = [str(x) + '.' + str(y) for x in range(num_layers) for y in range(num_attention_heads)]\n",
    "    heads = random.sample(all_heads, int(proportion_of_heads * len(all_heads)))\n",
    "    return prepare_heads_into_nodes(heads, seq_len)"
   ]
  },
  {
   "cell_type": "code",
   "execution_count": 120,
   "id": "fffa987f-9ba9-472e-a679-a2863189b42c",
   "metadata": {
    "tags": []
   },
   "outputs": [],
   "source": [
    "def compute_docstring_score(model, patch_dataset, test_dataset, circuit=None):\n",
    "    model.reset_hooks(including_permanent=True)\n",
    "    if circuit is not None:\n",
    "        model = add_mean_ablation_hook(model, patch_values=patch_dataset, circuit=circuit)\n",
    "    logits, cache = model.run_with_cache(test_dataset)\n",
    "    ave_logit_diff = logits_to_ave_logit_diff(logits.cpu().numpy(), test_dataset)\n",
    "    model.reset_hooks(including_permanent=True)\n",
    "    return ave_logit_diff"
   ]
  },
  {
   "cell_type": "code",
   "execution_count": null,
   "id": "a5527650-2f9f-40ee-87f9-21966e0935f5",
   "metadata": {
    "tags": []
   },
   "outputs": [],
   "source": [
    "compute_docstring_score_fn = lambda circuit: compute_docstring_score(model, corrupt_attention_outputs, test_dataset, circuit)\n",
    "MODEL_CLEAN = compute_docstring_score_fn(None)\n",
    "MODEL_NULL = compute_docstring_score_fn([])\n",
    "compute_docstring_faithfulness_fn = lambda circuit: compute_faithfulness(compute_docstring_score_fn(circuit), MODEL_CLEAN, MODEL_NULL)\n",
    "\n",
    "our_circuit_faithfulness = 0.84738 # Result from the docstring_exploration notebook\n",
    "\n",
    "p_more_faithful_collect_docstring = compute_probabilities_better_than_random(our_circuit_faithfulness, generate_random_circuit, compute_docstring_faithfulness_fn)"
   ]
  },
  {
   "cell_type": "markdown",
   "id": "9cd5b051-6d9c-47ef-99a3-05c01becf672",
   "metadata": {
    "tags": [],
    "user_expressions": []
   },
   "source": [
    "### Greater-than task"
   ]
  },
  {
   "cell_type": "code",
   "execution_count": 124,
   "id": "13f62bef-ddb4-4804-9085-ace04a12ee3b",
   "metadata": {
    "tags": []
   },
   "outputs": [
    {
     "name": "stdout",
     "output_type": "stream",
     "text": [
      "Loaded pretrained model gpt2-small into HookedTransformer\n"
     ]
    }
   ],
   "source": [
    "device = 'cuda:0' if torch.cuda.is_available() else 'cpu'\n",
    "torch.autograd.set_grad_enabled(False)\n",
    "\n",
    "from transformer_lens import utils, HookedTransformer, ActivationCache\n",
    "model = HookedTransformer.from_pretrained(\"gpt2-small\",\n",
    "                                          center_unembed=True,\n",
    "                                          center_writing_weights=True,\n",
    "                                          fold_ln=False,\n",
    "                                          refactor_factored_attn_matrices=True)"
   ]
  },
  {
   "cell_type": "code",
   "execution_count": 125,
   "id": "8f75c5c4-223a-432d-91e3-91e7f87a197d",
   "metadata": {
    "tags": []
   },
   "outputs": [],
   "source": [
    "num_layers = len(model.blocks)\n",
    "seq_len = len(pos_labels)\n",
    "num_attention_heads = model.cfg.n_heads"
   ]
  },
  {
   "cell_type": "code",
   "execution_count": 126,
   "id": "faaf690e-4ead-47bf-b1e7-3d7900c71860",
   "metadata": {
    "tags": []
   },
   "outputs": [],
   "source": [
    "from greater_than_task.greater_than_dataset import *\n",
    "from greater_than_task.utils import get_valid_years\n",
    "# https://github.com/hannamw/gpt2-greater-than/blob/main/circuit_discovery.py; also these files came with their repo\n",
    "years_to_sample_from = get_valid_years(model.tokenizer, 1000, 1900)\n",
    "N = 1000\n",
    "ds = YearDataset(years_to_sample_from, N, Path(\"../greater_than_task/cache/potential_nouns.txt\"), model.tokenizer, balanced=True, device=device, eos=True)\n",
    "year_indices = torch.load(\"../greater_than_task/cache/logit_indices.pt\")# .to(device)\n",
    "\n",
    "num_layers = len(model.blocks)\n",
    "seq_len = ds.good_toks.size()[-1]\n",
    "num_attention_heads = model.cfg.n_heads"
   ]
  },
  {
   "cell_type": "code",
   "execution_count": 127,
   "id": "6154c0f5-6168-47c0-b3a1-38ac9dddd237",
   "metadata": {
    "tags": []
   },
   "outputs": [
    {
     "name": "stdout",
     "output_type": "stream",
     "text": [
      "3209.12158203125\n",
      "8262.0\n",
      "3209.12158203125\n",
      "5676.0\n"
     ]
    }
   ],
   "source": [
    "# del out_decomps\n",
    "# del target_decomps\n",
    "# del logits\n",
    "# del cache # pretty sure it's this one\n",
    "print(torch.cuda.memory_allocated(0)/1024/1024)\n",
    "print(torch.cuda.memory_reserved(0)/1024/1024)\n",
    "\n",
    "import gc\n",
    "gc.collect()\n",
    "\n",
    "torch.cuda.empty_cache()\n",
    "print(torch.cuda.memory_allocated(0)/1024/1024)\n",
    "print(torch.cuda.memory_reserved(0)/1024/1024)"
   ]
  },
  {
   "cell_type": "code",
   "execution_count": 128,
   "id": "f1fa058b-72a2-4ec4-aef5-ff991022349f",
   "metadata": {
    "tags": []
   },
   "outputs": [
    {
     "name": "stdout",
     "output_type": "stream",
     "text": [
      "torch.Size([20, 12, 13, 12, 64])\n"
     ]
    },
    {
     "data": {
      "text/plain": [
       "torch.Size([12, 13, 768])"
      ]
     },
     "execution_count": 128,
     "metadata": {},
     "output_type": "execute_result"
    }
   ],
   "source": [
    "NUM_AT_TIME = 50\n",
    "start_idx = 0\n",
    "score = 0\n",
    "attention_outputs = []\n",
    "while True:\n",
    "    end_idx = start_idx + NUM_AT_TIME\n",
    "    if end_idx > N:\n",
    "        end_idx = N\n",
    "\n",
    "    logits, cache = model.run_with_cache(ds.good_toks[start_idx:end_idx]) # run on entire dataset along batch dimension\n",
    "    batch_attention_outputs = [cache['blocks.' + str(i) + '.attn.hook_z'] for i in range(num_attention_heads)]\n",
    "    batch_attention_outputs = torch.stack(batch_attention_outputs, dim=1) # now batch, layer, seq, n_heads, dim_attn\n",
    "    batch_mean_acts = torch.mean(batch_attention_outputs, dim=0)\n",
    "    attention_outputs.append(batch_mean_acts)\n",
    "    start_idx += NUM_AT_TIME\n",
    "    if end_idx == N:\n",
    "        break\n",
    "attention_outputs = torch.stack(attention_outputs, dim=0) # now batch, layer, seq, n_heads, dim_attn\n",
    "# logits, cache = model.run_with_cache(ds.good_toks) # run on entire dataset along batch dimension\n",
    "# attention_outputs = [cache['blocks.' + str(i) + '.attn.hook_z'] for i in range(num_attention_heads)]\n",
    "# attention_outputs = torch.stack(attention_outputs, dim=1) # now batch, layer, seq, n_heads, dim_attn\n",
    "print(attention_outputs.shape)\n",
    "mean_acts = torch.mean(attention_outputs, dim=0)\n",
    "old_shape = mean_acts.shape\n",
    "last_dim = old_shape[-2] * old_shape[-1]\n",
    "new_shape = old_shape[:-2] + (last_dim,)\n",
    "mean_acts = mean_acts.view(new_shape)\n",
    "mean_acts.shape"
   ]
  },
  {
   "cell_type": "code",
   "execution_count": 129,
   "id": "0f6261c4-2fd9-40c8-b71e-9aae8d62f2f2",
   "metadata": {
    "tags": []
   },
   "outputs": [],
   "source": [
    "# This is not a pure function. It depends on ds.good_mask, sample_idxs, and year_indices.\n",
    "def score_logits(logits, sample_idxs_0):\n",
    "    probs = torch.nn.functional.softmax(torch.tensor(logits[:, -1, :], device='cpu'), dim=-1).numpy() # sad\n",
    "    probs_for_year_tokens = probs[:, year_indices.cpu().numpy()]\n",
    "    probs_for_correct_years = probs_for_year_tokens[ds.good_mask.cpu().numpy()[sample_idxs_0]]\n",
    "    correct_score = np.sum(probs_for_correct_years)\n",
    "    probs_for_incorrect_years = probs_for_year_tokens[np.logical_not(ds.good_mask.cpu().numpy()[sample_idxs_0])]\n",
    "    incorrect_score = np.sum(probs_for_incorrect_years)\n",
    "    return (correct_score - incorrect_score) / len(sample_idxs_0)\n"
   ]
  },
  {
   "cell_type": "code",
   "execution_count": 130,
   "id": "f7cbad36-7a8e-46d3-983f-bab08c288fc1",
   "metadata": {
    "tags": []
   },
   "outputs": [],
   "source": [
    "def evaluate_circuit(circuit=None):\n",
    "    model.reset_hooks(including_permanent=True)\n",
    "    if circuit is None:\n",
    "        ablation_model = model\n",
    "    else:\n",
    "        ablation_model = add_mean_ablation_hook(model, patch_values=mean_acts.view(old_shape), circuit=circuit)\n",
    "    \n",
    "    # batching\n",
    "    NUM_AT_TIME = 64\n",
    "    start_idx = 0\n",
    "    score = 0\n",
    "    while True:\n",
    "        end_idx = start_idx + NUM_AT_TIME\n",
    "        if end_idx > N:\n",
    "            end_idx = N\n",
    "\n",
    "        logits, cache = model.run_with_cache(ds.good_toks[start_idx:end_idx]) # run on entire dataset along batch dimension\n",
    "        batch_score = score_logits(logits, range(start_idx, end_idx))\n",
    "        num_samples = end_idx - start_idx\n",
    "        score += batch_score * (num_samples / N)\n",
    "        start_idx += NUM_AT_TIME\n",
    "        if end_idx == N:\n",
    "            break\n",
    "    ablation_model.reset_hooks(including_permanent=True)\n",
    "    return score\n"
   ]
  },
  {
   "cell_type": "code",
   "execution_count": 131,
   "id": "1ecd5050-ebd2-4c56-bdc1-5359e87daafb",
   "metadata": {
    "tags": []
   },
   "outputs": [],
   "source": [
    "def generate_random_circuit(proportion_of_heads):\n",
    "    all_heads = [str(x) + '.' + str(y) for x in range(num_layers) for y in range(num_attention_heads)]\n",
    "    heads = random.sample(all_heads, int(proportion_of_heads * len(all_heads)))\n",
    "    return prepare_heads_into_nodes(heads, seq_len)"
   ]
  },
  {
   "cell_type": "code",
   "execution_count": 91,
   "id": "cdfeefc8-e66b-4664-a66e-fc042ccd63d7",
   "metadata": {
    "tags": []
   },
   "outputs": [
    {
     "name": "stderr",
     "output_type": "stream",
     "text": [
      " 10%|█         | 1/10 [00:18<02:48, 18.68s/it]"
     ]
    },
    {
     "name": "stdout",
     "output_type": "stream",
     "text": [
      "1.0\n"
     ]
    },
    {
     "name": "stderr",
     "output_type": "stream",
     "text": [
      " 20%|██        | 2/10 [00:37<02:29, 18.64s/it]"
     ]
    },
    {
     "name": "stdout",
     "output_type": "stream",
     "text": [
      "1.0\n"
     ]
    },
    {
     "name": "stderr",
     "output_type": "stream",
     "text": [
      " 30%|███       | 3/10 [00:56<02:12, 18.94s/it]"
     ]
    },
    {
     "name": "stdout",
     "output_type": "stream",
     "text": [
      "1.0\n"
     ]
    },
    {
     "name": "stderr",
     "output_type": "stream",
     "text": [
      " 40%|████      | 4/10 [01:15<01:52, 18.81s/it]"
     ]
    },
    {
     "name": "stdout",
     "output_type": "stream",
     "text": [
      "1.0\n"
     ]
    },
    {
     "name": "stderr",
     "output_type": "stream",
     "text": [
      " 50%|█████     | 5/10 [01:33<01:33, 18.75s/it]"
     ]
    },
    {
     "name": "stdout",
     "output_type": "stream",
     "text": [
      "0.9\n"
     ]
    },
    {
     "name": "stderr",
     "output_type": "stream",
     "text": [
      " 60%|██████    | 6/10 [01:52<01:14, 18.71s/it]"
     ]
    },
    {
     "name": "stdout",
     "output_type": "stream",
     "text": [
      "0.7\n"
     ]
    },
    {
     "name": "stderr",
     "output_type": "stream",
     "text": [
      " 70%|███████   | 7/10 [02:11<00:56, 18.83s/it]"
     ]
    },
    {
     "name": "stdout",
     "output_type": "stream",
     "text": [
      "0.5\n"
     ]
    },
    {
     "name": "stderr",
     "output_type": "stream",
     "text": [
      " 80%|████████  | 8/10 [02:30<00:37, 18.76s/it]"
     ]
    },
    {
     "name": "stdout",
     "output_type": "stream",
     "text": [
      "0.1\n"
     ]
    },
    {
     "name": "stderr",
     "output_type": "stream",
     "text": [
      " 90%|█████████ | 9/10 [02:48<00:18, 18.72s/it]"
     ]
    },
    {
     "name": "stdout",
     "output_type": "stream",
     "text": [
      "0.1\n"
     ]
    },
    {
     "name": "stderr",
     "output_type": "stream",
     "text": [
      "100%|██████████| 10/10 [03:08<00:00, 18.82s/it]"
     ]
    },
    {
     "name": "stdout",
     "output_type": "stream",
     "text": [
      "0.0\n"
     ]
    },
    {
     "name": "stderr",
     "output_type": "stream",
     "text": [
      "\n"
     ]
    }
   ],
   "source": [
    "# compute_docstring_score_fn = lambda circuit: compute_docstring_score(model, corrupt_attention_outputs, test_dataset, circuit)\n",
    "MODEL_CLEAN = evaluate_circuit(None)\n",
    "MODEL_NULL = evaluate_circuit([])\n",
    "compute_gt_faithfulness_fn = lambda circuit: compute_faithfulness(evaluate_circuit(circuit), MODEL_CLEAN, MODEL_NULL)\n",
    "\n",
    "our_circuit_faithfulness = 0.817 # Result from the greater_than_task notebook\n",
    "\n",
    "p_more_faithful_collect_gt = compute_probabilities_better_than_random(our_circuit_faithfulness, generate_random_circuit, compute_gt_faithfulness_fn)"
   ]
  },
  {
   "cell_type": "markdown",
   "id": "d63ffff2-cee1-4804-9bdd-118beea23555",
   "metadata": {
    "tags": [],
    "user_expressions": []
   },
   "source": [
    "### Graphs"
   ]
  },
  {
   "cell_type": "code",
   "execution_count": 4,
   "id": "45c07202-21e0-400c-9e47-45a768b8a4aa",
   "metadata": {
    "tags": []
   },
   "outputs": [],
   "source": [
    "ioi_results_cdt = [x[1] for x in {\"0\": 1.0, \"1\": 1.0, \"2\": 1.0, \"3\": 1.0, \"4\": 0.8, \"5\": 0.6, \"6\": 0.5, \"7\": 0.0, \"8\": 0.0, \"9\": 0.0}.items()] # cached from another run"
   ]
  },
  {
   "cell_type": "code",
   "execution_count": 7,
   "id": "c565b95b-4ecc-4c31-b8e8-4066808e97fe",
   "metadata": {
    "tags": []
   },
   "outputs": [],
   "source": [
    "p_more_faithful_collect = ioi_results_cdt"
   ]
  },
  {
   "cell_type": "code",
   "execution_count": 11,
   "id": "37ab92e7-62d8-4cae-bf3d-0651992a1058",
   "metadata": {
    "tags": []
   },
   "outputs": [],
   "source": [
    "# just for reproducing the graphs with different formatting\n",
    "p_more_faithful_collect_docstring = [1, 1, 1, 1, 1, 0.9, 0.9, 0.8, 0.4, 0.0]\n",
    "p_more_faithful_collect_gt = [1, 1, 1, 1, 0.7, 0.7, 0.5, 0.1, 0.1, 0]"
   ]
  },
  {
   "cell_type": "code",
   "execution_count": 12,
   "id": "344089a9-d084-4574-857f-6873c3be601c",
   "metadata": {
    "tags": []
   },
   "outputs": [
    {
     "data": {
      "image/png": "[encoded data removed]",
      "text/plain": [
       "<Figure size 600x500 with 1 Axes>"
      ]
     },
     "metadata": {},
     "output_type": "display_data"
    }
   ],
   "source": [
    "plt.rcParams['text.usetex'] = False\n",
    "\n",
    "plt.rcParams.update({'font.size': 10})\n",
    "fig = plt.figure(figsize=(6, 5))\n",
    "## plot here\n",
    "\n",
    "plt.plot([x/100 for x in range(10, 101, 10)], p_more_faithful_collect, label='IOI', marker='o', color='magenta')\n",
    "plt.plot([x/100 for x in range(10, 101, 10)], p_more_faithful_collect_docstring, label='Docstring', marker='o', color='green')\n",
    "plt.plot([x/100 for x in range(10, 101, 10)], p_more_faithful_collect_gt, label='Greater-than', marker='o', color='black')\n",
    "\n",
    "\n",
    "plt.axvline(x=float(15/(144*21)), color='magenta', linestyle='--', linewidth=1)\n",
    "plt.axvline(x=float(10/(32)), color='green', linestyle='--', linewidth=1)\n",
    "plt.axvline(x=float(8/(144)), color='black', linestyle='--', linewidth=1)\n",
    "\n",
    "\n",
    "\n",
    "plt.title(\"CD-T\", fontsize=12)\n",
    "plt.xlabel(r'Size $|C^{r}|$ as a fraction of $|M|$', fontsize=12)\n",
    "plt.ylabel(\"$\\mathbb{P}$ ($C$ more faithful than $C^{r}$)\")\n",
    "plt.xlim(-0.05, 1.05)\n",
    "plt.legend(fontsize=10)\n",
    "\n",
    "plt.legend(loc=\"lower left\")\n",
    "fig.tight_layout()\n",
    "\n",
    "# Show the plot\n",
    "plt.show()\n",
    "fig.savefig('cdt-vs-random.pdf', dpi=300, bbox_inches='tight')"
   ]
  },
  {
   "cell_type": "code",
   "execution_count": 169,
   "id": "11c3db82-35f4-4b53-a87c-9c7d779f31b2",
   "metadata": {
    "tags": []
   },
   "outputs": [],
   "source": [
    "with open('REDACTED', 'w') as f:\n",
    "    json.dump({i:float(x) for i, x in enumerate(p_more_faithful_collect)}, f)"
   ]
  },
  {
   "cell_type": "code",
   "execution_count": 8,
   "id": "af572293-74b4-441b-af7c-5bb3a1f700b7",
   "metadata": {
    "tags": []
   },
   "outputs": [],
   "source": [
    "p_more_faithful_collect_docstring_eap = [1, 1, 1, 1, 1, 1, 1, 0.9, 0.8, 0]\n",
    "p_more_faithful_collect_gt_eap = [1, 1, 1, 1, 1, 1, 1, 0.6, 0.3, 0]"
   ]
  },
  {
   "cell_type": "code",
   "execution_count": 9,
   "id": "078c8eaf-439c-4f70-83c4-61ecde122f3d",
   "metadata": {
    "tags": []
   },
   "outputs": [
    {
     "data": {
      "image/png": "[encoded data removed]",
      "text/plain": [
       "<Figure size 600x500 with 1 Axes>"
      ]
     },
     "metadata": {},
     "output_type": "display_data"
    }
   ],
   "source": [
    "plt.rcParams['text.usetex'] = False\n",
    "\n",
    "plt.rcParams.update({'font.size': 10})\n",
    "fig = plt.figure(figsize=(6, 5))\n",
    "## plot here\n",
    "plt.title(\"EAP\", fontsize=12)\n",
    "plt.plot([x/100 for x in range(10, 101, 10)], p_more_faithful_collect_eap, label='IOI', marker='o', color='magenta')\n",
    "plt.plot([x/100 for x in range(10, 101, 10)], p_more_faithful_collect_docstring_eap, label='Docstring', marker='o', color='green')\n",
    "plt.plot([x/100 for x in range(10, 101, 10)], p_more_faithful_collect_gt_eap, label='Greater-than', marker='o', color='black')\n",
    "\n",
    "\n",
    "plt.axvline(x=float(21/144), color='magenta', linestyle='--', linewidth=1)\n",
    "plt.axvline(x=float(17/32), color='green', linestyle='--', linewidth=1)\n",
    "plt.axvline(x=float(9/(144)), color='black', linestyle='--', linewidth=1)\n",
    "\n",
    "\n",
    "\n",
    "\n",
    "plt.xlabel(r'Size $|C^{r}|$ as a fraction of $|M|$', fontsize=12)\n",
    "plt.ylabel(\"$\\mathbb{P}$ ($C$ more faithful than $C^{r}$)\")\n",
    "plt.xlim(-0.05, 1.05)\n",
    "plt.legend(loc=\"lower left\")\n",
    "plt.legend(fontsize=10)\n",
    "fig.tight_layout()\n",
    "\n",
    "\n",
    "# Show the plot\n",
    "plt.show()\n",
    "fig.savefig('eap-vs-random.pdf', dpi=300, bbox_inches='tight')\n",
    "# fig.savefig('REDACTED', dpi=300, bbox_inches='tight')"
   ]
  },
  {
   "cell_type": "code",
   "execution_count": 107,
   "id": "229d9c36-113d-4373-beb9-8db76474eb9d",
   "metadata": {
    "tags": []
   },
   "outputs": [],
   "source": [
    "p_more_faithful_collect_ioi = [x[1] for x in {\"0\": 1.0, \"1\": 1.0, \"2\": 1.0, \"3\": 0.9, \"4\": 0.6, \"5\": 0.3, \"6\": 0.1, \"7\": 0.0, \"8\": 0.0, \"9\": 0.0}.items()]"
   ]
  }
 ],
 "metadata": {
  "kernelspec": {
   "display_name": "Python 3 (ipykernel)",
   "language": "python",
   "name": "python3"
  },
  "language_info": {
   "codemirror_mode": {
    "name": "ipython",
    "version": 3
   },
   "file_extension": ".py",
   "mimetype": "text/x-python",
   "name": "python",
   "nbconvert_exporter": "python",
   "pygments_lexer": "ipython3",
   "version": "3.12.2"
  }
 },
 "nbformat": 4,
 "nbformat_minor": 5
}
