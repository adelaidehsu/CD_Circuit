{
 "cells": [
  {
   "cell_type": "code",
   "execution_count": 1,
   "id": "1f220adb-4c3e-44cc-a805-856221bc4c20",
   "metadata": {
    "tags": []
   },
   "outputs": [],
   "source": [
    "%load_ext autoreload\n",
    "%autoreload 2"
   ]
  },
  {
   "cell_type": "code",
   "execution_count": 2,
   "id": "b50627d0-6eee-4f08-a776-fa4484f37d51",
   "metadata": {
    "tags": []
   },
   "outputs": [],
   "source": [
    "import os\n",
    "import warnings\n",
    "import sys\n",
    "import torch\n",
    "warnings.filterwarnings(\"ignore\")\n",
    "base_dir = os.path.split(os.getcwd())[0]\n",
    "sys.path.append(base_dir)\n",
    "\n",
    "from pyfunctions.local_importance import *"
   ]
  },
  {
   "cell_type": "code",
   "execution_count": 3,
   "id": "8a2f7e98-25a7-4f00-a6ec-d98e0e1d12df",
   "metadata": {
    "tags": []
   },
   "outputs": [
    {
     "data": {
      "text/plain": [
       "<torch.autograd.grad_mode.set_grad_enabled at 0x7fa9a83c3d10>"
      ]
     },
     "execution_count": 3,
     "metadata": {},
     "output_type": "execute_result"
    }
   ],
   "source": [
    "torch.autograd.set_grad_enabled(False)"
   ]
  },
  {
   "cell_type": "code",
   "execution_count": 4,
   "id": "163fb8c9-abd9-4231-b5d7-562b077aa01d",
   "metadata": {
    "tags": []
   },
   "outputs": [],
   "source": [
    "device = 'cuda:0'\n",
    "data_name = 'sst2'\n",
    "model_type = 'bert'\n",
    "model_name = 'sst2'"
   ]
  },
  {
   "cell_type": "code",
   "execution_count": 15,
   "id": "db5b5df0-32ac-46e5-99aa-8d4f8edc39a0",
   "metadata": {
    "tags": []
   },
   "outputs": [],
   "source": [
    "# load in data\n",
    "data, le_dict, tokenizer = load_data(data_name, device, model_type)"
   ]
  },
  {
   "cell_type": "code",
   "execution_count": 16,
   "id": "c56c87f3-797a-4e7a-86fb-e0d542081919",
   "metadata": {
    "tags": []
   },
   "outputs": [],
   "source": [
    "# load in model\n",
    "model = load_model(model_name, le_dict, device)"
   ]
  },
  {
   "cell_type": "code",
   "execution_count": null,
   "id": "8687891f-2d16-4dbd-9e41-b7b0297468cf",
   "metadata": {},
   "outputs": [],
   "source": []
  }
 ],
 "metadata": {
  "kernelspec": {
   "display_name": "Python 3.12 (ipykernel)",
   "language": "python",
   "name": "python3.12"
  },
  "language_info": {
   "codemirror_mode": {
    "name": "ipython",
    "version": 3
   },
   "file_extension": ".py",
   "mimetype": "text/x-python",
   "name": "python",
   "nbconvert_exporter": "python",
   "pygments_lexer": "ipython3",
   "version": "3.12.2"
  }
 },
 "nbformat": 4,
 "nbformat_minor": 5
}
