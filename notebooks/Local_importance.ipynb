{
 "cells": [
  {
   "cell_type": "code",
   "execution_count": 1,
   "id": "1f220adb-4c3e-44cc-a805-856221bc4c20",
   "metadata": {
    "tags": []
   },
   "outputs": [],
   "source": [
    "%load_ext autoreload\n",
    "%autoreload 2"
   ]
  },
  {
   "cell_type": "code",
   "execution_count": 2,
   "id": "b50627d0-6eee-4f08-a776-fa4484f37d51",
   "metadata": {
    "tags": []
   },
   "outputs": [],
   "source": [
    "import os\n",
    "import warnings\n",
    "import sys\n",
    "import gc\n",
    "import torch\n",
    "warnings.filterwarnings(\"ignore\")\n",
    "base_dir = os.path.split(os.getcwd())[0]\n",
    "sys.path.append(base_dir)\n",
    "\n",
    "from pyfunctions.local_importance import *\n",
    "from pyfunctions._integrated_gradients import configure_interpretable_embeddings, remove_interpretable_embeddings"
   ]
  },
  {
   "cell_type": "code",
   "execution_count": 3,
   "id": "4ddf14b6-7653-4803-9032-5afcd140d9b1",
   "metadata": {
    "tags": []
   },
   "outputs": [],
   "source": [
    "# set up env\n",
    "#!python3.12 -m pip install lime\n",
    "#!python3.12 -m pip install shap\n",
    "#!python3.12 -m pip install tf-keras==2.16.0\n",
    "#!python3.12 -m pip install captum"
   ]
  },
  {
   "cell_type": "code",
   "execution_count": 4,
   "id": "8a2f7e98-25a7-4f00-a6ec-d98e0e1d12df",
   "metadata": {
    "tags": []
   },
   "outputs": [
    {
     "data": {
      "text/plain": [
       "<torch.autograd.grad_mode.set_grad_enabled at 0x7fc2ce3b6e40>"
      ]
     },
     "execution_count": 4,
     "metadata": {},
     "output_type": "execute_result"
    }
   ],
   "source": [
    "torch.autograd.set_grad_enabled(False)"
   ]
  },
  {
   "cell_type": "code",
   "execution_count": 147,
   "id": "163fb8c9-abd9-4231-b5d7-562b077aa01d",
   "metadata": {
    "tags": []
   },
   "outputs": [],
   "source": [
    "device = 'cuda:0'\n",
    "supported_model_and_task = {\"bert\": [\"pathology\", \"sst2\", \"agnews\"], \"gpt2\": [\"ioi\"]}\n",
    "model_type = 'bert' #\"bert\", \"gpt2\"\n",
    "data_name = supported_model_and_task[model_type][2] #\"bert\"\"pathology\", \"sst2\", \"agnews\", \"ioi\"\n",
    "method = \"CDT\" #\"CDT\", \"lime\", \"shap\", \"LIG\"\n",
    "\n",
    "# todo: figure out proper max len for each dataset\n",
    "if data_name == \"sst2\":\n",
    "    max_seq_len = 120\n",
    "    class_names = [\"0\", \"1\"]\n",
    "if data_name == \"agnews\":\n",
    "    max_seq_len = 240\n",
    "    class_names = [\"0\", \"1\", \"2\", \"3\"]\n",
    "elif data_name == \"pathology\":\n",
    "    max_seq_len = 512\n",
    "    class_names = [\"3\", \"4\", \"5\"]\n",
    "elif data_name == \"ioi\":\n",
    "    max_seq_len = 16\n",
    "    class_names = [str(token_id) for token_id in range(50257)]"
   ]
  },
  {
   "cell_type": "code",
   "execution_count": 148,
   "id": "db5b5df0-32ac-46e5-99aa-8d4f8edc39a0",
   "metadata": {
    "tags": []
   },
   "outputs": [],
   "source": [
    "# load in data and model\n",
    "data, le_dict, tokenizer, model = load_data_and_model(data_name, model_type, device)"
   ]
  },
  {
   "cell_type": "code",
   "execution_count": 158,
   "id": "8687891f-2d16-4dbd-9e41-b7b0297468cf",
   "metadata": {},
   "outputs": [],
   "source": [
    "sample_id = 104\n",
    "\n",
    "if data_name != \"ioi\":\n",
    "    tokenized_prompt = None\n",
    "    io_seq_idx = None\n",
    "    s_seq_idx = None\n",
    "    text = data['docs'][sample_id]\n",
    "    label = data['labels'][sample_id]\n",
    "    label_idx = le_dict[label]\n",
    "    tokenizer.pad_token = tokenizer.eos_token\n",
    "else:\n",
    "    tokenized_prompt = data.tokenized_prompts[sample_id]\n",
    "    io_seq_idx = data.io_tokenIDs[sample_id] # sample_id 0-50 for ioi\n",
    "    s_seq_idx = data.s_tokenIDs[sample_id] \n",
    "    text = data.sentences[sample_id]\n",
    "    label_idx = None"
   ]
  },
  {
   "cell_type": "code",
   "execution_count": 159,
   "id": "c40bb244-f22a-4b08-a49a-a0caa6b80657",
   "metadata": {
    "tags": []
   },
   "outputs": [],
   "source": [
    "# clear cache\n",
    "gc.collect()\n",
    "torch.cuda.empty_cache()"
   ]
  },
  {
   "cell_type": "code",
   "execution_count": 160,
   "id": "478727a8-4197-48f1-9e94-f9d9afde07aa",
   "metadata": {
    "tags": []
   },
   "outputs": [
    {
     "name": "stderr",
     "output_type": "stream",
     "text": [
      "Running decomposition in batches...: 100%|██████████| 1/1 [00:00<00:00,  1.27it/s]"
     ]
    },
    {
     "name": "stdout",
     "output_type": "stream",
     "text": [
      "Viz rel: \n"
     ]
    },
    {
     "name": "stderr",
     "output_type": "stream",
     "text": [
      "\n"
     ]
    },
    {
     "data": {
      "text/html": [
       "<span class=\"barcode\"; style=\"color: black; background-color: #eff9fc\">&nbspmr&nbsp</span><span class=\"barcode\"; style=\"color: black; background-color: #c7e9f5\">&nbspdowner&nbsp</span><span class=\"barcode\"; style=\"color: black; background-color: #f2fafd\">&nbspshoots&nbsp</span><span class=\"barcode\"; style=\"color: black; background-color: #f1fafd\">&nbsphis&nbsp</span><span class=\"barcode\"; style=\"color: black; background-color: #fafdfe\">&nbspmouth&nbsp</span><span class=\"barcode\"; style=\"color: black; background-color: #f6fcfd\">&nbspoff&nbsp</span><span class=\"barcode\"; style=\"color: black; background-color: #f8fcfe\">&nbspjust&nbsp</span><span class=\"barcode\"; style=\"color: black; background-color: #f5fbfd\">&nbspwhat&nbsp</span><span class=\"barcode\"; style=\"color: black; background-color: #f7fcfe\">&nbspalexander&nbsp</span><span class=\"barcode\"; style=\"color: black; background-color: #c7e9f5\">&nbspdowner&nbsp</span><span class=\"barcode\"; style=\"color: black; background-color: #f4fafd\">&nbspwas&nbsp</span><span class=\"barcode\"; style=\"color: black; background-color: #fbfdfe\">&nbspthinking&nbsp</span><span class=\"barcode\"; style=\"color: black; background-color: #f9fcfe\">&nbspwhen&nbsp</span><span class=\"barcode\"; style=\"color: black; background-color: #f9fcfe\">&nbsphe&nbsp</span><span class=\"barcode\"; style=\"color: black; background-color: #f6fcfd\">&nbspdeclared&nbsp</span><span class=\"barcode\"; style=\"color: black; background-color: #f1fafd\">&nbspon&nbsp</span><span class=\"barcode\"; style=\"color: black; background-color: #f7fcfe\">&nbspradio&nbsp</span><span class=\"barcode\"; style=\"color: black; background-color: #f0f9fc\">&nbsplast&nbsp</span><span class=\"barcode\"; style=\"color: black; background-color: 0.0\">&nbspfriday&nbsp</span><span class=\"barcode\"; style=\"color: black; background-color: #f5fbfd\">&nbspthat&nbsp</span><span class=\"barcode\"; style=\"color: black; background-color: #e4f4fa\">&nbspquot&nbsp</span><span class=\"barcode\"; style=\"color: black; background-color: #fbfefe\">&nbsp;&nbsp</span><span class=\"barcode\"; style=\"color: black; background-color: #f9fcfe\">&nbspthey&nbsp</span><span class=\"barcode\"; style=\"color: black; background-color: #f6fbfd\">&nbspcould&nbsp</span><span class=\"barcode\"; style=\"color: black; background-color: #f3fafd\">&nbspfire&nbsp</span><span class=\"barcode\"; style=\"color: black; background-color: #e4f4fa\">&nbspa&nbsp</span><span class=\"barcode\"; style=\"color: black; background-color: #f2fafd\">&nbspmissile&nbsp</span><span class=\"barcode\"; style=\"color: black; background-color: #acdef0\">&nbspfrom&nbsp</span><span class=\"barcode\"; style=\"color: black; background-color: #ebf7fb\">&nbspnorth&nbsp</span><span class=\"barcode\"; style=\"color: black; background-color: #a8dcf0\">&nbspkorea&nbsp</span><span class=\"barcode\"; style=\"color: black; background-color: #98d6ed\">&nbspto&nbsp</span><span class=\"barcode\"; style=\"color: black; background-color: #e7f5fb\">&nbspsydney&nbsp</span><span class=\"barcode\"; style=\"color: black; background-color: #48b6df\">&nbspquot&nbsp</span><span class=\"barcode\"; style=\"color: black; background-color: #f1fafd\">&nbsp;&nbsp</span><span class=\"barcode\"; style=\"color: black; background-color: #f6fbfd\">&nbspis&nbsp</span><span class=\"barcode\"; style=\"color: black; background-color: #f6fbfd\">&nbspunclear&nbsp</span><span class=\"barcode\"; style=\"color: black; background-color: #f5fbfd\">&nbsp.&nbsp</span><span class=\"barcode\"; style=\"color: black; background-color: #fbfefe\">&nbspthe&nbsp</span><span class=\"barcode\"; style=\"color: black; background-color: #fdfeff\">&nbspprovocative&nbsp</span><span class=\"barcode\"; style=\"color: black; background-color: #daf0f8\">&nbspremark&nbsp</span><span class=\"barcode\"; style=\"color: black; background-color: #f0f9fc\">&nbsp,&nbsp</span><span class=\"barcode\"; style=\"color: black; background-color: #fbfefe\">&nbspjust&nbsp</span><span class=\"barcode\"; style=\"color: black; background-color: #fdfeff\">&nbspdays&nbsp</span><span class=\"barcode\"; style=\"color: black; background-color: #f8fcfe\">&nbspbefore&nbsp</span><span class=\"barcode\"; style=\"color: black; background-color: #f9fdfe\">&nbsphis&nbsp</span><span class=\"barcode\"; style=\"color: black; background-color: #fafdfe\">&nbsparrival&nbsp</span><span class=\"barcode\"; style=\"color: black; background-color: #f1fafd\">&nbspyesterday&nbsp</span><span class=\"barcode\"; style=\"color: black; background-color: #fafdfe\">&nbspon&nbsp</span><span class=\"barcode\"; style=\"color: black; background-color: #fbfdfe\">&nbsphis&nbsp</span><span class=\"barcode\"; style=\"color: black; background-color: #f6fcfd\">&nbspsecond&nbsp</span><span class=\"barcode\"; style=\"color: black; background-color: #f7fcfe\">&nbspvisit&nbsp</span><span class=\"barcode\"; style=\"color: black; background-color: #e5f5fa\">&nbspto&nbsp</span><span class=\"barcode\"; style=\"color: black; background-color: #f6fcfd\">&nbspthe&nbsp</span><span class=\"barcode\"; style=\"color: black; background-color: #f4fbfd\">&nbspnorth&nbsp</span><span class=\"barcode\"; style=\"color: black; background-color: #88cfea\">&nbspkorean&nbsp</span><span class=\"barcode\"; style=\"color: black; background-color: #89d0ea\">&nbsp.&nbsp</span><span class=\"barcode\"; style=\"color: black; background-color: #eef8fc\">&nbsp.&nbsp</span><span class=\"barcode\"; style=\"color: black; background-color: #f0f9fc\">&nbsp.&nbsp</span>"
      ],
      "text/plain": [
       "<IPython.core.display.HTML object>"
      ]
     },
     "metadata": {},
     "output_type": "display_data"
    },
    {
     "name": "stdout",
     "output_type": "stream",
     "text": [
      "Viz irrel: \n"
     ]
    },
    {
     "data": {
      "text/html": [
       "<span class=\"barcode\"; style=\"color: black; background-color: #fcfefe\">&nbspmr&nbsp</span><span class=\"barcode\"; style=\"color: black; background-color: #49b6df\">&nbspdowner&nbsp</span><span class=\"barcode\"; style=\"color: black; background-color: #fcfefe\">&nbspshoots&nbsp</span><span class=\"barcode\"; style=\"color: black; background-color: #fcfefe\">&nbsphis&nbsp</span><span class=\"barcode\"; style=\"color: black; background-color: #fcfefe\">&nbspmouth&nbsp</span><span class=\"barcode\"; style=\"color: black; background-color: #fcfefe\">&nbspoff&nbsp</span><span class=\"barcode\"; style=\"color: black; background-color: #fcfefe\">&nbspjust&nbsp</span><span class=\"barcode\"; style=\"color: black; background-color: #fcfefe\">&nbspwhat&nbsp</span><span class=\"barcode\"; style=\"color: black; background-color: #fcfefe\">&nbspalexander&nbsp</span><span class=\"barcode\"; style=\"color: black; background-color: #49b6df\">&nbspdowner&nbsp</span><span class=\"barcode\"; style=\"color: black; background-color: #fcfefe\">&nbspwas&nbsp</span><span class=\"barcode\"; style=\"color: black; background-color: #fcfefe\">&nbspthinking&nbsp</span><span class=\"barcode\"; style=\"color: black; background-color: #fcfefe\">&nbspwhen&nbsp</span><span class=\"barcode\"; style=\"color: black; background-color: #fcfefe\">&nbsphe&nbsp</span><span class=\"barcode\"; style=\"color: black; background-color: #fcfefe\">&nbspdeclared&nbsp</span><span class=\"barcode\"; style=\"color: black; background-color: #fcfefe\">&nbspon&nbsp</span><span class=\"barcode\"; style=\"color: black; background-color: #fcfefe\">&nbspradio&nbsp</span><span class=\"barcode\"; style=\"color: black; background-color: #fcfefe\">&nbsplast&nbsp</span><span class=\"barcode\"; style=\"color: black; background-color: #fbfefe\">&nbspfriday&nbsp</span><span class=\"barcode\"; style=\"color: black; background-color: #fcfefe\">&nbspthat&nbsp</span><span class=\"barcode\"; style=\"color: black; background-color: #48b6df\">&nbspquot&nbsp</span><span class=\"barcode\"; style=\"color: black; background-color: #fcfefe\">&nbsp;&nbsp</span><span class=\"barcode\"; style=\"color: black; background-color: #fcfefe\">&nbspthey&nbsp</span><span class=\"barcode\"; style=\"color: black; background-color: #fcfefe\">&nbspcould&nbsp</span><span class=\"barcode\"; style=\"color: black; background-color: #fcfefe\">&nbspfire&nbsp</span><span class=\"barcode\"; style=\"color: black; background-color: #fdfeff\">&nbspa&nbsp</span><span class=\"barcode\"; style=\"color: black; background-color: #fcfefe\">&nbspmissile&nbsp</span><span class=\"barcode\"; style=\"color: black; background-color: #feffff\">&nbspfrom&nbsp</span><span class=\"barcode\"; style=\"color: black; background-color: #fcfefe\">&nbspnorth&nbsp</span><span class=\"barcode\"; style=\"color: black; background-color: #feffff\">&nbspkorea&nbsp</span><span class=\"barcode\"; style=\"color: black; background-color: #ffffff\">&nbspto&nbsp</span><span class=\"barcode\"; style=\"color: black; background-color: #fcfefe\">&nbspsydney&nbsp</span><span class=\"barcode\"; style=\"color: black; background-color: #4cb8e0\">&nbspquot&nbsp</span><span class=\"barcode\"; style=\"color: black; background-color: #fcfefe\">&nbsp;&nbsp</span><span class=\"barcode\"; style=\"color: black; background-color: #fcfefe\">&nbspis&nbsp</span><span class=\"barcode\"; style=\"color: black; background-color: #fcfefe\">&nbspunclear&nbsp</span><span class=\"barcode\"; style=\"color: black; background-color: #fcfefe\">&nbsp.&nbsp</span><span class=\"barcode\"; style=\"color: black; background-color: #fcfefe\">&nbspthe&nbsp</span><span class=\"barcode\"; style=\"color: black; background-color: #fbfefe\">&nbspprovocative&nbsp</span><span class=\"barcode\"; style=\"color: black; background-color: #fdfeff\">&nbspremark&nbsp</span><span class=\"barcode\"; style=\"color: black; background-color: #fcfefe\">&nbsp,&nbsp</span><span class=\"barcode\"; style=\"color: black; background-color: #fcfefe\">&nbspjust&nbsp</span><span class=\"barcode\"; style=\"color: black; background-color: #fbfefe\">&nbspdays&nbsp</span><span class=\"barcode\"; style=\"color: black; background-color: #fcfefe\">&nbspbefore&nbsp</span><span class=\"barcode\"; style=\"color: black; background-color: #fcfefe\">&nbsphis&nbsp</span><span class=\"barcode\"; style=\"color: black; background-color: #fcfefe\">&nbsparrival&nbsp</span><span class=\"barcode\"; style=\"color: black; background-color: #fcfefe\">&nbspyesterday&nbsp</span><span class=\"barcode\"; style=\"color: black; background-color: #fcfefe\">&nbspon&nbsp</span><span class=\"barcode\"; style=\"color: black; background-color: #fcfefe\">&nbsphis&nbsp</span><span class=\"barcode\"; style=\"color: black; background-color: #fcfefe\">&nbspsecond&nbsp</span><span class=\"barcode\"; style=\"color: black; background-color: #fcfefe\">&nbspvisit&nbsp</span><span class=\"barcode\"; style=\"color: black; background-color: #fdfeff\">&nbspto&nbsp</span><span class=\"barcode\"; style=\"color: black; background-color: #fcfefe\">&nbspthe&nbsp</span><span class=\"barcode\"; style=\"color: black; background-color: #fcfefe\">&nbspnorth&nbsp</span><span class=\"barcode\"; style=\"color: black; background-color: 0.0\">&nbspkorean&nbsp</span><span class=\"barcode\"; style=\"color: black; background-color: #ffffff\">&nbsp.&nbsp</span><span class=\"barcode\"; style=\"color: black; background-color: #fcfefe\">&nbsp.&nbsp</span><span class=\"barcode\"; style=\"color: black; background-color: #fcfefe\">&nbsp.&nbsp</span>"
      ],
      "text/plain": [
       "<IPython.core.display.HTML object>"
      ]
     },
     "metadata": {},
     "output_type": "display_data"
    },
    {
     "name": "stdout",
     "output_type": "stream",
     "text": [
      "Viz rel-irrel: \n"
     ]
    },
    {
     "data": {
      "text/html": [
       "<span class=\"barcode\"; style=\"color: black; background-color: #f2fafd\">&nbspmr&nbsp</span><span class=\"barcode\"; style=\"color: black; background-color: #e89f8e\">&nbspdowner&nbsp</span><span class=\"barcode\"; style=\"color: black; background-color: #f6fbfd\">&nbspshoots&nbsp</span><span class=\"barcode\"; style=\"color: black; background-color: #f4fbfd\">&nbsphis&nbsp</span><span class=\"barcode\"; style=\"color: black; background-color: #fefeff\">&nbspmouth&nbsp</span><span class=\"barcode\"; style=\"color: black; background-color: #fafdfe\">&nbspoff&nbsp</span><span class=\"barcode\"; style=\"color: black; background-color: #fbfefe\">&nbspjust&nbsp</span><span class=\"barcode\"; style=\"color: black; background-color: #f8fcfe\">&nbspwhat&nbsp</span><span class=\"barcode\"; style=\"color: black; background-color: #fafdfe\">&nbspalexander&nbsp</span><span class=\"barcode\"; style=\"color: black; background-color: #e89e8e\">&nbspdowner&nbsp</span><span class=\"barcode\"; style=\"color: black; background-color: #f6fcfd\">&nbspwas&nbsp</span><span class=\"barcode\"; style=\"color: black; background-color: #fefeff\">&nbspthinking&nbsp</span><span class=\"barcode\"; style=\"color: black; background-color: #fcfefe\">&nbspwhen&nbsp</span><span class=\"barcode\"; style=\"color: black; background-color: #fcfefe\">&nbsphe&nbsp</span><span class=\"barcode\"; style=\"color: black; background-color: #fafdfe\">&nbspdeclared&nbsp</span><span class=\"barcode\"; style=\"color: black; background-color: #f5fbfd\">&nbspon&nbsp</span><span class=\"barcode\"; style=\"color: black; background-color: #fbfdfe\">&nbspradio&nbsp</span><span class=\"barcode\"; style=\"color: black; background-color: #f4fafd\">&nbsplast&nbsp</span><span class=\"barcode\"; style=\"color: black; background-color: #fefcfc\">&nbspfriday&nbsp</span><span class=\"barcode\"; style=\"color: black; background-color: #f8fcfe\">&nbspthat&nbsp</span><span class=\"barcode\"; style=\"color: black; background-color: #e28873\">&nbspquot&nbsp</span><span class=\"barcode\"; style=\"color: black; background-color: #ffffff\">&nbsp;&nbsp</span><span class=\"barcode\"; style=\"color: black; background-color: #fbfefe\">&nbspthey&nbsp</span><span class=\"barcode\"; style=\"color: black; background-color: #f9fcfe\">&nbspcould&nbsp</span><span class=\"barcode\"; style=\"color: black; background-color: #f6fbfd\">&nbspfire&nbsp</span><span class=\"barcode\"; style=\"color: black; background-color: #e7f6fb\">&nbspa&nbsp</span><span class=\"barcode\"; style=\"color: black; background-color: #f6fbfd\">&nbspmissile&nbsp</span><span class=\"barcode\"; style=\"color: black; background-color: #acdef1\">&nbspfrom&nbsp</span><span class=\"barcode\"; style=\"color: black; background-color: #eef8fc\">&nbspnorth&nbsp</span><span class=\"barcode\"; style=\"color: black; background-color: #a9ddf0\">&nbspkorea&nbsp</span><span class=\"barcode\"; style=\"color: black; background-color: #98d6ed\">&nbspto&nbsp</span><span class=\"barcode\"; style=\"color: black; background-color: #e9f6fb\">&nbspsydney&nbsp</span><span class=\"barcode\"; style=\"color: black; background-color: #fbfdfe\">&nbspquot&nbsp</span><span class=\"barcode\"; style=\"color: black; background-color: #f5fbfd\">&nbsp;&nbsp</span><span class=\"barcode\"; style=\"color: black; background-color: #f9fdfe\">&nbspis&nbsp</span><span class=\"barcode\"; style=\"color: black; background-color: #f9fcfe\">&nbspunclear&nbsp</span><span class=\"barcode\"; style=\"color: black; background-color: #f9fcfe\">&nbsp.&nbsp</span><span class=\"barcode\"; style=\"color: black; background-color: #ffffff\">&nbspthe&nbsp</span><span class=\"barcode\"; style=\"color: black; background-color: #fffefe\">&nbspprovocative&nbsp</span><span class=\"barcode\"; style=\"color: black; background-color: #dcf1f9\">&nbspremark&nbsp</span><span class=\"barcode\"; style=\"color: black; background-color: #f4fafd\">&nbsp,&nbsp</span><span class=\"barcode\"; style=\"color: black; background-color: #ffffff\">&nbspjust&nbsp</span><span class=\"barcode\"; style=\"color: black; background-color: #fffefe\">&nbspdays&nbsp</span><span class=\"barcode\"; style=\"color: black; background-color: #fbfefe\">&nbspbefore&nbsp</span><span class=\"barcode\"; style=\"color: black; background-color: #fdfeff\">&nbsphis&nbsp</span><span class=\"barcode\"; style=\"color: black; background-color: #fefeff\">&nbsparrival&nbsp</span><span class=\"barcode\"; style=\"color: black; background-color: #f5fbfd\">&nbspyesterday&nbsp</span><span class=\"barcode\"; style=\"color: black; background-color: #fefeff\">&nbspon&nbsp</span><span class=\"barcode\"; style=\"color: black; background-color: #feffff\">&nbsphis&nbsp</span><span class=\"barcode\"; style=\"color: black; background-color: #fafdfe\">&nbspsecond&nbsp</span><span class=\"barcode\"; style=\"color: black; background-color: #fbfdfe\">&nbspvisit&nbsp</span><span class=\"barcode\"; style=\"color: black; background-color: #e8f6fb\">&nbspto&nbsp</span><span class=\"barcode\"; style=\"color: black; background-color: #fafdfe\">&nbspthe&nbsp</span><span class=\"barcode\"; style=\"color: black; background-color: #f8fcfe\">&nbspnorth&nbsp</span><span class=\"barcode\"; style=\"color: black; background-color: #88cfea\">&nbspkorean&nbsp</span><span class=\"barcode\"; style=\"color: black; background-color: #89d0ea\">&nbsp.&nbsp</span><span class=\"barcode\"; style=\"color: black; background-color: #f1fafd\">&nbsp.&nbsp</span><span class=\"barcode\"; style=\"color: black; background-color: #f4fafd\">&nbsp.&nbsp</span>"
      ],
      "text/plain": [
       "<IPython.core.display.HTML object>"
      ]
     },
     "metadata": {},
     "output_type": "display_data"
    }
   ],
   "source": [
    "# passed: LIG, shap, lime, cdt\n",
    "\n",
    "scores = run_local_importance(text, tokenized_prompt, io_seq_idx, s_seq_idx, label_idx, max_seq_len, model, tokenizer,\n",
    "                              device, method, model_type, class_names)"
   ]
  },
  {
   "cell_type": "code",
   "execution_count": 67,
   "id": "4ee00618-6e18-4491-a00d-77871b038d23",
   "metadata": {
    "tags": []
   },
   "outputs": [
    {
     "name": "stdout",
     "output_type": "stream",
     "text": [
      "235.2992105263158\n"
     ]
    }
   ],
   "source": [
    "cnt = 0\n",
    "for x in data['docs']:\n",
    "    cnt += len(x)\n",
    "print(cnt/len(data['docs']))"
   ]
  },
  {
   "cell_type": "code",
   "execution_count": 72,
   "id": "b9017aee-786b-4ec2-8365-019cc5ac3cc3",
   "metadata": {
    "tags": []
   },
   "outputs": [
    {
     "data": {
      "text/plain": [
       "3"
      ]
     },
     "execution_count": 72,
     "metadata": {},
     "output_type": "execute_result"
    }
   ],
   "source": [
    "le_dict[label]"
   ]
  },
  {
   "cell_type": "code",
   "execution_count": null,
   "id": "7856848b-1538-4ac7-85fd-4b37dd28d8bc",
   "metadata": {},
   "outputs": [],
   "source": []
  }
 ],
 "metadata": {
  "kernelspec": {
   "display_name": "Python 3.12 (ipykernel)",
   "language": "python",
   "name": "python3.12"
  },
  "language_info": {
   "codemirror_mode": {
    "name": "ipython",
    "version": 3
   },
   "file_extension": ".py",
   "mimetype": "text/x-python",
   "name": "python",
   "nbconvert_exporter": "python",
   "pygments_lexer": "ipython3",
   "version": "3.12.2"
  }
 },
 "nbformat": 4,
 "nbformat_minor": 5
}
