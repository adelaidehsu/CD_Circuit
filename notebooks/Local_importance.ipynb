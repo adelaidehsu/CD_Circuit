{
 "cells": [
  {
   "cell_type": "code",
   "execution_count": 1,
   "id": "1f220adb-4c3e-44cc-a805-856221bc4c20",
   "metadata": {
    "tags": []
   },
   "outputs": [],
   "source": [
    "%load_ext autoreload\n",
    "%autoreload 2"
   ]
  },
  {
   "cell_type": "code",
   "execution_count": 2,
   "id": "b50627d0-6eee-4f08-a776-fa4484f37d51",
   "metadata": {
    "tags": []
   },
   "outputs": [],
   "source": [
    "import os\n",
    "import warnings\n",
    "import sys\n",
    "import gc\n",
    "import torch\n",
    "import random\n",
    "warnings.filterwarnings(\"ignore\")\n",
    "base_dir = os.path.split(os.getcwd())[0]\n",
    "sys.path.append(base_dir)\n",
    "\n",
    "from pyfunctions.local_importance import *\n",
    "from pyfunctions._integrated_gradients import configure_interpretable_embeddings, remove_interpretable_embeddings"
   ]
  },
  {
   "cell_type": "code",
   "execution_count": 3,
   "id": "4ddf14b6-7653-4803-9032-5afcd140d9b1",
   "metadata": {
    "tags": []
   },
   "outputs": [],
   "source": [
    "# set up env\n",
    "#!python3.12 -m pip install lime\n",
    "#!python3.12 -m pip install shap\n",
    "#!python3.12 -m pip install tf-keras==2.16.0\n",
    "#!python3.12 -m pip install captum"
   ]
  },
  {
   "cell_type": "code",
   "execution_count": 4,
   "id": "8a2f7e98-25a7-4f00-a6ec-d98e0e1d12df",
   "metadata": {
    "tags": []
   },
   "outputs": [
    {
     "data": {
      "text/plain": [
       "<torch.autograd.grad_mode.set_grad_enabled at 0x7fc2ce3b6e40>"
      ]
     },
     "execution_count": 4,
     "metadata": {},
     "output_type": "execute_result"
    }
   ],
   "source": [
    "torch.autograd.set_grad_enabled(False)"
   ]
  },
  {
   "cell_type": "code",
   "execution_count": 213,
   "id": "163fb8c9-abd9-4231-b5d7-562b077aa01d",
   "metadata": {
    "tags": []
   },
   "outputs": [],
   "source": [
    "device = 'cuda:0'\n",
    "supported_model_and_task = {\"bert\": [\"pathology\", \"sst2\", \"agnews\"], \"gpt2\": [\"ioi\"]}\n",
    "model_type = 'gpt2' #\"bert\", \"gpt2\"\n",
    "data_name = supported_model_and_task[model_type][0] #\"bert\"\"pathology\", \"sst2\", \"agnews\", \"ioi\"\n",
    "\n",
    "if data_name == \"sst2\":\n",
    "    max_seq_len = 120\n",
    "    class_names = [\"0\", \"1\"]\n",
    "if data_name == \"agnews\":\n",
    "    max_seq_len = 240\n",
    "    class_names = [\"0\", \"1\", \"2\", \"3\"]\n",
    "elif data_name == \"pathology\":\n",
    "    max_seq_len = 512\n",
    "    class_names = [\"3\", \"4\", \"5\"]\n",
    "elif data_name == \"ioi\":\n",
    "    max_seq_len = 16\n",
    "    class_names = [str(token_id) for token_id in range(50257)]"
   ]
  },
  {
   "cell_type": "code",
   "execution_count": 214,
   "id": "db5b5df0-32ac-46e5-99aa-8d4f8edc39a0",
   "metadata": {
    "tags": []
   },
   "outputs": [
    {
     "name": "stdout",
     "output_type": "stream",
     "text": [
      "Loaded pretrained model gpt2-small into HookedTransformer\n",
      "Moving model to device:  cuda:0\n"
     ]
    }
   ],
   "source": [
    "# load in data and model\n",
    "data, le_dict, tokenizer, model = load_data_and_model(data_name, model_type, device)"
   ]
  },
  {
   "cell_type": "markdown",
   "id": "eaff0653-60f9-4cd6-97b6-c136cf202bc9",
   "metadata": {
    "user_expressions": []
   },
   "source": [
    "## Compute dataset stats"
   ]
  },
  {
   "cell_type": "code",
   "execution_count": null,
   "id": "f1979516-ecb1-4aec-bd2d-c25a031d6c83",
   "metadata": {},
   "outputs": [],
   "source": [
    "# Prepare AGNews-long\n",
    "idx = []\n",
    "for i, text in enumerate(data['docs']):\n",
    "    text_ids = tokenizer.encode(text)\n",
    "    if len(text_ids) > 150:\n",
    "        idx.append(i)\n",
    "    if len(idx) == 50:\n",
    "        break"
   ]
  },
  {
   "cell_type": "code",
   "execution_count": null,
   "id": "22924990-c4d9-43b6-ad96-740a5efabf59",
   "metadata": {},
   "outputs": [],
   "source": [
    "len(idx)"
   ]
  },
  {
   "cell_type": "code",
   "execution_count": 259,
   "id": "45305d8a-0e3c-4dbb-9a94-3e648a9912c7",
   "metadata": {
    "tags": []
   },
   "outputs": [],
   "source": [
    "idx = random.sample(range(len(data['docs'])), 34)\n",
    "agnews_text_data_random, agnews_label_data_random = [], []\n",
    "for i in idx:\n",
    "    agnews_text_data_random.append(data['docs'][i])\n",
    "    agnews_label_data_random.append(data['labels'][i])"
   ]
  },
  {
   "cell_type": "code",
   "execution_count": null,
   "id": "923f1d7a-b770-445e-9ac1-478609f074e2",
   "metadata": {},
   "outputs": [],
   "source": [
    "idx = random.sample(range(len(data['docs'])), 34)\n",
    "sst2_text_data, sst2_label_data = [], []\n",
    "for i in idx:\n",
    "    sst2_text_data.append(data['docs'][i])\n",
    "    sst2_label_data.append(data['labels'][i])"
   ]
  },
  {
   "cell_type": "code",
   "execution_count": null,
   "id": "5ca3f608-3fca-4372-88a3-c438f5b280d5",
   "metadata": {},
   "outputs": [],
   "source": [
    "idx = random.sample(range(len(data['docs'])), 34)\n",
    "path_text_data, path_label_data = [], []\n",
    "for i in idx:\n",
    "    path_text_data.append(data['docs'][i])\n",
    "    path_label_data.append(data['labels'][i])"
   ]
  },
  {
   "cell_type": "code",
   "execution_count": null,
   "id": "2bca6d8d-5bf2-468b-a7c2-c7b981f1da42",
   "metadata": {},
   "outputs": [],
   "source": [
    "idx = random.sample(range(len(data.sentences)), 34)\n",
    "ioi_sample_id = idx"
   ]
  },
  {
   "cell_type": "code",
   "execution_count": 260,
   "id": "08e70e09-6d28-40bc-a085-f7e7f3ab45df",
   "metadata": {
    "tags": []
   },
   "outputs": [],
   "source": [
    "sample_data_dict = {\"ioi\": ioi_sample_id, \"sst2\": sst2_text_data, \"agnews\": agnews_text_data, \"agnews_rand\": agnews_text_data_random, \"pathology\": path_text_data}"
   ]
  },
  {
   "cell_type": "code",
   "execution_count": 261,
   "id": "139e9e19-edc9-4f8b-90b0-03b99ffaa704",
   "metadata": {
    "tags": []
   },
   "outputs": [],
   "source": [
    "sample_labels_dict = {\"ioi\": None, \"sst2\": sst2_label_data, \"agnews\": agnews_label_data, \"agnews_rand\": agnews_label_data_random, \"pathology\": path_label_data}"
   ]
  },
  {
   "cell_type": "code",
   "execution_count": null,
   "id": "4f18dcba-c565-4144-9576-774b0563f694",
   "metadata": {},
   "outputs": [],
   "source": [
    "tot = []\n",
    "for x in [\"ioi\", \"sst2\", \"agnews\", \"pathology\"]:\n",
    "    sample_data = sample_data_dict[x]\n",
    "    res = []\n",
    "    for text in tqdm.tqdm(sample_data):\n",
    "        if x == \"ioi\":\n",
    "            # \"text\" is actually sample_id for ioi task\n",
    "            text = data.sentences[text]\n",
    "            text_ids = tokenizer.encode(text)\n",
    "        else:\n",
    "            text_ids = tokenizer.encode(text)\n",
    "        res.append(len(text_ids))\n",
    "    tot.append(res)"
   ]
  },
  {
   "cell_type": "code",
   "execution_count": 227,
   "id": "a8797d10-adaa-45b0-81cb-8ac4dfe67a29",
   "metadata": {
    "tags": []
   },
   "outputs": [
    {
     "data": {
      "text/plain": [
       "Text(0, 0.5, 'Token Counts')"
      ]
     },
     "execution_count": 227,
     "metadata": {},
     "output_type": "execute_result"
    },
    {
     "data": {
      "image/png": "[encoded data removed]",
      "text/plain": [
       "<Figure size 640x480 with 1 Axes>"
      ]
     },
     "metadata": {},
     "output_type": "display_data"
    }
   ],
   "source": [
    "plot = matplotlib.pyplot.boxplot(tot, labels = [\"ioi\", \"sst2\", \"agnews-long\", \"pathology\"] )\n",
    "matplotlib.pyplot.ylabel(\"Token Counts\")"
   ]
  },
  {
   "cell_type": "code",
   "execution_count": null,
   "id": "6dbd481a-db9e-4778-9b25-397a8cb140be",
   "metadata": {},
   "outputs": [],
   "source": [
    "np.median(tot, axis=1)"
   ]
  },
  {
   "cell_type": "code",
   "execution_count": 262,
   "id": "77fa3f78-a5e4-49ab-b30c-f43b44d264b3",
   "metadata": {
    "tags": []
   },
   "outputs": [],
   "source": [
    "import json\n",
    "# save sample data for reproducibility\n",
    "with open('new_local_importance_sample_text.json', 'w') as f:\n",
    "    json.dump(sample_data_dict, f)\n",
    "\n",
    "with open('new_local_importance_sample_label.json', 'w') as f:\n",
    "    json.dump(sample_labels_dict, f)"
   ]
  },
  {
   "cell_type": "markdown",
   "id": "44dbdbba-2226-4316-89ee-8756d90d1517",
   "metadata": {
    "user_expressions": []
   },
   "source": [
    "## Run local interpretation"
   ]
  },
  {
   "cell_type": "code",
   "execution_count": 265,
   "id": "ee795329-b4a2-43c2-bfd8-806dfc25c820",
   "metadata": {
    "tags": []
   },
   "outputs": [],
   "source": [
    "with open('new_local_importance_sample_text.json', 'r') as f:\n",
    "    sample_data_dict = json.load(f)\n",
    "    \n",
    "with open('new_local_importance_sample_label.json', 'r') as f:\n",
    "    sample_labels_dict = json.load(f)"
   ]
  },
  {
   "cell_type": "code",
   "execution_count": 299,
   "id": "b7521b1c-a32c-477a-b6e0-a950d5751be4",
   "metadata": {
    "tags": []
   },
   "outputs": [],
   "source": [
    "device = 'cuda:0'\n",
    "supported_model_and_task = {\"bert\": [\"pathology\", \"sst2\", \"agnews\", \"agnews_rand\"], \"gpt2\": [\"ioi\"]}\n",
    "model_type = 'bert' #\"bert\", \"gpt2\"\n",
    "data_name = supported_model_and_task[model_type][3] #\"bert\"\"pathology\", \"sst2\", \"agnews\", \"ioi\"\n",
    "\n",
    "if data_name == \"sst2\":\n",
    "    max_seq_len = 120\n",
    "    class_names = [\"0\", \"1\"] #0: negative, 1: positive\n",
    "elif data_name == \"agnews\":\n",
    "    max_seq_len = 240\n",
    "    class_names = [\"0\", \"1\", \"2\", \"3\"]\n",
    "elif data_name == \"agnews_rand\":\n",
    "    max_seq_len = 240\n",
    "    class_names = [\"0\", \"1\", \"2\", \"3\"] #0: world, 1: sports, 2: business, 3: Sci/Tech\n",
    "elif data_name == \"pathology\":\n",
    "    max_seq_len = 512\n",
    "    class_names = [\"3\", \"4\", \"5\"]\n",
    "elif data_name == \"ioi\":\n",
    "    max_seq_len = 16\n",
    "    class_names = [str(token_id) for token_id in range(50257)]\n",
    "    \n",
    "# load in data and model\n",
    "data, le_dict, tokenizer, model = load_data_and_model(data_name, model_type, device)"
   ]
  },
  {
   "cell_type": "code",
   "execution_count": 304,
   "id": "584e6f98-c9e5-4aa5-878e-f37202774193",
   "metadata": {
    "tags": []
   },
   "outputs": [
    {
     "data": {
      "text/plain": [
       "['3', '3', '3', '3', '3', '4', '4', '4', '3', '3']"
      ]
     },
     "execution_count": 304,
     "metadata": {},
     "output_type": "execute_result"
    }
   ],
   "source": [
    "sample_data = sample_data_dict[\"pathology\"][:10]\n",
    "sample_labels = sample_labels_dict[\"pathology\"][:10]\n",
    "sample_labels"
   ]
  },
  {
   "cell_type": "code",
   "execution_count": 300,
   "id": "8687891f-2d16-4dbd-9e41-b7b0297468cf",
   "metadata": {},
   "outputs": [
    {
     "name": "stdout",
     "output_type": "stream",
     "text": [
      "Running dataset agnews_rand...\n",
      "Running method CDT...\n",
      "========== sample 0 ==========\n"
     ]
    },
    {
     "name": "stderr",
     "output_type": "stream",
     "text": [
      "Running decomposition in batches...: 100%|██████████| 1/1 [00:00<00:00,  1.77it/s]"
     ]
    },
    {
     "name": "stdout",
     "output_type": "stream",
     "text": [
      "Viz rel: \n"
     ]
    },
    {
     "name": "stderr",
     "output_type": "stream",
     "text": [
      "\n"
     ]
    },
    {
     "data": {
      "text/html": [
       "<span class=\"barcode\"; style=\"color: black; background-color: #d5eef8\">&nbspfrance&nbsp</span><span class=\"barcode\"; style=\"color: black; background-color: #e6f5fb\">&nbspopposes&nbsp</span><span class=\"barcode\"; style=\"color: black; background-color: #c7e9f5\">&nbspimmigrant&nbsp</span><span class=\"barcode\"; style=\"color: black; background-color: #e9f6fb\">&nbsptransit&nbsp</span><span class=\"barcode\"; style=\"color: black; background-color: #bbe4f3\">&nbspcamps&nbsp</span><span class=\"barcode\"; style=\"color: black; background-color: #f0f9fc\">&nbspin&nbsp</span><span class=\"barcode\"; style=\"color: black; background-color: #a8dcf0\">&nbspafrica&nbsp</span><span class=\"barcode\"; style=\"color: black; background-color: #e3f4fa\">&nbspfrance&nbsp</span><span class=\"barcode\"; style=\"color: black; background-color: #f5fbfd\">&nbsp,&nbsp</span><span class=\"barcode\"; style=\"color: black; background-color: #ecf7fc\">&nbspsweden&nbsp</span><span class=\"barcode\"; style=\"color: black; background-color: #f3fafd\">&nbspand&nbsp</span><span class=\"barcode\"; style=\"color: black; background-color: #e5f5fa\">&nbspbelgium&nbsp</span><span class=\"barcode\"; style=\"color: black; background-color: #d7eff8\">&nbspshot&nbsp</span><span class=\"barcode\"; style=\"color: black; background-color: #dbf1f9\">&nbspdown&nbsp</span><span class=\"barcode\"; style=\"color: black; background-color: #e9f6fb\">&nbspa&nbsp</span><span class=\"barcode\"; style=\"color: black; background-color: #acdef0\">&nbspgerman&nbsp</span><span class=\"barcode\"; style=\"color: black; background-color: #c7e9f5\">&nbspproposal&nbsp</span><span class=\"barcode\"; style=\"color: black; background-color: #f6fbfd\">&nbspto&nbsp</span><span class=\"barcode\"; style=\"color: black; background-color: #f1fafd\">&nbspset&nbsp</span><span class=\"barcode\"; style=\"color: black; background-color: #f5fbfd\">&nbspup&nbsp</span><span class=\"barcode\"; style=\"color: black; background-color: #daf0f8\">&nbspeuropean&nbsp</span><span class=\"barcode\"; style=\"color: black; background-color: #ddf2f9\">&nbspunion&nbsp</span><span class=\"barcode\"; style=\"color: black; background-color: #48b6df\">&nbsprefugee&nbsp</span><span class=\"barcode\"; style=\"color: black; background-color: #d7eff8\">&nbspprocessing&nbsp</span><span class=\"barcode\"; style=\"color: black; background-color: #e1f3fa\">&nbspcentres&nbsp</span><span class=\"barcode\"; style=\"color: black; background-color: #ecf7fc\">&nbspin&nbsp</span><span class=\"barcode\"; style=\"color: black; background-color: #a0d9ee\">&nbspnorth&nbsp</span><span class=\"barcode\"; style=\"color: black; background-color: #94d4ec\">&nbspafrica&nbsp</span><span class=\"barcode\"; style=\"color: black; background-color: #f6fcfd\">&nbsp,&nbsp</span><span class=\"barcode\"; style=\"color: black; background-color: #e8f6fb\">&nbsparguing&nbsp</span><span class=\"barcode\"; style=\"color: black; background-color: #f8fcfe\">&nbspthat&nbsp</span><span class=\"barcode\"; style=\"color: black; background-color: 0.0\">&nbspthe&nbsp</span><span class=\"barcode\"; style=\"color: black; background-color: #f2fafd\">&nbspidea&nbsp</span><span class=\"barcode\"; style=\"color: black; background-color: #f6fbfd\">&nbspwould&nbsp</span><span class=\"barcode\"; style=\"color: black; background-color: #fcfefe\">&nbspdo&nbsp</span><span class=\"barcode\"; style=\"color: black; background-color: #feffff\">&nbspmore&nbsp</span><span class=\"barcode\"; style=\"color: black; background-color: #fafdfe\">&nbspharm&nbsp</span><span class=\"barcode\"; style=\"color: black; background-color: #fbfdfe\">&nbspthan&nbsp</span><span class=\"barcode\"; style=\"color: black; background-color: #fcfefe\">&nbspgood&nbsp</span><span class=\"barcode\"; style=\"color: black; background-color: #f8fcfe\">&nbsp.&nbsp</span>"
      ],
      "text/plain": [
       "<IPython.core.display.HTML object>"
      ]
     },
     "metadata": {},
     "output_type": "display_data"
    },
    {
     "name": "stdout",
     "output_type": "stream",
     "text": [
      "Viz irrel: \n"
     ]
    },
    {
     "data": {
      "text/html": [
       "<span class=\"barcode\"; style=\"color: black; background-color: #72c7e6\">&nbspfrance&nbsp</span><span class=\"barcode\"; style=\"color: black; background-color: #61c0e3\">&nbspopposes&nbsp</span><span class=\"barcode\"; style=\"color: black; background-color: #80cce9\">&nbspimmigrant&nbsp</span><span class=\"barcode\"; style=\"color: black; background-color: #5ebfe3\">&nbsptransit&nbsp</span><span class=\"barcode\"; style=\"color: black; background-color: #8cd1eb\">&nbspcamps&nbsp</span><span class=\"barcode\"; style=\"color: black; background-color: #57bce2\">&nbspin&nbsp</span><span class=\"barcode\"; style=\"color: black; background-color: #9fd9ee\">&nbspafrica&nbsp</span><span class=\"barcode\"; style=\"color: black; background-color: #64c1e4\">&nbspfrance&nbsp</span><span class=\"barcode\"; style=\"color: black; background-color: #52bae1\">&nbsp,&nbsp</span><span class=\"barcode\"; style=\"color: black; background-color: #5bbee2\">&nbspsweden&nbsp</span><span class=\"barcode\"; style=\"color: black; background-color: #54bbe1\">&nbspand&nbsp</span><span class=\"barcode\"; style=\"color: black; background-color: #62c0e4\">&nbspbelgium&nbsp</span><span class=\"barcode\"; style=\"color: black; background-color: #70c6e6\">&nbspshot&nbsp</span><span class=\"barcode\"; style=\"color: black; background-color: #6cc4e5\">&nbspdown&nbsp</span><span class=\"barcode\"; style=\"color: black; background-color: #5ebfe3\">&nbspa&nbsp</span><span class=\"barcode\"; style=\"color: black; background-color: #9bd7ee\">&nbspgerman&nbsp</span><span class=\"barcode\"; style=\"color: black; background-color: #80cce9\">&nbspproposal&nbsp</span><span class=\"barcode\"; style=\"color: black; background-color: #51bae1\">&nbspto&nbsp</span><span class=\"barcode\"; style=\"color: black; background-color: #56bbe1\">&nbspset&nbsp</span><span class=\"barcode\"; style=\"color: black; background-color: #52bae1\">&nbspup&nbsp</span><span class=\"barcode\"; style=\"color: black; background-color: #6dc5e6\">&nbspeuropean&nbsp</span><span class=\"barcode\"; style=\"color: black; background-color: #6ac3e5\">&nbspunion&nbsp</span><span class=\"barcode\"; style=\"color: black; background-color: 0.0\">&nbsprefugee&nbsp</span><span class=\"barcode\"; style=\"color: black; background-color: #70c6e6\">&nbspprocessing&nbsp</span><span class=\"barcode\"; style=\"color: black; background-color: #66c2e4\">&nbspcentres&nbsp</span><span class=\"barcode\"; style=\"color: black; background-color: #5bbee2\">&nbspin&nbsp</span><span class=\"barcode\"; style=\"color: black; background-color: #a7dcf0\">&nbspnorth&nbsp</span><span class=\"barcode\"; style=\"color: black; background-color: #b3e1f2\">&nbspafrica&nbsp</span><span class=\"barcode\"; style=\"color: black; background-color: #51b9e1\">&nbsp,&nbsp</span><span class=\"barcode\"; style=\"color: black; background-color: #5fbfe3\">&nbsparguing&nbsp</span><span class=\"barcode\"; style=\"color: black; background-color: #4fb9e0\">&nbspthat&nbsp</span><span class=\"barcode\"; style=\"color: black; background-color: #48b6df\">&nbspthe&nbsp</span><span class=\"barcode\"; style=\"color: black; background-color: #55bbe1\">&nbspidea&nbsp</span><span class=\"barcode\"; style=\"color: black; background-color: #51bae1\">&nbspwould&nbsp</span><span class=\"barcode\"; style=\"color: black; background-color: #4bb7e0\">&nbspdo&nbsp</span><span class=\"barcode\"; style=\"color: black; background-color: #49b6df\">&nbspmore&nbsp</span><span class=\"barcode\"; style=\"color: black; background-color: #4db8e0\">&nbspharm&nbsp</span><span class=\"barcode\"; style=\"color: black; background-color: #4cb8e0\">&nbspthan&nbsp</span><span class=\"barcode\"; style=\"color: black; background-color: #4bb7e0\">&nbspgood&nbsp</span><span class=\"barcode\"; style=\"color: black; background-color: #4fb9e0\">&nbsp.&nbsp</span>"
      ],
      "text/plain": [
       "<IPython.core.display.HTML object>"
      ]
     },
     "metadata": {},
     "output_type": "display_data"
    },
    {
     "name": "stdout",
     "output_type": "stream",
     "text": [
      "Viz rel-irrel: \n"
     ]
    },
    {
     "data": {
      "text/html": [
       "<span class=\"barcode\"; style=\"color: black; background-color: #edb4a7\">&nbspfrance&nbsp</span><span class=\"barcode\"; style=\"color: black; background-color: #e69988\">&nbspopposes&nbsp</span><span class=\"barcode\"; style=\"color: black; background-color: #f2c9c0\">&nbspimmigrant&nbsp</span><span class=\"barcode\"; style=\"color: black; background-color: #e59482\">&nbsptransit&nbsp</span><span class=\"barcode\"; style=\"color: black; background-color: #f6dcd6\">&nbspcamps&nbsp</span><span class=\"barcode\"; style=\"color: black; background-color: #e38b77\">&nbspin&nbsp</span><span class=\"barcode\"; style=\"color: black; background-color: #fdf8f7\">&nbspafrica&nbsp</span><span class=\"barcode\"; style=\"color: black; background-color: #e89e8e\">&nbspfrance&nbsp</span><span class=\"barcode\"; style=\"color: black; background-color: #e1836e\">&nbsp,&nbsp</span><span class=\"barcode\"; style=\"color: black; background-color: #e4917e\">&nbspsweden&nbsp</span><span class=\"barcode\"; style=\"color: black; background-color: #e28672\">&nbspand&nbsp</span><span class=\"barcode\"; style=\"color: black; background-color: #e79b89\">&nbspbelgium&nbsp</span><span class=\"barcode\"; style=\"color: black; background-color: #ecb0a3\">&nbspshot&nbsp</span><span class=\"barcode\"; style=\"color: black; background-color: #eaaa9b\">&nbspdown&nbsp</span><span class=\"barcode\"; style=\"color: black; background-color: #e59684\">&nbspa&nbsp</span><span class=\"barcode\"; style=\"color: black; background-color: #fcf3f1\">&nbspgerman&nbsp</span><span class=\"barcode\"; style=\"color: black; background-color: #f2c9bf\">&nbspproposal&nbsp</span><span class=\"barcode\"; style=\"color: black; background-color: #e1826c\">&nbspto&nbsp</span><span class=\"barcode\"; style=\"color: black; background-color: #e28874\">&nbspset&nbsp</span><span class=\"barcode\"; style=\"color: black; background-color: #e1836e\">&nbspup&nbsp</span><span class=\"barcode\"; style=\"color: black; background-color: #ebad9f\">&nbspeuropean&nbsp</span><span class=\"barcode\"; style=\"color: black; background-color: #eaa797\">&nbspunion&nbsp</span><span class=\"barcode\"; style=\"color: black; background-color: #48b6df\">&nbsprefugee&nbsp</span><span class=\"barcode\"; style=\"color: black; background-color: #ecb1a4\">&nbspprocessing&nbsp</span><span class=\"barcode\"; style=\"color: black; background-color: #e8a191\">&nbspcentres&nbsp</span><span class=\"barcode\"; style=\"color: black; background-color: #e4917e\">&nbspin&nbsp</span><span class=\"barcode\"; style=\"color: black; background-color: #f9fcfe\">&nbspnorth&nbsp</span><span class=\"barcode\"; style=\"color: black; background-color: #e0f3fa\">&nbspafrica&nbsp</span><span class=\"barcode\"; style=\"color: black; background-color: #e0806a\">&nbsp,&nbsp</span><span class=\"barcode\"; style=\"color: black; background-color: #e69785\">&nbsparguing&nbsp</span><span class=\"barcode\"; style=\"color: black; background-color: #e07f69\">&nbspthat&nbsp</span><span class=\"barcode\"; style=\"color: black; background-color: #dd735b\">&nbspthe&nbsp</span><span class=\"barcode\"; style=\"color: black; background-color: #e28772\">&nbspidea&nbsp</span><span class=\"barcode\"; style=\"color: black; background-color: #e1826c\">&nbspwould&nbsp</span><span class=\"barcode\"; style=\"color: black; background-color: #de7760\">&nbspdo&nbsp</span><span class=\"barcode\"; style=\"color: black; background-color: #dd755d\">&nbspmore&nbsp</span><span class=\"barcode\"; style=\"color: black; background-color: #df7b65\">&nbspharm&nbsp</span><span class=\"barcode\"; style=\"color: black; background-color: #df7a63\">&nbspthan&nbsp</span><span class=\"barcode\"; style=\"color: black; background-color: #de7861\">&nbspgood&nbsp</span><span class=\"barcode\"; style=\"color: black; background-color: #e07f69\">&nbsp.&nbsp</span>"
      ],
      "text/plain": [
       "<IPython.core.display.HTML object>"
      ]
     },
     "metadata": {},
     "output_type": "display_data"
    },
    {
     "name": "stdout",
     "output_type": "stream",
     "text": [
      "====================\n",
      "========== sample 1 ==========\n"
     ]
    },
    {
     "name": "stderr",
     "output_type": "stream",
     "text": [
      "Running decomposition in batches...: 100%|██████████| 1/1 [00:00<00:00,  1.59it/s]"
     ]
    },
    {
     "name": "stdout",
     "output_type": "stream",
     "text": [
      "Viz rel: \n"
     ]
    },
    {
     "name": "stderr",
     "output_type": "stream",
     "text": [
      "\n"
     ]
    },
    {
     "data": {
      "text/html": [
       "<span class=\"barcode\"; style=\"color: black; background-color: #ffffff\">&nbspmicrosoft&nbsp</span><span class=\"barcode\"; style=\"color: black; background-color: #fefaf9\">&nbsptakes&nbsp</span><span class=\"barcode\"; style=\"color: black; background-color: #fdf7f5\">&nbsplead&nbsp</span><span class=\"barcode\"; style=\"color: black; background-color: #fef9f8\">&nbspin&nbsp</span><span class=\"barcode\"; style=\"color: black; background-color: #fefbfa\">&nbsppda&nbsp</span><span class=\"barcode\"; style=\"color: black; background-color: #fbfefe\">&nbspsoftware&nbsp</span><span class=\"barcode\"; style=\"color: black; background-color: #fbfefe\">&nbspmicrosoft&nbsp</span><span class=\"barcode\"; style=\"color: black; background-color: #fffdfd\">&nbspcorp&nbsp</span><span class=\"barcode\"; style=\"color: black; background-color: #fffefe\">&nbsp.&nbsp</span><span class=\"barcode\"; style=\"color: black; background-color: #f6fcfd\">&nbsp'&nbsp</span><span class=\"barcode\"; style=\"color: black; background-color: #f6fcfd\">&nbsps&nbsp</span><span class=\"barcode\"; style=\"color: black; background-color: #f9fdfe\">&nbspsoftware&nbsp</span><span class=\"barcode\"; style=\"color: black; background-color: #f4fbfd\">&nbspplatform&nbsp</span><span class=\"barcode\"; style=\"color: black; background-color: #fdfeff\">&nbspfor&nbsp</span><span class=\"barcode\"; style=\"color: black; background-color: #fafdfe\">&nbsppersonal&nbsp</span><span class=\"barcode\"; style=\"color: black; background-color: -0.0\">&nbspdigital&nbsp</span><span class=\"barcode\"; style=\"color: black; background-color: #48b6df\">&nbspassistants&nbsp</span><span class=\"barcode\"; style=\"color: black; background-color: #feffff\">&nbsptook&nbsp</span><span class=\"barcode\"; style=\"color: black; background-color: #fefaf9\">&nbspover&nbsp</span><span class=\"barcode\"; style=\"color: black; background-color: #fefbfa\">&nbspthe&nbsp</span><span class=\"barcode\"; style=\"color: black; background-color: #fefbfa\">&nbspmarket&nbsp</span><span class=\"barcode\"; style=\"color: black; background-color: #fdf7f5\">&nbsplead&nbsp</span><span class=\"barcode\"; style=\"color: black; background-color: #fdf8f7\">&nbspfrom&nbsp</span><span class=\"barcode\"; style=\"color: black; background-color: #fbfdfe\">&nbsppalmsource&nbsp</span><span class=\"barcode\"; style=\"color: black; background-color: #fefdfc\">&nbspinc&nbsp</span><span class=\"barcode\"; style=\"color: black; background-color: #fefdfc\">&nbsp.&nbsp</span><span class=\"barcode\"; style=\"color: black; background-color: #fefaf9\">&nbspfor&nbsp</span><span class=\"barcode\"; style=\"color: black; background-color: #fefaf9\">&nbspthe&nbsp</span><span class=\"barcode\"; style=\"color: black; background-color: #fefaf9\">&nbspfirst&nbsp</span><span class=\"barcode\"; style=\"color: black; background-color: #fefaf9\">&nbsptime&nbsp</span><span class=\"barcode\"; style=\"color: black; background-color: #fefaf9\">&nbspin&nbsp</span><span class=\"barcode\"; style=\"color: black; background-color: #fefaf9\">&nbspthe&nbsp</span><span class=\"barcode\"; style=\"color: black; background-color: #fefbfa\">&nbspthird&nbsp</span><span class=\"barcode\"; style=\"color: black; background-color: #fefbfa\">&nbspquarter&nbsp</span><span class=\"barcode\"; style=\"color: black; background-color: #fefbfa\">&nbsp,&nbsp</span><span class=\"barcode\"; style=\"color: black; background-color: #feffff\">&nbspaccording&nbsp</span><span class=\"barcode\"; style=\"color: black; background-color: #fefbfa\">&nbspto&nbsp</span><span class=\"barcode\"; style=\"color: black; background-color: #fffdfd\">&nbspmarket&nbsp</span><span class=\"barcode\"; style=\"color: black; background-color: #fffdfd\">&nbspresearch&nbsp</span><span class=\"barcode\"; style=\"color: black; background-color: #ffffff\">&nbspreleased&nbsp</span><span class=\"barcode\"; style=\"color: black; background-color: #fcfefe\">&nbspfriday&nbsp</span><span class=\"barcode\"; style=\"color: black; background-color: #fefcfc\">&nbsp.&nbsp</span>"
      ],
      "text/plain": [
       "<IPython.core.display.HTML object>"
      ]
     },
     "metadata": {},
     "output_type": "display_data"
    },
    {
     "name": "stdout",
     "output_type": "stream",
     "text": [
      "Viz irrel: \n"
     ]
    },
    {
     "data": {
      "text/html": [
       "<span class=\"barcode\"; style=\"color: black; background-color: #f9fcfe\">&nbspmicrosoft&nbsp</span><span class=\"barcode\"; style=\"color: black; background-color: #f9fcfe\">&nbsptakes&nbsp</span><span class=\"barcode\"; style=\"color: black; background-color: #f9fcfe\">&nbsplead&nbsp</span><span class=\"barcode\"; style=\"color: black; background-color: #f9fcfe\">&nbspin&nbsp</span><span class=\"barcode\"; style=\"color: black; background-color: #a0d9ee\">&nbsppda&nbsp</span><span class=\"barcode\"; style=\"color: black; background-color: #f9fcfe\">&nbspsoftware&nbsp</span><span class=\"barcode\"; style=\"color: black; background-color: #f9fcfe\">&nbspmicrosoft&nbsp</span><span class=\"barcode\"; style=\"color: black; background-color: #f9fcfe\">&nbspcorp&nbsp</span><span class=\"barcode\"; style=\"color: black; background-color: #f9fcfe\">&nbsp.&nbsp</span><span class=\"barcode\"; style=\"color: black; background-color: #f9fdfe\">&nbsp'&nbsp</span><span class=\"barcode\"; style=\"color: black; background-color: #f9fdfe\">&nbsps&nbsp</span><span class=\"barcode\"; style=\"color: black; background-color: #f9fdfe\">&nbspsoftware&nbsp</span><span class=\"barcode\"; style=\"color: black; background-color: #f9fdfe\">&nbspplatform&nbsp</span><span class=\"barcode\"; style=\"color: black; background-color: #f9fcfe\">&nbspfor&nbsp</span><span class=\"barcode\"; style=\"color: black; background-color: #f9fcfe\">&nbsppersonal&nbsp</span><span class=\"barcode\"; style=\"color: black; background-color: #f9fcfe\">&nbspdigital&nbsp</span><span class=\"barcode\"; style=\"color: black; background-color: 0.0\">&nbspassistants&nbsp</span><span class=\"barcode\"; style=\"color: black; background-color: #f9fcfe\">&nbsptook&nbsp</span><span class=\"barcode\"; style=\"color: black; background-color: #f9fcfe\">&nbspover&nbsp</span><span class=\"barcode\"; style=\"color: black; background-color: #f9fcfe\">&nbspthe&nbsp</span><span class=\"barcode\"; style=\"color: black; background-color: #f9fcfe\">&nbspmarket&nbsp</span><span class=\"barcode\"; style=\"color: black; background-color: #f9fcfe\">&nbsplead&nbsp</span><span class=\"barcode\"; style=\"color: black; background-color: #f9fcfe\">&nbspfrom&nbsp</span><span class=\"barcode\"; style=\"color: black; background-color: #48b6df\">&nbsppalmsource&nbsp</span><span class=\"barcode\"; style=\"color: black; background-color: #f9fcfe\">&nbspinc&nbsp</span><span class=\"barcode\"; style=\"color: black; background-color: #f9fcfe\">&nbsp.&nbsp</span><span class=\"barcode\"; style=\"color: black; background-color: #f9fcfe\">&nbspfor&nbsp</span><span class=\"barcode\"; style=\"color: black; background-color: #f9fcfe\">&nbspthe&nbsp</span><span class=\"barcode\"; style=\"color: black; background-color: #f9fcfe\">&nbspfirst&nbsp</span><span class=\"barcode\"; style=\"color: black; background-color: #f9fcfe\">&nbsptime&nbsp</span><span class=\"barcode\"; style=\"color: black; background-color: #f9fcfe\">&nbspin&nbsp</span><span class=\"barcode\"; style=\"color: black; background-color: #f9fcfe\">&nbspthe&nbsp</span><span class=\"barcode\"; style=\"color: black; background-color: #f9fcfe\">&nbspthird&nbsp</span><span class=\"barcode\"; style=\"color: black; background-color: #f9fcfe\">&nbspquarter&nbsp</span><span class=\"barcode\"; style=\"color: black; background-color: #f9fcfe\">&nbsp,&nbsp</span><span class=\"barcode\"; style=\"color: black; background-color: #f9fcfe\">&nbspaccording&nbsp</span><span class=\"barcode\"; style=\"color: black; background-color: #f9fcfe\">&nbspto&nbsp</span><span class=\"barcode\"; style=\"color: black; background-color: #f9fcfe\">&nbspmarket&nbsp</span><span class=\"barcode\"; style=\"color: black; background-color: #f9fcfe\">&nbspresearch&nbsp</span><span class=\"barcode\"; style=\"color: black; background-color: #f9fcfe\">&nbspreleased&nbsp</span><span class=\"barcode\"; style=\"color: black; background-color: #f9fcfe\">&nbspfriday&nbsp</span><span class=\"barcode\"; style=\"color: black; background-color: #f9fcfe\">&nbsp.&nbsp</span>"
      ],
      "text/plain": [
       "<IPython.core.display.HTML object>"
      ]
     },
     "metadata": {},
     "output_type": "display_data"
    },
    {
     "name": "stdout",
     "output_type": "stream",
     "text": [
      "Viz rel-irrel: \n"
     ]
    },
    {
     "data": {
      "text/html": [
       "<span class=\"barcode\"; style=\"color: black; background-color: #fefaf9\">&nbspmicrosoft&nbsp</span><span class=\"barcode\"; style=\"color: black; background-color: #fcf4f2\">&nbsptakes&nbsp</span><span class=\"barcode\"; style=\"color: black; background-color: #fcf1ef\">&nbsplead&nbsp</span><span class=\"barcode\"; style=\"color: black; background-color: #fcf3f1\">&nbspin&nbsp</span><span class=\"barcode\"; style=\"color: black; background-color: #ecb2a4\">&nbsppda&nbsp</span><span class=\"barcode\"; style=\"color: black; background-color: #fefdfc\">&nbspsoftware&nbsp</span><span class=\"barcode\"; style=\"color: black; background-color: #fffdfd\">&nbspmicrosoft&nbsp</span><span class=\"barcode\"; style=\"color: black; background-color: #fdf8f7\">&nbspcorp&nbsp</span><span class=\"barcode\"; style=\"color: black; background-color: #fdf8f7\">&nbsp.&nbsp</span><span class=\"barcode\"; style=\"color: black; background-color: #fcfefe\">&nbsp'&nbsp</span><span class=\"barcode\"; style=\"color: black; background-color: #fdfeff\">&nbsps&nbsp</span><span class=\"barcode\"; style=\"color: black; background-color: #ffffff\">&nbspsoftware&nbsp</span><span class=\"barcode\"; style=\"color: black; background-color: #fbfdfe\">&nbspplatform&nbsp</span><span class=\"barcode\"; style=\"color: black; background-color: #fefcfc\">&nbspfor&nbsp</span><span class=\"barcode\"; style=\"color: black; background-color: #fffefe\">&nbsppersonal&nbsp</span><span class=\"barcode\"; style=\"color: black; background-color: #fefaf9\">&nbspdigital&nbsp</span><span class=\"barcode\"; style=\"color: black; background-color: #48b6df\">&nbspassistants&nbsp</span><span class=\"barcode\"; style=\"color: black; background-color: #fefbfa\">&nbsptook&nbsp</span><span class=\"barcode\"; style=\"color: black; background-color: #fcf5f3\">&nbspover&nbsp</span><span class=\"barcode\"; style=\"color: black; background-color: #fdf6f4\">&nbspthe&nbsp</span><span class=\"barcode\"; style=\"color: black; background-color: #fdf6f5\">&nbspmarket&nbsp</span><span class=\"barcode\"; style=\"color: black; background-color: #fcf1ef\">&nbsplead&nbsp</span><span class=\"barcode\"; style=\"color: black; background-color: #fcf3f1\">&nbspfrom&nbsp</span><span class=\"barcode\"; style=\"color: black; background-color: #de765f\">&nbsppalmsource&nbsp</span><span class=\"barcode\"; style=\"color: black; background-color: #fdf7f6\">&nbspinc&nbsp</span><span class=\"barcode\"; style=\"color: black; background-color: #fdf7f6\">&nbsp.&nbsp</span><span class=\"barcode\"; style=\"color: black; background-color: #fdf5f3\">&nbspfor&nbsp</span><span class=\"barcode\"; style=\"color: black; background-color: #fcf5f3\">&nbspthe&nbsp</span><span class=\"barcode\"; style=\"color: black; background-color: #fcf4f2\">&nbspfirst&nbsp</span><span class=\"barcode\"; style=\"color: black; background-color: #fcf4f2\">&nbsptime&nbsp</span><span class=\"barcode\"; style=\"color: black; background-color: #fcf5f3\">&nbspin&nbsp</span><span class=\"barcode\"; style=\"color: black; background-color: #fcf4f2\">&nbspthe&nbsp</span><span class=\"barcode\"; style=\"color: black; background-color: #fdf6f4\">&nbspthird&nbsp</span><span class=\"barcode\"; style=\"color: black; background-color: #fdf6f5\">&nbspquarter&nbsp</span><span class=\"barcode\"; style=\"color: black; background-color: #fdf5f3\">&nbsp,&nbsp</span><span class=\"barcode\"; style=\"color: black; background-color: #fefbfa\">&nbspaccording&nbsp</span><span class=\"barcode\"; style=\"color: black; background-color: #fdf6f4\">&nbspto&nbsp</span><span class=\"barcode\"; style=\"color: black; background-color: #fdf8f7\">&nbspmarket&nbsp</span><span class=\"barcode\"; style=\"color: black; background-color: #fdf8f7\">&nbspresearch&nbsp</span><span class=\"barcode\"; style=\"color: black; background-color: #fefaf9\">&nbspreleased&nbsp</span><span class=\"barcode\"; style=\"color: black; background-color: #fefdfc\">&nbspfriday&nbsp</span><span class=\"barcode\"; style=\"color: black; background-color: #fdf7f6\">&nbsp.&nbsp</span>"
      ],
      "text/plain": [
       "<IPython.core.display.HTML object>"
      ]
     },
     "metadata": {},
     "output_type": "display_data"
    },
    {
     "name": "stdout",
     "output_type": "stream",
     "text": [
      "====================\n",
      "========== sample 2 ==========\n"
     ]
    },
    {
     "name": "stderr",
     "output_type": "stream",
     "text": [
      "Running decomposition in batches...: 100%|██████████| 1/1 [00:00<00:00,  1.92it/s]"
     ]
    },
    {
     "name": "stdout",
     "output_type": "stream",
     "text": [
      "Viz rel: \n"
     ]
    },
    {
     "name": "stderr",
     "output_type": "stream",
     "text": [
      "\n"
     ]
    },
    {
     "data": {
      "text/html": [
       "<span class=\"barcode\"; style=\"color: black; background-color: #52bae1\">&nbspiran&nbsp</span><span class=\"barcode\"; style=\"color: black; background-color: #daf0f8\">&nbspagrees&nbsp</span><span class=\"barcode\"; style=\"color: black; background-color: #fafdfe\">&nbspto&nbsp</span><span class=\"barcode\"; style=\"color: black; background-color: #e5f5fa\">&nbspsuspend&nbsp</span><span class=\"barcode\"; style=\"color: black; background-color: #6ac4e5\">&nbspuranium&nbsp</span><span class=\"barcode\"; style=\"color: black; background-color: #91d3ec\">&nbspenrichment&nbsp</span><span class=\"barcode\"; style=\"color: black; background-color: #e8f6fb\">&nbsp(&nbsp</span><span class=\"barcode\"; style=\"color: black; background-color: #86cfea\">&nbspap&nbsp</span><span class=\"barcode\"; style=\"color: black; background-color: #b4e1f2\">&nbsp)&nbsp</span><span class=\"barcode\"; style=\"color: black; background-color: #48b6df\">&nbspap&nbsp</span><span class=\"barcode\"; style=\"color: black; background-color: #bde5f3\">&nbsp-&nbsp</span><span class=\"barcode\"; style=\"color: black; background-color: #72c7e6\">&nbspiran&nbsp</span><span class=\"barcode\"; style=\"color: black; background-color: #e2f3fa\">&nbsphas&nbsp</span><span class=\"barcode\"; style=\"color: black; background-color: #e9f6fb\">&nbspagreed&nbsp</span><span class=\"barcode\"; style=\"color: black; background-color: #f9fcfe\">&nbspto&nbsp</span><span class=\"barcode\"; style=\"color: black; background-color: #f9fdfe\">&nbspfully&nbsp</span><span class=\"barcode\"; style=\"color: black; background-color: #e4f4fa\">&nbspsuspend&nbsp</span><span class=\"barcode\"; style=\"color: black; background-color: #90d3ec\">&nbspuranium&nbsp</span><span class=\"barcode\"; style=\"color: black; background-color: #b3e1f2\">&nbspenrichment&nbsp</span><span class=\"barcode\"; style=\"color: black; background-color: #e9f6fb\">&nbspand&nbsp</span><span class=\"barcode\"; style=\"color: black; background-color: #e5f5fa\">&nbsplinked&nbsp</span><span class=\"barcode\"; style=\"color: black; background-color: #cfecf7\">&nbspactivities&nbsp</span><span class=\"barcode\"; style=\"color: black; background-color: #f1f9fc\">&nbspthat&nbsp</span><span class=\"barcode\"; style=\"color: black; background-color: #c6e8f5\">&nbspwashington&nbsp</span><span class=\"barcode\"; style=\"color: black; background-color: #e4f4fa\">&nbspasserts&nbsp</span><span class=\"barcode\"; style=\"color: black; background-color: #f6fcfd\">&nbspare&nbsp</span><span class=\"barcode\"; style=\"color: black; background-color: 0.0\">&nbsppart&nbsp</span><span class=\"barcode\"; style=\"color: black; background-color: #f9fdfe\">&nbspof&nbsp</span><span class=\"barcode\"; style=\"color: black; background-color: #f6fcfd\">&nbspa&nbsp</span><span class=\"barcode\"; style=\"color: black; background-color: #daf0f9\">&nbspnuclear&nbsp</span><span class=\"barcode\"; style=\"color: black; background-color: #ebf7fb\">&nbspweapons&nbsp</span><span class=\"barcode\"; style=\"color: black; background-color: #f6fbfd\">&nbspprogram&nbsp</span><span class=\"barcode\"; style=\"color: black; background-color: #eef8fc\">&nbsp,&nbsp</span><span class=\"barcode\"; style=\"color: black; background-color: #d5eef8\">&nbspdiplomats&nbsp</span><span class=\"barcode\"; style=\"color: black; background-color: #ebf7fb\">&nbspsaid&nbsp</span><span class=\"barcode\"; style=\"color: black; background-color: #e7f6fb\">&nbspsunday&nbsp</span><span class=\"barcode\"; style=\"color: black; background-color: #f1fafd\">&nbsp.&nbsp</span>"
      ],
      "text/plain": [
       "<IPython.core.display.HTML object>"
      ]
     },
     "metadata": {},
     "output_type": "display_data"
    },
    {
     "name": "stdout",
     "output_type": "stream",
     "text": [
      "Viz irrel: \n"
     ]
    },
    {
     "data": {
      "text/html": [
       "<span class=\"barcode\"; style=\"color: black; background-color: #f5fbfd\">&nbspiran&nbsp</span><span class=\"barcode\"; style=\"color: black; background-color: #6dc5e6\">&nbspagrees&nbsp</span><span class=\"barcode\"; style=\"color: black; background-color: #4db8e0\">&nbspto&nbsp</span><span class=\"barcode\"; style=\"color: black; background-color: #62c0e4\">&nbspsuspend&nbsp</span><span class=\"barcode\"; style=\"color: black; background-color: #ddf1f9\">&nbspuranium&nbsp</span><span class=\"barcode\"; style=\"color: black; background-color: #b6e2f2\">&nbspenrichment&nbsp</span><span class=\"barcode\"; style=\"color: black; background-color: #5fbfe3\">&nbsp(&nbsp</span><span class=\"barcode\"; style=\"color: black; background-color: #c1e6f4\">&nbspap&nbsp</span><span class=\"barcode\"; style=\"color: black; background-color: #93d4ec\">&nbsp)&nbsp</span><span class=\"barcode\"; style=\"color: black; background-color: 0.0\">&nbspap&nbsp</span><span class=\"barcode\"; style=\"color: black; background-color: #8ad0eb\">&nbsp-&nbsp</span><span class=\"barcode\"; style=\"color: black; background-color: #d5eef8\">&nbspiran&nbsp</span><span class=\"barcode\"; style=\"color: black; background-color: #65c2e4\">&nbsphas&nbsp</span><span class=\"barcode\"; style=\"color: black; background-color: #5ebfe3\">&nbspagreed&nbsp</span><span class=\"barcode\"; style=\"color: black; background-color: #4eb9e0\">&nbspto&nbsp</span><span class=\"barcode\"; style=\"color: black; background-color: #4eb8e0\">&nbspfully&nbsp</span><span class=\"barcode\"; style=\"color: black; background-color: #63c1e4\">&nbspsuspend&nbsp</span><span class=\"barcode\"; style=\"color: black; background-color: #b7e2f2\">&nbspuranium&nbsp</span><span class=\"barcode\"; style=\"color: black; background-color: #94d4ec\">&nbspenrichment&nbsp</span><span class=\"barcode\"; style=\"color: black; background-color: #5ebfe3\">&nbspand&nbsp</span><span class=\"barcode\"; style=\"color: black; background-color: #62c0e4\">&nbsplinked&nbsp</span><span class=\"barcode\"; style=\"color: black; background-color: #78c9e7\">&nbspactivities&nbsp</span><span class=\"barcode\"; style=\"color: black; background-color: #56bce2\">&nbspthat&nbsp</span><span class=\"barcode\"; style=\"color: black; background-color: #81cde9\">&nbspwashington&nbsp</span><span class=\"barcode\"; style=\"color: black; background-color: #63c1e4\">&nbspasserts&nbsp</span><span class=\"barcode\"; style=\"color: black; background-color: #51b9e1\">&nbspare&nbsp</span><span class=\"barcode\"; style=\"color: black; background-color: #48b6df\">&nbsppart&nbsp</span><span class=\"barcode\"; style=\"color: black; background-color: #4eb8e0\">&nbspof&nbsp</span><span class=\"barcode\"; style=\"color: black; background-color: #51b9e1\">&nbspa&nbsp</span><span class=\"barcode\"; style=\"color: black; background-color: #6dc5e5\">&nbspnuclear&nbsp</span><span class=\"barcode\"; style=\"color: black; background-color: #5cbee3\">&nbspweapons&nbsp</span><span class=\"barcode\"; style=\"color: black; background-color: #51bae1\">&nbspprogram&nbsp</span><span class=\"barcode\"; style=\"color: black; background-color: #59bde2\">&nbsp,&nbsp</span><span class=\"barcode\"; style=\"color: black; background-color: #72c7e6\">&nbspdiplomats&nbsp</span><span class=\"barcode\"; style=\"color: black; background-color: #5cbee3\">&nbspsaid&nbsp</span><span class=\"barcode\"; style=\"color: black; background-color: #60bfe3\">&nbspsunday&nbsp</span><span class=\"barcode\"; style=\"color: black; background-color: #56bbe1\">&nbsp.&nbsp</span>"
      ],
      "text/plain": [
       "<IPython.core.display.HTML object>"
      ]
     },
     "metadata": {},
     "output_type": "display_data"
    },
    {
     "name": "stdout",
     "output_type": "stream",
     "text": [
      "Viz rel-irrel: \n"
     ]
    },
    {
     "data": {
      "text/html": [
       "<span class=\"barcode\"; style=\"color: black; background-color: #5cbee3\">&nbspiran&nbsp</span><span class=\"barcode\"; style=\"color: black; background-color: #ebad9f\">&nbspagrees&nbsp</span><span class=\"barcode\"; style=\"color: black; background-color: #df7b65\">&nbspto&nbsp</span><span class=\"barcode\"; style=\"color: black; background-color: #e79b8a\">&nbspsuspend&nbsp</span><span class=\"barcode\"; style=\"color: black; background-color: #8ed2eb\">&nbspuranium&nbsp</span><span class=\"barcode\"; style=\"color: black; background-color: #dbf1f9\">&nbspenrichment&nbsp</span><span class=\"barcode\"; style=\"color: black; background-color: #e69684\">&nbsp(&nbsp</span><span class=\"barcode\"; style=\"color: black; background-color: #c5e8f5\">&nbspap&nbsp</span><span class=\"barcode\"; style=\"color: black; background-color: #f9e6e2\">&nbsp)&nbsp</span><span class=\"barcode\"; style=\"color: black; background-color: #48b6df\">&nbspap&nbsp</span><span class=\"barcode\"; style=\"color: black; background-color: #f6d9d2\">&nbsp-&nbsp</span><span class=\"barcode\"; style=\"color: black; background-color: #9bd7ee\">&nbspiran&nbsp</span><span class=\"barcode\"; style=\"color: black; background-color: #e8a090\">&nbsphas&nbsp</span><span class=\"barcode\"; style=\"color: black; background-color: #e59684\">&nbspagreed&nbsp</span><span class=\"barcode\"; style=\"color: black; background-color: #e07d67\">&nbspto&nbsp</span><span class=\"barcode\"; style=\"color: black; background-color: #df7c65\">&nbspfully&nbsp</span><span class=\"barcode\"; style=\"color: black; background-color: #e79c8b\">&nbspsuspend&nbsp</span><span class=\"barcode\"; style=\"color: black; background-color: #daf0f8\">&nbspuranium&nbsp</span><span class=\"barcode\"; style=\"color: black; background-color: #f9e7e3\">&nbspenrichment&nbsp</span><span class=\"barcode\"; style=\"color: black; background-color: #e59583\">&nbspand&nbsp</span><span class=\"barcode\"; style=\"color: black; background-color: #e79b8a\">&nbsplinked&nbsp</span><span class=\"barcode\"; style=\"color: black; background-color: #efbdb2\">&nbspactivities&nbsp</span><span class=\"barcode\"; style=\"color: black; background-color: #e28975\">&nbspthat&nbsp</span><span class=\"barcode\"; style=\"color: black; background-color: #f2cbc3\">&nbspwashington&nbsp</span><span class=\"barcode\"; style=\"color: black; background-color: #e79c8b\">&nbspasserts&nbsp</span><span class=\"barcode\"; style=\"color: black; background-color: #e0806a\">&nbspare&nbsp</span><span class=\"barcode\"; style=\"color: black; background-color: #dd735b\">&nbsppart&nbsp</span><span class=\"barcode\"; style=\"color: black; background-color: #df7c65\">&nbspof&nbsp</span><span class=\"barcode\"; style=\"color: black; background-color: #e0816b\">&nbspa&nbsp</span><span class=\"barcode\"; style=\"color: black; background-color: #ebac9d\">&nbspnuclear&nbsp</span><span class=\"barcode\"; style=\"color: black; background-color: #e4927f\">&nbspweapons&nbsp</span><span class=\"barcode\"; style=\"color: black; background-color: #e0816c\">&nbspprogram&nbsp</span><span class=\"barcode\"; style=\"color: black; background-color: #e38d79\">&nbsp,&nbsp</span><span class=\"barcode\"; style=\"color: black; background-color: #edb4a8\">&nbspdiplomats&nbsp</span><span class=\"barcode\"; style=\"color: black; background-color: #e59280\">&nbspsaid&nbsp</span><span class=\"barcode\"; style=\"color: black; background-color: #e69785\">&nbspsunday&nbsp</span><span class=\"barcode\"; style=\"color: black; background-color: #e28874\">&nbsp.&nbsp</span>"
      ],
      "text/plain": [
       "<IPython.core.display.HTML object>"
      ]
     },
     "metadata": {},
     "output_type": "display_data"
    },
    {
     "name": "stdout",
     "output_type": "stream",
     "text": [
      "====================\n",
      "========== sample 3 ==========\n"
     ]
    },
    {
     "name": "stderr",
     "output_type": "stream",
     "text": [
      "Running decomposition in batches...: 100%|██████████| 1/1 [00:00<00:00,  1.40it/s]"
     ]
    },
    {
     "name": "stdout",
     "output_type": "stream",
     "text": [
      "Viz rel: \n"
     ]
    },
    {
     "name": "stderr",
     "output_type": "stream",
     "text": [
      "\n"
     ]
    },
    {
     "data": {
      "text/html": [
       "<span class=\"barcode\"; style=\"color: black; background-color: #edf8fc\">&nbsphollywood&nbsp</span><span class=\"barcode\"; style=\"color: black; background-color: #f0f9fc\">&nbspto&nbsp</span><span class=\"barcode\"; style=\"color: black; background-color: #c5e8f5\">&nbspsue&nbsp</span><span class=\"barcode\"; style=\"color: black; background-color: #cbeaf6\">&nbspserver&nbsp</span><span class=\"barcode\"; style=\"color: black; background-color: #e5f5fa\">&nbspoperators&nbsp</span><span class=\"barcode\"; style=\"color: black; background-color: #fbfdfe\">&nbspin&nbsp</span><span class=\"barcode\"; style=\"color: black; background-color: #f4fafd\">&nbspbid&nbsp</span><span class=\"barcode\"; style=\"color: black; background-color: #fbfdfe\">&nbspto&nbsp</span><span class=\"barcode\"; style=\"color: black; background-color: #b8e3f3\">&nbspstymie&nbsp</span><span class=\"barcode\"; style=\"color: black; background-color: #d2edf7\">&nbsponline&nbsp</span><span class=\"barcode\"; style=\"color: black; background-color: #48b6df\">&nbsppiracy&nbsp</span><span class=\"barcode\"; style=\"color: black; background-color: #f2fafd\">&nbsplos&nbsp</span><span class=\"barcode\"; style=\"color: black; background-color: #ddf1f9\">&nbspangeles&nbsp</span><span class=\"barcode\"; style=\"color: black; background-color: #ebf7fb\">&nbsp-&nbsp</span><span class=\"barcode\"; style=\"color: black; background-color: #f2fafd\">&nbsp-&nbsp</span><span class=\"barcode\"; style=\"color: black; background-color: #f0f9fc\">&nbsphollywood&nbsp</span><span class=\"barcode\"; style=\"color: black; background-color: #e4f4fa\">&nbspmovie&nbsp</span><span class=\"barcode\"; style=\"color: black; background-color: #e6f5fb\">&nbspstudios&nbsp</span><span class=\"barcode\"; style=\"color: black; background-color: #f4fafd\">&nbspon&nbsp</span><span class=\"barcode\"; style=\"color: black; background-color: #e8f6fb\">&nbsptuesday&nbsp</span><span class=\"barcode\"; style=\"color: black; background-color: #d1edf7\">&nbspsued&nbsp</span><span class=\"barcode\"; style=\"color: black; background-color: #f0f9fc\">&nbspscores&nbsp</span><span class=\"barcode\"; style=\"color: black; background-color: #fbfdfe\">&nbspof&nbsp</span><span class=\"barcode\"; style=\"color: black; background-color: #e9f6fb\">&nbspoperators&nbsp</span><span class=\"barcode\"; style=\"color: black; background-color: #fbfefe\">&nbspof&nbsp</span><span class=\"barcode\"; style=\"color: black; background-color: #f4fbfd\">&nbspus&nbsp</span><span class=\"barcode\"; style=\"color: black; background-color: #fefeff\">&nbsp-&nbsp</span><span class=\"barcode\"; style=\"color: black; background-color: #fbfdfe\">&nbspand&nbsp</span><span class=\"barcode\"; style=\"color: black; background-color: #f9fcfe\">&nbspeuropean&nbsp</span><span class=\"barcode\"; style=\"color: black; background-color: 0.0\">&nbsp-&nbsp</span><span class=\"barcode\"; style=\"color: black; background-color: #fcfefe\">&nbspbased&nbsp</span><span class=\"barcode\"; style=\"color: black; background-color: #fcfefe\">&nbspcomputer&nbsp</span><span class=\"barcode\"; style=\"color: black; background-color: #e4f4fa\">&nbspservers&nbsp</span><span class=\"barcode\"; style=\"color: black; background-color: #f7fcfe\">&nbspthat&nbsp</span><span class=\"barcode\"; style=\"color: black; background-color: #fafdfe\">&nbsphelp&nbsp</span><span class=\"barcode\"; style=\"color: black; background-color: #f9fcfe\">&nbsprelay&nbsp</span><span class=\"barcode\"; style=\"color: black; background-color: #b5e2f2\">&nbspdigitized&nbsp</span><span class=\"barcode\"; style=\"color: black; background-color: #e9f6fb\">&nbspmovie&nbsp</span><span class=\"barcode\"; style=\"color: black; background-color: #f3fafd\">&nbspfiles&nbsp</span><span class=\"barcode\"; style=\"color: black; background-color: #fafdfe\">&nbspacross&nbsp</span><span class=\"barcode\"; style=\"color: black; background-color: #eff9fc\">&nbsponline&nbsp</span><span class=\"barcode\"; style=\"color: black; background-color: #f5fbfd\">&nbspfile&nbsp</span><span class=\"barcode\"; style=\"color: black; background-color: #ffffff\">&nbsp-&nbsp</span><span class=\"barcode\"; style=\"color: black; background-color: #f9fdfe\">&nbspsharing&nbsp</span><span class=\"barcode\"; style=\"color: black; background-color: #fafdfe\">&nbspnetworks&nbsp</span><span class=\"barcode\"; style=\"color: black; background-color: #fbfefe\">&nbsp.&nbsp</span>"
      ],
      "text/plain": [
       "<IPython.core.display.HTML object>"
      ]
     },
     "metadata": {},
     "output_type": "display_data"
    },
    {
     "name": "stdout",
     "output_type": "stream",
     "text": [
      "Viz irrel: \n"
     ]
    },
    {
     "data": {
      "text/html": [
       "<span class=\"barcode\"; style=\"color: black; background-color: #fbfefe\">&nbsphollywood&nbsp</span><span class=\"barcode\"; style=\"color: black; background-color: #fbfefe\">&nbspto&nbsp</span><span class=\"barcode\"; style=\"color: black; background-color: #fcfefe\">&nbspsue&nbsp</span><span class=\"barcode\"; style=\"color: black; background-color: #fcfefe\">&nbspserver&nbsp</span><span class=\"barcode\"; style=\"color: black; background-color: #fbfefe\">&nbspoperators&nbsp</span><span class=\"barcode\"; style=\"color: black; background-color: #fbfdfe\">&nbspin&nbsp</span><span class=\"barcode\"; style=\"color: black; background-color: #fbfefe\">&nbspbid&nbsp</span><span class=\"barcode\"; style=\"color: black; background-color: #fbfdfe\">&nbspto&nbsp</span><span class=\"barcode\"; style=\"color: black; background-color: #48b6df\">&nbspstymie&nbsp</span><span class=\"barcode\"; style=\"color: black; background-color: #fcfefe\">&nbsponline&nbsp</span><span class=\"barcode\"; style=\"color: black; background-color: 0.0\">&nbsppiracy&nbsp</span><span class=\"barcode\"; style=\"color: black; background-color: #fbfefe\">&nbsplos&nbsp</span><span class=\"barcode\"; style=\"color: black; background-color: #fbfefe\">&nbspangeles&nbsp</span><span class=\"barcode\"; style=\"color: black; background-color: #fbfefe\">&nbsp-&nbsp</span><span class=\"barcode\"; style=\"color: black; background-color: #fbfefe\">&nbsp-&nbsp</span><span class=\"barcode\"; style=\"color: black; background-color: #fbfefe\">&nbsphollywood&nbsp</span><span class=\"barcode\"; style=\"color: black; background-color: #fbfefe\">&nbspmovie&nbsp</span><span class=\"barcode\"; style=\"color: black; background-color: #fbfefe\">&nbspstudios&nbsp</span><span class=\"barcode\"; style=\"color: black; background-color: #fbfefe\">&nbspon&nbsp</span><span class=\"barcode\"; style=\"color: black; background-color: #fbfefe\">&nbsptuesday&nbsp</span><span class=\"barcode\"; style=\"color: black; background-color: #fcfefe\">&nbspsued&nbsp</span><span class=\"barcode\"; style=\"color: black; background-color: #fbfefe\">&nbspscores&nbsp</span><span class=\"barcode\"; style=\"color: black; background-color: #fbfdfe\">&nbspof&nbsp</span><span class=\"barcode\"; style=\"color: black; background-color: #fbfefe\">&nbspoperators&nbsp</span><span class=\"barcode\"; style=\"color: black; background-color: #fbfdfe\">&nbspof&nbsp</span><span class=\"barcode\"; style=\"color: black; background-color: #fbfefe\">&nbspus&nbsp</span><span class=\"barcode\"; style=\"color: black; background-color: #fbfdfe\">&nbsp-&nbsp</span><span class=\"barcode\"; style=\"color: black; background-color: #fbfdfe\">&nbspand&nbsp</span><span class=\"barcode\"; style=\"color: black; background-color: #fbfdfe\">&nbspeuropean&nbsp</span><span class=\"barcode\"; style=\"color: black; background-color: #fbfdfe\">&nbsp-&nbsp</span><span class=\"barcode\"; style=\"color: black; background-color: #fbfdfe\">&nbspbased&nbsp</span><span class=\"barcode\"; style=\"color: black; background-color: #fbfdfe\">&nbspcomputer&nbsp</span><span class=\"barcode\"; style=\"color: black; background-color: #fbfefe\">&nbspservers&nbsp</span><span class=\"barcode\"; style=\"color: black; background-color: #fbfdfe\">&nbspthat&nbsp</span><span class=\"barcode\"; style=\"color: black; background-color: #fbfdfe\">&nbsphelp&nbsp</span><span class=\"barcode\"; style=\"color: black; background-color: #fbfdfe\">&nbsprelay&nbsp</span><span class=\"barcode\"; style=\"color: black; background-color: #a2daef\">&nbspdigitized&nbsp</span><span class=\"barcode\"; style=\"color: black; background-color: #fbfefe\">&nbspmovie&nbsp</span><span class=\"barcode\"; style=\"color: black; background-color: #fbfefe\">&nbspfiles&nbsp</span><span class=\"barcode\"; style=\"color: black; background-color: #fbfdfe\">&nbspacross&nbsp</span><span class=\"barcode\"; style=\"color: black; background-color: #fbfefe\">&nbsponline&nbsp</span><span class=\"barcode\"; style=\"color: black; background-color: #fbfefe\">&nbspfile&nbsp</span><span class=\"barcode\"; style=\"color: black; background-color: #fbfdfe\">&nbsp-&nbsp</span><span class=\"barcode\"; style=\"color: black; background-color: #fbfdfe\">&nbspsharing&nbsp</span><span class=\"barcode\"; style=\"color: black; background-color: #fbfdfe\">&nbspnetworks&nbsp</span><span class=\"barcode\"; style=\"color: black; background-color: #fbfdfe\">&nbsp.&nbsp</span>"
      ],
      "text/plain": [
       "<IPython.core.display.HTML object>"
      ]
     },
     "metadata": {},
     "output_type": "display_data"
    },
    {
     "name": "stdout",
     "output_type": "stream",
     "text": [
      "Viz rel-irrel: \n"
     ]
    },
    {
     "data": {
      "text/html": [
       "<span class=\"barcode\"; style=\"color: black; background-color: #f1fafd\">&nbsphollywood&nbsp</span><span class=\"barcode\"; style=\"color: black; background-color: #f4fbfd\">&nbspto&nbsp</span><span class=\"barcode\"; style=\"color: black; background-color: #c8e9f5\">&nbspsue&nbsp</span><span class=\"barcode\"; style=\"color: black; background-color: #ceecf6\">&nbspserver&nbsp</span><span class=\"barcode\"; style=\"color: black; background-color: #e9f6fb\">&nbspoperators&nbsp</span><span class=\"barcode\"; style=\"color: black; background-color: #ffffff\">&nbspin&nbsp</span><span class=\"barcode\"; style=\"color: black; background-color: #f8fcfe\">&nbspbid&nbsp</span><span class=\"barcode\"; style=\"color: black; background-color: #ffffff\">&nbspto&nbsp</span><span class=\"barcode\"; style=\"color: black; background-color: #eaa99b\">&nbspstymie&nbsp</span><span class=\"barcode\"; style=\"color: black; background-color: #d5eef8\">&nbsponline&nbsp</span><span class=\"barcode\"; style=\"color: black; background-color: #48b6df\">&nbsppiracy&nbsp</span><span class=\"barcode\"; style=\"color: black; background-color: #f6fcfd\">&nbsplos&nbsp</span><span class=\"barcode\"; style=\"color: black; background-color: #e0f3fa\">&nbspangeles&nbsp</span><span class=\"barcode\"; style=\"color: black; background-color: #eff9fc\">&nbsp-&nbsp</span><span class=\"barcode\"; style=\"color: black; background-color: #f6fcfd\">&nbsp-&nbsp</span><span class=\"barcode\"; style=\"color: black; background-color: #f4fbfd\">&nbsphollywood&nbsp</span><span class=\"barcode\"; style=\"color: black; background-color: #e7f6fb\">&nbspmovie&nbsp</span><span class=\"barcode\"; style=\"color: black; background-color: #e9f6fb\">&nbspstudios&nbsp</span><span class=\"barcode\"; style=\"color: black; background-color: #f8fcfe\">&nbspon&nbsp</span><span class=\"barcode\"; style=\"color: black; background-color: #ecf8fc\">&nbsptuesday&nbsp</span><span class=\"barcode\"; style=\"color: black; background-color: #d5eef8\">&nbspsued&nbsp</span><span class=\"barcode\"; style=\"color: black; background-color: #f4fafd\">&nbspscores&nbsp</span><span class=\"barcode\"; style=\"color: black; background-color: #ffffff\">&nbspof&nbsp</span><span class=\"barcode\"; style=\"color: black; background-color: #eef8fc\">&nbspoperators&nbsp</span><span class=\"barcode\"; style=\"color: black; background-color: #ffffff\">&nbspof&nbsp</span><span class=\"barcode\"; style=\"color: black; background-color: #f9fcfe\">&nbspus&nbsp</span><span class=\"barcode\"; style=\"color: black; background-color: #fffdfd\">&nbsp-&nbsp</span><span class=\"barcode\"; style=\"color: black; background-color: #ffffff\">&nbspand&nbsp</span><span class=\"barcode\"; style=\"color: black; background-color: #fdfeff\">&nbspeuropean&nbsp</span><span class=\"barcode\"; style=\"color: black; background-color: #fefcfb\">&nbsp-&nbsp</span><span class=\"barcode\"; style=\"color: black; background-color: #fffefe\">&nbspbased&nbsp</span><span class=\"barcode\"; style=\"color: black; background-color: #fffefe\">&nbspcomputer&nbsp</span><span class=\"barcode\"; style=\"color: black; background-color: #e8f6fb\">&nbspservers&nbsp</span><span class=\"barcode\"; style=\"color: black; background-color: #fbfefe\">&nbspthat&nbsp</span><span class=\"barcode\"; style=\"color: black; background-color: #feffff\">&nbsphelp&nbsp</span><span class=\"barcode\"; style=\"color: black; background-color: #fefeff\">&nbsprelay&nbsp</span><span class=\"barcode\"; style=\"color: black; background-color: #fcf1ee\">&nbspdigitized&nbsp</span><span class=\"barcode\"; style=\"color: black; background-color: #edf8fc\">&nbspmovie&nbsp</span><span class=\"barcode\"; style=\"color: black; background-color: #f7fcfe\">&nbspfiles&nbsp</span><span class=\"barcode\"; style=\"color: black; background-color: #feffff\">&nbspacross&nbsp</span><span class=\"barcode\"; style=\"color: black; background-color: #f4fafd\">&nbsponline&nbsp</span><span class=\"barcode\"; style=\"color: black; background-color: #f9fdfe\">&nbspfile&nbsp</span><span class=\"barcode\"; style=\"color: black; background-color: #fefcfc\">&nbsp-&nbsp</span><span class=\"barcode\"; style=\"color: black; background-color: #fefeff\">&nbspsharing&nbsp</span><span class=\"barcode\"; style=\"color: black; background-color: #feffff\">&nbspnetworks&nbsp</span><span class=\"barcode\"; style=\"color: black; background-color: #ffffff\">&nbsp.&nbsp</span>"
      ],
      "text/plain": [
       "<IPython.core.display.HTML object>"
      ]
     },
     "metadata": {},
     "output_type": "display_data"
    },
    {
     "name": "stdout",
     "output_type": "stream",
     "text": [
      "====================\n",
      "========== sample 4 ==========\n"
     ]
    },
    {
     "name": "stderr",
     "output_type": "stream",
     "text": [
      "Running decomposition in batches...: 100%|██████████| 1/1 [00:00<00:00,  1.53it/s]"
     ]
    },
    {
     "name": "stdout",
     "output_type": "stream",
     "text": [
      "Viz rel: \n"
     ]
    },
    {
     "name": "stderr",
     "output_type": "stream",
     "text": [
      "\n"
     ]
    },
    {
     "data": {
      "text/html": [
       "<span class=\"barcode\"; style=\"color: black; background-color: #eff9fc\">&nbspmemphis&nbsp</span><span class=\"barcode\"; style=\"color: black; background-color: #d2edf7\">&nbspactivates&nbsp</span><span class=\"barcode\"; style=\"color: black; background-color: #e7f5fb\">&nbspguard&nbsp</span><span class=\"barcode\"; style=\"color: black; background-color: #f2fafd\">&nbspwilliams&nbsp</span><span class=\"barcode\"; style=\"color: black; background-color: #f3fafd\">&nbspmemphis&nbsp</span><span class=\"barcode\"; style=\"color: black; background-color: #f9fdfe\">&nbsp,&nbsp</span><span class=\"barcode\"; style=\"color: black; background-color: #e5f5fa\">&nbsptn&nbsp</span><span class=\"barcode\"; style=\"color: black; background-color: #e4f4fa\">&nbsp(&nbsp</span><span class=\"barcode\"; style=\"color: black; background-color: #48b6df\">&nbspsports&nbsp</span><span class=\"barcode\"; style=\"color: black; background-color: #b5e2f2\">&nbspnetwork&nbsp</span><span class=\"barcode\"; style=\"color: black; background-color: #e9f6fb\">&nbsp)&nbsp</span><span class=\"barcode\"; style=\"color: black; background-color: #f0f9fc\">&nbsp-&nbsp</span><span class=\"barcode\"; style=\"color: black; background-color: #f9fcfe\">&nbspthe&nbsp</span><span class=\"barcode\"; style=\"color: black; background-color: #ecf7fc\">&nbspmemphis&nbsp</span><span class=\"barcode\"; style=\"color: black; background-color: #88cfea\">&nbspgrizzlies&nbsp</span><span class=\"barcode\"; style=\"color: black; background-color: #f9fdfe\">&nbspon&nbsp</span><span class=\"barcode\"; style=\"color: black; background-color: #eef8fc\">&nbspwednesday&nbsp</span><span class=\"barcode\"; style=\"color: black; background-color: #e7f6fb\">&nbspactivated&nbsp</span><span class=\"barcode\"; style=\"color: black; background-color: #ddf1f9\">&nbsppoint&nbsp</span><span class=\"barcode\"; style=\"color: black; background-color: #ddf1f9\">&nbspguard&nbsp</span><span class=\"barcode\"; style=\"color: black; background-color: #e8f6fb\">&nbspjason&nbsp</span><span class=\"barcode\"; style=\"color: black; background-color: #eef8fc\">&nbspwilliams&nbsp</span><span class=\"barcode\"; style=\"color: black; background-color: #fcfefe\">&nbspfrom&nbsp</span><span class=\"barcode\"; style=\"color: black; background-color: 0.0\">&nbspthe&nbsp</span><span class=\"barcode\"; style=\"color: black; background-color: #e9f6fb\">&nbspinjured&nbsp</span><span class=\"barcode\"; style=\"color: black; background-color: #f9fcfe\">&nbsplist&nbsp</span><span class=\"barcode\"; style=\"color: black; background-color: #ffffff\">&nbsp,&nbsp</span><span class=\"barcode\"; style=\"color: black; background-color: #f9fdfe\">&nbspwhile&nbsp</span><span class=\"barcode\"; style=\"color: black; background-color: #f5fbfd\">&nbspplacing&nbsp</span><span class=\"barcode\"; style=\"color: black; background-color: #e9f6fb\">&nbspguard&nbsp</span><span class=\"barcode\"; style=\"color: black; background-color: #e4f4fa\">&nbspantonio&nbsp</span><span class=\"barcode\"; style=\"color: black; background-color: #d8f0f8\">&nbspburks&nbsp</span><span class=\"barcode\"; style=\"color: black; background-color: #fcfefe\">&nbspon&nbsp</span><span class=\"barcode\"; style=\"color: black; background-color: #fcfefe\">&nbspthe&nbsp</span><span class=\"barcode\"; style=\"color: black; background-color: #e8f6fb\">&nbspil&nbsp</span><span class=\"barcode\"; style=\"color: black; background-color: #fbfdfe\">&nbsp.&nbsp</span>"
      ],
      "text/plain": [
       "<IPython.core.display.HTML object>"
      ]
     },
     "metadata": {},
     "output_type": "display_data"
    },
    {
     "name": "stdout",
     "output_type": "stream",
     "text": [
      "Viz irrel: \n"
     ]
    },
    {
     "data": {
      "text/html": [
       "<span class=\"barcode\"; style=\"color: black; background-color: #fcfefe\">&nbspmemphis&nbsp</span><span class=\"barcode\"; style=\"color: black; background-color: #c0e6f4\">&nbspactivates&nbsp</span><span class=\"barcode\"; style=\"color: black; background-color: #fcfefe\">&nbspguard&nbsp</span><span class=\"barcode\"; style=\"color: black; background-color: #fcfefe\">&nbspwilliams&nbsp</span><span class=\"barcode\"; style=\"color: black; background-color: #fcfefe\">&nbspmemphis&nbsp</span><span class=\"barcode\"; style=\"color: black; background-color: #fbfefe\">&nbsp,&nbsp</span><span class=\"barcode\"; style=\"color: black; background-color: #fcfefe\">&nbsptn&nbsp</span><span class=\"barcode\"; style=\"color: black; background-color: #fcfefe\">&nbsp(&nbsp</span><span class=\"barcode\"; style=\"color: black; background-color: 0.0\">&nbspsports&nbsp</span><span class=\"barcode\"; style=\"color: black; background-color: #fdfeff\">&nbspnetwork&nbsp</span><span class=\"barcode\"; style=\"color: black; background-color: #fcfefe\">&nbsp)&nbsp</span><span class=\"barcode\"; style=\"color: black; background-color: #fcfefe\">&nbsp-&nbsp</span><span class=\"barcode\"; style=\"color: black; background-color: #fbfefe\">&nbspthe&nbsp</span><span class=\"barcode\"; style=\"color: black; background-color: #fcfefe\">&nbspmemphis&nbsp</span><span class=\"barcode\"; style=\"color: black; background-color: #48b6df\">&nbspgrizzlies&nbsp</span><span class=\"barcode\"; style=\"color: black; background-color: #fbfefe\">&nbspon&nbsp</span><span class=\"barcode\"; style=\"color: black; background-color: #fcfefe\">&nbspwednesday&nbsp</span><span class=\"barcode\"; style=\"color: black; background-color: #fcfefe\">&nbspactivated&nbsp</span><span class=\"barcode\"; style=\"color: black; background-color: #fcfefe\">&nbsppoint&nbsp</span><span class=\"barcode\"; style=\"color: black; background-color: #fcfefe\">&nbspguard&nbsp</span><span class=\"barcode\"; style=\"color: black; background-color: #fcfefe\">&nbspjason&nbsp</span><span class=\"barcode\"; style=\"color: black; background-color: #fcfefe\">&nbspwilliams&nbsp</span><span class=\"barcode\"; style=\"color: black; background-color: #fbfefe\">&nbspfrom&nbsp</span><span class=\"barcode\"; style=\"color: black; background-color: #fbfefe\">&nbspthe&nbsp</span><span class=\"barcode\"; style=\"color: black; background-color: #fcfefe\">&nbspinjured&nbsp</span><span class=\"barcode\"; style=\"color: black; background-color: #fbfefe\">&nbsplist&nbsp</span><span class=\"barcode\"; style=\"color: black; background-color: #fbfefe\">&nbsp,&nbsp</span><span class=\"barcode\"; style=\"color: black; background-color: #fbfefe\">&nbspwhile&nbsp</span><span class=\"barcode\"; style=\"color: black; background-color: #fbfefe\">&nbspplacing&nbsp</span><span class=\"barcode\"; style=\"color: black; background-color: #fcfefe\">&nbspguard&nbsp</span><span class=\"barcode\"; style=\"color: black; background-color: #fcfefe\">&nbspantonio&nbsp</span><span class=\"barcode\"; style=\"color: black; background-color: #c0e6f4\">&nbspburks&nbsp</span><span class=\"barcode\"; style=\"color: black; background-color: #fbfefe\">&nbspon&nbsp</span><span class=\"barcode\"; style=\"color: black; background-color: #fbfefe\">&nbspthe&nbsp</span><span class=\"barcode\"; style=\"color: black; background-color: #fcfefe\">&nbspil&nbsp</span><span class=\"barcode\"; style=\"color: black; background-color: #fbfefe\">&nbsp.&nbsp</span>"
      ],
      "text/plain": [
       "<IPython.core.display.HTML object>"
      ]
     },
     "metadata": {},
     "output_type": "display_data"
    },
    {
     "name": "stdout",
     "output_type": "stream",
     "text": [
      "Viz rel-irrel: \n"
     ]
    },
    {
     "data": {
      "text/html": [
       "<span class=\"barcode\"; style=\"color: black; background-color: #f3fafd\">&nbspmemphis&nbsp</span><span class=\"barcode\"; style=\"color: black; background-color: #fcf1ef\">&nbspactivates&nbsp</span><span class=\"barcode\"; style=\"color: black; background-color: #eaf7fb\">&nbspguard&nbsp</span><span class=\"barcode\"; style=\"color: black; background-color: #f6fbfd\">&nbspwilliams&nbsp</span><span class=\"barcode\"; style=\"color: black; background-color: #f6fbfd\">&nbspmemphis&nbsp</span><span class=\"barcode\"; style=\"color: black; background-color: #fefeff\">&nbsp,&nbsp</span><span class=\"barcode\"; style=\"color: black; background-color: #e9f6fb\">&nbsptn&nbsp</span><span class=\"barcode\"; style=\"color: black; background-color: #e8f6fb\">&nbsp(&nbsp</span><span class=\"barcode\"; style=\"color: black; background-color: #48b6df\">&nbspsports&nbsp</span><span class=\"barcode\"; style=\"color: black; background-color: #b7e2f2\">&nbspnetwork&nbsp</span><span class=\"barcode\"; style=\"color: black; background-color: #edf8fc\">&nbsp)&nbsp</span><span class=\"barcode\"; style=\"color: black; background-color: #f4fafd\">&nbsp-&nbsp</span><span class=\"barcode\"; style=\"color: black; background-color: #fcfefe\">&nbspthe&nbsp</span><span class=\"barcode\"; style=\"color: black; background-color: #eff9fc\">&nbspmemphis&nbsp</span><span class=\"barcode\"; style=\"color: black; background-color: #f3cec6\">&nbspgrizzlies&nbsp</span><span class=\"barcode\"; style=\"color: black; background-color: #fefeff\">&nbspon&nbsp</span><span class=\"barcode\"; style=\"color: black; background-color: #f2fafd\">&nbspwednesday&nbsp</span><span class=\"barcode\"; style=\"color: black; background-color: #ebf7fb\">&nbspactivated&nbsp</span><span class=\"barcode\"; style=\"color: black; background-color: #dff2f9\">&nbsppoint&nbsp</span><span class=\"barcode\"; style=\"color: black; background-color: #dff2f9\">&nbspguard&nbsp</span><span class=\"barcode\"; style=\"color: black; background-color: #ecf7fc\">&nbspjason&nbsp</span><span class=\"barcode\"; style=\"color: black; background-color: #f1f9fc\">&nbspwilliams&nbsp</span><span class=\"barcode\"; style=\"color: black; background-color: #fffefe\">&nbspfrom&nbsp</span><span class=\"barcode\"; style=\"color: black; background-color: #fefcfc\">&nbspthe&nbsp</span><span class=\"barcode\"; style=\"color: black; background-color: #ecf8fc\">&nbspinjured&nbsp</span><span class=\"barcode\"; style=\"color: black; background-color: #fdfeff\">&nbsplist&nbsp</span><span class=\"barcode\"; style=\"color: black; background-color: #fefdfc\">&nbsp,&nbsp</span><span class=\"barcode\"; style=\"color: black; background-color: #fdfeff\">&nbspwhile&nbsp</span><span class=\"barcode\"; style=\"color: black; background-color: #f9fcfe\">&nbspplacing&nbsp</span><span class=\"barcode\"; style=\"color: black; background-color: #ecf8fc\">&nbspguard&nbsp</span><span class=\"barcode\"; style=\"color: black; background-color: #e8f6fb\">&nbspantonio&nbsp</span><span class=\"barcode\"; style=\"color: black; background-color: #faece9\">&nbspburks&nbsp</span><span class=\"barcode\"; style=\"color: black; background-color: #ffffff\">&nbspon&nbsp</span><span class=\"barcode\"; style=\"color: black; background-color: #ffffff\">&nbspthe&nbsp</span><span class=\"barcode\"; style=\"color: black; background-color: #ebf7fb\">&nbspil&nbsp</span><span class=\"barcode\"; style=\"color: black; background-color: #ffffff\">&nbsp.&nbsp</span>"
      ],
      "text/plain": [
       "<IPython.core.display.HTML object>"
      ]
     },
     "metadata": {},
     "output_type": "display_data"
    },
    {
     "name": "stdout",
     "output_type": "stream",
     "text": [
      "====================\n",
      "========== sample 5 ==========\n"
     ]
    },
    {
     "name": "stderr",
     "output_type": "stream",
     "text": [
      "Running decomposition in batches...: 100%|██████████| 1/1 [00:00<00:00,  1.30it/s]"
     ]
    },
    {
     "name": "stdout",
     "output_type": "stream",
     "text": [
      "Viz rel: \n"
     ]
    },
    {
     "name": "stderr",
     "output_type": "stream",
     "text": [
      "\n"
     ]
    },
    {
     "data": {
      "text/html": [
       "<span class=\"barcode\"; style=\"color: black; background-color: #c1e6f4\">&nbspdollar&nbsp</span><span class=\"barcode\"; style=\"color: black; background-color: #eef8fc\">&nbspstuck&nbsp</span><span class=\"barcode\"; style=\"color: black; background-color: #f1f9fc\">&nbsp,&nbsp</span><span class=\"barcode\"; style=\"color: black; background-color: #89d0ea\">&nbspcpi&nbsp</span><span class=\"barcode\"; style=\"color: black; background-color: #e9f6fb\">&nbspoffers&nbsp</span><span class=\"barcode\"; style=\"color: black; background-color: #edf8fc\">&nbsplittle&nbsp</span><span class=\"barcode\"; style=\"color: black; background-color: #ecf8fc\">&nbspdirection&nbsp</span><span class=\"barcode\"; style=\"color: black; background-color: #d5eef8\">&nbsptokyo&nbsp</span><span class=\"barcode\"; style=\"color: black; background-color: #f4fbfd\">&nbsp(&nbsp</span><span class=\"barcode\"; style=\"color: black; background-color: #ebf7fb\">&nbspreuters&nbsp</span><span class=\"barcode\"; style=\"color: black; background-color: #def2f9\">&nbsp)&nbsp</span><span class=\"barcode\"; style=\"color: black; background-color: #e7f5fb\">&nbsp-&nbsp</span><span class=\"barcode\"; style=\"color: black; background-color: #f1f9fc\">&nbspthe&nbsp</span><span class=\"barcode\"; style=\"color: black; background-color: #8cd1eb\">&nbspdollar&nbsp</span><span class=\"barcode\"; style=\"color: black; background-color: #e1f3fa\">&nbspmoved&nbsp</span><span class=\"barcode\"; style=\"color: black; background-color: #f6fbfd\">&nbspin&nbsp</span><span class=\"barcode\"; style=\"color: black; background-color: #f6fcfd\">&nbsptight&nbsp</span><span class=\"barcode\"; style=\"color: black; background-color: #e3f4fa\">&nbspranges&nbsp</span><span class=\"barcode\"; style=\"color: black; background-color: #f5fbfd\">&nbspon&nbsp</span><span class=\"barcode\"; style=\"color: black; background-color: #e7f5fb\">&nbspwednesday&nbsp</span><span class=\"barcode\"; style=\"color: black; background-color: #f4fbfd\">&nbspas&nbsp</span><span class=\"barcode\"; style=\"color: black; background-color: #f6fcfd\">&nbspmost&nbsp</span><span class=\"barcode\"; style=\"color: black; background-color: #b4e1f2\">&nbspinvestors&nbsp</span><span class=\"barcode\"; style=\"color: black; background-color: #f3fafd\">&nbspshrugged&nbsp</span><span class=\"barcode\"; style=\"color: black; background-color: #f9fcfe\">&nbspoff&nbsp</span><span class=\"barcode\"; style=\"color: black; background-color: #fefeff\">&nbsplower&nbsp</span><span class=\"barcode\"; style=\"color: black; background-color: #feffff\">&nbsp-&nbsp</span><span class=\"barcode\"; style=\"color: black; background-color: 0.0\">&nbspthan&nbsp</span><span class=\"barcode\"; style=\"color: black; background-color: #fefeff\">&nbsp-&nbsp</span><span class=\"barcode\"; style=\"color: black; background-color: #fefeff\">&nbspexpected&nbsp</span><span class=\"barcode\"; style=\"color: black; background-color: #ecf8fc\">&nbspu&nbsp</span><span class=\"barcode\"; style=\"color: black; background-color: #fefeff\">&nbsp.&nbsp</span><span class=\"barcode\"; style=\"color: black; background-color: #f1fafd\">&nbsps&nbsp</span><span class=\"barcode\"; style=\"color: black; background-color: #f5fbfd\">&nbsp.&nbsp</span><span class=\"barcode\"; style=\"color: black; background-color: #d9f0f8\">&nbspinflation&nbsp</span><span class=\"barcode\"; style=\"color: black; background-color: #f1fafd\">&nbspdata&nbsp</span><span class=\"barcode\"; style=\"color: black; background-color: #fbfefe\">&nbspand&nbsp</span><span class=\"barcode\"; style=\"color: black; background-color: #fbfefe\">&nbspstuck&nbsp</span><span class=\"barcode\"; style=\"color: black; background-color: #fdfeff\">&nbspto&nbsp</span><span class=\"barcode\"; style=\"color: black; background-color: #fefeff\">&nbspthe&nbsp</span><span class=\"barcode\"; style=\"color: black; background-color: #f6fbfd\">&nbspview&nbsp</span><span class=\"barcode\"; style=\"color: black; background-color: #f1f9fc\">&nbspthe&nbsp</span><span class=\"barcode\"; style=\"color: black; background-color: #e9f6fb\">&nbspu&nbsp</span><span class=\"barcode\"; style=\"color: black; background-color: #f2fafd\">&nbsp.&nbsp</span><span class=\"barcode\"; style=\"color: black; background-color: #def2f9\">&nbsps&nbsp</span><span class=\"barcode\"; style=\"color: black; background-color: #f6fcfd\">&nbsp.&nbsp</span><span class=\"barcode\"; style=\"color: black; background-color: #c5e8f5\">&nbspfederal&nbsp</span><span class=\"barcode\"; style=\"color: black; background-color: #48b6df\">&nbspreserve&nbsp</span><span class=\"barcode\"; style=\"color: black; background-color: #e9f6fb\">&nbspwould&nbsp</span><span class=\"barcode\"; style=\"color: black; background-color: #f6fcfd\">&nbspcontinue&nbsp</span><span class=\"barcode\"; style=\"color: black; background-color: #f7fcfe\">&nbspraising&nbsp</span><span class=\"barcode\"; style=\"color: black; background-color: #e5f5fa\">&nbsprates&nbsp</span><span class=\"barcode\"; style=\"color: black; background-color: #fbfefe\">&nbsp.&nbsp</span>"
      ],
      "text/plain": [
       "<IPython.core.display.HTML object>"
      ]
     },
     "metadata": {},
     "output_type": "display_data"
    },
    {
     "name": "stdout",
     "output_type": "stream",
     "text": [
      "Viz irrel: \n"
     ]
    },
    {
     "data": {
      "text/html": [
       "<span class=\"barcode\"; style=\"color: black; background-color: #86cfea\">&nbspdollar&nbsp</span><span class=\"barcode\"; style=\"color: black; background-color: #59bde2\">&nbspstuck&nbsp</span><span class=\"barcode\"; style=\"color: black; background-color: #56bce2\">&nbsp,&nbsp</span><span class=\"barcode\"; style=\"color: black; background-color: #bee5f4\">&nbspcpi&nbsp</span><span class=\"barcode\"; style=\"color: black; background-color: #5ebfe3\">&nbspoffers&nbsp</span><span class=\"barcode\"; style=\"color: black; background-color: #5abde2\">&nbsplittle&nbsp</span><span class=\"barcode\"; style=\"color: black; background-color: #5bbde2\">&nbspdirection&nbsp</span><span class=\"barcode\"; style=\"color: black; background-color: #72c7e6\">&nbsptokyo&nbsp</span><span class=\"barcode\"; style=\"color: black; background-color: #53bae1\">&nbsp(&nbsp</span><span class=\"barcode\"; style=\"color: black; background-color: #5cbee3\">&nbspreuters&nbsp</span><span class=\"barcode\"; style=\"color: black; background-color: #69c3e5\">&nbsp)&nbsp</span><span class=\"barcode\"; style=\"color: black; background-color: #60c0e3\">&nbsp-&nbsp</span><span class=\"barcode\"; style=\"color: black; background-color: #56bce2\">&nbspthe&nbsp</span><span class=\"barcode\"; style=\"color: black; background-color: #bbe4f3\">&nbspdollar&nbsp</span><span class=\"barcode\"; style=\"color: black; background-color: #66c2e4\">&nbspmoved&nbsp</span><span class=\"barcode\"; style=\"color: black; background-color: #51bae1\">&nbspin&nbsp</span><span class=\"barcode\"; style=\"color: black; background-color: #51b9e1\">&nbsptight&nbsp</span><span class=\"barcode\"; style=\"color: black; background-color: #64c1e4\">&nbspranges&nbsp</span><span class=\"barcode\"; style=\"color: black; background-color: #52bae1\">&nbspon&nbsp</span><span class=\"barcode\"; style=\"color: black; background-color: #60c0e3\">&nbspwednesday&nbsp</span><span class=\"barcode\"; style=\"color: black; background-color: #53bae1\">&nbspas&nbsp</span><span class=\"barcode\"; style=\"color: black; background-color: #51b9e1\">&nbspmost&nbsp</span><span class=\"barcode\"; style=\"color: black; background-color: #93d4ec\">&nbspinvestors&nbsp</span><span class=\"barcode\"; style=\"color: black; background-color: #54bbe1\">&nbspshrugged&nbsp</span><span class=\"barcode\"; style=\"color: black; background-color: #4eb9e0\">&nbspoff&nbsp</span><span class=\"barcode\"; style=\"color: black; background-color: #49b7df\">&nbsplower&nbsp</span><span class=\"barcode\"; style=\"color: black; background-color: #49b6df\">&nbsp-&nbsp</span><span class=\"barcode\"; style=\"color: black; background-color: #48b6df\">&nbspthan&nbsp</span><span class=\"barcode\"; style=\"color: black; background-color: #49b7df\">&nbsp-&nbsp</span><span class=\"barcode\"; style=\"color: black; background-color: #49b7df\">&nbspexpected&nbsp</span><span class=\"barcode\"; style=\"color: black; background-color: #5bbde2\">&nbspu&nbsp</span><span class=\"barcode\"; style=\"color: black; background-color: #49b7df\">&nbsp.&nbsp</span><span class=\"barcode\"; style=\"color: black; background-color: #56bbe1\">&nbsps&nbsp</span><span class=\"barcode\"; style=\"color: black; background-color: #52bae1\">&nbsp.&nbsp</span><span class=\"barcode\"; style=\"color: black; background-color: #6ec5e6\">&nbspinflation&nbsp</span><span class=\"barcode\"; style=\"color: black; background-color: #56bbe1\">&nbspdata&nbsp</span><span class=\"barcode\"; style=\"color: black; background-color: #4cb7e0\">&nbspand&nbsp</span><span class=\"barcode\"; style=\"color: black; background-color: #4cb7e0\">&nbspstuck&nbsp</span><span class=\"barcode\"; style=\"color: black; background-color: #4ab7df\">&nbspto&nbsp</span><span class=\"barcode\"; style=\"color: black; background-color: #49b7df\">&nbspthe&nbsp</span><span class=\"barcode\"; style=\"color: black; background-color: #51bae1\">&nbspview&nbsp</span><span class=\"barcode\"; style=\"color: black; background-color: #56bce2\">&nbspthe&nbsp</span><span class=\"barcode\"; style=\"color: black; background-color: #5ebfe3\">&nbspu&nbsp</span><span class=\"barcode\"; style=\"color: black; background-color: #55bbe1\">&nbsp.&nbsp</span><span class=\"barcode\"; style=\"color: black; background-color: #69c3e5\">&nbsps&nbsp</span><span class=\"barcode\"; style=\"color: black; background-color: #51b9e1\">&nbsp.&nbsp</span><span class=\"barcode\"; style=\"color: black; background-color: #82cde9\">&nbspfederal&nbsp</span><span class=\"barcode\"; style=\"color: black; background-color: 0.0\">&nbspreserve&nbsp</span><span class=\"barcode\"; style=\"color: black; background-color: #5ebfe3\">&nbspwould&nbsp</span><span class=\"barcode\"; style=\"color: black; background-color: #51b9e1\">&nbspcontinue&nbsp</span><span class=\"barcode\"; style=\"color: black; background-color: #50b9e0\">&nbspraising&nbsp</span><span class=\"barcode\"; style=\"color: black; background-color: #62c0e4\">&nbsprates&nbsp</span><span class=\"barcode\"; style=\"color: black; background-color: #4cb7e0\">&nbsp.&nbsp</span>"
      ],
      "text/plain": [
       "<IPython.core.display.HTML object>"
      ]
     },
     "metadata": {},
     "output_type": "display_data"
    },
    {
     "name": "stdout",
     "output_type": "stream",
     "text": [
      "Viz rel-irrel: \n"
     ]
    },
    {
     "data": {
      "text/html": [
       "<span class=\"barcode\"; style=\"color: black; background-color: #f4d1ca\">&nbspdollar&nbsp</span><span class=\"barcode\"; style=\"color: black; background-color: #e48e7b\">&nbspstuck&nbsp</span><span class=\"barcode\"; style=\"color: black; background-color: #e28a75\">&nbsp,&nbsp</span><span class=\"barcode\"; style=\"color: black; background-color: #cbeaf6\">&nbspcpi&nbsp</span><span class=\"barcode\"; style=\"color: black; background-color: #e59482\">&nbspoffers&nbsp</span><span class=\"barcode\"; style=\"color: black; background-color: #e48e7b\">&nbsplittle&nbsp</span><span class=\"barcode\"; style=\"color: black; background-color: #e4907c\">&nbspdirection&nbsp</span><span class=\"barcode\"; style=\"color: black; background-color: #edb4a7\">&nbsptokyo&nbsp</span><span class=\"barcode\"; style=\"color: black; background-color: #e1836e\">&nbsp(&nbsp</span><span class=\"barcode\"; style=\"color: black; background-color: #e4927f\">&nbspreuters&nbsp</span><span class=\"barcode\"; style=\"color: black; background-color: #e9a696\">&nbsp)&nbsp</span><span class=\"barcode\"; style=\"color: black; background-color: #e69987\">&nbsp-&nbsp</span><span class=\"barcode\"; style=\"color: black; background-color: #e28975\">&nbspthe&nbsp</span><span class=\"barcode\"; style=\"color: black; background-color: #d0ecf7\">&nbspdollar&nbsp</span><span class=\"barcode\"; style=\"color: black; background-color: #e8a191\">&nbspmoved&nbsp</span><span class=\"barcode\"; style=\"color: black; background-color: #e0816c\">&nbspin&nbsp</span><span class=\"barcode\"; style=\"color: black; background-color: #e0816b\">&nbsptight&nbsp</span><span class=\"barcode\"; style=\"color: black; background-color: #e89e8e\">&nbspranges&nbsp</span><span class=\"barcode\"; style=\"color: black; background-color: #e1836e\">&nbspon&nbsp</span><span class=\"barcode\"; style=\"color: black; background-color: #e69987\">&nbspwednesday&nbsp</span><span class=\"barcode\"; style=\"color: black; background-color: #e1836e\">&nbspas&nbsp</span><span class=\"barcode\"; style=\"color: black; background-color: #e0816b\">&nbspmost&nbsp</span><span class=\"barcode\"; style=\"color: black; background-color: #f9e6e1\">&nbspinvestors&nbsp</span><span class=\"barcode\"; style=\"color: black; background-color: #e28671\">&nbspshrugged&nbsp</span><span class=\"barcode\"; style=\"color: black; background-color: #df7d67\">&nbspoff&nbsp</span><span class=\"barcode\"; style=\"color: black; background-color: #de765e\">&nbsplower&nbsp</span><span class=\"barcode\"; style=\"color: black; background-color: #dd745c\">&nbsp-&nbsp</span><span class=\"barcode\"; style=\"color: black; background-color: #dd735b\">&nbspthan&nbsp</span><span class=\"barcode\"; style=\"color: black; background-color: #de755e\">&nbsp-&nbsp</span><span class=\"barcode\"; style=\"color: black; background-color: #de755e\">&nbspexpected&nbsp</span><span class=\"barcode\"; style=\"color: black; background-color: #e4907c\">&nbspu&nbsp</span><span class=\"barcode\"; style=\"color: black; background-color: #de755e\">&nbsp.&nbsp</span><span class=\"barcode\"; style=\"color: black; background-color: #e28874\">&nbsps&nbsp</span><span class=\"barcode\"; style=\"color: black; background-color: #e1836e\">&nbsp.&nbsp</span><span class=\"barcode\"; style=\"color: black; background-color: #ebad9f\">&nbspinflation&nbsp</span><span class=\"barcode\"; style=\"color: black; background-color: #e28874\">&nbspdata&nbsp</span><span class=\"barcode\"; style=\"color: black; background-color: #de7962\">&nbspand&nbsp</span><span class=\"barcode\"; style=\"color: black; background-color: #de7861\">&nbspstuck&nbsp</span><span class=\"barcode\"; style=\"color: black; background-color: #de765f\">&nbspto&nbsp</span><span class=\"barcode\"; style=\"color: black; background-color: #de755e\">&nbspthe&nbsp</span><span class=\"barcode\"; style=\"color: black; background-color: #e0816c\">&nbspview&nbsp</span><span class=\"barcode\"; style=\"color: black; background-color: #e28a75\">&nbspthe&nbsp</span><span class=\"barcode\"; style=\"color: black; background-color: #e59482\">&nbspu&nbsp</span><span class=\"barcode\"; style=\"color: black; background-color: #e28772\">&nbsp.&nbsp</span><span class=\"barcode\"; style=\"color: black; background-color: #e9a696\">&nbsps&nbsp</span><span class=\"barcode\"; style=\"color: black; background-color: #e0806a\">&nbsp.&nbsp</span><span class=\"barcode\"; style=\"color: black; background-color: #f3ccc3\">&nbspfederal&nbsp</span><span class=\"barcode\"; style=\"color: black; background-color: #48b6df\">&nbspreserve&nbsp</span><span class=\"barcode\"; style=\"color: black; background-color: #e59482\">&nbspwould&nbsp</span><span class=\"barcode\"; style=\"color: black; background-color: #e0806a\">&nbspcontinue&nbsp</span><span class=\"barcode\"; style=\"color: black; background-color: #e0806a\">&nbspraising&nbsp</span><span class=\"barcode\"; style=\"color: black; background-color: #e79b8a\">&nbsprates&nbsp</span><span class=\"barcode\"; style=\"color: black; background-color: #de7861\">&nbsp.&nbsp</span>"
      ],
      "text/plain": [
       "<IPython.core.display.HTML object>"
      ]
     },
     "metadata": {},
     "output_type": "display_data"
    },
    {
     "name": "stdout",
     "output_type": "stream",
     "text": [
      "====================\n",
      "========== sample 6 ==========\n"
     ]
    },
    {
     "name": "stderr",
     "output_type": "stream",
     "text": [
      "Running decomposition in batches...: 100%|██████████| 1/1 [00:00<00:00,  1.28it/s]"
     ]
    },
    {
     "name": "stdout",
     "output_type": "stream",
     "text": [
      "Viz rel: \n"
     ]
    },
    {
     "name": "stderr",
     "output_type": "stream",
     "text": [
      "\n"
     ]
    },
    {
     "data": {
      "text/html": [
       "<span class=\"barcode\"; style=\"color: black; background-color: #d9f0f8\">&nbspindia&nbsp</span><span class=\"barcode\"; style=\"color: black; background-color: #f6fcfd\">&nbsp4th&nbsp</span><span class=\"barcode\"; style=\"color: black; background-color: #f1f9fc\">&nbsplargest&nbsp</span><span class=\"barcode\"; style=\"color: black; background-color: #d7eff8\">&nbspeconomy&nbsp</span><span class=\"barcode\"; style=\"color: black; background-color: #f0f9fc\">&nbsp:&nbsp</span><span class=\"barcode\"; style=\"color: black; background-color: #e7f5fb\">&nbspworld&nbsp</span><span class=\"barcode\"; style=\"color: black; background-color: #e1f3fa\">&nbspbank&nbsp</span><span class=\"barcode\"; style=\"color: black; background-color: #f7fcfe\">&nbspahead&nbsp</span><span class=\"barcode\"; style=\"color: black; background-color: #fcfefe\">&nbspof&nbsp</span><span class=\"barcode\"; style=\"color: black; background-color: #f9fcfe\">&nbspthe&nbsp</span><span class=\"barcode\"; style=\"color: black; background-color: #d8f0f8\">&nbspinternational&nbsp</span><span class=\"barcode\"; style=\"color: black; background-color: #48b6df\">&nbspmonetary&nbsp</span><span class=\"barcode\"; style=\"color: black; background-color: #e0f3fa\">&nbspfund&nbsp</span><span class=\"barcode\"; style=\"color: black; background-color: #f4fbfd\">&nbsp-&nbsp</span><span class=\"barcode\"; style=\"color: black; background-color: #e1f3fa\">&nbspworld&nbsp</span><span class=\"barcode\"; style=\"color: black; background-color: #d2edf7\">&nbspbank&nbsp</span><span class=\"barcode\"; style=\"color: black; background-color: #ebf7fb\">&nbspmeeting&nbsp</span><span class=\"barcode\"; style=\"color: black; background-color: #f6fbfd\">&nbsp,&nbsp</span><span class=\"barcode\"; style=\"color: black; background-color: #f6fcfd\">&nbspthe&nbsp</span><span class=\"barcode\"; style=\"color: black; background-color: #e7f5fb\">&nbspworld&nbsp</span><span class=\"barcode\"; style=\"color: black; background-color: #daf0f8\">&nbspbank&nbsp</span><span class=\"barcode\"; style=\"color: black; background-color: #f7fcfe\">&nbspon&nbsp</span><span class=\"barcode\"; style=\"color: black; background-color: #f0f9fc\">&nbsptuesday&nbsp</span><span class=\"barcode\"; style=\"color: black; background-color: #f1fafd\">&nbspplaced&nbsp</span><span class=\"barcode\"; style=\"color: black; background-color: #c8e9f5\">&nbspindia&nbsp</span><span class=\"barcode\"; style=\"color: black; background-color: #f4fbfd\">&nbspas&nbsp</span><span class=\"barcode\"; style=\"color: black; background-color: #f9fdfe\">&nbspthe&nbsp</span><span class=\"barcode\"; style=\"color: black; background-color: #f9fdfe\">&nbspfourth&nbsp</span><span class=\"barcode\"; style=\"color: black; background-color: #edf8fc\">&nbsplargest&nbsp</span><span class=\"barcode\"; style=\"color: black; background-color: #b7e2f2\">&nbspeconomy&nbsp</span><span class=\"barcode\"; style=\"color: black; background-color: #f9fcfe\">&nbspin&nbsp</span><span class=\"barcode\"; style=\"color: black; background-color: #f6fcfd\">&nbspterms&nbsp</span><span class=\"barcode\"; style=\"color: black; background-color: #fbfdfe\">&nbspof&nbsp</span><span class=\"barcode\"; style=\"color: black; background-color: #dff2f9\">&nbsppurchasing&nbsp</span><span class=\"barcode\"; style=\"color: black; background-color: #f6fbfd\">&nbsppower&nbsp</span><span class=\"barcode\"; style=\"color: black; background-color: #c9eaf6\">&nbspparity&nbsp</span><span class=\"barcode\"; style=\"color: black; background-color: #fbfefe\">&nbsp,&nbsp</span><span class=\"barcode\"; style=\"color: black; background-color: #f6fcfd\">&nbspeven&nbsp</span><span class=\"barcode\"; style=\"color: black; background-color: #fcfefe\">&nbspas&nbsp</span><span class=\"barcode\"; style=\"color: black; background-color: 0.0\">&nbspit&nbsp</span><span class=\"barcode\"; style=\"color: black; background-color: #fcfefe\">&nbspsaid&nbsp</span><span class=\"barcode\"; style=\"color: black; background-color: #fdfeff\">&nbspthe&nbsp</span><span class=\"barcode\"; style=\"color: black; background-color: #fbfdfe\">&nbspcountry&nbsp</span><span class=\"barcode\"; style=\"color: black; background-color: #dff2f9\">&nbsplagged&nbsp</span><span class=\"barcode\"; style=\"color: black; background-color: #fefeff\">&nbspbehind&nbsp</span><span class=\"barcode\"; style=\"color: black; background-color: #fefeff\">&nbspin&nbsp</span><span class=\"barcode\"; style=\"color: black; background-color: #fbfefe\">&nbsptechnology&nbsp</span><span class=\"barcode\"; style=\"color: black; background-color: #fbfefe\">&nbspand&nbsp</span><span class=\"barcode\"; style=\"color: black; background-color: #f9fcfe\">&nbspefficiency&nbsp</span><span class=\"barcode\"; style=\"color: black; background-color: #feffff\">&nbsp.&nbsp</span>"
      ],
      "text/plain": [
       "<IPython.core.display.HTML object>"
      ]
     },
     "metadata": {},
     "output_type": "display_data"
    },
    {
     "name": "stdout",
     "output_type": "stream",
     "text": [
      "Viz irrel: \n"
     ]
    },
    {
     "data": {
      "text/html": [
       "<span class=\"barcode\"; style=\"color: black; background-color: #f9fcfe\">&nbspindia&nbsp</span><span class=\"barcode\"; style=\"color: black; background-color: #f7fcfe\">&nbsp4th&nbsp</span><span class=\"barcode\"; style=\"color: black; background-color: #f7fcfe\">&nbsplargest&nbsp</span><span class=\"barcode\"; style=\"color: black; background-color: #f9fcfe\">&nbspeconomy&nbsp</span><span class=\"barcode\"; style=\"color: black; background-color: #f8fcfe\">&nbsp:&nbsp</span><span class=\"barcode\"; style=\"color: black; background-color: #f8fcfe\">&nbspworld&nbsp</span><span class=\"barcode\"; style=\"color: black; background-color: #f9fcfe\">&nbspbank&nbsp</span><span class=\"barcode\"; style=\"color: black; background-color: #f7fcfe\">&nbspahead&nbsp</span><span class=\"barcode\"; style=\"color: black; background-color: #f7fcfe\">&nbspof&nbsp</span><span class=\"barcode\"; style=\"color: black; background-color: #f7fcfe\">&nbspthe&nbsp</span><span class=\"barcode\"; style=\"color: black; background-color: #f9fcfe\">&nbspinternational&nbsp</span><span class=\"barcode\"; style=\"color: black; background-color: 0.0\">&nbspmonetary&nbsp</span><span class=\"barcode\"; style=\"color: black; background-color: #f9fcfe\">&nbspfund&nbsp</span><span class=\"barcode\"; style=\"color: black; background-color: #f7fcfe\">&nbsp-&nbsp</span><span class=\"barcode\"; style=\"color: black; background-color: #f9fcfe\">&nbspworld&nbsp</span><span class=\"barcode\"; style=\"color: black; background-color: #f9fcfe\">&nbspbank&nbsp</span><span class=\"barcode\"; style=\"color: black; background-color: #f8fcfe\">&nbspmeeting&nbsp</span><span class=\"barcode\"; style=\"color: black; background-color: #f7fcfe\">&nbsp,&nbsp</span><span class=\"barcode\"; style=\"color: black; background-color: #f7fcfe\">&nbspthe&nbsp</span><span class=\"barcode\"; style=\"color: black; background-color: #f8fcfe\">&nbspworld&nbsp</span><span class=\"barcode\"; style=\"color: black; background-color: #f9fcfe\">&nbspbank&nbsp</span><span class=\"barcode\"; style=\"color: black; background-color: #f7fcfe\">&nbspon&nbsp</span><span class=\"barcode\"; style=\"color: black; background-color: #f8fcfe\">&nbsptuesday&nbsp</span><span class=\"barcode\"; style=\"color: black; background-color: #f7fcfe\">&nbspplaced&nbsp</span><span class=\"barcode\"; style=\"color: black; background-color: #f9fdfe\">&nbspindia&nbsp</span><span class=\"barcode\"; style=\"color: black; background-color: #f7fcfe\">&nbspas&nbsp</span><span class=\"barcode\"; style=\"color: black; background-color: #f7fcfe\">&nbspthe&nbsp</span><span class=\"barcode\"; style=\"color: black; background-color: #f7fcfe\">&nbspfourth&nbsp</span><span class=\"barcode\"; style=\"color: black; background-color: #f8fcfe\">&nbsplargest&nbsp</span><span class=\"barcode\"; style=\"color: black; background-color: #fafdfe\">&nbspeconomy&nbsp</span><span class=\"barcode\"; style=\"color: black; background-color: #f7fcfe\">&nbspin&nbsp</span><span class=\"barcode\"; style=\"color: black; background-color: #f7fcfe\">&nbspterms&nbsp</span><span class=\"barcode\"; style=\"color: black; background-color: #f7fcfe\">&nbspof&nbsp</span><span class=\"barcode\"; style=\"color: black; background-color: #f9fcfe\">&nbsppurchasing&nbsp</span><span class=\"barcode\"; style=\"color: black; background-color: #f7fcfe\">&nbsppower&nbsp</span><span class=\"barcode\"; style=\"color: black; background-color: #49b6df\">&nbspparity&nbsp</span><span class=\"barcode\"; style=\"color: black; background-color: #f7fcfe\">&nbsp,&nbsp</span><span class=\"barcode\"; style=\"color: black; background-color: #f7fcfe\">&nbspeven&nbsp</span><span class=\"barcode\"; style=\"color: black; background-color: #f7fcfe\">&nbspas&nbsp</span><span class=\"barcode\"; style=\"color: black; background-color: #f7fcfe\">&nbspit&nbsp</span><span class=\"barcode\"; style=\"color: black; background-color: #f7fcfe\">&nbspsaid&nbsp</span><span class=\"barcode\"; style=\"color: black; background-color: #f7fcfe\">&nbspthe&nbsp</span><span class=\"barcode\"; style=\"color: black; background-color: #f7fcfe\">&nbspcountry&nbsp</span><span class=\"barcode\"; style=\"color: black; background-color: #48b6df\">&nbsplagged&nbsp</span><span class=\"barcode\"; style=\"color: black; background-color: #f7fcfe\">&nbspbehind&nbsp</span><span class=\"barcode\"; style=\"color: black; background-color: #f7fcfe\">&nbspin&nbsp</span><span class=\"barcode\"; style=\"color: black; background-color: #f7fcfe\">&nbsptechnology&nbsp</span><span class=\"barcode\"; style=\"color: black; background-color: #f7fcfe\">&nbspand&nbsp</span><span class=\"barcode\"; style=\"color: black; background-color: #f7fcfe\">&nbspefficiency&nbsp</span><span class=\"barcode\"; style=\"color: black; background-color: #f7fcfe\">&nbsp.&nbsp</span>"
      ],
      "text/plain": [
       "<IPython.core.display.HTML object>"
      ]
     },
     "metadata": {},
     "output_type": "display_data"
    },
    {
     "name": "stdout",
     "output_type": "stream",
     "text": [
      "Viz rel-irrel: \n"
     ]
    },
    {
     "data": {
      "text/html": [
       "<span class=\"barcode\"; style=\"color: black; background-color: #dff2f9\">&nbspindia&nbsp</span><span class=\"barcode\"; style=\"color: black; background-color: #feffff\">&nbsp4th&nbsp</span><span class=\"barcode\"; style=\"color: black; background-color: #f9fcfe\">&nbsplargest&nbsp</span><span class=\"barcode\"; style=\"color: black; background-color: #ddf2f9\">&nbspeconomy&nbsp</span><span class=\"barcode\"; style=\"color: black; background-color: #f8fcfe\">&nbsp:&nbsp</span><span class=\"barcode\"; style=\"color: black; background-color: #eef8fc\">&nbspworld&nbsp</span><span class=\"barcode\"; style=\"color: black; background-color: #e8f6fb\">&nbspbank&nbsp</span><span class=\"barcode\"; style=\"color: black; background-color: #ffffff\">&nbspahead&nbsp</span><span class=\"barcode\"; style=\"color: black; background-color: #fefcfb\">&nbspof&nbsp</span><span class=\"barcode\"; style=\"color: black; background-color: #fffefe\">&nbspthe&nbsp</span><span class=\"barcode\"; style=\"color: black; background-color: #dff2f9\">&nbspinternational&nbsp</span><span class=\"barcode\"; style=\"color: black; background-color: #48b6df\">&nbspmonetary&nbsp</span><span class=\"barcode\"; style=\"color: black; background-color: #e7f6fb\">&nbspfund&nbsp</span><span class=\"barcode\"; style=\"color: black; background-color: #fcfefe\">&nbsp-&nbsp</span><span class=\"barcode\"; style=\"color: black; background-color: #e8f6fb\">&nbspworld&nbsp</span><span class=\"barcode\"; style=\"color: black; background-color: #d8f0f8\">&nbspbank&nbsp</span><span class=\"barcode\"; style=\"color: black; background-color: #f3fafd\">&nbspmeeting&nbsp</span><span class=\"barcode\"; style=\"color: black; background-color: #fefeff\">&nbsp,&nbsp</span><span class=\"barcode\"; style=\"color: black; background-color: #feffff\">&nbspthe&nbsp</span><span class=\"barcode\"; style=\"color: black; background-color: #eef8fc\">&nbspworld&nbsp</span><span class=\"barcode\"; style=\"color: black; background-color: #e0f3fa\">&nbspbank&nbsp</span><span class=\"barcode\"; style=\"color: black; background-color: #ffffff\">&nbspon&nbsp</span><span class=\"barcode\"; style=\"color: black; background-color: #f8fcfe\">&nbsptuesday&nbsp</span><span class=\"barcode\"; style=\"color: black; background-color: #f9fdfe\">&nbspplaced&nbsp</span><span class=\"barcode\"; style=\"color: black; background-color: #cdebf6\">&nbspindia&nbsp</span><span class=\"barcode\"; style=\"color: black; background-color: #fcfefe\">&nbspas&nbsp</span><span class=\"barcode\"; style=\"color: black; background-color: #fffefe\">&nbspthe&nbsp</span><span class=\"barcode\"; style=\"color: black; background-color: #fffdfd\">&nbspfourth&nbsp</span><span class=\"barcode\"; style=\"color: black; background-color: #f5fbfd\">&nbsplargest&nbsp</span><span class=\"barcode\"; style=\"color: black; background-color: #bce4f3\">&nbspeconomy&nbsp</span><span class=\"barcode\"; style=\"color: black; background-color: #fffefe\">&nbspin&nbsp</span><span class=\"barcode\"; style=\"color: black; background-color: #feffff\">&nbspterms&nbsp</span><span class=\"barcode\"; style=\"color: black; background-color: #fefdfc\">&nbspof&nbsp</span><span class=\"barcode\"; style=\"color: black; background-color: #e7f5fb\">&nbsppurchasing&nbsp</span><span class=\"barcode\"; style=\"color: black; background-color: #feffff\">&nbsppower&nbsp</span><span class=\"barcode\"; style=\"color: black; background-color: #e79d8d\">&nbspparity&nbsp</span><span class=\"barcode\"; style=\"color: black; background-color: #fefcfc\">&nbsp,&nbsp</span><span class=\"barcode\"; style=\"color: black; background-color: #ffffff\">&nbspeven&nbsp</span><span class=\"barcode\"; style=\"color: black; background-color: #fefbfa\">&nbspas&nbsp</span><span class=\"barcode\"; style=\"color: black; background-color: #fef9f8\">&nbspit&nbsp</span><span class=\"barcode\"; style=\"color: black; background-color: #fefbfa\">&nbspsaid&nbsp</span><span class=\"barcode\"; style=\"color: black; background-color: #fefbfa\">&nbspthe&nbsp</span><span class=\"barcode\"; style=\"color: black; background-color: #fefcfc\">&nbspcountry&nbsp</span><span class=\"barcode\"; style=\"color: black; background-color: #e38b77\">&nbsplagged&nbsp</span><span class=\"barcode\"; style=\"color: black; background-color: #fefaf9\">&nbspbehind&nbsp</span><span class=\"barcode\"; style=\"color: black; background-color: #fefaf9\">&nbspin&nbsp</span><span class=\"barcode\"; style=\"color: black; background-color: #fefcfb\">&nbsptechnology&nbsp</span><span class=\"barcode\"; style=\"color: black; background-color: #fefcfb\">&nbspand&nbsp</span><span class=\"barcode\"; style=\"color: black; background-color: #fffefe\">&nbspefficiency&nbsp</span><span class=\"barcode\"; style=\"color: black; background-color: #fefaf9\">&nbsp.&nbsp</span>"
      ],
      "text/plain": [
       "<IPython.core.display.HTML object>"
      ]
     },
     "metadata": {},
     "output_type": "display_data"
    },
    {
     "name": "stdout",
     "output_type": "stream",
     "text": [
      "====================\n",
      "========== sample 7 ==========\n"
     ]
    },
    {
     "name": "stderr",
     "output_type": "stream",
     "text": [
      "Running decomposition in batches...: 100%|██████████| 1/1 [00:00<00:00,  1.83it/s]"
     ]
    },
    {
     "name": "stdout",
     "output_type": "stream",
     "text": [
      "Viz rel: \n"
     ]
    },
    {
     "name": "stderr",
     "output_type": "stream",
     "text": [
      "\n"
     ]
    },
    {
     "data": {
      "text/html": [
       "<span class=\"barcode\"; style=\"color: black; background-color: #9dd8ee\">&nbspmanchester&nbsp</span><span class=\"barcode\"; style=\"color: black; background-color: #48b6df\">&nbspunited&nbsp</span><span class=\"barcode\"; style=\"color: black; background-color: #f4fafd\">&nbspthe&nbsp</span><span class=\"barcode\"; style=\"color: black; background-color: #edf8fc\">&nbsponly&nbsp</span><span class=\"barcode\"; style=\"color: black; background-color: #eef8fc\">&nbspteam&nbsp</span><span class=\"barcode\"; style=\"color: black; background-color: #f0f9fc\">&nbspfor&nbsp</span><span class=\"barcode\"; style=\"color: black; background-color: #aaddf0\">&nbspme&nbsp</span><span class=\"barcode\"; style=\"color: black; background-color: #f0f9fc\">&nbsp,&nbsp</span><span class=\"barcode\"; style=\"color: black; background-color: #e4f4fa\">&nbspsays&nbsp</span><span class=\"barcode\"; style=\"color: black; background-color: #ccebf6\">&nbsprooney&nbsp</span><span class=\"barcode\"; style=\"color: black; background-color: #e6f5fb\">&nbspteenage&nbsp</span><span class=\"barcode\"; style=\"color: black; background-color: #e9f6fb\">&nbspstriker&nbsp</span><span class=\"barcode\"; style=\"color: black; background-color: #f0f9fc\">&nbspwayne&nbsp</span><span class=\"barcode\"; style=\"color: black; background-color: #d5eef8\">&nbsprooney&nbsp</span><span class=\"barcode\"; style=\"color: black; background-color: #dff2f9\">&nbspsays&nbsp</span><span class=\"barcode\"; style=\"color: black; background-color: #90d3ec\">&nbspmanchester&nbsp</span><span class=\"barcode\"; style=\"color: black; background-color: #53bae1\">&nbspunited&nbsp</span><span class=\"barcode\"; style=\"color: black; background-color: #dcf1f9\">&nbspwere&nbsp</span><span class=\"barcode\"; style=\"color: black; background-color: #fafdfe\">&nbspthe&nbsp</span><span class=\"barcode\"; style=\"color: black; background-color: #e9f6fb\">&nbsponly&nbsp</span><span class=\"barcode\"; style=\"color: black; background-color: #d3edf7\">&nbspteam&nbsp</span><span class=\"barcode\"; style=\"color: black; background-color: #eaf7fb\">&nbsphe&nbsp</span><span class=\"barcode\"; style=\"color: black; background-color: #f1f9fc\">&nbspwanted&nbsp</span><span class=\"barcode\"; style=\"color: black; background-color: 0.0\">&nbspto&nbsp</span><span class=\"barcode\"; style=\"color: black; background-color: #ebf7fb\">&nbspjoin&nbsp</span><span class=\"barcode\"; style=\"color: black; background-color: #f6fbfd\">&nbsponce&nbsp</span><span class=\"barcode\"; style=\"color: black; background-color: #f6fcfd\">&nbspthey&nbsp</span><span class=\"barcode\"; style=\"color: black; background-color: #f6fbfd\">&nbsphe&nbsp</span><span class=\"barcode\"; style=\"color: black; background-color: #ecf7fc\">&nbspknew&nbsp</span><span class=\"barcode\"; style=\"color: black; background-color: #fefeff\">&nbspthe&nbsp</span><span class=\"barcode\"; style=\"color: black; background-color: #e2f4fa\">&nbspclub&nbsp</span><span class=\"barcode\"; style=\"color: black; background-color: #f9fdfe\">&nbspwere&nbsp</span><span class=\"barcode\"; style=\"color: black; background-color: #e7f5fb\">&nbspinterested&nbsp</span><span class=\"barcode\"; style=\"color: black; background-color: #feffff\">&nbspin&nbsp</span><span class=\"barcode\"; style=\"color: black; background-color: #f5fbfd\">&nbsphim&nbsp</span><span class=\"barcode\"; style=\"color: black; background-color: #fcfefe\">&nbsp.&nbsp</span>"
      ],
      "text/plain": [
       "<IPython.core.display.HTML object>"
      ]
     },
     "metadata": {},
     "output_type": "display_data"
    },
    {
     "name": "stdout",
     "output_type": "stream",
     "text": [
      "Viz irrel: \n"
     ]
    },
    {
     "data": {
      "text/html": [
       "<span class=\"barcode\"; style=\"color: black; background-color: #aaddf0\">&nbspmanchester&nbsp</span><span class=\"barcode\"; style=\"color: black; background-color: 0.0\">&nbspunited&nbsp</span><span class=\"barcode\"; style=\"color: black; background-color: #53bbe1\">&nbspthe&nbsp</span><span class=\"barcode\"; style=\"color: black; background-color: #5abde2\">&nbsponly&nbsp</span><span class=\"barcode\"; style=\"color: black; background-color: #59bde2\">&nbspteam&nbsp</span><span class=\"barcode\"; style=\"color: black; background-color: #57bce2\">&nbspfor&nbsp</span><span class=\"barcode\"; style=\"color: black; background-color: #9dd8ee\">&nbspme&nbsp</span><span class=\"barcode\"; style=\"color: black; background-color: #58bce2\">&nbsp,&nbsp</span><span class=\"barcode\"; style=\"color: black; background-color: #63c1e4\">&nbspsays&nbsp</span><span class=\"barcode\"; style=\"color: black; background-color: #7bcae8\">&nbsprooney&nbsp</span><span class=\"barcode\"; style=\"color: black; background-color: #61c0e3\">&nbspteenage&nbsp</span><span class=\"barcode\"; style=\"color: black; background-color: #5ebfe3\">&nbspstriker&nbsp</span><span class=\"barcode\"; style=\"color: black; background-color: #57bce2\">&nbspwayne&nbsp</span><span class=\"barcode\"; style=\"color: black; background-color: #72c7e6\">&nbsprooney&nbsp</span><span class=\"barcode\"; style=\"color: black; background-color: #68c3e5\">&nbspsays&nbsp</span><span class=\"barcode\"; style=\"color: black; background-color: #b7e2f2\">&nbspmanchester&nbsp</span><span class=\"barcode\"; style=\"color: black; background-color: #f4fbfd\">&nbspunited&nbsp</span><span class=\"barcode\"; style=\"color: black; background-color: #6bc4e5\">&nbspwere&nbsp</span><span class=\"barcode\"; style=\"color: black; background-color: #4db8e0\">&nbspthe&nbsp</span><span class=\"barcode\"; style=\"color: black; background-color: #5ebfe3\">&nbsponly&nbsp</span><span class=\"barcode\"; style=\"color: black; background-color: #74c8e7\">&nbspteam&nbsp</span><span class=\"barcode\"; style=\"color: black; background-color: #5dbee3\">&nbsphe&nbsp</span><span class=\"barcode\"; style=\"color: black; background-color: #56bce2\">&nbspwanted&nbsp</span><span class=\"barcode\"; style=\"color: black; background-color: #48b6df\">&nbspto&nbsp</span><span class=\"barcode\"; style=\"color: black; background-color: #5cbee3\">&nbspjoin&nbsp</span><span class=\"barcode\"; style=\"color: black; background-color: #51bae1\">&nbsponce&nbsp</span><span class=\"barcode\"; style=\"color: black; background-color: #51b9e1\">&nbspthey&nbsp</span><span class=\"barcode\"; style=\"color: black; background-color: #51bae1\">&nbsphe&nbsp</span><span class=\"barcode\"; style=\"color: black; background-color: #5bbee2\">&nbspknew&nbsp</span><span class=\"barcode\"; style=\"color: black; background-color: #49b7df\">&nbspthe&nbsp</span><span class=\"barcode\"; style=\"color: black; background-color: #65c1e4\">&nbspclub&nbsp</span><span class=\"barcode\"; style=\"color: black; background-color: #4eb8e0\">&nbspwere&nbsp</span><span class=\"barcode\"; style=\"color: black; background-color: #60c0e3\">&nbspinterested&nbsp</span><span class=\"barcode\"; style=\"color: black; background-color: #49b6df\">&nbspin&nbsp</span><span class=\"barcode\"; style=\"color: black; background-color: #52bae1\">&nbsphim&nbsp</span><span class=\"barcode\"; style=\"color: black; background-color: #4bb7e0\">&nbsp.&nbsp</span>"
      ],
      "text/plain": [
       "<IPython.core.display.HTML object>"
      ]
     },
     "metadata": {},
     "output_type": "display_data"
    },
    {
     "name": "stdout",
     "output_type": "stream",
     "text": [
      "Viz rel-irrel: \n"
     ]
    },
    {
     "data": {
      "text/html": [
       "<span class=\"barcode\"; style=\"color: black; background-color: #f4fafd\">&nbspmanchester&nbsp</span><span class=\"barcode\"; style=\"color: black; background-color: #48b6df\">&nbspunited&nbsp</span><span class=\"barcode\"; style=\"color: black; background-color: #e18570\">&nbspthe&nbsp</span><span class=\"barcode\"; style=\"color: black; background-color: #e48f7c\">&nbsponly&nbsp</span><span class=\"barcode\"; style=\"color: black; background-color: #e38c79\">&nbspteam&nbsp</span><span class=\"barcode\"; style=\"color: black; background-color: #e38b77\">&nbspfor&nbsp</span><span class=\"barcode\"; style=\"color: black; background-color: #fdf6f4\">&nbspme&nbsp</span><span class=\"barcode\"; style=\"color: black; background-color: #e38b77\">&nbsp,&nbsp</span><span class=\"barcode\"; style=\"color: black; background-color: #e79d8c\">&nbspsays&nbsp</span><span class=\"barcode\"; style=\"color: black; background-color: #f0c1b6\">&nbsprooney&nbsp</span><span class=\"barcode\"; style=\"color: black; background-color: #e69988\">&nbspteenage&nbsp</span><span class=\"barcode\"; style=\"color: black; background-color: #e59583\">&nbspstriker&nbsp</span><span class=\"barcode\"; style=\"color: black; background-color: #e38a76\">&nbspwayne&nbsp</span><span class=\"barcode\"; style=\"color: black; background-color: #edb4a8\">&nbsprooney&nbsp</span><span class=\"barcode\"; style=\"color: black; background-color: #e9a596\">&nbspsays&nbsp</span><span class=\"barcode\"; style=\"color: black; background-color: #d9f0f8\">&nbspmanchester&nbsp</span><span class=\"barcode\"; style=\"color: black; background-color: #5ebfe3\">&nbspunited&nbsp</span><span class=\"barcode\"; style=\"color: black; background-color: #eaa99a\">&nbspwere&nbsp</span><span class=\"barcode\"; style=\"color: black; background-color: #df7b64\">&nbspthe&nbsp</span><span class=\"barcode\"; style=\"color: black; background-color: #e59482\">&nbsponly&nbsp</span><span class=\"barcode\"; style=\"color: black; background-color: #eeb7ab\">&nbspteam&nbsp</span><span class=\"barcode\"; style=\"color: black; background-color: #e59381\">&nbsphe&nbsp</span><span class=\"barcode\"; style=\"color: black; background-color: #e28975\">&nbspwanted&nbsp</span><span class=\"barcode\"; style=\"color: black; background-color: #dd735b\">&nbspto&nbsp</span><span class=\"barcode\"; style=\"color: black; background-color: #e4927f\">&nbspjoin&nbsp</span><span class=\"barcode\"; style=\"color: black; background-color: #e0816c\">&nbsponce&nbsp</span><span class=\"barcode\"; style=\"color: black; background-color: #e0816b\">&nbspthey&nbsp</span><span class=\"barcode\"; style=\"color: black; background-color: #e1826c\">&nbsphe&nbsp</span><span class=\"barcode\"; style=\"color: black; background-color: #e4917e\">&nbspknew&nbsp</span><span class=\"barcode\"; style=\"color: black; background-color: #de755e\">&nbspthe&nbsp</span><span class=\"barcode\"; style=\"color: black; background-color: #e89f8f\">&nbspclub&nbsp</span><span class=\"barcode\"; style=\"color: black; background-color: #df7c66\">&nbspwere&nbsp</span><span class=\"barcode\"; style=\"color: black; background-color: #e69987\">&nbspinterested&nbsp</span><span class=\"barcode\"; style=\"color: black; background-color: #dd755d\">&nbspin&nbsp</span><span class=\"barcode\"; style=\"color: black; background-color: #e1836e\">&nbsphim&nbsp</span><span class=\"barcode\"; style=\"color: black; background-color: #de7861\">&nbsp.&nbsp</span>"
      ],
      "text/plain": [
       "<IPython.core.display.HTML object>"
      ]
     },
     "metadata": {},
     "output_type": "display_data"
    },
    {
     "name": "stdout",
     "output_type": "stream",
     "text": [
      "====================\n",
      "========== sample 8 ==========\n"
     ]
    },
    {
     "name": "stderr",
     "output_type": "stream",
     "text": [
      "Running decomposition in batches...: 100%|██████████| 1/1 [00:00<00:00,  1.07it/s]"
     ]
    },
    {
     "name": "stdout",
     "output_type": "stream",
     "text": [
      "Viz rel: \n"
     ]
    },
    {
     "name": "stderr",
     "output_type": "stream",
     "text": [
      "\n"
     ]
    },
    {
     "data": {
      "text/html": [
       "<span class=\"barcode\"; style=\"color: black; background-color: #d3eef7\">&nbspdeportivo&nbsp</span><span class=\"barcode\"; style=\"color: black; background-color: #ecf8fc\">&nbspla&nbsp</span><span class=\"barcode\"; style=\"color: black; background-color: #b1e0f1\">&nbspcorua&nbsp</span><span class=\"barcode\"; style=\"color: black; background-color: #edf8fc\">&nbsp0&nbsp</span><span class=\"barcode\"; style=\"color: black; background-color: #f9fcfe\">&nbsp-&nbsp</span><span class=\"barcode\"; style=\"color: black; background-color: #f1f9fc\">&nbsp1&nbsp</span><span class=\"barcode\"; style=\"color: black; background-color: #b0e0f1\">&nbspliverpool&nbsp</span><span class=\"barcode\"; style=\"color: black; background-color: #e3f4fa\">&nbsp:&nbsp</span><span class=\"barcode\"; style=\"color: black; background-color: #f2fafd\">&nbspft&nbsp</span><span class=\"barcode\"; style=\"color: black; background-color: #f1f9fc\">&nbspreport&nbsp</span><span class=\"barcode\"; style=\"color: black; background-color: #f3fafd\">&nbspla&nbsp</span><span class=\"barcode\"; style=\"color: black; background-color: #b9e3f3\">&nbspcoruna&nbsp</span><span class=\"barcode\"; style=\"color: black; background-color: #f7fcfe\">&nbsp,&nbsp</span><span class=\"barcode\"; style=\"color: black; background-color: #e7f5fb\">&nbspnovember&nbsp</span><span class=\"barcode\"; style=\"color: black; background-color: #f6fcfd\">&nbsp3&nbsp</span><span class=\"barcode\"; style=\"color: black; background-color: #f6fcfd\">&nbsp(&nbsp</span><span class=\"barcode\"; style=\"color: black; background-color: #e9f6fb\">&nbspchampions&nbsp</span><span class=\"barcode\"; style=\"color: black; background-color: #def2f9\">&nbspleague&nbsp</span><span class=\"barcode\"; style=\"color: black; background-color: #dff2f9\">&nbsp)&nbsp</span><span class=\"barcode\"; style=\"color: black; background-color: #e6f5fb\">&nbsp-&nbsp</span><span class=\"barcode\"; style=\"color: black; background-color: #e4f4fa\">&nbsprafael&nbsp</span><span class=\"barcode\"; style=\"color: black; background-color: #afdff1\">&nbspbenitez&nbsp</span><span class=\"barcode\"; style=\"color: black; background-color: #f2fafd\">&nbspheard&nbsp</span><span class=\"barcode\"; style=\"color: black; background-color: #fafdfe\">&nbsphis&nbsp</span><span class=\"barcode\"; style=\"color: black; background-color: #f4fafd\">&nbspname&nbsp</span><span class=\"barcode\"; style=\"color: black; background-color: #f9fcfe\">&nbspring&nbsp</span><span class=\"barcode\"; style=\"color: black; background-color: #fafdfe\">&nbsparound&nbsp</span><span class=\"barcode\"; style=\"color: black; background-color: #fcfefe\">&nbspa&nbsp</span><span class=\"barcode\"; style=\"color: black; background-color: #daf0f9\">&nbspspanish&nbsp</span><span class=\"barcode\"; style=\"color: black; background-color: #daf0f8\">&nbspstadium&nbsp</span><span class=\"barcode\"; style=\"color: black; background-color: #fdfeff\">&nbspin&nbsp</span><span class=\"barcode\"; style=\"color: black; background-color: #fbfdfe\">&nbsphis&nbsp</span><span class=\"barcode\"; style=\"color: black; background-color: #f8fcfe\">&nbsphomeland&nbsp</span><span class=\"barcode\"; style=\"color: black; background-color: #fbfefe\">&nbspagain&nbsp</span><span class=\"barcode\"; style=\"color: black; background-color: #fbfefe\">&nbspbut&nbsp</span><span class=\"barcode\"; style=\"color: black; background-color: #feffff\">&nbspthis&nbsp</span><span class=\"barcode\"; style=\"color: black; background-color: 0.0\">&nbsptime&nbsp</span><span class=\"barcode\"; style=\"color: black; background-color: #feffff\">&nbspit&nbsp</span><span class=\"barcode\"; style=\"color: black; background-color: #ffffff\">&nbspwas&nbsp</span><span class=\"barcode\"; style=\"color: black; background-color: #feffff\">&nbspfrom&nbsp</span><span class=\"barcode\"; style=\"color: black; background-color: #d8eff8\">&nbspscouse&nbsp</span><span class=\"barcode\"; style=\"color: black; background-color: #f9fcfe\">&nbspvoices&nbsp</span><span class=\"barcode\"; style=\"color: black; background-color: #fbfdfe\">&nbsprather&nbsp</span><span class=\"barcode\"; style=\"color: black; background-color: #fdfeff\">&nbspthan&nbsp</span><span class=\"barcode\"; style=\"color: black; background-color: #fcfefe\">&nbspthose&nbsp</span><span class=\"barcode\"; style=\"color: black; background-color: #feffff\">&nbspin&nbsp</span><span class=\"barcode\"; style=\"color: black; background-color: #daf0f9\">&nbspvalencia&nbsp</span><span class=\"barcode\"; style=\"color: black; background-color: #fdfeff\">&nbsp,&nbsp</span><span class=\"barcode\"; style=\"color: black; background-color: #fbfefe\">&nbspwith&nbsp</span><span class=\"barcode\"; style=\"color: black; background-color: #f3fafd\">&nbspwhom&nbsp</span><span class=\"barcode\"; style=\"color: black; background-color: #f6fbfd\">&nbsphe&nbsp</span><span class=\"barcode\"; style=\"color: black; background-color: #e1f3fa\">&nbspwon&nbsp</span><span class=\"barcode\"; style=\"color: black; background-color: #cdebf6\">&nbspla&nbsp</span><span class=\"barcode\"; style=\"color: black; background-color: #48b6df\">&nbspliga&nbsp</span><span class=\"barcode\"; style=\"color: black; background-color: #f6fbfd\">&nbsp.&nbsp</span>"
      ],
      "text/plain": [
       "<IPython.core.display.HTML object>"
      ]
     },
     "metadata": {},
     "output_type": "display_data"
    },
    {
     "name": "stdout",
     "output_type": "stream",
     "text": [
      "Viz irrel: \n"
     ]
    },
    {
     "data": {
      "text/html": [
       "<span class=\"barcode\"; style=\"color: black; background-color: #fcfefe\">&nbspdeportivo&nbsp</span><span class=\"barcode\"; style=\"color: black; background-color: #fbfefe\">&nbspla&nbsp</span><span class=\"barcode\"; style=\"color: black; background-color: #48b6df\">&nbspcorua&nbsp</span><span class=\"barcode\"; style=\"color: black; background-color: #fbfefe\">&nbsp0&nbsp</span><span class=\"barcode\"; style=\"color: black; background-color: #fbfefe\">&nbsp-&nbsp</span><span class=\"barcode\"; style=\"color: black; background-color: #fbfefe\">&nbsp1&nbsp</span><span class=\"barcode\"; style=\"color: black; background-color: #fdfeff\">&nbspliverpool&nbsp</span><span class=\"barcode\"; style=\"color: black; background-color: #fbfefe\">&nbsp:&nbsp</span><span class=\"barcode\"; style=\"color: black; background-color: #fbfefe\">&nbspft&nbsp</span><span class=\"barcode\"; style=\"color: black; background-color: #fbfefe\">&nbspreport&nbsp</span><span class=\"barcode\"; style=\"color: black; background-color: #fbfefe\">&nbspla&nbsp</span><span class=\"barcode\"; style=\"color: black; background-color: #a2daef\">&nbspcoruna&nbsp</span><span class=\"barcode\"; style=\"color: black; background-color: #fbfefe\">&nbsp,&nbsp</span><span class=\"barcode\"; style=\"color: black; background-color: #fbfefe\">&nbspnovember&nbsp</span><span class=\"barcode\"; style=\"color: black; background-color: #fbfefe\">&nbsp3&nbsp</span><span class=\"barcode\"; style=\"color: black; background-color: #fbfefe\">&nbsp(&nbsp</span><span class=\"barcode\"; style=\"color: black; background-color: #fbfefe\">&nbspchampions&nbsp</span><span class=\"barcode\"; style=\"color: black; background-color: #fcfefe\">&nbspleague&nbsp</span><span class=\"barcode\"; style=\"color: black; background-color: #fbfefe\">&nbsp)&nbsp</span><span class=\"barcode\"; style=\"color: black; background-color: #fbfefe\">&nbsp-&nbsp</span><span class=\"barcode\"; style=\"color: black; background-color: #fbfefe\">&nbsprafael&nbsp</span><span class=\"barcode\"; style=\"color: black; background-color: #48b6df\">&nbspbenitez&nbsp</span><span class=\"barcode\"; style=\"color: black; background-color: #fbfefe\">&nbspheard&nbsp</span><span class=\"barcode\"; style=\"color: black; background-color: #fbfefe\">&nbsphis&nbsp</span><span class=\"barcode\"; style=\"color: black; background-color: #fbfefe\">&nbspname&nbsp</span><span class=\"barcode\"; style=\"color: black; background-color: #fbfefe\">&nbspring&nbsp</span><span class=\"barcode\"; style=\"color: black; background-color: #fbfefe\">&nbsparound&nbsp</span><span class=\"barcode\"; style=\"color: black; background-color: #fbfefe\">&nbspa&nbsp</span><span class=\"barcode\"; style=\"color: black; background-color: #fcfefe\">&nbspspanish&nbsp</span><span class=\"barcode\"; style=\"color: black; background-color: #fcfefe\">&nbspstadium&nbsp</span><span class=\"barcode\"; style=\"color: black; background-color: #fbfdfe\">&nbspin&nbsp</span><span class=\"barcode\"; style=\"color: black; background-color: #fbfefe\">&nbsphis&nbsp</span><span class=\"barcode\"; style=\"color: black; background-color: #fbfefe\">&nbsphomeland&nbsp</span><span class=\"barcode\"; style=\"color: black; background-color: #fbfefe\">&nbspagain&nbsp</span><span class=\"barcode\"; style=\"color: black; background-color: #fbfefe\">&nbspbut&nbsp</span><span class=\"barcode\"; style=\"color: black; background-color: #fbfdfe\">&nbspthis&nbsp</span><span class=\"barcode\"; style=\"color: black; background-color: #fbfdfe\">&nbsptime&nbsp</span><span class=\"barcode\"; style=\"color: black; background-color: #fbfdfe\">&nbspit&nbsp</span><span class=\"barcode\"; style=\"color: black; background-color: #fbfdfe\">&nbspwas&nbsp</span><span class=\"barcode\"; style=\"color: black; background-color: #fbfdfe\">&nbspfrom&nbsp</span><span class=\"barcode\"; style=\"color: black; background-color: #a1d9ef\">&nbspscouse&nbsp</span><span class=\"barcode\"; style=\"color: black; background-color: #fbfefe\">&nbspvoices&nbsp</span><span class=\"barcode\"; style=\"color: black; background-color: #fbfefe\">&nbsprather&nbsp</span><span class=\"barcode\"; style=\"color: black; background-color: #fbfdfe\">&nbspthan&nbsp</span><span class=\"barcode\"; style=\"color: black; background-color: #fbfefe\">&nbspthose&nbsp</span><span class=\"barcode\"; style=\"color: black; background-color: #fbfdfe\">&nbspin&nbsp</span><span class=\"barcode\"; style=\"color: black; background-color: #fcfefe\">&nbspvalencia&nbsp</span><span class=\"barcode\"; style=\"color: black; background-color: #fbfdfe\">&nbsp,&nbsp</span><span class=\"barcode\"; style=\"color: black; background-color: #fbfefe\">&nbspwith&nbsp</span><span class=\"barcode\"; style=\"color: black; background-color: #fbfefe\">&nbspwhom&nbsp</span><span class=\"barcode\"; style=\"color: black; background-color: #fbfefe\">&nbsphe&nbsp</span><span class=\"barcode\"; style=\"color: black; background-color: #fbfefe\">&nbspwon&nbsp</span><span class=\"barcode\"; style=\"color: black; background-color: #fcfefe\">&nbspla&nbsp</span><span class=\"barcode\"; style=\"color: black; background-color: 0.0\">&nbspliga&nbsp</span><span class=\"barcode\"; style=\"color: black; background-color: #fbfefe\">&nbsp.&nbsp</span>"
      ],
      "text/plain": [
       "<IPython.core.display.HTML object>"
      ]
     },
     "metadata": {},
     "output_type": "display_data"
    },
    {
     "name": "stdout",
     "output_type": "stream",
     "text": [
      "Viz rel-irrel: \n"
     ]
    },
    {
     "data": {
      "text/html": [
       "<span class=\"barcode\"; style=\"color: black; background-color: #d7eff8\">&nbspdeportivo&nbsp</span><span class=\"barcode\"; style=\"color: black; background-color: #f1f9fc\">&nbspla&nbsp</span><span class=\"barcode\"; style=\"color: black; background-color: #ebaea0\">&nbspcorua&nbsp</span><span class=\"barcode\"; style=\"color: black; background-color: #f1f9fc\">&nbsp0&nbsp</span><span class=\"barcode\"; style=\"color: black; background-color: #fdfeff\">&nbsp-&nbsp</span><span class=\"barcode\"; style=\"color: black; background-color: #f5fbfd\">&nbsp1&nbsp</span><span class=\"barcode\"; style=\"color: black; background-color: #b2e0f2\">&nbspliverpool&nbsp</span><span class=\"barcode\"; style=\"color: black; background-color: #e7f5fb\">&nbsp:&nbsp</span><span class=\"barcode\"; style=\"color: black; background-color: #f6fbfd\">&nbspft&nbsp</span><span class=\"barcode\"; style=\"color: black; background-color: #f5fbfd\">&nbspreport&nbsp</span><span class=\"barcode\"; style=\"color: black; background-color: #f7fcfe\">&nbspla&nbsp</span><span class=\"barcode\"; style=\"color: black; background-color: #fbedea\">&nbspcoruna&nbsp</span><span class=\"barcode\"; style=\"color: black; background-color: #fbfdfe\">&nbsp,&nbsp</span><span class=\"barcode\"; style=\"color: black; background-color: #eaf7fb\">&nbspnovember&nbsp</span><span class=\"barcode\"; style=\"color: black; background-color: #fbfdfe\">&nbsp3&nbsp</span><span class=\"barcode\"; style=\"color: black; background-color: #fafdfe\">&nbsp(&nbsp</span><span class=\"barcode\"; style=\"color: black; background-color: #edf8fc\">&nbspchampions&nbsp</span><span class=\"barcode\"; style=\"color: black; background-color: #e2f3fa\">&nbspleague&nbsp</span><span class=\"barcode\"; style=\"color: black; background-color: #e3f4fa\">&nbsp)&nbsp</span><span class=\"barcode\"; style=\"color: black; background-color: #e9f6fb\">&nbsp-&nbsp</span><span class=\"barcode\"; style=\"color: black; background-color: #e8f6fb\">&nbsprafael&nbsp</span><span class=\"barcode\"; style=\"color: black; background-color: #ecb0a3\">&nbspbenitez&nbsp</span><span class=\"barcode\"; style=\"color: black; background-color: #f6fcfd\">&nbspheard&nbsp</span><span class=\"barcode\"; style=\"color: black; background-color: #feffff\">&nbsphis&nbsp</span><span class=\"barcode\"; style=\"color: black; background-color: #f8fcfe\">&nbspname&nbsp</span><span class=\"barcode\"; style=\"color: black; background-color: #fdfeff\">&nbspring&nbsp</span><span class=\"barcode\"; style=\"color: black; background-color: #feffff\">&nbsparound&nbsp</span><span class=\"barcode\"; style=\"color: black; background-color: #fffefe\">&nbspa&nbsp</span><span class=\"barcode\"; style=\"color: black; background-color: #def2f9\">&nbspspanish&nbsp</span><span class=\"barcode\"; style=\"color: black; background-color: #ddf2f9\">&nbspstadium&nbsp</span><span class=\"barcode\"; style=\"color: black; background-color: #fffefe\">&nbspin&nbsp</span><span class=\"barcode\"; style=\"color: black; background-color: #ffffff\">&nbsphis&nbsp</span><span class=\"barcode\"; style=\"color: black; background-color: #fbfefe\">&nbsphomeland&nbsp</span><span class=\"barcode\"; style=\"color: black; background-color: #ffffff\">&nbspagain&nbsp</span><span class=\"barcode\"; style=\"color: black; background-color: #ffffff\">&nbspbut&nbsp</span><span class=\"barcode\"; style=\"color: black; background-color: #fefdfc\">&nbspthis&nbsp</span><span class=\"barcode\"; style=\"color: black; background-color: #fefcfb\">&nbsptime&nbsp</span><span class=\"barcode\"; style=\"color: black; background-color: #fefcfc\">&nbspit&nbsp</span><span class=\"barcode\"; style=\"color: black; background-color: #fefcfc\">&nbspwas&nbsp</span><span class=\"barcode\"; style=\"color: black; background-color: #fefdfc\">&nbspfrom&nbsp</span><span class=\"barcode\"; style=\"color: black; background-color: #f5d6cf\">&nbspscouse&nbsp</span><span class=\"barcode\"; style=\"color: black; background-color: #fcfefe\">&nbspvoices&nbsp</span><span class=\"barcode\"; style=\"color: black; background-color: #ffffff\">&nbsprather&nbsp</span><span class=\"barcode\"; style=\"color: black; background-color: #fffefe\">&nbspthan&nbsp</span><span class=\"barcode\"; style=\"color: black; background-color: #fffefe\">&nbspthose&nbsp</span><span class=\"barcode\"; style=\"color: black; background-color: #fefcfc\">&nbspin&nbsp</span><span class=\"barcode\"; style=\"color: black; background-color: #def2f9\">&nbspvalencia&nbsp</span><span class=\"barcode\"; style=\"color: black; background-color: #fffefe\">&nbsp,&nbsp</span><span class=\"barcode\"; style=\"color: black; background-color: #ffffff\">&nbspwith&nbsp</span><span class=\"barcode\"; style=\"color: black; background-color: #f6fcfd\">&nbspwhom&nbsp</span><span class=\"barcode\"; style=\"color: black; background-color: #fafdfe\">&nbsphe&nbsp</span><span class=\"barcode\"; style=\"color: black; background-color: #e4f4fa\">&nbspwon&nbsp</span><span class=\"barcode\"; style=\"color: black; background-color: #d0ecf7\">&nbspla&nbsp</span><span class=\"barcode\"; style=\"color: black; background-color: #48b6df\">&nbspliga&nbsp</span><span class=\"barcode\"; style=\"color: black; background-color: #fafdfe\">&nbsp.&nbsp</span>"
      ],
      "text/plain": [
       "<IPython.core.display.HTML object>"
      ]
     },
     "metadata": {},
     "output_type": "display_data"
    },
    {
     "name": "stdout",
     "output_type": "stream",
     "text": [
      "====================\n",
      "========== sample 9 ==========\n"
     ]
    },
    {
     "name": "stderr",
     "output_type": "stream",
     "text": [
      "Running decomposition in batches...: 100%|██████████| 1/1 [00:00<00:00,  1.59it/s]"
     ]
    },
    {
     "name": "stdout",
     "output_type": "stream",
     "text": [
      "Viz rel: \n"
     ]
    },
    {
     "name": "stderr",
     "output_type": "stream",
     "text": [
      "\n"
     ]
    },
    {
     "data": {
      "text/html": [
       "<span class=\"barcode\"; style=\"color: black; background-color: #9bd7ee\">&nbspvirgin&nbsp</span><span class=\"barcode\"; style=\"color: black; background-color: #c6e8f5\">&nbspwishing&nbsp</span><span class=\"barcode\"; style=\"color: black; background-color: #e8f6fb\">&nbspfor&nbsp</span><span class=\"barcode\"; style=\"color: black; background-color: #c4e8f5\">&nbspmelbourne&nbsp</span><span class=\"barcode\"; style=\"color: black; background-color: #ecf8fc\">&nbspsir&nbsp</span><span class=\"barcode\"; style=\"color: black; background-color: #fbfdfe\">&nbsprichard&nbsp</span><span class=\"barcode\"; style=\"color: black; background-color: #f6fcfd\">&nbspsaid&nbsp</span><span class=\"barcode\"; style=\"color: black; background-color: #d8f0f8\">&nbspyesterday&nbsp</span><span class=\"barcode\"; style=\"color: black; background-color: #e4f4fa\">&nbspmelbourne&nbsp</span><span class=\"barcode\"; style=\"color: black; background-color: #f8fcfe\">&nbspwas&nbsp</span><span class=\"barcode\"; style=\"color: black; background-color: #f9fcfe\">&nbspon&nbsp</span><span class=\"barcode\"; style=\"color: black; background-color: #f2fafd\">&nbsphis&nbsp</span><span class=\"barcode\"; style=\"color: black; background-color: #d7eff8\">&nbspwish&nbsp</span><span class=\"barcode\"; style=\"color: black; background-color: #ecf7fc\">&nbsplist&nbsp</span><span class=\"barcode\"; style=\"color: black; background-color: #fefeff\">&nbsp,&nbsp</span><span class=\"barcode\"; style=\"color: black; background-color: #fbfefe\">&nbspwith&nbsp</span><span class=\"barcode\"; style=\"color: black; background-color: #94d4ec\">&nbspflights&nbsp</span><span class=\"barcode\"; style=\"color: black; background-color: #fbfefe\">&nbspto&nbsp</span><span class=\"barcode\"; style=\"color: black; background-color: #fbfdfe\">&nbsplondon&nbsp</span><span class=\"barcode\"; style=\"color: black; background-color: #fefeff\">&nbsppossibly&nbsp</span><span class=\"barcode\"; style=\"color: black; background-color: #fefeff\">&nbspthrough&nbsp</span><span class=\"barcode\"; style=\"color: black; background-color: 0.0\">&nbsphong&nbsp</span><span class=\"barcode\"; style=\"color: black; background-color: #fefeff\">&nbspkong&nbsp</span><span class=\"barcode\"; style=\"color: black; background-color: #fefeff\">&nbspor&nbsp</span><span class=\"barcode\"; style=\"color: black; background-color: #ffffff\">&nbspbangkok&nbsp</span><span class=\"barcode\"; style=\"color: black; background-color: #ecf8fc\">&nbsp.&nbsp</span><span class=\"barcode\"; style=\"color: black; background-color: #f6fcfd\">&nbspthe&nbsp</span><span class=\"barcode\"; style=\"color: black; background-color: #f4fafd\">&nbspbritish&nbsp</span><span class=\"barcode\"; style=\"color: black; background-color: #a5dbef\">&nbspbillionaire&nbsp</span><span class=\"barcode\"; style=\"color: black; background-color: #dcf1f9\">&nbsplanded&nbsp</span><span class=\"barcode\"; style=\"color: black; background-color: #f9fcfe\">&nbspin&nbsp</span><span class=\"barcode\"; style=\"color: black; background-color: #e6f5fb\">&nbspsydney&nbsp</span><span class=\"barcode\"; style=\"color: black; background-color: #bee5f4\">&nbspyesterday&nbsp</span><span class=\"barcode\"; style=\"color: black; background-color: #cbeaf6\">&nbspaboard&nbsp</span><span class=\"barcode\"; style=\"color: black; background-color: #48b6df\">&nbspvirgin&nbsp</span><span class=\"barcode\"; style=\"color: black; background-color: #c9eaf6\">&nbspatlantic&nbsp</span><span class=\"barcode\"; style=\"color: black; background-color: #f6fcfd\">&nbsp#&nbsp</span><span class=\"barcode\"; style=\"color: black; background-color: #f9fcfe\">&nbsp39&nbsp</span><span class=\"barcode\"; style=\"color: black; background-color: #f4fafd\">&nbsp;&nbsp</span><span class=\"barcode\"; style=\"color: black; background-color: #d7eff8\">&nbsps&nbsp</span><span class=\"barcode\"; style=\"color: black; background-color: #d7eff8\">&nbspinaugural&nbsp</span><span class=\"barcode\"; style=\"color: black; background-color: #bee5f4\">&nbspaustralian&nbsp</span><span class=\"barcode\"; style=\"color: black; background-color: #9bd7ed\">&nbspflight&nbsp</span><span class=\"barcode\"; style=\"color: black; background-color: #f7fcfe\">&nbsp.&nbsp</span>"
      ],
      "text/plain": [
       "<IPython.core.display.HTML object>"
      ]
     },
     "metadata": {},
     "output_type": "display_data"
    },
    {
     "name": "stdout",
     "output_type": "stream",
     "text": [
      "Viz irrel: \n"
     ]
    },
    {
     "data": {
      "text/html": [
       "<span class=\"barcode\"; style=\"color: black; background-color: #acdef0\">&nbspvirgin&nbsp</span><span class=\"barcode\"; style=\"color: black; background-color: #81cde9\">&nbspwishing&nbsp</span><span class=\"barcode\"; style=\"color: black; background-color: #5fbfe3\">&nbspfor&nbsp</span><span class=\"barcode\"; style=\"color: black; background-color: #83cde9\">&nbspmelbourne&nbsp</span><span class=\"barcode\"; style=\"color: black; background-color: #5bbde2\">&nbspsir&nbsp</span><span class=\"barcode\"; style=\"color: black; background-color: #4cb8e0\">&nbsprichard&nbsp</span><span class=\"barcode\"; style=\"color: black; background-color: #51b9e1\">&nbspsaid&nbsp</span><span class=\"barcode\"; style=\"color: black; background-color: #6fc5e6\">&nbspyesterday&nbsp</span><span class=\"barcode\"; style=\"color: black; background-color: #63c1e4\">&nbspmelbourne&nbsp</span><span class=\"barcode\"; style=\"color: black; background-color: #4fb9e0\">&nbspwas&nbsp</span><span class=\"barcode\"; style=\"color: black; background-color: #4eb9e0\">&nbspon&nbsp</span><span class=\"barcode\"; style=\"color: black; background-color: #55bbe1\">&nbsphis&nbsp</span><span class=\"barcode\"; style=\"color: black; background-color: #70c6e6\">&nbspwish&nbsp</span><span class=\"barcode\"; style=\"color: black; background-color: #5bbee2\">&nbsplist&nbsp</span><span class=\"barcode\"; style=\"color: black; background-color: #49b7df\">&nbsp,&nbsp</span><span class=\"barcode\"; style=\"color: black; background-color: #4cb7e0\">&nbspwith&nbsp</span><span class=\"barcode\"; style=\"color: black; background-color: #b3e1f2\">&nbspflights&nbsp</span><span class=\"barcode\"; style=\"color: black; background-color: #4cb7e0\">&nbspto&nbsp</span><span class=\"barcode\"; style=\"color: black; background-color: #4cb8e0\">&nbsplondon&nbsp</span><span class=\"barcode\"; style=\"color: black; background-color: #49b7df\">&nbsppossibly&nbsp</span><span class=\"barcode\"; style=\"color: black; background-color: #49b7df\">&nbspthrough&nbsp</span><span class=\"barcode\"; style=\"color: black; background-color: #48b6df\">&nbsphong&nbsp</span><span class=\"barcode\"; style=\"color: black; background-color: #49b7df\">&nbspkong&nbsp</span><span class=\"barcode\"; style=\"color: black; background-color: #49b7df\">&nbspor&nbsp</span><span class=\"barcode\"; style=\"color: black; background-color: #48b6df\">&nbspbangkok&nbsp</span><span class=\"barcode\"; style=\"color: black; background-color: #5bbde2\">&nbsp.&nbsp</span><span class=\"barcode\"; style=\"color: black; background-color: #51b9e1\">&nbspthe&nbsp</span><span class=\"barcode\"; style=\"color: black; background-color: #53bbe1\">&nbspbritish&nbsp</span><span class=\"barcode\"; style=\"color: black; background-color: #a2daef\">&nbspbillionaire&nbsp</span><span class=\"barcode\"; style=\"color: black; background-color: #6bc4e5\">&nbsplanded&nbsp</span><span class=\"barcode\"; style=\"color: black; background-color: #4eb9e0\">&nbspin&nbsp</span><span class=\"barcode\"; style=\"color: black; background-color: #61c0e3\">&nbspsydney&nbsp</span><span class=\"barcode\"; style=\"color: black; background-color: #89d0ea\">&nbspyesterday&nbsp</span><span class=\"barcode\"; style=\"color: black; background-color: #7ccbe8\">&nbspaboard&nbsp</span><span class=\"barcode\"; style=\"color: black; background-color: 0.0\">&nbspvirgin&nbsp</span><span class=\"barcode\"; style=\"color: black; background-color: #7ecbe8\">&nbspatlantic&nbsp</span><span class=\"barcode\"; style=\"color: black; background-color: #51b9e1\">&nbsp#&nbsp</span><span class=\"barcode\"; style=\"color: black; background-color: #4eb9e0\">&nbsp39&nbsp</span><span class=\"barcode\"; style=\"color: black; background-color: #53bbe1\">&nbsp;&nbsp</span><span class=\"barcode\"; style=\"color: black; background-color: #70c6e6\">&nbsps&nbsp</span><span class=\"barcode\"; style=\"color: black; background-color: #70c6e6\">&nbspinaugural&nbsp</span><span class=\"barcode\"; style=\"color: black; background-color: #89d0ea\">&nbspaustralian&nbsp</span><span class=\"barcode\"; style=\"color: black; background-color: #acdef1\">&nbspflight&nbsp</span><span class=\"barcode\"; style=\"color: black; background-color: #50b9e0\">&nbsp.&nbsp</span>"
      ],
      "text/plain": [
       "<IPython.core.display.HTML object>"
      ]
     },
     "metadata": {},
     "output_type": "display_data"
    },
    {
     "name": "stdout",
     "output_type": "stream",
     "text": [
      "Viz rel-irrel: \n"
     ]
    },
    {
     "data": {
      "text/html": [
       "<span class=\"barcode\"; style=\"color: black; background-color: #eef8fc\">&nbspvirgin&nbsp</span><span class=\"barcode\"; style=\"color: black; background-color: #f2cac1\">&nbspwishing&nbsp</span><span class=\"barcode\"; style=\"color: black; background-color: #e69785\">&nbspfor&nbsp</span><span class=\"barcode\"; style=\"color: black; background-color: #f3cec5\">&nbspmelbourne&nbsp</span><span class=\"barcode\"; style=\"color: black; background-color: #e4907d\">&nbspsir&nbsp</span><span class=\"barcode\"; style=\"color: black; background-color: #df7a63\">&nbsprichard&nbsp</span><span class=\"barcode\"; style=\"color: black; background-color: #e0816b\">&nbspsaid&nbsp</span><span class=\"barcode\"; style=\"color: black; background-color: #ecafa1\">&nbspyesterday&nbsp</span><span class=\"barcode\"; style=\"color: black; background-color: #e79d8c\">&nbspmelbourne&nbsp</span><span class=\"barcode\"; style=\"color: black; background-color: #e07e68\">&nbspwas&nbsp</span><span class=\"barcode\"; style=\"color: black; background-color: #e07d67\">&nbspon&nbsp</span><span class=\"barcode\"; style=\"color: black; background-color: #e28772\">&nbsphis&nbsp</span><span class=\"barcode\"; style=\"color: black; background-color: #ecb1a4\">&nbspwish&nbsp</span><span class=\"barcode\"; style=\"color: black; background-color: #e4917e\">&nbsplist&nbsp</span><span class=\"barcode\"; style=\"color: black; background-color: #de765e\">&nbsp,&nbsp</span><span class=\"barcode\"; style=\"color: black; background-color: #de7861\">&nbspwith&nbsp</span><span class=\"barcode\"; style=\"color: black; background-color: #e1f3fa\">&nbspflights&nbsp</span><span class=\"barcode\"; style=\"color: black; background-color: #de7861\">&nbspto&nbsp</span><span class=\"barcode\"; style=\"color: black; background-color: #df7a63\">&nbsplondon&nbsp</span><span class=\"barcode\"; style=\"color: black; background-color: #de755e\">&nbsppossibly&nbsp</span><span class=\"barcode\"; style=\"color: black; background-color: #de765e\">&nbspthrough&nbsp</span><span class=\"barcode\"; style=\"color: black; background-color: #dd735b\">&nbsphong&nbsp</span><span class=\"barcode\"; style=\"color: black; background-color: #de765e\">&nbspkong&nbsp</span><span class=\"barcode\"; style=\"color: black; background-color: #de755e\">&nbspor&nbsp</span><span class=\"barcode\"; style=\"color: black; background-color: #dd745c\">&nbspbangkok&nbsp</span><span class=\"barcode\"; style=\"color: black; background-color: #e4907c\">&nbsp.&nbsp</span><span class=\"barcode\"; style=\"color: black; background-color: #e0806a\">&nbspthe&nbsp</span><span class=\"barcode\"; style=\"color: black; background-color: #e18570\">&nbspbritish&nbsp</span><span class=\"barcode\"; style=\"color: black; background-color: #fffefe\">&nbspbillionaire&nbsp</span><span class=\"barcode\"; style=\"color: black; background-color: #eaa99a\">&nbsplanded&nbsp</span><span class=\"barcode\"; style=\"color: black; background-color: #e07d67\">&nbspin&nbsp</span><span class=\"barcode\"; style=\"color: black; background-color: #e69988\">&nbspsydney&nbsp</span><span class=\"barcode\"; style=\"color: black; background-color: #f5d7d1\">&nbspyesterday&nbsp</span><span class=\"barcode\"; style=\"color: black; background-color: #f0c3b9\">&nbspaboard&nbsp</span><span class=\"barcode\"; style=\"color: black; background-color: #48b6df\">&nbspvirgin&nbsp</span><span class=\"barcode\"; style=\"color: black; background-color: #f1c5bb\">&nbspatlantic&nbsp</span><span class=\"barcode\"; style=\"color: black; background-color: #e0816b\">&nbsp#&nbsp</span><span class=\"barcode\"; style=\"color: black; background-color: #df7d67\">&nbsp39&nbsp</span><span class=\"barcode\"; style=\"color: black; background-color: #e18570\">&nbsp;&nbsp</span><span class=\"barcode\"; style=\"color: black; background-color: #ecb0a3\">&nbsps&nbsp</span><span class=\"barcode\"; style=\"color: black; background-color: #ecb1a4\">&nbspinaugural&nbsp</span><span class=\"barcode\"; style=\"color: black; background-color: #f5d6cf\">&nbspaustralian&nbsp</span><span class=\"barcode\"; style=\"color: black; background-color: #eef8fc\">&nbspflight&nbsp</span><span class=\"barcode\"; style=\"color: black; background-color: #e07f69\">&nbsp.&nbsp</span>"
      ],
      "text/plain": [
       "<IPython.core.display.HTML object>"
      ]
     },
     "metadata": {},
     "output_type": "display_data"
    },
    {
     "name": "stdout",
     "output_type": "stream",
     "text": [
      "====================\n",
      "Running method LIG...\n",
      "========== sample 0 ==========\n",
      "Viz LIG: \n"
     ]
    },
    {
     "data": {
      "text/html": [
       "<span class=\"barcode\"; style=\"color: black; background-color: #e6f5fb\">&nbspfrance&nbsp</span><span class=\"barcode\"; style=\"color: black; background-color: #ddf1f9\">&nbspopposes&nbsp</span><span class=\"barcode\"; style=\"color: black; background-color: #fcf3f1\">&nbspimmigrant&nbsp</span><span class=\"barcode\"; style=\"color: black; background-color: #fbfdfe\">&nbsptransit&nbsp</span><span class=\"barcode\"; style=\"color: black; background-color: #56bbe1\">&nbspcamps&nbsp</span><span class=\"barcode\"; style=\"color: black; background-color: #fbfefe\">&nbspin&nbsp</span><span class=\"barcode\"; style=\"color: black; background-color: #bce4f3\">&nbspafrica&nbsp</span><span class=\"barcode\"; style=\"color: black; background-color: #b5e2f2\">&nbspfrance&nbsp</span><span class=\"barcode\"; style=\"color: black; background-color: #fefeff\">&nbsp,&nbsp</span><span class=\"barcode\"; style=\"color: black; background-color: #fdf6f5\">&nbspsweden&nbsp</span><span class=\"barcode\"; style=\"color: black; background-color: #f8e4df\">&nbspand&nbsp</span><span class=\"barcode\"; style=\"color: black; background-color: #fefdfc\">&nbspbelgium&nbsp</span><span class=\"barcode\"; style=\"color: black; background-color: #f8e4df\">&nbspshot&nbsp</span><span class=\"barcode\"; style=\"color: black; background-color: #ebab9d\">&nbspdown&nbsp</span><span class=\"barcode\"; style=\"color: black; background-color: #fae9e5\">&nbspa&nbsp</span><span class=\"barcode\"; style=\"color: black; background-color: #a2daef\">&nbspgerman&nbsp</span><span class=\"barcode\"; style=\"color: black; background-color: #e0f3fa\">&nbspproposal&nbsp</span><span class=\"barcode\"; style=\"color: black; background-color: #fefaf9\">&nbspto&nbsp</span><span class=\"barcode\"; style=\"color: black; background-color: #fcfefe\">&nbspset&nbsp</span><span class=\"barcode\"; style=\"color: black; background-color: #ecf7fc\">&nbspup&nbsp</span><span class=\"barcode\"; style=\"color: black; background-color: #e8f6fb\">&nbspeuropean&nbsp</span><span class=\"barcode\"; style=\"color: black; background-color: #faece9\">&nbspunion&nbsp</span><span class=\"barcode\"; style=\"color: black; background-color: #48b6df\">&nbsprefugee&nbsp</span><span class=\"barcode\"; style=\"color: black; background-color: #f6d9d3\">&nbspprocessing&nbsp</span><span class=\"barcode\"; style=\"color: black; background-color: #f6fbfd\">&nbspcentres&nbsp</span><span class=\"barcode\"; style=\"color: black; background-color: #fcfefe\">&nbspin&nbsp</span><span class=\"barcode\"; style=\"color: black; background-color: #d5eef8\">&nbspnorth&nbsp</span><span class=\"barcode\"; style=\"color: black; background-color: #b9e3f3\">&nbspafrica&nbsp</span><span class=\"barcode\"; style=\"color: black; background-color: #fbfefe\">&nbsp,&nbsp</span><span class=\"barcode\"; style=\"color: black; background-color: #e2f4fa\">&nbsparguing&nbsp</span><span class=\"barcode\"; style=\"color: black; background-color: #f8fcfe\">&nbspthat&nbsp</span><span class=\"barcode\"; style=\"color: black; background-color: #fdf8f7\">&nbspthe&nbsp</span><span class=\"barcode\"; style=\"color: black; background-color: #f5fbfd\">&nbspidea&nbsp</span><span class=\"barcode\"; style=\"color: black; background-color: #faeae6\">&nbspwould&nbsp</span><span class=\"barcode\"; style=\"color: black; background-color: #feffff\">&nbspdo&nbsp</span><span class=\"barcode\"; style=\"color: black; background-color: #fffefe\">&nbspmore&nbsp</span><span class=\"barcode\"; style=\"color: black; background-color: #f2fafd\">&nbspharm&nbsp</span><span class=\"barcode\"; style=\"color: black; background-color: #fcf3f1\">&nbspthan&nbsp</span><span class=\"barcode\"; style=\"color: black; background-color: #fefcfc\">&nbspgood&nbsp</span><span class=\"barcode\"; style=\"color: black; background-color: #fefcfb\">&nbsp.&nbsp</span>"
      ],
      "text/plain": [
       "<IPython.core.display.HTML object>"
      ]
     },
     "metadata": {},
     "output_type": "display_data"
    },
    {
     "name": "stdout",
     "output_type": "stream",
     "text": [
      "====================\n",
      "========== sample 1 ==========\n",
      "Viz LIG: \n"
     ]
    },
    {
     "data": {
      "text/html": [
       "<span class=\"barcode\"; style=\"color: black; background-color: #aaddf0\">&nbspmicrosoft&nbsp</span><span class=\"barcode\"; style=\"color: black; background-color: #e5f5fa\">&nbsptakes&nbsp</span><span class=\"barcode\"; style=\"color: black; background-color: #ddf1f9\">&nbsplead&nbsp</span><span class=\"barcode\"; style=\"color: black; background-color: #fdf6f4\">&nbspin&nbsp</span><span class=\"barcode\"; style=\"color: black; background-color: #e6f5fb\">&nbsppda&nbsp</span><span class=\"barcode\"; style=\"color: black; background-color: #6bc4e5\">&nbspsoftware&nbsp</span><span class=\"barcode\"; style=\"color: black; background-color: #c3e7f4\">&nbspmicrosoft&nbsp</span><span class=\"barcode\"; style=\"color: black; background-color: #f2fafd\">&nbspcorp&nbsp</span><span class=\"barcode\"; style=\"color: black; background-color: #d4eef7\">&nbsp.&nbsp</span><span class=\"barcode\"; style=\"color: black; background-color: #fefcfb\">&nbsp'&nbsp</span><span class=\"barcode\"; style=\"color: black; background-color: #fcf4f2\">&nbsps&nbsp</span><span class=\"barcode\"; style=\"color: black; background-color: #96d5ed\">&nbspsoftware&nbsp</span><span class=\"barcode\"; style=\"color: black; background-color: #ecf7fc\">&nbspplatform&nbsp</span><span class=\"barcode\"; style=\"color: black; background-color: #ecf7fc\">&nbspfor&nbsp</span><span class=\"barcode\"; style=\"color: black; background-color: #c8e9f5\">&nbsppersonal&nbsp</span><span class=\"barcode\"; style=\"color: black; background-color: #cdebf6\">&nbspdigital&nbsp</span><span class=\"barcode\"; style=\"color: black; background-color: #48b6df\">&nbspassistants&nbsp</span><span class=\"barcode\"; style=\"color: black; background-color: #f8e2dd\">&nbsptook&nbsp</span><span class=\"barcode\"; style=\"color: black; background-color: #faebe8\">&nbspover&nbsp</span><span class=\"barcode\"; style=\"color: black; background-color: #f7fcfe\">&nbspthe&nbsp</span><span class=\"barcode\"; style=\"color: black; background-color: #acdef1\">&nbspmarket&nbsp</span><span class=\"barcode\"; style=\"color: black; background-color: #fbf0ed\">&nbsplead&nbsp</span><span class=\"barcode\"; style=\"color: black; background-color: #ffffff\">&nbspfrom&nbsp</span><span class=\"barcode\"; style=\"color: black; background-color: #9dd8ee\">&nbsppalmsource&nbsp</span><span class=\"barcode\"; style=\"color: black; background-color: #bce4f3\">&nbspinc&nbsp</span><span class=\"barcode\"; style=\"color: black; background-color: #e7f5fb\">&nbsp.&nbsp</span><span class=\"barcode\"; style=\"color: black; background-color: #fcfefe\">&nbspfor&nbsp</span><span class=\"barcode\"; style=\"color: black; background-color: #f9e7e3\">&nbspthe&nbsp</span><span class=\"barcode\"; style=\"color: black; background-color: #eef8fc\">&nbspfirst&nbsp</span><span class=\"barcode\"; style=\"color: black; background-color: #fbfefe\">&nbsptime&nbsp</span><span class=\"barcode\"; style=\"color: black; background-color: #fefcfb\">&nbspin&nbsp</span><span class=\"barcode\"; style=\"color: black; background-color: #daf0f8\">&nbspthe&nbsp</span><span class=\"barcode\"; style=\"color: black; background-color: #e9a696\">&nbspthird&nbsp</span><span class=\"barcode\"; style=\"color: black; background-color: #f6d9d3\">&nbspquarter&nbsp</span><span class=\"barcode\"; style=\"color: black; background-color: #f7fcfe\">&nbsp,&nbsp</span><span class=\"barcode\"; style=\"color: black; background-color: #f7dfd9\">&nbspaccording&nbsp</span><span class=\"barcode\"; style=\"color: black; background-color: #e4f4fa\">&nbspto&nbsp</span><span class=\"barcode\"; style=\"color: black; background-color: #ddf2f9\">&nbspmarket&nbsp</span><span class=\"barcode\"; style=\"color: black; background-color: #eef8fc\">&nbspresearch&nbsp</span><span class=\"barcode\"; style=\"color: black; background-color: #9dd8ee\">&nbspreleased&nbsp</span><span class=\"barcode\"; style=\"color: black; background-color: #f2cac1\">&nbspfriday&nbsp</span><span class=\"barcode\"; style=\"color: black; background-color: #f7fcfe\">&nbsp.&nbsp</span>"
      ],
      "text/plain": [
       "<IPython.core.display.HTML object>"
      ]
     },
     "metadata": {},
     "output_type": "display_data"
    },
    {
     "name": "stdout",
     "output_type": "stream",
     "text": [
      "====================\n",
      "========== sample 2 ==========\n",
      "Viz LIG: \n"
     ]
    },
    {
     "data": {
      "text/html": [
       "<span class=\"barcode\"; style=\"color: black; background-color: #fcf4f2\">&nbspiran&nbsp</span><span class=\"barcode\"; style=\"color: black; background-color: #f8fcfe\">&nbspagrees&nbsp</span><span class=\"barcode\"; style=\"color: black; background-color: #f6fbfd\">&nbspto&nbsp</span><span class=\"barcode\"; style=\"color: black; background-color: #f7fcfe\">&nbspsuspend&nbsp</span><span class=\"barcode\"; style=\"color: black; background-color: #9dd8ee\">&nbspuranium&nbsp</span><span class=\"barcode\"; style=\"color: black; background-color: #b2e0f2\">&nbspenrichment&nbsp</span><span class=\"barcode\"; style=\"color: black; background-color: #f4d4cc\">&nbsp(&nbsp</span><span class=\"barcode\"; style=\"color: black; background-color: #f0c3b9\">&nbspap&nbsp</span><span class=\"barcode\"; style=\"color: black; background-color: #fdfeff\">&nbsp)&nbsp</span><span class=\"barcode\"; style=\"color: black; background-color: #e8a292\">&nbspap&nbsp</span><span class=\"barcode\"; style=\"color: black; background-color: #fcf2f0\">&nbsp-&nbsp</span><span class=\"barcode\"; style=\"color: black; background-color: #48b6df\">&nbspiran&nbsp</span><span class=\"barcode\"; style=\"color: black; background-color: #eef8fc\">&nbsphas&nbsp</span><span class=\"barcode\"; style=\"color: black; background-color: #f3fafd\">&nbspagreed&nbsp</span><span class=\"barcode\"; style=\"color: black; background-color: #f8e4df\">&nbspto&nbsp</span><span class=\"barcode\"; style=\"color: black; background-color: #fffefe\">&nbspfully&nbsp</span><span class=\"barcode\"; style=\"color: black; background-color: #f1fafd\">&nbspsuspend&nbsp</span><span class=\"barcode\"; style=\"color: black; background-color: #fefcfb\">&nbspuranium&nbsp</span><span class=\"barcode\"; style=\"color: black; background-color: #cdebf6\">&nbspenrichment&nbsp</span><span class=\"barcode\"; style=\"color: black; background-color: #fcf5f3\">&nbspand&nbsp</span><span class=\"barcode\"; style=\"color: black; background-color: #fbefec\">&nbsplinked&nbsp</span><span class=\"barcode\"; style=\"color: black; background-color: #e6f5fb\">&nbspactivities&nbsp</span><span class=\"barcode\"; style=\"color: black; background-color: #fbefec\">&nbspthat&nbsp</span><span class=\"barcode\"; style=\"color: black; background-color: #f3fafd\">&nbspwashington&nbsp</span><span class=\"barcode\"; style=\"color: black; background-color: #f6fcfd\">&nbspasserts&nbsp</span><span class=\"barcode\"; style=\"color: black; background-color: #d5eef8\">&nbspare&nbsp</span><span class=\"barcode\"; style=\"color: black; background-color: #f9fdfe\">&nbsppart&nbsp</span><span class=\"barcode\"; style=\"color: black; background-color: #fefcfc\">&nbspof&nbsp</span><span class=\"barcode\"; style=\"color: black; background-color: #f1fafd\">&nbspa&nbsp</span><span class=\"barcode\"; style=\"color: black; background-color: #98d6ed\">&nbspnuclear&nbsp</span><span class=\"barcode\"; style=\"color: black; background-color: #bbe4f3\">&nbspweapons&nbsp</span><span class=\"barcode\"; style=\"color: black; background-color: #fefdfc\">&nbspprogram&nbsp</span><span class=\"barcode\"; style=\"color: black; background-color: #f3ccc4\">&nbsp,&nbsp</span><span class=\"barcode\"; style=\"color: black; background-color: #f9e5e1\">&nbspdiplomats&nbsp</span><span class=\"barcode\"; style=\"color: black; background-color: #feffff\">&nbspsaid&nbsp</span><span class=\"barcode\"; style=\"color: black; background-color: #f9fcfe\">&nbspsunday&nbsp</span><span class=\"barcode\"; style=\"color: black; background-color: #edf8fc\">&nbsp.&nbsp</span>"
      ],
      "text/plain": [
       "<IPython.core.display.HTML object>"
      ]
     },
     "metadata": {},
     "output_type": "display_data"
    },
    {
     "name": "stdout",
     "output_type": "stream",
     "text": [
      "====================\n",
      "========== sample 3 ==========\n",
      "Viz LIG: \n"
     ]
    },
    {
     "data": {
      "text/html": [
       "<span class=\"barcode\"; style=\"color: black; background-color: #f9e7e3\">&nbsphollywood&nbsp</span><span class=\"barcode\"; style=\"color: black; background-color: #f7fcfe\">&nbspto&nbsp</span><span class=\"barcode\"; style=\"color: black; background-color: #6dc5e5\">&nbspsue&nbsp</span><span class=\"barcode\"; style=\"color: black; background-color: #bee5f4\">&nbspserver&nbsp</span><span class=\"barcode\"; style=\"color: black; background-color: #fef9f8\">&nbspoperators&nbsp</span><span class=\"barcode\"; style=\"color: black; background-color: #f8e4df\">&nbspin&nbsp</span><span class=\"barcode\"; style=\"color: black; background-color: #f8e1dc\">&nbspbid&nbsp</span><span class=\"barcode\"; style=\"color: black; background-color: #dff2f9\">&nbspto&nbsp</span><span class=\"barcode\"; style=\"color: black; background-color: #edf8fc\">&nbspstymie&nbsp</span><span class=\"barcode\"; style=\"color: black; background-color: #fefdfc\">&nbsponline&nbsp</span><span class=\"barcode\"; style=\"color: black; background-color: #a7dcf0\">&nbsppiracy&nbsp</span><span class=\"barcode\"; style=\"color: black; background-color: #fefdfc\">&nbsplos&nbsp</span><span class=\"barcode\"; style=\"color: black; background-color: #d0ecf7\">&nbspangeles&nbsp</span><span class=\"barcode\"; style=\"color: black; background-color: #faece9\">&nbsp-&nbsp</span><span class=\"barcode\"; style=\"color: black; background-color: #f0f9fc\">&nbsp-&nbsp</span><span class=\"barcode\"; style=\"color: black; background-color: #fffdfd\">&nbsphollywood&nbsp</span><span class=\"barcode\"; style=\"color: black; background-color: #f9e7e3\">&nbspmovie&nbsp</span><span class=\"barcode\"; style=\"color: black; background-color: #faeae7\">&nbspstudios&nbsp</span><span class=\"barcode\"; style=\"color: black; background-color: #fefdfc\">&nbspon&nbsp</span><span class=\"barcode\"; style=\"color: black; background-color: #fcf1ee\">&nbsptuesday&nbsp</span><span class=\"barcode\"; style=\"color: black; background-color: #61c0e3\">&nbspsued&nbsp</span><span class=\"barcode\"; style=\"color: black; background-color: #efbeb3\">&nbspscores&nbsp</span><span class=\"barcode\"; style=\"color: black; background-color: #f7fcfe\">&nbspof&nbsp</span><span class=\"barcode\"; style=\"color: black; background-color: #fae9e5\">&nbspoperators&nbsp</span><span class=\"barcode\"; style=\"color: black; background-color: #fefcfb\">&nbspof&nbsp</span><span class=\"barcode\"; style=\"color: black; background-color: #fcf4f2\">&nbspus&nbsp</span><span class=\"barcode\"; style=\"color: black; background-color: #fafdfe\">&nbsp-&nbsp</span><span class=\"barcode\"; style=\"color: black; background-color: #f9e6e1\">&nbspand&nbsp</span><span class=\"barcode\"; style=\"color: black; background-color: #fef9f8\">&nbspeuropean&nbsp</span><span class=\"barcode\"; style=\"color: black; background-color: #f6d9d3\">&nbsp-&nbsp</span><span class=\"barcode\"; style=\"color: black; background-color: #edb5a8\">&nbspbased&nbsp</span><span class=\"barcode\"; style=\"color: black; background-color: #bce4f3\">&nbspcomputer&nbsp</span><span class=\"barcode\"; style=\"color: black; background-color: #d5eef8\">&nbspservers&nbsp</span><span class=\"barcode\"; style=\"color: black; background-color: #fdfeff\">&nbspthat&nbsp</span><span class=\"barcode\"; style=\"color: black; background-color: #77c9e7\">&nbsphelp&nbsp</span><span class=\"barcode\"; style=\"color: black; background-color: #bae4f3\">&nbsprelay&nbsp</span><span class=\"barcode\"; style=\"color: black; background-color: #72c7e6\">&nbspdigitized&nbsp</span><span class=\"barcode\"; style=\"color: black; background-color: #f6dad3\">&nbspmovie&nbsp</span><span class=\"barcode\"; style=\"color: black; background-color: #48b6df\">&nbspfiles&nbsp</span><span class=\"barcode\"; style=\"color: black; background-color: #eef8fc\">&nbspacross&nbsp</span><span class=\"barcode\"; style=\"color: black; background-color: #d3eef7\">&nbsponline&nbsp</span><span class=\"barcode\"; style=\"color: black; background-color: #56bbe1\">&nbspfile&nbsp</span><span class=\"barcode\"; style=\"color: black; background-color: #96d5ed\">&nbsp-&nbsp</span><span class=\"barcode\"; style=\"color: black; background-color: #d9f0f8\">&nbspsharing&nbsp</span><span class=\"barcode\"; style=\"color: black; background-color: #ddf1f9\">&nbspnetworks&nbsp</span><span class=\"barcode\"; style=\"color: black; background-color: #f6fcfd\">&nbsp.&nbsp</span>"
      ],
      "text/plain": [
       "<IPython.core.display.HTML object>"
      ]
     },
     "metadata": {},
     "output_type": "display_data"
    },
    {
     "name": "stdout",
     "output_type": "stream",
     "text": [
      "====================\n",
      "========== sample 4 ==========\n",
      "Viz LIG: \n"
     ]
    },
    {
     "data": {
      "text/html": [
       "<span class=\"barcode\"; style=\"color: black; background-color: #f0f9fc\">&nbspmemphis&nbsp</span><span class=\"barcode\"; style=\"color: black; background-color: #fefbfa\">&nbspactivates&nbsp</span><span class=\"barcode\"; style=\"color: black; background-color: #48b6df\">&nbspguard&nbsp</span><span class=\"barcode\"; style=\"color: black; background-color: #f2fafd\">&nbspwilliams&nbsp</span><span class=\"barcode\"; style=\"color: black; background-color: #eef8fc\">&nbspmemphis&nbsp</span><span class=\"barcode\"; style=\"color: black; background-color: #f4fbfd\">&nbsp,&nbsp</span><span class=\"barcode\"; style=\"color: black; background-color: #d6eff8\">&nbsptn&nbsp</span><span class=\"barcode\"; style=\"color: black; background-color: #c0e6f4\">&nbsp(&nbsp</span><span class=\"barcode\"; style=\"color: black; background-color: #a8dcf0\">&nbspsports&nbsp</span><span class=\"barcode\"; style=\"color: black; background-color: #f3fafd\">&nbspnetwork&nbsp</span><span class=\"barcode\"; style=\"color: black; background-color: #eef8fc\">&nbsp)&nbsp</span><span class=\"barcode\"; style=\"color: black; background-color: #b6e2f2\">&nbsp-&nbsp</span><span class=\"barcode\"; style=\"color: black; background-color: #f4fbfd\">&nbspthe&nbsp</span><span class=\"barcode\"; style=\"color: black; background-color: #f1fafd\">&nbspmemphis&nbsp</span><span class=\"barcode\"; style=\"color: black; background-color: #c6e8f5\">&nbspgrizzlies&nbsp</span><span class=\"barcode\"; style=\"color: black; background-color: #f9fdfe\">&nbspon&nbsp</span><span class=\"barcode\"; style=\"color: black; background-color: #f9fcfe\">&nbspwednesday&nbsp</span><span class=\"barcode\"; style=\"color: black; background-color: #fdf7f6\">&nbspactivated&nbsp</span><span class=\"barcode\"; style=\"color: black; background-color: #dcf1f9\">&nbsppoint&nbsp</span><span class=\"barcode\"; style=\"color: black; background-color: #88cfea\">&nbspguard&nbsp</span><span class=\"barcode\"; style=\"color: black; background-color: #fbfdfe\">&nbspjason&nbsp</span><span class=\"barcode\"; style=\"color: black; background-color: #f4fbfd\">&nbspwilliams&nbsp</span><span class=\"barcode\"; style=\"color: black; background-color: #fdfeff\">&nbspfrom&nbsp</span><span class=\"barcode\"; style=\"color: black; background-color: #eff9fc\">&nbspthe&nbsp</span><span class=\"barcode\"; style=\"color: black; background-color: #ceecf6\">&nbspinjured&nbsp</span><span class=\"barcode\"; style=\"color: black; background-color: #fefeff\">&nbsplist&nbsp</span><span class=\"barcode\"; style=\"color: black; background-color: #f0f9fc\">&nbsp,&nbsp</span><span class=\"barcode\"; style=\"color: black; background-color: #ebf7fb\">&nbspwhile&nbsp</span><span class=\"barcode\"; style=\"color: black; background-color: #f2fafd\">&nbspplacing&nbsp</span><span class=\"barcode\"; style=\"color: black; background-color: #81cde9\">&nbspguard&nbsp</span><span class=\"barcode\"; style=\"color: black; background-color: #f1f9fc\">&nbspantonio&nbsp</span><span class=\"barcode\"; style=\"color: black; background-color: #eaf7fb\">&nbspburks&nbsp</span><span class=\"barcode\"; style=\"color: black; background-color: #f2fafd\">&nbspon&nbsp</span><span class=\"barcode\"; style=\"color: black; background-color: #eaf7fb\">&nbspthe&nbsp</span><span class=\"barcode\"; style=\"color: black; background-color: #fefbfa\">&nbspil&nbsp</span><span class=\"barcode\"; style=\"color: black; background-color: #e9f6fb\">&nbsp.&nbsp</span>"
      ],
      "text/plain": [
       "<IPython.core.display.HTML object>"
      ]
     },
     "metadata": {},
     "output_type": "display_data"
    },
    {
     "name": "stdout",
     "output_type": "stream",
     "text": [
      "====================\n",
      "========== sample 5 ==========\n",
      "Viz LIG: \n"
     ]
    },
    {
     "data": {
      "text/html": [
       "<span class=\"barcode\"; style=\"color: black; background-color: #f7fcfe\">&nbspdollar&nbsp</span><span class=\"barcode\"; style=\"color: black; background-color: #fffefe\">&nbspstuck&nbsp</span><span class=\"barcode\"; style=\"color: black; background-color: #eef8fc\">&nbsp,&nbsp</span><span class=\"barcode\"; style=\"color: black; background-color: #e2f4fa\">&nbspcpi&nbsp</span><span class=\"barcode\"; style=\"color: black; background-color: #fefaf9\">&nbspoffers&nbsp</span><span class=\"barcode\"; style=\"color: black; background-color: #fbfdfe\">&nbsplittle&nbsp</span><span class=\"barcode\"; style=\"color: black; background-color: #fdf6f4\">&nbspdirection&nbsp</span><span class=\"barcode\"; style=\"color: black; background-color: #f9fcfe\">&nbsptokyo&nbsp</span><span class=\"barcode\"; style=\"color: black; background-color: #fffdfd\">&nbsp(&nbsp</span><span class=\"barcode\"; style=\"color: black; background-color: #f6fcfd\">&nbspreuters&nbsp</span><span class=\"barcode\"; style=\"color: black; background-color: #eef8fc\">&nbsp)&nbsp</span><span class=\"barcode\"; style=\"color: black; background-color: #e59280\">&nbsp-&nbsp</span><span class=\"barcode\"; style=\"color: black; background-color: #ffffff\">&nbspthe&nbsp</span><span class=\"barcode\"; style=\"color: black; background-color: #e1f3fa\">&nbspdollar&nbsp</span><span class=\"barcode\"; style=\"color: black; background-color: #f9fcfe\">&nbspmoved&nbsp</span><span class=\"barcode\"; style=\"color: black; background-color: #f2fafd\">&nbspin&nbsp</span><span class=\"barcode\"; style=\"color: black; background-color: #d8eff8\">&nbsptight&nbsp</span><span class=\"barcode\"; style=\"color: black; background-color: #cbeaf6\">&nbspranges&nbsp</span><span class=\"barcode\"; style=\"color: black; background-color: #ecf7fc\">&nbspon&nbsp</span><span class=\"barcode\"; style=\"color: black; background-color: #ecf8fc\">&nbspwednesday&nbsp</span><span class=\"barcode\"; style=\"color: black; background-color: #feffff\">&nbspas&nbsp</span><span class=\"barcode\"; style=\"color: black; background-color: #f1fafd\">&nbspmost&nbsp</span><span class=\"barcode\"; style=\"color: black; background-color: #63c1e4\">&nbspinvestors&nbsp</span><span class=\"barcode\"; style=\"color: black; background-color: #fdf6f4\">&nbspshrugged&nbsp</span><span class=\"barcode\"; style=\"color: black; background-color: #bee5f4\">&nbspoff&nbsp</span><span class=\"barcode\"; style=\"color: black; background-color: #eff9fc\">&nbsplower&nbsp</span><span class=\"barcode\"; style=\"color: black; background-color: #ddf1f9\">&nbsp-&nbsp</span><span class=\"barcode\"; style=\"color: black; background-color: #93d4ec\">&nbspthan&nbsp</span><span class=\"barcode\"; style=\"color: black; background-color: #fefeff\">&nbsp-&nbsp</span><span class=\"barcode\"; style=\"color: black; background-color: #fefeff\">&nbspexpected&nbsp</span><span class=\"barcode\"; style=\"color: black; background-color: #f3fafd\">&nbspu&nbsp</span><span class=\"barcode\"; style=\"color: black; background-color: #fefcfb\">&nbsp.&nbsp</span><span class=\"barcode\"; style=\"color: black; background-color: #fafdfe\">&nbsps&nbsp</span><span class=\"barcode\"; style=\"color: black; background-color: #ffffff\">&nbsp.&nbsp</span><span class=\"barcode\"; style=\"color: black; background-color: #48b6df\">&nbspinflation&nbsp</span><span class=\"barcode\"; style=\"color: black; background-color: #def2f9\">&nbspdata&nbsp</span><span class=\"barcode\"; style=\"color: black; background-color: #eff9fc\">&nbspand&nbsp</span><span class=\"barcode\"; style=\"color: black; background-color: #fafdfe\">&nbspstuck&nbsp</span><span class=\"barcode\"; style=\"color: black; background-color: #fcf3f1\">&nbspto&nbsp</span><span class=\"barcode\"; style=\"color: black; background-color: #feffff\">&nbspthe&nbsp</span><span class=\"barcode\"; style=\"color: black; background-color: #f2fafd\">&nbspview&nbsp</span><span class=\"barcode\"; style=\"color: black; background-color: #f4fafd\">&nbspthe&nbsp</span><span class=\"barcode\"; style=\"color: black; background-color: #e7f5fb\">&nbspu&nbsp</span><span class=\"barcode\"; style=\"color: black; background-color: #f4fbfd\">&nbsp.&nbsp</span><span class=\"barcode\"; style=\"color: black; background-color: #ffffff\">&nbsps&nbsp</span><span class=\"barcode\"; style=\"color: black; background-color: #f5fbfd\">&nbsp.&nbsp</span><span class=\"barcode\"; style=\"color: black; background-color: #d8eff8\">&nbspfederal&nbsp</span><span class=\"barcode\"; style=\"color: black; background-color: #cdebf6\">&nbspreserve&nbsp</span><span class=\"barcode\"; style=\"color: black; background-color: #eef8fc\">&nbspwould&nbsp</span><span class=\"barcode\"; style=\"color: black; background-color: #feffff\">&nbspcontinue&nbsp</span><span class=\"barcode\"; style=\"color: black; background-color: #c9eaf6\">&nbspraising&nbsp</span><span class=\"barcode\"; style=\"color: black; background-color: #e2f3fa\">&nbsprates&nbsp</span><span class=\"barcode\"; style=\"color: black; background-color: #fbfdfe\">&nbsp.&nbsp</span>"
      ],
      "text/plain": [
       "<IPython.core.display.HTML object>"
      ]
     },
     "metadata": {},
     "output_type": "display_data"
    },
    {
     "name": "stdout",
     "output_type": "stream",
     "text": [
      "====================\n",
      "========== sample 6 ==========\n",
      "Viz LIG: \n"
     ]
    },
    {
     "data": {
      "text/html": [
       "<span class=\"barcode\"; style=\"color: black; background-color: #72c7e6\">&nbspindia&nbsp</span><span class=\"barcode\"; style=\"color: black; background-color: #f9fcfe\">&nbsp4th&nbsp</span><span class=\"barcode\"; style=\"color: black; background-color: #5dbee3\">&nbsplargest&nbsp</span><span class=\"barcode\"; style=\"color: black; background-color: #e1f3fa\">&nbspeconomy&nbsp</span><span class=\"barcode\"; style=\"color: black; background-color: #f1f9fc\">&nbsp:&nbsp</span><span class=\"barcode\"; style=\"color: black; background-color: #fdfeff\">&nbspworld&nbsp</span><span class=\"barcode\"; style=\"color: black; background-color: #d2edf7\">&nbspbank&nbsp</span><span class=\"barcode\"; style=\"color: black; background-color: #f2fafd\">&nbspahead&nbsp</span><span class=\"barcode\"; style=\"color: black; background-color: #f7fcfe\">&nbspof&nbsp</span><span class=\"barcode\"; style=\"color: black; background-color: #f6fcfd\">&nbspthe&nbsp</span><span class=\"barcode\"; style=\"color: black; background-color: #fcfefe\">&nbspinternational&nbsp</span><span class=\"barcode\"; style=\"color: black; background-color: #e3f4fa\">&nbspmonetary&nbsp</span><span class=\"barcode\"; style=\"color: black; background-color: #f4fafd\">&nbspfund&nbsp</span><span class=\"barcode\"; style=\"color: black; background-color: #fdf7f6\">&nbsp-&nbsp</span><span class=\"barcode\"; style=\"color: black; background-color: #fefeff\">&nbspworld&nbsp</span><span class=\"barcode\"; style=\"color: black; background-color: #cdebf6\">&nbspbank&nbsp</span><span class=\"barcode\"; style=\"color: black; background-color: #fffdfd\">&nbspmeeting&nbsp</span><span class=\"barcode\"; style=\"color: black; background-color: #f8fcfe\">&nbsp,&nbsp</span><span class=\"barcode\"; style=\"color: black; background-color: #f4fafd\">&nbspthe&nbsp</span><span class=\"barcode\"; style=\"color: black; background-color: #fefaf9\">&nbspworld&nbsp</span><span class=\"barcode\"; style=\"color: black; background-color: #a9ddf0\">&nbspbank&nbsp</span><span class=\"barcode\"; style=\"color: black; background-color: #fbfdfe\">&nbspon&nbsp</span><span class=\"barcode\"; style=\"color: black; background-color: #f5fbfd\">&nbsptuesday&nbsp</span><span class=\"barcode\"; style=\"color: black; background-color: #f9fdfe\">&nbspplaced&nbsp</span><span class=\"barcode\"; style=\"color: black; background-color: #fbfdfe\">&nbspindia&nbsp</span><span class=\"barcode\"; style=\"color: black; background-color: #fefcfb\">&nbspas&nbsp</span><span class=\"barcode\"; style=\"color: black; background-color: #f5fbfd\">&nbspthe&nbsp</span><span class=\"barcode\"; style=\"color: black; background-color: #e4f4fa\">&nbspfourth&nbsp</span><span class=\"barcode\"; style=\"color: black; background-color: #48b6df\">&nbsplargest&nbsp</span><span class=\"barcode\"; style=\"color: black; background-color: #e6f5fb\">&nbspeconomy&nbsp</span><span class=\"barcode\"; style=\"color: black; background-color: #edf8fc\">&nbspin&nbsp</span><span class=\"barcode\"; style=\"color: black; background-color: #eef8fc\">&nbspterms&nbsp</span><span class=\"barcode\"; style=\"color: black; background-color: #fbfefe\">&nbspof&nbsp</span><span class=\"barcode\"; style=\"color: black; background-color: #f7fcfe\">&nbsppurchasing&nbsp</span><span class=\"barcode\"; style=\"color: black; background-color: #f0f9fc\">&nbsppower&nbsp</span><span class=\"barcode\"; style=\"color: black; background-color: #fffdfd\">&nbspparity&nbsp</span><span class=\"barcode\"; style=\"color: black; background-color: #ffffff\">&nbsp,&nbsp</span><span class=\"barcode\"; style=\"color: black; background-color: #fefcfb\">&nbspeven&nbsp</span><span class=\"barcode\"; style=\"color: black; background-color: #fdf8f7\">&nbspas&nbsp</span><span class=\"barcode\"; style=\"color: black; background-color: #ffffff\">&nbspit&nbsp</span><span class=\"barcode\"; style=\"color: black; background-color: #f6fbfd\">&nbspsaid&nbsp</span><span class=\"barcode\"; style=\"color: black; background-color: #eef8fc\">&nbspthe&nbsp</span><span class=\"barcode\"; style=\"color: black; background-color: #f4fafd\">&nbspcountry&nbsp</span><span class=\"barcode\"; style=\"color: black; background-color: #f4fafd\">&nbsplagged&nbsp</span><span class=\"barcode\"; style=\"color: black; background-color: #f9fcfe\">&nbspbehind&nbsp</span><span class=\"barcode\"; style=\"color: black; background-color: #feffff\">&nbspin&nbsp</span><span class=\"barcode\"; style=\"color: black; background-color: #fefbfa\">&nbsptechnology&nbsp</span><span class=\"barcode\"; style=\"color: black; background-color: #f7fcfe\">&nbspand&nbsp</span><span class=\"barcode\"; style=\"color: black; background-color: #fcfefe\">&nbspefficiency&nbsp</span><span class=\"barcode\"; style=\"color: black; background-color: #f7fcfe\">&nbsp.&nbsp</span>"
      ],
      "text/plain": [
       "<IPython.core.display.HTML object>"
      ]
     },
     "metadata": {},
     "output_type": "display_data"
    },
    {
     "name": "stdout",
     "output_type": "stream",
     "text": [
      "====================\n",
      "========== sample 7 ==========\n",
      "Viz LIG: \n"
     ]
    },
    {
     "data": {
      "text/html": [
       "<span class=\"barcode\"; style=\"color: black; background-color: #99d6ed\">&nbspmanchester&nbsp</span><span class=\"barcode\"; style=\"color: black; background-color: #eaf7fb\">&nbspunited&nbsp</span><span class=\"barcode\"; style=\"color: black; background-color: #e9f6fb\">&nbspthe&nbsp</span><span class=\"barcode\"; style=\"color: black; background-color: #48b6df\">&nbsponly&nbsp</span><span class=\"barcode\"; style=\"color: black; background-color: #e8f6fb\">&nbspteam&nbsp</span><span class=\"barcode\"; style=\"color: black; background-color: #e2f4fa\">&nbspfor&nbsp</span><span class=\"barcode\"; style=\"color: black; background-color: #9dd8ee\">&nbspme&nbsp</span><span class=\"barcode\"; style=\"color: black; background-color: #f0f9fc\">&nbsp,&nbsp</span><span class=\"barcode\"; style=\"color: black; background-color: #fbefec\">&nbspsays&nbsp</span><span class=\"barcode\"; style=\"color: black; background-color: #cbeaf6\">&nbsprooney&nbsp</span><span class=\"barcode\"; style=\"color: black; background-color: #fefcfb\">&nbspteenage&nbsp</span><span class=\"barcode\"; style=\"color: black; background-color: #a0d9ee\">&nbspstriker&nbsp</span><span class=\"barcode\"; style=\"color: black; background-color: #f1f9fc\">&nbspwayne&nbsp</span><span class=\"barcode\"; style=\"color: black; background-color: #bbe4f3\">&nbsprooney&nbsp</span><span class=\"barcode\"; style=\"color: black; background-color: #fcf2f0\">&nbspsays&nbsp</span><span class=\"barcode\"; style=\"color: black; background-color: #c8e9f5\">&nbspmanchester&nbsp</span><span class=\"barcode\"; style=\"color: black; background-color: #84ceea\">&nbspunited&nbsp</span><span class=\"barcode\"; style=\"color: black; background-color: #d4eef7\">&nbspwere&nbsp</span><span class=\"barcode\"; style=\"color: black; background-color: #eaf7fb\">&nbspthe&nbsp</span><span class=\"barcode\"; style=\"color: black; background-color: #c4e8f5\">&nbsponly&nbsp</span><span class=\"barcode\"; style=\"color: black; background-color: #b0e0f1\">&nbspteam&nbsp</span><span class=\"barcode\"; style=\"color: black; background-color: #d2edf7\">&nbsphe&nbsp</span><span class=\"barcode\"; style=\"color: black; background-color: #f2fafd\">&nbspwanted&nbsp</span><span class=\"barcode\"; style=\"color: black; background-color: #fbedea\">&nbspto&nbsp</span><span class=\"barcode\"; style=\"color: black; background-color: #f6dcd6\">&nbspjoin&nbsp</span><span class=\"barcode\"; style=\"color: black; background-color: #cbeaf6\">&nbsponce&nbsp</span><span class=\"barcode\"; style=\"color: black; background-color: #cfecf7\">&nbspthey&nbsp</span><span class=\"barcode\"; style=\"color: black; background-color: #c6e8f5\">&nbsphe&nbsp</span><span class=\"barcode\"; style=\"color: black; background-color: #fefcfb\">&nbspknew&nbsp</span><span class=\"barcode\"; style=\"color: black; background-color: #e1f3fa\">&nbspthe&nbsp</span><span class=\"barcode\"; style=\"color: black; background-color: #d4eef7\">&nbspclub&nbsp</span><span class=\"barcode\"; style=\"color: black; background-color: #e2f3fa\">&nbspwere&nbsp</span><span class=\"barcode\"; style=\"color: black; background-color: #faeae7\">&nbspinterested&nbsp</span><span class=\"barcode\"; style=\"color: black; background-color: #fdf7f5\">&nbspin&nbsp</span><span class=\"barcode\"; style=\"color: black; background-color: #dbf1f9\">&nbsphim&nbsp</span><span class=\"barcode\"; style=\"color: black; background-color: #eef8fc\">&nbsp.&nbsp</span>"
      ],
      "text/plain": [
       "<IPython.core.display.HTML object>"
      ]
     },
     "metadata": {},
     "output_type": "display_data"
    },
    {
     "name": "stdout",
     "output_type": "stream",
     "text": [
      "====================\n",
      "========== sample 8 ==========\n",
      "Viz LIG: \n"
     ]
    },
    {
     "data": {
      "text/html": [
       "<span class=\"barcode\"; style=\"color: black; background-color: #f2fafd\">&nbspdeportivo&nbsp</span><span class=\"barcode\"; style=\"color: black; background-color: #f6fcfd\">&nbspla&nbsp</span><span class=\"barcode\"; style=\"color: black; background-color: #e9f6fb\">&nbspcorua&nbsp</span><span class=\"barcode\"; style=\"color: black; background-color: #5bbee2\">&nbsp0&nbsp</span><span class=\"barcode\"; style=\"color: black; background-color: #f6fbfd\">&nbsp-&nbsp</span><span class=\"barcode\"; style=\"color: black; background-color: #f6fbfd\">&nbsp1&nbsp</span><span class=\"barcode\"; style=\"color: black; background-color: #d3eef7\">&nbspliverpool&nbsp</span><span class=\"barcode\"; style=\"color: black; background-color: #f0f9fc\">&nbsp:&nbsp</span><span class=\"barcode\"; style=\"color: black; background-color: #fcfefe\">&nbspft&nbsp</span><span class=\"barcode\"; style=\"color: black; background-color: #fdf6f4\">&nbspreport&nbsp</span><span class=\"barcode\"; style=\"color: black; background-color: #f9fdfe\">&nbspla&nbsp</span><span class=\"barcode\"; style=\"color: black; background-color: #eff9fc\">&nbspcoruna&nbsp</span><span class=\"barcode\"; style=\"color: black; background-color: #fbfefe\">&nbsp,&nbsp</span><span class=\"barcode\"; style=\"color: black; background-color: #fbfdfe\">&nbspnovember&nbsp</span><span class=\"barcode\"; style=\"color: black; background-color: #fdfeff\">&nbsp3&nbsp</span><span class=\"barcode\"; style=\"color: black; background-color: #f7fcfe\">&nbsp(&nbsp</span><span class=\"barcode\"; style=\"color: black; background-color: #eff9fc\">&nbspchampions&nbsp</span><span class=\"barcode\"; style=\"color: black; background-color: #e4f4fa\">&nbspleague&nbsp</span><span class=\"barcode\"; style=\"color: black; background-color: #fafdfe\">&nbsp)&nbsp</span><span class=\"barcode\"; style=\"color: black; background-color: #e9f6fb\">&nbsp-&nbsp</span><span class=\"barcode\"; style=\"color: black; background-color: #f1f9fc\">&nbsprafael&nbsp</span><span class=\"barcode\"; style=\"color: black; background-color: #e1f3fa\">&nbspbenitez&nbsp</span><span class=\"barcode\"; style=\"color: black; background-color: #f1f9fc\">&nbspheard&nbsp</span><span class=\"barcode\"; style=\"color: black; background-color: #ebf7fb\">&nbsphis&nbsp</span><span class=\"barcode\"; style=\"color: black; background-color: #f4fbfd\">&nbspname&nbsp</span><span class=\"barcode\"; style=\"color: black; background-color: #f6fcfd\">&nbspring&nbsp</span><span class=\"barcode\"; style=\"color: black; background-color: #d8f0f8\">&nbsparound&nbsp</span><span class=\"barcode\"; style=\"color: black; background-color: #fbfefe\">&nbspa&nbsp</span><span class=\"barcode\"; style=\"color: black; background-color: #f4fbfd\">&nbspspanish&nbsp</span><span class=\"barcode\"; style=\"color: black; background-color: #48b6df\">&nbspstadium&nbsp</span><span class=\"barcode\"; style=\"color: black; background-color: #f8fcfe\">&nbspin&nbsp</span><span class=\"barcode\"; style=\"color: black; background-color: #f5fbfd\">&nbsphis&nbsp</span><span class=\"barcode\"; style=\"color: black; background-color: #f5fbfd\">&nbsphomeland&nbsp</span><span class=\"barcode\"; style=\"color: black; background-color: #f3fafd\">&nbspagain&nbsp</span><span class=\"barcode\"; style=\"color: black; background-color: #f9fcfe\">&nbspbut&nbsp</span><span class=\"barcode\"; style=\"color: black; background-color: #f4fbfd\">&nbspthis&nbsp</span><span class=\"barcode\"; style=\"color: black; background-color: #fafdfe\">&nbsptime&nbsp</span><span class=\"barcode\"; style=\"color: black; background-color: #ffffff\">&nbspit&nbsp</span><span class=\"barcode\"; style=\"color: black; background-color: #eff9fc\">&nbspwas&nbsp</span><span class=\"barcode\"; style=\"color: black; background-color: #ffffff\">&nbspfrom&nbsp</span><span class=\"barcode\"; style=\"color: black; background-color: #f5fbfd\">&nbspscouse&nbsp</span><span class=\"barcode\"; style=\"color: black; background-color: #fdf6f4\">&nbspvoices&nbsp</span><span class=\"barcode\"; style=\"color: black; background-color: #f1f9fc\">&nbsprather&nbsp</span><span class=\"barcode\"; style=\"color: black; background-color: #f7fcfe\">&nbspthan&nbsp</span><span class=\"barcode\"; style=\"color: black; background-color: #fefeff\">&nbspthose&nbsp</span><span class=\"barcode\"; style=\"color: black; background-color: #fcfefe\">&nbspin&nbsp</span><span class=\"barcode\"; style=\"color: black; background-color: #f0f9fc\">&nbspvalencia&nbsp</span><span class=\"barcode\"; style=\"color: black; background-color: #f9fdfe\">&nbsp,&nbsp</span><span class=\"barcode\"; style=\"color: black; background-color: #feffff\">&nbspwith&nbsp</span><span class=\"barcode\"; style=\"color: black; background-color: #fae8e5\">&nbspwhom&nbsp</span><span class=\"barcode\"; style=\"color: black; background-color: #f4fbfd\">&nbsphe&nbsp</span><span class=\"barcode\"; style=\"color: black; background-color: #eff9fc\">&nbspwon&nbsp</span><span class=\"barcode\"; style=\"color: black; background-color: #f3fafd\">&nbspla&nbsp</span><span class=\"barcode\"; style=\"color: black; background-color: #86cfea\">&nbspliga&nbsp</span><span class=\"barcode\"; style=\"color: black; background-color: #f7fcfe\">&nbsp.&nbsp</span>"
      ],
      "text/plain": [
       "<IPython.core.display.HTML object>"
      ]
     },
     "metadata": {},
     "output_type": "display_data"
    },
    {
     "name": "stdout",
     "output_type": "stream",
     "text": [
      "====================\n",
      "========== sample 9 ==========\n",
      "Viz LIG: \n"
     ]
    },
    {
     "data": {
      "text/html": [
       "<span class=\"barcode\"; style=\"color: black; background-color: #ebf7fb\">&nbspvirgin&nbsp</span><span class=\"barcode\"; style=\"color: black; background-color: #fffefe\">&nbspwishing&nbsp</span><span class=\"barcode\"; style=\"color: black; background-color: #fffefe\">&nbspfor&nbsp</span><span class=\"barcode\"; style=\"color: black; background-color: #fdf8f7\">&nbspmelbourne&nbsp</span><span class=\"barcode\"; style=\"color: black; background-color: #fefaf9\">&nbspsir&nbsp</span><span class=\"barcode\"; style=\"color: black; background-color: #fdfeff\">&nbsprichard&nbsp</span><span class=\"barcode\"; style=\"color: black; background-color: #fdf8f7\">&nbspsaid&nbsp</span><span class=\"barcode\"; style=\"color: black; background-color: #fefeff\">&nbspyesterday&nbsp</span><span class=\"barcode\"; style=\"color: black; background-color: #fcf3f1\">&nbspmelbourne&nbsp</span><span class=\"barcode\"; style=\"color: black; background-color: #feffff\">&nbspwas&nbsp</span><span class=\"barcode\"; style=\"color: black; background-color: #fefeff\">&nbspon&nbsp</span><span class=\"barcode\"; style=\"color: black; background-color: #fdf8f7\">&nbsphis&nbsp</span><span class=\"barcode\"; style=\"color: black; background-color: #fefaf9\">&nbspwish&nbsp</span><span class=\"barcode\"; style=\"color: black; background-color: #fcf5f3\">&nbsplist&nbsp</span><span class=\"barcode\"; style=\"color: black; background-color: #ffffff\">&nbsp,&nbsp</span><span class=\"barcode\"; style=\"color: black; background-color: #fefaf9\">&nbspwith&nbsp</span><span class=\"barcode\"; style=\"color: black; background-color: #a5dbef\">&nbspflights&nbsp</span><span class=\"barcode\"; style=\"color: black; background-color: #ffffff\">&nbspto&nbsp</span><span class=\"barcode\"; style=\"color: black; background-color: #f0bfb4\">&nbsplondon&nbsp</span><span class=\"barcode\"; style=\"color: black; background-color: #fcf1ee\">&nbsppossibly&nbsp</span><span class=\"barcode\"; style=\"color: black; background-color: #fbfefe\">&nbspthrough&nbsp</span><span class=\"barcode\"; style=\"color: black; background-color: #fafdfe\">&nbsphong&nbsp</span><span class=\"barcode\"; style=\"color: black; background-color: #f4fafd\">&nbspkong&nbsp</span><span class=\"barcode\"; style=\"color: black; background-color: #daf0f8\">&nbspor&nbsp</span><span class=\"barcode\"; style=\"color: black; background-color: #fdf5f3\">&nbspbangkok&nbsp</span><span class=\"barcode\"; style=\"color: black; background-color: #fcfefe\">&nbsp.&nbsp</span><span class=\"barcode\"; style=\"color: black; background-color: #fffdfd\">&nbspthe&nbsp</span><span class=\"barcode\"; style=\"color: black; background-color: #fffefe\">&nbspbritish&nbsp</span><span class=\"barcode\"; style=\"color: black; background-color: #48b6df\">&nbspbillionaire&nbsp</span><span class=\"barcode\"; style=\"color: black; background-color: #fefaf9\">&nbsplanded&nbsp</span><span class=\"barcode\"; style=\"color: black; background-color: #f6fbfd\">&nbspin&nbsp</span><span class=\"barcode\"; style=\"color: black; background-color: #fefaf9\">&nbspsydney&nbsp</span><span class=\"barcode\"; style=\"color: black; background-color: #e2f4fa\">&nbspyesterday&nbsp</span><span class=\"barcode\"; style=\"color: black; background-color: #fefaf9\">&nbspaboard&nbsp</span><span class=\"barcode\"; style=\"color: black; background-color: #bee5f4\">&nbspvirgin&nbsp</span><span class=\"barcode\"; style=\"color: black; background-color: #cbeaf6\">&nbspatlantic&nbsp</span><span class=\"barcode\"; style=\"color: black; background-color: #fdf6f5\">&nbsp#&nbsp</span><span class=\"barcode\"; style=\"color: black; background-color: #fffefe\">&nbsp39&nbsp</span><span class=\"barcode\"; style=\"color: black; background-color: #e9f6fb\">&nbsp;&nbsp</span><span class=\"barcode\"; style=\"color: black; background-color: #fffefe\">&nbsps&nbsp</span><span class=\"barcode\"; style=\"color: black; background-color: #e6f5fb\">&nbspinaugural&nbsp</span><span class=\"barcode\"; style=\"color: black; background-color: #faece8\">&nbspaustralian&nbsp</span><span class=\"barcode\"; style=\"color: black; background-color: #ecf7fc\">&nbspflight&nbsp</span><span class=\"barcode\"; style=\"color: black; background-color: #fdfeff\">&nbsp.&nbsp</span>"
      ],
      "text/plain": [
       "<IPython.core.display.HTML object>"
      ]
     },
     "metadata": {},
     "output_type": "display_data"
    },
    {
     "name": "stdout",
     "output_type": "stream",
     "text": [
      "====================\n"
     ]
    }
   ],
   "source": [
    "import time\n",
    "import tracemalloc\n",
    "\n",
    "methods = [\"lime\", \"shap\", \"CDT\", \"LIG\"]\n",
    "\n",
    "print(f'Running dataset {data_name}...')\n",
    "sample_data = sample_data_dict[data_name][:10]\n",
    "sample_labels = sample_labels_dict[data_name]\n",
    "\n",
    "# check for these data: pred == gt_label\n",
    "for gt_label, text in zip(sample_labels, sample_data):\n",
    "    outputs = model(**tokenizer(text, \n",
    "                                 max_length=max_seq_len,\n",
    "                                 truncation=True, \n",
    "                                 padding = \"max_length\", \n",
    "                                 return_attention_mask=True, \n",
    "                                 return_tensors=\"pt\").to(device))\n",
    "    tensor_logits = outputs[0]\n",
    "    pred = torch.argmax(tensor_logits).detach().cpu().numpy()\n",
    "    try:\n",
    "        assert(gt_label, pred)\n",
    "    except:\n",
    "        print(gt_label, pred)\n",
    "        \n",
    "resource_use = {}\n",
    "for method in methods[2:]:\n",
    "    print(f'Running method {method}...')\n",
    "    resource_use[method] = {'time': [], 'memory': []}\n",
    "    for i in range(len(sample_data)):\n",
    "        print(\"=\"*10 + f' sample {i} ' + \"=\"*10)\n",
    "        if data_name != \"ioi\":\n",
    "            tokenized_prompt = None\n",
    "            io_seq_idx = None\n",
    "            s_seq_idx = None\n",
    "            text = sample_data[i].strip().lower()\n",
    "            label = sample_labels[i]\n",
    "            label_idx = le_dict[label]\n",
    "            tokenizer.pad_token = tokenizer.eos_token\n",
    "        else:\n",
    "            sample_id = sample_data[i]\n",
    "            tokenized_prompt = data.tokenized_prompts[sample_id]\n",
    "            io_seq_idx = data.io_tokenIDs[sample_id] # sample_id 0-50 for ioi\n",
    "            s_seq_idx = data.s_tokenIDs[sample_id] \n",
    "            text = data.sentences[sample_id]\n",
    "            label_idx = None\n",
    "\n",
    "        # clear cache\n",
    "        gc.collect()\n",
    "        torch.cuda.empty_cache()\n",
    "        \n",
    "        # start monitoring memory and time\n",
    "        tracemalloc.start()\n",
    "        start_t = time.time()\n",
    "        scores = run_local_importance(text, tokenized_prompt, io_seq_idx, s_seq_idx, label_idx, max_seq_len, model, tokenizer,\n",
    "                              device, method, model_type, class_names)\n",
    "        end_t = time.time()\n",
    "        curr_mem, max_mem = tracemalloc.get_traced_memory()\n",
    "        print(\"=\"*20)\n",
    "        \n",
    "        resource_use[method]['time'].append(end_t - start_t)\n",
    "        resource_use[method]['memory'].append(max_mem/(1024*1024))\n",
    "        tracemalloc.reset_peak()\n",
    "        del curr_mem, max_mem"
   ]
  },
  {
   "cell_type": "code",
   "execution_count": 296,
   "id": "efb1cbc8-c0ce-4c5e-9004-6721373f333f",
   "metadata": {
    "tags": []
   },
   "outputs": [
    {
     "name": "stdout",
     "output_type": "stream",
     "text": [
      "Resource use of Method CDT:\n",
      "Average run time [seconds]: 34.3259: +/- 2.5925\n",
      "Average peak memory [MB]: 19.015: +/- 0.0094\n",
      "====================\n",
      "Resource use of Method lime:\n",
      "Average run time [seconds]: 595.6682: +/- 24.217\n",
      "Average peak memory [MB]: 78.0184: +/- 3.6926\n",
      "====================\n",
      "Resource use of Method shap:\n",
      "Average run time [seconds]: 47.6783: +/- 2.1318\n",
      "Average peak memory [MB]: 19.1459: +/- 0.0749\n",
      "====================\n",
      "Resource use of Method LIG:\n",
      "Average run time [seconds]: 1.5315: +/- 0.0942\n",
      "Average peak memory [MB]: 19.2839: +/- 0.0024\n",
      "====================\n"
     ]
    }
   ],
   "source": [
    "for method in methods:\n",
    "    print(f'Resource use of Method {method}:')\n",
    "    time_lst = resource_use[method]['time']\n",
    "    mem_lst = resource_use[method]['memory']\n",
    "    print('Average run time [seconds]: {}: +/- {}'.format(\n",
    "      round(np.mean(time_lst), 4), round(np.std(time_lst), 4),))\n",
    "    print('Average peak memory [MB]: {}: +/- {}'.format(\n",
    "      round(np.mean(mem_lst), 4), round(np.std(mem_lst), 4),))\n",
    "    print(\"=\"*20)"
   ]
  },
  {
   "cell_type": "code",
   "execution_count": null,
   "id": "8a0482d6-580b-4dca-a449-12ccac6f9124",
   "metadata": {},
   "outputs": [],
   "source": []
  },
  {
   "cell_type": "code",
   "execution_count": 160,
   "id": "478727a8-4197-48f1-9e94-f9d9afde07aa",
   "metadata": {
    "tags": []
   },
   "outputs": [
    {
     "name": "stderr",
     "output_type": "stream",
     "text": [
      "Running decomposition in batches...: 100%|██████████| 1/1 [00:00<00:00,  1.27it/s]"
     ]
    },
    {
     "name": "stdout",
     "output_type": "stream",
     "text": [
      "Viz rel: \n"
     ]
    },
    {
     "name": "stderr",
     "output_type": "stream",
     "text": [
      "\n"
     ]
    },
    {
     "data": {
      "text/html": [
       "<span class=\"barcode\"; style=\"color: black; background-color: #eff9fc\">&nbspmr&nbsp</span><span class=\"barcode\"; style=\"color: black; background-color: #c7e9f5\">&nbspdowner&nbsp</span><span class=\"barcode\"; style=\"color: black; background-color: #f2fafd\">&nbspshoots&nbsp</span><span class=\"barcode\"; style=\"color: black; background-color: #f1fafd\">&nbsphis&nbsp</span><span class=\"barcode\"; style=\"color: black; background-color: #fafdfe\">&nbspmouth&nbsp</span><span class=\"barcode\"; style=\"color: black; background-color: #f6fcfd\">&nbspoff&nbsp</span><span class=\"barcode\"; style=\"color: black; background-color: #f8fcfe\">&nbspjust&nbsp</span><span class=\"barcode\"; style=\"color: black; background-color: #f5fbfd\">&nbspwhat&nbsp</span><span class=\"barcode\"; style=\"color: black; background-color: #f7fcfe\">&nbspalexander&nbsp</span><span class=\"barcode\"; style=\"color: black; background-color: #c7e9f5\">&nbspdowner&nbsp</span><span class=\"barcode\"; style=\"color: black; background-color: #f4fafd\">&nbspwas&nbsp</span><span class=\"barcode\"; style=\"color: black; background-color: #fbfdfe\">&nbspthinking&nbsp</span><span class=\"barcode\"; style=\"color: black; background-color: #f9fcfe\">&nbspwhen&nbsp</span><span class=\"barcode\"; style=\"color: black; background-color: #f9fcfe\">&nbsphe&nbsp</span><span class=\"barcode\"; style=\"color: black; background-color: #f6fcfd\">&nbspdeclared&nbsp</span><span class=\"barcode\"; style=\"color: black; background-color: #f1fafd\">&nbspon&nbsp</span><span class=\"barcode\"; style=\"color: black; background-color: #f7fcfe\">&nbspradio&nbsp</span><span class=\"barcode\"; style=\"color: black; background-color: #f0f9fc\">&nbsplast&nbsp</span><span class=\"barcode\"; style=\"color: black; background-color: 0.0\">&nbspfriday&nbsp</span><span class=\"barcode\"; style=\"color: black; background-color: #f5fbfd\">&nbspthat&nbsp</span><span class=\"barcode\"; style=\"color: black; background-color: #e4f4fa\">&nbspquot&nbsp</span><span class=\"barcode\"; style=\"color: black; background-color: #fbfefe\">&nbsp;&nbsp</span><span class=\"barcode\"; style=\"color: black; background-color: #f9fcfe\">&nbspthey&nbsp</span><span class=\"barcode\"; style=\"color: black; background-color: #f6fbfd\">&nbspcould&nbsp</span><span class=\"barcode\"; style=\"color: black; background-color: #f3fafd\">&nbspfire&nbsp</span><span class=\"barcode\"; style=\"color: black; background-color: #e4f4fa\">&nbspa&nbsp</span><span class=\"barcode\"; style=\"color: black; background-color: #f2fafd\">&nbspmissile&nbsp</span><span class=\"barcode\"; style=\"color: black; background-color: #acdef0\">&nbspfrom&nbsp</span><span class=\"barcode\"; style=\"color: black; background-color: #ebf7fb\">&nbspnorth&nbsp</span><span class=\"barcode\"; style=\"color: black; background-color: #a8dcf0\">&nbspkorea&nbsp</span><span class=\"barcode\"; style=\"color: black; background-color: #98d6ed\">&nbspto&nbsp</span><span class=\"barcode\"; style=\"color: black; background-color: #e7f5fb\">&nbspsydney&nbsp</span><span class=\"barcode\"; style=\"color: black; background-color: #48b6df\">&nbspquot&nbsp</span><span class=\"barcode\"; style=\"color: black; background-color: #f1fafd\">&nbsp;&nbsp</span><span class=\"barcode\"; style=\"color: black; background-color: #f6fbfd\">&nbspis&nbsp</span><span class=\"barcode\"; style=\"color: black; background-color: #f6fbfd\">&nbspunclear&nbsp</span><span class=\"barcode\"; style=\"color: black; background-color: #f5fbfd\">&nbsp.&nbsp</span><span class=\"barcode\"; style=\"color: black; background-color: #fbfefe\">&nbspthe&nbsp</span><span class=\"barcode\"; style=\"color: black; background-color: #fdfeff\">&nbspprovocative&nbsp</span><span class=\"barcode\"; style=\"color: black; background-color: #daf0f8\">&nbspremark&nbsp</span><span class=\"barcode\"; style=\"color: black; background-color: #f0f9fc\">&nbsp,&nbsp</span><span class=\"barcode\"; style=\"color: black; background-color: #fbfefe\">&nbspjust&nbsp</span><span class=\"barcode\"; style=\"color: black; background-color: #fdfeff\">&nbspdays&nbsp</span><span class=\"barcode\"; style=\"color: black; background-color: #f8fcfe\">&nbspbefore&nbsp</span><span class=\"barcode\"; style=\"color: black; background-color: #f9fdfe\">&nbsphis&nbsp</span><span class=\"barcode\"; style=\"color: black; background-color: #fafdfe\">&nbsparrival&nbsp</span><span class=\"barcode\"; style=\"color: black; background-color: #f1fafd\">&nbspyesterday&nbsp</span><span class=\"barcode\"; style=\"color: black; background-color: #fafdfe\">&nbspon&nbsp</span><span class=\"barcode\"; style=\"color: black; background-color: #fbfdfe\">&nbsphis&nbsp</span><span class=\"barcode\"; style=\"color: black; background-color: #f6fcfd\">&nbspsecond&nbsp</span><span class=\"barcode\"; style=\"color: black; background-color: #f7fcfe\">&nbspvisit&nbsp</span><span class=\"barcode\"; style=\"color: black; background-color: #e5f5fa\">&nbspto&nbsp</span><span class=\"barcode\"; style=\"color: black; background-color: #f6fcfd\">&nbspthe&nbsp</span><span class=\"barcode\"; style=\"color: black; background-color: #f4fbfd\">&nbspnorth&nbsp</span><span class=\"barcode\"; style=\"color: black; background-color: #88cfea\">&nbspkorean&nbsp</span><span class=\"barcode\"; style=\"color: black; background-color: #89d0ea\">&nbsp.&nbsp</span><span class=\"barcode\"; style=\"color: black; background-color: #eef8fc\">&nbsp.&nbsp</span><span class=\"barcode\"; style=\"color: black; background-color: #f0f9fc\">&nbsp.&nbsp</span>"
      ],
      "text/plain": [
       "<IPython.core.display.HTML object>"
      ]
     },
     "metadata": {},
     "output_type": "display_data"
    },
    {
     "name": "stdout",
     "output_type": "stream",
     "text": [
      "Viz irrel: \n"
     ]
    },
    {
     "data": {
      "text/html": [
       "<span class=\"barcode\"; style=\"color: black; background-color: #fcfefe\">&nbspmr&nbsp</span><span class=\"barcode\"; style=\"color: black; background-color: #49b6df\">&nbspdowner&nbsp</span><span class=\"barcode\"; style=\"color: black; background-color: #fcfefe\">&nbspshoots&nbsp</span><span class=\"barcode\"; style=\"color: black; background-color: #fcfefe\">&nbsphis&nbsp</span><span class=\"barcode\"; style=\"color: black; background-color: #fcfefe\">&nbspmouth&nbsp</span><span class=\"barcode\"; style=\"color: black; background-color: #fcfefe\">&nbspoff&nbsp</span><span class=\"barcode\"; style=\"color: black; background-color: #fcfefe\">&nbspjust&nbsp</span><span class=\"barcode\"; style=\"color: black; background-color: #fcfefe\">&nbspwhat&nbsp</span><span class=\"barcode\"; style=\"color: black; background-color: #fcfefe\">&nbspalexander&nbsp</span><span class=\"barcode\"; style=\"color: black; background-color: #49b6df\">&nbspdowner&nbsp</span><span class=\"barcode\"; style=\"color: black; background-color: #fcfefe\">&nbspwas&nbsp</span><span class=\"barcode\"; style=\"color: black; background-color: #fcfefe\">&nbspthinking&nbsp</span><span class=\"barcode\"; style=\"color: black; background-color: #fcfefe\">&nbspwhen&nbsp</span><span class=\"barcode\"; style=\"color: black; background-color: #fcfefe\">&nbsphe&nbsp</span><span class=\"barcode\"; style=\"color: black; background-color: #fcfefe\">&nbspdeclared&nbsp</span><span class=\"barcode\"; style=\"color: black; background-color: #fcfefe\">&nbspon&nbsp</span><span class=\"barcode\"; style=\"color: black; background-color: #fcfefe\">&nbspradio&nbsp</span><span class=\"barcode\"; style=\"color: black; background-color: #fcfefe\">&nbsplast&nbsp</span><span class=\"barcode\"; style=\"color: black; background-color: #fbfefe\">&nbspfriday&nbsp</span><span class=\"barcode\"; style=\"color: black; background-color: #fcfefe\">&nbspthat&nbsp</span><span class=\"barcode\"; style=\"color: black; background-color: #48b6df\">&nbspquot&nbsp</span><span class=\"barcode\"; style=\"color: black; background-color: #fcfefe\">&nbsp;&nbsp</span><span class=\"barcode\"; style=\"color: black; background-color: #fcfefe\">&nbspthey&nbsp</span><span class=\"barcode\"; style=\"color: black; background-color: #fcfefe\">&nbspcould&nbsp</span><span class=\"barcode\"; style=\"color: black; background-color: #fcfefe\">&nbspfire&nbsp</span><span class=\"barcode\"; style=\"color: black; background-color: #fdfeff\">&nbspa&nbsp</span><span class=\"barcode\"; style=\"color: black; background-color: #fcfefe\">&nbspmissile&nbsp</span><span class=\"barcode\"; style=\"color: black; background-color: #feffff\">&nbspfrom&nbsp</span><span class=\"barcode\"; style=\"color: black; background-color: #fcfefe\">&nbspnorth&nbsp</span><span class=\"barcode\"; style=\"color: black; background-color: #feffff\">&nbspkorea&nbsp</span><span class=\"barcode\"; style=\"color: black; background-color: #ffffff\">&nbspto&nbsp</span><span class=\"barcode\"; style=\"color: black; background-color: #fcfefe\">&nbspsydney&nbsp</span><span class=\"barcode\"; style=\"color: black; background-color: #4cb8e0\">&nbspquot&nbsp</span><span class=\"barcode\"; style=\"color: black; background-color: #fcfefe\">&nbsp;&nbsp</span><span class=\"barcode\"; style=\"color: black; background-color: #fcfefe\">&nbspis&nbsp</span><span class=\"barcode\"; style=\"color: black; background-color: #fcfefe\">&nbspunclear&nbsp</span><span class=\"barcode\"; style=\"color: black; background-color: #fcfefe\">&nbsp.&nbsp</span><span class=\"barcode\"; style=\"color: black; background-color: #fcfefe\">&nbspthe&nbsp</span><span class=\"barcode\"; style=\"color: black; background-color: #fbfefe\">&nbspprovocative&nbsp</span><span class=\"barcode\"; style=\"color: black; background-color: #fdfeff\">&nbspremark&nbsp</span><span class=\"barcode\"; style=\"color: black; background-color: #fcfefe\">&nbsp,&nbsp</span><span class=\"barcode\"; style=\"color: black; background-color: #fcfefe\">&nbspjust&nbsp</span><span class=\"barcode\"; style=\"color: black; background-color: #fbfefe\">&nbspdays&nbsp</span><span class=\"barcode\"; style=\"color: black; background-color: #fcfefe\">&nbspbefore&nbsp</span><span class=\"barcode\"; style=\"color: black; background-color: #fcfefe\">&nbsphis&nbsp</span><span class=\"barcode\"; style=\"color: black; background-color: #fcfefe\">&nbsparrival&nbsp</span><span class=\"barcode\"; style=\"color: black; background-color: #fcfefe\">&nbspyesterday&nbsp</span><span class=\"barcode\"; style=\"color: black; background-color: #fcfefe\">&nbspon&nbsp</span><span class=\"barcode\"; style=\"color: black; background-color: #fcfefe\">&nbsphis&nbsp</span><span class=\"barcode\"; style=\"color: black; background-color: #fcfefe\">&nbspsecond&nbsp</span><span class=\"barcode\"; style=\"color: black; background-color: #fcfefe\">&nbspvisit&nbsp</span><span class=\"barcode\"; style=\"color: black; background-color: #fdfeff\">&nbspto&nbsp</span><span class=\"barcode\"; style=\"color: black; background-color: #fcfefe\">&nbspthe&nbsp</span><span class=\"barcode\"; style=\"color: black; background-color: #fcfefe\">&nbspnorth&nbsp</span><span class=\"barcode\"; style=\"color: black; background-color: 0.0\">&nbspkorean&nbsp</span><span class=\"barcode\"; style=\"color: black; background-color: #ffffff\">&nbsp.&nbsp</span><span class=\"barcode\"; style=\"color: black; background-color: #fcfefe\">&nbsp.&nbsp</span><span class=\"barcode\"; style=\"color: black; background-color: #fcfefe\">&nbsp.&nbsp</span>"
      ],
      "text/plain": [
       "<IPython.core.display.HTML object>"
      ]
     },
     "metadata": {},
     "output_type": "display_data"
    },
    {
     "name": "stdout",
     "output_type": "stream",
     "text": [
      "Viz rel-irrel: \n"
     ]
    },
    {
     "data": {
      "text/html": [
       "<span class=\"barcode\"; style=\"color: black; background-color: #f2fafd\">&nbspmr&nbsp</span><span class=\"barcode\"; style=\"color: black; background-color: #e89f8e\">&nbspdowner&nbsp</span><span class=\"barcode\"; style=\"color: black; background-color: #f6fbfd\">&nbspshoots&nbsp</span><span class=\"barcode\"; style=\"color: black; background-color: #f4fbfd\">&nbsphis&nbsp</span><span class=\"barcode\"; style=\"color: black; background-color: #fefeff\">&nbspmouth&nbsp</span><span class=\"barcode\"; style=\"color: black; background-color: #fafdfe\">&nbspoff&nbsp</span><span class=\"barcode\"; style=\"color: black; background-color: #fbfefe\">&nbspjust&nbsp</span><span class=\"barcode\"; style=\"color: black; background-color: #f8fcfe\">&nbspwhat&nbsp</span><span class=\"barcode\"; style=\"color: black; background-color: #fafdfe\">&nbspalexander&nbsp</span><span class=\"barcode\"; style=\"color: black; background-color: #e89e8e\">&nbspdowner&nbsp</span><span class=\"barcode\"; style=\"color: black; background-color: #f6fcfd\">&nbspwas&nbsp</span><span class=\"barcode\"; style=\"color: black; background-color: #fefeff\">&nbspthinking&nbsp</span><span class=\"barcode\"; style=\"color: black; background-color: #fcfefe\">&nbspwhen&nbsp</span><span class=\"barcode\"; style=\"color: black; background-color: #fcfefe\">&nbsphe&nbsp</span><span class=\"barcode\"; style=\"color: black; background-color: #fafdfe\">&nbspdeclared&nbsp</span><span class=\"barcode\"; style=\"color: black; background-color: #f5fbfd\">&nbspon&nbsp</span><span class=\"barcode\"; style=\"color: black; background-color: #fbfdfe\">&nbspradio&nbsp</span><span class=\"barcode\"; style=\"color: black; background-color: #f4fafd\">&nbsplast&nbsp</span><span class=\"barcode\"; style=\"color: black; background-color: #fefcfc\">&nbspfriday&nbsp</span><span class=\"barcode\"; style=\"color: black; background-color: #f8fcfe\">&nbspthat&nbsp</span><span class=\"barcode\"; style=\"color: black; background-color: #e28873\">&nbspquot&nbsp</span><span class=\"barcode\"; style=\"color: black; background-color: #ffffff\">&nbsp;&nbsp</span><span class=\"barcode\"; style=\"color: black; background-color: #fbfefe\">&nbspthey&nbsp</span><span class=\"barcode\"; style=\"color: black; background-color: #f9fcfe\">&nbspcould&nbsp</span><span class=\"barcode\"; style=\"color: black; background-color: #f6fbfd\">&nbspfire&nbsp</span><span class=\"barcode\"; style=\"color: black; background-color: #e7f6fb\">&nbspa&nbsp</span><span class=\"barcode\"; style=\"color: black; background-color: #f6fbfd\">&nbspmissile&nbsp</span><span class=\"barcode\"; style=\"color: black; background-color: #acdef1\">&nbspfrom&nbsp</span><span class=\"barcode\"; style=\"color: black; background-color: #eef8fc\">&nbspnorth&nbsp</span><span class=\"barcode\"; style=\"color: black; background-color: #a9ddf0\">&nbspkorea&nbsp</span><span class=\"barcode\"; style=\"color: black; background-color: #98d6ed\">&nbspto&nbsp</span><span class=\"barcode\"; style=\"color: black; background-color: #e9f6fb\">&nbspsydney&nbsp</span><span class=\"barcode\"; style=\"color: black; background-color: #fbfdfe\">&nbspquot&nbsp</span><span class=\"barcode\"; style=\"color: black; background-color: #f5fbfd\">&nbsp;&nbsp</span><span class=\"barcode\"; style=\"color: black; background-color: #f9fdfe\">&nbspis&nbsp</span><span class=\"barcode\"; style=\"color: black; background-color: #f9fcfe\">&nbspunclear&nbsp</span><span class=\"barcode\"; style=\"color: black; background-color: #f9fcfe\">&nbsp.&nbsp</span><span class=\"barcode\"; style=\"color: black; background-color: #ffffff\">&nbspthe&nbsp</span><span class=\"barcode\"; style=\"color: black; background-color: #fffefe\">&nbspprovocative&nbsp</span><span class=\"barcode\"; style=\"color: black; background-color: #dcf1f9\">&nbspremark&nbsp</span><span class=\"barcode\"; style=\"color: black; background-color: #f4fafd\">&nbsp,&nbsp</span><span class=\"barcode\"; style=\"color: black; background-color: #ffffff\">&nbspjust&nbsp</span><span class=\"barcode\"; style=\"color: black; background-color: #fffefe\">&nbspdays&nbsp</span><span class=\"barcode\"; style=\"color: black; background-color: #fbfefe\">&nbspbefore&nbsp</span><span class=\"barcode\"; style=\"color: black; background-color: #fdfeff\">&nbsphis&nbsp</span><span class=\"barcode\"; style=\"color: black; background-color: #fefeff\">&nbsparrival&nbsp</span><span class=\"barcode\"; style=\"color: black; background-color: #f5fbfd\">&nbspyesterday&nbsp</span><span class=\"barcode\"; style=\"color: black; background-color: #fefeff\">&nbspon&nbsp</span><span class=\"barcode\"; style=\"color: black; background-color: #feffff\">&nbsphis&nbsp</span><span class=\"barcode\"; style=\"color: black; background-color: #fafdfe\">&nbspsecond&nbsp</span><span class=\"barcode\"; style=\"color: black; background-color: #fbfdfe\">&nbspvisit&nbsp</span><span class=\"barcode\"; style=\"color: black; background-color: #e8f6fb\">&nbspto&nbsp</span><span class=\"barcode\"; style=\"color: black; background-color: #fafdfe\">&nbspthe&nbsp</span><span class=\"barcode\"; style=\"color: black; background-color: #f8fcfe\">&nbspnorth&nbsp</span><span class=\"barcode\"; style=\"color: black; background-color: #88cfea\">&nbspkorean&nbsp</span><span class=\"barcode\"; style=\"color: black; background-color: #89d0ea\">&nbsp.&nbsp</span><span class=\"barcode\"; style=\"color: black; background-color: #f1fafd\">&nbsp.&nbsp</span><span class=\"barcode\"; style=\"color: black; background-color: #f4fafd\">&nbsp.&nbsp</span>"
      ],
      "text/plain": [
       "<IPython.core.display.HTML object>"
      ]
     },
     "metadata": {},
     "output_type": "display_data"
    }
   ],
   "source": [
    "# passed: LIG, shap, lime, cdt\n",
    "\n",
    "scores = run_local_importance(text, tokenized_prompt, io_seq_idx, s_seq_idx, label_idx, max_seq_len, model, tokenizer,\n",
    "                              device, method, model_type, class_names)"
   ]
  },
  {
   "cell_type": "code",
   "execution_count": null,
   "id": "e72420fb-cbe6-4155-b4c2-820a20dbaafd",
   "metadata": {},
   "outputs": [],
   "source": []
  }
 ],
 "metadata": {
  "kernelspec": {
   "display_name": "Python 3.12 (ipykernel)",
   "language": "python",
   "name": "python3.12"
  },
  "language_info": {
   "codemirror_mode": {
    "name": "ipython",
    "version": 3
   },
   "file_extension": ".py",
   "mimetype": "text/x-python",
   "name": "python",
   "nbconvert_exporter": "python",
   "pygments_lexer": "ipython3",
   "version": "3.12.2"
  }
 },
 "nbformat": 4,
 "nbformat_minor": 5
}
