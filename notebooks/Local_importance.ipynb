{
 "cells": [
  {
   "cell_type": "markdown",
   "id": "c8e17a14-f206-41df-b5da-d8cdc8b989c2",
   "metadata": {
    "user_expressions": []
   },
   "source": [
    "# Purpose\n",
    "\n",
    "This notebook contains code to generate local importance (input feature attribution) using different interpretation methods, such as LIME, SHAP, Layer-integrated-gradients, and CD-T, and compare."
   ]
  },
  {
   "cell_type": "code",
   "execution_count": null,
   "id": "4c60cffe-fb82-4ce4-819b-6c1f34a4e475",
   "metadata": {},
   "outputs": [],
   "source": [
    "!pip install lime\n",
    "!pip install shap\n",
    "!pip install captum"
   ]
  },
  {
   "cell_type": "code",
   "execution_count": 1,
   "id": "1f220adb-4c3e-44cc-a805-856221bc4c20",
   "metadata": {
    "tags": []
   },
   "outputs": [],
   "source": [
    "%load_ext autoreload\n",
    "%autoreload 2"
   ]
  },
  {
   "cell_type": "code",
   "execution_count": 2,
   "id": "b50627d0-6eee-4f08-a776-fa4484f37d51",
   "metadata": {
    "tags": []
   },
   "outputs": [],
   "source": [
    "import os\n",
    "import warnings\n",
    "import sys\n",
    "import gc\n",
    "import torch\n",
    "import random\n",
    "warnings.filterwarnings(\"ignore\")\n",
    "base_dir = os.path.split(os.getcwd())[0]\n",
    "sys.path.append(base_dir)\n",
    "\n",
    "from pyfunctions.local_importance import *"
   ]
  },
  {
   "cell_type": "code",
   "execution_count": 4,
   "id": "8a2f7e98-25a7-4f00-a6ec-d98e0e1d12df",
   "metadata": {
    "tags": []
   },
   "outputs": [
    {
     "data": {
      "text/plain": [
       "<torch.autograd.grad_mode.set_grad_enabled at 0x7fc2ce3b6e40>"
      ]
     },
     "execution_count": 4,
     "metadata": {},
     "output_type": "execute_result"
    }
   ],
   "source": [
    "torch.autograd.set_grad_enabled(False)"
   ]
  },
  {
   "cell_type": "code",
   "execution_count": 213,
   "id": "163fb8c9-abd9-4231-b5d7-562b077aa01d",
   "metadata": {
    "tags": []
   },
   "outputs": [],
   "source": [
    "device = 'cuda:0'\n",
    "supported_model_and_task = {\"bert\": [\"pathology\", \"sst2\", \"agnews\"], \"gpt2\": [\"ioi\"]}\n",
    "model_type = 'gpt2' #\"bert\", \"gpt2\"\n",
    "data_name = supported_model_and_task[model_type][0] #\"bert\"\"pathology\", \"sst2\", \"agnews\", \"ioi\"\n",
    "\n",
    "if data_name == \"sst2\":\n",
    "    max_seq_len = 120\n",
    "    class_names = [\"0\", \"1\"]\n",
    "if data_name == \"agnews\":\n",
    "    max_seq_len = 240\n",
    "    class_names = [\"0\", \"1\", \"2\", \"3\"]\n",
    "elif data_name == \"pathology\":\n",
    "    max_seq_len = 512\n",
    "    class_names = [\"3\", \"4\", \"5\"]\n",
    "elif data_name == \"ioi\":\n",
    "    max_seq_len = 16\n",
    "    class_names = [str(token_id) for token_id in range(50257)]"
   ]
  },
  {
   "cell_type": "code",
   "execution_count": 214,
   "id": "db5b5df0-32ac-46e5-99aa-8d4f8edc39a0",
   "metadata": {
    "tags": []
   },
   "outputs": [
    {
     "name": "stdout",
     "output_type": "stream",
     "text": [
      "Loaded pretrained model gpt2-small into HookedTransformer\n",
      "Moving model to device:  cuda:0\n"
     ]
    }
   ],
   "source": [
    "# load in data and model\n",
    "data, le_dict, tokenizer, model = load_data_and_model(data_name, model_type, device) # the wrapper currently only support a fixed set of models and datasets"
   ]
  },
  {
   "cell_type": "markdown",
   "id": "eaff0653-60f9-4cd6-97b6-c136cf202bc9",
   "metadata": {
    "jp-MarkdownHeadingCollapsed": true,
    "tags": [],
    "user_expressions": []
   },
   "source": [
    "## Compute dataset stats"
   ]
  },
  {
   "cell_type": "code",
   "execution_count": null,
   "id": "f1979516-ecb1-4aec-bd2d-c25a031d6c83",
   "metadata": {},
   "outputs": [],
   "source": [
    "# Prepare AGNews-long -> 34 datapoints\n",
    "idx = []\n",
    "for i, text in enumerate(data['docs']):\n",
    "    text_ids = tokenizer.encode(text)\n",
    "    if len(text_ids) > 150:\n",
    "        idx.append(i)\n",
    "    if len(idx) == 50:\n",
    "        break"
   ]
  },
  {
   "cell_type": "code",
   "execution_count": 259,
   "id": "45305d8a-0e3c-4dbb-9a94-3e648a9912c7",
   "metadata": {
    "tags": []
   },
   "outputs": [],
   "source": [
    "idx = random.sample(range(len(data['docs'])), 34)\n",
    "agnews_text_data_random, agnews_label_data_random = [], []\n",
    "for i in idx:\n",
    "    agnews_text_data_random.append(data['docs'][i])\n",
    "    agnews_label_data_random.append(data['labels'][i])"
   ]
  },
  {
   "cell_type": "code",
   "execution_count": null,
   "id": "923f1d7a-b770-445e-9ac1-478609f074e2",
   "metadata": {},
   "outputs": [],
   "source": [
    "idx = random.sample(range(len(data['docs'])), 34)\n",
    "sst2_text_data, sst2_label_data = [], []\n",
    "for i in idx:\n",
    "    sst2_text_data.append(data['docs'][i])\n",
    "    sst2_label_data.append(data['labels'][i])"
   ]
  },
  {
   "cell_type": "code",
   "execution_count": null,
   "id": "5ca3f608-3fca-4372-88a3-c438f5b280d5",
   "metadata": {},
   "outputs": [],
   "source": [
    "idx = random.sample(range(len(data['docs'])), 34)\n",
    "path_text_data, path_label_data = [], []\n",
    "for i in idx:\n",
    "    path_text_data.append(data['docs'][i])\n",
    "    path_label_data.append(data['labels'][i])"
   ]
  },
  {
   "cell_type": "code",
   "execution_count": null,
   "id": "2bca6d8d-5bf2-468b-a7c2-c7b981f1da42",
   "metadata": {},
   "outputs": [],
   "source": [
    "idx = random.sample(range(len(data.sentences)), 34)\n",
    "ioi_sample_id = idx"
   ]
  },
  {
   "cell_type": "code",
   "execution_count": 260,
   "id": "08e70e09-6d28-40bc-a085-f7e7f3ab45df",
   "metadata": {
    "tags": []
   },
   "outputs": [],
   "source": [
    "sample_data_dict = {\"ioi\": ioi_sample_id, \"sst2\": sst2_text_data, \"agnews\": agnews_text_data, \"agnews_rand\": agnews_text_data_random, \"pathology\": path_text_data}"
   ]
  },
  {
   "cell_type": "code",
   "execution_count": 261,
   "id": "139e9e19-edc9-4f8b-90b0-03b99ffaa704",
   "metadata": {
    "tags": []
   },
   "outputs": [],
   "source": [
    "sample_labels_dict = {\"ioi\": None, \"sst2\": sst2_label_data, \"agnews\": agnews_label_data, \"agnews_rand\": agnews_label_data_random, \"pathology\": path_label_data}"
   ]
  },
  {
   "cell_type": "code",
   "execution_count": null,
   "id": "4f18dcba-c565-4144-9576-774b0563f694",
   "metadata": {},
   "outputs": [],
   "source": [
    "tot = []\n",
    "for x in [\"ioi\", \"sst2\", \"agnews\", \"pathology\"]:\n",
    "    sample_data = sample_data_dict[x]\n",
    "    res = []\n",
    "    for text in tqdm.tqdm(sample_data):\n",
    "        if x == \"ioi\":\n",
    "            # \"text\" is actually sample_id for ioi task\n",
    "            text = data.sentences[text]\n",
    "            text_ids = tokenizer.encode(text)\n",
    "        else:\n",
    "            text_ids = tokenizer.encode(text)\n",
    "        res.append(len(text_ids))\n",
    "    tot.append(res)"
   ]
  },
  {
   "cell_type": "code",
   "execution_count": 227,
   "id": "a8797d10-adaa-45b0-81cb-8ac4dfe67a29",
   "metadata": {
    "tags": []
   },
   "outputs": [
    {
     "data": {
      "text/plain": [
       "Text(0, 0.5, 'Token Counts')"
      ]
     },
     "execution_count": 227,
     "metadata": {},
     "output_type": "execute_result"
    },
    {
     "data": {
      "image/png": "[encoded data removed]",
      "text/plain": [
       "<Figure size 640x480 with 1 Axes>"
      ]
     },
     "metadata": {},
     "output_type": "display_data"
    }
   ],
   "source": [
    "plot = matplotlib.pyplot.boxplot(tot, labels = [\"ioi\", \"sst2\", \"agnews-long\", \"pathology\"] )\n",
    "matplotlib.pyplot.ylabel(\"Token Counts\")"
   ]
  },
  {
   "cell_type": "code",
   "execution_count": null,
   "id": "6dbd481a-db9e-4778-9b25-397a8cb140be",
   "metadata": {},
   "outputs": [],
   "source": [
    "np.median(tot, axis=1)"
   ]
  },
  {
   "cell_type": "code",
   "execution_count": 262,
   "id": "77fa3f78-a5e4-49ab-b30c-f43b44d264b3",
   "metadata": {
    "tags": []
   },
   "outputs": [],
   "source": [
    "import json\n",
    "# save sample data for reproducibility\n",
    "with open('new_local_importance_sample_text.json', 'w') as f:\n",
    "    json.dump(sample_data_dict, f)\n",
    "\n",
    "with open('new_local_importance_sample_label.json', 'w') as f:\n",
    "    json.dump(sample_labels_dict, f)"
   ]
  },
  {
   "cell_type": "markdown",
   "id": "44dbdbba-2226-4316-89ee-8756d90d1517",
   "metadata": {
    "user_expressions": []
   },
   "source": [
    "## Run local interpretation"
   ]
  },
  {
   "cell_type": "code",
   "execution_count": 265,
   "id": "ee795329-b4a2-43c2-bfd8-806dfc25c820",
   "metadata": {
    "tags": []
   },
   "outputs": [],
   "source": [
    "with open('new_local_importance_sample_text.json', 'r') as f:\n",
    "    sample_data_dict = json.load(f)\n",
    "    \n",
    "with open('new_local_importance_sample_label.json', 'r') as f:\n",
    "    sample_labels_dict = json.load(f)"
   ]
  },
  {
   "cell_type": "code",
   "execution_count": 299,
   "id": "b7521b1c-a32c-477a-b6e0-a950d5751be4",
   "metadata": {
    "tags": []
   },
   "outputs": [],
   "source": [
    "device = 'cuda:0'\n",
    "supported_model_and_task = {\"bert\": [\"pathology\", \"sst2\", \"agnews\", \"agnews_rand\"], \"gpt2\": [\"ioi\"]}\n",
    "model_type = 'bert' #\"bert\", \"gpt2\"\n",
    "data_name = supported_model_and_task[model_type][3] #\"bert\"\"pathology\", \"sst2\", \"agnews\", \"ioi\"\n",
    "\n",
    "if data_name == \"sst2\":\n",
    "    max_seq_len = 120\n",
    "    class_names = [\"0\", \"1\"] #0: negative, 1: positive\n",
    "elif data_name == \"agnews\":\n",
    "    max_seq_len = 240\n",
    "    class_names = [\"0\", \"1\", \"2\", \"3\"]\n",
    "elif data_name == \"agnews_rand\":\n",
    "    max_seq_len = 240\n",
    "    class_names = [\"0\", \"1\", \"2\", \"3\"] #0: world, 1: sports, 2: business, 3: Sci/Tech\n",
    "elif data_name == \"pathology\":\n",
    "    max_seq_len = 512\n",
    "    class_names = [\"3\", \"4\", \"5\"]\n",
    "elif data_name == \"ioi\":\n",
    "    max_seq_len = 16\n",
    "    class_names = [str(token_id) for token_id in range(50257)]\n",
    "    \n",
    "# load in data and model\n",
    "data, le_dict, tokenizer, model = load_data_and_model(data_name, model_type, device)"
   ]
  },
  {
   "cell_type": "code",
   "execution_count": null,
   "id": "8687891f-2d16-4dbd-9e41-b7b0297468cf",
   "metadata": {},
   "outputs": [],
   "source": [
    "methods = [\"lime\", \"shap\", \"CDT\", \"LIG\"]\n",
    "\n",
    "print(f'Running dataset {data_name}...')\n",
    "sample_data = sample_data_dict[data_name][:10]\n",
    "sample_labels = sample_labels_dict[data_name][:10]\n",
    "\n",
    "# check for these data: pred == gt_label\n",
    "for gt_label, text in zip(sample_labels, sample_data):\n",
    "    outputs = model(**tokenizer(text, \n",
    "                                 max_length=max_seq_len,\n",
    "                                 truncation=True, \n",
    "                                 padding = \"max_length\", \n",
    "                                 return_attention_mask=True, \n",
    "                                 return_tensors=\"pt\").to(device))\n",
    "    tensor_logits = outputs[0]\n",
    "    pred = torch.argmax(tensor_logits).detach().cpu().numpy()\n",
    "    try:\n",
    "        assert(gt_label, pred)\n",
    "    except:\n",
    "        print(gt_label, pred)\n",
    "        \n",
    "for method in methods:\n",
    "    print(f'Running method {method}...')\n",
    "    for i in range(len(sample_data)):\n",
    "        print(\"=\"*10 + f' sample {i} ' + \"=\"*10)\n",
    "        if data_name != \"ioi\":\n",
    "            tokenized_prompt = None\n",
    "            io_seq_idx = None\n",
    "            s_seq_idx = None\n",
    "            text = sample_data[i].strip().lower()\n",
    "            label = sample_labels[i]\n",
    "            label_idx = le_dict[label]\n",
    "            tokenizer.pad_token = tokenizer.eos_token\n",
    "        else:\n",
    "            sample_id = sample_data[i]\n",
    "            tokenized_prompt = data.tokenized_prompts[sample_id]\n",
    "            io_seq_idx = data.io_tokenIDs[sample_id] # sample_id 0-50 for ioi\n",
    "            s_seq_idx = data.s_tokenIDs[sample_id] \n",
    "            text = data.sentences[sample_id]\n",
    "            label_idx = None\n",
    "\n",
    "        # clear cache\n",
    "        gc.collect()\n",
    "        torch.cuda.empty_cache()\n",
    "        \n",
    "        scores = run_local_importance(text, tokenized_prompt, io_seq_idx, s_seq_idx, label_idx, max_seq_len, model, tokenizer,\n",
    "                              device, method, model_type, class_names)\n",
    "        print(\"=\"*20)"
   ]
  },
  {
   "cell_type": "code",
   "execution_count": null,
   "id": "e72420fb-cbe6-4155-b4c2-820a20dbaafd",
   "metadata": {},
   "outputs": [],
   "source": []
  }
 ],
 "metadata": {
  "kernelspec": {
   "display_name": "Python 3.12 (ipykernel)",
   "language": "python",
   "name": "python3.12"
  },
  "language_info": {
   "codemirror_mode": {
    "name": "ipython",
    "version": 3
   },
   "file_extension": ".py",
   "mimetype": "text/x-python",
   "name": "python",
   "nbconvert_exporter": "python",
   "pygments_lexer": "ipython3",
   "version": "3.12.2"
  }
 },
 "nbformat": 4,
 "nbformat_minor": 5
}
