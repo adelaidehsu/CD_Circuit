{
 "cells": [
  {
   "cell_type": "code",
   "execution_count": 3,
   "id": "e61a0720",
   "metadata": {
    "tags": []
   },
   "outputs": [],
   "source": [
    "%load_ext autoreload\n",
    "%autoreload 2"
   ]
  },
  {
   "cell_type": "code",
   "execution_count": 4,
   "id": "8a120102",
   "metadata": {
    "collapsed": true,
    "jupyter": {
     "outputs_hidden": true
    },
    "tags": []
   },
   "outputs": [
    {
     "ename": "KeyboardInterrupt",
     "evalue": "",
     "output_type": "error",
     "traceback": [
      "\u001b[0;31m---------------------------------------------------------------------------\u001b[0m",
      "\u001b[0;31mKeyboardInterrupt\u001b[0m                         Traceback (most recent call last)",
      "Cell \u001b[0;32mIn[4], line 36\u001b[0m\n\u001b[1;32m     34\u001b[0m \u001b[38;5;28;01mfrom\u001b[39;00m \u001b[38;5;21;01mpyfunctions\u001b[39;00m\u001b[38;5;21;01m.\u001b[39;00m\u001b[38;5;21;01mgeneral\u001b[39;00m \u001b[38;5;28;01mimport\u001b[39;00m extractListFromDic, readJson, combine_token_attn, compute_word_intervals, compare_same\n\u001b[1;32m     35\u001b[0m \u001b[38;5;28;01mfrom\u001b[39;00m \u001b[38;5;21;01mpyfunctions\u001b[39;00m\u001b[38;5;21;01m.\u001b[39;00m\u001b[38;5;21;01mpathology\u001b[39;00m \u001b[38;5;28;01mimport\u001b[39;00m extract_synoptic, fixLabelProstateGleason, fixProstateLabels, fixLabel, exclude_labels\n\u001b[0;32m---> 36\u001b[0m \u001b[38;5;28;01mfrom\u001b[39;00m \u001b[38;5;21;01mpyfunctions\u001b[39;00m\u001b[38;5;21;01m.\u001b[39;00m\u001b[38;5;21;01mcdt_basic\u001b[39;00m \u001b[38;5;28;01mimport\u001b[39;00m \u001b[38;5;241m*\u001b[39m\n\u001b[1;32m     37\u001b[0m \u001b[38;5;28;01mfrom\u001b[39;00m \u001b[38;5;21;01mpyfunctions\u001b[39;00m\u001b[38;5;21;01m.\u001b[39;00m\u001b[38;5;21;01mcdt_source_to_target\u001b[39;00m \u001b[38;5;28;01mimport\u001b[39;00m \u001b[38;5;241m*\u001b[39m\n\u001b[1;32m     38\u001b[0m \u001b[38;5;28;01mfrom\u001b[39;00m \u001b[38;5;21;01mpyfunctions\u001b[39;00m\u001b[38;5;21;01m.\u001b[39;00m\u001b[38;5;21;01mioi_dataset\u001b[39;00m \u001b[38;5;28;01mimport\u001b[39;00m IOIDataset\n",
      "File \u001b[0;32m~/CD_Circuit/pyfunctions/cdt_basic.py:8\u001b[0m\n\u001b[1;32m      6\u001b[0m \u001b[38;5;28;01mfrom\u001b[39;00m \u001b[38;5;21;01mtorch\u001b[39;00m \u001b[38;5;28;01mimport\u001b[39;00m nn\n\u001b[1;32m      7\u001b[0m \u001b[38;5;28;01mfrom\u001b[39;00m \u001b[38;5;21;01mfancy_einsum\u001b[39;00m \u001b[38;5;28;01mimport\u001b[39;00m einsum\n\u001b[0;32m----> 8\u001b[0m \u001b[38;5;28;01mimport\u001b[39;00m \u001b[38;5;21;01mtransformer_lens\u001b[39;00m\n\u001b[1;32m      9\u001b[0m \u001b[38;5;28;01mfrom\u001b[39;00m \u001b[38;5;21;01mtransformers\u001b[39;00m\u001b[38;5;21;01m.\u001b[39;00m\u001b[38;5;21;01mmodeling_utils\u001b[39;00m \u001b[38;5;28;01mimport\u001b[39;00m ModuleUtilsMixin\n\u001b[1;32m     11\u001b[0m \u001b[38;5;66;03m# utility\u001b[39;00m\n",
      "File \u001b[0;32m~/.local/lib/python3.12/site-packages/transformer_lens/__init__.py:1\u001b[0m\n\u001b[0;32m----> 1\u001b[0m \u001b[38;5;28;01mfrom\u001b[39;00m \u001b[38;5;21;01m.\u001b[39;00m \u001b[38;5;28;01mimport\u001b[39;00m hook_points\n\u001b[1;32m      2\u001b[0m \u001b[38;5;28;01mfrom\u001b[39;00m \u001b[38;5;21;01m.\u001b[39;00m \u001b[38;5;28;01mimport\u001b[39;00m utils\n\u001b[1;32m      3\u001b[0m \u001b[38;5;28;01mfrom\u001b[39;00m \u001b[38;5;21;01m.\u001b[39;00m \u001b[38;5;28;01mimport\u001b[39;00m evals\n",
      "File \u001b[0;32m~/.local/lib/python3.12/site-packages/transformer_lens/hook_points.py:29\u001b[0m\n\u001b[1;32m     26\u001b[0m \u001b[38;5;28;01mimport\u001b[39;00m \u001b[38;5;21;01mtorch\u001b[39;00m\u001b[38;5;21;01m.\u001b[39;00m\u001b[38;5;21;01mnn\u001b[39;00m \u001b[38;5;28;01mas\u001b[39;00m \u001b[38;5;21;01mnn\u001b[39;00m\n\u001b[1;32m     27\u001b[0m \u001b[38;5;28;01mimport\u001b[39;00m \u001b[38;5;21;01mtorch\u001b[39;00m\u001b[38;5;21;01m.\u001b[39;00m\u001b[38;5;21;01mutils\u001b[39;00m\u001b[38;5;21;01m.\u001b[39;00m\u001b[38;5;21;01mhooks\u001b[39;00m \u001b[38;5;28;01mas\u001b[39;00m \u001b[38;5;21;01mhooks\u001b[39;00m\n\u001b[0;32m---> 29\u001b[0m \u001b[38;5;28;01mfrom\u001b[39;00m \u001b[38;5;21;01mtransformer_lens\u001b[39;00m\u001b[38;5;21;01m.\u001b[39;00m\u001b[38;5;21;01mutils\u001b[39;00m \u001b[38;5;28;01mimport\u001b[39;00m Slice, SliceInput\n\u001b[1;32m     32\u001b[0m \u001b[38;5;129m@dataclass\u001b[39m\n\u001b[1;32m     33\u001b[0m \u001b[38;5;28;01mclass\u001b[39;00m \u001b[38;5;21;01mLensHandle\u001b[39;00m:\n\u001b[1;32m     34\u001b[0m \u001b[38;5;250m    \u001b[39m\u001b[38;5;124;03m\"\"\"Dataclass that holds information about a PyTorch hook.\"\"\"\u001b[39;00m\n",
      "File \u001b[0;32m~/.local/lib/python3.12/site-packages/transformer_lens/utils.py:27\u001b[0m\n\u001b[1;32m     25\u001b[0m \u001b[38;5;28;01mfrom\u001b[39;00m \u001b[38;5;21;01mjaxtyping\u001b[39;00m \u001b[38;5;28;01mimport\u001b[39;00m Float, Int\n\u001b[1;32m     26\u001b[0m \u001b[38;5;28;01mfrom\u001b[39;00m \u001b[38;5;21;01mrich\u001b[39;00m \u001b[38;5;28;01mimport\u001b[39;00m \u001b[38;5;28mprint\u001b[39m \u001b[38;5;28;01mas\u001b[39;00m rprint\n\u001b[0;32m---> 27\u001b[0m \u001b[38;5;28;01mfrom\u001b[39;00m \u001b[38;5;21;01mtransformers\u001b[39;00m \u001b[38;5;28;01mimport\u001b[39;00m AutoTokenizer\n\u001b[1;32m     29\u001b[0m \u001b[38;5;28;01mfrom\u001b[39;00m \u001b[38;5;21;01mtransformer_lens\u001b[39;00m\u001b[38;5;21;01m.\u001b[39;00m\u001b[38;5;21;01mFactoredMatrix\u001b[39;00m \u001b[38;5;28;01mimport\u001b[39;00m FactoredMatrix\n\u001b[1;32m     31\u001b[0m CACHE_DIR \u001b[38;5;241m=\u001b[39m transformers\u001b[38;5;241m.\u001b[39mTRANSFORMERS_CACHE\n",
      "File \u001b[0;32m<frozen importlib._bootstrap>:1412\u001b[0m, in \u001b[0;36m_handle_fromlist\u001b[0;34m(module, fromlist, import_, recursive)\u001b[0m\n",
      "File \u001b[0;32m~/.local/lib/python3.12/site-packages/transformers/utils/import_utils.py:1593\u001b[0m, in \u001b[0;36m_LazyModule.__getattr__\u001b[0;34m(self, name)\u001b[0m\n\u001b[1;32m   1591\u001b[0m     value \u001b[38;5;241m=\u001b[39m \u001b[38;5;28mself\u001b[39m\u001b[38;5;241m.\u001b[39m_get_module(name)\n\u001b[1;32m   1592\u001b[0m \u001b[38;5;28;01melif\u001b[39;00m name \u001b[38;5;129;01min\u001b[39;00m \u001b[38;5;28mself\u001b[39m\u001b[38;5;241m.\u001b[39m_class_to_module\u001b[38;5;241m.\u001b[39mkeys():\n\u001b[0;32m-> 1593\u001b[0m     module \u001b[38;5;241m=\u001b[39m \u001b[38;5;28;43mself\u001b[39;49m\u001b[38;5;241;43m.\u001b[39;49m\u001b[43m_get_module\u001b[49m\u001b[43m(\u001b[49m\u001b[38;5;28;43mself\u001b[39;49m\u001b[38;5;241;43m.\u001b[39;49m\u001b[43m_class_to_module\u001b[49m\u001b[43m[\u001b[49m\u001b[43mname\u001b[49m\u001b[43m]\u001b[49m\u001b[43m)\u001b[49m\n\u001b[1;32m   1594\u001b[0m     value \u001b[38;5;241m=\u001b[39m \u001b[38;5;28mgetattr\u001b[39m(module, name)\n\u001b[1;32m   1595\u001b[0m \u001b[38;5;28;01melse\u001b[39;00m:\n",
      "File \u001b[0;32m~/.local/lib/python3.12/site-packages/transformers/utils/import_utils.py:1603\u001b[0m, in \u001b[0;36m_LazyModule._get_module\u001b[0;34m(self, module_name)\u001b[0m\n\u001b[1;32m   1601\u001b[0m \u001b[38;5;28;01mdef\u001b[39;00m \u001b[38;5;21m_get_module\u001b[39m(\u001b[38;5;28mself\u001b[39m, module_name: \u001b[38;5;28mstr\u001b[39m):\n\u001b[1;32m   1602\u001b[0m     \u001b[38;5;28;01mtry\u001b[39;00m:\n\u001b[0;32m-> 1603\u001b[0m         \u001b[38;5;28;01mreturn\u001b[39;00m \u001b[43mimportlib\u001b[49m\u001b[38;5;241;43m.\u001b[39;49m\u001b[43mimport_module\u001b[49m\u001b[43m(\u001b[49m\u001b[38;5;124;43m\"\u001b[39;49m\u001b[38;5;124;43m.\u001b[39;49m\u001b[38;5;124;43m\"\u001b[39;49m\u001b[43m \u001b[49m\u001b[38;5;241;43m+\u001b[39;49m\u001b[43m \u001b[49m\u001b[43mmodule_name\u001b[49m\u001b[43m,\u001b[49m\u001b[43m \u001b[49m\u001b[38;5;28;43mself\u001b[39;49m\u001b[38;5;241;43m.\u001b[39;49m\u001b[38;5;18;43m__name__\u001b[39;49m\u001b[43m)\u001b[49m\n\u001b[1;32m   1604\u001b[0m     \u001b[38;5;28;01mexcept\u001b[39;00m \u001b[38;5;167;01mException\u001b[39;00m \u001b[38;5;28;01mas\u001b[39;00m e:\n\u001b[1;32m   1605\u001b[0m         \u001b[38;5;28;01mraise\u001b[39;00m \u001b[38;5;167;01mRuntimeError\u001b[39;00m(\n\u001b[1;32m   1606\u001b[0m             \u001b[38;5;124mf\u001b[39m\u001b[38;5;124m\"\u001b[39m\u001b[38;5;124mFailed to import \u001b[39m\u001b[38;5;132;01m{\u001b[39;00m\u001b[38;5;28mself\u001b[39m\u001b[38;5;241m.\u001b[39m\u001b[38;5;18m__name__\u001b[39m\u001b[38;5;132;01m}\u001b[39;00m\u001b[38;5;124m.\u001b[39m\u001b[38;5;132;01m{\u001b[39;00mmodule_name\u001b[38;5;132;01m}\u001b[39;00m\u001b[38;5;124m because of the following error (look up to see its\u001b[39m\u001b[38;5;124m\"\u001b[39m\n\u001b[1;32m   1607\u001b[0m             \u001b[38;5;124mf\u001b[39m\u001b[38;5;124m\"\u001b[39m\u001b[38;5;124m traceback):\u001b[39m\u001b[38;5;130;01m\\n\u001b[39;00m\u001b[38;5;132;01m{\u001b[39;00me\u001b[38;5;132;01m}\u001b[39;00m\u001b[38;5;124m\"\u001b[39m\n\u001b[1;32m   1608\u001b[0m         ) \u001b[38;5;28;01mfrom\u001b[39;00m \u001b[38;5;21;01me\u001b[39;00m\n",
      "File \u001b[0;32m/usr/local/linux/miniforge-3.12/lib/python3.12/importlib/__init__.py:90\u001b[0m, in \u001b[0;36mimport_module\u001b[0;34m(name, package)\u001b[0m\n\u001b[1;32m     88\u001b[0m             \u001b[38;5;28;01mbreak\u001b[39;00m\n\u001b[1;32m     89\u001b[0m         level \u001b[38;5;241m+\u001b[39m\u001b[38;5;241m=\u001b[39m \u001b[38;5;241m1\u001b[39m\n\u001b[0;32m---> 90\u001b[0m \u001b[38;5;28;01mreturn\u001b[39;00m \u001b[43m_bootstrap\u001b[49m\u001b[38;5;241;43m.\u001b[39;49m\u001b[43m_gcd_import\u001b[49m\u001b[43m(\u001b[49m\u001b[43mname\u001b[49m\u001b[43m[\u001b[49m\u001b[43mlevel\u001b[49m\u001b[43m:\u001b[49m\u001b[43m]\u001b[49m\u001b[43m,\u001b[49m\u001b[43m \u001b[49m\u001b[43mpackage\u001b[49m\u001b[43m,\u001b[49m\u001b[43m \u001b[49m\u001b[43mlevel\u001b[49m\u001b[43m)\u001b[49m\n",
      "File \u001b[0;32m~/.local/lib/python3.12/site-packages/transformers/models/__init__.py:15\u001b[0m\n\u001b[1;32m      1\u001b[0m \u001b[38;5;66;03m# Copyright 2020 The HuggingFace Team. All rights reserved.\u001b[39;00m\n\u001b[1;32m      2\u001b[0m \u001b[38;5;66;03m#\u001b[39;00m\n\u001b[1;32m      3\u001b[0m \u001b[38;5;66;03m# Licensed under the Apache License, Version 2.0 (the \"License\");\u001b[39;00m\n\u001b[0;32m   (...)\u001b[0m\n\u001b[1;32m     12\u001b[0m \u001b[38;5;66;03m# See the License for the specific language governing permissions and\u001b[39;00m\n\u001b[1;32m     13\u001b[0m \u001b[38;5;66;03m# limitations under the License.\u001b[39;00m\n\u001b[0;32m---> 15\u001b[0m \u001b[38;5;28;01mfrom\u001b[39;00m \u001b[38;5;21;01m.\u001b[39;00m \u001b[38;5;28;01mimport\u001b[39;00m (\n\u001b[1;32m     16\u001b[0m     albert,\n\u001b[1;32m     17\u001b[0m     align,\n\u001b[1;32m     18\u001b[0m     altclip,\n\u001b[1;32m     19\u001b[0m     audio_spectrogram_transformer,\n\u001b[1;32m     20\u001b[0m     auto,\n\u001b[1;32m     21\u001b[0m     autoformer,\n\u001b[1;32m     22\u001b[0m     bark,\n\u001b[1;32m     23\u001b[0m     bart,\n\u001b[1;32m     24\u001b[0m     barthez,\n\u001b[1;32m     25\u001b[0m     bartpho,\n\u001b[1;32m     26\u001b[0m     beit,\n\u001b[1;32m     27\u001b[0m     bert,\n\u001b[1;32m     28\u001b[0m     bert_generation,\n\u001b[1;32m     29\u001b[0m     bert_japanese,\n\u001b[1;32m     30\u001b[0m     bertweet,\n\u001b[1;32m     31\u001b[0m     big_bird,\n\u001b[1;32m     32\u001b[0m     bigbird_pegasus,\n\u001b[1;32m     33\u001b[0m     biogpt,\n\u001b[1;32m     34\u001b[0m     bit,\n\u001b[1;32m     35\u001b[0m     blenderbot,\n\u001b[1;32m     36\u001b[0m     blenderbot_small,\n\u001b[1;32m     37\u001b[0m     blip,\n\u001b[1;32m     38\u001b[0m     blip_2,\n\u001b[1;32m     39\u001b[0m     bloom,\n\u001b[1;32m     40\u001b[0m     bridgetower,\n\u001b[1;32m     41\u001b[0m     bros,\n\u001b[1;32m     42\u001b[0m     byt5,\n\u001b[1;32m     43\u001b[0m     camembert,\n\u001b[1;32m     44\u001b[0m     canine,\n\u001b[1;32m     45\u001b[0m     chameleon,\n\u001b[1;32m     46\u001b[0m     chinese_clip,\n\u001b[1;32m     47\u001b[0m     clap,\n\u001b[1;32m     48\u001b[0m     clip,\n\u001b[1;32m     49\u001b[0m     clipseg,\n\u001b[1;32m     50\u001b[0m     clvp,\n\u001b[1;32m     51\u001b[0m     code_llama,\n\u001b[1;32m     52\u001b[0m     codegen,\n\u001b[1;32m     53\u001b[0m     cohere,\n\u001b[1;32m     54\u001b[0m     conditional_detr,\n\u001b[1;32m     55\u001b[0m     convbert,\n\u001b[1;32m     56\u001b[0m     convnext,\n\u001b[1;32m     57\u001b[0m     convnextv2,\n\u001b[1;32m     58\u001b[0m     cpm,\n\u001b[1;32m     59\u001b[0m     cpmant,\n\u001b[1;32m     60\u001b[0m     ctrl,\n\u001b[1;32m     61\u001b[0m     cvt,\n\u001b[1;32m     62\u001b[0m     data2vec,\n\u001b[1;32m     63\u001b[0m     dbrx,\n\u001b[1;32m     64\u001b[0m     deberta,\n\u001b[1;32m     65\u001b[0m     deberta_v2,\n\u001b[1;32m     66\u001b[0m     decision_transformer,\n\u001b[1;32m     67\u001b[0m     deformable_detr,\n\u001b[1;32m     68\u001b[0m     deit,\n\u001b[1;32m     69\u001b[0m     deprecated,\n\u001b[1;32m     70\u001b[0m     depth_anything,\n\u001b[1;32m     71\u001b[0m     detr,\n\u001b[1;32m     72\u001b[0m     dialogpt,\n\u001b[1;32m     73\u001b[0m     dinat,\n\u001b[1;32m     74\u001b[0m     dinov2,\n\u001b[1;32m     75\u001b[0m     distilbert,\n\u001b[1;32m     76\u001b[0m     dit,\n\u001b[1;32m     77\u001b[0m     donut,\n\u001b[1;32m     78\u001b[0m     dpr,\n\u001b[1;32m     79\u001b[0m     dpt,\n\u001b[1;32m     80\u001b[0m     efficientnet,\n\u001b[1;32m     81\u001b[0m     electra,\n\u001b[1;32m     82\u001b[0m     encodec,\n\u001b[1;32m     83\u001b[0m     encoder_decoder,\n\u001b[1;32m     84\u001b[0m     ernie,\n\u001b[1;32m     85\u001b[0m     esm,\n\u001b[1;32m     86\u001b[0m     falcon,\n\u001b[1;32m     87\u001b[0m     fastspeech2_conformer,\n\u001b[1;32m     88\u001b[0m     flaubert,\n\u001b[1;32m     89\u001b[0m     flava,\n\u001b[1;32m     90\u001b[0m     fnet,\n\u001b[1;32m     91\u001b[0m     focalnet,\n\u001b[1;32m     92\u001b[0m     fsmt,\n\u001b[1;32m     93\u001b[0m     funnel,\n\u001b[1;32m     94\u001b[0m     fuyu,\n\u001b[1;32m     95\u001b[0m     gemma,\n\u001b[1;32m     96\u001b[0m     gemma2,\n\u001b[1;32m     97\u001b[0m     git,\n\u001b[1;32m     98\u001b[0m     glpn,\n\u001b[1;32m     99\u001b[0m     gpt2,\n\u001b[1;32m    100\u001b[0m     gpt_bigcode,\n\u001b[1;32m    101\u001b[0m     gpt_neo,\n\u001b[1;32m    102\u001b[0m     gpt_neox,\n\u001b[1;32m    103\u001b[0m     gpt_neox_japanese,\n\u001b[1;32m    104\u001b[0m     gpt_sw3,\n\u001b[1;32m    105\u001b[0m     gptj,\n\u001b[1;32m    106\u001b[0m     grounding_dino,\n\u001b[1;32m    107\u001b[0m     groupvit,\n\u001b[1;32m    108\u001b[0m     herbert,\n\u001b[1;32m    109\u001b[0m     hiera,\n\u001b[1;32m    110\u001b[0m     hubert,\n\u001b[1;32m    111\u001b[0m     ibert,\n\u001b[1;32m    112\u001b[0m     idefics,\n\u001b[1;32m    113\u001b[0m     idefics2,\n\u001b[1;32m    114\u001b[0m     imagegpt,\n\u001b[1;32m    115\u001b[0m     informer,\n\u001b[1;32m    116\u001b[0m     instructblip,\n\u001b[1;32m    117\u001b[0m     instructblipvideo,\n\u001b[1;32m    118\u001b[0m     jamba,\n\u001b[1;32m    119\u001b[0m     jetmoe,\n\u001b[1;32m    120\u001b[0m     kosmos2,\n\u001b[1;32m    121\u001b[0m     layoutlm,\n\u001b[1;32m    122\u001b[0m     layoutlmv2,\n\u001b[1;32m    123\u001b[0m     layoutlmv3,\n\u001b[1;32m    124\u001b[0m     layoutxlm,\n\u001b[1;32m    125\u001b[0m     led,\n\u001b[1;32m    126\u001b[0m     levit,\n\u001b[1;32m    127\u001b[0m     lilt,\n\u001b[1;32m    128\u001b[0m     llama,\n\u001b[1;32m    129\u001b[0m     llava,\n\u001b[1;32m    130\u001b[0m     llava_next,\n\u001b[1;32m    131\u001b[0m     llava_next_video,\n\u001b[1;32m    132\u001b[0m     longformer,\n\u001b[1;32m    133\u001b[0m     longt5,\n\u001b[1;32m    134\u001b[0m     luke,\n\u001b[1;32m    135\u001b[0m     lxmert,\n\u001b[1;32m    136\u001b[0m     m2m_100,\n\u001b[1;32m    137\u001b[0m     mamba,\n\u001b[1;32m    138\u001b[0m     mamba2,\n\u001b[1;32m    139\u001b[0m     marian,\n\u001b[1;32m    140\u001b[0m     markuplm,\n\u001b[1;32m    141\u001b[0m     mask2former,\n\u001b[1;32m    142\u001b[0m     maskformer,\n\u001b[1;32m    143\u001b[0m     mbart,\n\u001b[1;32m    144\u001b[0m     mbart50,\n\u001b[1;32m    145\u001b[0m     megatron_bert,\n\u001b[1;32m    146\u001b[0m     megatron_gpt2,\n\u001b[1;32m    147\u001b[0m     mgp_str,\n\u001b[1;32m    148\u001b[0m     mistral,\n\u001b[1;32m    149\u001b[0m     mixtral,\n\u001b[1;32m    150\u001b[0m     mluke,\n\u001b[1;32m    151\u001b[0m     mobilebert,\n\u001b[1;32m    152\u001b[0m     mobilenet_v1,\n\u001b[1;32m    153\u001b[0m     mobilenet_v2,\n\u001b[1;32m    154\u001b[0m     mobilevit,\n\u001b[1;32m    155\u001b[0m     mobilevitv2,\n\u001b[1;32m    156\u001b[0m     mpnet,\n\u001b[1;32m    157\u001b[0m     mpt,\n\u001b[1;32m    158\u001b[0m     mra,\n\u001b[1;32m    159\u001b[0m     mt5,\n\u001b[1;32m    160\u001b[0m     musicgen,\n\u001b[1;32m    161\u001b[0m     musicgen_melody,\n\u001b[1;32m    162\u001b[0m     mvp,\n\u001b[1;32m    163\u001b[0m     nemotron,\n\u001b[1;32m    164\u001b[0m     nllb,\n\u001b[1;32m    165\u001b[0m     nllb_moe,\n\u001b[1;32m    166\u001b[0m     nougat,\n\u001b[1;32m    167\u001b[0m     nystromformer,\n\u001b[1;32m    168\u001b[0m     olmo,\n\u001b[1;32m    169\u001b[0m     oneformer,\n\u001b[1;32m    170\u001b[0m     openai,\n\u001b[1;32m    171\u001b[0m     opt,\n\u001b[1;32m    172\u001b[0m     owlv2,\n\u001b[1;32m    173\u001b[0m     owlvit,\n\u001b[1;32m    174\u001b[0m     paligemma,\n\u001b[1;32m    175\u001b[0m     patchtsmixer,\n\u001b[1;32m    176\u001b[0m     patchtst,\n\u001b[1;32m    177\u001b[0m     pegasus,\n\u001b[1;32m    178\u001b[0m     pegasus_x,\n\u001b[1;32m    179\u001b[0m     perceiver,\n\u001b[1;32m    180\u001b[0m     persimmon,\n\u001b[1;32m    181\u001b[0m     phi,\n\u001b[1;32m    182\u001b[0m     phi3,\n\u001b[1;32m    183\u001b[0m     phobert,\n\u001b[1;32m    184\u001b[0m     pix2struct,\n\u001b[1;32m    185\u001b[0m     plbart,\n\u001b[1;32m    186\u001b[0m     poolformer,\n\u001b[1;32m    187\u001b[0m     pop2piano,\n\u001b[1;32m    188\u001b[0m     prophetnet,\n\u001b[1;32m    189\u001b[0m     pvt,\n\u001b[1;32m    190\u001b[0m     pvt_v2,\n\u001b[1;32m    191\u001b[0m     qwen2,\n\u001b[1;32m    192\u001b[0m     qwen2_moe,\n\u001b[1;32m    193\u001b[0m     rag,\n\u001b[1;32m    194\u001b[0m     recurrent_gemma,\n\u001b[1;32m    195\u001b[0m     reformer,\n\u001b[1;32m    196\u001b[0m     regnet,\n\u001b[1;32m    197\u001b[0m     rembert,\n\u001b[1;32m    198\u001b[0m     resnet,\n\u001b[1;32m    199\u001b[0m     roberta,\n\u001b[1;32m    200\u001b[0m     roberta_prelayernorm,\n\u001b[1;32m    201\u001b[0m     roc_bert,\n\u001b[1;32m    202\u001b[0m     roformer,\n\u001b[1;32m    203\u001b[0m     rt_detr,\n\u001b[1;32m    204\u001b[0m     rwkv,\n\u001b[1;32m    205\u001b[0m     sam,\n\u001b[1;32m    206\u001b[0m     seamless_m4t,\n\u001b[1;32m    207\u001b[0m     seamless_m4t_v2,\n\u001b[1;32m    208\u001b[0m     segformer,\n\u001b[1;32m    209\u001b[0m     seggpt,\n\u001b[1;32m    210\u001b[0m     sew,\n\u001b[1;32m    211\u001b[0m     sew_d,\n\u001b[1;32m    212\u001b[0m     siglip,\n\u001b[1;32m    213\u001b[0m     speech_encoder_decoder,\n\u001b[1;32m    214\u001b[0m     speech_to_text,\n\u001b[1;32m    215\u001b[0m     speecht5,\n\u001b[1;32m    216\u001b[0m     splinter,\n\u001b[1;32m    217\u001b[0m     squeezebert,\n\u001b[1;32m    218\u001b[0m     stablelm,\n\u001b[1;32m    219\u001b[0m     starcoder2,\n\u001b[1;32m    220\u001b[0m     superpoint,\n\u001b[1;32m    221\u001b[0m     swiftformer,\n\u001b[1;32m    222\u001b[0m     swin,\n\u001b[1;32m    223\u001b[0m     swin2sr,\n\u001b[1;32m    224\u001b[0m     swinv2,\n\u001b[1;32m    225\u001b[0m     switch_transformers,\n\u001b[1;32m    226\u001b[0m     t5,\n\u001b[1;32m    227\u001b[0m     table_transformer,\n\u001b[1;32m    228\u001b[0m     tapas,\n\u001b[1;32m    229\u001b[0m     time_series_transformer,\n\u001b[1;32m    230\u001b[0m     timesformer,\n\u001b[1;32m    231\u001b[0m     timm_backbone,\n\u001b[1;32m    232\u001b[0m     trocr,\n\u001b[1;32m    233\u001b[0m     tvp,\n\u001b[1;32m    234\u001b[0m     udop,\n\u001b[1;32m    235\u001b[0m     umt5,\n\u001b[1;32m    236\u001b[0m     unispeech,\n\u001b[1;32m    237\u001b[0m     unispeech_sat,\n\u001b[1;32m    238\u001b[0m     univnet,\n\u001b[1;32m    239\u001b[0m     upernet,\n\u001b[1;32m    240\u001b[0m     video_llava,\n\u001b[1;32m    241\u001b[0m     videomae,\n\u001b[1;32m    242\u001b[0m     vilt,\n\u001b[1;32m    243\u001b[0m     vipllava,\n\u001b[1;32m    244\u001b[0m     vision_encoder_decoder,\n\u001b[1;32m    245\u001b[0m     vision_text_dual_encoder,\n\u001b[1;32m    246\u001b[0m     visual_bert,\n\u001b[1;32m    247\u001b[0m     vit,\n\u001b[1;32m    248\u001b[0m     vit_mae,\n\u001b[1;32m    249\u001b[0m     vit_msn,\n\u001b[1;32m    250\u001b[0m     vitdet,\n\u001b[1;32m    251\u001b[0m     vitmatte,\n\u001b[1;32m    252\u001b[0m     vits,\n\u001b[1;32m    253\u001b[0m     vivit,\n\u001b[1;32m    254\u001b[0m     wav2vec2,\n\u001b[1;32m    255\u001b[0m     wav2vec2_bert,\n\u001b[1;32m    256\u001b[0m     wav2vec2_conformer,\n\u001b[1;32m    257\u001b[0m     wav2vec2_phoneme,\n\u001b[1;32m    258\u001b[0m     wav2vec2_with_lm,\n\u001b[1;32m    259\u001b[0m     wavlm,\n\u001b[1;32m    260\u001b[0m     whisper,\n\u001b[1;32m    261\u001b[0m     x_clip,\n\u001b[1;32m    262\u001b[0m     xglm,\n\u001b[1;32m    263\u001b[0m     xlm,\n\u001b[1;32m    264\u001b[0m     xlm_roberta,\n\u001b[1;32m    265\u001b[0m     xlm_roberta_xl,\n\u001b[1;32m    266\u001b[0m     xlnet,\n\u001b[1;32m    267\u001b[0m     xmod,\n\u001b[1;32m    268\u001b[0m     yolos,\n\u001b[1;32m    269\u001b[0m     yoso,\n\u001b[1;32m    270\u001b[0m     zoedepth,\n\u001b[1;32m    271\u001b[0m )\n",
      "File \u001b[0;32m<frozen importlib._bootstrap>:1360\u001b[0m, in \u001b[0;36m_find_and_load\u001b[0;34m(name, import_)\u001b[0m\n",
      "File \u001b[0;32m<frozen importlib._bootstrap>:1331\u001b[0m, in \u001b[0;36m_find_and_load_unlocked\u001b[0;34m(name, import_)\u001b[0m\n",
      "File \u001b[0;32m<frozen importlib._bootstrap>:935\u001b[0m, in \u001b[0;36m_load_unlocked\u001b[0;34m(spec)\u001b[0m\n",
      "File \u001b[0;32m<frozen importlib._bootstrap_external>:991\u001b[0m, in \u001b[0;36mexec_module\u001b[0;34m(self, module)\u001b[0m\n",
      "File \u001b[0;32m<frozen importlib._bootstrap_external>:1087\u001b[0m, in \u001b[0;36mget_code\u001b[0;34m(self, fullname)\u001b[0m\n",
      "File \u001b[0;32m<frozen importlib._bootstrap_external>:1186\u001b[0m, in \u001b[0;36mget_data\u001b[0;34m(self, path)\u001b[0m\n",
      "\u001b[0;31mKeyboardInterrupt\u001b[0m: "
     ]
    }
   ],
   "source": [
    "# This is for if we're trying to execute on a remote JupyterHub, where the pwd is set to the server root, or else I think pwd is set correctly already.\n",
    "# %cd CD_Circuit/\n",
    "\n",
    "import argparse\n",
    "import numpy as np\n",
    "import os\n",
    "import pandas as pd\n",
    "import scipy as sp\n",
    "import sys\n",
    "import torch\n",
    "import torch.nn.functional as F\n",
    "import warnings\n",
    "import random\n",
    "import collections\n",
    "\n",
    "# CD-T Imports\n",
    "import math\n",
    "import tqdm\n",
    "import seaborn as sns\n",
    "import matplotlib.pyplot as plt\n",
    "import pickle\n",
    "import itertools\n",
    "import operator\n",
    "\n",
    "from torch import nn\n",
    "\n",
    "warnings.filterwarnings(\"ignore\")\n",
    "\n",
    "base_dir = os.path.split(os.getcwd())[0]\n",
    "sys.path.append(base_dir)\n",
    "\n",
    "from argparse import Namespace\n",
    "from methods.bag_of_ngrams.processing import cleanReports, cleanSplit, stripChars\n",
    "from pyfunctions.general import extractListFromDic, readJson, combine_token_attn, compute_word_intervals, compare_same\n",
    "from pyfunctions.pathology import extract_synoptic, fixLabelProstateGleason, fixProstateLabels, fixLabel, exclude_labels\n",
    "from pyfunctions.cdt_basic import *\n",
    "from pyfunctions.cdt_source_to_target import *\n",
    "from pyfunctions.ioi_dataset import IOIDataset\n",
    "from sklearn import preprocessing\n",
    "from sklearn.model_selection import train_test_split\n",
    "from torch.utils.data import DataLoader, RandomSampler, SequentialSampler, TensorDataset\n",
    "from transformers import AutoTokenizer, AutoModel\n",
    "from transformers import GPT2Tokenizer, GPT2Model\n",
    "from pyfunctions.wrappers import Node, AblationSet\n",
    "\n",
    "Result = collections.namedtuple('Result', ('ablation_set', 'score'))\n"
   ]
  },
  {
   "cell_type": "markdown",
   "id": "e7651660-7f59-4b59-a574-afecc52dc306",
   "metadata": {
    "tags": [],
    "user_expressions": []
   },
   "source": [
    "## Load Model\n",
    "\n",
    "Note: Unlike with the BERT model + medical dataset objective, it is not necessary to pretrain GPT-2 to perform the IOI dataset.\n",
    "GPT-2-small is already capable of performing IOI; that's part of the point of the Mech Interp in the Wild paper.\n",
    "We only need to examine how it does it."
   ]
  },
  {
   "cell_type": "code",
   "execution_count": null,
   "id": "a520f760",
   "metadata": {
    "tags": []
   },
   "outputs": [],
   "source": [
    "device = 'cuda:0' if torch.cuda.is_available() else 'cpu'\n",
    "torch.autograd.set_grad_enabled(False)\n",
    "# Model code adapted from Callum McDougall's notebook for ARENA on reproducing the IOI paper using TransformerLens.\n",
    "# This makes some sense, since EasyTransformer, the repo/lib released by the IOI guys, was forked from TransformerLens.\n",
    "# In fact, this makes the reproduction a little bit more faithful, since they most likely do certain things such as \n",
    "# \"folding\" LayerNorms to improve their interpretability results, and we are able to do the same by using TransformerLens.\n",
    "# HuggingFace, by contrast, has the most impenetrable docs and tons of outdated APIs and etc.; even their source \n",
    "# code is impossible to traverse, and I gave up on it, thankfully quickly.\n",
    "\n",
    "from transformer_lens import utils, HookedTransformer, ActivationCache\n",
    "model = HookedTransformer.from_pretrained(\"gpt2-small\",\n",
    "                                          center_unembed=True,\n",
    "                                          center_writing_weights=True,\n",
    "                                          fold_ln=False,\n",
    "                                          refactor_factored_attn_matrices=True)\n",
    "                                          "
   ]
  },
  {
   "cell_type": "markdown",
   "id": "a6ffd4d3-5e8f-4587-bb2a-f06b61918c09",
   "metadata": {
    "tags": [],
    "user_expressions": []
   },
   "source": [
    "## Generate mean activations\n",
    "\n",
    "This is not as simple as it sounds; for the IOI paper, for each individual input following a template, they ablate using the mean activations of the \"ABC\" dataset, generated over sentences following the same template."
   ]
  },
  {
   "cell_type": "code",
   "execution_count": null,
   "id": "9ab88048",
   "metadata": {
    "tags": []
   },
   "outputs": [],
   "source": [
    "from pyfunctions.ioi_dataset import IOIDataset\n",
    "\n",
    "# Generate a dataset all consisting of one template, randomly chosen.\n",
    "# nb_templates = 2 due to some logic internal to IOIDataset:\n",
    "# essentially, the nouns can be an ABBA or ABAB order and that counts as separate templates.\n",
    "ioi_dataset = IOIDataset(prompt_type=\"mixed\", N=50, tokenizer=model.tokenizer, prepend_bos=False, nb_templates=2)\n",
    "\n",
    "# This is the P_ABC that is mentioned in the IOI paper, which we use for mean ablation.\n",
    "# Importantly, passing in prompt_type=\"ABC\" or similar is NOT the same thing as this.\n",
    "abc_dataset = (\n",
    "    ioi_dataset.gen_flipped_prompts((\"IO\", \"RAND\"))\n",
    "    .gen_flipped_prompts((\"S\", \"RAND\"))\n",
    "    .gen_flipped_prompts((\"S1\", \"RAND\"))\n",
    ")\n",
    "\n",
    "logits, cache = model.run_with_cache(abc_dataset.toks) # run on entire dataset along batch dimension\n",
    "\n",
    "attention_outputs = [cache['blocks.' + str(i) + '.attn.hook_z'] for i in range(12)]\n",
    "attention_outputs = torch.stack(attention_outputs, dim=1) # now batch, layer, seq, n_heads, dim_attn\n",
    "mean_acts = torch.mean(attention_outputs, dim=0)\n",
    "old_shape = mean_acts.shape\n",
    "last_dim = old_shape[-2] * old_shape[-1]\n",
    "new_shape = old_shape[:-2] + (last_dim,)\n",
    "mean_acts = mean_acts.view(new_shape)\n",
    "mean_acts.shape"
   ]
  },
  {
   "cell_type": "code",
   "execution_count": null,
   "id": "86c32de5",
   "metadata": {
    "tags": []
   },
   "outputs": [],
   "source": [
    "\n",
    "# source_list = [Node(0, 0, 0), Node(1, 1, 1)]\n",
    "# target_nodes = [(7, 0, 1)]\n",
    "\n",
    "text = ioi_dataset.sentences[0]\n",
    "encoding = model.tokenizer.encode_plus(text, \n",
    "                                 add_special_tokens=True, \n",
    "                                 max_length=512,\n",
    "                                 truncation=True, \n",
    "                                 padding = \"longest\", \n",
    "                                 return_attention_mask=True, \n",
    "                                 return_tensors=\"pt\").to(device)\n",
    "encoding_idxs, attention_mask = encoding.input_ids, encoding.attention_mask\n",
    "input_shape = encoding_idxs.size()\n",
    "extended_attention_mask = get_extended_attention_mask(attention_mask, \n",
    "                                                        input_shape, \n",
    "                                                        model,\n",
    "                                                        device)\n",
    "# out_decomps, target_decomps, _ = prop_GPT(encoding_idxs, extended_attention_mask, model, source_list, target_nodes, mean_acts=mean_acts, set_irrel_to_mean=True, device=device)"
   ]
  },
  {
   "cell_type": "markdown",
   "id": "851670c7-28fd-447a-a9d8-16b8c87b1ac4",
   "metadata": {
    "user_expressions": []
   },
   "source": [
    "## Algorithm A (the one found in the current paper)"
   ]
  },
  {
   "cell_type": "markdown",
   "id": "e758995f-1b99-4ed8-aeaa-0612767fa13e",
   "metadata": {
    "tags": [],
    "user_expressions": []
   },
   "source": [
    "### Run on last sequence position specifically"
   ]
  },
  {
   "cell_type": "code",
   "execution_count": 6,
   "id": "bb4c809f",
   "metadata": {
    "tags": []
   },
   "outputs": [
    {
     "name": "stdout",
     "output_type": "stream",
     "text": [
      "Running inputs 0 to 64 (of 144)\n",
      "Running inputs 64 to 128 (of 144)\n",
      "Running inputs 128 to 144 (of 144)\n"
     ]
    }
   ],
   "source": [
    "import functools\n",
    "ranges = [\n",
    "        [layer for layer in range(12)],\n",
    "        [input_shape[1] - 2],\n",
    "        # [sequence_position for sequence_position in range(input_shape[1])],\n",
    "        [attention_head_idx for attention_head_idx in range(12)]\n",
    "    ]\n",
    "\n",
    "source_nodes = [Node(*x) for x in itertools.product(*ranges)]\n",
    "# ablation_sets = [tuple(n for n in source_nodes)]\n",
    "ablation_sets = [(n,) for n in source_nodes]\n",
    "\n",
    "# print(source_nodes[:64])\n",
    "target_nodes = []\n",
    "# out_decomp, _, _, pre_layer_activations = prop_GPT(encoding_idxs[0:1, :], extended_attention_mask, model, [ablation_sets[0]], target_nodes=target_nodes, device=device, mean_acts=mean_acts, set_irrel_to_mean=False)\n",
    "\n",
    "# cache activations for faster batch run\n",
    "out_decomp, _, _, pre_layer_activations = prop_GPT(encoding_idxs[0:1, :], extended_attention_mask, model, [ablation_sets[0]], target_nodes=target_nodes, device=device, mean_acts=mean_acts, set_irrel_to_mean=False)\n",
    "\n",
    "prop_fn = lambda ablation_list: prop_GPT(encoding_idxs[0:1, :], extended_attention_mask, model, ablation_list, target_nodes=target_nodes, device=device, mean_acts=mean_acts, set_irrel_to_mean=False, cached_pre_layer_acts=pre_layer_activations)\n",
    "out_decomps, target_decomps = batch_run(prop_fn, ablation_sets)"
   ]
  },
  {
   "cell_type": "markdown",
   "id": "6376f5a9-9ae5-487d-9a33-7191e95a14e7",
   "metadata": {
    "tags": [],
    "user_expressions": []
   },
   "source": [
    "### Ablate all heads at once"
   ]
  },
  {
   "cell_type": "code",
   "execution_count": 34,
   "id": "024c7432-ea39-4f90-b0cf-52663a515f3d",
   "metadata": {
    "tags": []
   },
   "outputs": [
    {
     "name": "stdout",
     "output_type": "stream",
     "text": [
      "Running inputs 0 to 64 (of 180)\n",
      "Running inputs 64 to 128 (of 180)\n",
      "Running inputs 128 to 180 (of 180)\n"
     ]
    }
   ],
   "source": [
    "import functools\n",
    "'''\n",
    "ranges = [\n",
    "        [layer for layer in range(12)],\n",
    "        # [input_shape[1] - 2],\n",
    "        [sequence_position for sequence_position in range(input_shape[1])],\n",
    "        [attention_head_idx for attention_head_idx in range(12)]\n",
    "    ]\n",
    "\n",
    "source_nodes = [Node(*x) for x in itertools.product(*ranges)]\n",
    "# ablation_sets = [tuple(n for n in source_nodes)]\n",
    "ablation_sets = [(n,) for n in source_nodes]\n",
    "'''\n",
    "ablation_sets = []\n",
    "for layer in range(12):\n",
    "    for seq_idx in range(15):\n",
    "        ablation_sets.append(tuple(Node(layer, seq_idx, x) for x in range(12)))\n",
    "# print(source_nodes[:64])\n",
    "target_nodes = []\n",
    "# out_decomp, _, _, pre_layer_activations = prop_GPT(encoding_idxs[0:1, :], extended_attention_mask, model, [ablation_sets[0]], target_nodes=target_nodes, device=device, mean_acts=mean_acts, set_irrel_to_mean=False)\n",
    "\n",
    "# cache activations for faster batch run\n",
    "out_decomp, _, _, pre_layer_activations = prop_GPT(encoding_idxs[0:1, :], extended_attention_mask, model, [ablation_sets[0]], target_nodes=target_nodes, device=device, mean_acts=mean_acts, set_irrel_to_mean=False)\n",
    "\n",
    "prop_fn = lambda ablation_list: prop_GPT(encoding_idxs[0:1, :], extended_attention_mask, model, ablation_list, target_nodes=target_nodes, device=device, mean_acts=mean_acts, set_irrel_to_mean=False, cached_pre_layer_acts=pre_layer_activations)\n",
    "out_decomps, target_decomps = batch_run(prop_fn, ablation_sets)"
   ]
  },
  {
   "cell_type": "markdown",
   "id": "17ea7c8f-a673-4b44-b9a9-d8e7615b3ec5",
   "metadata": {
    "tags": [],
    "user_expressions": []
   },
   "source": [
    "### Do the normal thing and ablate at all individual spots"
   ]
  },
  {
   "cell_type": "code",
   "execution_count": null,
   "id": "a53f4466-63c4-41e5-85dc-cec4da4dadac",
   "metadata": {},
   "outputs": [],
   "source": []
  },
  {
   "cell_type": "code",
   "execution_count": 6,
   "id": "7d2e4613-362f-480e-95fb-4f353ac3a845",
   "metadata": {
    "tags": []
   },
   "outputs": [
    {
     "name": "stdout",
     "output_type": "stream",
     "text": [
      "running input 0\n",
      "running input 1600\n"
     ]
    }
   ],
   "source": [
    "import functools\n",
    "\n",
    "ranges = [\n",
    "        [layer for layer in range(12)],\n",
    "        [sequence_position for sequence_position in range(input_shape[1])],\n",
    "        [attention_head_idx for attention_head_idx in range(12)]\n",
    "    ]\n",
    "\n",
    "source_nodes = [Node(*x) for x in itertools.product(*ranges)]\n",
    "ablation_sets = [(n,) for n in source_nodes]\n",
    "\n",
    "target_nodes = []\n",
    "\n",
    "# cache activations for faster batch run\n",
    "out_decomp, _, _, pre_layer_activations = prop_GPT(encoding_idxs[0:1, :], extended_attention_mask, model, [ablation_sets[0]], target_nodes=target_nodes, device=device, mean_acts=mean_acts, set_irrel_to_mean=True)\n",
    "\n",
    "prop_fn = lambda ablation_list: prop_GPT(encoding_idxs[0:1, :], extended_attention_mask, model, ablation_list, target_nodes=target_nodes, device=device, mean_acts=mean_acts, set_irrel_to_mean=True, cached_pre_layer_acts=pre_layer_activations)\n",
    "out_decomps, target_decomps = batch_run(prop_fn, ablation_sets)"
   ]
  },
  {
   "cell_type": "code",
   "execution_count": 1,
   "id": "62b6f2e3-76e4-4f71-8f57-a87e6cbea335",
   "metadata": {
    "tags": []
   },
   "outputs": [],
   "source": [
    "def compute_logits_decomposition_scores(out_decomps):\n",
    "    logits = (out_decomps[0].rel + out_decomps[0].irrel) # 1, seq_len, 50257=d_vocab\n",
    "    io_logit = logits[0, -2, ioi_dataset.io_tokenIDs[0]]\n",
    "    s_logit = logits[0, -2, ioi_dataset.s_tokenIDs[0]]\n",
    "    full_score = np.abs(io_logit - s_logit)\n",
    "    assert(full_score > 0) # this needs to be replaced with a check higher in the pipeline; GPT2 succeeds at this like 99%+ of the time but not always\n",
    "\n",
    "    results = []\n",
    "    \n",
    "    for decomp in out_decomps:\n",
    "        rel_io_logit = decomp.rel[0, -2, ioi_dataset.io_tokenIDs[0]]\n",
    "        rel_s_logit = decomp.rel[0, -2, ioi_dataset.s_tokenIDs[0]]\n",
    "        score = rel_io_logit - rel_s_logit\n",
    "        norm_score = score / full_score\n",
    "        # predicted_probs = torch.nn.functional.softmax(torch.Tensor(decomp.rel[0][-2])).cpu().numpy()\n",
    "        # score = -np.log(predicted_probs[ioi_dataset.io_tokenIDs[0]]) # KL divergence from one-hot distribution\n",
    "        results.append(Result(decomp.ablation_set, score))\n",
    "    results.sort(key=operator.attrgetter('score'), reverse=True)\n",
    "    return results"
   ]
  },
  {
   "cell_type": "code",
   "execution_count": 2,
   "id": "ca897ab1-f348-4a6e-a43a-96f0fc30c0ca",
   "metadata": {},
   "outputs": [
    {
     "ename": "NameError",
     "evalue": "name 'out_decomps' is not defined",
     "output_type": "error",
     "traceback": [
      "\u001b[0;31m---------------------------------------------------------------------------\u001b[0m",
      "\u001b[0;31mNameError\u001b[0m                                 Traceback (most recent call last)",
      "Cell \u001b[0;32mIn[2], line 1\u001b[0m\n\u001b[0;32m----> 1\u001b[0m results \u001b[38;5;241m=\u001b[39m compute_logits_decomposition_scores(\u001b[43mout_decomps\u001b[49m)\n\u001b[1;32m      3\u001b[0m \u001b[38;5;28;01mfor\u001b[39;00m result \u001b[38;5;129;01min\u001b[39;00m results[:\u001b[38;5;241m10\u001b[39m]:\n\u001b[1;32m      4\u001b[0m     \u001b[38;5;28mprint\u001b[39m(result)\n",
      "\u001b[0;31mNameError\u001b[0m: name 'out_decomps' is not defined"
     ]
    }
   ],
   "source": [
    "results = compute_logits_decomposition_scores(out_decomps)\n",
    "\n",
    "for result in results[:10]:\n",
    "    print(result)"
   ]
  },
  {
   "cell_type": "code",
   "execution_count": 115,
   "id": "f4401803-697d-4dc3-8212-fd99658257a5",
   "metadata": {
    "collapsed": true,
    "jupyter": {
     "outputs_hidden": true
    },
    "tags": []
   },
   "outputs": [
    {
     "name": "stdout",
     "output_type": "stream",
     "text": [
      "Node(layer_idx=8, sequence_idx=14, attn_head_idx=6) 0.12152111\n",
      "Node(layer_idx=8, sequence_idx=14, attn_head_idx=10) 0.0822009\n",
      "Node(layer_idx=7, sequence_idx=14, attn_head_idx=9) 0.07783296\n",
      "Node(layer_idx=8, sequence_idx=4, attn_head_idx=10) 0.07362208\n",
      "Node(layer_idx=7, sequence_idx=4, attn_head_idx=3) 0.071159504\n",
      "Node(layer_idx=7, sequence_idx=3, attn_head_idx=3) 0.07108998\n",
      "Node(layer_idx=7, sequence_idx=4, attn_head_idx=9) 0.06943682\n",
      "Node(layer_idx=7, sequence_idx=3, attn_head_idx=9) 0.06770895\n",
      "Node(layer_idx=7, sequence_idx=1, attn_head_idx=9) 0.06574008\n",
      "Node(layer_idx=8, sequence_idx=4, attn_head_idx=6) 0.06536073\n",
      "Node(layer_idx=7, sequence_idx=1, attn_head_idx=3) 0.06427851\n",
      "Node(layer_idx=7, sequence_idx=2, attn_head_idx=9) 0.0599772\n",
      "Node(layer_idx=7, sequence_idx=2, attn_head_idx=3) 0.057893638\n",
      "Node(layer_idx=8, sequence_idx=2, attn_head_idx=10) 0.057380237\n",
      "Node(layer_idx=8, sequence_idx=9, attn_head_idx=10) 0.0559245\n",
      "Node(layer_idx=8, sequence_idx=2, attn_head_idx=6) 0.055904876\n",
      "Node(layer_idx=8, sequence_idx=9, attn_head_idx=6) 0.05554507\n",
      "Node(layer_idx=8, sequence_idx=3, attn_head_idx=10) 0.055238955\n",
      "Node(layer_idx=7, sequence_idx=9, attn_head_idx=9) 0.05293593\n",
      "Node(layer_idx=7, sequence_idx=14, attn_head_idx=3) 0.051339425\n",
      "Node(layer_idx=8, sequence_idx=3, attn_head_idx=6) 0.04840822\n",
      "Node(layer_idx=7, sequence_idx=9, attn_head_idx=3) 0.046866648\n",
      "Node(layer_idx=7, sequence_idx=0, attn_head_idx=3) 0.04618334\n",
      "Node(layer_idx=7, sequence_idx=11, attn_head_idx=9) 0.045930613\n",
      "Node(layer_idx=8, sequence_idx=11, attn_head_idx=10) 0.045326427\n",
      "Node(layer_idx=7, sequence_idx=11, attn_head_idx=3) 0.04518606\n",
      "Node(layer_idx=7, sequence_idx=10, attn_head_idx=3) 0.044725828\n",
      "Node(layer_idx=8, sequence_idx=11, attn_head_idx=6) 0.043644518\n",
      "Node(layer_idx=7, sequence_idx=5, attn_head_idx=3) 0.042973924\n",
      "Node(layer_idx=7, sequence_idx=7, attn_head_idx=9) 0.04256318\n",
      "Node(layer_idx=7, sequence_idx=7, attn_head_idx=3) 0.042094387\n",
      "Node(layer_idx=7, sequence_idx=6, attn_head_idx=3) 0.038879924\n",
      "Node(layer_idx=7, sequence_idx=6, attn_head_idx=9) 0.037446495\n",
      "Node(layer_idx=8, sequence_idx=10, attn_head_idx=6) 0.03675412\n",
      "Node(layer_idx=8, sequence_idx=6, attn_head_idx=10) 0.034736432\n",
      "Node(layer_idx=8, sequence_idx=7, attn_head_idx=10) 0.03429487\n",
      "Node(layer_idx=8, sequence_idx=0, attn_head_idx=10) 0.03385796\n",
      "Node(layer_idx=8, sequence_idx=1, attn_head_idx=6) 0.03225233\n",
      "Node(layer_idx=8, sequence_idx=1, attn_head_idx=10) 0.031825617\n",
      "Node(layer_idx=8, sequence_idx=8, attn_head_idx=6) 0.031171506\n",
      "Node(layer_idx=8, sequence_idx=0, attn_head_idx=6) 0.029102717\n",
      "Node(layer_idx=8, sequence_idx=10, attn_head_idx=10) 0.028458526\n",
      "Node(layer_idx=8, sequence_idx=5, attn_head_idx=10) 0.028269619\n",
      "Node(layer_idx=7, sequence_idx=0, attn_head_idx=9) 0.023748085\n",
      "Node(layer_idx=7, sequence_idx=10, attn_head_idx=9) 0.021111524\n",
      "Node(layer_idx=8, sequence_idx=8, attn_head_idx=10) 0.017978825\n",
      "Node(layer_idx=7, sequence_idx=8, attn_head_idx=3) 0.017961964\n",
      "Node(layer_idx=8, sequence_idx=5, attn_head_idx=6) 0.017358523\n",
      "Node(layer_idx=7, sequence_idx=8, attn_head_idx=9) 0.01682583\n",
      "Node(layer_idx=8, sequence_idx=6, attn_head_idx=6) 0.0133941285\n",
      "Node(layer_idx=7, sequence_idx=13, attn_head_idx=3) 0.0130641535\n",
      "Node(layer_idx=7, sequence_idx=5, attn_head_idx=9) 0.013008005\n",
      "Node(layer_idx=7, sequence_idx=13, attn_head_idx=9) 0.012716658\n",
      "Node(layer_idx=7, sequence_idx=12, attn_head_idx=3) 0.011983796\n",
      "Node(layer_idx=8, sequence_idx=7, attn_head_idx=6) 0.011983144\n",
      "Node(layer_idx=7, sequence_idx=12, attn_head_idx=9) 0.010926103\n",
      "Node(layer_idx=8, sequence_idx=13, attn_head_idx=10) 0.009415353\n",
      "Node(layer_idx=8, sequence_idx=13, attn_head_idx=6) 0.0072015882\n",
      "Node(layer_idx=8, sequence_idx=12, attn_head_idx=10) 0.0069930064\n",
      "Node(layer_idx=8, sequence_idx=12, attn_head_idx=6) 0.0061120763\n",
      "Node(layer_idx=7, sequence_idx=15, attn_head_idx=3) 0.0\n",
      "Node(layer_idx=7, sequence_idx=15, attn_head_idx=9) 0.0\n",
      "Node(layer_idx=8, sequence_idx=15, attn_head_idx=6) 0.0\n",
      "Node(layer_idx=8, sequence_idx=15, attn_head_idx=10) 0.0\n"
     ]
    }
   ],
   "source": [
    "'''\n",
    "for result in results[:20]:\n",
    "    print(result.ablation_set[0], result.score)\n",
    "'''\n",
    "'''\n",
    "for result in results:\n",
    "    if result.ablation_set[0].layer_idx == 9 and result.ablation_set[0].attn_head_idx == 9:\n",
    "        print(result.ablation_set[0], result.score)\n",
    "'''\n",
    "for result in results:\n",
    "    if result.ablation_set[0].layer_idx == 7 and result.ablation_set[0].attn_head_idx == 9 or \\\n",
    "        result.ablation_set[0].layer_idx == 7 and result.ablation_set[0].attn_head_idx == 3 or \\\n",
    "        result.ablation_set[0].layer_idx == 8 and result.ablation_set[0].attn_head_idx == 6 or \\\n",
    "        result.ablation_set[0].layer_idx == 8 and result.ablation_set[0].attn_head_idx == 10:\n",
    "            print(result.ablation_set[0], result.score)\n"
   ]
  },
  {
   "cell_type": "code",
   "execution_count": 119,
   "id": "08ce1ab7-79e2-4c79-9ef9-09b75249e5dd",
   "metadata": {
    "collapsed": true,
    "jupyter": {
     "outputs_hidden": true
    },
    "tags": []
   },
   "outputs": [
    {
     "name": "stdout",
     "output_type": "stream",
     "text": [
      "0.03560574 0.05491805\n"
     ]
    }
   ],
   "source": [
    "scores = [r.score for r in results if r.score > 0]\n",
    "std_dev = np.std(scores)\n",
    "mean = np.mean(scores)\n",
    "print(std_dev, mean)"
   ]
  },
  {
   "cell_type": "code",
   "execution_count": 116,
   "id": "ce463474-bb7b-42c5-84bc-8fac38699c14",
   "metadata": {
    "collapsed": true,
    "jupyter": {
     "outputs_hidden": true
    },
    "tags": []
   },
   "outputs": [
    {
     "data": {
      "text/plain": [
       "Text(0.5, 0, 'Contribution')"
      ]
     },
     "execution_count": 116,
     "metadata": {},
     "output_type": "execute_result"
    },
    {
     "data": {
      "image/png": "[encoded data removed]",
      "text/plain": [
       "<Figure size 640x480 with 1 Axes>"
      ]
     },
     "metadata": {},
     "output_type": "display_data"
    }
   ],
   "source": [
    "import matplotlib.pyplot as plt\n",
    "import numpy as np\n",
    "%matplotlib inline\n",
    "\n",
    "scores = [result.score for result in results]\n",
    "np.random.seed(42)\n",
    "\n",
    "plt.hist(scores, density=False, bins=192)\n",
    "plt.ylabel('Example Count')\n",
    "plt.xlabel('Contribution')"
   ]
  },
  {
   "cell_type": "code",
   "execution_count": 116,
   "id": "c7f07b99-40b1-4563-bbce-478cc6307baa",
   "metadata": {
    "collapsed": true,
    "jupyter": {
     "outputs_hidden": true
    },
    "tags": []
   },
   "outputs": [
    {
     "data": {
      "text/plain": [
       "Text(0.5, 0, 'Contribution')"
      ]
     },
     "execution_count": 116,
     "metadata": {},
     "output_type": "execute_result"
    },
    {
     "data": {
      "image/png": "[encoded data removed]",
      "text/plain": [
       "<Figure size 640x480 with 1 Axes>"
      ]
     },
     "metadata": {},
     "output_type": "display_data"
    }
   ],
   "source": [
    "import matplotlib.pyplot as plt\n",
    "import numpy as np\n",
    "%matplotlib inline\n",
    "\n",
    "scores = [result.score for result in results]\n",
    "np.random.seed(42)\n",
    "\n",
    "plt.hist(scores, density=False, bins=192)\n",
    "plt.ylabel('Example Count')\n",
    "plt.xlabel('Contribution')"
   ]
  },
  {
   "cell_type": "code",
   "execution_count": 23,
   "id": "26ff1e97-c772-4063-8b4c-e9705185498e",
   "metadata": {
    "tags": []
   },
   "outputs": [],
   "source": [
    "import bisect\n",
    "def interquartile_range(results, iqr_multiplier=1):\n",
    "    # assume sorted in increasing order\n",
    "    third_quartile = results[int(len(results) * 0.75)].score\n",
    "    first_quartile = results[int(len(results) * 0.25)].score\n",
    "    IQR = third_quartile - first_quartile\n",
    "    outlier_score = third_quartile + iqr_multiplier * IQR\n",
    "    print(third_quartile, first_quartile, outlier_score)\n",
    "\n",
    "    by_score = operator.attrgetter('score')\n",
    "    outliers = results[bisect.bisect(results, outlier_score, key=by_score):]\n",
    "    return outliers\n",
    "\n",
    "def n_sigma_rule(results, n=3):\n",
    "    scores = [r.score for r in results]\n",
    "    std_dev = np.std(scores)\n",
    "    mean = np.mean(scores)\n",
    "    outlier_score = mean + std_dev * n\n",
    "    print(std_dev, mean, outlier_score)\n",
    "    by_score = operator.attrgetter('score')\n",
    "    outliers = results[bisect.bisect(results, outlier_score, key=by_score):] #bisect does a binary search, returns idx of outlier_score\n",
    "    return outliers\n",
    "\n",
    "\n"
   ]
  },
  {
   "cell_type": "code",
   "execution_count": 27,
   "id": "92ef27aa-343c-42ce-8a25-0af8f4418e22",
   "metadata": {
    "collapsed": true,
    "jupyter": {
     "outputs_hidden": true
    },
    "tags": []
   },
   "outputs": [
    {
     "name": "stdout",
     "output_type": "stream",
     "text": [
      "11498.65576171875\n",
      "12060.0\n",
      "882.81982421875\n",
      "1212.0\n"
     ]
    }
   ],
   "source": [
    "print(torch.cuda.memory_allocated(0)/1024/1024)\n",
    "print(torch.cuda.memory_reserved(0)/1024/1024)\n",
    "import gc\n",
    "gc.collect()\n",
    "\n",
    "torch.cuda.empty_cache()\n",
    "print(torch.cuda.memory_allocated(0)/1024/1024)\n",
    "print(torch.cuda.memory_reserved(0)/1024/1024)\n",
    "\n"
   ]
  },
  {
   "cell_type": "code",
   "execution_count": 19,
   "id": "600b77bd-5aa7-4a6c-b0d9-35194fb8dffd",
   "metadata": {
    "tags": []
   },
   "outputs": [],
   "source": [
    "# ioi_dataset.word_idx"
   ]
  },
  {
   "cell_type": "code",
   "execution_count": null,
   "id": "50aa79dc-7214-4d32-99d0-601f732975db",
   "metadata": {
    "collapsed": true,
    "jupyter": {
     "outputs_hidden": true
    },
    "tags": []
   },
   "outputs": [
    {
     "name": "stdout",
     "output_type": "stream",
     "text": [
      "torch.Size([12, 16, 12, 64])\n",
      "torch.Size([1, 64])\n"
     ]
    }
   ],
   "source": [
    "mean_acts_per_head = mean_acts.view(old_shape)\n",
    "print(mean_acts_per_head.shape)\n",
    "print(target_decomps[0].rels[0].shape)"
   ]
  },
  {
   "cell_type": "code",
   "execution_count": 41,
   "id": "7ef834df-fb0e-445a-bb34-01727ae9624c",
   "metadata": {
    "tags": []
   },
   "outputs": [],
   "source": [
    "\n"
   ]
  },
  {
   "cell_type": "code",
   "execution_count": null,
   "id": "2c8fb521-d084-45e3-9f09-04cfc01eaec5",
   "metadata": {},
   "outputs": [
    {
     "data": {
      "text/plain": [
       "torch.Size([64])"
      ]
     },
     "execution_count": 93,
     "metadata": {},
     "output_type": "execute_result"
    }
   ],
   "source": [
    "ioi_logits, ioi_cache = model.run_with_cache(ioi_dataset.toks) # run on entire dataset along batch dimension\n",
    "\n",
    "ioi_cache['blocks.' + '0' + '.attn.hook_z'][0][0][0].shape"
   ]
  },
  {
   "cell_type": "code",
   "execution_count": null,
   "id": "a726588c-4b64-4824-9780-43a0a713b1fe",
   "metadata": {
    "collapsed": true,
    "jupyter": {
     "outputs_hidden": true
    },
    "tags": []
   },
   "outputs": [
    {
     "name": "stdout",
     "output_type": "stream",
     "text": [
      "Node(layer_idx=7, sequence_idx=2, attn_head_idx=3) tensor(2.8631, device='cuda:0')\n",
      "Node(layer_idx=7, sequence_idx=2, attn_head_idx=9) tensor(2.5057, device='cuda:0')\n",
      "Node(layer_idx=8, sequence_idx=2, attn_head_idx=10) tensor(2.3456, device='cuda:0')\n",
      "Node(layer_idx=7, sequence_idx=3, attn_head_idx=3) tensor(2.1374, device='cuda:0')\n",
      "Node(layer_idx=8, sequence_idx=14, attn_head_idx=6) tensor(2.0232, device='cuda:0')\n",
      "Node(layer_idx=7, sequence_idx=14, attn_head_idx=9) tensor(1.5772, device='cuda:0')\n",
      "Node(layer_idx=8, sequence_idx=10, attn_head_idx=10) tensor(1.5526, device='cuda:0')\n",
      "Node(layer_idx=8, sequence_idx=14, attn_head_idx=10) tensor(1.4639, device='cuda:0')\n",
      "Node(layer_idx=7, sequence_idx=3, attn_head_idx=9) tensor(1.2003, device='cuda:0')\n",
      "Node(layer_idx=8, sequence_idx=2, attn_head_idx=6) tensor(1.1704, device='cuda:0')\n",
      "Node(layer_idx=8, sequence_idx=10, attn_head_idx=6) tensor(1.1144, device='cuda:0')\n",
      "Node(layer_idx=7, sequence_idx=11, attn_head_idx=9) tensor(0.9955, device='cuda:0')\n",
      "Node(layer_idx=7, sequence_idx=9, attn_head_idx=9) tensor(0.9087, device='cuda:0')\n",
      "Node(layer_idx=7, sequence_idx=1, attn_head_idx=3) tensor(0.9014, device='cuda:0')\n",
      "Node(layer_idx=7, sequence_idx=4, attn_head_idx=3) tensor(0.8035, device='cuda:0')\n",
      "Node(layer_idx=7, sequence_idx=1, attn_head_idx=9) tensor(0.8001, device='cuda:0')\n",
      "Node(layer_idx=8, sequence_idx=5, attn_head_idx=10) tensor(0.7452, device='cuda:0')\n",
      "Node(layer_idx=7, sequence_idx=14, attn_head_idx=3) tensor(0.6968, device='cuda:0')\n",
      "Node(layer_idx=8, sequence_idx=4, attn_head_idx=10) tensor(0.6146, device='cuda:0')\n",
      "Node(layer_idx=7, sequence_idx=11, attn_head_idx=3) tensor(0.6018, device='cuda:0')\n",
      "Node(layer_idx=7, sequence_idx=10, attn_head_idx=9) tensor(0.6002, device='cuda:0')\n",
      "Node(layer_idx=7, sequence_idx=6, attn_head_idx=3) tensor(0.5847, device='cuda:0')\n",
      "Node(layer_idx=8, sequence_idx=6, attn_head_idx=10) tensor(0.5632, device='cuda:0')\n",
      "Node(layer_idx=7, sequence_idx=7, attn_head_idx=3) tensor(0.5181, device='cuda:0')\n",
      "Node(layer_idx=7, sequence_idx=5, attn_head_idx=3) tensor(0.5171, device='cuda:0')\n",
      "Node(layer_idx=7, sequence_idx=6, attn_head_idx=9) tensor(0.5040, device='cuda:0')\n",
      "Node(layer_idx=7, sequence_idx=4, attn_head_idx=9) tensor(0.4911, device='cuda:0')\n",
      "Node(layer_idx=7, sequence_idx=10, attn_head_idx=3) tensor(0.4827, device='cuda:0')\n",
      "Node(layer_idx=8, sequence_idx=4, attn_head_idx=6) tensor(0.4606, device='cuda:0')\n",
      "Node(layer_idx=7, sequence_idx=7, attn_head_idx=9) tensor(0.4386, device='cuda:0')\n",
      "Node(layer_idx=7, sequence_idx=5, attn_head_idx=9) tensor(0.3821, device='cuda:0')\n",
      "Node(layer_idx=8, sequence_idx=11, attn_head_idx=6) tensor(0.3639, device='cuda:0')\n",
      "Node(layer_idx=8, sequence_idx=6, attn_head_idx=6) tensor(0.3592, device='cuda:0')\n",
      "Node(layer_idx=7, sequence_idx=13, attn_head_idx=9) tensor(0.2922, device='cuda:0')\n",
      "Node(layer_idx=7, sequence_idx=9, attn_head_idx=3) tensor(0.2882, device='cuda:0')\n",
      "Node(layer_idx=7, sequence_idx=12, attn_head_idx=9) tensor(0.2731, device='cuda:0')\n",
      "Node(layer_idx=8, sequence_idx=7, attn_head_idx=10) tensor(0.2642, device='cuda:0')\n",
      "Node(layer_idx=7, sequence_idx=8, attn_head_idx=3) tensor(0.2243, device='cuda:0')\n",
      "Node(layer_idx=7, sequence_idx=13, attn_head_idx=3) tensor(0.2014, device='cuda:0')\n",
      "Node(layer_idx=8, sequence_idx=11, attn_head_idx=10) tensor(0.1696, device='cuda:0')\n",
      "Node(layer_idx=8, sequence_idx=9, attn_head_idx=6) tensor(0.1240, device='cuda:0')\n",
      "Node(layer_idx=8, sequence_idx=12, attn_head_idx=10) tensor(0.1199, device='cuda:0')\n",
      "Node(layer_idx=8, sequence_idx=5, attn_head_idx=6) tensor(0.1156, device='cuda:0')\n",
      "Node(layer_idx=8, sequence_idx=13, attn_head_idx=6) tensor(0.1136, device='cuda:0')\n",
      "Node(layer_idx=7, sequence_idx=8, attn_head_idx=9) tensor(0.0754, device='cuda:0')\n",
      "Node(layer_idx=8, sequence_idx=1, attn_head_idx=10) tensor(0.0434, device='cuda:0')\n",
      "Node(layer_idx=8, sequence_idx=12, attn_head_idx=6) tensor(0.0395, device='cuda:0')\n",
      "Node(layer_idx=8, sequence_idx=7, attn_head_idx=6) tensor(0.0146, device='cuda:0')\n",
      "Node(layer_idx=7, sequence_idx=0, attn_head_idx=9) tensor(0.0125, device='cuda:0')\n",
      "Node(layer_idx=8, sequence_idx=3, attn_head_idx=10) tensor(0.0039, device='cuda:0')\n",
      "Node(layer_idx=7, sequence_idx=15, attn_head_idx=3) tensor(0., device='cuda:0')\n",
      "Node(layer_idx=7, sequence_idx=15, attn_head_idx=9) tensor(0., device='cuda:0')\n",
      "Node(layer_idx=8, sequence_idx=15, attn_head_idx=6) tensor(0., device='cuda:0')\n",
      "Node(layer_idx=8, sequence_idx=15, attn_head_idx=10) tensor(0., device='cuda:0')\n",
      "Node(layer_idx=7, sequence_idx=12, attn_head_idx=3) tensor(-0.0045, device='cuda:0')\n",
      "Node(layer_idx=7, sequence_idx=0, attn_head_idx=3) tensor(-0.0047, device='cuda:0')\n",
      "Node(layer_idx=8, sequence_idx=0, attn_head_idx=6) tensor(-0.0170, device='cuda:0')\n",
      "Node(layer_idx=8, sequence_idx=0, attn_head_idx=10) tensor(-0.0289, device='cuda:0')\n",
      "Node(layer_idx=8, sequence_idx=8, attn_head_idx=10) tensor(-0.0747, device='cuda:0')\n",
      "Node(layer_idx=8, sequence_idx=1, attn_head_idx=6) tensor(-0.0801, device='cuda:0')\n",
      "Node(layer_idx=8, sequence_idx=13, attn_head_idx=10) tensor(-0.0818, device='cuda:0')\n",
      "Node(layer_idx=8, sequence_idx=9, attn_head_idx=10) tensor(-0.1042, device='cuda:0')\n",
      "Node(layer_idx=8, sequence_idx=8, attn_head_idx=6) tensor(-0.1684, device='cuda:0')\n",
      "Node(layer_idx=8, sequence_idx=3, attn_head_idx=6) tensor(-0.9836, device='cuda:0')\n"
     ]
    }
   ],
   "source": [
    "results.sort(key=operator.attrgetter('score'), reverse=True)\n",
    "results[:50]\n",
    "for result in results:\n",
    "    if result.ablation_set[0].layer_idx == 7 and result.ablation_set[0].attn_head_idx == 9 or \\\n",
    "        result.ablation_set[0].layer_idx == 7 and result.ablation_set[0].attn_head_idx == 3 or \\\n",
    "        result.ablation_set[0].layer_idx == 8 and result.ablation_set[0].attn_head_idx == 6 or \\\n",
    "        result.ablation_set[0].layer_idx == 8 and result.ablation_set[0].attn_head_idx == 10:\n",
    "        print(result.ablation_set[0], result.score)\n"
   ]
  },
  {
   "cell_type": "code",
   "execution_count": 20,
   "id": "5fb15008-7d61-4bfd-b0e4-7126bd08951a",
   "metadata": {
    "tags": []
   },
   "outputs": [],
   "source": [
    "outliers_per_iter = []\n",
    "results_per_iter = [results]"
   ]
  },
  {
   "cell_type": "code",
   "execution_count": 23,
   "id": "b2653251-9d90-4115-a531-476e42f741db",
   "metadata": {
    "tags": []
   },
   "outputs": [],
   "source": [
    "outliers = results[:2]"
   ]
  },
  {
   "cell_type": "code",
   "execution_count": 82,
   "id": "b66c9215-27fd-42ca-8a1a-584bf5a24cb9",
   "metadata": {
    "tags": []
   },
   "outputs": [],
   "source": [
    "outliers = results[:2] # hardcoded first few N\n",
    "outliers_per_iter.append(outliers)"
   ]
  },
  {
   "cell_type": "code",
   "execution_count": 77,
   "id": "32b2b05c-eee7-4a95-aef5-126b082ec550",
   "metadata": {
    "tags": []
   },
   "outputs": [
    {
     "name": "stdout",
     "output_type": "stream",
     "text": [
      "[Node(layer_idx=1, sequence_idx=3, attn_head_idx=7), Node(layer_idx=1, sequence_idx=3, attn_head_idx=10)]\n",
      "Running inputs 0 to 64 (of 2304)\n",
      "Running inputs 64 to 128 (of 2304)\n",
      "Running inputs 128 to 192 (of 2304)\n",
      "Running inputs 192 to 256 (of 2304)\n",
      "Running inputs 256 to 320 (of 2304)\n",
      "Running inputs 320 to 384 (of 2304)\n",
      "Running inputs 384 to 448 (of 2304)\n",
      "Running inputs 448 to 512 (of 2304)\n",
      "Running inputs 512 to 576 (of 2304)\n",
      "Running inputs 576 to 640 (of 2304)\n",
      "Running inputs 640 to 704 (of 2304)\n",
      "Running inputs 704 to 768 (of 2304)\n",
      "Running inputs 768 to 832 (of 2304)\n",
      "Running inputs 832 to 896 (of 2304)\n",
      "Running inputs 896 to 960 (of 2304)\n",
      "Running inputs 960 to 1024 (of 2304)\n",
      "Running inputs 1024 to 1088 (of 2304)\n",
      "Running inputs 1088 to 1152 (of 2304)\n",
      "Running inputs 1152 to 1216 (of 2304)\n",
      "Running inputs 1216 to 1280 (of 2304)\n",
      "Running inputs 1280 to 1344 (of 2304)\n",
      "Running inputs 1344 to 1408 (of 2304)\n",
      "Running inputs 1408 to 1472 (of 2304)\n",
      "Running inputs 1472 to 1536 (of 2304)\n",
      "Running inputs 1536 to 1600 (of 2304)\n",
      "Running inputs 1600 to 1664 (of 2304)\n",
      "Running inputs 1664 to 1728 (of 2304)\n",
      "Running inputs 1728 to 1792 (of 2304)\n",
      "Running inputs 1792 to 1856 (of 2304)\n",
      "Running inputs 1856 to 1920 (of 2304)\n",
      "Running inputs 1920 to 1984 (of 2304)\n",
      "Running inputs 1984 to 2048 (of 2304)\n",
      "Running inputs 2048 to 2112 (of 2304)\n",
      "Running inputs 2112 to 2176 (of 2304)\n",
      "Running inputs 2176 to 2240 (of 2304)\n",
      "Running inputs 2240 to 2304 (of 2304)\n"
     ]
    }
   ],
   "source": [
    "# Now, find maximally relevant source nodes to target nodes\n",
    "\n",
    "# TODO: this needs to be put in a loop to implement the \"actual\" algorithm, currently it's just for analysis\n",
    "# results.sort(key=operator.attrgetter('score'), reverse=False)|\n",
    "# iqr = interquartile_range(results)\n",
    "# print(len(iqr))\n",
    "# outliers = n_sigma_rule(results, n=0.5)\n",
    "# print(len(outliers))\n",
    "\n",
    "# results.sort(key=operator.attrgetter('score'), reverse=True)\n",
    "outliers = results[:2] # hardcoded first few N\n",
    "outliers_per_iter.append(outliers)\n",
    "target_nodes = [r.ablation_set[0] for r in outliers] # here we assume that we only ever tried to ablate one node at once\n",
    "print(target_nodes)\n",
    "ranges = [\n",
    "        [layer for layer in range(12)],\n",
    "        [sequence_position for sequence_position in range(16)],\n",
    "        # [ioi_dataset.word_idx['IO'][0]],\n",
    "        [attention_head_idx for attention_head_idx in range(12)]\n",
    "    ]\n",
    "\n",
    "source_nodes = [Node(*x) for x in itertools.product(*ranges)]\n",
    "ablation_sets = [(n,) for n in source_nodes]\n",
    "\n",
    "_, _, _, pre_layer_activations = prop_GPT(encoding_idxs[0:1, :], extended_attention_mask, model, [ablation_sets[0]], target_nodes=target_nodes, device=device, mean_acts=mean_acts, set_irrel_to_mean=True)\n",
    "\n",
    "prop_fn = lambda ablation_list: prop_GPT(encoding_idxs[0:1, :], extended_attention_mask, model, ablation_list, target_nodes=target_nodes, device=device, mean_acts=mean_acts, set_irrel_to_mean=True, cached_pre_layer_acts=pre_layer_activations)\n",
    "out_decomps, target_decomps = batch_run(prop_fn, ablation_sets)"
   ]
  },
  {
   "cell_type": "code",
   "execution_count": 14,
   "id": "8ebab7b5-5f80-40b6-98f1-bccf4a16274a",
   "metadata": {
    "tags": []
   },
   "outputs": [],
   "source": [
    "def calculate_target_decomposition_scores(target_decomps, method=\"l1\", mean_acts=None, attn_cache=None):\n",
    "    results = []\n",
    "    # for target_decomp in target_decomps:\n",
    "\n",
    "    # this is just the same as what we did on BERT, seems like we take the ratio of the l1 norm of rel to l1 norm of irrel, summed over target nodes\n",
    "    # other ideas to try:\n",
    "    # normalize mean relevance by layer # does get rid of the \"early layers thing\", but many nodes are about as relevant as the ones identified by IOI\n",
    "    # try a better target decomposition metric: for example, dot product with the rel of the previous iter (which makes more sense)? # actually made the results worse?\n",
    "    # try some measure of indirect conections rather than just direct connections\n",
    "    relevances = np.zeros((12, 16, 12))\n",
    "    for layer in range(12):\n",
    "        for sequence_position in range(16):\n",
    "            for attention_head_idx in range(12):\n",
    "                idx = layer * 16 * 12 + sequence_position * 12 + attention_head_idx\n",
    "                target_decomp = target_decomps[idx]\n",
    "                if target_decomp.ablation_set[0] in target_nodes:\n",
    "                    continue\n",
    "                score = 0\n",
    "                for i in range(len(target_decomp.target_nodes)):\n",
    "                    if method == 'l1':\n",
    "                        rels_magnitude = torch.mean(abs(target_decomp.rels[i])) # np.mean if you are on cpu\n",
    "                        irrels_magnitude = torch.mean(abs(target_decomp.irrels[i])) # np.mean if you are on cpu\n",
    "                        target_node_score = rels_magnitude / (rels_magnitude + irrels_magnitude)\n",
    "                        score += target_node_score\n",
    "                    if method == 'dot':\n",
    "                        target_node = target_decomp.target_nodes[i]\n",
    "                        # this method is only implemented for a single datapoint\n",
    "                        if mean_acts is None or attn_cache is None:\n",
    "                            print(\"Invalid target decomposition score calculation\") # and then this is going to crash anyway\n",
    "                        target_mean_act = mean_acts[target_node.layer_idx, target_node.sequence_idx, target_node.attn_head_idx]\n",
    "                        target_rel = attn_cache['blocks.' + str(target_node.layer_idx) + '.attn.hook_z'][0][target_node.sequence_idx][target_node.attn_head_idx] - target_mean_act \n",
    "                        rel = target_decomp.rels[i][0]\n",
    "                        #print(target_rel.shape, rel.shape)\n",
    "                        score += torch.dot(rel, target_rel)\n",
    "                relevances[layer, sequence_position, attention_head_idx] = score\n",
    "\n",
    "\n",
    "    sums_per_layer = np.sum(relevances, axis=(1, 2))\n",
    "    sums_per_layer[sums_per_layer == 0] = -1e-8\n",
    "    normalized_relevances = relevances / np.expand_dims(sums_per_layer, (1, 2))\n",
    "\n",
    "    num_layers = 12\n",
    "    seq_len = 16\n",
    "    num_attention_heads = 12\n",
    "    for layer_idx in range(num_layers):\n",
    "        for seq_pos in range(seq_len):\n",
    "            for head_idx in range(num_attention_heads):\n",
    "                target_decomp = target_decomps[layer_idx * seq_len * num_attention_heads + seq_pos * num_attention_heads + head_idx]\n",
    "                results.append(Result(target_decomp.ablation_set, normalized_relevances[layer_idx, seq_pos, head_idx]))\n",
    "\n",
    "    results.sort(key=operator.attrgetter('score'), reverse=True)\n",
    "    return results"
   ]
  },
  {
   "cell_type": "code",
   "execution_count": 79,
   "id": "bfc2e598-fe82-4e3f-b901-f61176417a72",
   "metadata": {
    "tags": []
   },
   "outputs": [],
   "source": [
    "results_per_iter.append(results)"
   ]
  },
  {
   "cell_type": "code",
   "execution_count": 83,
   "id": "ecd696fa-86b4-4ba3-862f-9be581d67a0f",
   "metadata": {
    "tags": []
   },
   "outputs": [
    {
     "data": {
      "text/plain": [
       "[[Result(ablation_set=(Node(layer_idx=8, sequence_idx=14, attn_head_idx=6),), score=0.03813974573802492),\n",
       "  Result(ablation_set=(Node(layer_idx=8, sequence_idx=11, attn_head_idx=6),), score=0.034177570085989574)],\n",
       " [Result(ablation_set=(Node(layer_idx=8, sequence_idx=14, attn_head_idx=6),), score=0.03813974573802492),\n",
       "  Result(ablation_set=(Node(layer_idx=8, sequence_idx=11, attn_head_idx=6),), score=0.034177570085989574)],\n",
       " [Result(ablation_set=(Node(layer_idx=9, sequence_idx=14, attn_head_idx=9),), score=0.87486565),\n",
       "  Result(ablation_set=(Node(layer_idx=9, sequence_idx=14, attn_head_idx=6),), score=0.37573943)],\n",
       " [Result(ablation_set=(Node(layer_idx=8, sequence_idx=14, attn_head_idx=6),), score=0.03813974573802492),\n",
       "  Result(ablation_set=(Node(layer_idx=8, sequence_idx=11, attn_head_idx=6),), score=0.034177570085989574)],\n",
       " [Result(ablation_set=(Node(layer_idx=5, sequence_idx=10, attn_head_idx=5),), score=0.02986675545961833),\n",
       "  Result(ablation_set=(Node(layer_idx=7, sequence_idx=11, attn_head_idx=9),), score=0.02952390684446772)],\n",
       " [Result(ablation_set=(Node(layer_idx=6, sequence_idx=10, attn_head_idx=9),), score=0.04139306313448273),\n",
       "  Result(ablation_set=(Node(layer_idx=6, sequence_idx=11, attn_head_idx=0),), score=0.03349508347071345)],\n",
       " [Result(ablation_set=(Node(layer_idx=5, sequence_idx=10, attn_head_idx=5),), score=0.11361695632022674),\n",
       "  Result(ablation_set=(Node(layer_idx=5, sequence_idx=10, attn_head_idx=9),), score=0.05332546980497713)],\n",
       " [Result(ablation_set=(Node(layer_idx=3, sequence_idx=10, attn_head_idx=0),), score=0.038520373769848806),\n",
       "  Result(ablation_set=(Node(layer_idx=4, sequence_idx=5, attn_head_idx=11),), score=0.02788752213108418)],\n",
       " [Result(ablation_set=(Node(layer_idx=3, sequence_idx=5, attn_head_idx=7),), score=0.05608457333323692),\n",
       "  Result(ablation_set=(Node(layer_idx=3, sequence_idx=3, attn_head_idx=6),), score=0.05386950067347974)],\n",
       " [Result(ablation_set=(Node(layer_idx=2, sequence_idx=3, attn_head_idx=2),), score=0.10140302955641779),\n",
       "  Result(ablation_set=(Node(layer_idx=2, sequence_idx=3, attn_head_idx=9),), score=0.05820936329902795)],\n",
       " [Result(ablation_set=(Node(layer_idx=1, sequence_idx=3, attn_head_idx=7),), score=0.081322716382124),\n",
       "  Result(ablation_set=(Node(layer_idx=1, sequence_idx=3, attn_head_idx=10),), score=0.06703445480573866)],\n",
       " [Result(ablation_set=(Node(layer_idx=0, sequence_idx=2, attn_head_idx=1),), score=0.08746183454945368),\n",
       "  Result(ablation_set=(Node(layer_idx=0, sequence_idx=2, attn_head_idx=4),), score=0.07542276779756175)]]"
      ]
     },
     "execution_count": 83,
     "metadata": {},
     "output_type": "execute_result"
    }
   ],
   "source": [
    "outliers_per_iter"
   ]
  },
  {
   "cell_type": "code",
   "execution_count": 81,
   "id": "587a4627-5729-4810-aaad-5445007a9869",
   "metadata": {
    "tags": []
   },
   "outputs": [
    {
     "name": "stdout",
     "output_type": "stream",
     "text": [
      "Result(ablation_set=(Node(layer_idx=0, sequence_idx=2, attn_head_idx=1),), score=0.08746183454945368)\n",
      "Result(ablation_set=(Node(layer_idx=0, sequence_idx=2, attn_head_idx=4),), score=0.07542276779756175)\n",
      "Result(ablation_set=(Node(layer_idx=0, sequence_idx=3, attn_head_idx=6),), score=0.07055409286121249)\n",
      "Result(ablation_set=(Node(layer_idx=0, sequence_idx=2, attn_head_idx=5),), score=0.06713339385727347)\n",
      "Result(ablation_set=(Node(layer_idx=0, sequence_idx=2, attn_head_idx=3),), score=0.05414199889043761)\n",
      "Result(ablation_set=(Node(layer_idx=0, sequence_idx=3, attn_head_idx=7),), score=0.049619719961781564)\n",
      "Result(ablation_set=(Node(layer_idx=0, sequence_idx=2, attn_head_idx=6),), score=0.04932286453511382)\n",
      "Result(ablation_set=(Node(layer_idx=0, sequence_idx=2, attn_head_idx=10),), score=0.046369913283579374)\n",
      "Result(ablation_set=(Node(layer_idx=0, sequence_idx=3, attn_head_idx=0),), score=0.042463772022659954)\n",
      "Result(ablation_set=(Node(layer_idx=0, sequence_idx=3, attn_head_idx=4),), score=0.03883541583656693)\n"
     ]
    }
   ],
   "source": [
    "for result in results[:10]:\n",
    "    print(result)"
   ]
  },
  {
   "cell_type": "code",
   "execution_count": 86,
   "id": "15844abd-6da0-491c-b8f3-b58444a0f11f",
   "metadata": {
    "tags": []
   },
   "outputs": [],
   "source": [
    "all_nodes = []\n",
    "for it in outliers_per_iter:\n",
    "    for result in it:\n",
    "        if result.ablation_set[0] not in all_nodes:\n",
    "            all_nodes.append(result.ablation_set[0])\n",
    "        "
   ]
  },
  {
   "cell_type": "code",
   "execution_count": 87,
   "id": "e6b3651f-71b7-4e4a-a8a2-ea39529292e1",
   "metadata": {
    "tags": []
   },
   "outputs": [
    {
     "name": "stdout",
     "output_type": "stream",
     "text": [
      "Node(layer_idx=8, sequence_idx=14, attn_head_idx=6)\n",
      "Node(layer_idx=8, sequence_idx=11, attn_head_idx=6)\n",
      "Node(layer_idx=9, sequence_idx=14, attn_head_idx=9)\n",
      "Node(layer_idx=9, sequence_idx=14, attn_head_idx=6)\n",
      "Node(layer_idx=5, sequence_idx=10, attn_head_idx=5)\n",
      "Node(layer_idx=7, sequence_idx=11, attn_head_idx=9)\n",
      "Node(layer_idx=6, sequence_idx=10, attn_head_idx=9)\n",
      "Node(layer_idx=6, sequence_idx=11, attn_head_idx=0)\n",
      "Node(layer_idx=5, sequence_idx=10, attn_head_idx=9)\n",
      "Node(layer_idx=3, sequence_idx=10, attn_head_idx=0)\n",
      "Node(layer_idx=4, sequence_idx=5, attn_head_idx=11)\n",
      "Node(layer_idx=3, sequence_idx=5, attn_head_idx=7)\n",
      "Node(layer_idx=3, sequence_idx=3, attn_head_idx=6)\n",
      "Node(layer_idx=2, sequence_idx=3, attn_head_idx=2)\n",
      "Node(layer_idx=2, sequence_idx=3, attn_head_idx=9)\n",
      "Node(layer_idx=1, sequence_idx=3, attn_head_idx=7)\n",
      "Node(layer_idx=1, sequence_idx=3, attn_head_idx=10)\n",
      "Node(layer_idx=0, sequence_idx=2, attn_head_idx=1)\n",
      "Node(layer_idx=0, sequence_idx=2, attn_head_idx=4)\n"
     ]
    }
   ],
   "source": []
  },
  {
   "cell_type": "code",
   "execution_count": 89,
   "id": "bbc363b2-7433-4dae-be19-c2e8eed6cc75",
   "metadata": {
    "tags": []
   },
   "outputs": [
    {
     "name": "stdout",
     "output_type": "stream",
     "text": [
      "[Node(layer_idx=8, sequence_idx=14, attn_head_idx=6), Node(layer_idx=8, sequence_idx=11, attn_head_idx=6), Node(layer_idx=9, sequence_idx=14, attn_head_idx=9), Node(layer_idx=9, sequence_idx=14, attn_head_idx=6), Node(layer_idx=5, sequence_idx=10, attn_head_idx=5), Node(layer_idx=7, sequence_idx=11, attn_head_idx=9), Node(layer_idx=6, sequence_idx=10, attn_head_idx=9), Node(layer_idx=6, sequence_idx=11, attn_head_idx=0), Node(layer_idx=5, sequence_idx=10, attn_head_idx=9), Node(layer_idx=3, sequence_idx=10, attn_head_idx=0), Node(layer_idx=4, sequence_idx=5, attn_head_idx=11), Node(layer_idx=3, sequence_idx=5, attn_head_idx=7), Node(layer_idx=3, sequence_idx=3, attn_head_idx=6), Node(layer_idx=2, sequence_idx=3, attn_head_idx=2), Node(layer_idx=2, sequence_idx=3, attn_head_idx=9), Node(layer_idx=1, sequence_idx=3, attn_head_idx=7), Node(layer_idx=1, sequence_idx=3, attn_head_idx=10), Node(layer_idx=0, sequence_idx=2, attn_head_idx=1), Node(layer_idx=0, sequence_idx=2, attn_head_idx=4)]\n"
     ]
    }
   ],
   "source": [
    "print(all_nodes)"
   ]
  },
  {
   "cell_type": "code",
   "execution_count": 103,
   "id": "393967e8-2f0d-4c38-ae0b-cf6a74d1cafb",
   "metadata": {
    "tags": []
   },
   "outputs": [
    {
     "name": "stdout",
     "output_type": "stream",
     "text": [
      "Then, Megan and Ashley went to the restaurant. Megan gave a kiss to Ashley\n"
     ]
    }
   ],
   "source": [
    "print(ioi_dataset.sentences[0])"
   ]
  },
  {
   "cell_type": "code",
   "execution_count": 120,
   "id": "d009fec2-10bf-41c0-93f6-3786a7121aee",
   "metadata": {
    "tags": []
   },
   "outputs": [],
   "source": [
    "import gc\n",
    "gc.collect()\n",
    "torch.cuda.empty_cache()"
   ]
  },
  {
   "cell_type": "markdown",
   "id": "2b0e32e8-925d-4285-b6db-d54e6854a531",
   "metadata": {},
   "source": [
    "## Automatic search\n",
    "\n",
    "This is just a bunch of the above cells put into a neat cell that does the whole experiment in one."
   ]
  },
  {
   "cell_type": "code",
   "execution_count": 104,
   "id": "df1abe1f-c241-4fa8-a367-0c823f9fd5ce",
   "metadata": {
    "tags": []
   },
   "outputs": [],
   "source": [
    "'''\n",
    "ioi_dataset = IOIDataset(N=50, tokenizer=model.tokenizer, prepend_bos=False, prompt_type=[template])\n",
    "abc_dataset = (\n",
    "    ioi_dataset.gen_flipped_prompts((\"IO\", \"RAND\"))\n",
    "    .gen_flipped_prompts((\"S\", \"RAND\"))\n",
    "    .gen_flipped_prompts((\"S1\", \"RAND\"))\n",
    ")\n",
    "'''"
   ]
  },
  {
   "cell_type": "code",
   "execution_count": 52,
   "id": "05babeb3-e7fb-414b-8ad4-0701b77cfd6b",
   "metadata": {
    "tags": []
   },
   "outputs": [
    {
     "name": "stdout",
     "output_type": "stream",
     "text": [
      "sequence length: 16 \n",
      "running input 0\n",
      "running input 1600\n",
      "[Node(layer_idx=9, sequence_idx=14, attn_head_idx=9), Node(layer_idx=10, sequence_idx=14, attn_head_idx=10)]\n",
      "running input 0\n",
      "running input 1600\n",
      "[Node(layer_idx=9, sequence_idx=14, attn_head_idx=6), Node(layer_idx=9, sequence_idx=2, attn_head_idx=6)]\n",
      "running input 0\n",
      "running input 1600\n",
      "[Node(layer_idx=0, sequence_idx=1, attn_head_idx=1), Node(layer_idx=0, sequence_idx=1, attn_head_idx=4)]\n"
     ]
    }
   ],
   "source": [
    "from pyfunctions.ioi_dataset import ABC_TEMPLATES, BAC_TEMPLATES, BABA_TEMPLATES, BABA_LONG_TEMPLATES, BABA_LATE_IOS, BABA_EARLY_IOS, ABBA_TEMPLATES, ABBA_LATE_IOS, ABBA_EARLY_IOS\n",
    "\n",
    "model.reset_hooks(including_permanent=True)\n",
    "\n",
    "NUM_SAMPLES = 1\n",
    "NUM_OUTLIERS_TO_KEEP_PER_ITER = 2\n",
    "template = ABBA_EARLY_IOS[0]\n",
    "ioi_dataset = IOIDataset(N=50, tokenizer=model.tokenizer, prepend_bos=False, prompt_type=[template])\n",
    "\n",
    "# This is the P_ABC that is mentioned in the IOI paper, which we use for mean ablation.\n",
    "# Importantly, passing in prompt_type=\"ABC\" or similar is NOT the same thing as this.\n",
    "abc_dataset = (\n",
    "    ioi_dataset.gen_flipped_prompts((\"IO\", \"RAND\"))\n",
    "    .gen_flipped_prompts((\"S\", \"RAND\"))\n",
    "    .gen_flipped_prompts((\"S1\", \"RAND\"))\n",
    ")\n",
    "ioi_logits, ioi_cache = model.run_with_cache(ioi_dataset.toks) # run on entire dataset along batch dimension\n",
    "logits, cache = model.run_with_cache(abc_dataset.toks) # run on entire dataset along batch dimension\n",
    "\n",
    "attention_outputs = [cache['blocks.' + str(i) + '.attn.hook_z'] for i in range(12)]\n",
    "attention_outputs = torch.stack(attention_outputs, dim=1) # now batch, layer, seq, n_heads, dim_attn\n",
    "mean_acts = torch.mean(attention_outputs, dim=0)\n",
    "old_shape = mean_acts.shape\n",
    "last_dim = old_shape[-2] * old_shape[-1]\n",
    "new_shape = old_shape[:-2] + (last_dim,)\n",
    "mean_acts = mean_acts.view(new_shape)\n",
    "\n",
    "text = ioi_dataset.sentences[0]\n",
    "encoding = model.tokenizer.encode_plus(text, \n",
    "                                 add_special_tokens=True, \n",
    "                                 max_length=512,\n",
    "                                 truncation=True, \n",
    "                                 padding = \"longest\", \n",
    "                                 return_attention_mask=True, \n",
    "                                 return_tensors=\"pt\").to(device)\n",
    "input_shape = encoding.input_ids.size()\n",
    "extended_attention_mask = get_extended_attention_mask(encoding.attention_mask, \n",
    "                                                        input_shape, \n",
    "                                                        model,\n",
    "                                                        device)\n",
    "seq_len = ioi_dataset.toks.shape[1]\n",
    "print('sequence length: %d ' % seq_len)\n",
    "# Calculate relevance to logits\n",
    "ranges = [\n",
    "        [layer for layer in range(12)],\n",
    "        [sequence_position for sequence_position in range(seq_len)],\n",
    "        [attention_head_idx for attention_head_idx in range(12)]\n",
    "    ]\n",
    "\n",
    "source_nodes = [Node(*x) for x in itertools.product(*ranges)]\n",
    "ablation_sets = [(n,) for n in source_nodes]\n",
    "target_nodes = []\n",
    "\n",
    "# cache activations for faster batch run\n",
    "out_decomp, _, _, pre_layer_activations = prop_GPT(ioi_dataset.toks[0:NUM_SAMPLES, :], extended_attention_mask, model, [ablation_sets[0]], target_nodes=target_nodes, device=device, mean_acts=mean_acts, set_irrel_to_mean=True)\n",
    "prop_fn = lambda ablation_list: prop_GPT(ioi_dataset.toks[0:NUM_SAMPLES, :], extended_attention_mask, model, ablation_list, target_nodes=target_nodes, device=device, mean_acts=mean_acts, set_irrel_to_mean=True, cached_pre_layer_acts=pre_layer_activations)\n",
    "out_decomps, _ = batch_run(prop_fn, ablation_sets, num_at_time=(64 // NUM_SAMPLES))\n",
    "results = compute_logits_decomposition_scores(out_decomps)\n",
    "# Now, find maximally relevant source nodes to target nodes\n",
    "\n",
    "outliers_per_iter = []\n",
    "while True:\n",
    "    outliers = results[:NUM_OUTLIERS_TO_KEEP_PER_ITER]\n",
    "    outliers_per_iter.append(outliers)\n",
    "    target_nodes = [r.ablation_set[0] for r in outliers]\n",
    "    print(target_nodes)\n",
    "    should_break = True\n",
    "    for node in target_nodes:\n",
    "        if node.layer_idx != 0:\n",
    "            should_break = False\n",
    "    if should_break:\n",
    "        break\n",
    "    \n",
    "    ranges = [\n",
    "            [layer for layer in range(12)],\n",
    "            [sequence_position for sequence_position in range(seq_len)],\n",
    "            # [ioi_dataset.word_idx['IO'][0]],\n",
    "            [attention_head_idx for attention_head_idx in range(12)]\n",
    "        ]\n",
    "    source_nodes = [Node(*x) for x in itertools.product(*ranges)]\n",
    "    ablation_sets = [(n,) for n in source_nodes]\n",
    "    prop_fn = lambda ablation_list: prop_GPT(ioi_dataset.toks[0:NUM_SAMPLES, :], extended_attention_mask, model, ablation_list, target_nodes=target_nodes, device=device, mean_acts=mean_acts, set_irrel_to_mean=True, cached_pre_layer_acts=pre_layer_activations)\n",
    "    _, target_decomps = batch_run(prop_fn, ablation_sets, num_at_time=(64 // NUM_SAMPLES))\n",
    "    \n",
    "    results = calculate_target_decomposition_scores(target_decomps, method=\"dot\", mean_acts=mean_acts.view(old_shape), attn_cache=ioi_cache)\n"
   ]
  },
  {
   "cell_type": "code",
   "execution_count": 53,
   "id": "15bb0c2f-bef4-4bc3-8f5a-f2177a17e538",
   "metadata": {
    "tags": []
   },
   "outputs": [
    {
     "name": "stdout",
     "output_type": "stream",
     "text": [
      "Node(layer_idx=9, sequence_idx=14, attn_head_idx=9)\n",
      "Node(layer_idx=10, sequence_idx=14, attn_head_idx=10)\n",
      "Node(layer_idx=9, sequence_idx=14, attn_head_idx=6)\n",
      "Node(layer_idx=9, sequence_idx=2, attn_head_idx=6)\n",
      "Node(layer_idx=0, sequence_idx=1, attn_head_idx=1)\n",
      "Node(layer_idx=0, sequence_idx=1, attn_head_idx=4)\n"
     ]
    }
   ],
   "source": [
    "all_nodes = []\n",
    "for it in outliers_per_iter:\n",
    "    for result in it:\n",
    "        if result.ablation_set[0] not in all_nodes:\n",
    "            all_nodes.append(result.ablation_set[0])\n",
    "for node in all_nodes:\n",
    "    print((node))"
   ]
  },
  {
   "cell_type": "code",
   "execution_count": 13,
   "id": "a438ad2b-5fa8-4211-bed6-c0d70f152341",
   "metadata": {
    "tags": []
   },
   "outputs": [
    {
     "name": "stdout",
     "output_type": "stream",
     "text": [
      "Then, Vanessa and Paul went to the house. Vanessa gave a basketball to Paul\n",
      "Then, Jessica and Lindsay went to the school. Jessica gave a snack to Lindsay\n"
     ]
    }
   ],
   "source": [
    "print(ioi_dataset.sentences[0])\n",
    "print(test_ioi_dataset.sentences[0])"
   ]
  },
  {
   "cell_type": "code",
   "execution_count": null,
   "id": "fcb281b2-5c53-4ed4-8fd8-fee3b78ab603",
   "metadata": {},
   "outputs": [],
   "source": [
    "'''\n",
    "ANTI-CIRCUIT for BABA_TEMPLATES[0]: achieves a -1.90 logits difference, i.e, -0.58 faithfulness\n",
    "Node(layer_idx=9, sequence_idx=14, attn_head_idx=9)\n",
    "Node(layer_idx=10, sequence_idx=14, attn_head_idx=6)\n",
    "Node(layer_idx=9, sequence_idx=11, attn_head_idx=6)\n",
    "Node(layer_idx=9, sequence_idx=11, attn_head_idx=9)\n",
    "Node(layer_idx=8, sequence_idx=3, attn_head_idx=10)\n",
    "Node(layer_idx=8, sequence_idx=11, attn_head_idx=10)\n",
    "Node(layer_idx=7, sequence_idx=3, attn_head_idx=9)\n",
    "Node(layer_idx=7, sequence_idx=3, attn_head_idx=3)\n",
    "Node(layer_idx=6, sequence_idx=3, attn_head_idx=4)\n",
    "Node(layer_idx=6, sequence_idx=3, attn_head_idx=1)\n",
    "Node(layer_idx=5, sequence_idx=3, attn_head_idx=10)\n",
    "Node(layer_idx=4, sequence_idx=3, attn_head_idx=3)\n",
    "Node(layer_idx=4, sequence_idx=3, attn_head_idx=11)\n",
    "Node(layer_idx=4, sequence_idx=3, attn_head_idx=4)\n",
    "Node(layer_idx=3, sequence_idx=3, attn_head_idx=6)\n",
    "Node(layer_idx=3, sequence_idx=3, attn_head_idx=7)\n",
    "Node(layer_idx=2, sequence_idx=3, attn_head_idx=2)\n",
    "Node(layer_idx=2, sequence_idx=3, attn_head_idx=9)\n",
    "Node(layer_idx=1, sequence_idx=2, attn_head_idx=6)\n",
    "Node(layer_idx=1, sequence_idx=2, attn_head_idx=7)\n",
    "Node(layer_idx=0, sequence_idx=2, attn_head_idx=4)\n",
    "Node(layer_idx=0, sequence_idx=2, attn_head_idx=1)\n",
    "'''"
   ]
  },
  {
   "cell_type": "code",
   "execution_count": 72,
   "id": "3b526010-d4e4-41b3-9ff2-fe33d832e148",
   "metadata": {
    "tags": []
   },
   "outputs": [],
   "source": [
    "circuit = [Node(layer_idx=8, sequence_idx=14, attn_head_idx=6),\n",
    "           Node(layer_idx=8, sequence_idx=11, attn_head_idx=6),\n",
    "           Node(layer_idx=9, sequence_idx=14, attn_head_idx=9),\n",
    "           Node(layer_idx=9, sequence_idx=14, attn_head_idx=6),\n",
    "           Node(layer_idx=5, sequence_idx=10, attn_head_idx=5),\n",
    "           Node(layer_idx=7, sequence_idx=11, attn_head_idx=9),\n",
    "           Node(layer_idx=6, sequence_idx=10, attn_head_idx=9),\n",
    "           Node(layer_idx=6, sequence_idx=11, attn_head_idx=0),\n",
    "           Node(layer_idx=5, sequence_idx=10, attn_head_idx=9),\n",
    "           Node(layer_idx=3, sequence_idx=10, attn_head_idx=0),\n",
    "           Node(layer_idx=4, sequence_idx=5, attn_head_idx=11),\n",
    "           Node(layer_idx=3, sequence_idx=5, attn_head_idx=7),\n",
    "           Node(layer_idx=3, sequence_idx=3, attn_head_idx=6),\n",
    "           Node(layer_idx=2, sequence_idx=3, attn_head_idx=2),\n",
    "           Node(layer_idx=2, sequence_idx=3, attn_head_idx=9),\n",
    "           Node(layer_idx=1, sequence_idx=3, attn_head_idx=7),\n",
    "           Node(layer_idx=1, sequence_idx=3, attn_head_idx=10),\n",
    "           Node(layer_idx=0, sequence_idx=2, attn_head_idx=1),\n",
    "           Node(layer_idx=0, sequence_idx=2, attn_head_idx=4)]"
   ]
  },
  {
   "cell_type": "code",
   "execution_count": 58,
   "id": "33374a25-c2a8-493e-8480-ecc2274e6ba3",
   "metadata": {
    "tags": []
   },
   "outputs": [],
   "source": [
    "random_circuit = random.sample(source_nodes, 20)"
   ]
  },
  {
   "cell_type": "code",
   "execution_count": 56,
   "id": "e8400c39-b1b5-42bd-8360-911dbdd9f4b1",
   "metadata": {
    "tags": []
   },
   "outputs": [
    {
     "name": "stdout",
     "output_type": "stream",
     "text": [
      "[Node(layer_idx=2, sequence_idx=0, attn_head_idx=4), Node(layer_idx=9, sequence_idx=13, attn_head_idx=6), Node(layer_idx=0, sequence_idx=14, attn_head_idx=2), Node(layer_idx=9, sequence_idx=5, attn_head_idx=8), Node(layer_idx=10, sequence_idx=8, attn_head_idx=4), Node(layer_idx=4, sequence_idx=2, attn_head_idx=2), Node(layer_idx=3, sequence_idx=11, attn_head_idx=9), Node(layer_idx=5, sequence_idx=6, attn_head_idx=11), Node(layer_idx=9, sequence_idx=15, attn_head_idx=8), Node(layer_idx=6, sequence_idx=1, attn_head_idx=6), Node(layer_idx=6, sequence_idx=4, attn_head_idx=10), Node(layer_idx=10, sequence_idx=0, attn_head_idx=11), Node(layer_idx=3, sequence_idx=11, attn_head_idx=1), Node(layer_idx=6, sequence_idx=13, attn_head_idx=0), Node(layer_idx=3, sequence_idx=8, attn_head_idx=2), Node(layer_idx=7, sequence_idx=12, attn_head_idx=7), Node(layer_idx=2, sequence_idx=6, attn_head_idx=7), Node(layer_idx=6, sequence_idx=15, attn_head_idx=7), Node(layer_idx=2, sequence_idx=0, attn_head_idx=2), Node(layer_idx=2, sequence_idx=6, attn_head_idx=9)]\n"
     ]
    }
   ],
   "source": [
    "print(random_circuit)"
   ]
  },
  {
   "cell_type": "code",
   "execution_count": 54,
   "id": "9db57878-aaf0-4ef6-83ad-021902bf9e4c",
   "metadata": {
    "tags": []
   },
   "outputs": [
    {
     "name": "stdout",
     "output_type": "stream",
     "text": [
      "tensor(-1.4686, device='cuda:0')\n"
     ]
    }
   ],
   "source": [
    "from pyfunctions.faithfulness_ablations import logits_to_ave_logit_diff_2, add_mean_ablation_hook\n",
    "'''\n",
    "test_ioi_dataset = IOIDataset(prompt_type=[template], N=10, tokenizer=model.tokenizer, prepend_bos=False)\n",
    "test_abc_dataset = (\n",
    "    test_ioi_dataset.gen_flipped_prompts((\"IO\", \"RAND\"))\n",
    "    .gen_flipped_prompts((\"S\", \"RAND\"))\n",
    "    .gen_flipped_prompts((\"S1\", \"RAND\"))\n",
    ")\n",
    "-2.1718\n",
    "'''\n",
    "circuit = all_nodes\n",
    "\n",
    "model.reset_hooks(including_permanent=True)\n",
    "model = add_mean_ablation_hook(model, means_dataset=test_abc_dataset, circuit=circuit) #, circuit=random_circuit)\n",
    "# model = add_mean_ablation_hook(model, means_dataset=test_abc_dataset)\n",
    "logits, cache = model.run_with_cache(test_ioi_dataset.toks) # run on entire dataset along batch dimension\n",
    "ave_logit_diff = logits_to_ave_logit_diff_2(logits, test_ioi_dataset)\n",
    "print(ave_logit_diff)"
   ]
  },
  {
   "cell_type": "code",
   "execution_count": 55,
   "id": "ea429b1a-516d-4210-a0c7-7278aae0f8cc",
   "metadata": {
    "tags": []
   },
   "outputs": [
    {
     "name": "stdout",
     "output_type": "stream",
     "text": [
      "tentatively improved score to -1.255778   by removing node  Node(layer_idx=10, sequence_idx=14, attn_head_idx=10)\n",
      "removing  Node(layer_idx=10, sequence_idx=14, attn_head_idx=10)  to achieve score of -1.255778\n",
      "tentatively improved score to -1.220982   by removing node  Node(layer_idx=0, sequence_idx=1, attn_head_idx=4)\n",
      "removing  Node(layer_idx=0, sequence_idx=1, attn_head_idx=4)  to achieve score of -1.220982\n",
      "Done\n"
     ]
    }
   ],
   "source": [
    "# speculative: try to generate a better circuit by greedy search\n",
    "\n",
    "NAME_MOVER_HEADS = [Node(9, 14, 9), Node(10, 14, 0), Node(9, 14, 6)]\n",
    "old_circuit = circuit.copy()\n",
    "best_score = -1.4686 # \n",
    "while True:\n",
    "    node_to_remove = None\n",
    "    for idx, node in enumerate(circuit):\n",
    "        if node in NAME_MOVER_HEADS:\n",
    "            continue\n",
    "        new_circuit = circuit.copy()\n",
    "        new_circuit.remove(node)\n",
    "        # print(new_circuit)\n",
    "        model.reset_hooks(including_permanent=True)\n",
    "        model = add_mean_ablation_hook(model, means_dataset=test_abc_dataset, circuit=new_circuit)\n",
    "        logits, cache = model.run_with_cache(test_ioi_dataset.toks) # run on entire dataset along batch dimension\n",
    "        ave_logit_diff = logits_to_ave_logit_diff_2(logits, test_ioi_dataset).cpu().numpy().item()\n",
    "        if ave_logit_diff > best_score:\n",
    "            best_score = ave_logit_diff\n",
    "            node_to_remove = node\n",
    "            print('tentatively improved score to %f ' % best_score, ' by removing node ', node_to_remove)\n",
    "    if node_to_remove is None: \n",
    "        # then we can't improve any further so the algorithm terminates\n",
    "        break\n",
    "    print(\"removing \", node_to_remove, \" to achieve score of %f\" % best_score)\n",
    "    circuit.remove(node_to_remove)\n",
    "print('Done')"
   ]
  },
  {
   "cell_type": "code",
   "execution_count": 19,
   "id": "7de9d9f5-2955-46b7-92bc-9f26308ce450",
   "metadata": {
    "tags": []
   },
   "outputs": [],
   "source": [
    "# note: for the following circuit:\n",
    "'''\n",
    "Node(layer_idx=9, sequence_idx=14, attn_head_idx=9)\n",
    "Node(layer_idx=9, sequence_idx=14, attn_head_idx=6)\n",
    "Node(layer_idx=10, sequence_idx=14, attn_head_idx=0)\n",
    "Node(layer_idx=8, sequence_idx=1, attn_head_idx=11)\n",
    "Node(layer_idx=8, sequence_idx=1, attn_head_idx=10)\n",
    "Node(layer_idx=8, sequence_idx=1, attn_head_idx=2)\n",
    "Node(layer_idx=7, sequence_idx=1, attn_head_idx=1)\n",
    "Node(layer_idx=7, sequence_idx=1, attn_head_idx=4)\n",
    "Node(layer_idx=6, sequence_idx=1, attn_head_idx=4)\n",
    "Node(layer_idx=6, sequence_idx=1, attn_head_idx=0)\n",
    "Node(layer_idx=5, sequence_idx=1, attn_head_idx=10)\n",
    "Node(layer_idx=5, sequence_idx=1, attn_head_idx=2)\n",
    "Node(layer_idx=5, sequence_idx=1, attn_head_idx=3)\n",
    "Node(layer_idx=5, sequence_idx=1, attn_head_idx=6)\n",
    "Node(layer_idx=5, sequence_idx=1, attn_head_idx=9)\n",
    "Node(layer_idx=4, sequence_idx=1, attn_head_idx=3)\n",
    "Node(layer_idx=4, sequence_idx=1, attn_head_idx=10)\n",
    "Node(layer_idx=4, sequence_idx=1, attn_head_idx=9)\n",
    "Node(layer_idx=1, sequence_idx=1, attn_head_idx=3)\n",
    "Node(layer_idx=1, sequence_idx=1, attn_head_idx=10)\n",
    "Node(layer_idx=1, sequence_idx=1, attn_head_idx=4)\n",
    "Node(layer_idx=0, sequence_idx=1, attn_head_idx=3)\n",
    "Node(layer_idx=0, sequence_idx=1, attn_head_idx=4)\n",
    "Node(layer_idx=0, sequence_idx=1, attn_head_idx=5)\n",
    "'''\n",
    "# removing just one node, (8, 1, 11), raises the score from -2.1718 to -0.4423.\n",
    "# this node is not identified by the IOI paper."
   ]
  },
  {
   "cell_type": "code",
   "execution_count": 20,
   "id": "029f2c59-bcb1-4fc8-a97e-438cfa76e86a",
   "metadata": {
    "tags": []
   },
   "outputs": [
    {
     "name": "stdout",
     "output_type": "stream",
     "text": [
      "[Node(layer_idx=9, sequence_idx=14, attn_head_idx=9), Node(layer_idx=10, sequence_idx=14, attn_head_idx=0), Node(layer_idx=9, sequence_idx=14, attn_head_idx=6), Node(layer_idx=10, sequence_idx=14, attn_head_idx=10), Node(layer_idx=10, sequence_idx=14, attn_head_idx=6), Node(layer_idx=10, sequence_idx=14, attn_head_idx=2), Node(layer_idx=10, sequence_idx=14, attn_head_idx=1), Node(layer_idx=11, sequence_idx=14, attn_head_idx=2), Node(layer_idx=9, sequence_idx=14, attn_head_idx=7), Node(layer_idx=9, sequence_idx=14, attn_head_idx=0), Node(layer_idx=11, sequence_idx=14, attn_head_idx=9), Node(layer_idx=10, sequence_idx=14, attn_head_idx=7), Node(layer_idx=11, sequence_idx=14, attn_head_idx=10), Node(layer_idx=7, sequence_idx=14, attn_head_idx=3), Node(layer_idx=7, sequence_idx=14, attn_head_idx=9), Node(layer_idx=8, sequence_idx=14, attn_head_idx=6), Node(layer_idx=8, sequence_idx=14, attn_head_idx=10), Node(layer_idx=5, sequence_idx=10, attn_head_idx=5), Node(layer_idx=5, sequence_idx=10, attn_head_idx=8), Node(layer_idx=5, sequence_idx=10, attn_head_idx=9), Node(layer_idx=6, sequence_idx=10, attn_head_idx=9), Node(layer_idx=0, sequence_idx=10, attn_head_idx=1), Node(layer_idx=0, sequence_idx=10, attn_head_idx=10), Node(layer_idx=3, sequence_idx=10, attn_head_idx=0), Node(layer_idx=2, sequence_idx=3, attn_head_idx=2), Node(layer_idx=4, sequence_idx=3, attn_head_idx=11)]\n"
     ]
    }
   ],
   "source": [
    "print(nodes)"
   ]
  },
  {
   "cell_type": "code",
   "execution_count": 47,
   "id": "5e9717bb-1f4e-4823-bcfc-ea685daf8af6",
   "metadata": {
    "tags": []
   },
   "outputs": [
    {
     "name": "stdout",
     "output_type": "stream",
     "text": [
      "tensor(3.5994, device='cuda:0')\n"
     ]
    }
   ],
   "source": [
    "model.reset_hooks(including_permanent=True)\n",
    "# model = add_mean_ablation_hook(model, means_dataset=test_abc_dataset, circuit=circuit)\n",
    "model = add_mean_ablation_hook(model, means_dataset=test_abc_dataset, circuit=nodes)\n",
    "logits, cache = model.run_with_cache(test_ioi_dataset.toks) # run on entire dataset along batch dimension\n",
    "ave_logit_diff = logits_to_ave_logit_diff_2(logits, test_ioi_dataset)\n",
    "print(ave_logit_diff)"
   ]
  },
  {
   "cell_type": "markdown",
   "id": "1e00db07-0827-4674-bd58-64ef964a3d4c",
   "metadata": {
    "jp-MarkdownHeadingCollapsed": true,
    "tags": []
   },
   "source": [
    "# Other experiments / graveyard"
   ]
  },
  {
   "cell_type": "code",
   "execution_count": 48,
   "id": "60444643-0eac-4975-a66b-77b3c8e58987",
   "metadata": {
    "tags": []
   },
   "outputs": [
    {
     "data": {
      "text/plain": [
       "torch.Size([64])"
      ]
     },
     "execution_count": 48,
     "metadata": {},
     "output_type": "execute_result"
    }
   ],
   "source": [
    "ioi_logits, ioi_cache = model.run_with_cache(ioi_dataset.toks[0])\n",
    "ioi_cache['blocks.' + '0' + '.attn.hook_z'][0][0][0].shape"
   ]
  },
  {
   "cell_type": "code",
   "execution_count": 66,
   "id": "b63b93ac-7867-4cca-9b0b-8cc098458a69",
   "metadata": {
    "tags": []
   },
   "outputs": [
    {
     "name": "stdout",
     "output_type": "stream",
     "text": [
      "torch.Size([12, 16, 12, 64])\n"
     ]
    }
   ],
   "source": [
    "print(mean_acts.view(old_shape).shape)"
   ]
  },
  {
   "cell_type": "code",
   "execution_count": 67,
   "id": "4317571e-1417-4095-8d00-4ca43f46cddd",
   "metadata": {
    "tags": []
   },
   "outputs": [
    {
     "name": "stdout",
     "output_type": "stream",
     "text": [
      "Node(layer_idx=9, sequence_idx=14, attn_head_idx=9)\n",
      "tensor([ 4.5882,  1.8150, -4.5381,  9.2072, -5.7037,  0.4358,  6.8751, -2.5157,\n",
      "        -0.0201, -5.4035,  5.1540, -8.1743, -2.3777, -8.3265,  0.6575,  1.7242,\n",
      "         6.6951, -7.5154, -1.2071,  5.1037,  2.0116,  0.7948,  2.0949,  7.4878,\n",
      "        -1.0701, -4.5399,  1.5003,  1.6590,  3.1868,  1.0958, -0.1454,  2.2109,\n",
      "         1.5758,  0.0705, -1.5077, -0.7950,  5.7988, -1.2882, -2.4122, -0.6233,\n",
      "         2.6682, -4.5806,  2.9596, -3.6489, -4.7048, -1.0226, -1.5860, -2.3727,\n",
      "         5.0705, -0.5869,  1.2846, -4.9232, -0.0825,  1.9475, -0.8008, -1.3300,\n",
      "        -2.4370, -3.4239,  1.8176, -1.7732,  3.7865, -5.6771, -3.1785,  2.9272],\n",
      "       device='cuda:0')\n",
      "tensor([ 3.1207, -2.6716,  0.4378, -4.4690, -3.7148, -0.0856,  3.3663,  0.4827,\n",
      "        -0.0276, -2.1319, -2.4535, -1.3968,  1.8229, -1.8517, -1.9059,  0.6349,\n",
      "        -1.0417,  0.1398, -2.7960, -3.1978, -3.0324,  5.9148,  1.0522, -1.3331,\n",
      "        -2.1495,  0.7540,  2.5116,  0.8945,  0.0817,  2.1442,  0.4860, -0.1693,\n",
      "         0.5668,  1.7944, -0.3488, -1.0145,  0.2673, -2.8463,  3.0966, -1.9893,\n",
      "         1.1232,  0.5699, -1.9760, -1.8797, -1.3339, -0.1108,  1.8845,  2.2627,\n",
      "        -0.8134, -3.1224,  4.5247, -1.1517,  0.8192, -2.4354,  0.3437, -1.6626,\n",
      "         0.9372, -0.3881,  1.6717,  0.3546,  2.9326, -2.1492, -1.6601, -0.9716],\n",
      "       device='cuda:0')\n",
      "33.545406\n",
      "##################\n"
     ]
    }
   ],
   "source": [
    "for target_node in [Node(9, 14, 9), Node(9, 14, 6), Node(10, 14, 0)]:\n",
    "# target_node = Node(9, 14, 9)\n",
    "    print(target_node)\n",
    "    target_mean_act = mean_acts.view(old_shape)[target_node.layer_idx, target_node.sequence_idx, target_node.attn_head_idx]\n",
    "    activation = ioi_cache['blocks.' + str(target_node.layer_idx) + '.attn.hook_z'][0][target_node.sequence_idx][target_node.attn_head_idx]\n",
    "    print(activation)\n",
    "    print(target_mean_act)\n",
    "    #print(activation - target_mean_act)\n",
    "    print(np.linalg.norm((activation - target_mean_act).cpu().numpy()))\n",
    "    print('##################')\n",
    "    break"
   ]
  },
  {
   "cell_type": "code",
   "execution_count": 61,
   "id": "d715a8a5-a9ed-438d-b149-03901122def4",
   "metadata": {
    "tags": []
   },
   "outputs": [
    {
     "name": "stdout",
     "output_type": "stream",
     "text": [
      "activation: \n",
      "tensor([[ 4.5882,  1.8149, -4.5381,  9.2073, -5.7037,  0.4358,  6.8753, -2.5156,\n",
      "         -0.0201, -5.4033,  5.1538, -8.1742, -2.3779, -8.3267,  0.6575,  1.7242,\n",
      "          6.6949, -7.5156, -1.2072,  5.1037,  2.0114,  0.7949,  2.0948,  7.4878,\n",
      "         -1.0699, -4.5395,  1.5005,  1.6590,  3.1867,  1.0958, -0.1456,  2.2110,\n",
      "          1.5757,  0.0705, -1.5080, -0.7949,  5.7990, -1.2884, -2.4122, -0.6233,\n",
      "          2.6683, -4.5807,  2.9595, -3.6489, -4.7047, -1.0227, -1.5860, -2.3727,\n",
      "          5.0705, -0.5869,  1.2847, -4.9232, -0.0825,  1.9476, -0.8009, -1.3300,\n",
      "         -2.4370, -3.4239,  1.8177, -1.7732,  3.7866, -5.6771, -3.1786,  2.9275]],\n",
      "       device='cuda:0')\n",
      "mean: \n",
      "tensor([[ 3.1207, -2.6716,  0.4378, -4.4690, -3.7148, -0.0856,  3.3663,  0.4827,\n",
      "         -0.0276, -2.1319, -2.4535, -1.3968,  1.8229, -1.8517, -1.9059,  0.6349,\n",
      "         -1.0417,  0.1398, -2.7960, -3.1978, -3.0324,  5.9148,  1.0522, -1.3331,\n",
      "         -2.1495,  0.7540,  2.5116,  0.8945,  0.0817,  2.1442,  0.4860, -0.1693,\n",
      "          0.5668,  1.7944, -0.3488, -1.0145,  0.2673, -2.8463,  3.0966, -1.9893,\n",
      "          1.1232,  0.5699, -1.9760, -1.8797, -1.3339, -0.1108,  1.8845,  2.2627,\n",
      "         -0.8134, -3.1224,  4.5247, -1.1517,  0.8192, -2.4354,  0.3437, -1.6626,\n",
      "          0.9372, -0.3881,  1.6717,  0.3546,  2.9326, -2.1492, -1.6601, -0.9716]],\n",
      "       device='cuda:0')\n"
     ]
    }
   ],
   "source": [
    "ablation_sets = [(Node(9, 14, 9),)]\n",
    "target_nodes = []\n",
    "\n",
    "out_decomp, _, _, pre_layer_activations = prop_GPT(encoding_idxs[0:1, :], extended_attention_mask, model, [ablation_sets[0]], target_nodes=target_nodes, device=device, mean_acts=mean_acts, set_irrel_to_mean=True)\n"
   ]
  },
  {
   "cell_type": "code",
   "execution_count": 75,
   "id": "12f080c6-73e5-4833-9290-2919faa090be",
   "metadata": {
    "tags": []
   },
   "outputs": [
    {
     "name": "stdout",
     "output_type": "stream",
     "text": [
      "Result(ablation_set=(Node(layer_idx=9, sequence_idx=14, attn_head_idx=9),), score=tensor(889.4381, device='cuda:0'))\n",
      "Result(ablation_set=(Node(layer_idx=9, sequence_idx=14, attn_head_idx=6),), score=tensor(455.7758, device='cuda:0'))\n",
      "Result(ablation_set=(Node(layer_idx=10, sequence_idx=14, attn_head_idx=0),), score=tensor(317.3372, device='cuda:0'))\n",
      "Result(ablation_set=(Node(layer_idx=0, sequence_idx=2, attn_head_idx=1),), score=tensor(43.9872, device='cuda:0'))\n",
      "Result(ablation_set=(Node(layer_idx=0, sequence_idx=2, attn_head_idx=4),), score=tensor(42.7847, device='cuda:0'))\n",
      "Result(ablation_set=(Node(layer_idx=0, sequence_idx=2, attn_head_idx=5),), score=tensor(40.7673, device='cuda:0'))\n",
      "Result(ablation_set=(Node(layer_idx=0, sequence_idx=2, attn_head_idx=3),), score=tensor(40.1853, device='cuda:0'))\n",
      "Result(ablation_set=(Node(layer_idx=0, sequence_idx=2, attn_head_idx=6),), score=tensor(38.3538, device='cuda:0'))\n",
      "Result(ablation_set=(Node(layer_idx=0, sequence_idx=2, attn_head_idx=10),), score=tensor(34.8150, device='cuda:0'))\n",
      "Result(ablation_set=(Node(layer_idx=0, sequence_idx=2, attn_head_idx=0),), score=tensor(32.6773, device='cuda:0'))\n",
      "Result(ablation_set=(Node(layer_idx=0, sequence_idx=2, attn_head_idx=8),), score=tensor(31.8191, device='cuda:0'))\n",
      "Result(ablation_set=(Node(layer_idx=0, sequence_idx=1, attn_head_idx=5),), score=tensor(31.0179, device='cuda:0'))\n",
      "Result(ablation_set=(Node(layer_idx=0, sequence_idx=1, attn_head_idx=3),), score=tensor(30.9142, device='cuda:0'))\n",
      "Result(ablation_set=(Node(layer_idx=0, sequence_idx=1, attn_head_idx=8),), score=tensor(30.7330, device='cuda:0'))\n",
      "Result(ablation_set=(Node(layer_idx=0, sequence_idx=2, attn_head_idx=11),), score=tensor(30.6759, device='cuda:0'))\n",
      "Result(ablation_set=(Node(layer_idx=0, sequence_idx=4, attn_head_idx=1),), score=tensor(29.5537, device='cuda:0'))\n",
      "Result(ablation_set=(Node(layer_idx=0, sequence_idx=1, attn_head_idx=1),), score=tensor(29.5026, device='cuda:0'))\n",
      "Result(ablation_set=(Node(layer_idx=0, sequence_idx=1, attn_head_idx=9),), score=tensor(28.8424, device='cuda:0'))\n",
      "Result(ablation_set=(Node(layer_idx=0, sequence_idx=2, attn_head_idx=2),), score=tensor(28.6224, device='cuda:0'))\n",
      "Result(ablation_set=(Node(layer_idx=0, sequence_idx=1, attn_head_idx=11),), score=tensor(28.2847, device='cuda:0'))\n"
     ]
    },
    {
     "data": {
      "text/plain": [
       "'\\nfor result in results:\\n    if result.ablation_set[0].layer_idx == 7 and result.ablation_set[0].attn_head_idx == 9 or         result.ablation_set[0].layer_idx == 7 and result.ablation_set[0].attn_head_idx == 3 or         result.ablation_set[0].layer_idx == 8 and result.ablation_set[0].attn_head_idx == 6 or         result.ablation_set[0].layer_idx == 8 and result.ablation_set[0].attn_head_idx == 10:\\n        print(result.ablation_set[0], result.score)\\n'"
      ]
     },
     "execution_count": 75,
     "metadata": {},
     "output_type": "execute_result"
    }
   ],
   "source": [
    "\n",
    "for result in results[:20]:\n",
    "    print(result)\n",
    "'''\n",
    "for result in results:\n",
    "    if result.ablation_set[0].layer_idx == 7 and result.ablation_set[0].attn_head_idx == 9 or \\\n",
    "        result.ablation_set[0].layer_idx == 7 and result.ablation_set[0].attn_head_idx == 3 or \\\n",
    "        result.ablation_set[0].layer_idx == 8 and result.ablation_set[0].attn_head_idx == 6 or \\\n",
    "        result.ablation_set[0].layer_idx == 8 and result.ablation_set[0].attn_head_idx == 10:\n",
    "        print(result.ablation_set[0], result.score)\n",
    "'''"
   ]
  },
  {
   "cell_type": "code",
   "execution_count": 76,
   "id": "f290e656-97a5-4467-b495-d29e31b2a968",
   "metadata": {
    "tags": []
   },
   "outputs": [],
   "source": [
    "means_by_layer = np.mean(decomp_scores, axis=(1,2))"
   ]
  },
  {
   "cell_type": "code",
   "execution_count": 77,
   "id": "ac36c27b-61aa-46f4-a23b-ee381c0bff78",
   "metadata": {
    "tags": []
   },
   "outputs": [
    {
     "data": {
      "text/plain": [
       "array([9.24818977, 5.84034312, 4.1312829 , 3.2301396 , 2.41149031,\n",
       "       1.97253734, 1.36958096, 0.72439622, 0.38497442, 7.13600245,\n",
       "       1.65279786, 0.        ])"
      ]
     },
     "execution_count": 77,
     "metadata": {},
     "output_type": "execute_result"
    }
   ],
   "source": [
    "means_by_layer"
   ]
  },
  {
   "cell_type": "code",
   "execution_count": 78,
   "id": "b4009073-89cd-4ba1-916d-da935d5fefa2",
   "metadata": {
    "tags": []
   },
   "outputs": [],
   "source": [
    "normalized_decomp_scores = decomp_scores / np.expand_dims(means_by_layer, (1, 2))\n",
    "\n",
    "normalized_results = []\n",
    "for layer in range(9): # last two layers are 0s, causing inf problems\n",
    "    for sequence_position in range(16):\n",
    "        for attention_head_idx in range(12):\n",
    "            idx = layer * 16 * 12 + sequence_position * 12 + attention_head_idx\n",
    "            target_decomp = target_decomps[idx]\n",
    "            normalized_results.append(Result(target_decomp.ablation_set, normalized_decomp_scores[layer, sequence_position, attention_head_idx]))"
   ]
  },
  {
   "cell_type": "code",
   "execution_count": 44,
   "id": "1e316d29-ae96-45e2-b930-0e9e5dadce4a",
   "metadata": {
    "tags": []
   },
   "outputs": [
    {
     "name": "stdout",
     "output_type": "stream",
     "text": [
      "[Node(layer_idx=9, sequence_idx=14, attn_head_idx=9), Node(layer_idx=10, sequence_idx=14, attn_head_idx=0), Node(layer_idx=9, sequence_idx=14, attn_head_idx=6)]\n"
     ]
    }
   ],
   "source": [
    "print(target_nodes)"
   ]
  },
  {
   "cell_type": "code",
   "execution_count": 79,
   "id": "f3fc374a-b272-4f5b-bc97-761a7e1ec320",
   "metadata": {
    "tags": []
   },
   "outputs": [
    {
     "name": "stdout",
     "output_type": "stream",
     "text": [
      "Result(ablation_set=(Node(layer_idx=8, sequence_idx=4, attn_head_idx=2),), score=8.06340133858641)\n",
      "Result(ablation_set=(Node(layer_idx=6, sequence_idx=2, attn_head_idx=4),), score=7.112563763523278)\n",
      "Result(ablation_set=(Node(layer_idx=8, sequence_idx=4, attn_head_idx=10),), score=7.085672807182714)\n",
      "Result(ablation_set=(Node(layer_idx=8, sequence_idx=4, attn_head_idx=6),), score=7.0457718902343185)\n",
      "Result(ablation_set=(Node(layer_idx=7, sequence_idx=4, attn_head_idx=4),), score=6.296416119927532)\n",
      "Result(ablation_set=(Node(layer_idx=8, sequence_idx=4, attn_head_idx=9),), score=6.2906252991982345)\n",
      "Result(ablation_set=(Node(layer_idx=8, sequence_idx=4, attn_head_idx=11),), score=6.237698431014729)\n",
      "Result(ablation_set=(Node(layer_idx=6, sequence_idx=2, attn_head_idx=6),), score=5.500263562825447)\n",
      "Result(ablation_set=(Node(layer_idx=8, sequence_idx=3, attn_head_idx=8),), score=5.363445484846832)\n",
      "Result(ablation_set=(Node(layer_idx=8, sequence_idx=4, attn_head_idx=5),), score=5.221690336741158)\n",
      "Result(ablation_set=(Node(layer_idx=7, sequence_idx=4, attn_head_idx=8),), score=5.030575692505166)\n",
      "Result(ablation_set=(Node(layer_idx=2, sequence_idx=2, attn_head_idx=1),), score=4.937050617031997)\n",
      "Result(ablation_set=(Node(layer_idx=6, sequence_idx=4, attn_head_idx=4),), score=4.885894072933203)\n",
      "Result(ablation_set=(Node(layer_idx=5, sequence_idx=2, attn_head_idx=6),), score=4.78094257842273)\n",
      "Result(ablation_set=(Node(layer_idx=0, sequence_idx=2, attn_head_idx=1),), score=4.756301903887449)\n",
      "Result(ablation_set=(Node(layer_idx=6, sequence_idx=4, attn_head_idx=6),), score=4.70334778472697)\n",
      "Result(ablation_set=(Node(layer_idx=7, sequence_idx=4, attn_head_idx=6),), score=4.702807347182252)\n",
      "Result(ablation_set=(Node(layer_idx=8, sequence_idx=4, attn_head_idx=7),), score=4.702579580649376)\n",
      "Result(ablation_set=(Node(layer_idx=5, sequence_idx=2, attn_head_idx=10),), score=4.694905620178803)\n",
      "Result(ablation_set=(Node(layer_idx=7, sequence_idx=4, attn_head_idx=0),), score=4.684889656317291)\n",
      "Result(ablation_set=(Node(layer_idx=8, sequence_idx=4, attn_head_idx=3),), score=4.671107785047694)\n",
      "Result(ablation_set=(Node(layer_idx=8, sequence_idx=4, attn_head_idx=0),), score=4.640496211300507)\n",
      "Result(ablation_set=(Node(layer_idx=0, sequence_idx=2, attn_head_idx=4),), score=4.626274873932114)\n",
      "Result(ablation_set=(Node(layer_idx=3, sequence_idx=2, attn_head_idx=6),), score=4.625097511953211)\n",
      "Result(ablation_set=(Node(layer_idx=6, sequence_idx=3, attn_head_idx=4),), score=4.625038308830087)\n",
      "Result(ablation_set=(Node(layer_idx=5, sequence_idx=2, attn_head_idx=2),), score=4.614505991221067)\n",
      "Result(ablation_set=(Node(layer_idx=7, sequence_idx=2, attn_head_idx=6),), score=4.601595432707063)\n",
      "Result(ablation_set=(Node(layer_idx=5, sequence_idx=2, attn_head_idx=9),), score=4.564373889075744)\n",
      "Result(ablation_set=(Node(layer_idx=6, sequence_idx=4, attn_head_idx=0),), score=4.5471149454912005)\n",
      "Result(ablation_set=(Node(layer_idx=8, sequence_idx=4, attn_head_idx=8),), score=4.511643462046953)\n",
      "Result(ablation_set=(Node(layer_idx=4, sequence_idx=2, attn_head_idx=7),), score=4.499551189686188)\n",
      "Result(ablation_set=(Node(layer_idx=7, sequence_idx=4, attn_head_idx=11),), score=4.469392561407194)\n",
      "Result(ablation_set=(Node(layer_idx=4, sequence_idx=2, attn_head_idx=3),), score=4.457146028204005)\n",
      "Result(ablation_set=(Node(layer_idx=0, sequence_idx=2, attn_head_idx=5),), score=4.40814119981464)\n",
      "Result(ablation_set=(Node(layer_idx=0, sequence_idx=2, attn_head_idx=3),), score=4.34521236091489)\n",
      "Result(ablation_set=(Node(layer_idx=8, sequence_idx=10, attn_head_idx=2),), score=4.335097635029136)\n",
      "Result(ablation_set=(Node(layer_idx=1, sequence_idx=2, attn_head_idx=10),), score=4.248578488466679)\n",
      "Result(ablation_set=(Node(layer_idx=4, sequence_idx=2, attn_head_idx=4),), score=4.228495413809886)\n",
      "Result(ablation_set=(Node(layer_idx=3, sequence_idx=2, attn_head_idx=5),), score=4.206989921774501)\n",
      "Result(ablation_set=(Node(layer_idx=7, sequence_idx=4, attn_head_idx=5),), score=4.182469573757376)\n",
      "Result(ablation_set=(Node(layer_idx=4, sequence_idx=2, attn_head_idx=10),), score=4.16961018770512)\n",
      "Result(ablation_set=(Node(layer_idx=0, sequence_idx=2, attn_head_idx=6),), score=4.147169370953956)\n",
      "Result(ablation_set=(Node(layer_idx=5, sequence_idx=2, attn_head_idx=8),), score=4.125051402872492)\n",
      "Result(ablation_set=(Node(layer_idx=2, sequence_idx=2, attn_head_idx=7),), score=4.091629943848698)\n",
      "Result(ablation_set=(Node(layer_idx=1, sequence_idx=2, attn_head_idx=11),), score=4.073348188680282)\n",
      "Result(ablation_set=(Node(layer_idx=1, sequence_idx=2, attn_head_idx=6),), score=4.067309368208814)\n",
      "Result(ablation_set=(Node(layer_idx=8, sequence_idx=10, attn_head_idx=10),), score=4.063723341309265)\n",
      "Result(ablation_set=(Node(layer_idx=6, sequence_idx=4, attn_head_idx=7),), score=4.003492138903598)\n",
      "Result(ablation_set=(Node(layer_idx=5, sequence_idx=2, attn_head_idx=5),), score=3.940137332766914)\n",
      "Result(ablation_set=(Node(layer_idx=5, sequence_idx=3, attn_head_idx=10),), score=3.9277925002344123)\n"
     ]
    }
   ],
   "source": [
    "# (7.3, 7.9, 8.6, 8.10)\n",
    "normalized_results.sort(key=operator.attrgetter('score'), reverse=True)\n",
    "for result in normalized_results[:50]:\n",
    "    if result.ablation_set[0].layer_idx != 9:\n",
    "        print(result)"
   ]
  },
  {
   "cell_type": "code",
   "execution_count": 25,
   "id": "4935a7c9-d519-4dab-8878-f5838fe20b29",
   "metadata": {
    "tags": []
   },
   "outputs": [
    {
     "data": {
      "text/plain": [
       "{'IO': tensor([4, 2, 4]),\n",
       " 'IO-1': tensor([3, 1, 3]),\n",
       " 'IO+1': tensor([5, 3, 5]),\n",
       " 'S': tensor([2, 4, 2]),\n",
       " 'S-1': tensor([1, 3, 1]),\n",
       " 'S+1': tensor([3, 5, 3]),\n",
       " 'S2': tensor([10, 10, 10]),\n",
       " 'end': tensor([14, 14, 14]),\n",
       " 'starts': tensor([0, 0, 0]),\n",
       " 'punct': tensor([9, 9, 9])}"
      ]
     },
     "execution_count": 25,
     "metadata": {},
     "output_type": "execute_result"
    }
   ],
   "source": [
    "ioi_dataset.word_idx"
   ]
  },
  {
   "cell_type": "code",
   "execution_count": 29,
   "id": "b297d57f-47d7-4f87-9ec3-5cfba9b45646",
   "metadata": {
    "tags": []
   },
   "outputs": [
    {
     "data": {
      "image/png": "[encoded data removed]",
      "text/plain": [
       "<Figure size 640x480 with 2 Axes>"
      ]
     },
     "metadata": {},
     "output_type": "display_data"
    }
   ],
   "source": [
    "s = sns.heatmap(decomp_scores[:, ioi_dataset.word_idx['end'][0], :], xticklabels = range(12), yticklabels = range(12), cmap='Blues', cbar_kws={'label': ''})\n",
    "s.set(xlabel='Head', ylabel='Layer')\n",
    "#token = ioi_dataset.tokenized_prompts[0].split('|')[seq_idx]\n",
    "plt.title(\"Relevance of (layer, head) to Name Mover Heads at last sequence position\")\n",
    "plt.show()"
   ]
  },
  {
   "cell_type": "code",
   "execution_count": 65,
   "id": "d5baef4b-3ea1-4131-85a2-396d544d5ec1",
   "metadata": {
    "tags": []
   },
   "outputs": [
    {
     "name": "stdout",
     "output_type": "stream",
     "text": [
      "[Node(layer_idx=0, sequence_idx=0, attn_head_idx=10), Node(layer_idx=0, sequence_idx=0, attn_head_idx=1), Node(layer_idx=0, sequence_idx=0, attn_head_idx=0), Node(layer_idx=0, sequence_idx=0, attn_head_idx=7), Node(layer_idx=0, sequence_idx=0, attn_head_idx=3), Node(layer_idx=0, sequence_idx=0, attn_head_idx=9)]\n"
     ]
    },
    {
     "ename": "TypeError",
     "evalue": "can only concatenate list (not \"TargetNodeDecompositionList\") to list",
     "output_type": "error",
     "traceback": [
      "\u001b[0;31m---------------------------------------------------------------------------\u001b[0m",
      "\u001b[0;31mTypeError\u001b[0m                                 Traceback (most recent call last)",
      "Cell \u001b[0;32mIn[65], line 18\u001b[0m\n\u001b[1;32m     15\u001b[0m _, _, _, pre_layer_activations \u001b[38;5;241m=\u001b[39m prop_GPT(encoding_idxs[\u001b[38;5;241m0\u001b[39m:\u001b[38;5;241m1\u001b[39m, :], extended_attention_mask, model, [ablation_sets[\u001b[38;5;241m0\u001b[39m]], target_nodes\u001b[38;5;241m=\u001b[39mtarget_nodes, device\u001b[38;5;241m=\u001b[39mdevice, mean_acts\u001b[38;5;241m=\u001b[39mmean_acts, set_irrel_to_mean\u001b[38;5;241m=\u001b[39m\u001b[38;5;28;01mTrue\u001b[39;00m)\n\u001b[1;32m     17\u001b[0m prop_fn \u001b[38;5;241m=\u001b[39m \u001b[38;5;28;01mlambda\u001b[39;00m ablation_list: prop_GPT(encoding_idxs[\u001b[38;5;241m0\u001b[39m:\u001b[38;5;241m1\u001b[39m, :], extended_attention_mask, model, ablation_list, target_nodes\u001b[38;5;241m=\u001b[39mtarget_nodes, device\u001b[38;5;241m=\u001b[39mdevice, mean_acts\u001b[38;5;241m=\u001b[39mmean_acts, set_irrel_to_mean\u001b[38;5;241m=\u001b[39m\u001b[38;5;28;01mTrue\u001b[39;00m, cached_pre_layer_acts\u001b[38;5;241m=\u001b[39mpre_layer_activations)\n\u001b[0;32m---> 18\u001b[0m out_decomps, target_decomps \u001b[38;5;241m=\u001b[39m \u001b[43mbatch_run\u001b[49m\u001b[43m(\u001b[49m\u001b[43mprop_fn\u001b[49m\u001b[43m,\u001b[49m\u001b[43m \u001b[49m\u001b[43mablation_sets\u001b[49m\u001b[43m)\u001b[49m \n",
      "File \u001b[0;32m~/CD_Circuit/pyfunctions/cdt_source_to_target.py:427\u001b[0m, in \u001b[0;36mbatch_run\u001b[0;34m(prop_model_fn, ablation_list, num_at_time, n_layers)\u001b[0m\n\u001b[1;32m    424\u001b[0m     batch_out_decomps, batch_target_decomps, _, _ \u001b[38;5;241m=\u001b[39m prop_model_fn(ablation_list[b_st: b_end])\n\u001b[1;32m    426\u001b[0m     out_decomps \u001b[38;5;241m=\u001b[39m out_decomps \u001b[38;5;241m+\u001b[39m batch_out_decomps\n\u001b[0;32m--> 427\u001b[0m     target_decomps \u001b[38;5;241m=\u001b[39m [\u001b[43mtarget_decomps\u001b[49m\u001b[43m[\u001b[49m\u001b[43mi\u001b[49m\u001b[43m]\u001b[49m\u001b[43m \u001b[49m\u001b[38;5;241;43m+\u001b[39;49m\u001b[43m \u001b[49m\u001b[43mbatch_target_decomps\u001b[49m\u001b[43m[\u001b[49m\u001b[43mi\u001b[49m\u001b[43m]\u001b[49m \u001b[38;5;28;01mfor\u001b[39;00m i \u001b[38;5;129;01min\u001b[39;00m \u001b[38;5;28mrange\u001b[39m(n_layers)]\n\u001b[1;32m    429\u001b[0m \u001b[38;5;28;01mreturn\u001b[39;00m out_decomps, target_decomps\n",
      "\u001b[0;31mTypeError\u001b[0m: can only concatenate list (not \"TargetNodeDecompositionList\") to list"
     ]
    }
   ],
   "source": [
    "results.sort(key=operator.attrgetter('score'), reverse=True)\n",
    "outliers = results[:6] # hardcoded first few N\n",
    "outliers_per_iter.append(outliers)\n",
    "target_nodes = [r.ablation_set[0] for r in outliers] # here we assume that we only ever tried to ablate one node at once; our method doesn't handle anything else\n",
    "print(target_nodes)\n",
    "ranges = [\n",
    "        [layer for layer in range(12)],\n",
    "        [sequence_position for sequence_position in range(input_shape[1])],\n",
    "        [attention_head_idx for attention_head_idx in range(12)]\n",
    "    ]\n",
    "\n",
    "source_nodes = [Node(*x) for x in itertools.product(*ranges)]\n",
    "ablation_sets = [(n,) for n in source_nodes]\n",
    "\n",
    "_, _, _, pre_layer_activations = prop_GPT(encoding_idxs[0:1, :], extended_attention_mask, model, [ablation_sets[0]], target_nodes=target_nodes, device=device, mean_acts=mean_acts, set_irrel_to_mean=True)\n",
    "\n",
    "prop_fn = lambda ablation_list: prop_GPT(encoding_idxs[0:1, :], extended_attention_mask, model, ablation_list, target_nodes=target_nodes, device=device, mean_acts=mean_acts, set_irrel_to_mean=True, cached_pre_layer_acts=pre_layer_activations)\n",
    "out_decomps, target_decomps = batch_run(prop_fn, ablation_sets) "
   ]
  },
  {
   "cell_type": "code",
   "execution_count": 33,
   "id": "d2bf915a-9f08-46b7-b5ef-1cb1e3a7857b",
   "metadata": {
    "tags": []
   },
   "outputs": [
    {
     "name": "stdout",
     "output_type": "stream",
     "text": [
      "2304\n",
      "tensor([[0., 0., 0., 0., 0., 0., 0., 0., 0., 0., 0., 0., 0., 0., 0., 0., 0., 0., 0., 0., 0., 0., 0., 0.,\n",
      "         0., 0., 0., 0., 0., 0., 0., 0., 0., 0., 0., 0., 0., 0., 0., 0., 0., 0., 0., 0., 0., 0., 0., 0.,\n",
      "         0., 0., 0., 0., 0., 0., 0., 0., 0., 0., 0., 0., 0., 0., 0., 0.]],\n",
      "       device='cuda:0')\n"
     ]
    }
   ],
   "source": [
    "print(len(target_decomps))\n",
    "print((abs(target_decomps[0].rels[0])))"
   ]
  },
  {
   "cell_type": "markdown",
   "id": "18167b58-cf91-4d50-bbb8-42983d510a43",
   "metadata": {
    "tags": [],
    "user_expressions": []
   },
   "source": [
    "## New algorithm (fixed number of nodes per layer, weight relevance to the nodes according to the nodes' relevance in the previous iter, take nodes with highest absolute scores)"
   ]
  },
  {
   "cell_type": "markdown",
   "id": "8131aae5-b946-4acc-aebf-1e769116f9e9",
   "metadata": {},
   "source": [
    "There are two problems with this algorithm generally:\n",
    "\n",
    "1. The \"relevance to logits\" score isn't on the same scale as \"relevance to target nodes\" score, so there's no principled way to decide whether nodes in the last layer are more or less relevant than others.\n",
    "\n",
    "2. More fatally, the most important nodes converge to position 0."
   ]
  },
  {
   "cell_type": "code",
   "execution_count": 22,
   "id": "c2ff3c0a-5464-4075-a40f-a110bef9da4f",
   "metadata": {
    "tags": []
   },
   "outputs": [
    {
     "name": "stdout",
     "output_type": "stream",
     "text": [
      "Running inputs 0 to 64 (of 192)\n",
      "Running inputs 64 to 128 (of 192)\n",
      "Running inputs 128 to 192 (of 192)\n"
     ]
    }
   ],
   "source": [
    "import functools\n",
    "ranges = [\n",
    "        [11],\n",
    "        [sequence_position for sequence_position in range(input_shape[1])],\n",
    "        [attention_head_idx for attention_head_idx in range(12)]\n",
    "    ]\n",
    "\n",
    "source_nodes = [Node(*x) for x in itertools.product(*ranges)]\n",
    "# ablation_sets = [tuple(n for n in source_nodes)]\n",
    "ablation_sets = [(n,) for n in source_nodes]\n",
    "\n",
    "# print(source_nodes[:64])\n",
    "target_nodes = []\n",
    "# out_decomp, _, _, pre_layer_activations = prop_GPT(encoding_idxs[0:1, :], extended_attention_mask, model, [ablation_sets[0]], target_nodes=target_nodes, device=device, mean_acts=mean_acts, set_irrel_to_mean=False)\n",
    "\n",
    "# cache activations for faster batch run\n",
    "out_decomp, _, _, pre_layer_activations = prop_GPT(encoding_idxs[0:1, :], extended_attention_mask, model, [ablation_sets[0]], target_nodes=target_nodes, device=device, mean_acts=mean_acts, set_irrel_to_mean=True)\n",
    "\n",
    "prop_fn = lambda ablation_list: prop_GPT(encoding_idxs[0:1, :], extended_attention_mask, model, ablation_list, target_nodes=target_nodes, device=device, mean_acts=mean_acts, set_irrel_to_mean=True, cached_pre_layer_acts=pre_layer_activations)\n",
    "out_decomps, target_decomps = batch_run(prop_fn, ablation_sets)\n",
    "# for each source node determine the contribution of rel to the actual score\n",
    "\n",
    "logits = (out_decomps[0].rel + out_decomps[0].irrel) # 1, seq_len, 50257=d_vocab\n",
    "io_logit = logits[0, -2, ioi_dataset.io_tokenIDs[0]]\n",
    "s_logit = logits[0, -2, ioi_dataset.s_tokenIDs[0]]\n",
    "full_score = io_logit - s_logit\n",
    "assert(full_score > 0)\n",
    "\n",
    "last_layer_results = []\n",
    "Result = collections.namedtuple('Result', ('ablation_set', 'score'))\n",
    "\n",
    "for decomp in out_decomps:\n",
    "    rel_io_logit = decomp.rel[0, -2, ioi_dataset.io_tokenIDs[0]]\n",
    "    rel_s_logit = decomp.rel[0, -2, ioi_dataset.s_tokenIDs[0]]\n",
    "    score = rel_io_logit - rel_s_logit\n",
    "    #print(score, rel_io_logit, rel_s_logit)\n",
    "    norm_score = score / full_score\n",
    "    last_layer_results.append(Result(decomp.ablation_set, norm_score))\n"
   ]
  },
  {
   "cell_type": "code",
   "execution_count": 23,
   "id": "bc619414-6852-435a-b884-2c0a5692e3a7",
   "metadata": {
    "tags": []
   },
   "outputs": [
    {
     "data": {
      "text/plain": [
       "[Result(ablation_set=(Node(layer_idx=11, sequence_idx=14, attn_head_idx=0),), score=0.0627064),\n",
       " Result(ablation_set=(Node(layer_idx=11, sequence_idx=14, attn_head_idx=6),), score=0.0623091),\n",
       " Result(ablation_set=(Node(layer_idx=11, sequence_idx=14, attn_head_idx=2),), score=0.049144655),\n",
       " Result(ablation_set=(Node(layer_idx=11, sequence_idx=14, attn_head_idx=3),), score=0.04818679),\n",
       " Result(ablation_set=(Node(layer_idx=11, sequence_idx=14, attn_head_idx=7),), score=0.04440797),\n",
       " Result(ablation_set=(Node(layer_idx=11, sequence_idx=14, attn_head_idx=11),), score=0.0425904)]"
      ]
     },
     "execution_count": 23,
     "metadata": {},
     "output_type": "execute_result"
    }
   ],
   "source": [
    "last_layer_results.sort(key=operator.attrgetter('score'), reverse=True)\n",
    "last_layer_results[:6]"
   ]
  },
  {
   "cell_type": "code",
   "execution_count": 24,
   "id": "e8c7d26c-c213-4968-9784-f2c4ead35791",
   "metadata": {
    "tags": []
   },
   "outputs": [
    {
     "name": "stdout",
     "output_type": "stream",
     "text": [
      "layer 10: \n",
      "new target nodes:\n",
      "[Node(layer_idx=11, sequence_idx=14, attn_head_idx=0), Node(layer_idx=11, sequence_idx=14, attn_head_idx=6), Node(layer_idx=11, sequence_idx=14, attn_head_idx=2), Node(layer_idx=11, sequence_idx=14, attn_head_idx=3), Node(layer_idx=11, sequence_idx=14, attn_head_idx=7), Node(layer_idx=11, sequence_idx=14, attn_head_idx=11)]\n",
      "Running inputs 0 to 64 (of 192)\n",
      "Running inputs 64 to 128 (of 192)\n",
      "Running inputs 128 to 192 (of 192)\n",
      "layer 9: \n",
      "new target nodes:\n",
      "[Node(layer_idx=10, sequence_idx=9, attn_head_idx=0), Node(layer_idx=10, sequence_idx=9, attn_head_idx=6), Node(layer_idx=10, sequence_idx=9, attn_head_idx=10), Node(layer_idx=10, sequence_idx=9, attn_head_idx=7), Node(layer_idx=10, sequence_idx=9, attn_head_idx=1), Node(layer_idx=10, sequence_idx=9, attn_head_idx=2)]\n",
      "Running inputs 0 to 64 (of 192)\n",
      "Running inputs 64 to 128 (of 192)\n",
      "Running inputs 128 to 192 (of 192)\n",
      "layer 8: \n",
      "new target nodes:\n",
      "[Node(layer_idx=9, sequence_idx=2, attn_head_idx=0), Node(layer_idx=9, sequence_idx=2, attn_head_idx=8), Node(layer_idx=9, sequence_idx=2, attn_head_idx=2), Node(layer_idx=9, sequence_idx=2, attn_head_idx=5), Node(layer_idx=9, sequence_idx=4, attn_head_idx=8), Node(layer_idx=9, sequence_idx=4, attn_head_idx=3)]\n",
      "Running inputs 0 to 64 (of 192)\n",
      "Running inputs 64 to 128 (of 192)\n",
      "Running inputs 128 to 192 (of 192)\n",
      "layer 7: \n",
      "new target nodes:\n",
      "[Node(layer_idx=8, sequence_idx=2, attn_head_idx=2), Node(layer_idx=8, sequence_idx=2, attn_head_idx=11), Node(layer_idx=8, sequence_idx=2, attn_head_idx=4), Node(layer_idx=8, sequence_idx=2, attn_head_idx=9), Node(layer_idx=8, sequence_idx=2, attn_head_idx=8), Node(layer_idx=8, sequence_idx=2, attn_head_idx=10)]\n",
      "Running inputs 0 to 64 (of 192)\n",
      "Running inputs 64 to 128 (of 192)\n",
      "Running inputs 128 to 192 (of 192)\n",
      "layer 6: \n",
      "new target nodes:\n",
      "[Node(layer_idx=7, sequence_idx=2, attn_head_idx=5), Node(layer_idx=7, sequence_idx=2, attn_head_idx=6), Node(layer_idx=7, sequence_idx=2, attn_head_idx=1), Node(layer_idx=7, sequence_idx=2, attn_head_idx=4), Node(layer_idx=7, sequence_idx=2, attn_head_idx=3), Node(layer_idx=7, sequence_idx=2, attn_head_idx=9)]\n",
      "Running inputs 0 to 64 (of 192)\n",
      "Running inputs 64 to 128 (of 192)\n",
      "Running inputs 128 to 192 (of 192)\n",
      "layer 5: \n",
      "new target nodes:\n",
      "[Node(layer_idx=6, sequence_idx=2, attn_head_idx=4), Node(layer_idx=6, sequence_idx=2, attn_head_idx=6), Node(layer_idx=6, sequence_idx=2, attn_head_idx=7), Node(layer_idx=6, sequence_idx=2, attn_head_idx=0), Node(layer_idx=6, sequence_idx=2, attn_head_idx=5), Node(layer_idx=6, sequence_idx=2, attn_head_idx=1)]\n",
      "Running inputs 0 to 64 (of 192)\n",
      "Running inputs 64 to 128 (of 192)\n",
      "Running inputs 128 to 192 (of 192)\n",
      "layer 4: \n",
      "new target nodes:\n",
      "[Node(layer_idx=5, sequence_idx=2, attn_head_idx=10), Node(layer_idx=5, sequence_idx=2, attn_head_idx=2), Node(layer_idx=5, sequence_idx=2, attn_head_idx=11), Node(layer_idx=5, sequence_idx=2, attn_head_idx=9), Node(layer_idx=5, sequence_idx=2, attn_head_idx=7), Node(layer_idx=5, sequence_idx=2, attn_head_idx=3)]\n",
      "Running inputs 0 to 64 (of 192)\n",
      "Running inputs 64 to 128 (of 192)\n",
      "Running inputs 128 to 192 (of 192)\n",
      "layer 3: \n",
      "new target nodes:\n",
      "[Node(layer_idx=4, sequence_idx=2, attn_head_idx=4), Node(layer_idx=4, sequence_idx=2, attn_head_idx=3), Node(layer_idx=4, sequence_idx=2, attn_head_idx=7), Node(layer_idx=4, sequence_idx=2, attn_head_idx=5), Node(layer_idx=4, sequence_idx=2, attn_head_idx=8), Node(layer_idx=4, sequence_idx=2, attn_head_idx=6)]\n",
      "Running inputs 0 to 64 (of 192)\n",
      "Running inputs 64 to 128 (of 192)\n",
      "Running inputs 128 to 192 (of 192)\n",
      "layer 2: \n",
      "new target nodes:\n",
      "[Node(layer_idx=3, sequence_idx=2, attn_head_idx=6), Node(layer_idx=3, sequence_idx=2, attn_head_idx=10), Node(layer_idx=3, sequence_idx=2, attn_head_idx=5), Node(layer_idx=3, sequence_idx=2, attn_head_idx=7), Node(layer_idx=3, sequence_idx=2, attn_head_idx=2), Node(layer_idx=3, sequence_idx=2, attn_head_idx=3)]\n",
      "Running inputs 0 to 64 (of 192)\n",
      "Running inputs 64 to 128 (of 192)\n",
      "Running inputs 128 to 192 (of 192)\n",
      "layer 1: \n",
      "new target nodes:\n",
      "[Node(layer_idx=2, sequence_idx=2, attn_head_idx=1), Node(layer_idx=2, sequence_idx=2, attn_head_idx=9), Node(layer_idx=2, sequence_idx=2, attn_head_idx=7), Node(layer_idx=2, sequence_idx=2, attn_head_idx=0), Node(layer_idx=2, sequence_idx=2, attn_head_idx=10), Node(layer_idx=2, sequence_idx=2, attn_head_idx=2)]\n",
      "Running inputs 0 to 64 (of 192)\n",
      "Running inputs 64 to 128 (of 192)\n",
      "Running inputs 128 to 192 (of 192)\n",
      "layer 0: \n",
      "new target nodes:\n",
      "[Node(layer_idx=1, sequence_idx=2, attn_head_idx=11), Node(layer_idx=1, sequence_idx=2, attn_head_idx=10), Node(layer_idx=1, sequence_idx=2, attn_head_idx=7), Node(layer_idx=1, sequence_idx=2, attn_head_idx=0), Node(layer_idx=1, sequence_idx=2, attn_head_idx=6), Node(layer_idx=1, sequence_idx=2, attn_head_idx=5)]\n",
      "Running inputs 0 to 64 (of 192)\n",
      "Running inputs 64 to 128 (of 192)\n",
      "Running inputs 128 to 192 (of 192)\n"
     ]
    }
   ],
   "source": [
    "last_layer_results.sort(key=operator.attrgetter('score'), reverse=True)\n",
    "outliers = last_layer_results[:6] # hardcoded first few N\n",
    "outliers_per_iter = [outliers]\n",
    "node_weights = [r.score for r in outliers]\n",
    "\n",
    "for layer in range(10, -1, -1):\n",
    "    target_nodes = [r.ablation_set[0] for r in outliers] # here we assume that we only ever tried to ablate one node at once; our method doesn't handle anything else\n",
    "    sum_scores = sum([r.score for r in outliers])\n",
    "    node_weights = [r.score / sum_scores for r in outliers]\n",
    "    print(\"layer %d: \" % layer)\n",
    "    print(\"new target nodes:\")\n",
    "    print(target_nodes)\n",
    "    ranges = [\n",
    "            [layer],\n",
    "            [sequence_position for sequence_position in range(input_shape[1])],\n",
    "            [attention_head_idx for attention_head_idx in range(12)]\n",
    "        ]\n",
    "\n",
    "    source_nodes = [Node(*x) for x in itertools.product(*ranges)]\n",
    "    ablation_sets = [(n,) for n in source_nodes]\n",
    "\n",
    "    prop_fn = lambda ablation_list: prop_GPT(encoding_idxs[0:1, :], extended_attention_mask, model, ablation_list, target_nodes=target_nodes, device=device, mean_acts=mean_acts, set_irrel_to_mean=True, cached_pre_layer_acts=pre_layer_activations)\n",
    "    _, target_decomps = batch_run(prop_fn, ablation_sets) # why does this run so slowly? is it because moving target decomps is slow or something?\n",
    "\n",
    "    results = []\n",
    "    for target_decomp in target_decomps:\n",
    "        # this is just the same as what we did on BERT, seems like we take the ratio of the l1 norm of rel to l1 norm of irrel, summed over target nodes\n",
    "        score = 0\n",
    "        for i in range(len(target_decomp.target_nodes)):\n",
    "            weight = node_weights[i]\n",
    "            rels_magnitude = torch.mean(abs(target_decomp.rels[i])) # np.mean if you are on cpu\n",
    "            irrels_magnitude = torch.mean(abs(target_decomp.irrels[i])) # np.mean if you are on cpu\n",
    "            target_node_score = rels_magnitude / (rels_magnitude + irrels_magnitude)\n",
    "            score += (target_node_score * weight)\n",
    "        results.append(Result(target_decomp.ablation_set, score))\n",
    "    results.sort(key=operator.attrgetter('score'), reverse=True)\n",
    "    outliers = results[:6] # hardcoded first few N\n",
    "    outliers_per_iter.append(outliers)\n"
   ]
  },
  {
   "cell_type": "code",
   "execution_count": 26,
   "id": "f2e64cd0-7877-420b-9eed-35f9e722eb98",
   "metadata": {
    "tags": []
   },
   "outputs": [
    {
     "name": "stdout",
     "output_type": "stream",
     "text": [
      "Result(ablation_set=(Node(layer_idx=11, sequence_idx=14, attn_head_idx=0),), score=0.0627064)\n",
      "72\n"
     ]
    }
   ],
   "source": [
    "# for outs in outliers_per_iter:\n",
    "#     print([r.score for r in outs])\n",
    "\n",
    "all_outliers = sum(outliers_per_iter, [])\n",
    "print(all_outliers[0])\n",
    "print(len(all_outliers))"
   ]
  },
  {
   "cell_type": "code",
   "execution_count": 27,
   "id": "80475254-fedc-445a-b251-7ee50dd82df9",
   "metadata": {
    "tags": []
   },
   "outputs": [
    {
     "name": "stdout",
     "output_type": "stream",
     "text": [
      "Result(ablation_set=(Node(layer_idx=0, sequence_idx=2, attn_head_idx=1),), score=tensor(0.0721, device='cuda:0'))\n",
      "Result(ablation_set=(Node(layer_idx=0, sequence_idx=2, attn_head_idx=3),), score=tensor(0.0670, device='cuda:0'))\n",
      "Result(ablation_set=(Node(layer_idx=11, sequence_idx=14, attn_head_idx=0),), score=0.0627064)\n",
      "Result(ablation_set=(Node(layer_idx=11, sequence_idx=14, attn_head_idx=6),), score=0.0623091)\n",
      "Result(ablation_set=(Node(layer_idx=0, sequence_idx=2, attn_head_idx=4),), score=tensor(0.0588, device='cuda:0'))\n",
      "Result(ablation_set=(Node(layer_idx=0, sequence_idx=2, attn_head_idx=5),), score=tensor(0.0584, device='cuda:0'))\n",
      "Result(ablation_set=(Node(layer_idx=11, sequence_idx=14, attn_head_idx=2),), score=0.049144655)\n",
      "Result(ablation_set=(Node(layer_idx=11, sequence_idx=14, attn_head_idx=3),), score=0.04818679)\n",
      "Result(ablation_set=(Node(layer_idx=11, sequence_idx=14, attn_head_idx=7),), score=0.04440797)\n",
      "Result(ablation_set=(Node(layer_idx=11, sequence_idx=14, attn_head_idx=11),), score=0.0425904)\n",
      "Result(ablation_set=(Node(layer_idx=10, sequence_idx=9, attn_head_idx=0),), score=tensor(0.0415, device='cuda:0'))\n",
      "Result(ablation_set=(Node(layer_idx=0, sequence_idx=2, attn_head_idx=10),), score=tensor(0.0404, device='cuda:0'))\n",
      "Result(ablation_set=(Node(layer_idx=0, sequence_idx=2, attn_head_idx=11),), score=tensor(0.0392, device='cuda:0'))\n",
      "Result(ablation_set=(Node(layer_idx=2, sequence_idx=2, attn_head_idx=1),), score=tensor(0.0357, device='cuda:0'))\n",
      "Result(ablation_set=(Node(layer_idx=2, sequence_idx=2, attn_head_idx=9),), score=tensor(0.0308, device='cuda:0'))\n",
      "Result(ablation_set=(Node(layer_idx=3, sequence_idx=2, attn_head_idx=6),), score=tensor(0.0284, device='cuda:0'))\n",
      "Result(ablation_set=(Node(layer_idx=8, sequence_idx=2, attn_head_idx=2),), score=tensor(0.0275, device='cuda:0'))\n",
      "Result(ablation_set=(Node(layer_idx=10, sequence_idx=9, attn_head_idx=6),), score=tensor(0.0267, device='cuda:0'))\n",
      "Result(ablation_set=(Node(layer_idx=1, sequence_idx=2, attn_head_idx=11),), score=tensor(0.0266, device='cuda:0'))\n",
      "Result(ablation_set=(Node(layer_idx=8, sequence_idx=2, attn_head_idx=11),), score=tensor(0.0266, device='cuda:0'))\n",
      "Result(ablation_set=(Node(layer_idx=10, sequence_idx=9, attn_head_idx=10),), score=tensor(0.0258, device='cuda:0'))\n",
      "Result(ablation_set=(Node(layer_idx=8, sequence_idx=2, attn_head_idx=4),), score=tensor(0.0251, device='cuda:0'))\n",
      "Result(ablation_set=(Node(layer_idx=1, sequence_idx=2, attn_head_idx=10),), score=tensor(0.0249, device='cuda:0'))\n",
      "Result(ablation_set=(Node(layer_idx=1, sequence_idx=2, attn_head_idx=7),), score=tensor(0.0249, device='cuda:0'))\n",
      "Result(ablation_set=(Node(layer_idx=3, sequence_idx=2, attn_head_idx=10),), score=tensor(0.0236, device='cuda:0'))\n"
     ]
    }
   ],
   "source": [
    "all_outliers.sort(key=operator.attrgetter('score'), reverse=True)\n",
    "for x in range(25):\n",
    "    print(all_outliers[x])"
   ]
  },
  {
   "cell_type": "markdown",
   "id": "71414734-15f2-45b6-8bbc-be56faccf12f",
   "metadata": {
    "jp-MarkdownHeadingCollapsed": true,
    "tags": [],
    "user_expressions": []
   },
   "source": [
    "# Relevance of nodes to query vectors of known name mover heads"
   ]
  },
  {
   "cell_type": "code",
   "execution_count": null,
   "id": "d058dd08-37a3-4d16-b410-912568d059ae",
   "metadata": {},
   "outputs": [],
   "source": []
  }
 ],
 "metadata": {
  "kernelspec": {
   "display_name": "Python 3.12 (ipykernel)",
   "language": "python",
   "name": "python3.12"
  },
  "language_info": {
   "codemirror_mode": {
    "name": "ipython",
    "version": 3
   },
   "file_extension": ".py",
   "mimetype": "text/x-python",
   "name": "python",
   "nbconvert_exporter": "python",
   "pygments_lexer": "ipython3",
   "version": "3.12.2"
  }
 },
 "nbformat": 4,
 "nbformat_minor": 5
}
