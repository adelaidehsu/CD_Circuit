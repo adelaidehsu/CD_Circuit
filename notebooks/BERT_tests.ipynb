{
 "cells": [
  {
   "cell_type": "code",
   "execution_count": 2,
   "id": "0a1909d3-33e6-4659-b71b-beaa1122e207",
   "metadata": {
    "tags": []
   },
   "outputs": [],
   "source": [
    "%load_ext autoreload\n",
    "%autoreload 2"
   ]
  },
  {
   "cell_type": "code",
   "execution_count": 31,
   "id": "605e90bc-2589-4aee-ac16-be69829eb4ee",
   "metadata": {
    "tags": []
   },
   "outputs": [],
   "source": [
    "# no need to use these\n",
    "#import sys\n",
    "#sys.path.append(\"/accounts/campus/aliyahhsu/.local/bin\") #/accounts/campus/aliyahhsu/.local/bin\n",
    "\n",
    "#import sys\n",
    "#print(sys.path)"
   ]
  },
  {
   "cell_type": "code",
   "execution_count": null,
   "id": "1dc19267-3e90-4e69-adb0-2b3eab55ea5a",
   "metadata": {
    "tags": []
   },
   "outputs": [],
   "source": [
    "# prepare the env\n",
    "#!python3.12 -m pip install transformer_lens\n",
    "#!python3.12 -m pip install --upgrade setuptools\n",
    "#!python3.12 -m pip install --upgrade packaging\n",
    "#!python3.12 -m pip install wandb==0.17.2"
   ]
  },
  {
   "cell_type": "code",
   "execution_count": 3,
   "id": "93c544e5-bdc6-4c63-91ff-1ec7ca6e5135",
   "metadata": {
    "tags": []
   },
   "outputs": [],
   "source": [
    "import argparse\n",
    "import numpy as np\n",
    "import os\n",
    "import sys\n",
    "import pandas as pd\n",
    "import scipy as sp\n",
    "import torch\n",
    "import torch.nn.functional as F\n",
    "import warnings\n",
    "import random\n",
    "import collections\n",
    "\n",
    "# CD-T Imports\n",
    "import math\n",
    "import tqdm\n",
    "import itertools\n",
    "\n",
    "from torch import nn\n",
    "\n",
    "warnings.filterwarnings(\"ignore\")\n",
    "\n",
    "base_dir = os.path.split(os.getcwd())[0]\n",
    "sys.path.append(base_dir)\n",
    "\n",
    "from argparse import Namespace\n",
    "from methods.bag_of_ngrams.processing import cleanReports, cleanSplit, stripChars\n",
    "from pyfunctions.general import extractListFromDic, readJson, combine_token_attn, compute_word_intervals\n",
    "from pyfunctions.pathology import extract_synoptic, fixLabelProstateGleason, fixProstateLabels, fixLabel, exclude_labels\n",
    "from pyfunctions.cdt_basic import *\n",
    "from pyfunctions.cdt_source_to_target import *\n",
    "from sklearn import preprocessing\n",
    "from sklearn.model_selection import train_test_split\n",
    "from torch.utils.data import DataLoader, RandomSampler, SequentialSampler, TensorDataset\n",
    "from transformers import AutoTokenizer, AutoModel\n",
    "from transformers import BertTokenizer, BertForSequenceClassification"
   ]
  },
  {
   "cell_type": "code",
   "execution_count": 4,
   "id": "f7aea14d-bc78-4fda-871c-a1c0ebf659ae",
   "metadata": {},
   "outputs": [
    {
     "data": {
      "text/plain": [
       "<torch.autograd.grad_mode.set_grad_enabled at 0x7f857af2b6e0>"
      ]
     },
     "execution_count": 4,
     "metadata": {},
     "output_type": "execute_result"
    }
   ],
   "source": [
    "torch.autograd.set_grad_enabled(False)"
   ]
  },
  {
   "cell_type": "markdown",
   "id": "aba25ca2-4317-4d09-a9af-daa376f264a2",
   "metadata": {
    "user_expressions": []
   },
   "source": [
    "# Load data"
   ]
  },
  {
   "cell_type": "markdown",
   "id": "999e61ff-2234-4886-bd03-bc083222d1c4",
   "metadata": {
    "user_expressions": []
   },
   "source": [
    "## Model Args Setup"
   ]
  },
  {
   "cell_type": "code",
   "execution_count": 6,
   "id": "e71699a6-adb6-4362-a0e9-92e7b320dda8",
   "metadata": {
    "tags": []
   },
   "outputs": [],
   "source": [
    "args = {\n",
    "    'model_type': 'bert', # bert, medical_bert, pubmed_bert, biobert, clinical_biobert\n",
    "    'field': 'PrimaryGleason'\n",
    "}\n",
    "\n",
    "device = 'cuda:0'"
   ]
  },
  {
   "cell_type": "code",
   "execution_count": 7,
   "id": "156716db-77f8-4721-b8d5-6691c34384b3",
   "metadata": {
    "tags": []
   },
   "outputs": [],
   "source": [
    "if args['model_type'] == 'bert':\n",
    "    bert_path = 'bert-base-uncased'\n",
    "    tokenizer = BertTokenizer.from_pretrained('bert-base-uncased')\n",
    "elif args['model_type'] == 'medical_bert':\n",
    "    bert_path = f\"{base_dir}/models/pretrained/bert_pretrain_output_all_notes_150000/\"\n",
    "    tokenizer = BertTokenizer.from_pretrained(bert_path, local_files_only=True)\n",
    "elif args['model_type'] == 'pubmed_bert':\n",
    "    bert_path = \"microsoft/BiomedNLP-PubMedBERT-base-uncased-abstract\"\n",
    "    tokenizer = AutoTokenizer.from_pretrained(\"microsoft/BiomedNLP-PubMedBERT-base-uncased-abstract\")\n",
    "elif args['model_type'] == 'pubmed_bert_full':\n",
    "    bert_path = \"microsoft/BiomedNLP-PubMedBERT-base-uncased-abstract-fulltext\"\n",
    "    tokenizer = AutoTokenizer.from_pretrained(\"microsoft/BiomedNLP-PubMedBERT-base-uncased-abstract-fulltext\")\n",
    "elif args['model_type'] == 'biobert':\n",
    "    bert_path = \"dmis-lab/biobert-v1.1\"\n",
    "    tokenizer = AutoTokenizer.from_pretrained(\"dmis-lab/biobert-v1.1\")\n",
    "elif args['model_type'] == 'clinical_biobert':\n",
    "    bert_path = \"emilyalsentzer/Bio_ClinicalBERT\"\n",
    "    tokenizer = AutoTokenizer.from_pretrained(\"emilyalsentzer/Bio_ClinicalBERT\")"
   ]
  },
  {
   "cell_type": "markdown",
   "id": "317314a3-35be-4ed8-8f97-5e6f8e3dcc0e",
   "metadata": {
    "user_expressions": []
   },
   "source": [
    "# Load data"
   ]
  },
  {
   "cell_type": "code",
   "execution_count": null,
   "id": "b8dfdc2d-1a14-493a-97cf-372360d47e28",
   "metadata": {},
   "outputs": [],
   "source": [
    "# Read in data\n",
    "#field = 'PrimaryGleason' # out of PrimaryGleason, SecondaryGleason', 'MarginStatusNone', 'SeminalVesicleNone'\n",
    "path = os.path.join(base_dir, \"data/prostate.json\")\n",
    "data = readJson(path)\n",
    "\n",
    "# Clean reports\n",
    "data = cleanSplit(data, stripChars)\n",
    "data['dev_test'] = cleanReports(data['dev_test'], stripChars)\n",
    "data = fixLabel(data)\n",
    "\n",
    "train_documents = [extract_synoptic(patient['document'].lower(), tokenizer) for patient in data['train']]\n",
    "val_documents = [extract_synoptic(patient['document'].lower(), tokenizer) for patient in data['val']]\n",
    "test_documents = [extract_synoptic(patient['document'].lower(), tokenizer) for patient in data['test']]\n",
    "print(len(train_documents), len(val_documents),len(test_documents))"
   ]
  },
  {
   "cell_type": "code",
   "execution_count": 13,
   "id": "27e43810-996b-484d-adfd-6c251385239a",
   "metadata": {
    "tags": []
   },
   "outputs": [],
   "source": [
    "# Create datasets\n",
    "train_labels = [patient['labels'][args['field']] for patient in data['train']]\n",
    "val_labels = [patient['labels'][args['field']] for patient in data['val']]\n",
    "test_labels = [patient['labels'][args['field']] for patient in data['test']]\n",
    "\n",
    "train_documents, train_labels = exclude_labels(train_documents, train_labels)\n",
    "val_documents, val_labels = exclude_labels(val_documents, val_labels)\n",
    "test_documents, test_labels = exclude_labels(test_documents, test_labels)\n",
    "\n",
    "le = preprocessing.LabelEncoder()\n",
    "le.fit(train_labels)\n",
    "\n",
    "# Map raw label to processed label\n",
    "le_dict = dict(zip(le.classes_, le.transform(le.classes_)))\n",
    "le_dict = {str(key):le_dict[key] for key in le_dict}\n",
    "\n",
    "for label in val_labels + test_labels:\n",
    "    if str(label) not in le_dict:\n",
    "        le_dict[str(label)] = len(le_dict)\n",
    "\n",
    "# Map processed label back to raw label\n",
    "inv_le_dict = {v: k for k, v in le_dict.items()}"
   ]
  },
  {
   "cell_type": "code",
   "execution_count": 14,
   "id": "b08afe78-8272-4ed4-884f-872626be3171",
   "metadata": {
    "tags": []
   },
   "outputs": [],
   "source": [
    "documents_full = train_documents + val_documents + test_documents\n",
    "labels_full = train_labels + val_labels + test_labels"
   ]
  },
  {
   "cell_type": "markdown",
   "id": "555545d7-facc-49a5-aac5-1e0b07b0fddb",
   "metadata": {
    "user_expressions": []
   },
   "source": [
    "## Load model"
   ]
  },
  {
   "cell_type": "code",
   "execution_count": 18,
   "id": "f102e901-ff93-4f8c-bd1b-8129f0089496",
   "metadata": {
    "tags": []
   },
   "outputs": [
    {
     "data": {
      "text/plain": [
       "BertForSequenceClassification(\n",
       "  (bert): BertModel(\n",
       "    (embeddings): BertEmbeddings(\n",
       "      (word_embeddings): Embedding(30522, 768, padding_idx=0)\n",
       "      (position_embeddings): Embedding(512, 768)\n",
       "      (token_type_embeddings): Embedding(2, 768)\n",
       "      (LayerNorm): LayerNorm((768,), eps=1e-12, elementwise_affine=True)\n",
       "      (dropout): Dropout(p=0.1, inplace=False)\n",
       "    )\n",
       "    (encoder): BertEncoder(\n",
       "      (layer): ModuleList(\n",
       "        (0-11): 12 x BertLayer(\n",
       "          (attention): BertAttention(\n",
       "            (self): BertSdpaSelfAttention(\n",
       "              (query): Linear(in_features=768, out_features=768, bias=True)\n",
       "              (key): Linear(in_features=768, out_features=768, bias=True)\n",
       "              (value): Linear(in_features=768, out_features=768, bias=True)\n",
       "              (dropout): Dropout(p=0.1, inplace=False)\n",
       "            )\n",
       "            (output): BertSelfOutput(\n",
       "              (dense): Linear(in_features=768, out_features=768, bias=True)\n",
       "              (LayerNorm): LayerNorm((768,), eps=1e-12, elementwise_affine=True)\n",
       "              (dropout): Dropout(p=0.1, inplace=False)\n",
       "            )\n",
       "          )\n",
       "          (intermediate): BertIntermediate(\n",
       "            (dense): Linear(in_features=768, out_features=3072, bias=True)\n",
       "            (intermediate_act_fn): GELUActivation()\n",
       "          )\n",
       "          (output): BertOutput(\n",
       "            (dense): Linear(in_features=3072, out_features=768, bias=True)\n",
       "            (LayerNorm): LayerNorm((768,), eps=1e-12, elementwise_affine=True)\n",
       "            (dropout): Dropout(p=0.1, inplace=False)\n",
       "          )\n",
       "        )\n",
       "      )\n",
       "    )\n",
       "    (pooler): BertPooler(\n",
       "      (dense): Linear(in_features=768, out_features=768, bias=True)\n",
       "      (activation): Tanh()\n",
       "    )\n",
       "  )\n",
       "  (dropout): Dropout(p=0.1, inplace=False)\n",
       "  (classifier): Linear(in_features=768, out_features=3, bias=True)\n",
       ")"
      ]
     },
     "execution_count": 18,
     "metadata": {},
     "output_type": "execute_result"
    }
   ],
   "source": [
    "#load finetuned model\n",
    "model_path = os.path.join(base_dir, \"models/path/bert_PrimaryGleason\") # /{args['model_type']}_{args['field']}\"\n",
    "checkpoint_file = os.path.join(model_path, \"save_output\")\n",
    "# config_file = f\"{model_path}/save_output/config.json\"\n",
    "\n",
    "model = BertForSequenceClassification.from_pretrained(checkpoint_file, num_labels=len(le_dict), output_hidden_states=True)\n",
    "\n",
    "model = model.eval()\n",
    "model.to(device)"
   ]
  },
  {
   "cell_type": "markdown",
   "id": "a7a36087-cd6c-4408-ad71-ae8de60486ab",
   "metadata": {
    "user_expressions": []
   },
   "source": [
    "## Sanity checks"
   ]
  },
  {
   "cell_type": "code",
   "execution_count": 145,
   "id": "8de7d079-5d5b-454c-ab52-118d591758af",
   "metadata": {
    "tags": []
   },
   "outputs": [],
   "source": [
    "source_list = [[(0, 0, x) for x in range(12)], [(5, 78, 6)]] #(layer, pos, attn_head)\n",
    "target_nodes = [(i+7, 6, 11) for i in range(3)]\n",
    "\n",
    "text = documents_full[120]\n",
    "encoding = get_encoding(text, tokenizer, device)\n",
    "out_decomps, target_decomps, _ = prop_BERT_hh(encoding, model, source_list, target_nodes, device, mean_acts=None, output_att_prob=False, set_irrel_to_mean=False)"
   ]
  },
  {
   "cell_type": "code",
   "execution_count": 142,
   "id": "b4043df4-8780-4f1f-a985-fe36f582a7a4",
   "metadata": {
    "tags": []
   },
   "outputs": [
    {
     "data": {
      "text/plain": [
       "[(array([[-0.2216931 ,  0.37654954, -0.23705788]], dtype=float32),\n",
       "  array([[-2.815079 ,  5.86899  , -3.3938763]], dtype=float32)),\n",
       " (array([[-0.02794807,  0.03191791, -0.00936984]], dtype=float32),\n",
       "  array([[-3.0092185,  6.213666 , -3.6212041]], dtype=float32))]"
      ]
     },
     "execution_count": 142,
     "metadata": {},
     "output_type": "execute_result"
    }
   ],
   "source": [
    "out_decomps"
   ]
  },
  {
   "cell_type": "code",
   "execution_count": 146,
   "id": "aaf12d06-48a4-42b7-a375-e31fb5a63b27",
   "metadata": {
    "tags": []
   },
   "outputs": [
    {
     "data": {
      "text/plain": [
       "[(array([[-0.36410302,  0.5577252 , -0.29722145]], dtype=float32),\n",
       "  array([[-2.672668 ,  5.687814 , -3.3337135]], dtype=float32)),\n",
       " (array([[-0.03016923,  0.04365933, -0.01757346]], dtype=float32),\n",
       "  array([[-3.0069966,  6.201925 , -3.6130009]], dtype=float32))]"
      ]
     },
     "execution_count": 146,
     "metadata": {},
     "output_type": "execute_result"
    }
   ],
   "source": [
    "out_decomps"
   ]
  },
  {
   "cell_type": "code",
   "execution_count": 147,
   "id": "1e3b054d-b29f-4384-bfb1-5b6dd781da57",
   "metadata": {
    "tags": []
   },
   "outputs": [
    {
     "data": {
      "text/plain": [
       "tensor([[-3.8459,  5.7531, -2.3518]], device='cuda:0')"
      ]
     },
     "execution_count": 147,
     "metadata": {},
     "output_type": "execute_result"
    }
   ],
   "source": [
    "logits = model(encoding['input_ids']).logits\n",
    "logits"
   ]
  },
  {
   "cell_type": "code",
   "execution_count": 151,
   "id": "9272d27f-c827-4c1a-9cc3-42fc3fbcdeee",
   "metadata": {
    "tags": []
   },
   "outputs": [
    {
     "name": "stdout",
     "output_type": "stream",
     "text": [
      "[0.0165     0.17245507 0.24120665]\n",
      "736\n",
      "[0.0164957  0.17246962 0.24122047]\n",
      "736\n",
      "[0.0141449  0.14537406 0.16366768]\n",
      "1286\n",
      "[0.01414299 0.14536524 0.163661  ]\n",
      "1286\n",
      "[0.02013254 0.54891944 0.5833664 ]\n",
      "2384\n",
      "[0.0201335 0.5489185 0.583364 ]\n",
      "2384\n",
      "[0.02800894 0.05061698 0.11377645]\n",
      "1562\n",
      "[0.02800798 0.0506196  0.11377835]\n",
      "1562\n",
      "[0.46180725 0.5767827  1.0922997 ]\n",
      "2472\n",
      "[0.4618168  0.57678556 1.0923133 ]\n",
      "2472\n",
      "[0.30555463 0.33365822 0.6787486 ]\n",
      "368\n",
      "[0.30554295 0.33365917 0.67874384]\n",
      "368\n",
      "[0.03361273 0.18153238 0.20721531]\n",
      "2754\n",
      "[0.03361177 0.18152499 0.20720553]\n",
      "2754\n"
     ]
    }
   ],
   "source": [
    "# make sure rel + irrel = total logits\n",
    "\n",
    "for i in random.sample(range(len(documents_full)), 20):\n",
    "    text = documents_full[i]\n",
    "    encoding = get_encoding(text, tokenizer, device)\n",
    "    logits = model(encoding['input_ids']).logits\n",
    "    \n",
    "    out_decomps, target_decomps, _ = prop_BERT_hh(encoding, model, source_list, target_nodes, device, mean_acts=None, output_att_prob=False, set_irrel_to_mean=False)\n",
    "    \n",
    "    for x in out_decomps:\n",
    "        #print(np.abs((x[0] + x[1]) - logits.detach().cpu().numpy())[0])\n",
    "        try:\n",
    "            assert(np.mean(np.abs((x[0] + x[1]) - logits.detach().cpu().numpy())[0]) <= 1e-04)\n",
    "        except:\n",
    "            print(np.abs((x[0] + x[1]) - logits.detach().cpu().numpy())[0])\n",
    "            print(i)"
   ]
  },
  {
   "cell_type": "code",
   "execution_count": 121,
   "id": "db8d962b-9f6f-46e2-b52e-e4c343b56419",
   "metadata": {
    "tags": []
   },
   "outputs": [
    {
     "data": {
      "text/plain": [
       "[[(array([], shape=(0, 64), dtype=float32),\n",
       "   array([], shape=(0, 64), dtype=float32)),\n",
       "  (array([], shape=(0, 64), dtype=float32),\n",
       "   array([], shape=(0, 64), dtype=float32)),\n",
       "  (array([], shape=(0, 64), dtype=float32),\n",
       "   array([], shape=(0, 64), dtype=float32)),\n",
       "  (array([], shape=(0, 64), dtype=float32),\n",
       "   array([], shape=(0, 64), dtype=float32)),\n",
       "  (array([], shape=(0, 64), dtype=float32),\n",
       "   array([], shape=(0, 64), dtype=float32)),\n",
       "  (array([], shape=(0, 64), dtype=float32),\n",
       "   array([], shape=(0, 64), dtype=float32)),\n",
       "  (array([], shape=(0, 64), dtype=float32),\n",
       "   array([], shape=(0, 64), dtype=float32)),\n",
       "  (array([[ 0.02713919, -0.0622553 ,  0.00735879, -0.02987053, -0.08705581,\n",
       "            0.11297631, -0.03065166,  0.02380989, -0.08406242, -0.01910041,\n",
       "            0.06665847, -0.01237809,  0.11193677, -0.08449186, -0.0306458 ,\n",
       "           -0.09281306, -0.0190668 ,  0.00445568, -0.0405965 , -0.1555212 ,\n",
       "           -0.01881754,  0.06485477, -0.03708712,  0.05026134, -0.00626461,\n",
       "            0.        ,  0.16311526,  0.        , -0.00815112, -0.29531834,\n",
       "            0.14774099,  0.        , -0.0651194 ,  0.        , -0.10646683,\n",
       "           -0.03685743,  0.07883031, -0.00156905,  0.13197736, -0.00546586,\n",
       "            0.0480531 ,  0.14392802, -0.06604972,  0.07387276,  0.08431737,\n",
       "           -0.06042181,  0.03309274, -0.06300436, -0.01295989,  0.        ,\n",
       "           -0.29894602, -0.13251606, -0.08182354,  0.        , -0.02145712,\n",
       "            0.02179758,  0.01726269,  0.        ,  0.06041536, -0.1176163 ,\n",
       "            0.00060317,  0.        , -0.04047351,  0.02703392]],\n",
       "         dtype=float32),\n",
       "   array([[ 6.3631052e-01, -1.2397908e+00,  3.3097845e-01, -5.8408403e-01,\n",
       "           -6.1515361e-01,  8.5568166e-01, -7.4170411e-02,  4.4707912e-01,\n",
       "           -8.2832837e-01, -3.8134760e-01,  5.9009230e-01, -1.3921091e-01,\n",
       "            8.1324726e-01, -6.0969228e-01, -6.0786688e-01, -5.6487519e-01,\n",
       "           -2.1144888e-01,  1.4044151e-01, -1.1937215e+00, -1.5867746e+00,\n",
       "           -5.0277096e-01,  1.9043278e+00, -3.3042130e-01,  6.7908818e-01,\n",
       "           -9.6442714e-02, -9.7505325e-01,  8.9868248e-01, -2.8799850e-01,\n",
       "           -5.5583847e-01, -2.1535475e+00,  1.5906869e+00,  1.7917305e-03,\n",
       "           -7.3811001e-01, -1.8835332e-02, -1.6263398e+00, -1.0511800e+00,\n",
       "            1.2610747e-01, -7.7129000e-01,  9.1938984e-01, -1.5958824e+00,\n",
       "            9.2012465e-01,  1.5614198e+00, -1.9762394e-01,  7.3860741e-01,\n",
       "            6.7971700e-01, -9.1399312e-01,  9.3139434e-01, -1.9801104e+00,\n",
       "           -8.4073067e-02,  2.3139894e-02, -3.7330676e-02, -9.7081661e-01,\n",
       "           -1.7398871e-01, -3.3867183e-01, -1.6644122e-01,  7.5112569e-01,\n",
       "            5.1519275e-01,  5.4038700e-02,  8.4009606e-01, -6.3720077e-01,\n",
       "            2.2607854e-01,  4.5658472e-01, -9.1612063e-02,  3.9529127e-01]],\n",
       "         dtype=float32)),\n",
       "  (array([[ 0.1013175 , -0.08005296,  0.0528152 , -0.05171458, -0.10453056,\n",
       "            0.11793448,  0.00514197,  0.09898865,  0.        , -0.01804138,\n",
       "            0.04751598, -0.06095075,  0.08691536, -0.00728881, -0.00610627,\n",
       "           -0.07808091, -0.02600571,  0.00118106, -0.03478917, -0.14078495,\n",
       "           -0.02393446,  0.        , -0.0284036 ,  0.        ,  0.05907965,\n",
       "            0.        ,  0.15630755, -0.05902984,  0.        , -0.28731653,\n",
       "            0.11277375,  0.        , -0.05726372,  0.        , -0.08045007,\n",
       "            0.        , -0.02348545,  0.        ,  0.09930008, -0.00221714,\n",
       "            0.08183981,  0.1895593 , -0.0335731 ,  0.11840542,  0.06805076,\n",
       "           -0.06279422,  0.03091064, -0.07611163, -0.03347555,  0.        ,\n",
       "           -0.32134998, -0.06465975, -0.16073518, -0.018072  , -0.03205755,\n",
       "            0.05258441,  0.0036589 ,  0.02142703,  0.08204406, -0.12342833,\n",
       "            0.01029488,  0.        , -0.02209087,  0.02283192]],\n",
       "         dtype=float32),\n",
       "   array([[ 0.4320879 , -0.9283019 ,  0.7302495 , -0.4153015 , -0.73976576,\n",
       "            0.8057786 ,  0.22536789,  0.60648036, -0.31132168, -0.38602132,\n",
       "            0.1563367 , -0.18063745,  0.45241293, -0.0343698 , -0.46361887,\n",
       "           -0.38128275, -0.19065866,  0.0496463 , -1.2768419 , -1.6455673 ,\n",
       "           -0.46454036,  1.3839607 , -0.30666927,  0.05623976,  0.16507983,\n",
       "           -1.1806586 ,  0.7664836 , -0.83785516, -0.5773064 , -2.076454  ,\n",
       "            1.0422621 ,  0.10047885, -0.3704284 , -0.12400708, -1.3473508 ,\n",
       "           -0.4383872 , -0.3473773 , -0.9599082 ,  0.74527144, -1.7006501 ,\n",
       "            1.3070331 ,  1.6447369 , -0.14611347,  0.71805763,  0.9200776 ,\n",
       "           -0.84435487,  0.7926049 , -1.6374655 , -0.18890786, -0.03628202,\n",
       "            0.        , -0.6315128 , -0.18342218, -0.76351166, -0.40001005,\n",
       "            1.0810263 ,  0.28615636,  0.3853953 ,  0.8074223 , -0.4783948 ,\n",
       "            0.14851385,  0.05086742, -0.13042834,  0.2615739 ]],\n",
       "         dtype=float32)),\n",
       "  (array([[ 0.09132488,  0.        ,  0.06865937, -0.10513091, -0.09262985,\n",
       "            0.09907538,  0.00497322,  0.13370007, -0.00293796,  0.        ,\n",
       "            0.        , -0.0290343 ,  0.05997245, -0.03431749, -0.05277927,\n",
       "           -0.0490259 , -0.27477163, -0.02058305, -0.00607341, -0.16897386,\n",
       "            0.        ,  0.        , -0.02549706, -0.03167962,  0.03979346,\n",
       "           -0.00729786,  0.21580248, -0.06483588,  0.00235839, -0.2729358 ,\n",
       "            0.1495641 ,  0.00624271, -0.04406117,  0.        , -0.09907889,\n",
       "            0.        , -0.02659721,  0.        ,  0.08294838, -0.01987044,\n",
       "            0.06818204,  0.20079541, -0.03193869,  0.09466637,  0.0659323 ,\n",
       "           -0.05193947,  0.01850834, -0.08999897,  0.        , -0.0974933 ,\n",
       "           -0.25789857, -0.04984169,  0.00038507, -0.01651045, -0.06511704,\n",
       "            0.00492256,  0.01444463,  0.03427876,  0.11062321, -0.11945621,\n",
       "           -0.00409841,  0.01793107,  0.00843858,  0.05601088]],\n",
       "         dtype=float32),\n",
       "   array([[ 0.21146122, -0.46730322,  0.7966927 , -0.5619912 , -0.7290633 ,\n",
       "            0.56529504,  0.18669581,  0.77341455, -0.17589307, -0.06898259,\n",
       "           -0.04208805,  0.        ,  0.41478562, -0.05883728, -0.6618964 ,\n",
       "           -0.27845418, -0.13148353, -0.26418045, -0.92025983, -1.6090436 ,\n",
       "           -0.46168035,  1.1262903 , -0.2587941 , -0.2378281 ,  0.3967877 ,\n",
       "           -1.0790944 ,  1.0605152 , -0.69653404,  0.10242316, -1.9904047 ,\n",
       "            0.64923453,  0.2707587 , -0.10395929, -0.103664  , -1.40661   ,\n",
       "           -0.1281744 , -0.15891877, -1.2904434 ,  0.5316907 , -1.7811586 ,\n",
       "            0.69641733,  1.6814951 , -0.68382066,  1.1809163 ,  0.8012446 ,\n",
       "           -0.9122145 ,  0.6493037 , -1.6107601 ,  0.09852274,  0.        ,\n",
       "           -0.34780204, -0.2858436 ,  0.13083905, -0.92303306, -0.9024214 ,\n",
       "            0.8776898 ,  0.20782223,  0.69825315,  1.2224498 , -0.2706129 ,\n",
       "           -0.1774348 ,  0.12232912,  0.07707866,  0.48275843]],\n",
       "         dtype=float32)),\n",
       "  (array([], shape=(0, 64), dtype=float32),\n",
       "   array([], shape=(0, 64), dtype=float32)),\n",
       "  (array([], shape=(0, 64), dtype=float32),\n",
       "   array([], shape=(0, 64), dtype=float32))],\n",
       " [(array([], shape=(0, 64), dtype=float32),\n",
       "   array([], shape=(0, 64), dtype=float32)),\n",
       "  (array([], shape=(0, 64), dtype=float32),\n",
       "   array([], shape=(0, 64), dtype=float32)),\n",
       "  (array([], shape=(0, 64), dtype=float32),\n",
       "   array([], shape=(0, 64), dtype=float32)),\n",
       "  (array([], shape=(0, 64), dtype=float32),\n",
       "   array([], shape=(0, 64), dtype=float32)),\n",
       "  (array([], shape=(0, 64), dtype=float32),\n",
       "   array([], shape=(0, 64), dtype=float32)),\n",
       "  (array([], shape=(0, 64), dtype=float32),\n",
       "   array([], shape=(0, 64), dtype=float32)),\n",
       "  (array([], shape=(0, 64), dtype=float32),\n",
       "   array([], shape=(0, 64), dtype=float32)),\n",
       "  (array([[ 5.3243502e-04, -4.8152106e-05,  1.7643622e-05, -5.4273284e-03,\n",
       "           -7.5349286e-03,  4.3794782e-05, -2.1827330e-03,  0.0000000e+00,\n",
       "            0.0000000e+00, -1.8028257e-03,  0.0000000e+00, -6.5495359e-04,\n",
       "            0.0000000e+00, -2.3470766e-06, -1.5624006e-03,  0.0000000e+00,\n",
       "           -9.7663806e-06,  6.2367844e-04,  0.0000000e+00, -3.8837974e-03,\n",
       "            0.0000000e+00,  2.3181839e-03,  0.0000000e+00,  2.1651670e-04,\n",
       "            0.0000000e+00,  0.0000000e+00,  3.1611514e-03,  0.0000000e+00,\n",
       "           -7.3417132e-06, -1.1176548e-03,  4.0736091e-03,  0.0000000e+00,\n",
       "            0.0000000e+00, -1.0693440e-05, -3.6215934e-03, -1.3577555e-04,\n",
       "            0.0000000e+00,  0.0000000e+00,  4.4629741e-03, -1.5636524e-03,\n",
       "            9.8633366e-03,  1.4599643e-03, -4.4660396e-03,  4.7151643e-06,\n",
       "            3.7077763e-03, -2.1535713e-04,  0.0000000e+00, -5.1440974e-04,\n",
       "           -1.2439362e-03,  4.6005723e-04, -1.8813254e-06, -2.8338830e-03,\n",
       "            0.0000000e+00,  0.0000000e+00, -5.5178796e-04,  1.2254641e-05,\n",
       "            3.9751813e-04,  1.5259082e-03,  0.0000000e+00, -1.0175473e-05,\n",
       "            1.1230472e-03,  0.0000000e+00,  0.0000000e+00,  0.0000000e+00]],\n",
       "         dtype=float32),\n",
       "   array([[ 6.62931323e-01, -1.30199909e+00,  3.38309973e-01,\n",
       "           -6.08538985e-01, -6.94667161e-01,  9.68624949e-01,\n",
       "           -1.02628887e-01,  4.70883399e-01, -9.12387609e-01,\n",
       "           -3.98649156e-01,  6.56739831e-01, -1.50935188e-01,\n",
       "            9.25193608e-01, -6.94187224e-01, -6.36953175e-01,\n",
       "           -6.57692134e-01, -2.30498299e-01,  1.44270420e-01,\n",
       "           -1.23432684e+00, -1.73841321e+00, -5.21587014e-01,\n",
       "            1.96685827e+00, -3.67507905e-01,  7.29120493e-01,\n",
       "           -1.02704674e-01, -9.75052357e-01,  1.05864096e+00,\n",
       "           -2.88008481e-01, -5.63973904e-01, -2.44774389e+00,\n",
       "            1.73434937e+00,  1.79013645e-03, -8.03220451e-01,\n",
       "           -1.88155398e-02, -1.72918093e+00, -1.08789277e+00,\n",
       "            2.04923213e-01, -7.72849977e-01,  1.04691041e+00,\n",
       "           -1.59979224e+00,  9.58304346e-01,  1.70389009e+00,\n",
       "           -2.59213626e-01,  8.12478960e-01,  7.60327578e-01,\n",
       "           -9.74204302e-01,  9.64481890e-01, -2.04260492e+00,\n",
       "           -9.57823992e-02,  2.26876289e-02, -3.36287439e-01,\n",
       "           -1.10050309e+00, -2.55818486e-01, -3.38679731e-01,\n",
       "           -1.87352195e-01,  7.72905946e-01,  5.32051146e-01,\n",
       "            5.25035560e-02,  9.00522292e-01, -7.54787624e-01,\n",
       "            2.25569308e-01,  4.56578523e-01, -1.32093489e-01,\n",
       "            4.22325373e-01]], dtype=float32)),\n",
       "  (array([[ 1.6252199e-02, -2.2447873e-03,  6.1677507e-04, -1.3800489e-02,\n",
       "           -6.9493642e-03,  4.1345996e-03,  3.3439924e-03,  1.0212489e-04,\n",
       "            0.0000000e+00, -1.5254470e-03,  6.4155404e-03, -6.2100566e-04,\n",
       "            4.8649421e-05,  0.0000000e+00,  0.0000000e+00,  0.0000000e+00,\n",
       "           -4.9315086e-03,  0.0000000e+00, -1.7552640e-02, -8.1725642e-03,\n",
       "           -1.3320737e-02,  0.0000000e+00, -1.8885256e-03,  0.0000000e+00,\n",
       "            3.5764915e-03, -2.7731932e-03,  4.9703270e-03, -9.2937658e-04,\n",
       "            0.0000000e+00, -9.9728222e-04,  5.2155284e-03,  0.0000000e+00,\n",
       "           -9.6322404e-04,  0.0000000e+00, -2.9521296e-03,  0.0000000e+00,\n",
       "           -7.5604874e-03, -1.2982526e-04,  3.6187447e-03, -2.9156462e-03,\n",
       "            2.1134662e-02,  8.7973652e-03, -3.0463994e-03,  0.0000000e+00,\n",
       "            3.0175610e-03, -1.2921225e-03,  9.4124407e-04, -6.8083024e-03,\n",
       "           -1.0709925e-02, -5.1639844e-03, -4.8139697e-04, -6.1054304e-03,\n",
       "           -2.4650421e-02, -7.0779846e-04, -5.2952450e-03,  4.7180813e-04,\n",
       "            4.9590781e-05,  7.0472355e-03,  5.7204785e-03, -3.4954213e-03,\n",
       "            2.1868809e-03,  8.8815737e-05,  0.0000000e+00,  0.0000000e+00]],\n",
       "         dtype=float32),\n",
       "   array([[ 0.5171684 , -1.0061065 ,  0.78243726, -0.4532258 , -0.8373458 ,\n",
       "            0.9195904 ,  0.22717191,  0.7053623 , -0.31131917, -0.40254605,\n",
       "            0.19742686, -0.24096376,  0.5392902 , -0.04166235, -0.46972382,\n",
       "           -0.45937055, -0.21172816,  0.05082434, -1.2940842 , -1.7781856 ,\n",
       "           -0.4751581 ,  1.3839557 , -0.33318233,  0.05622706,  0.22059028,\n",
       "           -1.1778858 ,  0.91782457, -0.89596194, -0.5773001 , -2.362765  ,\n",
       "            1.1498184 ,  0.10048515, -0.4267234 , -0.12399975, -1.4248384 ,\n",
       "           -0.43838203, -0.3633178 , -0.95977175,  0.84096164, -1.6999637 ,\n",
       "            1.3677288 ,  1.8255029 , -0.17664605,  0.8364691 ,  0.9851072 ,\n",
       "           -0.90586245,  0.822569  , -1.7067728 , -0.21166727, -0.03111153,\n",
       "           -0.32087645, -0.6900662 , -0.3195154 , -0.7808819 , -0.42678177,\n",
       "            1.1331408 ,  0.28975964,  0.39977086,  0.8837516 , -0.5983125 ,\n",
       "            0.15663308,  0.05077234, -0.15253201,  0.2844065 ]],\n",
       "         dtype=float32)),\n",
       "  (array([[ 4.73371428e-03,  0.00000000e+00,  1.58099819e-03,\n",
       "           -3.22181582e-02,  0.00000000e+00,  4.53390041e-03,\n",
       "            1.93637200e-02,  1.44074401e-02,  0.00000000e+00,\n",
       "           -1.13706861e-04,  0.00000000e+00,  0.00000000e+00,\n",
       "            0.00000000e+00, -3.26456428e-02, -5.83362393e-03,\n",
       "            0.00000000e+00, -1.22902595e-01,  0.00000000e+00,\n",
       "           -1.28709683e-02, -1.90968253e-02,  0.00000000e+00,\n",
       "            1.06319238e-03, -4.76234592e-03, -4.65345010e-03,\n",
       "            1.04982161e-03, -3.22408183e-03,  2.35694423e-02,\n",
       "           -5.03374729e-03,  1.00072678e-02,  0.00000000e+00,\n",
       "            1.37816556e-02,  9.98853892e-03,  0.00000000e+00,\n",
       "            0.00000000e+00, -1.92708033e-03,  0.00000000e+00,\n",
       "           -2.62159202e-03,  0.00000000e+00,  4.09853458e-03,\n",
       "           -9.63510573e-03,  1.44595746e-02,  2.77094115e-02,\n",
       "           -1.50837144e-03,  1.04481596e-02,  2.45444896e-03,\n",
       "           -5.98334882e-04,  1.08113838e-03, -1.74428821e-02,\n",
       "            0.00000000e+00,  0.00000000e+00,  0.00000000e+00,\n",
       "           -2.17013969e-03,  0.00000000e+00, -1.25012547e-02,\n",
       "           -1.52439475e-02,  1.95457470e-02,  1.60028017e-03,\n",
       "            8.11658241e-03,  1.88294854e-02, -2.13814387e-03,\n",
       "           -3.90073983e-03,  5.29051526e-03,  4.30423860e-03,\n",
       "            1.07591168e-03]], dtype=float32),\n",
       "   array([[ 0.29806545, -0.46730337,  0.8637598 , -0.634903  , -0.8216981 ,\n",
       "            0.65984523,  0.17231995,  0.89270353, -0.1788235 , -0.06887713,\n",
       "           -0.04210162, -0.02903188,  0.474771  , -0.06051864, -0.70884234,\n",
       "           -0.32748404, -0.28335762, -0.2847632 , -0.9134665 , -1.7589283 ,\n",
       "           -0.46169043,  1.1252272 , -0.27952224, -0.26486862,  0.43553942,\n",
       "           -1.0831668 ,  1.2527534 , -0.75633943,  0.0947841 , -2.2633302 ,\n",
       "            0.7850208 ,  0.26701683, -0.14801061, -0.10365344, -1.503754  ,\n",
       "           -0.12817071, -0.1829055 , -1.2904372 ,  0.6105454 , -1.7914045 ,\n",
       "            0.7501281 ,  1.8545808 , -0.7142532 ,  1.2651365 ,  0.86471975,\n",
       "           -0.96356356,  0.6667226 , -1.6833248 ,  0.09853505, -0.09749484,\n",
       "           -0.6057073 , -0.33351302,  0.13121128, -0.92705023, -0.95230395,\n",
       "            0.8630744 ,  0.22066757,  0.72441256,  1.314245  , -0.38791695,\n",
       "           -0.17762214,  0.13496187,  0.08120154,  0.53768945]],\n",
       "         dtype=float32)),\n",
       "  (array([], shape=(0, 64), dtype=float32),\n",
       "   array([], shape=(0, 64), dtype=float32)),\n",
       "  (array([], shape=(0, 64), dtype=float32),\n",
       "   array([], shape=(0, 64), dtype=float32))]]"
      ]
     },
     "execution_count": 121,
     "metadata": {},
     "output_type": "execute_result"
    }
   ],
   "source": [
    "target_decomps"
   ]
  },
  {
   "cell_type": "code",
   "execution_count": 89,
   "id": "78392331-42a7-4564-8bef-6a167003c8ec",
   "metadata": {
    "tags": []
   },
   "outputs": [
    {
     "data": {
      "text/plain": [
       "tensor([[ 6.1244, -1.8527, -3.9428]], device='cuda:0')"
      ]
     },
     "execution_count": 89,
     "metadata": {},
     "output_type": "execute_result"
    }
   ],
   "source": []
  },
  {
   "cell_type": "code",
   "execution_count": null,
   "id": "c39b1bb9-cd72-441e-b6f9-64495ab65a51",
   "metadata": {},
   "outputs": [],
   "source": []
  }
 ],
 "metadata": {
  "kernelspec": {
   "display_name": "Python 3.12 (ipykernel)",
   "language": "python",
   "name": "python3.12"
  },
  "language_info": {
   "codemirror_mode": {
    "name": "ipython",
    "version": 3
   },
   "file_extension": ".py",
   "mimetype": "text/x-python",
   "name": "python",
   "nbconvert_exporter": "python",
   "pygments_lexer": "ipython3",
   "version": "3.12.2"
  }
 },
 "nbformat": 4,
 "nbformat_minor": 5
}
