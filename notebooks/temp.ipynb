{
 "cells": [
  {
   "cell_type": "code",
   "execution_count": 1,
   "id": "e61a0720",
   "metadata": {
    "tags": []
   },
   "outputs": [],
   "source": [
    "%load_ext autoreload\n",
    "%autoreload 2"
   ]
  },
  {
   "cell_type": "code",
   "execution_count": 2,
   "id": "8a120102",
   "metadata": {
    "tags": []
   },
   "outputs": [],
   "source": [
    "# This is for if we're trying to execute on a remote JupyterHub, where the pwd is set to the server root, or else I think pwd is set correctly already.\n",
    "# %cd CD_Circuit/\n",
    "\n",
    "import argparse\n",
    "import numpy as np\n",
    "import os\n",
    "import pandas as pd\n",
    "import scipy as sp\n",
    "import sys\n",
    "import torch\n",
    "import torch.nn.functional as F\n",
    "import warnings\n",
    "import random\n",
    "import collections\n",
    "\n",
    "# CD-T Imports\n",
    "import math\n",
    "import tqdm\n",
    "import seaborn as sns\n",
    "import matplotlib.pyplot as plt\n",
    "import pickle\n",
    "import itertools\n",
    "import operator\n",
    "\n",
    "from torch import nn\n",
    "\n",
    "warnings.filterwarnings(\"ignore\")\n",
    "\n",
    "base_dir = os.path.split(os.getcwd())[0]\n",
    "sys.path.append(base_dir)\n",
    "\n",
    "from argparse import Namespace\n",
    "from methods.bag_of_ngrams.processing import cleanReports, cleanSplit, stripChars\n",
    "from pyfunctions.general import extractListFromDic, readJson, combine_token_attn, compute_word_intervals, compare_same\n",
    "from pyfunctions.pathology import extract_synoptic, fixLabelProstateGleason, fixProstateLabels, fixLabel, exclude_labels\n",
    "from pyfunctions.cdt_basic import *\n",
    "from pyfunctions.cdt_source_to_target import *\n",
    "from pyfunctions.ioi_dataset import IOIDataset\n",
    "from sklearn import preprocessing\n",
    "from sklearn.model_selection import train_test_split\n",
    "from torch.utils.data import DataLoader, RandomSampler, SequentialSampler, TensorDataset\n",
    "from transformers import AutoTokenizer, AutoModel\n",
    "from transformers import GPT2Tokenizer, GPT2Model\n",
    "from pyfunctions.wrappers import Node, AblationSet"
   ]
  },
  {
   "cell_type": "markdown",
   "id": "e7651660-7f59-4b59-a574-afecc52dc306",
   "metadata": {
    "tags": []
   },
   "source": [
    "## Load Model\n",
    "\n",
    "Note: Unlike with the BERT model + medical dataset objective, it is not necessary to pretrain GPT-2 to perform the IOI dataset.\n",
    "GPT-2-small is already capable of performing IOI; that's part of the point of the Mech Interp in the Wild paper.\n",
    "We only need to examine how it does it."
   ]
  },
  {
   "cell_type": "code",
   "execution_count": 3,
   "id": "a520f760",
   "metadata": {
    "tags": []
   },
   "outputs": [
    {
     "name": "stderr",
     "output_type": "stream",
     "text": [
      "huggingface/tokenizers: The current process just got forked, after parallelism has already been used. Disabling parallelism to avoid deadlocks...\n",
      "To disable this warning, you can either:\n",
      "\t- Avoid using `tokenizers` before the fork if possible\n",
      "\t- Explicitly set the environment variable TOKENIZERS_PARALLELISM=(true | false)\n",
      "huggingface/tokenizers: The current process just got forked, after parallelism has already been used. Disabling parallelism to avoid deadlocks...\n",
      "To disable this warning, you can either:\n",
      "\t- Avoid using `tokenizers` before the fork if possible\n",
      "\t- Explicitly set the environment variable TOKENIZERS_PARALLELISM=(true | false)\n",
      "huggingface/tokenizers: The current process just got forked, after parallelism has already been used. Disabling parallelism to avoid deadlocks...\n",
      "To disable this warning, you can either:\n",
      "\t- Avoid using `tokenizers` before the fork if possible\n",
      "\t- Explicitly set the environment variable TOKENIZERS_PARALLELISM=(true | false)\n",
      "huggingface/tokenizers: The current process just got forked, after parallelism has already been used. Disabling parallelism to avoid deadlocks...\n",
      "To disable this warning, you can either:\n",
      "\t- Avoid using `tokenizers` before the fork if possible\n",
      "\t- Explicitly set the environment variable TOKENIZERS_PARALLELISM=(true | false)\n",
      "huggingface/tokenizers: The current process just got forked, after parallelism has already been used. Disabling parallelism to avoid deadlocks...\n",
      "To disable this warning, you can either:\n",
      "\t- Avoid using `tokenizers` before the fork if possible\n",
      "\t- Explicitly set the environment variable TOKENIZERS_PARALLELISM=(true | false)\n",
      "huggingface/tokenizers: The current process just got forked, after parallelism has already been used. Disabling parallelism to avoid deadlocks...\n",
      "To disable this warning, you can either:\n",
      "\t- Avoid using `tokenizers` before the fork if possible\n",
      "\t- Explicitly set the environment variable TOKENIZERS_PARALLELISM=(true | false)\n",
      "huggingface/tokenizers: The current process just got forked, after parallelism has already been used. Disabling parallelism to avoid deadlocks...\n",
      "To disable this warning, you can either:\n",
      "\t- Avoid using `tokenizers` before the fork if possible\n",
      "\t- Explicitly set the environment variable TOKENIZERS_PARALLELISM=(true | false)\n",
      "huggingface/tokenizers: The current process just got forked, after parallelism has already been used. Disabling parallelism to avoid deadlocks...\n",
      "To disable this warning, you can either:\n",
      "\t- Avoid using `tokenizers` before the fork if possible\n",
      "\t- Explicitly set the environment variable TOKENIZERS_PARALLELISM=(true | false)\n"
     ]
    },
    {
     "name": "stdout",
     "output_type": "stream",
     "text": [
      "Loaded pretrained model gpt2-small into HookedTransformer\n"
     ]
    }
   ],
   "source": [
    "device = 'cuda:0' if torch.cuda.is_available() else 'cpu'\n",
    "torch.autograd.set_grad_enabled(False)\n",
    "# Model code adapted from Callum McDougall's notebook for ARENA on reproducing the IOI paper using TransformerLens.\n",
    "# This makes some sense, since EasyTransformer, the repo/lib released by the IOI guys, was forked from TransformerLens.\n",
    "# In fact, this makes the reproduction a little bit more faithful, since they most likely do certain things such as \n",
    "# \"folding\" LayerNorms to improve their interpretability results, and we are able to do the same by using TransformerLens.\n",
    "# HuggingFace, by contrast, has the most impenetrable docs and tons of outdated APIs and etc.; even their source \n",
    "# code is impossible to traverse, and I gave up on it, thankfully quickly.\n",
    "\n",
    "from transformer_lens import utils, HookedTransformer, ActivationCache\n",
    "model = HookedTransformer.from_pretrained(\"gpt2-small\",\n",
    "                                          center_unembed=True,\n",
    "                                          center_writing_weights=True,\n",
    "                                          fold_ln=False,\n",
    "                                          refactor_factored_attn_matrices=True)\n",
    "                                          "
   ]
  },
  {
   "cell_type": "markdown",
   "id": "a6ffd4d3-5e8f-4587-bb2a-f06b61918c09",
   "metadata": {
    "user_expressions": []
   },
   "source": [
    "## Generate mean activations\n",
    "\n",
    "This is not as simple as it sounds; for the IOI paper, for each individual input following a template, they ablate using the mean activations of the \"ABC\" dataset, generated over sentences following the same template."
   ]
  },
  {
   "cell_type": "code",
   "execution_count": 4,
   "id": "9ab88048",
   "metadata": {
    "tags": []
   },
   "outputs": [
    {
     "name": "stderr",
     "output_type": "stream",
     "text": [
      "2024-09-10 14:13:01.683864: I tensorflow/core/platform/cpu_feature_guard.cc:210] This TensorFlow binary is optimized to use available CPU instructions in performance-critical operations.\n",
      "To enable the following instructions: AVX2 FMA, in other operations, rebuild TensorFlow with the appropriate compiler flags.\n",
      "2024-09-10 14:13:06.292389: W tensorflow/compiler/tf2tensorrt/utils/py_utils.cc:38] TF-TRT Warning: Could not find TensorRT\n"
     ]
    },
    {
     "data": {
      "text/plain": [
       "torch.Size([12, 16, 768])"
      ]
     },
     "execution_count": 4,
     "metadata": {},
     "output_type": "execute_result"
    }
   ],
   "source": [
    "from pyfunctions.ioi_dataset import IOIDataset\n",
    "\n",
    "# Generate a dataset all consisting of one template, randomly chosen.\n",
    "# nb_templates = 2 due to some logic internal to IOIDataset:\n",
    "# essentially, the nouns can be an ABBA or ABAB order and that counts as separate templates.\n",
    "ioi_dataset = IOIDataset(prompt_type=\"mixed\", N=50, tokenizer=model.tokenizer, prepend_bos=False, nb_templates=2)\n",
    "\n",
    "# This is the P_ABC that is mentioned in the IOI paper, which we use for mean ablation.\n",
    "# Importantly, passing in prompt_type=\"ABC\" or similar is NOT the same thing as this.\n",
    "abc_dataset = (\n",
    "    ioi_dataset.gen_flipped_prompts((\"IO\", \"RAND\"))\n",
    "    .gen_flipped_prompts((\"S\", \"RAND\"))\n",
    "    .gen_flipped_prompts((\"S1\", \"RAND\"))\n",
    ")\n",
    "\n",
    "logits, cache = model.run_with_cache(abc_dataset.toks) # run on entire dataset along batch dimension\n",
    "\n",
    "attention_outputs = [cache['blocks.' + str(i) + '.hook_attn_out'] for i in range(12)]\n",
    "attention_outputs = torch.stack(attention_outputs, dim=1) # now batch, head, seq, d_model\n",
    "mean_acts = torch.mean(attention_outputs, dim=0)\n",
    "mean_acts.shape"
   ]
  },
  {
   "cell_type": "code",
   "execution_count": 13,
   "id": "002719f5-1469-44e4-8abf-915095d096d5",
   "metadata": {
    "tags": []
   },
   "outputs": [
    {
     "name": "stdout",
     "output_type": "stream",
     "text": [
      "cuda:0\n"
     ]
    }
   ],
   "source": [
    "print(logits.device)"
   ]
  },
  {
   "cell_type": "code",
   "execution_count": 10,
   "id": "2b745d68-c87f-48c7-b250-17270f3841c6",
   "metadata": {
    "tags": []
   },
   "outputs": [
    {
     "data": {
      "text/plain": [
       "50"
      ]
     },
     "execution_count": 10,
     "metadata": {},
     "output_type": "execute_result"
    }
   ],
   "source": [
    "len(ioi_dataset.io_tokenIDs)"
   ]
  },
  {
   "cell_type": "code",
   "execution_count": 11,
   "id": "9b5fbb34-e59a-4466-b18e-fde963505a4d",
   "metadata": {
    "tags": []
   },
   "outputs": [
    {
     "ename": "RuntimeError",
     "evalue": "CUDA error: device-side assert triggered\nCUDA kernel errors might be asynchronously reported at some other API call, so the stacktrace below might be incorrect.\nFor debugging consider passing CUDA_LAUNCH_BLOCKING=1.\nCompile with `TORCH_USE_CUDA_DSA` to enable device-side assertions.\n",
     "output_type": "error",
     "traceback": [
      "\u001b[0;31m---------------------------------------------------------------------------\u001b[0m",
      "\u001b[0;31mRuntimeError\u001b[0m                              Traceback (most recent call last)",
      "Cell \u001b[0;32mIn[11], line 1\u001b[0m\n\u001b[0;32m----> 1\u001b[0m l \u001b[38;5;241m=\u001b[39m \u001b[43mlogits\u001b[49m\u001b[38;5;241;43m.\u001b[39;49m\u001b[43mcpu\u001b[49m\u001b[43m(\u001b[49m\u001b[43m)\u001b[49m\u001b[38;5;241m.\u001b[39mnumpy()\n",
      "\u001b[0;31mRuntimeError\u001b[0m: CUDA error: device-side assert triggered\nCUDA kernel errors might be asynchronously reported at some other API call, so the stacktrace below might be incorrect.\nFor debugging consider passing CUDA_LAUNCH_BLOCKING=1.\nCompile with `TORCH_USE_CUDA_DSA` to enable device-side assertions.\n"
     ]
    }
   ],
   "source": [
    "l = logits.cpu().numpy()\n"
   ]
  },
  {
   "cell_type": "code",
   "execution_count": 8,
   "id": "4496c476-af7c-4b6e-a562-45d024743240",
   "metadata": {
    "tags": []
   },
   "outputs": [
    {
     "ename": "RuntimeError",
     "evalue": "CUDA error: device-side assert triggered\nCUDA kernel errors might be asynchronously reported at some other API call, so the stacktrace below might be incorrect.\nFor debugging consider passing CUDA_LAUNCH_BLOCKING=1.\nCompile with `TORCH_USE_CUDA_DSA` to enable device-side assertions.\n",
     "output_type": "error",
     "traceback": [
      "\u001b[0;31m---------------------------------------------------------------------------\u001b[0m",
      "\u001b[0;31mRuntimeError\u001b[0m                              Traceback (most recent call last)",
      "Cell \u001b[0;32mIn[8], line 9\u001b[0m\n\u001b[1;32m      1\u001b[0m \u001b[38;5;66;03m# logits[ioi_dataset.io_tokenIDs]\u001b[39;00m\n\u001b[1;32m      2\u001b[0m \u001b[38;5;66;03m# out[i] = logits[i, 16, io_tokenIDs[i]]\u001b[39;00m\n\u001b[1;32m      4\u001b[0m \u001b[38;5;124;03m'''\u001b[39;00m\n\u001b[1;32m      5\u001b[0m \u001b[38;5;124;03mout[i][j][k] = input[index[i][j][k]][j][k]  # if dim == 0\u001b[39;00m\n\u001b[1;32m      6\u001b[0m \u001b[38;5;124;03mout[i][j][k] = input[i][index[i][j][k]][k]  # if dim == 1\u001b[39;00m\n\u001b[1;32m      7\u001b[0m \u001b[38;5;124;03mout[i][j][k] = input[i][j][index[i][j][k]]  # if dim == 2\u001b[39;00m\n\u001b[1;32m      8\u001b[0m \u001b[38;5;124;03m'''\u001b[39;00m\n\u001b[0;32m----> 9\u001b[0m l \u001b[38;5;241m=\u001b[39m \u001b[43mlogits\u001b[49m\u001b[38;5;241;43m.\u001b[39;49m\u001b[43mcpu\u001b[49m\u001b[43m(\u001b[49m\u001b[43m)\u001b[49m\u001b[38;5;241m.\u001b[39mnumpy()\n\u001b[1;32m     10\u001b[0m \u001b[38;5;28;01mfor\u001b[39;00m i \u001b[38;5;129;01min\u001b[39;00m \u001b[38;5;28mrange\u001b[39m(\u001b[38;5;241m50\u001b[39m):\n\u001b[1;32m     11\u001b[0m     io_score \u001b[38;5;241m=\u001b[39m l[i, \u001b[38;5;241m-\u001b[39m\u001b[38;5;241m1\u001b[39m, ioi_dataset\u001b[38;5;241m.\u001b[39mio_tokenIDs[i]]\n",
      "\u001b[0;31mRuntimeError\u001b[0m: CUDA error: device-side assert triggered\nCUDA kernel errors might be asynchronously reported at some other API call, so the stacktrace below might be incorrect.\nFor debugging consider passing CUDA_LAUNCH_BLOCKING=1.\nCompile with `TORCH_USE_CUDA_DSA` to enable device-side assertions.\n"
     ]
    }
   ],
   "source": [
    "# logits[ioi_dataset.io_tokenIDs]\n",
    "# out[i] = logits[i, 16, io_tokenIDs[i]]\n",
    "       \n",
    "'''\n",
    "out[i][j][k] = input[index[i][j][k]][j][k]  # if dim == 0\n",
    "out[i][j][k] = input[i][index[i][j][k]][k]  # if dim == 1\n",
    "out[i][j][k] = input[i][j][index[i][j][k]]  # if dim == 2\n",
    "'''\n",
    "l = logits.cpu().numpy()\n",
    "for i in range(50):\n",
    "    io_score = l[i, -1, ioi_dataset.io_tokenIDs[i]]\n",
    "    s_score = l[i, -1, ioi_dataset.s_tokenIDs[i]]\n",
    "    print(io_score - s_score)"
   ]
  },
  {
   "cell_type": "code",
   "execution_count": 41,
   "id": "86c32de5",
   "metadata": {
    "tags": []
   },
   "outputs": [],
   "source": [
    "\n",
    "# source_list = [Node(0, 0, 0), Node(1, 1, 1)]\n",
    "# target_nodes = [(7, 0, 1)]\n",
    "\n",
    "text = ioi_dataset.sentences[0]\n",
    "encoding = model.tokenizer.encode_plus(text, \n",
    "                                 add_special_tokens=True, \n",
    "                                 max_length=512,\n",
    "                                 truncation=True, \n",
    "                                 padding = \"longest\", \n",
    "                                 return_attention_mask=True, \n",
    "                                 return_tensors=\"pt\").to(device)\n",
    "encoding_idxs, attention_mask = encoding.input_ids, encoding.attention_mask\n",
    "input_shape = encoding_idxs.size()\n",
    "extended_attention_mask = get_extended_attention_mask(attention_mask, \n",
    "                                                        input_shape, \n",
    "                                                        model,\n",
    "                                                        device)\n",
    "# out_decomps, target_decomps, _ = prop_GPT(encoding_idxs, extended_attention_mask, model, source_list, target_nodes, mean_acts=mean_acts, set_irrel_to_mean=True, device=device)"
   ]
  },
  {
   "cell_type": "markdown",
   "id": "0964cc25",
   "metadata": {
    "tags": []
   },
   "source": [
    "Note it is possible to do the analysis \"batchwise\" by just taking the mean of the relevance scores (at time of writing, this detail isn't in the paper, I think)."
   ]
  },
  {
   "cell_type": "markdown",
   "id": "021fbe20-4659-461f-a343-8b9d9d1dc6e9",
   "metadata": {
    "tags": [],
    "user_expressions": []
   },
   "source": [
    "## Ablating last layer and determining value of irrel"
   ]
  },
  {
   "cell_type": "code",
   "execution_count": 35,
   "id": "bb4c809f",
   "metadata": {
    "tags": []
   },
   "outputs": [
    {
     "name": "stdout",
     "output_type": "stream",
     "text": [
      "irrel_norm after adding MLP residual 255.05615\n",
      "irrel_norm after adding MLP residual 676.1274\n",
      "irrel_norm after adding MLP residual 2578.7163\n",
      "irrel_norm after adding MLP residual 2763.5842\n",
      "irrel_norm after adding MLP residual 2913.5564\n",
      "irrel_norm after adding MLP residual 3009.102\n",
      "irrel_norm after adding MLP residual 3068.748\n",
      "irrel_norm after adding MLP residual 3108.4463\n",
      "irrel_norm after adding MLP residual 3140.0432\n",
      "irrel_norm after adding MLP residual 3172.3188\n",
      "irrel_norm after adding MLP residual 3247.7039\n",
      "irrel_norm after adding MLP residual 0.0\n",
      "rel norm:  3173.863\n",
      "irrel norm:  0.0\n"
     ]
    }
   ],
   "source": [
    "import functools\n",
    "ranges = [\n",
    "        [layer for layer in range(11, 12)],\n",
    "        [sequence_position for sequence_position in range(input_shape[1])],\n",
    "        [attention_head_idx for attention_head_idx in range(12)]\n",
    "    ]\n",
    "\n",
    "source_nodes = [Node(*x) for x in itertools.product(*ranges)]\n",
    "ablation_sets = [tuple(n for n in source_nodes)] # here, note ablation set is a single set consisting of all source nodes in (ranges)\n",
    "\n",
    "target_nodes = []\n",
    "out_decomp, _, _, pre_layer_activations = prop_GPT(encoding_idxs[0:1, :], extended_attention_mask, model, ablation_sets, target_nodes=target_nodes, device=device, mean_acts=mean_acts, set_irrel_to_mean=False)\n",
    "\n",
    "print(\"rel norm: \", np.linalg.norm(out_decomp[0].rel))\n",
    "print(\"irrel norm: \", np.linalg.norm(out_decomp[0].irrel)) # should be zero, but is not\n",
    "\n",
    "# cache activations for faster batch run\n",
    "# out_decomp, _, _, pre_layer_activations = prop_GPT(encoding_idxs[0:1, :], extended_attention_mask, model, [ablation_sets[0]], target_nodes=target_nodes, device=device, mean_acts=mean_acts, set_irrel_to_mean=True)\n",
    "\n",
    "# prop_fn = lambda ablation_list: prop_GPT(encoding_idxs[0:1, :], extended_attention_mask, model, ablation_list, target_nodes=target_nodes, device=device, mean_acts=mean_acts, set_irrel_to_mean=True, cached_pre_layer_acts=pre_layer_activations)\n",
    "# out_decomps, target_decomps = batch_run(prop_fn, ablation_sets)"
   ]
  },
  {
   "cell_type": "markdown",
   "id": "cdd84716-079a-4738-9f8c-413df63c576e",
   "metadata": {
    "tags": [],
    "user_expressions": []
   },
   "source": [
    "## Generate heatmap of (attn_head, layer_idx) relevance to logits at last sequence position "
   ]
  },
  {
   "cell_type": "code",
   "execution_count": 36,
   "id": "7f2a5e85-9e93-422c-9ac1-4d13e68db186",
   "metadata": {
    "collapsed": true,
    "jupyter": {
     "outputs_hidden": true
    },
    "tags": []
   },
   "outputs": [
    {
     "name": "stdout",
     "output_type": "stream",
     "text": [
      "irrel_norm after adding MLP residual 254.02553\n",
      "irrel_norm after adding MLP residual 675.6434\n",
      "irrel_norm after adding MLP residual 2578.578\n",
      "irrel_norm after adding MLP residual 2763.414\n",
      "irrel_norm after adding MLP residual 2913.3645\n",
      "irrel_norm after adding MLP residual 3008.894\n",
      "irrel_norm after adding MLP residual 3068.5115\n",
      "irrel_norm after adding MLP residual 3108.1294\n",
      "irrel_norm after adding MLP residual 3139.6213\n",
      "irrel_norm after adding MLP residual 3171.8179\n",
      "irrel_norm after adding MLP residual 3246.8284\n",
      "irrel_norm after adding MLP residual 1746.2992\n",
      "irrel_norm after adding MLP residual 2038.7926\n",
      "irrel_norm after adding MLP residual 5407.4927\n",
      "irrel_norm after adding MLP residual 20628.658\n",
      "irrel_norm after adding MLP residual 22107.176\n",
      "irrel_norm after adding MLP residual 23306.656\n",
      "irrel_norm after adding MLP residual 24070.732\n",
      "irrel_norm after adding MLP residual 24547.443\n",
      "irrel_norm after adding MLP residual 24864.123\n",
      "irrel_norm after adding MLP residual 25115.777\n",
      "irrel_norm after adding MLP residual 25373.037\n",
      "irrel_norm after adding MLP residual 25971.594\n",
      "irrel_norm after adding MLP residual 13955.698\n",
      "irrel_norm after adding MLP residual 24072.305\n",
      "irrel_norm after adding MLP residual 24549.04\n",
      "irrel_norm after adding MLP residual 24865.871\n",
      "irrel_norm after adding MLP residual 25117.53\n",
      "irrel_norm after adding MLP residual 25374.457\n",
      "irrel_norm after adding MLP residual 25971.922\n",
      "irrel_norm after adding MLP residual 13954.319\n",
      "irrel_norm after adding MLP residual 12990.264\n",
      "irrel_norm after adding MLP residual 6985.2627\n"
     ]
    }
   ],
   "source": [
    "import functools\n",
    "ranges = [\n",
    "        [layer for layer in range(12)], \n",
    "        [sequence_position for sequence_position in range(15, 16)], # note fixed to last sequence position\n",
    "        [attention_head_idx for attention_head_idx in range(12)]\n",
    "    ]\n",
    "\n",
    "source_nodes = [Node(*x) for x in itertools.product(*ranges)]\n",
    "ablation_sets = [(n,) for n in source_nodes] # here the ablation set is one source node each\n",
    "\n",
    "# cache activations for faster batch run\n",
    "out_decomp, _, _, pre_layer_activations = prop_GPT(encoding_idxs[0:1, :], extended_attention_mask, model, [ablation_sets[0]], target_nodes=target_nodes, device=device, mean_acts=mean_acts, set_irrel_to_mean=True)\n",
    "\n",
    "prop_fn = lambda ablation_list: prop_GPT(encoding_idxs[0:1, :], extended_attention_mask, model, ablation_list, target_nodes=target_nodes, device=device, mean_acts=mean_acts, set_irrel_to_mean=True, cached_pre_layer_acts=pre_layer_activations)\n",
    "out_decomps, target_decomps = batch_run(prop_fn, ablation_sets)\n"
   ]
  },
  {
   "cell_type": "markdown",
   "id": "4baee741-2c8b-4ca3-b9e3-569191249e14",
   "metadata": {
    "tags": [],
    "user_expressions": []
   },
   "source": [
    "## Relevance increases towards earlier layers (never mind, I fixed it)"
   ]
  },
  {
   "cell_type": "code",
   "execution_count": 37,
   "id": "ae90cd5b-4b12-4b62-be84-d8abf27f674b",
   "metadata": {
    "tags": []
   },
   "outputs": [
    {
     "data": {
      "image/png": "[encoded data removed]",
      "text/plain": [
       "<Figure size 640x480 with 2 Axes>"
      ]
     },
     "metadata": {},
     "output_type": "display_data"
    }
   ],
   "source": [
    "# print([d.ablation_set for d in out_decomps]) # (0, 15, 0), (0, 15, 1)... (1, 15, 0)...\n",
    "relevances = np.zeros((12, 12))\n",
    "for layer_idx in range(12):\n",
    "    for head_idx in range(12):\n",
    "        decomp = out_decomps[12 * layer_idx + head_idx]\n",
    "        rel_io_logit = decomp.rel[0, -1, ioi_dataset.io_tokenIDs[0]]\n",
    "        rel_s_logit = decomp.rel[0, -1, ioi_dataset.s_tokenIDs[0]]\n",
    "        relevances[layer_idx, head_idx] = rel_io_logit - rel_s_logit\n",
    "\n",
    "s = sns.heatmap(relevances, xticklabels = range(12), yticklabels = range(12), cmap='Blues', cbar_kws={'label': ''})\n",
    "s.set(xlabel='Head', ylabel='Layer')\n",
    "plt.title(\"Relevance of (layer, head) to output logits\")\n",
    "plt.show()\n"
   ]
  },
  {
   "cell_type": "markdown",
   "id": "866f19e9-a28a-46b7-997a-fd286ba35748",
   "metadata": {
    "tags": [],
    "user_expressions": []
   },
   "source": [
    "## Basic local relevance sanity check"
   ]
  },
  {
   "cell_type": "code",
   "execution_count": 15,
   "id": "cad70e3c",
   "metadata": {
    "tags": []
   },
   "outputs": [],
   "source": [
    "import functools\n",
    "'''\n",
    "ranges = [\n",
    "        [layer for layer in range(1)], # only the input layer\n",
    "        [sequence_position for sequence_position in range(input_shape[1])],\n",
    "        [attention_head_idx for attention_head_idx in range(12)]\n",
    "    ]\n",
    "\n",
    "source_nodes = [Node(*x) for x in itertools.product(*ranges)]\n",
    "ablation_sets = [(n,) for n in source_nodes] # here the ablation set is one source node each\n",
    "'''\n",
    "\n",
    "ablation_sets = [tuple(Node(0, pos, head) for head in range(12)) for pos in range(16)]\n",
    "target_nodes = []\n",
    "out_decomps, _, _, pre_layer_activations = prop_GPT(encoding_idxs[0:1, :], extended_attention_mask, model, ablation_sets, target_nodes=target_nodes, device=device, mean_acts=mean_acts, set_irrel_to_mean=True)\n"
   ]
  },
  {
   "cell_type": "code",
   "execution_count": 26,
   "id": "88544298-a19f-4fe0-af3e-30c718985033",
   "metadata": {
    "tags": []
   },
   "outputs": [],
   "source": [
    "import matplotlib\n",
    "from IPython.core.display import display, HTML\n",
    "from matplotlib.colors import LinearSegmentedColormap\n",
    "\n",
    "def normalize_word_scores(word_scores):\n",
    "    neg_pos_lst = [i for i, x in enumerate(word_scores) if x < 0]\n",
    "    abs_word_scores = np.abs(word_scores)\n",
    "    normalized = (abs_word_scores-min(abs_word_scores))/(max(abs_word_scores)-min(abs_word_scores)) # in [0, 1] range\n",
    "    for i, x in enumerate(normalized):\n",
    "        if i in neg_pos_lst:\n",
    "            normalized[i] = -normalized[i]\n",
    "    return normalized\n",
    "\n",
    "def colorize(words, color_array, mid=0, eps=1e-03):\n",
    "    cmap_pos = LinearSegmentedColormap.from_list('', ['white', '#48b6df'])\n",
    "    cmap_neg = LinearSegmentedColormap.from_list('', ['white', '#dd735b'])\n",
    "    template = '<span class=\"barcode\"; style=\"color: black; background-color: {}\">{}</span>'\n",
    "    colored_string = ''\n",
    "    for word, color in zip(words, color_array):\n",
    "        if color > mid:\n",
    "          color = matplotlib.colors.rgb2hex(cmap_pos(color)[:3])\n",
    "        elif color < mid:\n",
    "          color = matplotlib.colors.rgb2hex(cmap_neg(abs(color))[:3])\n",
    "        colored_string += template.format(color, '&nbsp' + word + '&nbsp')\n",
    "    return colored_string"
   ]
  },
  {
   "cell_type": "code",
   "execution_count": 51,
   "id": "b22d38c5-29f9-40a4-a0b7-38f98fb59a92",
   "metadata": {
    "tags": []
   },
   "outputs": [],
   "source": [
    "def get_word_scores(out_decomps, ioi_dataset, data_idx):# calculate the \"ioi score\": the score of the correct logit minus the score of the subject logit\n",
    "    logits = (out_decomps[0].rel + out_decomps[0].irrel) # 1, seq_len, 50257=d_vocab]\n",
    "    io_seq_idx = ioi_dataset.io_tokenIDs[data_idx] \n",
    "    s_seq_idx = ioi_dataset.s_tokenIDs[data_idx] \n",
    "\n",
    "    io_logit = logits[0, -1, io_seq_idx]\n",
    "    s_logit = logits[0, -1, s_seq_idx]\n",
    "    full_score = np.abs(io_logit - s_logit)\n",
    "\n",
    "    # for each source node determine the contribution of rel to the actual score\n",
    "    rel_word_scores = []\n",
    "    irrel_word_scores = []\n",
    "    Result = collections.namedtuple('Result', ('ablation_set', 'score'))\n",
    "    for idx, decomp in enumerate(out_decomps):\n",
    "        assert(idx == decomp.ablation_set[0].sequence_idx)\n",
    "        rel_io_logit = decomp.rel[0, -1, io_seq_idx]\n",
    "        rel_s_logit = decomp.rel[0, -1, s_seq_idx]\n",
    "        rel_score = rel_io_logit - rel_s_logit\n",
    "        rel_norm_score = rel_score / full_score\n",
    "        rel_word_scores.append(rel_norm_score)\n",
    "        irrel_io_logit = decomp.irrel[0, -1, io_seq_idx]\n",
    "        irrel_s_logit = decomp.irrel[0, -1, s_seq_idx]\n",
    "        irrel_score = irrel_io_logit - irrel_s_logit\n",
    "        irrel_norm_score = irrel_score / full_score\n",
    "        irrel_word_scores.append(irrel_norm_score)\n",
    "    irrel_word_scores = normalize_word_scores(irrel_word_scores)\n",
    "    rel_word_scores = normalize_word_scores(rel_word_scores)\n",
    "    return rel_word_scores, irrel_word_scores\n"
   ]
  },
  {
   "cell_type": "code",
   "execution_count": 21,
   "id": "03518f41-93fa-47e3-bfda-b8fa8e2b34a5",
   "metadata": {
    "tags": []
   },
   "outputs": [],
   "source": [
    "irrel_word_scores = normalize_word_scores(irrel_word_scores)\n",
    "rel_word_scores = normalize_word_scores(rel_word_scores)"
   ]
  },
  {
   "cell_type": "code",
   "execution_count": 48,
   "id": "dd36378c-a971-44b8-9759-73eb833f0983",
   "metadata": {
    "tags": []
   },
   "outputs": [
    {
     "data": {
      "text/plain": [
       "'Then|,| Michelle| and| Christine| went| to| the| store|.| Christine| gave| a| drink| to| Michelle'"
      ]
     },
     "execution_count": 48,
     "metadata": {},
     "output_type": "execute_result"
    }
   ],
   "source": [
    "ioi_dataset.tokenized_prompts[0]"
   ]
  },
  {
   "cell_type": "code",
   "execution_count": 22,
   "id": "bf4d2aae-d7c5-4c5a-93b0-bf346e1b6853",
   "metadata": {
    "tags": []
   },
   "outputs": [
    {
     "name": "stdout",
     "output_type": "stream",
     "text": [
      "['Then', ',', ' Danielle', ' and', ' Jose', ' went', ' to', ' the', ' station', '.', ' Jose', ' gave', ' a', ' snack', ' to', ' Danielle']\n"
     ]
    }
   ],
   "source": [
    "tokens = ioi_dataset.tokenized_prompts[0].split('|')\n",
    "print(tokens)"
   ]
  },
  {
   "cell_type": "code",
   "execution_count": 27,
   "id": "f4401803-697d-4dc3-8212-fd99658257a5",
   "metadata": {
    "tags": []
   },
   "outputs": [
    {
     "data": {
      "text/html": [
       "<span class=\"barcode\"; style=\"color: black; background-color: #faebe8\">&nbspThen&nbsp</span><span class=\"barcode\"; style=\"color: black; background-color: #faebe8\">&nbsp,&nbsp</span><span class=\"barcode\"; style=\"color: black; background-color: #9fd9ee\">&nbsp Danielle&nbsp</span><span class=\"barcode\"; style=\"color: black; background-color: #f6dbd5\">&nbsp and&nbsp</span><span class=\"barcode\"; style=\"color: black; background-color: #dd735b\">&nbsp Jose&nbsp</span><span class=\"barcode\"; style=\"color: black; background-color: #f7ded8\">&nbsp went&nbsp</span><span class=\"barcode\"; style=\"color: black; background-color: #f9e8e4\">&nbsp to&nbsp</span><span class=\"barcode\"; style=\"color: black; background-color: #f9e5e0\">&nbsp the&nbsp</span><span class=\"barcode\"; style=\"color: black; background-color: #f8e0db\">&nbsp station&nbsp</span><span class=\"barcode\"; style=\"color: black; background-color: #f8e2de\">&nbsp.&nbsp</span><span class=\"barcode\"; style=\"color: black; background-color: #f4d1ca\">&nbsp Jose&nbsp</span><span class=\"barcode\"; style=\"color: black; background-color: #faece9\">&nbsp gave&nbsp</span><span class=\"barcode\"; style=\"color: black; background-color: #f9e5e1\">&nbsp a&nbsp</span><span class=\"barcode\"; style=\"color: black; background-color: #fae9e5\">&nbsp snack&nbsp</span><span class=\"barcode\"; style=\"color: black; background-color: -0.0\">&nbsp to&nbsp</span><span class=\"barcode\"; style=\"color: black; background-color: #aaddf0\">&nbsp Danielle&nbsp</span>"
      ],
      "text/plain": [
       "<IPython.core.display.HTML object>"
      ]
     },
     "metadata": {},
     "output_type": "display_data"
    }
   ],
   "source": [
    "s = colorize(tokens, rel_word_scores)\n",
    "display(HTML(s))"
   ]
  },
  {
   "cell_type": "code",
   "execution_count": 37,
   "id": "c5e126fe-dd8b-4bb8-94f6-dd44c258e5fb",
   "metadata": {
    "tags": []
   },
   "outputs": [
    {
     "data": {
      "text/html": [
       "<span class=\"barcode\"; style=\"color: black; background-color: #e1826d\">&nbspThen&nbsp</span><span class=\"barcode\"; style=\"color: black; background-color: #e59380\">&nbsp,&nbsp</span><span class=\"barcode\"; style=\"color: black; background-color: #48b6df\">&nbsp Danielle&nbsp</span><span class=\"barcode\"; style=\"color: black; background-color: #e18570\">&nbsp and&nbsp</span><span class=\"barcode\"; style=\"color: black; background-color: #df7c66\">&nbsp Kelly&nbsp</span><span class=\"barcode\"; style=\"color: black; background-color: #dd745c\">&nbsp went&nbsp</span><span class=\"barcode\"; style=\"color: black; background-color: #dd735b\">&nbsp to&nbsp</span><span class=\"barcode\"; style=\"color: black; background-color: #dd735b\">&nbsp the&nbsp</span><span class=\"barcode\"; style=\"color: black; background-color: #dd735b\">&nbsp store&nbsp</span><span class=\"barcode\"; style=\"color: black; background-color: #e07e68\">&nbsp.&nbsp</span><span class=\"barcode\"; style=\"color: black; background-color: #dd735b\">&nbsp Danielle&nbsp</span><span class=\"barcode\"; style=\"color: black; background-color: #eaa899\">&nbsp gave&nbsp</span><span class=\"barcode\"; style=\"color: black; background-color: #e1836e\">&nbsp a&nbsp</span><span class=\"barcode\"; style=\"color: black; background-color: #e69785\">&nbsp snack&nbsp</span><span class=\"barcode\"; style=\"color: black; background-color: #e79b8a\">&nbsp to&nbsp</span><span class=\"barcode\"; style=\"color: black; background-color: #b7e2f2\">&nbsp Kelly&nbsp</span>"
      ],
      "text/plain": [
       "<IPython.core.display.HTML object>"
      ]
     },
     "metadata": {},
     "output_type": "display_data"
    }
   ],
   "source": [
    "s = colorize(tokens, [r - i for (r, i) in zip(rel_word_scores, irrel_word_scores)])\n",
    "display(HTML(s))"
   ]
  },
  {
   "cell_type": "code",
   "execution_count": 52,
   "id": "ce463474-bb7b-42c5-84bc-8fac38699c14",
   "metadata": {
    "tags": []
   },
   "outputs": [
    {
     "data": {
      "text/html": [
       "<span class=\"barcode\"; style=\"color: black; background-color: #f3cfc6\">&nbspThen&nbsp</span><span class=\"barcode\"; style=\"color: black; background-color: #f5d5cd\">&nbsp,&nbsp</span><span class=\"barcode\"; style=\"color: black; background-color: #a0d9ee\">&nbsp Michelle&nbsp</span><span class=\"barcode\"; style=\"color: black; background-color: #ecb2a4\">&nbsp and&nbsp</span><span class=\"barcode\"; style=\"color: black; background-color: #dd735b\">&nbsp Christine&nbsp</span><span class=\"barcode\"; style=\"color: black; background-color: #f4d1ca\">&nbsp went&nbsp</span><span class=\"barcode\"; style=\"color: black; background-color: #f1c5bb\">&nbsp to&nbsp</span><span class=\"barcode\"; style=\"color: black; background-color: #f0bfb4\">&nbsp the&nbsp</span><span class=\"barcode\"; style=\"color: black; background-color: #f0c3b8\">&nbsp store&nbsp</span><span class=\"barcode\"; style=\"color: black; background-color: #f5d6cf\">&nbsp.&nbsp</span><span class=\"barcode\"; style=\"color: black; background-color: #f3cdc4\">&nbsp Christine&nbsp</span><span class=\"barcode\"; style=\"color: black; background-color: #ffffff\">&nbsp gave&nbsp</span><span class=\"barcode\"; style=\"color: black; background-color: #efbdb2\">&nbsp a&nbsp</span><span class=\"barcode\"; style=\"color: black; background-color: #f4d3cb\">&nbsp drink&nbsp</span><span class=\"barcode\"; style=\"color: black; background-color: #f5d5ce\">&nbsp to&nbsp</span><span class=\"barcode\"; style=\"color: black; background-color: #48b6df\">&nbsp Michelle&nbsp</span>"
      ],
      "text/plain": [
       "<IPython.core.display.HTML object>"
      ]
     },
     "metadata": {},
     "output_type": "display_data"
    },
    {
     "data": {
      "text/html": [
       "<span class=\"barcode\"; style=\"color: black; background-color: #9bd7ee\">&nbspThen&nbsp</span><span class=\"barcode\"; style=\"color: black; background-color: #d2edf7\">&nbsp,&nbsp</span><span class=\"barcode\"; style=\"color: black; background-color: #dd735b\">&nbsp Joshua&nbsp</span><span class=\"barcode\"; style=\"color: black; background-color: #8cd1eb\">&nbsp and&nbsp</span><span class=\"barcode\"; style=\"color: black; background-color: #48b6df\">&nbsp Andrew&nbsp</span><span class=\"barcode\"; style=\"color: black; background-color: #c6e8f5\">&nbsp went&nbsp</span><span class=\"barcode\"; style=\"color: black; background-color: #b6e2f2\">&nbsp to&nbsp</span><span class=\"barcode\"; style=\"color: black; background-color: #b7e2f2\">&nbsp the&nbsp</span><span class=\"barcode\"; style=\"color: black; background-color: #5cbee3\">&nbsp hospital&nbsp</span><span class=\"barcode\"; style=\"color: black; background-color: #c3e7f4\">&nbsp.&nbsp</span><span class=\"barcode\"; style=\"color: black; background-color: #b3e1f2\">&nbsp Joshua&nbsp</span><span class=\"barcode\"; style=\"color: black; background-color: #79c9e8\">&nbsp gave&nbsp</span><span class=\"barcode\"; style=\"color: black; background-color: #a1d9ef\">&nbsp a&nbsp</span><span class=\"barcode\"; style=\"color: black; background-color: #5dbee3\">&nbsp kiss&nbsp</span><span class=\"barcode\"; style=\"color: black; background-color: #faebe7\">&nbsp to&nbsp</span><span class=\"barcode\"; style=\"color: black; background-color: #dd735b\">&nbsp Andrew&nbsp</span>"
      ],
      "text/plain": [
       "<IPython.core.display.HTML object>"
      ]
     },
     "metadata": {},
     "output_type": "display_data"
    },
    {
     "data": {
      "text/html": [
       "<span class=\"barcode\"; style=\"color: black; background-color: #f1c5bb\">&nbspThen&nbsp</span><span class=\"barcode\"; style=\"color: black; background-color: #f6fbfd\">&nbsp,&nbsp</span><span class=\"barcode\"; style=\"color: black; background-color: #48b6df\">&nbsp Erica&nbsp</span><span class=\"barcode\"; style=\"color: black; background-color: #f4d1c9\">&nbsp and&nbsp</span><span class=\"barcode\"; style=\"color: black; background-color: #dd735b\">&nbsp Emily&nbsp</span><span class=\"barcode\"; style=\"color: black; background-color: #e8f6fb\">&nbsp went&nbsp</span><span class=\"barcode\"; style=\"color: black; background-color: #f3fafd\">&nbsp to&nbsp</span><span class=\"barcode\"; style=\"color: black; background-color: #f3fafd\">&nbsp the&nbsp</span><span class=\"barcode\"; style=\"color: black; background-color: #fbeeeb\">&nbsp station&nbsp</span><span class=\"barcode\"; style=\"color: black; background-color: #eef8fc\">&nbsp.&nbsp</span><span class=\"barcode\"; style=\"color: black; background-color: #f5fbfd\">&nbsp Emily&nbsp</span><span class=\"barcode\"; style=\"color: black; background-color: #8ed2eb\">&nbsp gave&nbsp</span><span class=\"barcode\"; style=\"color: black; background-color: #bce4f3\">&nbsp a&nbsp</span><span class=\"barcode\"; style=\"color: black; background-color: #cdebf6\">&nbsp necklace&nbsp</span><span class=\"barcode\"; style=\"color: black; background-color: #98d6ed\">&nbsp to&nbsp</span><span class=\"barcode\"; style=\"color: black; background-color: #48b6df\">&nbsp Erica&nbsp</span>"
      ],
      "text/plain": [
       "<IPython.core.display.HTML object>"
      ]
     },
     "metadata": {},
     "output_type": "display_data"
    },
    {
     "data": {
      "text/html": [
       "<span class=\"barcode\"; style=\"color: black; background-color: #ecb0a3\">&nbspThen&nbsp</span><span class=\"barcode\"; style=\"color: black; background-color: #e69987\">&nbsp,&nbsp</span><span class=\"barcode\"; style=\"color: black; background-color: #dd735b\">&nbsp Samantha&nbsp</span><span class=\"barcode\"; style=\"color: black; background-color: #efbfb4\">&nbsp and&nbsp</span><span class=\"barcode\"; style=\"color: black; background-color: #c1e6f4\">&nbsp Lindsey&nbsp</span><span class=\"barcode\"; style=\"color: black; background-color: #ebac9d\">&nbsp went&nbsp</span><span class=\"barcode\"; style=\"color: black; background-color: #e69684\">&nbsp to&nbsp</span><span class=\"barcode\"; style=\"color: black; background-color: #e59482\">&nbsp the&nbsp</span><span class=\"barcode\"; style=\"color: black; background-color: #e69785\">&nbsp school&nbsp</span><span class=\"barcode\"; style=\"color: black; background-color: #e4917e\">&nbsp.&nbsp</span><span class=\"barcode\"; style=\"color: black; background-color: #e79b89\">&nbsp Samantha&nbsp</span><span class=\"barcode\"; style=\"color: black; background-color: #faece8\">&nbsp gave&nbsp</span><span class=\"barcode\"; style=\"color: black; background-color: #eaa899\">&nbsp a&nbsp</span><span class=\"barcode\"; style=\"color: black; background-color: #f3cfc7\">&nbsp kiss&nbsp</span><span class=\"barcode\"; style=\"color: black; background-color: #e48e7b\">&nbsp to&nbsp</span><span class=\"barcode\"; style=\"color: black; background-color: #48b6df\">&nbsp Lindsey&nbsp</span>"
      ],
      "text/plain": [
       "<IPython.core.display.HTML object>"
      ]
     },
     "metadata": {},
     "output_type": "display_data"
    },
    {
     "data": {
      "text/html": [
       "<span class=\"barcode\"; style=\"color: black; background-color: #d7eff8\">&nbspThen&nbsp</span><span class=\"barcode\"; style=\"color: black; background-color: #b6e2f2\">&nbsp,&nbsp</span><span class=\"barcode\"; style=\"color: black; background-color: #48b6df\">&nbsp Justin&nbsp</span><span class=\"barcode\"; style=\"color: black; background-color: #f8e4df\">&nbsp and&nbsp</span><span class=\"barcode\"; style=\"color: black; background-color: #dd735b\">&nbsp Travis&nbsp</span><span class=\"barcode\"; style=\"color: black; background-color: #f5fbfd\">&nbsp went&nbsp</span><span class=\"barcode\"; style=\"color: black; background-color: #f3fafd\">&nbsp to&nbsp</span><span class=\"barcode\"; style=\"color: black; background-color: #f2fafd\">&nbsp the&nbsp</span><span class=\"barcode\"; style=\"color: black; background-color: #fefdfc\">&nbsp hospital&nbsp</span><span class=\"barcode\"; style=\"color: black; background-color: #e9f6fb\">&nbsp.&nbsp</span><span class=\"barcode\"; style=\"color: black; background-color: #fcf1ef\">&nbsp Travis&nbsp</span><span class=\"barcode\"; style=\"color: black; background-color: #e4f4fa\">&nbsp gave&nbsp</span><span class=\"barcode\"; style=\"color: black; background-color: #b2e0f2\">&nbsp a&nbsp</span><span class=\"barcode\"; style=\"color: black; background-color: #81cde9\">&nbsp snack&nbsp</span><span class=\"barcode\"; style=\"color: black; background-color: #fcfefe\">&nbsp to&nbsp</span><span class=\"barcode\"; style=\"color: black; background-color: #48b6df\">&nbsp Justin&nbsp</span>"
      ],
      "text/plain": [
       "<IPython.core.display.HTML object>"
      ]
     },
     "metadata": {},
     "output_type": "display_data"
    },
    {
     "data": {
      "text/html": [
       "<span class=\"barcode\"; style=\"color: black; background-color: #ecb0a3\">&nbspThen&nbsp</span><span class=\"barcode\"; style=\"color: black; background-color: #eeb8ab\">&nbsp,&nbsp</span><span class=\"barcode\"; style=\"color: black; background-color: #4db8e0\">&nbsp Danielle&nbsp</span><span class=\"barcode\"; style=\"color: black; background-color: #ecb1a4\">&nbsp and&nbsp</span><span class=\"barcode\"; style=\"color: black; background-color: #dd735b\">&nbsp Jonathan&nbsp</span><span class=\"barcode\"; style=\"color: black; background-color: #f2c8be\">&nbsp went&nbsp</span><span class=\"barcode\"; style=\"color: black; background-color: #edb3a6\">&nbsp to&nbsp</span><span class=\"barcode\"; style=\"color: black; background-color: #edb6a9\">&nbsp the&nbsp</span><span class=\"barcode\"; style=\"color: black; background-color: #f3cfc6\">&nbsp school&nbsp</span><span class=\"barcode\"; style=\"color: black; background-color: #eeb8ac\">&nbsp.&nbsp</span><span class=\"barcode\"; style=\"color: black; background-color: #eaa798\">&nbsp Jonathan&nbsp</span><span class=\"barcode\"; style=\"color: black; background-color: #f3cec5\">&nbsp gave&nbsp</span><span class=\"barcode\"; style=\"color: black; background-color: #f2cbc3\">&nbsp a&nbsp</span><span class=\"barcode\"; style=\"color: black; background-color: #ddf1f9\">&nbsp necklace&nbsp</span><span class=\"barcode\"; style=\"color: black; background-color: #f6dbd5\">&nbsp to&nbsp</span><span class=\"barcode\"; style=\"color: black; background-color: #48b6df\">&nbsp Danielle&nbsp</span>"
      ],
      "text/plain": [
       "<IPython.core.display.HTML object>"
      ]
     },
     "metadata": {},
     "output_type": "display_data"
    },
    {
     "data": {
      "text/html": [
       "<span class=\"barcode\"; style=\"color: black; background-color: #bee5f4\">&nbspThen&nbsp</span><span class=\"barcode\"; style=\"color: black; background-color: #dff2f9\">&nbsp,&nbsp</span><span class=\"barcode\"; style=\"color: black; background-color: #48b6df\">&nbsp Amanda&nbsp</span><span class=\"barcode\"; style=\"color: black; background-color: #fbeeeb\">&nbsp and&nbsp</span><span class=\"barcode\"; style=\"color: black; background-color: #dd735b\">&nbsp Crystal&nbsp</span><span class=\"barcode\"; style=\"color: black; background-color: #d6eff8\">&nbsp went&nbsp</span><span class=\"barcode\"; style=\"color: black; background-color: #c1e6f4\">&nbsp to&nbsp</span><span class=\"barcode\"; style=\"color: black; background-color: #c8e9f5\">&nbsp the&nbsp</span><span class=\"barcode\"; style=\"color: black; background-color: #e3f4fa\">&nbsp garden&nbsp</span><span class=\"barcode\"; style=\"color: black; background-color: #cdebf6\">&nbsp.&nbsp</span><span class=\"barcode\"; style=\"color: black; background-color: #cbeaf6\">&nbsp Crystal&nbsp</span><span class=\"barcode\"; style=\"color: black; background-color: #80cce9\">&nbsp gave&nbsp</span><span class=\"barcode\"; style=\"color: black; background-color: #98d6ed\">&nbsp a&nbsp</span><span class=\"barcode\"; style=\"color: black; background-color: #a2daef\">&nbsp necklace&nbsp</span><span class=\"barcode\"; style=\"color: black; background-color: #86cfea\">&nbsp to&nbsp</span><span class=\"barcode\"; style=\"color: black; background-color: #bbe4f3\">&nbsp Amanda&nbsp</span>"
      ],
      "text/plain": [
       "<IPython.core.display.HTML object>"
      ]
     },
     "metadata": {},
     "output_type": "display_data"
    },
    {
     "data": {
      "text/html": [
       "<span class=\"barcode\"; style=\"color: black; background-color: #f2c8be\">&nbspThen&nbsp</span><span class=\"barcode\"; style=\"color: black; background-color: #f2c9bf\">&nbsp,&nbsp</span><span class=\"barcode\"; style=\"color: black; background-color: #9bd7ed\">&nbsp David&nbsp</span><span class=\"barcode\"; style=\"color: black; background-color: #edb6a9\">&nbsp and&nbsp</span><span class=\"barcode\"; style=\"color: black; background-color: #dd735b\">&nbsp Laura&nbsp</span><span class=\"barcode\"; style=\"color: black; background-color: #f0c3b9\">&nbsp went&nbsp</span><span class=\"barcode\"; style=\"color: black; background-color: #ebad9f\">&nbsp to&nbsp</span><span class=\"barcode\"; style=\"color: black; background-color: #e8a292\">&nbsp the&nbsp</span><span class=\"barcode\"; style=\"color: black; background-color: #eebaae\">&nbsp house&nbsp</span><span class=\"barcode\"; style=\"color: black; background-color: #e9a495\">&nbsp.&nbsp</span><span class=\"barcode\"; style=\"color: black; background-color: #eeb7ab\">&nbsp Laura&nbsp</span><span class=\"barcode\"; style=\"color: black; background-color: #f1c6bd\">&nbsp gave&nbsp</span><span class=\"barcode\"; style=\"color: black; background-color: #efbeb3\">&nbsp a&nbsp</span><span class=\"barcode\"; style=\"color: black; background-color: #f3ccc4\">&nbsp ring&nbsp</span><span class=\"barcode\"; style=\"color: black; background-color: #e9a696\">&nbsp to&nbsp</span><span class=\"barcode\"; style=\"color: black; background-color: #48b6df\">&nbsp David&nbsp</span>"
      ],
      "text/plain": [
       "<IPython.core.display.HTML object>"
      ]
     },
     "metadata": {},
     "output_type": "display_data"
    },
    {
     "data": {
      "text/html": [
       "<span class=\"barcode\"; style=\"color: black; background-color: #fcf1ee\">&nbspThen&nbsp</span><span class=\"barcode\"; style=\"color: black; background-color: #f2cbc3\">&nbsp,&nbsp</span><span class=\"barcode\"; style=\"color: black; background-color: #48b6df\">&nbsp Jose&nbsp</span><span class=\"barcode\"; style=\"color: black; background-color: #efbeb3\">&nbsp and&nbsp</span><span class=\"barcode\"; style=\"color: black; background-color: #dd735b\">&nbsp Shannon&nbsp</span><span class=\"barcode\"; style=\"color: black; background-color: #eaa899\">&nbsp went&nbsp</span><span class=\"barcode\"; style=\"color: black; background-color: #eeb9ad\">&nbsp to&nbsp</span><span class=\"barcode\"; style=\"color: black; background-color: #eeb9ad\">&nbsp the&nbsp</span><span class=\"barcode\"; style=\"color: black; background-color: #f7ded8\">&nbsp restaurant&nbsp</span><span class=\"barcode\"; style=\"color: black; background-color: #ecb0a3\">&nbsp.&nbsp</span><span class=\"barcode\"; style=\"color: black; background-color: #eaa899\">&nbsp Shannon&nbsp</span><span class=\"barcode\"; style=\"color: black; background-color: #f4d4cc\">&nbsp gave&nbsp</span><span class=\"barcode\"; style=\"color: black; background-color: #efbdb1\">&nbsp a&nbsp</span><span class=\"barcode\"; style=\"color: black; background-color: #f9e5e1\">&nbsp ring&nbsp</span><span class=\"barcode\"; style=\"color: black; background-color: #f2c8be\">&nbsp to&nbsp</span><span class=\"barcode\"; style=\"color: black; background-color: #86cfea\">&nbsp Jose&nbsp</span>"
      ],
      "text/plain": [
       "<IPython.core.display.HTML object>"
      ]
     },
     "metadata": {},
     "output_type": "display_data"
    },
    {
     "data": {
      "text/html": [
       "<span class=\"barcode\"; style=\"color: black; background-color: #fbedea\">&nbspThen&nbsp</span><span class=\"barcode\"; style=\"color: black; background-color: #f1c4ba\">&nbsp,&nbsp</span><span class=\"barcode\"; style=\"color: black; background-color: #dd735b\">&nbsp Danielle&nbsp</span><span class=\"barcode\"; style=\"color: black; background-color: #f8e3de\">&nbsp and&nbsp</span><span class=\"barcode\"; style=\"color: black; background-color: #87cfea\">&nbsp Kelly&nbsp</span><span class=\"barcode\"; style=\"color: black; background-color: #f5d6cf\">&nbsp went&nbsp</span><span class=\"barcode\"; style=\"color: black; background-color: #eeb7ab\">&nbsp to&nbsp</span><span class=\"barcode\"; style=\"color: black; background-color: #edb4a7\">&nbsp the&nbsp</span><span class=\"barcode\"; style=\"color: black; background-color: #eebbaf\">&nbsp store&nbsp</span><span class=\"barcode\"; style=\"color: black; background-color: #f0c1b6\">&nbsp.&nbsp</span><span class=\"barcode\"; style=\"color: black; background-color: #efbbb0\">&nbsp Danielle&nbsp</span><span class=\"barcode\"; style=\"color: black; background-color: #faece9\">&nbsp gave&nbsp</span><span class=\"barcode\"; style=\"color: black; background-color: #f3ccc3\">&nbsp a&nbsp</span><span class=\"barcode\"; style=\"color: black; background-color: #fbedea\">&nbsp snack&nbsp</span><span class=\"barcode\"; style=\"color: black; background-color: #f1c4ba\">&nbsp to&nbsp</span><span class=\"barcode\"; style=\"color: black; background-color: #48b6df\">&nbsp Kelly&nbsp</span>"
      ],
      "text/plain": [
       "<IPython.core.display.HTML object>"
      ]
     },
     "metadata": {},
     "output_type": "display_data"
    }
   ],
   "source": [
    "for example_idx in range(10):\n",
    "    ablation_sets = [tuple(Node(0, pos, head) for head in range(12)) for pos in range(16)]\n",
    "    target_nodes = []\n",
    "    text = ioi_dataset.sentences[example_idx]\n",
    "    encoding = model.tokenizer.encode_plus(text, \n",
    "                                     add_special_tokens=True, \n",
    "                                     max_length=512,\n",
    "                                     truncation=True, \n",
    "                                     padding = \"longest\", \n",
    "                                     return_attention_mask=True, \n",
    "                                     return_tensors=\"pt\").to(device)\n",
    "    encoding_idxs, attention_mask = encoding.input_ids, encoding.attention_mask\n",
    "    input_shape = encoding_idxs.size()\n",
    "    extended_attention_mask = get_extended_attention_mask(attention_mask, \n",
    "                                                            input_shape, \n",
    "                                                            model,\n",
    "                                                        device)\n",
    "    out_decomps, _, _, pre_layer_activations = prop_GPT(encoding_idxs[0:1, :], extended_attention_mask, model, ablation_sets, target_nodes=target_nodes, device=device, mean_acts=mean_acts, set_irrel_to_mean=True)\n",
    "    rel_word_scores, irrel_word_scores = get_word_scores(out_decomps, ioi_dataset, example_idx)\n",
    "    tokens = ioi_dataset.tokenized_prompts[example_idx].split('|')\n",
    "    s = colorize(tokens, rel_word_scores)\n",
    "    # s = colorize(tokens, [r - i for (r, i) in zip(rel_word_scores, irrel_word_scores)])\n",
    "    display(HTML(s))\n",
    "    "
   ]
  },
  {
   "cell_type": "code",
   "execution_count": 53,
   "id": "0dded79b-3465-46a3-ad9c-60eca15fbfd0",
   "metadata": {
    "jupyter": {
     "source_hidden": true
    },
    "tags": []
   },
   "outputs": [
    {
     "data": {
      "text/html": [
       "<span class=\"barcode\"; style=\"color: black; background-color: #c6e8f5\">&nbspThen&nbsp</span><span class=\"barcode\"; style=\"color: black; background-color: #c2e7f4\">&nbsp,&nbsp</span><span class=\"barcode\"; style=\"color: black; background-color: #74c8e7\">&nbsp Michelle&nbsp</span><span class=\"barcode\"; style=\"color: black; background-color: #d9f0f8\">&nbsp and&nbsp</span><span class=\"barcode\"; style=\"color: black; background-color: -0.0\">&nbsp Christine&nbsp</span><span class=\"barcode\"; style=\"color: black; background-color: #c4e8f5\">&nbsp went&nbsp</span><span class=\"barcode\"; style=\"color: black; background-color: #ccebf6\">&nbsp to&nbsp</span><span class=\"barcode\"; style=\"color: black; background-color: #d0ecf7\">&nbsp the&nbsp</span><span class=\"barcode\"; style=\"color: black; background-color: #cdebf6\">&nbsp store&nbsp</span><span class=\"barcode\"; style=\"color: black; background-color: #c1e6f4\">&nbsp.&nbsp</span><span class=\"barcode\"; style=\"color: black; background-color: #c7e9f5\">&nbsp Christine&nbsp</span><span class=\"barcode\"; style=\"color: black; background-color: #a5dbef\">&nbsp gave&nbsp</span><span class=\"barcode\"; style=\"color: black; background-color: #d2edf7\">&nbsp a&nbsp</span><span class=\"barcode\"; style=\"color: black; background-color: #c3e7f4\">&nbsp drink&nbsp</span><span class=\"barcode\"; style=\"color: black; background-color: #c1e6f4\">&nbsp to&nbsp</span><span class=\"barcode\"; style=\"color: black; background-color: #48b6df\">&nbsp Michelle&nbsp</span>"
      ],
      "text/plain": [
       "<IPython.core.display.HTML object>"
      ]
     },
     "metadata": {},
     "output_type": "display_data"
    },
    {
     "data": {
      "text/html": [
       "<span class=\"barcode\"; style=\"color: black; background-color: #bae4f3\">&nbspThen&nbsp</span><span class=\"barcode\"; style=\"color: black; background-color: #d2edf7\">&nbsp,&nbsp</span><span class=\"barcode\"; style=\"color: black; background-color: #f5d6cf\">&nbsp Joshua&nbsp</span><span class=\"barcode\"; style=\"color: black; background-color: #b4e1f2\">&nbsp and&nbsp</span><span class=\"barcode\"; style=\"color: black; background-color: #48b6df\">&nbsp Andrew&nbsp</span><span class=\"barcode\"; style=\"color: black; background-color: #cdebf6\">&nbsp went&nbsp</span><span class=\"barcode\"; style=\"color: black; background-color: #c6e8f5\">&nbsp to&nbsp</span><span class=\"barcode\"; style=\"color: black; background-color: #c6e8f5\">&nbsp the&nbsp</span><span class=\"barcode\"; style=\"color: black; background-color: #a0d9ee\">&nbsp hospital&nbsp</span><span class=\"barcode\"; style=\"color: black; background-color: #cbeaf6\">&nbsp.&nbsp</span><span class=\"barcode\"; style=\"color: black; background-color: #c4e8f5\">&nbsp Joshua&nbsp</span><span class=\"barcode\"; style=\"color: black; background-color: #acdef0\">&nbsp gave&nbsp</span><span class=\"barcode\"; style=\"color: black; background-color: #bde5f3\">&nbsp a&nbsp</span><span class=\"barcode\"; style=\"color: black; background-color: #a0d9ee\">&nbsp kiss&nbsp</span><span class=\"barcode\"; style=\"color: black; background-color: 0.0\">&nbsp to&nbsp</span><span class=\"barcode\"; style=\"color: black; background-color: #f3ccc3\">&nbsp Andrew&nbsp</span>"
      ],
      "text/plain": [
       "<IPython.core.display.HTML object>"
      ]
     },
     "metadata": {},
     "output_type": "display_data"
    },
    {
     "data": {
      "text/html": [
       "<span class=\"barcode\"; style=\"color: black; background-color: #f1c5bb\">&nbspThen&nbsp</span><span class=\"barcode\"; style=\"color: black; background-color: #f9e8e4\">&nbsp,&nbsp</span><span class=\"barcode\"; style=\"color: black; background-color: #85ceea\">&nbsp Erica&nbsp</span><span class=\"barcode\"; style=\"color: black; background-color: #f2cbc3\">&nbsp and&nbsp</span><span class=\"barcode\"; style=\"color: black; background-color: #dd735b\">&nbsp Emily&nbsp</span><span class=\"barcode\"; style=\"color: black; background-color: #fbedea\">&nbsp went&nbsp</span><span class=\"barcode\"; style=\"color: black; background-color: #fae9e5\">&nbsp to&nbsp</span><span class=\"barcode\"; style=\"color: black; background-color: #fae9e5\">&nbsp the&nbsp</span><span class=\"barcode\"; style=\"color: black; background-color: #f6dbd5\">&nbsp station&nbsp</span><span class=\"barcode\"; style=\"color: black; background-color: #faebe8\">&nbsp.&nbsp</span><span class=\"barcode\"; style=\"color: black; background-color: #fae8e5\">&nbsp Emily&nbsp</span><span class=\"barcode\"; style=\"color: black; background-color: #e9f6fb\">&nbsp gave&nbsp</span><span class=\"barcode\"; style=\"color: black; background-color: -0.0\">&nbsp a&nbsp</span><span class=\"barcode\"; style=\"color: black; background-color: #fdf8f7\">&nbsp necklace&nbsp</span><span class=\"barcode\"; style=\"color: black; background-color: #eef8fc\">&nbsp to&nbsp</span><span class=\"barcode\"; style=\"color: black; background-color: #81cde9\">&nbsp Erica&nbsp</span>"
      ],
      "text/plain": [
       "<IPython.core.display.HTML object>"
      ]
     },
     "metadata": {},
     "output_type": "display_data"
    },
    {
     "data": {
      "text/html": [
       "<span class=\"barcode\"; style=\"color: black; background-color: #e6f5fb\">&nbspThen&nbsp</span><span class=\"barcode\"; style=\"color: black; background-color: #f8fcfe\">&nbsp,&nbsp</span><span class=\"barcode\"; style=\"color: black; background-color: #f7e0da\">&nbsp Samantha&nbsp</span><span class=\"barcode\"; style=\"color: black; background-color: #dcf1f9\">&nbsp and&nbsp</span><span class=\"barcode\"; style=\"color: black; background-color: #8bd1eb\">&nbsp Lindsey&nbsp</span><span class=\"barcode\"; style=\"color: black; background-color: #eaf7fb\">&nbsp went&nbsp</span><span class=\"barcode\"; style=\"color: black; background-color: #f9fdfe\">&nbsp to&nbsp</span><span class=\"barcode\"; style=\"color: black; background-color: #fbfdfe\">&nbsp the&nbsp</span><span class=\"barcode\"; style=\"color: black; background-color: #f9fdfe\">&nbsp school&nbsp</span><span class=\"barcode\"; style=\"color: black; background-color: #fdfeff\">&nbsp.&nbsp</span><span class=\"barcode\"; style=\"color: black; background-color: #f6fcfd\">&nbsp Samantha&nbsp</span><span class=\"barcode\"; style=\"color: black; background-color: #bce4f3\">&nbsp gave&nbsp</span><span class=\"barcode\"; style=\"color: black; background-color: #ecf8fc\">&nbsp a&nbsp</span><span class=\"barcode\"; style=\"color: black; background-color: #d0ecf7\">&nbsp kiss&nbsp</span><span class=\"barcode\"; style=\"color: black; background-color: 0.0\">&nbsp to&nbsp</span><span class=\"barcode\"; style=\"color: black; background-color: #48b6df\">&nbsp Lindsey&nbsp</span>"
      ],
      "text/plain": [
       "<IPython.core.display.HTML object>"
      ]
     },
     "metadata": {},
     "output_type": "display_data"
    },
    {
     "data": {
      "text/html": [
       "<span class=\"barcode\"; style=\"color: black; background-color: #d7eff8\">&nbspThen&nbsp</span><span class=\"barcode\"; style=\"color: black; background-color: #c2e7f4\">&nbsp,&nbsp</span><span class=\"barcode\"; style=\"color: black; background-color: #48b6df\">&nbsp Justin&nbsp</span><span class=\"barcode\"; style=\"color: black; background-color: 0.0\">&nbsp and&nbsp</span><span class=\"barcode\"; style=\"color: black; background-color: #e1836e\">&nbsp Travis&nbsp</span><span class=\"barcode\"; style=\"color: black; background-color: #e7f5fb\">&nbsp went&nbsp</span><span class=\"barcode\"; style=\"color: black; background-color: #e6f5fb\">&nbsp to&nbsp</span><span class=\"barcode\"; style=\"color: black; background-color: #e5f5fa\">&nbsp the&nbsp</span><span class=\"barcode\"; style=\"color: black; background-color: #eef8fc\">&nbsp hospital&nbsp</span><span class=\"barcode\"; style=\"color: black; background-color: #e1f3fa\">&nbsp.&nbsp</span><span class=\"barcode\"; style=\"color: black; background-color: #f6fbfd\">&nbsp Travis&nbsp</span><span class=\"barcode\"; style=\"color: black; background-color: #def2f9\">&nbsp gave&nbsp</span><span class=\"barcode\"; style=\"color: black; background-color: #c1e6f4\">&nbsp a&nbsp</span><span class=\"barcode\"; style=\"color: black; background-color: #a6dcef\">&nbsp snack&nbsp</span><span class=\"barcode\"; style=\"color: black; background-color: #ebf7fb\">&nbsp to&nbsp</span><span class=\"barcode\"; style=\"color: black; background-color: #6dc5e5\">&nbsp Justin&nbsp</span>"
      ],
      "text/plain": [
       "<IPython.core.display.HTML object>"
      ]
     },
     "metadata": {},
     "output_type": "display_data"
    },
    {
     "data": {
      "text/html": [
       "<span class=\"barcode\"; style=\"color: black; background-color: -0.0\">&nbspThen&nbsp</span><span class=\"barcode\"; style=\"color: black; background-color: #f9fdfe\">&nbsp,&nbsp</span><span class=\"barcode\"; style=\"color: black; background-color: #4bb7e0\">&nbsp Danielle&nbsp</span><span class=\"barcode\"; style=\"color: black; background-color: #ffffff\">&nbsp and&nbsp</span><span class=\"barcode\"; style=\"color: black; background-color: #e4917e\">&nbsp Jonathan&nbsp</span><span class=\"barcode\"; style=\"color: black; background-color: #ecf7fc\">&nbsp went&nbsp</span><span class=\"barcode\"; style=\"color: black; background-color: #fefeff\">&nbsp to&nbsp</span><span class=\"barcode\"; style=\"color: black; background-color: #fbfdfe\">&nbsp the&nbsp</span><span class=\"barcode\"; style=\"color: black; background-color: #e6f5fb\">&nbsp school&nbsp</span><span class=\"barcode\"; style=\"color: black; background-color: #f9fdfe\">&nbsp.&nbsp</span><span class=\"barcode\"; style=\"color: black; background-color: #fefaf9\">&nbsp Jonathan&nbsp</span><span class=\"barcode\"; style=\"color: black; background-color: #e7f5fb\">&nbsp gave&nbsp</span><span class=\"barcode\"; style=\"color: black; background-color: #e9f6fb\">&nbsp a&nbsp</span><span class=\"barcode\"; style=\"color: black; background-color: #a7dcf0\">&nbsp necklace&nbsp</span><span class=\"barcode\"; style=\"color: black; background-color: #dcf1f9\">&nbsp to&nbsp</span><span class=\"barcode\"; style=\"color: black; background-color: #48b6df\">&nbsp Danielle&nbsp</span>"
      ],
      "text/plain": [
       "<IPython.core.display.HTML object>"
      ]
     },
     "metadata": {},
     "output_type": "display_data"
    },
    {
     "data": {
      "text/html": [
       "<span class=\"barcode\"; style=\"color: black; background-color: #f9e8e4\">&nbspThen&nbsp</span><span class=\"barcode\"; style=\"color: black; background-color: #f6dbd5\">&nbsp,&nbsp</span><span class=\"barcode\"; style=\"color: black; background-color: #e3f4fa\">&nbsp Amanda&nbsp</span><span class=\"barcode\"; style=\"color: black; background-color: #f1c7bd\">&nbsp and&nbsp</span><span class=\"barcode\"; style=\"color: black; background-color: #dd735b\">&nbsp Crystal&nbsp</span><span class=\"barcode\"; style=\"color: black; background-color: #f7dfd9\">&nbsp went&nbsp</span><span class=\"barcode\"; style=\"color: black; background-color: #f9e7e3\">&nbsp to&nbsp</span><span class=\"barcode\"; style=\"color: black; background-color: #f8e4df\">&nbsp the&nbsp</span><span class=\"barcode\"; style=\"color: black; background-color: #f6dad4\">&nbsp garden&nbsp</span><span class=\"barcode\"; style=\"color: black; background-color: #f8e2dd\">&nbsp.&nbsp</span><span class=\"barcode\"; style=\"color: black; background-color: #f8e3de\">&nbsp Crystal&nbsp</span><span class=\"barcode\"; style=\"color: black; background-color: -0.0\">&nbsp gave&nbsp</span><span class=\"barcode\"; style=\"color: black; background-color: #fdf6f5\">&nbsp a&nbsp</span><span class=\"barcode\"; style=\"color: black; background-color: #fcf2f0\">&nbsp necklace&nbsp</span><span class=\"barcode\"; style=\"color: black; background-color: #fffdfd\">&nbsp to&nbsp</span><span class=\"barcode\"; style=\"color: black; background-color: #fae9e5\">&nbsp Amanda&nbsp</span>"
      ],
      "text/plain": [
       "<IPython.core.display.HTML object>"
      ]
     },
     "metadata": {},
     "output_type": "display_data"
    },
    {
     "data": {
      "text/html": [
       "<span class=\"barcode\"; style=\"color: black; background-color: #e2f4fa\">&nbspThen&nbsp</span><span class=\"barcode\"; style=\"color: black; background-color: #e1f3fa\">&nbsp,&nbsp</span><span class=\"barcode\"; style=\"color: black; background-color: #7acae8\">&nbsp David&nbsp</span><span class=\"barcode\"; style=\"color: black; background-color: #f0f9fc\">&nbsp and&nbsp</span><span class=\"barcode\"; style=\"color: black; background-color: #fefcfc\">&nbsp Laura&nbsp</span><span class=\"barcode\"; style=\"color: black; background-color: #e5f5fa\">&nbsp went&nbsp</span><span class=\"barcode\"; style=\"color: black; background-color: #f6fcfd\">&nbsp to&nbsp</span><span class=\"barcode\"; style=\"color: black; background-color: 0.0\">&nbsp the&nbsp</span><span class=\"barcode\"; style=\"color: black; background-color: #ecf8fc\">&nbsp house&nbsp</span><span class=\"barcode\"; style=\"color: black; background-color: #fefeff\">&nbsp.&nbsp</span><span class=\"barcode\"; style=\"color: black; background-color: #eef8fc\">&nbsp Laura&nbsp</span><span class=\"barcode\"; style=\"color: black; background-color: #e3f4fa\">&nbsp gave&nbsp</span><span class=\"barcode\"; style=\"color: black; background-color: #e9f6fb\">&nbsp a&nbsp</span><span class=\"barcode\"; style=\"color: black; background-color: #def2f9\">&nbsp ring&nbsp</span><span class=\"barcode\"; style=\"color: black; background-color: #fdfeff\">&nbsp to&nbsp</span><span class=\"barcode\"; style=\"color: black; background-color: #48b6df\">&nbsp David&nbsp</span>"
      ],
      "text/plain": [
       "<IPython.core.display.HTML object>"
      ]
     },
     "metadata": {},
     "output_type": "display_data"
    },
    {
     "data": {
      "text/html": [
       "<span class=\"barcode\"; style=\"color: black; background-color: #c4e8f5\">&nbspThen&nbsp</span><span class=\"barcode\"; style=\"color: black; background-color: #e2f4fa\">&nbsp,&nbsp</span><span class=\"barcode\"; style=\"color: black; background-color: #48b6df\">&nbsp Jose&nbsp</span><span class=\"barcode\"; style=\"color: black; background-color: #edf8fc\">&nbsp and&nbsp</span><span class=\"barcode\"; style=\"color: black; background-color: #fffdfd\">&nbsp Shannon&nbsp</span><span class=\"barcode\"; style=\"color: black; background-color: #ffffff\">&nbsp went&nbsp</span><span class=\"barcode\"; style=\"color: black; background-color: #f1fafd\">&nbsp to&nbsp</span><span class=\"barcode\"; style=\"color: black; background-color: #f1f9fc\">&nbsp the&nbsp</span><span class=\"barcode\"; style=\"color: black; background-color: #d4eef7\">&nbsp restaurant&nbsp</span><span class=\"barcode\"; style=\"color: black; background-color: #f9fcfe\">&nbsp.&nbsp</span><span class=\"barcode\"; style=\"color: black; background-color: 0.0\">&nbsp Shannon&nbsp</span><span class=\"barcode\"; style=\"color: black; background-color: #dcf1f9\">&nbsp gave&nbsp</span><span class=\"barcode\"; style=\"color: black; background-color: #eef8fc\">&nbsp a&nbsp</span><span class=\"barcode\"; style=\"color: black; background-color: #cdebf6\">&nbsp ring&nbsp</span><span class=\"barcode\"; style=\"color: black; background-color: #e6f5fb\">&nbsp to&nbsp</span><span class=\"barcode\"; style=\"color: black; background-color: #6fc5e6\">&nbsp Jose&nbsp</span>"
      ],
      "text/plain": [
       "<IPython.core.display.HTML object>"
      ]
     },
     "metadata": {},
     "output_type": "display_data"
    },
    {
     "data": {
      "text/html": [
       "<span class=\"barcode\"; style=\"color: black; background-color: #afdff1\">&nbspThen&nbsp</span><span class=\"barcode\"; style=\"color: black; background-color: #cbeaf6\">&nbsp,&nbsp</span><span class=\"barcode\"; style=\"color: black; background-color: 0.0\">&nbsp Danielle&nbsp</span><span class=\"barcode\"; style=\"color: black; background-color: #b6e2f2\">&nbsp and&nbsp</span><span class=\"barcode\"; style=\"color: black; background-color: #68c3e5\">&nbsp Kelly&nbsp</span><span class=\"barcode\"; style=\"color: black; background-color: #bee5f4\">&nbsp went&nbsp</span><span class=\"barcode\"; style=\"color: black; background-color: #d3edf7\">&nbsp to&nbsp</span><span class=\"barcode\"; style=\"color: black; background-color: #d5eef8\">&nbsp the&nbsp</span><span class=\"barcode\"; style=\"color: black; background-color: #d0ecf7\">&nbsp store&nbsp</span><span class=\"barcode\"; style=\"color: black; background-color: #ccebf6\">&nbsp.&nbsp</span><span class=\"barcode\"; style=\"color: black; background-color: #d0ecf7\">&nbsp Danielle&nbsp</span><span class=\"barcode\"; style=\"color: black; background-color: #b0e0f1\">&nbsp gave&nbsp</span><span class=\"barcode\"; style=\"color: black; background-color: #c5e8f5\">&nbsp a&nbsp</span><span class=\"barcode\"; style=\"color: black; background-color: #afdff1\">&nbsp snack&nbsp</span><span class=\"barcode\"; style=\"color: black; background-color: #caeaf6\">&nbsp to&nbsp</span><span class=\"barcode\"; style=\"color: black; background-color: #48b6df\">&nbsp Kelly&nbsp</span>"
      ],
      "text/plain": [
       "<IPython.core.display.HTML object>"
      ]
     },
     "metadata": {},
     "output_type": "display_data"
    }
   ],
   "source": [
    "for example_idx in range(10):\n",
    "    ablation_sets = [tuple(Node(0, pos, head) for head in range(12)) for pos in range(16)]\n",
    "    target_nodes = []\n",
    "    text = ioi_dataset.sentences[example_idx]\n",
    "    encoding = model.tokenizer.encode_plus(text, \n",
    "                                     add_special_tokens=True, \n",
    "                                     max_length=512,\n",
    "                                     truncation=True, \n",
    "                                     padding = \"longest\", \n",
    "                                     return_attention_mask=True, \n",
    "                                     return_tensors=\"pt\").to(device)\n",
    "    encoding_idxs, attention_mask = encoding.input_ids, encoding.attention_mask\n",
    "    input_shape = encoding_idxs.size()\n",
    "    extended_attention_mask = get_extended_attention_mask(attention_mask, \n",
    "                                                            input_shape, \n",
    "                                                            model,\n",
    "                                                        device)\n",
    "    out_decomps, _, _, pre_layer_activations = prop_GPT(encoding_idxs[0:1, :], extended_attention_mask, model, ablation_sets, target_nodes=target_nodes, device=device, mean_acts=mean_acts, set_irrel_to_mean=True)\n",
    "    rel_word_scores, irrel_word_scores = get_word_scores(out_decomps, ioi_dataset, example_idx)\n",
    "    tokens = ioi_dataset.tokenized_prompts[example_idx].split('|')\n",
    "    s = colorize(tokens, rel_word_scores)\n",
    "    # s = colorize(tokens, [r - i for (r, i) in zip(rel_word_scores, irrel_word_scores)])\n",
    "    display(HTML(s))"
   ]
  },
  {
   "cell_type": "code",
   "execution_count": 54,
   "id": "3be8f341-91bc-4681-afdf-40d5e0879fa2",
   "metadata": {
    "jupyter": {
     "source_hidden": true
    },
    "tags": []
   },
   "outputs": [
    {
     "data": {
      "text/html": [
       "<span class=\"barcode\"; style=\"color: black; background-color: #86cfea\">&nbspThen&nbsp</span><span class=\"barcode\"; style=\"color: black; background-color: #8ad0eb\">&nbsp,&nbsp</span><span class=\"barcode\"; style=\"color: black; background-color: #d4eef7\">&nbsp Michelle&nbsp</span><span class=\"barcode\"; style=\"color: black; background-color: #74c7e7\">&nbsp and&nbsp</span><span class=\"barcode\"; style=\"color: black; background-color: #48b6df\">&nbsp Christine&nbsp</span><span class=\"barcode\"; style=\"color: black; background-color: #88cfea\">&nbsp went&nbsp</span><span class=\"barcode\"; style=\"color: black; background-color: #81cde9\">&nbsp to&nbsp</span><span class=\"barcode\"; style=\"color: black; background-color: #7ccbe8\">&nbsp the&nbsp</span><span class=\"barcode\"; style=\"color: black; background-color: #7fcce9\">&nbsp store&nbsp</span><span class=\"barcode\"; style=\"color: black; background-color: #8bd1eb\">&nbsp.&nbsp</span><span class=\"barcode\"; style=\"color: black; background-color: #85ceea\">&nbsp Christine&nbsp</span><span class=\"barcode\"; style=\"color: black; background-color: #a5dbef\">&nbsp gave&nbsp</span><span class=\"barcode\"; style=\"color: black; background-color: #7bcae8\">&nbsp a&nbsp</span><span class=\"barcode\"; style=\"color: black; background-color: #89d0ea\">&nbsp drink&nbsp</span><span class=\"barcode\"; style=\"color: black; background-color: #8ad0eb\">&nbsp to&nbsp</span><span class=\"barcode\"; style=\"color: black; background-color: 0.0\">&nbsp Michelle&nbsp</span>"
      ],
      "text/plain": [
       "<IPython.core.display.HTML object>"
      ]
     },
     "metadata": {},
     "output_type": "display_data"
    },
    {
     "data": {
      "text/html": [
       "<span class=\"barcode\"; style=\"color: black; background-color: #f9e7e3\">&nbspThen&nbsp</span><span class=\"barcode\"; style=\"color: black; background-color: -0.0\">&nbsp,&nbsp</span><span class=\"barcode\"; style=\"color: black; background-color: #7ecbe8\">&nbsp Joshua&nbsp</span><span class=\"barcode\"; style=\"color: black; background-color: #f8e1dc\">&nbsp and&nbsp</span><span class=\"barcode\"; style=\"color: black; background-color: #dd735b\">&nbsp Andrew&nbsp</span><span class=\"barcode\"; style=\"color: black; background-color: #fefaf9\">&nbsp went&nbsp</span><span class=\"barcode\"; style=\"color: black; background-color: #fcf3f1\">&nbsp to&nbsp</span><span class=\"barcode\"; style=\"color: black; background-color: #fcf3f1\">&nbsp the&nbsp</span><span class=\"barcode\"; style=\"color: black; background-color: #f3ccc3\">&nbsp hospital&nbsp</span><span class=\"barcode\"; style=\"color: black; background-color: #fef9f8\">&nbsp.&nbsp</span><span class=\"barcode\"; style=\"color: black; background-color: #fcf2f0\">&nbsp Joshua&nbsp</span><span class=\"barcode\"; style=\"color: black; background-color: #f6d9d2\">&nbsp gave&nbsp</span><span class=\"barcode\"; style=\"color: black; background-color: #faeae7\">&nbsp a&nbsp</span><span class=\"barcode\"; style=\"color: black; background-color: #f3ccc3\">&nbsp kiss&nbsp</span><span class=\"barcode\"; style=\"color: black; background-color: #e4f4fa\">&nbsp to&nbsp</span><span class=\"barcode\"; style=\"color: black; background-color: #6cc4e5\">&nbsp Andrew&nbsp</span>"
      ],
      "text/plain": [
       "<IPython.core.display.HTML object>"
      ]
     },
     "metadata": {},
     "output_type": "display_data"
    },
    {
     "data": {
      "text/html": [
       "<span class=\"barcode\"; style=\"color: black; background-color: -0.0\">&nbspThen&nbsp</span><span class=\"barcode\"; style=\"color: black; background-color: #f8e1dc\">&nbsp,&nbsp</span><span class=\"barcode\"; style=\"color: black; background-color: #de765e\">&nbsp Erica&nbsp</span><span class=\"barcode\"; style=\"color: black; background-color: #fefaf9\">&nbsp and&nbsp</span><span class=\"barcode\"; style=\"color: black; background-color: #d2edf7\">&nbsp Emily&nbsp</span><span class=\"barcode\"; style=\"color: black; background-color: #f6dbd5\">&nbsp went&nbsp</span><span class=\"barcode\"; style=\"color: black; background-color: #f7e0da\">&nbsp to&nbsp</span><span class=\"barcode\"; style=\"color: black; background-color: #f7dfda\">&nbsp the&nbsp</span><span class=\"barcode\"; style=\"color: black; background-color: #faece9\">&nbsp station&nbsp</span><span class=\"barcode\"; style=\"color: black; background-color: #f7ded8\">&nbsp.&nbsp</span><span class=\"barcode\"; style=\"color: black; background-color: #f8e0db\">&nbsp Emily&nbsp</span><span class=\"barcode\"; style=\"color: black; background-color: #eebaae\">&nbsp gave&nbsp</span><span class=\"barcode\"; style=\"color: black; background-color: #f2cbc3\">&nbsp a&nbsp</span><span class=\"barcode\"; style=\"color: black; background-color: #f4d2ca\">&nbsp necklace&nbsp</span><span class=\"barcode\"; style=\"color: black; background-color: #efbeb2\">&nbsp to&nbsp</span><span class=\"barcode\"; style=\"color: black; background-color: #dd735b\">&nbsp Erica&nbsp</span>"
      ],
      "text/plain": [
       "<IPython.core.display.HTML object>"
      ]
     },
     "metadata": {},
     "output_type": "display_data"
    },
    {
     "data": {
      "text/html": [
       "<span class=\"barcode\"; style=\"color: black; background-color: #7fcce9\">&nbspThen&nbsp</span><span class=\"barcode\"; style=\"color: black; background-color: #72c7e6\">&nbsp,&nbsp</span><span class=\"barcode\"; style=\"color: black; background-color: #48b6df\">&nbsp Samantha&nbsp</span><span class=\"barcode\"; style=\"color: black; background-color: #88cfea\">&nbsp and&nbsp</span><span class=\"barcode\"; style=\"color: black; background-color: #c9eaf6\">&nbsp Lindsey&nbsp</span><span class=\"barcode\"; style=\"color: black; background-color: #7ccbe8\">&nbsp went&nbsp</span><span class=\"barcode\"; style=\"color: black; background-color: #70c6e6\">&nbsp to&nbsp</span><span class=\"barcode\"; style=\"color: black; background-color: #6fc5e6\">&nbsp the&nbsp</span><span class=\"barcode\"; style=\"color: black; background-color: #70c6e6\">&nbsp school&nbsp</span><span class=\"barcode\"; style=\"color: black; background-color: #6dc5e6\">&nbsp.&nbsp</span><span class=\"barcode\"; style=\"color: black; background-color: #72c7e6\">&nbsp Samantha&nbsp</span><span class=\"barcode\"; style=\"color: black; background-color: #a2daef\">&nbsp gave&nbsp</span><span class=\"barcode\"; style=\"color: black; background-color: #7acae8\">&nbsp a&nbsp</span><span class=\"barcode\"; style=\"color: black; background-color: #91d3ec\">&nbsp kiss&nbsp</span><span class=\"barcode\"; style=\"color: black; background-color: #6bc4e5\">&nbsp to&nbsp</span><span class=\"barcode\"; style=\"color: black; background-color: 0.0\">&nbsp Lindsey&nbsp</span>"
      ],
      "text/plain": [
       "<IPython.core.display.HTML object>"
      ]
     },
     "metadata": {},
     "output_type": "display_data"
    },
    {
     "data": {
      "text/html": [
       "<span class=\"barcode\"; style=\"color: black; background-color: 0.0\">&nbspThen&nbsp</span><span class=\"barcode\"; style=\"color: black; background-color: #fdf6f4\">&nbsp,&nbsp</span><span class=\"barcode\"; style=\"color: black; background-color: #e9a393\">&nbsp Justin&nbsp</span><span class=\"barcode\"; style=\"color: black; background-color: #dcf1f9\">&nbsp and&nbsp</span><span class=\"barcode\"; style=\"color: black; background-color: #48b6df\">&nbsp Travis&nbsp</span><span class=\"barcode\"; style=\"color: black; background-color: #f1fafd\">&nbsp went&nbsp</span><span class=\"barcode\"; style=\"color: black; background-color: #f2fafd\">&nbsp to&nbsp</span><span class=\"barcode\"; style=\"color: black; background-color: #f3fafd\">&nbsp the&nbsp</span><span class=\"barcode\"; style=\"color: black; background-color: #ebf7fb\">&nbsp hospital&nbsp</span><span class=\"barcode\"; style=\"color: black; background-color: #f6fcfd\">&nbsp.&nbsp</span><span class=\"barcode\"; style=\"color: black; background-color: #e4f4fa\">&nbsp Travis&nbsp</span><span class=\"barcode\"; style=\"color: black; background-color: #f9fdfe\">&nbsp gave&nbsp</span><span class=\"barcode\"; style=\"color: black; background-color: #fcf5f3\">&nbsp a&nbsp</span><span class=\"barcode\"; style=\"color: black; background-color: #f8e2de\">&nbsp snack&nbsp</span><span class=\"barcode\"; style=\"color: black; background-color: #eef8fc\">&nbsp to&nbsp</span><span class=\"barcode\"; style=\"color: black; background-color: #efbbb0\">&nbsp Justin&nbsp</span>"
      ],
      "text/plain": [
       "<IPython.core.display.HTML object>"
      ]
     },
     "metadata": {},
     "output_type": "display_data"
    },
    {
     "data": {
      "text/html": [
       "<span class=\"barcode\"; style=\"color: black; background-color: #98d6ed\">&nbspThen&nbsp</span><span class=\"barcode\"; style=\"color: black; background-color: #9cd7ee\">&nbsp,&nbsp</span><span class=\"barcode\"; style=\"color: black; background-color: #fefeff\">&nbsp Danielle&nbsp</span><span class=\"barcode\"; style=\"color: black; background-color: #99d6ed\">&nbsp and&nbsp</span><span class=\"barcode\"; style=\"color: black; background-color: #48b6df\">&nbsp Jonathan&nbsp</span><span class=\"barcode\"; style=\"color: black; background-color: #a3daef\">&nbsp went&nbsp</span><span class=\"barcode\"; style=\"color: black; background-color: #9ad7ed\">&nbsp to&nbsp</span><span class=\"barcode\"; style=\"color: black; background-color: #9bd7ee\">&nbsp the&nbsp</span><span class=\"barcode\"; style=\"color: black; background-color: #a7dcf0\">&nbsp school&nbsp</span><span class=\"barcode\"; style=\"color: black; background-color: #9cd7ee\">&nbsp.&nbsp</span><span class=\"barcode\"; style=\"color: black; background-color: #94d4ec\">&nbsp Jonathan&nbsp</span><span class=\"barcode\"; style=\"color: black; background-color: #a6dcef\">&nbsp gave&nbsp</span><span class=\"barcode\"; style=\"color: black; background-color: #a5dbef\">&nbsp a&nbsp</span><span class=\"barcode\"; style=\"color: black; background-color: #caeaf6\">&nbsp necklace&nbsp</span><span class=\"barcode\"; style=\"color: black; background-color: #acdef1\">&nbsp to&nbsp</span><span class=\"barcode\"; style=\"color: black; background-color: 0.0\">&nbsp Danielle&nbsp</span>"
      ],
      "text/plain": [
       "<IPython.core.display.HTML object>"
      ]
     },
     "metadata": {},
     "output_type": "display_data"
    },
    {
     "data": {
      "text/html": [
       "<span class=\"barcode\"; style=\"color: black; background-color: #edb5a9\">&nbspThen&nbsp</span><span class=\"barcode\"; style=\"color: black; background-color: #f0c3b8\">&nbsp,&nbsp</span><span class=\"barcode\"; style=\"color: black; background-color: #dd735b\">&nbsp Amanda&nbsp</span><span class=\"barcode\"; style=\"color: black; background-color: #f6d8d1\">&nbsp and&nbsp</span><span class=\"barcode\"; style=\"color: black; background-color: 0.0\">&nbsp Crystal&nbsp</span><span class=\"barcode\"; style=\"color: black; background-color: #f0bfb4\">&nbsp went&nbsp</span><span class=\"barcode\"; style=\"color: black; background-color: #edb7aa\">&nbsp to&nbsp</span><span class=\"barcode\"; style=\"color: black; background-color: #eebaae\">&nbsp the&nbsp</span><span class=\"barcode\"; style=\"color: black; background-color: #f1c4ba\">&nbsp garden&nbsp</span><span class=\"barcode\"; style=\"color: black; background-color: #efbcb1\">&nbsp.&nbsp</span><span class=\"barcode\"; style=\"color: black; background-color: #eebaaf\">&nbsp Crystal&nbsp</span><span class=\"barcode\"; style=\"color: black; background-color: #e79e8d\">&nbsp gave&nbsp</span><span class=\"barcode\"; style=\"color: black; background-color: #eaa798\">&nbsp a&nbsp</span><span class=\"barcode\"; style=\"color: black; background-color: #eaaa9c\">&nbsp necklace&nbsp</span><span class=\"barcode\"; style=\"color: black; background-color: #e8a090\">&nbsp to&nbsp</span><span class=\"barcode\"; style=\"color: black; background-color: #edb4a8\">&nbsp Amanda&nbsp</span>"
      ],
      "text/plain": [
       "<IPython.core.display.HTML object>"
      ]
     },
     "metadata": {},
     "output_type": "display_data"
    },
    {
     "data": {
      "text/html": [
       "<span class=\"barcode\"; style=\"color: black; background-color: #99d6ed\">&nbspThen&nbsp</span><span class=\"barcode\"; style=\"color: black; background-color: #9ad7ed\">&nbsp,&nbsp</span><span class=\"barcode\"; style=\"color: black; background-color: #dff2f9\">&nbsp David&nbsp</span><span class=\"barcode\"; style=\"color: black; background-color: #90d3ec\">&nbsp and&nbsp</span><span class=\"barcode\"; style=\"color: black; background-color: #48b6df\">&nbsp Laura&nbsp</span><span class=\"barcode\"; style=\"color: black; background-color: #97d5ed\">&nbsp went&nbsp</span><span class=\"barcode\"; style=\"color: black; background-color: #8bd1eb\">&nbsp to&nbsp</span><span class=\"barcode\"; style=\"color: black; background-color: #86cfea\">&nbsp the&nbsp</span><span class=\"barcode\"; style=\"color: black; background-color: #92d3ec\">&nbsp house&nbsp</span><span class=\"barcode\"; style=\"color: black; background-color: #86cfea\">&nbsp.&nbsp</span><span class=\"barcode\"; style=\"color: black; background-color: #90d3ec\">&nbsp Laura&nbsp</span><span class=\"barcode\"; style=\"color: black; background-color: #98d6ed\">&nbsp gave&nbsp</span><span class=\"barcode\"; style=\"color: black; background-color: #94d4ec\">&nbsp a&nbsp</span><span class=\"barcode\"; style=\"color: black; background-color: #9bd7ee\">&nbsp ring&nbsp</span><span class=\"barcode\"; style=\"color: black; background-color: #87cfea\">&nbsp to&nbsp</span><span class=\"barcode\"; style=\"color: black; background-color: 0.0\">&nbsp David&nbsp</span>"
      ],
      "text/plain": [
       "<IPython.core.display.HTML object>"
      ]
     },
     "metadata": {},
     "output_type": "display_data"
    },
    {
     "data": {
      "text/html": [
       "<span class=\"barcode\"; style=\"color: black; background-color: #b1e0f1\">&nbspThen&nbsp</span><span class=\"barcode\"; style=\"color: black; background-color: #9fd9ee\">&nbsp,&nbsp</span><span class=\"barcode\"; style=\"color: black; background-color: 0.0\">&nbsp Jose&nbsp</span><span class=\"barcode\"; style=\"color: black; background-color: #98d6ed\">&nbsp and&nbsp</span><span class=\"barcode\"; style=\"color: black; background-color: #48b6df\">&nbsp Shannon&nbsp</span><span class=\"barcode\"; style=\"color: black; background-color: #8dd1eb\">&nbsp went&nbsp</span><span class=\"barcode\"; style=\"color: black; background-color: #96d5ed\">&nbsp to&nbsp</span><span class=\"barcode\"; style=\"color: black; background-color: #96d5ed\">&nbsp the&nbsp</span><span class=\"barcode\"; style=\"color: black; background-color: #a7dcf0\">&nbsp restaurant&nbsp</span><span class=\"barcode\"; style=\"color: black; background-color: #91d3ec\">&nbsp.&nbsp</span><span class=\"barcode\"; style=\"color: black; background-color: #8dd1eb\">&nbsp Shannon&nbsp</span><span class=\"barcode\"; style=\"color: black; background-color: #a3daef\">&nbsp gave&nbsp</span><span class=\"barcode\"; style=\"color: black; background-color: #98d6ed\">&nbsp a&nbsp</span><span class=\"barcode\"; style=\"color: black; background-color: #acdef0\">&nbsp ring&nbsp</span><span class=\"barcode\"; style=\"color: black; background-color: #9dd8ee\">&nbsp to&nbsp</span><span class=\"barcode\"; style=\"color: black; background-color: #e7f6fb\">&nbsp Jose&nbsp</span>"
      ],
      "text/plain": [
       "<IPython.core.display.HTML object>"
      ]
     },
     "metadata": {},
     "output_type": "display_data"
    },
    {
     "data": {
      "text/html": [
       "<span class=\"barcode\"; style=\"color: black; background-color: #98d6ed\">&nbspThen&nbsp</span><span class=\"barcode\"; style=\"color: black; background-color: #7ccbe8\">&nbsp,&nbsp</span><span class=\"barcode\"; style=\"color: black; background-color: #48b6df\">&nbsp Danielle&nbsp</span><span class=\"barcode\"; style=\"color: black; background-color: #91d3ec\">&nbsp and&nbsp</span><span class=\"barcode\"; style=\"color: black; background-color: #dff2f9\">&nbsp Kelly&nbsp</span><span class=\"barcode\"; style=\"color: black; background-color: #89d0ea\">&nbsp went&nbsp</span><span class=\"barcode\"; style=\"color: black; background-color: #74c8e7\">&nbsp to&nbsp</span><span class=\"barcode\"; style=\"color: black; background-color: #72c7e6\">&nbsp the&nbsp</span><span class=\"barcode\"; style=\"color: black; background-color: #77c9e7\">&nbsp store&nbsp</span><span class=\"barcode\"; style=\"color: black; background-color: #7bcae8\">&nbsp.&nbsp</span><span class=\"barcode\"; style=\"color: black; background-color: #77c9e7\">&nbsp Danielle&nbsp</span><span class=\"barcode\"; style=\"color: black; background-color: #97d5ed\">&nbsp gave&nbsp</span><span class=\"barcode\"; style=\"color: black; background-color: #82cde9\">&nbsp a&nbsp</span><span class=\"barcode\"; style=\"color: black; background-color: #98d6ed\">&nbsp snack&nbsp</span><span class=\"barcode\"; style=\"color: black; background-color: #7dcbe8\">&nbsp to&nbsp</span><span class=\"barcode\"; style=\"color: black; background-color: 0.0\">&nbsp Kelly&nbsp</span>"
      ],
      "text/plain": [
       "<IPython.core.display.HTML object>"
      ]
     },
     "metadata": {},
     "output_type": "display_data"
    }
   ],
   "source": [
    "for example_idx in range(10):\n",
    "    ablation_sets = [tuple(Node(0, pos, head) for head in range(12)) for pos in range(16)]\n",
    "    target_nodes = []\n",
    "    text = ioi_dataset.sentences[example_idx]\n",
    "    encoding = model.tokenizer.encode_plus(text, \n",
    "                                     add_special_tokens=True, \n",
    "                                     max_length=512,\n",
    "                                     truncation=True, \n",
    "                                     padding = \"longest\", \n",
    "                                     return_attention_mask=True, \n",
    "                                     return_tensors=\"pt\").to(device)\n",
    "    encoding_idxs, attention_mask = encoding.input_ids, encoding.attention_mask\n",
    "    input_shape = encoding_idxs.size()\n",
    "    extended_attention_mask = get_extended_attention_mask(attention_mask, \n",
    "                                                            input_shape, \n",
    "                                                            model,\n",
    "                                                        device)\n",
    "    out_decomps, _, _, pre_layer_activations = prop_GPT(encoding_idxs[0:1, :], extended_attention_mask, model, ablation_sets, target_nodes=target_nodes, device=device, mean_acts=mean_acts, set_irrel_to_mean=True)\n",
    "    rel_word_scores, irrel_word_scores = get_word_scores(out_decomps, ioi_dataset, example_idx)\n",
    "    tokens = ioi_dataset.tokenized_prompts[example_idx].split('|')\n",
    "    s = colorize(tokens, irrel_word_scores)\n",
    "    # s = colorize(tokens, [r - i for (r, i) in zip(rel_word_scores, irrel_word_scores)])\n",
    "    display(HTML(s))"
   ]
  },
  {
   "cell_type": "code",
   "execution_count": 22,
   "id": "fc3f6b47-439f-4fe0-b987-a8b2a1264258",
   "metadata": {
    "tags": []
   },
   "outputs": [],
   "source": [
    "import bisect\n",
    "def interquartile_range(results, iqr_multiplier=1):\n",
    "    # assume sorted in increasing order\n",
    "    third_quartile = results[int(len(results) * 0.75)].score\n",
    "    first_quartile = results[int(len(results) * 0.25)].score\n",
    "    IQR = third_quartile - first_quartile\n",
    "    outlier_score = third_quartile + iqr_multiplier * IQR\n",
    "    print(third_quartile, first_quartile, outlier_score)\n",
    "\n",
    "    by_score = operator.attrgetter('score')\n",
    "    outliers = results[bisect.bisect(results, outlier_score, key=by_score):]\n",
    "    return outliers"
   ]
  },
  {
   "cell_type": "code",
   "execution_count": 23,
   "id": "26ff1e97-c772-4063-8b4c-e9705185498e",
   "metadata": {
    "tags": []
   },
   "outputs": [],
   "source": [
    "def n_sigma_rule(results, n=3):\n",
    "    scores = [r.score for r in results]\n",
    "    std_dev = np.std(scores)\n",
    "    mean = np.mean(scores)\n",
    "    outlier_score = mean + std_dev * n\n",
    "    print(std_dev, mean, outlier_score)\n",
    "    by_score = operator.attrgetter('score')\n",
    "    outliers = results[bisect.bisect(results, outlier_score, key=by_score):] #bisect does a binary search, returns idx of outlier_score\n",
    "    return outliers"
   ]
  },
  {
   "cell_type": "code",
   "execution_count": 61,
   "id": "effd20fb-68cd-41df-99a8-a2c44bff8038",
   "metadata": {
    "tags": []
   },
   "outputs": [
    {
     "name": "stdout",
     "output_type": "stream",
     "text": [
      "0.0048643267 0.0020574331 0.007671220228075981\n",
      "1\n",
      "0.0033118916 0.0037320566 0.005388002377003431\n",
      "1\n"
     ]
    }
   ],
   "source": [
    "results.sort(key=operator.attrgetter('score'), reverse=False)\n",
    "iqr = interquartile_range(results)\n",
    "print(len(iqr))\n",
    "outliers = n_sigma_rule(results, n=0.5)\n",
    "print(len(outliers))"
   ]
  }
 ],
 "metadata": {
  "kernelspec": {
   "display_name": "Python 3.12 (ipykernel)",
   "language": "python",
   "name": "python3.12"
  },
  "language_info": {
   "codemirror_mode": {
    "name": "ipython",
    "version": 3
   },
   "file_extension": ".py",
   "mimetype": "text/x-python",
   "name": "python",
   "nbconvert_exporter": "python",
   "pygments_lexer": "ipython3",
   "version": "3.12.2"
  }
 },
 "nbformat": 4,
 "nbformat_minor": 5
}
