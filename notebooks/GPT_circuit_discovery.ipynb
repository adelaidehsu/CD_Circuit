{
 "cells": [
  {
   "cell_type": "code",
   "execution_count": 1,
   "id": "e61a0720",
   "metadata": {
    "tags": []
   },
   "outputs": [],
   "source": [
    "%load_ext autoreload\n",
    "%autoreload 2"
   ]
  },
  {
   "cell_type": "code",
   "execution_count": 2,
   "id": "8a120102",
   "metadata": {
    "tags": []
   },
   "outputs": [],
   "source": [
    "# This is for if we're trying to execute on a remote JupyterHub, where the pwd is set to the server root, or else I think pwd is set correctly already.\n",
    "# %cd CD_Circuit/\n",
    "\n",
    "import argparse\n",
    "import numpy as np\n",
    "import os\n",
    "import pandas as pd\n",
    "import scipy as sp\n",
    "import sys\n",
    "import torch\n",
    "import torch.nn.functional as F\n",
    "import warnings\n",
    "import random\n",
    "import collections\n",
    "\n",
    "# CD-T Imports\n",
    "import math\n",
    "import tqdm\n",
    "import seaborn as sns\n",
    "import matplotlib.pyplot as plt\n",
    "import pickle\n",
    "import itertools\n",
    "import operator\n",
    "\n",
    "from torch import nn\n",
    "\n",
    "warnings.filterwarnings(\"ignore\")\n",
    "\n",
    "base_dir = os.path.split(os.getcwd())[0]\n",
    "sys.path.append(base_dir)\n",
    "\n",
    "from argparse import Namespace\n",
    "from methods.bag_of_ngrams.processing import cleanReports, cleanSplit, stripChars\n",
    "from pyfunctions.general import extractListFromDic, readJson, combine_token_attn, compute_word_intervals, compare_same\n",
    "from pyfunctions.pathology import extract_synoptic, fixLabelProstateGleason, fixProstateLabels, fixLabel, exclude_labels\n",
    "from pyfunctions.cdt_basic import *\n",
    "from pyfunctions.cdt_source_to_target import *\n",
    "from pyfunctions.ioi_dataset import IOIDataset\n",
    "from sklearn import preprocessing\n",
    "from sklearn.model_selection import train_test_split\n",
    "from torch.utils.data import DataLoader, RandomSampler, SequentialSampler, TensorDataset\n",
    "from transformers import AutoTokenizer, AutoModel\n",
    "from transformers import GPT2Tokenizer, GPT2Model\n",
    "from pyfunctions.wrappers import Node, AblationSet"
   ]
  },
  {
   "cell_type": "markdown",
   "id": "e7651660-7f59-4b59-a574-afecc52dc306",
   "metadata": {
    "tags": []
   },
   "source": [
    "## Load Model\n",
    "\n",
    "Note: Unlike with the BERT model + medical dataset objective, it is not necessary to pretrain GPT-2 to perform the IOI dataset.\n",
    "GPT-2-small is already capable of performing IOI; that's part of the point of the Mech Interp in the Wild paper.\n",
    "We only need to examine how it does it."
   ]
  },
  {
   "cell_type": "code",
   "execution_count": 3,
   "id": "a520f760",
   "metadata": {
    "tags": []
   },
   "outputs": [
    {
     "name": "stderr",
     "output_type": "stream",
     "text": [
      "huggingface/tokenizers: The current process just got forked, after parallelism has already been used. Disabling parallelism to avoid deadlocks...\n",
      "To disable this warning, you can either:\n",
      "\t- Avoid using `tokenizers` before the fork if possible\n",
      "\t- Explicitly set the environment variable TOKENIZERS_PARALLELISM=(true | false)\n",
      "huggingface/tokenizers: The current process just got forked, after parallelism has already been used. Disabling parallelism to avoid deadlocks...\n",
      "To disable this warning, you can either:\n",
      "\t- Avoid using `tokenizers` before the fork if possible\n",
      "\t- Explicitly set the environment variable TOKENIZERS_PARALLELISM=(true | false)\n",
      "huggingface/tokenizers: The current process just got forked, after parallelism has already been used. Disabling parallelism to avoid deadlocks...\n",
      "To disable this warning, you can either:\n",
      "\t- Avoid using `tokenizers` before the fork if possible\n",
      "\t- Explicitly set the environment variable TOKENIZERS_PARALLELISM=(true | false)\n",
      "huggingface/tokenizers: The current process just got forked, after parallelism has already been used. Disabling parallelism to avoid deadlocks...\n",
      "To disable this warning, you can either:\n",
      "\t- Avoid using `tokenizers` before the fork if possible\n",
      "\t- Explicitly set the environment variable TOKENIZERS_PARALLELISM=(true | false)\n",
      "huggingface/tokenizers: The current process just got forked, after parallelism has already been used. Disabling parallelism to avoid deadlocks...\n",
      "To disable this warning, you can either:\n",
      "\t- Avoid using `tokenizers` before the fork if possible\n",
      "\t- Explicitly set the environment variable TOKENIZERS_PARALLELISM=(true | false)\n",
      "huggingface/tokenizers: The current process just got forked, after parallelism has already been used. Disabling parallelism to avoid deadlocks...\n",
      "To disable this warning, you can either:\n",
      "\t- Avoid using `tokenizers` before the fork if possible\n",
      "\t- Explicitly set the environment variable TOKENIZERS_PARALLELISM=(true | false)\n",
      "huggingface/tokenizers: The current process just got forked, after parallelism has already been used. Disabling parallelism to avoid deadlocks...\n",
      "To disable this warning, you can either:\n",
      "\t- Avoid using `tokenizers` before the fork if possible\n",
      "\t- Explicitly set the environment variable TOKENIZERS_PARALLELISM=(true | false)\n",
      "huggingface/tokenizers: The current process just got forked, after parallelism has already been used. Disabling parallelism to avoid deadlocks...\n",
      "To disable this warning, you can either:\n",
      "\t- Avoid using `tokenizers` before the fork if possible\n",
      "\t- Explicitly set the environment variable TOKENIZERS_PARALLELISM=(true | false)\n"
     ]
    },
    {
     "name": "stdout",
     "output_type": "stream",
     "text": [
      "Loaded pretrained model gpt2-small into HookedTransformer\n"
     ]
    }
   ],
   "source": [
    "device = 'cuda:0' if torch.cuda.is_available() else 'cpu'\n",
    "torch.autograd.set_grad_enabled(False)\n",
    "# Model code adapted from Callum McDougall's notebook for ARENA on reproducing the IOI paper using TransformerLens.\n",
    "# This makes some sense, since EasyTransformer, the repo/lib released by the IOI guys, was forked from TransformerLens.\n",
    "# In fact, this makes the reproduction a little bit more faithful, since they most likely do certain things such as \n",
    "# \"folding\" LayerNorms to improve their interpretability results, and we are able to do the same by using TransformerLens.\n",
    "# HuggingFace, by contrast, has the most impenetrable docs and tons of outdated APIs and etc.; even their source \n",
    "# code is impossible to traverse, and I gave up on it, thankfully quickly.\n",
    "\n",
    "from transformer_lens import utils, HookedTransformer, ActivationCache\n",
    "model = HookedTransformer.from_pretrained(\"gpt2-small\",\n",
    "                                          center_unembed=True,\n",
    "                                          center_writing_weights=True,\n",
    "                                          fold_ln=False,\n",
    "                                          refactor_factored_attn_matrices=True)\n",
    "                                          "
   ]
  },
  {
   "cell_type": "markdown",
   "id": "a6ffd4d3-5e8f-4587-bb2a-f06b61918c09",
   "metadata": {
    "user_expressions": []
   },
   "source": [
    "## Generate mean activations\n",
    "\n",
    "This is not as simple as it sounds; for the IOI paper, for each individual input following a template, they ablate using the mean activations of the \"ABC\" dataset, generated over sentences following the same template."
   ]
  },
  {
   "cell_type": "code",
   "execution_count": 4,
   "id": "9ab88048",
   "metadata": {
    "tags": []
   },
   "outputs": [
    {
     "name": "stderr",
     "output_type": "stream",
     "text": [
      "2024-09-18 22:18:59.754606: I tensorflow/core/platform/cpu_feature_guard.cc:210] This TensorFlow binary is optimized to use available CPU instructions in performance-critical operations.\n",
      "To enable the following instructions: AVX2 FMA, in other operations, rebuild TensorFlow with the appropriate compiler flags.\n",
      "2024-09-18 22:19:02.585829: W tensorflow/compiler/tf2tensorrt/utils/py_utils.cc:38] TF-TRT Warning: Could not find TensorRT\n"
     ]
    },
    {
     "data": {
      "text/plain": [
       "torch.Size([12, 16, 768])"
      ]
     },
     "execution_count": 4,
     "metadata": {},
     "output_type": "execute_result"
    }
   ],
   "source": [
    "from pyfunctions.ioi_dataset import IOIDataset\n",
    "\n",
    "# Generate a dataset all consisting of one template, randomly chosen.\n",
    "# nb_templates = 2 due to some logic internal to IOIDataset:\n",
    "# essentially, the nouns can be an ABBA or ABAB order and that counts as separate templates.\n",
    "ioi_dataset = IOIDataset(prompt_type=\"mixed\", N=3, tokenizer=model.tokenizer, prepend_bos=False, nb_templates=2)\n",
    "\n",
    "# This is the P_ABC that is mentioned in the IOI paper, which we use for mean ablation.\n",
    "# Importantly, passing in prompt_type=\"ABC\" or similar is NOT the same thing as this.\n",
    "abc_dataset = (\n",
    "    ioi_dataset.gen_flipped_prompts((\"IO\", \"RAND\"))\n",
    "    .gen_flipped_prompts((\"S\", \"RAND\"))\n",
    "    .gen_flipped_prompts((\"S1\", \"RAND\"))\n",
    ")\n",
    "\n",
    "logits, cache = model.run_with_cache(abc_dataset.toks) # run on entire dataset along batch dimension\n",
    "\n",
    "attention_outputs = [cache['blocks.' + str(i) + '.attn.hook_z'] for i in range(12)]\n",
    "attention_outputs = torch.stack(attention_outputs, dim=1) # now batch, layer, seq, n_heads, dim_attn\n",
    "mean_acts = torch.mean(attention_outputs, dim=0)\n",
    "old_shape = mean_acts.shape\n",
    "last_dim = old_shape[-2] * old_shape[-1]\n",
    "new_shape = old_shape[:-2] + (last_dim,)\n",
    "mean_acts = mean_acts.view(new_shape)\n",
    "mean_acts.shape"
   ]
  },
  {
   "cell_type": "code",
   "execution_count": 5,
   "id": "86c32de5",
   "metadata": {
    "tags": []
   },
   "outputs": [],
   "source": [
    "\n",
    "# source_list = [Node(0, 0, 0), Node(1, 1, 1)]\n",
    "# target_nodes = [(7, 0, 1)]\n",
    "\n",
    "text = ioi_dataset.sentences[0]\n",
    "encoding = model.tokenizer.encode_plus(text, \n",
    "                                 add_special_tokens=True, \n",
    "                                 max_length=512,\n",
    "                                 truncation=True, \n",
    "                                 padding = \"longest\", \n",
    "                                 return_attention_mask=True, \n",
    "                                 return_tensors=\"pt\").to(device)\n",
    "encoding_idxs, attention_mask = encoding.input_ids, encoding.attention_mask\n",
    "input_shape = encoding_idxs.size()\n",
    "extended_attention_mask = get_extended_attention_mask(attention_mask, \n",
    "                                                        input_shape, \n",
    "                                                        model,\n",
    "                                                        device)\n",
    "# out_decomps, target_decomps, _ = prop_GPT(encoding_idxs, extended_attention_mask, model, source_list, target_nodes, mean_acts=mean_acts, set_irrel_to_mean=True, device=device)"
   ]
  },
  {
   "cell_type": "markdown",
   "id": "851670c7-28fd-447a-a9d8-16b8c87b1ac4",
   "metadata": {
    "user_expressions": []
   },
   "source": [
    "## Algorithm A (the one found in the current paper)"
   ]
  },
  {
   "cell_type": "markdown",
   "id": "e758995f-1b99-4ed8-aeaa-0612767fa13e",
   "metadata": {
    "tags": [],
    "user_expressions": []
   },
   "source": [
    "### Run on last sequence position specifically"
   ]
  },
  {
   "cell_type": "code",
   "execution_count": 6,
   "id": "bb4c809f",
   "metadata": {
    "tags": []
   },
   "outputs": [
    {
     "ename": "NameError",
     "evalue": "name 'old_shape' is not defined",
     "output_type": "error",
     "traceback": [
      "\u001b[0;31m---------------------------------------------------------------------------\u001b[0m",
      "\u001b[0;31mNameError\u001b[0m                                 Traceback (most recent call last)",
      "Cell \u001b[0;32mIn[6], line 18\u001b[0m\n\u001b[1;32m     14\u001b[0m target_nodes \u001b[38;5;241m=\u001b[39m []\n\u001b[1;32m     15\u001b[0m \u001b[38;5;66;03m# out_decomp, _, _, pre_layer_activations = prop_GPT(encoding_idxs[0:1, :], extended_attention_mask, model, [ablation_sets[0]], target_nodes=target_nodes, device=device, mean_acts=mean_acts, set_irrel_to_mean=False)\u001b[39;00m\n\u001b[1;32m     16\u001b[0m \n\u001b[1;32m     17\u001b[0m \u001b[38;5;66;03m# cache activations for faster batch run\u001b[39;00m\n\u001b[0;32m---> 18\u001b[0m out_decomp, _, _, pre_layer_activations \u001b[38;5;241m=\u001b[39m \u001b[43mprop_GPT\u001b[49m\u001b[43m(\u001b[49m\u001b[43mencoding_idxs\u001b[49m\u001b[43m[\u001b[49m\u001b[38;5;241;43m0\u001b[39;49m\u001b[43m:\u001b[49m\u001b[38;5;241;43m1\u001b[39;49m\u001b[43m,\u001b[49m\u001b[43m \u001b[49m\u001b[43m:\u001b[49m\u001b[43m]\u001b[49m\u001b[43m,\u001b[49m\u001b[43m \u001b[49m\u001b[43mextended_attention_mask\u001b[49m\u001b[43m,\u001b[49m\u001b[43m \u001b[49m\u001b[43mmodel\u001b[49m\u001b[43m,\u001b[49m\u001b[43m \u001b[49m\u001b[43m[\u001b[49m\u001b[43mablation_sets\u001b[49m\u001b[43m[\u001b[49m\u001b[38;5;241;43m0\u001b[39;49m\u001b[43m]\u001b[49m\u001b[43m]\u001b[49m\u001b[43m,\u001b[49m\u001b[43m \u001b[49m\u001b[43mtarget_nodes\u001b[49m\u001b[38;5;241;43m=\u001b[39;49m\u001b[43mtarget_nodes\u001b[49m\u001b[43m,\u001b[49m\u001b[43m \u001b[49m\u001b[43mdevice\u001b[49m\u001b[38;5;241;43m=\u001b[39;49m\u001b[43mdevice\u001b[49m\u001b[43m,\u001b[49m\u001b[43m \u001b[49m\u001b[43mmean_acts\u001b[49m\u001b[38;5;241;43m=\u001b[39;49m\u001b[43mmean_acts\u001b[49m\u001b[43m,\u001b[49m\u001b[43m \u001b[49m\u001b[43mset_irrel_to_mean\u001b[49m\u001b[38;5;241;43m=\u001b[39;49m\u001b[38;5;28;43;01mFalse\u001b[39;49;00m\u001b[43m)\u001b[49m\n\u001b[1;32m     20\u001b[0m prop_fn \u001b[38;5;241m=\u001b[39m \u001b[38;5;28;01mlambda\u001b[39;00m ablation_list: prop_GPT(encoding_idxs[\u001b[38;5;241m0\u001b[39m:\u001b[38;5;241m1\u001b[39m, :], extended_attention_mask, model, ablation_list, target_nodes\u001b[38;5;241m=\u001b[39mtarget_nodes, device\u001b[38;5;241m=\u001b[39mdevice, mean_acts\u001b[38;5;241m=\u001b[39mmean_acts, set_irrel_to_mean\u001b[38;5;241m=\u001b[39m\u001b[38;5;28;01mFalse\u001b[39;00m, cached_pre_layer_acts\u001b[38;5;241m=\u001b[39mpre_layer_activations)\n\u001b[1;32m     21\u001b[0m out_decomps, target_decomps \u001b[38;5;241m=\u001b[39m batch_run(prop_fn, ablation_sets)\n",
      "File \u001b[0;32m~/CD_Circuit/pyfunctions/cdt_source_to_target.py:353\u001b[0m, in \u001b[0;36mprop_GPT\u001b[0;34m(encoding_idxs, extended_attention_mask, model, ablation_list, target_nodes, device, mean_acts, att_list, set_irrel_to_mean, cached_pre_layer_acts)\u001b[0m\n\u001b[1;32m    350\u001b[0m \u001b[38;5;28;01melse\u001b[39;00m:\n\u001b[1;32m    351\u001b[0m     layer_mean_acts \u001b[38;5;241m=\u001b[39m \u001b[38;5;28;01mNone\u001b[39;00m\n\u001b[0;32m--> 353\u001b[0m rel, irrel, layer_target_decomps, returned_att_probs \u001b[38;5;241m=\u001b[39m \u001b[43mprop_GPT_layer\u001b[49m\u001b[43m(\u001b[49m\u001b[43mrel\u001b[49m\u001b[43m,\u001b[49m\u001b[43m \u001b[49m\u001b[43mirrel\u001b[49m\u001b[43m,\u001b[49m\u001b[43m \u001b[49m\u001b[43mextended_attention_mask\u001b[49m\u001b[43m,\u001b[49m\u001b[43m \u001b[49m\n\u001b[1;32m    354\u001b[0m \u001b[43m                                                                         \u001b[49m\u001b[43mlayer_head_mask\u001b[49m\u001b[43m,\u001b[49m\u001b[43m \u001b[49m\u001b[43mablation_dict\u001b[49m\u001b[43m,\u001b[49m\u001b[43m \u001b[49m\n\u001b[1;32m    355\u001b[0m \u001b[43m                                                                         \u001b[49m\u001b[43mtarget_nodes\u001b[49m\u001b[43m,\u001b[49m\u001b[43m \u001b[49m\u001b[43mi\u001b[49m\u001b[43m,\u001b[49m\u001b[43m \u001b[49m\n\u001b[1;32m    356\u001b[0m \u001b[43m                                                                         \u001b[49m\u001b[43mlayer_mean_acts\u001b[49m\u001b[43m,\u001b[49m\n\u001b[1;32m    357\u001b[0m \u001b[43m                                                                         \u001b[49m\u001b[43mlayer_module\u001b[49m\u001b[43m,\u001b[49m\u001b[43m \u001b[49m\n\u001b[1;32m    358\u001b[0m \u001b[43m                                                                         \u001b[49m\u001b[43mdevice\u001b[49m\u001b[43m,\u001b[49m\n\u001b[1;32m    359\u001b[0m \u001b[43m                                                                         \u001b[49m\u001b[43matt_probs\u001b[49m\u001b[43m,\u001b[49m\n\u001b[1;32m    360\u001b[0m \u001b[43m                                                                         \u001b[49m\u001b[43mset_irrel_to_mean\u001b[49m\u001b[38;5;241;43m=\u001b[39;49m\u001b[43mset_irrel_to_mean\u001b[49m\u001b[43m)\u001b[49m\n\u001b[1;32m    361\u001b[0m \u001b[38;5;28;01mfor\u001b[39;00m idx \u001b[38;5;129;01min\u001b[39;00m \u001b[38;5;28mrange\u001b[39m(\u001b[38;5;28mlen\u001b[39m(target_decomps)):\n\u001b[1;32m    362\u001b[0m     target_decomps[idx] \u001b[38;5;241m+\u001b[39m\u001b[38;5;241m=\u001b[39m layer_target_decomps[idx]\n",
      "File \u001b[0;32m~/CD_Circuit/pyfunctions/cdt_source_to_target.py:155\u001b[0m, in \u001b[0;36mprop_GPT_layer\u001b[0;34m(rel, irrel, attention_mask, head_mask, ablation_dict, target_nodes, level, layer_mean_acts, layer_module, device, att_probs, set_irrel_to_mean)\u001b[0m\n\u001b[1;32m    150\u001b[0m rel_summed_values, irrel_summed_values \u001b[38;5;241m=\u001b[39m set_rel_at_source_nodes(rel_summed_values, irrel_summed_values, ablation_dict, layer_mean_acts, level, attn_wrapper, set_irrel_to_mean, device)\n\u001b[1;32m    151\u001b[0m layer_target_decomps \u001b[38;5;241m=\u001b[39m calculate_contributions(rel_summed_values, irrel_summed_values, ablation_dict,\n\u001b[1;32m    152\u001b[0m                                                                        target_nodes, level,\n\u001b[1;32m    153\u001b[0m                                                                        attn_wrapper, device\u001b[38;5;241m=\u001b[39mdevice)\n\u001b[0;32m--> 155\u001b[0m rel_attn_residual, irrel_attn_residual \u001b[38;5;241m=\u001b[39m prop_linear(rel_summed_values, irrel_summed_values, \u001b[43mattn_wrapper\u001b[49m\u001b[38;5;241;43m.\u001b[39;49m\u001b[43moutput\u001b[49m)\n\u001b[1;32m    156\u001b[0m \u001b[38;5;66;03m# now that we've calculated the output of the attention mechanism, set desired inputs to \"relevant\"\u001b[39;00m\n\u001b[1;32m    157\u001b[0m \u001b[38;5;66;03m# print('irrel norm after set_rel_at_source_nodes: ', np.linalg.norm(irrel_attn_residual.cpu().numpy()))\u001b[39;00m\n\u001b[1;32m    158\u001b[0m \u001b[38;5;66;03m#rel_attn_residual, irrel_attn_residual = set_rel_at_source_nodes(rel_attn_residual, irrel_attn_residual, ablation_dict, layer_mean_acts, level, attn_wrapper, set_irrel_to_mean, device)\u001b[39;00m\n\u001b[0;32m   (...)\u001b[0m\n\u001b[1;32m    161\u001b[0m \u001b[38;5;66;03m#                                                                        target_nodes, level,\u001b[39;00m\n\u001b[1;32m    162\u001b[0m \u001b[38;5;66;03m#                                                                       attn_wrapper, device=device)\u001b[39;00m\n\u001b[1;32m    163\u001b[0m rel_mid, irrel_mid \u001b[38;5;241m=\u001b[39m rel \u001b[38;5;241m+\u001b[39m rel_attn_residual, irrel \u001b[38;5;241m+\u001b[39m irrel_attn_residual\n",
      "File \u001b[0;32m~/CD_Circuit/pyfunctions/wrappers.py:79\u001b[0m, in \u001b[0;36mGPTAttentionWrapper.output\u001b[0;34m(self)\u001b[0m\n\u001b[1;32m     77\u001b[0m \u001b[38;5;129m@property\u001b[39m\n\u001b[1;32m     78\u001b[0m \u001b[38;5;28;01mdef\u001b[39;00m \u001b[38;5;21moutput\u001b[39m(\u001b[38;5;28mself\u001b[39m):\n\u001b[0;32m---> 79\u001b[0m     \u001b[38;5;28;01mreturn\u001b[39;00m \u001b[43mGPTOutputMatrixWrapper\u001b[49m\u001b[43m(\u001b[49m\u001b[38;5;28;43mself\u001b[39;49m\u001b[38;5;241;43m.\u001b[39;49m\u001b[43mattn_module\u001b[49m\u001b[38;5;241;43m.\u001b[39;49m\u001b[43mW_O\u001b[49m\u001b[43m,\u001b[49m\u001b[43m \u001b[49m\u001b[38;5;28;43mself\u001b[39;49m\u001b[38;5;241;43m.\u001b[39;49m\u001b[43mattn_module\u001b[49m\u001b[38;5;241;43m.\u001b[39;49m\u001b[43mb_O\u001b[49m\u001b[43m)\u001b[49m\n",
      "File \u001b[0;32m~/CD_Circuit/pyfunctions/wrappers.py:46\u001b[0m, in \u001b[0;36mGPTOutputMatrixWrapper.__init__\u001b[0;34m(self, weight, bias)\u001b[0m\n\u001b[1;32m     44\u001b[0m \u001b[38;5;28;01mdef\u001b[39;00m \u001b[38;5;21m__init__\u001b[39m(\u001b[38;5;28mself\u001b[39m, weight, bias):\n\u001b[1;32m     45\u001b[0m     \u001b[38;5;66;03m# analogous to the value matrix wrappeExpected size for first two dimensions of batch2 tensor to be: [768, 768] but got: [768, 12].\u001b[39;00m\n\u001b[0;32m---> 46\u001b[0m     new_shape \u001b[38;5;241m=\u001b[39m (\u001b[43mold_shape\u001b[49m[\u001b[38;5;241m0\u001b[39m] \u001b[38;5;241m*\u001b[39m old_shape[\u001b[38;5;241m1\u001b[39m],) \u001b[38;5;241m+\u001b[39m (old_shape[\u001b[38;5;241m2\u001b[39m],)\n\u001b[1;32m     47\u001b[0m     \u001b[38;5;28mself\u001b[39m\u001b[38;5;241m.\u001b[39mweight \u001b[38;5;241m=\u001b[39m (weight\u001b[38;5;241m.\u001b[39mview(new_shape))\n\u001b[1;32m     48\u001b[0m     \u001b[38;5;28mself\u001b[39m\u001b[38;5;241m.\u001b[39mweight \u001b[38;5;241m=\u001b[39m \u001b[38;5;28mself\u001b[39m\u001b[38;5;241m.\u001b[39mweight\u001b[38;5;241m.\u001b[39mtranspose(\u001b[38;5;241m0\u001b[39m, \u001b[38;5;241m1\u001b[39m)\n",
      "\u001b[0;31mNameError\u001b[0m: name 'old_shape' is not defined"
     ]
    }
   ],
   "source": [
    "import functools\n",
    "ranges = [\n",
    "        [layer for layer in range(12)],\n",
    "        [input_shape[1] - 2],\n",
    "        # [sequence_position for sequence_position in range(input_shape[1])],\n",
    "        [attention_head_idx for attention_head_idx in range(12)]\n",
    "    ]\n",
    "\n",
    "source_nodes = [Node(*x) for x in itertools.product(*ranges)]\n",
    "# ablation_sets = [tuple(n for n in source_nodes)]\n",
    "ablation_sets = [(n,) for n in source_nodes]\n",
    "\n",
    "# print(source_nodes[:64])\n",
    "target_nodes = []\n",
    "# out_decomp, _, _, pre_layer_activations = prop_GPT(encoding_idxs[0:1, :], extended_attention_mask, model, [ablation_sets[0]], target_nodes=target_nodes, device=device, mean_acts=mean_acts, set_irrel_to_mean=False)\n",
    "\n",
    "# cache activations for faster batch run\n",
    "out_decomp, _, _, pre_layer_activations = prop_GPT(encoding_idxs[0:1, :], extended_attention_mask, model, [ablation_sets[0]], target_nodes=target_nodes, device=device, mean_acts=mean_acts, set_irrel_to_mean=False)\n",
    "\n",
    "prop_fn = lambda ablation_list: prop_GPT(encoding_idxs[0:1, :], extended_attention_mask, model, ablation_list, target_nodes=target_nodes, device=device, mean_acts=mean_acts, set_irrel_to_mean=False, cached_pre_layer_acts=pre_layer_activations)\n",
    "out_decomps, target_decomps = batch_run(prop_fn, ablation_sets)"
   ]
  },
  {
   "cell_type": "markdown",
   "id": "6376f5a9-9ae5-487d-9a33-7191e95a14e7",
   "metadata": {
    "tags": [],
    "user_expressions": []
   },
   "source": [
    "### Ablate all heads at once"
   ]
  },
  {
   "cell_type": "code",
   "execution_count": 34,
   "id": "024c7432-ea39-4f90-b0cf-52663a515f3d",
   "metadata": {
    "tags": []
   },
   "outputs": [
    {
     "name": "stdout",
     "output_type": "stream",
     "text": [
      "Running inputs 0 to 64 (of 180)\n",
      "Running inputs 64 to 128 (of 180)\n",
      "Running inputs 128 to 180 (of 180)\n"
     ]
    }
   ],
   "source": [
    "import functools\n",
    "'''\n",
    "ranges = [\n",
    "        [layer for layer in range(12)],\n",
    "        # [input_shape[1] - 2],\n",
    "        [sequence_position for sequence_position in range(input_shape[1])],\n",
    "        [attention_head_idx for attention_head_idx in range(12)]\n",
    "    ]\n",
    "\n",
    "source_nodes = [Node(*x) for x in itertools.product(*ranges)]\n",
    "# ablation_sets = [tuple(n for n in source_nodes)]\n",
    "ablation_sets = [(n,) for n in source_nodes]\n",
    "'''\n",
    "ablation_sets = []\n",
    "for layer in range(12):\n",
    "    for seq_idx in range(15):\n",
    "        ablation_sets.append(tuple(Node(layer, seq_idx, x) for x in range(12)))\n",
    "# print(source_nodes[:64])\n",
    "target_nodes = []\n",
    "# out_decomp, _, _, pre_layer_activations = prop_GPT(encoding_idxs[0:1, :], extended_attention_mask, model, [ablation_sets[0]], target_nodes=target_nodes, device=device, mean_acts=mean_acts, set_irrel_to_mean=False)\n",
    "\n",
    "# cache activations for faster batch run\n",
    "out_decomp, _, _, pre_layer_activations = prop_GPT(encoding_idxs[0:1, :], extended_attention_mask, model, [ablation_sets[0]], target_nodes=target_nodes, device=device, mean_acts=mean_acts, set_irrel_to_mean=False)\n",
    "\n",
    "prop_fn = lambda ablation_list: prop_GPT(encoding_idxs[0:1, :], extended_attention_mask, model, ablation_list, target_nodes=target_nodes, device=device, mean_acts=mean_acts, set_irrel_to_mean=False, cached_pre_layer_acts=pre_layer_activations)\n",
    "out_decomps, target_decomps = batch_run(prop_fn, ablation_sets)"
   ]
  },
  {
   "cell_type": "markdown",
   "id": "17ea7c8f-a673-4b44-b9a9-d8e7615b3ec5",
   "metadata": {
    "tags": [],
    "user_expressions": []
   },
   "source": [
    "### Do the normal thing and ablate at all individual spots"
   ]
  },
  {
   "cell_type": "code",
   "execution_count": 22,
   "id": "7d2e4613-362f-480e-95fb-4f353ac3a845",
   "metadata": {
    "tags": []
   },
   "outputs": [
    {
     "name": "stdout",
     "output_type": "stream",
     "text": [
      "Running inputs 0 to 64 (of 2304)\n",
      "Running inputs 64 to 128 (of 2304)\n",
      "Running inputs 128 to 192 (of 2304)\n",
      "Running inputs 192 to 256 (of 2304)\n",
      "Running inputs 256 to 320 (of 2304)\n",
      "Running inputs 320 to 384 (of 2304)\n",
      "Running inputs 384 to 448 (of 2304)\n",
      "Running inputs 448 to 512 (of 2304)\n",
      "Running inputs 512 to 576 (of 2304)\n",
      "Running inputs 576 to 640 (of 2304)\n",
      "Running inputs 640 to 704 (of 2304)\n",
      "Running inputs 704 to 768 (of 2304)\n",
      "Running inputs 768 to 832 (of 2304)\n",
      "Running inputs 832 to 896 (of 2304)\n",
      "Running inputs 896 to 960 (of 2304)\n",
      "Running inputs 960 to 1024 (of 2304)\n",
      "Running inputs 1024 to 1088 (of 2304)\n",
      "Running inputs 1088 to 1152 (of 2304)\n",
      "Running inputs 1152 to 1216 (of 2304)\n",
      "Running inputs 1216 to 1280 (of 2304)\n",
      "Running inputs 1280 to 1344 (of 2304)\n",
      "Running inputs 1344 to 1408 (of 2304)\n",
      "Running inputs 1408 to 1472 (of 2304)\n",
      "Running inputs 1472 to 1536 (of 2304)\n",
      "Running inputs 1536 to 1600 (of 2304)\n",
      "Running inputs 1600 to 1664 (of 2304)\n",
      "Running inputs 1664 to 1728 (of 2304)\n",
      "Running inputs 1728 to 1792 (of 2304)\n",
      "Running inputs 1792 to 1856 (of 2304)\n",
      "Running inputs 1856 to 1920 (of 2304)\n",
      "Running inputs 1920 to 1984 (of 2304)\n",
      "Running inputs 1984 to 2048 (of 2304)\n",
      "Running inputs 2048 to 2112 (of 2304)\n",
      "Running inputs 2112 to 2176 (of 2304)\n",
      "Running inputs 2176 to 2240 (of 2304)\n",
      "Running inputs 2240 to 2304 (of 2304)\n"
     ]
    }
   ],
   "source": [
    "import functools\n",
    "\n",
    "ranges = [\n",
    "        [layer for layer in range(12)],\n",
    "        [sequence_position for sequence_position in range(input_shape[1])],\n",
    "        [attention_head_idx for attention_head_idx in range(12)]\n",
    "    ]\n",
    "\n",
    "source_nodes = [Node(*x) for x in itertools.product(*ranges)]\n",
    "# ablation_sets = [tuple(n for n in source_nodes)]\n",
    "ablation_sets = [(n,) for n in source_nodes]\n",
    "\n",
    "# print(source_nodes[:64])\n",
    "target_nodes = []\n",
    "# out_decomp, _, _, pre_layer_activations = prop_GPT(encoding_idxs[0:1, :], extended_attention_mask, model, [ablation_sets[0]], target_nodes=target_nodes, device=device, mean_acts=mean_acts, set_irrel_to_mean=False)\n",
    "\n",
    "# cache activations for faster batch run\n",
    "out_decomp, _, _, pre_layer_activations = prop_GPT(encoding_idxs[0:1, :], extended_attention_mask, model, [ablation_sets[0]], target_nodes=target_nodes, device=device, mean_acts=mean_acts, set_irrel_to_mean=True)\n",
    "\n",
    "prop_fn = lambda ablation_list: prop_GPT(encoding_idxs[0:1, :], extended_attention_mask, model, ablation_list, target_nodes=target_nodes, device=device, mean_acts=mean_acts, set_irrel_to_mean=True, cached_pre_layer_acts=pre_layer_activations)\n",
    "out_decomps, target_decomps = batch_run(prop_fn, ablation_sets)"
   ]
  },
  {
   "cell_type": "code",
   "execution_count": 23,
   "id": "cad70e3c",
   "metadata": {
    "tags": []
   },
   "outputs": [],
   "source": [
    "# for each source node determine the contribution of rel to the actual score\n",
    "\n",
    "logits = (out_decomps[0].rel + out_decomps[0].irrel) # 1, seq_len, 50257=d_vocab\n",
    "io_logit = logits[0, -2, ioi_dataset.io_tokenIDs[0]]\n",
    "s_logit = logits[0, -2, ioi_dataset.s_tokenIDs[0]]\n",
    "full_score = np.abs(io_logit - s_logit)\n",
    "assert(full_score > 0)\n",
    "\n",
    "results = []\n",
    "Result = collections.namedtuple('Result', ('ablation_set', 'score'))\n",
    "\n",
    "for decomp in out_decomps:\n",
    "    rel_io_logit = decomp.rel[0, -2, ioi_dataset.io_tokenIDs[0]]\n",
    "    rel_s_logit = decomp.rel[0, -2, ioi_dataset.s_tokenIDs[0]]\n",
    "    score = rel_io_logit - rel_s_logit\n",
    "    #print(score, rel_io_logit, rel_s_logit)\n",
    "    norm_score = score / full_score\n",
    "    results.append(Result(decomp.ablation_set, norm_score))\n"
   ]
  },
  {
   "cell_type": "code",
   "execution_count": 111,
   "id": "25c0f73b-759e-409a-b677-90aafd725624",
   "metadata": {
    "tags": []
   },
   "outputs": [
    {
     "data": {
      "text/plain": [
       "2304"
      ]
     },
     "execution_count": 111,
     "metadata": {},
     "output_type": "execute_result"
    }
   ],
   "source": [
    "len(out_decomps)"
   ]
  },
  {
   "cell_type": "code",
   "execution_count": null,
   "id": "be35821b-8f3c-436a-8489-951f0d817797",
   "metadata": {},
   "outputs": [],
   "source": [
    "# Try to add a normalization for layers"
   ]
  },
  {
   "cell_type": "code",
   "execution_count": 16,
   "id": "215b6f6b-8f26-4966-917d-5ef5ee1fb397",
   "metadata": {
    "tags": []
   },
   "outputs": [
    {
     "name": "stdout",
     "output_type": "stream",
     "text": [
      "Node(layer_idx=0, sequence_idx=0, attn_head_idx=0)\n"
     ]
    }
   ],
   "source": [
    "print(out_decomps[].ablation_set[0])"
   ]
  },
  {
   "cell_type": "code",
   "execution_count": 26,
   "id": "6bbe1f41-3b08-45e0-a254-ca346d964911",
   "metadata": {
    "tags": []
   },
   "outputs": [
    {
     "data": {
      "text/plain": [
       "'\\nlogits = (out_decomps[0].rel + out_decomps[0].irrel) # 1, seq_len, 50257=d_vocab\\nio_logit = logits[0, -2, ioi_dataset.io_tokenIDs[0]]\\ns_logit = logits[0, -2, ioi_dataset.s_tokenIDs[0]]\\nfull_score = np.abs(io_logit - s_logit)\\nassert(full_score > 0)\\n\\nresults = []\\n\\nfor decomp in out_decomps:\\n    rel_io_logit = decomp.rel[0, -2, ioi_dataset.io_tokenIDs[0]]\\n    rel_s_logit = decomp.rel[0, -2, ioi_dataset.s_tokenIDs[0]]\\n    score = rel_io_logit - rel_s_logit\\n    #print(score, rel_io_logit, rel_s_logit)\\n    norm_score = score / full_score\\n    results.append(Result(decomp.ablation_set, norm_score))\\n'"
      ]
     },
     "execution_count": 26,
     "metadata": {},
     "output_type": "execute_result"
    }
   ],
   "source": [
    "# for each source node determine the contribution of rel to the actual score\n",
    "# norms_per_layer = np.zeros()\n",
    "norms = []\n",
    "for decomp in out_decomps:\n",
    "    norms.append(np.linalg.norm(decomp.rel))\n",
    "    \n",
    "norms_by_layer = np.array(norms).reshape(-1, 16 * 12)\n",
    "avg_norm_by_layer = np.mean(norms_by_layer, axis=1)\n",
    "\n",
    "'''\n",
    "logits = (out_decomps[0].rel + out_decomps[0].irrel) # 1, seq_len, 50257=d_vocab\n",
    "io_logit = logits[0, -2, ioi_dataset.io_tokenIDs[0]]\n",
    "s_logit = logits[0, -2, ioi_dataset.s_tokenIDs[0]]\n",
    "full_score = np.abs(io_logit - s_logit)\n",
    "assert(full_score > 0)\n",
    "\n",
    "results = []\n",
    "\n",
    "for decomp in out_decomps:\n",
    "    rel_io_logit = decomp.rel[0, -2, ioi_dataset.io_tokenIDs[0]]\n",
    "    rel_s_logit = decomp.rel[0, -2, ioi_dataset.s_tokenIDs[0]]\n",
    "    score = rel_io_logit - rel_s_logit\n",
    "    #print(score, rel_io_logit, rel_s_logit)\n",
    "    norm_score = score / full_score\n",
    "    results.append(Result(decomp.ablation_set, norm_score))\n",
    "'''\n"
   ]
  },
  {
   "cell_type": "code",
   "execution_count": 14,
   "id": "180991c2-2e36-457e-b1c6-b2c9d13b916a",
   "metadata": {
    "tags": []
   },
   "outputs": [
    {
     "data": {
      "text/plain": [
       "(192, 12)"
      ]
     },
     "execution_count": 14,
     "metadata": {},
     "output_type": "execute_result"
    }
   ],
   "source": [
    "norms_by_layer.shape"
   ]
  },
  {
   "cell_type": "code",
   "execution_count": 28,
   "id": "9a9b8864-2d49-451c-b171-28a7c2b93380",
   "metadata": {
    "tags": []
   },
   "outputs": [
    {
     "data": {
      "text/plain": [
       "array([219.33165 , 158.0396  , 124.05173 , 100.218346,  79.22871 ,\n",
       "        63.552044,  52.917133,  38.92066 ,  30.557709,  24.813934,\n",
       "        18.621202,  11.463805], dtype=float32)"
      ]
     },
     "execution_count": 28,
     "metadata": {},
     "output_type": "execute_result"
    }
   ],
   "source": [
    "avg_norm_by_layer"
   ]
  },
  {
   "cell_type": "code",
   "execution_count": 24,
   "id": "a25972ca-181f-43bc-9750-acfb689a7687",
   "metadata": {
    "tags": []
   },
   "outputs": [],
   "source": [
    "\n",
    "results.sort(key=operator.attrgetter('score'), reverse=True)"
   ]
  },
  {
   "cell_type": "code",
   "execution_count": 25,
   "id": "e7e7a3c6-a644-4d56-8b96-f394e364ed5d",
   "metadata": {
    "tags": []
   },
   "outputs": [
    {
     "data": {
      "text/plain": [
       "[Result(ablation_set=(Node(layer_idx=9, sequence_idx=14, attn_head_idx=6),), score=0.34177423),\n",
       " Result(ablation_set=(Node(layer_idx=10, sequence_idx=14, attn_head_idx=0),), score=0.28064322),\n",
       " Result(ablation_set=(Node(layer_idx=9, sequence_idx=14, attn_head_idx=9),), score=0.24171533),\n",
       " Result(ablation_set=(Node(layer_idx=10, sequence_idx=14, attn_head_idx=10),), score=0.16338332),\n",
       " Result(ablation_set=(Node(layer_idx=11, sequence_idx=14, attn_head_idx=3),), score=0.1422774),\n",
       " Result(ablation_set=(Node(layer_idx=10, sequence_idx=14, attn_head_idx=2),), score=0.13067995),\n",
       " Result(ablation_set=(Node(layer_idx=9, sequence_idx=14, attn_head_idx=2),), score=0.094204046),\n",
       " Result(ablation_set=(Node(layer_idx=10, sequence_idx=14, attn_head_idx=6),), score=0.0845308),\n",
       " Result(ablation_set=(Node(layer_idx=0, sequence_idx=2, attn_head_idx=1),), score=0.07160555),\n",
       " Result(ablation_set=(Node(layer_idx=10, sequence_idx=14, attn_head_idx=1),), score=0.06859626),\n",
       " Result(ablation_set=(Node(layer_idx=9, sequence_idx=14, attn_head_idx=0),), score=0.06710677),\n",
       " Result(ablation_set=(Node(layer_idx=9, sequence_idx=14, attn_head_idx=4),), score=0.06252931),\n",
       " Result(ablation_set=(Node(layer_idx=0, sequence_idx=2, attn_head_idx=4),), score=0.062440902),\n",
       " Result(ablation_set=(Node(layer_idx=0, sequence_idx=2, attn_head_idx=3),), score=0.055581514),\n",
       " Result(ablation_set=(Node(layer_idx=0, sequence_idx=2, attn_head_idx=5),), score=0.053372897),\n",
       " Result(ablation_set=(Node(layer_idx=11, sequence_idx=14, attn_head_idx=9),), score=0.052896947),\n",
       " Result(ablation_set=(Node(layer_idx=0, sequence_idx=2, attn_head_idx=10),), score=0.049103156),\n",
       " Result(ablation_set=(Node(layer_idx=11, sequence_idx=14, attn_head_idx=11),), score=0.048401404),\n",
       " Result(ablation_set=(Node(layer_idx=0, sequence_idx=2, attn_head_idx=6),), score=0.04356133),\n",
       " Result(ablation_set=(Node(layer_idx=9, sequence_idx=14, attn_head_idx=8),), score=0.04053725),\n",
       " Result(ablation_set=(Node(layer_idx=8, sequence_idx=14, attn_head_idx=3),), score=0.03910721),\n",
       " Result(ablation_set=(Node(layer_idx=7, sequence_idx=14, attn_head_idx=9),), score=0.038105365),\n",
       " Result(ablation_set=(Node(layer_idx=0, sequence_idx=2, attn_head_idx=8),), score=0.036404587),\n",
       " Result(ablation_set=(Node(layer_idx=9, sequence_idx=14, attn_head_idx=7),), score=0.03622276),\n",
       " Result(ablation_set=(Node(layer_idx=0, sequence_idx=2, attn_head_idx=11),), score=0.034884028),\n",
       " Result(ablation_set=(Node(layer_idx=2, sequence_idx=2, attn_head_idx=1),), score=0.033446305),\n",
       " Result(ablation_set=(Node(layer_idx=8, sequence_idx=14, attn_head_idx=6),), score=0.032880496),\n",
       " Result(ablation_set=(Node(layer_idx=0, sequence_idx=2, attn_head_idx=7),), score=0.028256211),\n",
       " Result(ablation_set=(Node(layer_idx=0, sequence_idx=2, attn_head_idx=2),), score=0.027049903),\n",
       " Result(ablation_set=(Node(layer_idx=1, sequence_idx=2, attn_head_idx=11),), score=0.026677739)]"
      ]
     },
     "execution_count": 25,
     "metadata": {},
     "output_type": "execute_result"
    }
   ],
   "source": [
    "results[:30]"
   ]
  },
  {
   "cell_type": "code",
   "execution_count": 21,
   "id": "1e448868-480b-4bb3-92c1-ad25186da61a",
   "metadata": {
    "tags": []
   },
   "outputs": [
    {
     "name": "stdout",
     "output_type": "stream",
     "text": [
      "(1, 16, 50257)\n",
      "0.05% of the values are equal\n"
     ]
    },
    {
     "data": {
      "text/plain": [
       "0.00048127624012575364"
      ]
     },
     "execution_count": 21,
     "metadata": {},
     "output_type": "execute_result"
    }
   ],
   "source": [
    "logits, cache = model.run_with_cache(encoding_idxs[0:1, :])\n",
    "\n",
    "model_out = out_decomps[0].rel + out_decomps[0].irrel\n",
    "print(model_out.shape)\n",
    "compare_same(logits[0], model_out)"
   ]
  },
  {
   "cell_type": "code",
   "execution_count": 120,
   "id": "d38babb4-94f6-4d2a-bf25-cd84fadeaddf",
   "metadata": {
    "tags": []
   },
   "outputs": [
    {
     "name": "stdout",
     "output_type": "stream",
     "text": [
      "Then, Samantha and Laura went to the school. Samantha gave a computer to Laura\n"
     ]
    }
   ],
   "source": [
    "print(ioi_dataset.sentences[0])"
   ]
  },
  {
   "cell_type": "code",
   "execution_count": 115,
   "id": "f4401803-697d-4dc3-8212-fd99658257a5",
   "metadata": {
    "tags": []
   },
   "outputs": [
    {
     "name": "stdout",
     "output_type": "stream",
     "text": [
      "Node(layer_idx=8, sequence_idx=14, attn_head_idx=6) 0.12152111\n",
      "Node(layer_idx=8, sequence_idx=14, attn_head_idx=10) 0.0822009\n",
      "Node(layer_idx=7, sequence_idx=14, attn_head_idx=9) 0.07783296\n",
      "Node(layer_idx=8, sequence_idx=4, attn_head_idx=10) 0.07362208\n",
      "Node(layer_idx=7, sequence_idx=4, attn_head_idx=3) 0.071159504\n",
      "Node(layer_idx=7, sequence_idx=3, attn_head_idx=3) 0.07108998\n",
      "Node(layer_idx=7, sequence_idx=4, attn_head_idx=9) 0.06943682\n",
      "Node(layer_idx=7, sequence_idx=3, attn_head_idx=9) 0.06770895\n",
      "Node(layer_idx=7, sequence_idx=1, attn_head_idx=9) 0.06574008\n",
      "Node(layer_idx=8, sequence_idx=4, attn_head_idx=6) 0.06536073\n",
      "Node(layer_idx=7, sequence_idx=1, attn_head_idx=3) 0.06427851\n",
      "Node(layer_idx=7, sequence_idx=2, attn_head_idx=9) 0.0599772\n",
      "Node(layer_idx=7, sequence_idx=2, attn_head_idx=3) 0.057893638\n",
      "Node(layer_idx=8, sequence_idx=2, attn_head_idx=10) 0.057380237\n",
      "Node(layer_idx=8, sequence_idx=9, attn_head_idx=10) 0.0559245\n",
      "Node(layer_idx=8, sequence_idx=2, attn_head_idx=6) 0.055904876\n",
      "Node(layer_idx=8, sequence_idx=9, attn_head_idx=6) 0.05554507\n",
      "Node(layer_idx=8, sequence_idx=3, attn_head_idx=10) 0.055238955\n",
      "Node(layer_idx=7, sequence_idx=9, attn_head_idx=9) 0.05293593\n",
      "Node(layer_idx=7, sequence_idx=14, attn_head_idx=3) 0.051339425\n",
      "Node(layer_idx=8, sequence_idx=3, attn_head_idx=6) 0.04840822\n",
      "Node(layer_idx=7, sequence_idx=9, attn_head_idx=3) 0.046866648\n",
      "Node(layer_idx=7, sequence_idx=0, attn_head_idx=3) 0.04618334\n",
      "Node(layer_idx=7, sequence_idx=11, attn_head_idx=9) 0.045930613\n",
      "Node(layer_idx=8, sequence_idx=11, attn_head_idx=10) 0.045326427\n",
      "Node(layer_idx=7, sequence_idx=11, attn_head_idx=3) 0.04518606\n",
      "Node(layer_idx=7, sequence_idx=10, attn_head_idx=3) 0.044725828\n",
      "Node(layer_idx=8, sequence_idx=11, attn_head_idx=6) 0.043644518\n",
      "Node(layer_idx=7, sequence_idx=5, attn_head_idx=3) 0.042973924\n",
      "Node(layer_idx=7, sequence_idx=7, attn_head_idx=9) 0.04256318\n",
      "Node(layer_idx=7, sequence_idx=7, attn_head_idx=3) 0.042094387\n",
      "Node(layer_idx=7, sequence_idx=6, attn_head_idx=3) 0.038879924\n",
      "Node(layer_idx=7, sequence_idx=6, attn_head_idx=9) 0.037446495\n",
      "Node(layer_idx=8, sequence_idx=10, attn_head_idx=6) 0.03675412\n",
      "Node(layer_idx=8, sequence_idx=6, attn_head_idx=10) 0.034736432\n",
      "Node(layer_idx=8, sequence_idx=7, attn_head_idx=10) 0.03429487\n",
      "Node(layer_idx=8, sequence_idx=0, attn_head_idx=10) 0.03385796\n",
      "Node(layer_idx=8, sequence_idx=1, attn_head_idx=6) 0.03225233\n",
      "Node(layer_idx=8, sequence_idx=1, attn_head_idx=10) 0.031825617\n",
      "Node(layer_idx=8, sequence_idx=8, attn_head_idx=6) 0.031171506\n",
      "Node(layer_idx=8, sequence_idx=0, attn_head_idx=6) 0.029102717\n",
      "Node(layer_idx=8, sequence_idx=10, attn_head_idx=10) 0.028458526\n",
      "Node(layer_idx=8, sequence_idx=5, attn_head_idx=10) 0.028269619\n",
      "Node(layer_idx=7, sequence_idx=0, attn_head_idx=9) 0.023748085\n",
      "Node(layer_idx=7, sequence_idx=10, attn_head_idx=9) 0.021111524\n",
      "Node(layer_idx=8, sequence_idx=8, attn_head_idx=10) 0.017978825\n",
      "Node(layer_idx=7, sequence_idx=8, attn_head_idx=3) 0.017961964\n",
      "Node(layer_idx=8, sequence_idx=5, attn_head_idx=6) 0.017358523\n",
      "Node(layer_idx=7, sequence_idx=8, attn_head_idx=9) 0.01682583\n",
      "Node(layer_idx=8, sequence_idx=6, attn_head_idx=6) 0.0133941285\n",
      "Node(layer_idx=7, sequence_idx=13, attn_head_idx=3) 0.0130641535\n",
      "Node(layer_idx=7, sequence_idx=5, attn_head_idx=9) 0.013008005\n",
      "Node(layer_idx=7, sequence_idx=13, attn_head_idx=9) 0.012716658\n",
      "Node(layer_idx=7, sequence_idx=12, attn_head_idx=3) 0.011983796\n",
      "Node(layer_idx=8, sequence_idx=7, attn_head_idx=6) 0.011983144\n",
      "Node(layer_idx=7, sequence_idx=12, attn_head_idx=9) 0.010926103\n",
      "Node(layer_idx=8, sequence_idx=13, attn_head_idx=10) 0.009415353\n",
      "Node(layer_idx=8, sequence_idx=13, attn_head_idx=6) 0.0072015882\n",
      "Node(layer_idx=8, sequence_idx=12, attn_head_idx=10) 0.0069930064\n",
      "Node(layer_idx=8, sequence_idx=12, attn_head_idx=6) 0.0061120763\n",
      "Node(layer_idx=7, sequence_idx=15, attn_head_idx=3) 0.0\n",
      "Node(layer_idx=7, sequence_idx=15, attn_head_idx=9) 0.0\n",
      "Node(layer_idx=8, sequence_idx=15, attn_head_idx=6) 0.0\n",
      "Node(layer_idx=8, sequence_idx=15, attn_head_idx=10) 0.0\n"
     ]
    }
   ],
   "source": [
    "'''\n",
    "for result in results[:20]:\n",
    "    print(result.ablation_set[0], result.score)\n",
    "'''\n",
    "'''\n",
    "for result in results:\n",
    "    if result.ablation_set[0].layer_idx == 9 and result.ablation_set[0].attn_head_idx == 9:\n",
    "        print(result.ablation_set[0], result.score)\n",
    "'''\n",
    "for result in results:\n",
    "    if result.ablation_set[0].layer_idx == 7 and result.ablation_set[0].attn_head_idx == 9 or \\\n",
    "        result.ablation_set[0].layer_idx == 7 and result.ablation_set[0].attn_head_idx == 3 or \\\n",
    "        result.ablation_set[0].layer_idx == 8 and result.ablation_set[0].attn_head_idx == 6 or \\\n",
    "        result.ablation_set[0].layer_idx == 8 and result.ablation_set[0].attn_head_idx == 10:\n",
    "            print(result.ablation_set[0], result.score)\n"
   ]
  },
  {
   "cell_type": "code",
   "execution_count": 119,
   "id": "08ce1ab7-79e2-4c79-9ef9-09b75249e5dd",
   "metadata": {
    "tags": []
   },
   "outputs": [
    {
     "name": "stdout",
     "output_type": "stream",
     "text": [
      "0.03560574 0.05491805\n"
     ]
    }
   ],
   "source": [
    "scores = [r.score for r in results if r.score > 0]\n",
    "std_dev = np.std(scores)\n",
    "mean = np.mean(scores)\n",
    "print(std_dev, mean)"
   ]
  },
  {
   "cell_type": "code",
   "execution_count": 116,
   "id": "ce463474-bb7b-42c5-84bc-8fac38699c14",
   "metadata": {
    "tags": []
   },
   "outputs": [
    {
     "data": {
      "text/plain": [
       "Text(0.5, 0, 'Contribution')"
      ]
     },
     "execution_count": 116,
     "metadata": {},
     "output_type": "execute_result"
    },
    {
     "data": {
      "image/png": "[encoded data removed]",
      "text/plain": [
       "<Figure size 640x480 with 1 Axes>"
      ]
     },
     "metadata": {},
     "output_type": "display_data"
    }
   ],
   "source": [
    "import matplotlib.pyplot as plt\n",
    "import numpy as np\n",
    "%matplotlib inline\n",
    "\n",
    "scores = [result.score for result in results]\n",
    "np.random.seed(42)\n",
    "\n",
    "plt.hist(scores, density=False, bins=192)\n",
    "plt.ylabel('Example Count')\n",
    "plt.xlabel('Contribution')"
   ]
  },
  {
   "cell_type": "code",
   "execution_count": 116,
   "id": "c7f07b99-40b1-4563-bbce-478cc6307baa",
   "metadata": {
    "collapsed": true,
    "jupyter": {
     "outputs_hidden": true,
     "source_hidden": true
    },
    "tags": []
   },
   "outputs": [
    {
     "data": {
      "text/plain": [
       "Text(0.5, 0, 'Contribution')"
      ]
     },
     "execution_count": 116,
     "metadata": {},
     "output_type": "execute_result"
    },
    {
     "data": {
      "image/png": "[encoded data removed]",
      "text/plain": [
       "<Figure size 640x480 with 1 Axes>"
      ]
     },
     "metadata": {},
     "output_type": "display_data"
    }
   ],
   "source": [
    "import matplotlib.pyplot as plt\n",
    "import numpy as np\n",
    "%matplotlib inline\n",
    "\n",
    "scores = [result.score for result in results]\n",
    "np.random.seed(42)\n",
    "\n",
    "plt.hist(scores, density=False, bins=192)\n",
    "plt.ylabel('Example Count')\n",
    "plt.xlabel('Contribution')"
   ]
  },
  {
   "cell_type": "code",
   "execution_count": 23,
   "id": "26ff1e97-c772-4063-8b4c-e9705185498e",
   "metadata": {
    "jupyter": {
     "source_hidden": true
    },
    "tags": []
   },
   "outputs": [],
   "source": [
    "import bisect\n",
    "def interquartile_range(results, iqr_multiplier=1):\n",
    "    # assume sorted in increasing order\n",
    "    third_quartile = results[int(len(results) * 0.75)].score\n",
    "    first_quartile = results[int(len(results) * 0.25)].score\n",
    "    IQR = third_quartile - first_quartile\n",
    "    outlier_score = third_quartile + iqr_multiplier * IQR\n",
    "    print(third_quartile, first_quartile, outlier_score)\n",
    "\n",
    "    by_score = operator.attrgetter('score')\n",
    "    outliers = results[bisect.bisect(results, outlier_score, key=by_score):]\n",
    "    return outliers\n",
    "\n",
    "def n_sigma_rule(results, n=3):\n",
    "    scores = [r.score for r in results]\n",
    "    std_dev = np.std(scores)\n",
    "    mean = np.mean(scores)\n",
    "    outlier_score = mean + std_dev * n\n",
    "    print(std_dev, mean, outlier_score)\n",
    "    by_score = operator.attrgetter('score')\n",
    "    outliers = results[bisect.bisect(results, outlier_score, key=by_score):] #bisect does a binary search, returns idx of outlier_score\n",
    "    return outliers\n",
    "\n",
    "\n"
   ]
  },
  {
   "cell_type": "code",
   "execution_count": 27,
   "id": "92ef27aa-343c-42ce-8a25-0af8f4418e22",
   "metadata": {
    "collapsed": true,
    "jupyter": {
     "outputs_hidden": true,
     "source_hidden": true
    },
    "tags": []
   },
   "outputs": [
    {
     "name": "stdout",
     "output_type": "stream",
     "text": [
      "11498.65576171875\n",
      "12060.0\n",
      "882.81982421875\n",
      "1212.0\n"
     ]
    }
   ],
   "source": [
    "print(torch.cuda.memory_allocated(0)/1024/1024)\n",
    "print(torch.cuda.memory_reserved(0)/1024/1024)\n",
    "import gc\n",
    "gc.collect()\n",
    "\n",
    "torch.cuda.empty_cache()\n",
    "print(torch.cuda.memory_allocated(0)/1024/1024)\n",
    "print(torch.cuda.memory_reserved(0)/1024/1024)\n",
    "\n"
   ]
  },
  {
   "cell_type": "code",
   "execution_count": 19,
   "id": "600b77bd-5aa7-4a6c-b0d9-35194fb8dffd",
   "metadata": {
    "tags": []
   },
   "outputs": [],
   "source": [
    "# ioi_dataset.word_idx"
   ]
  },
  {
   "cell_type": "code",
   "execution_count": 30,
   "id": "5fb15008-7d61-4bfd-b0e4-7126bd08951a",
   "metadata": {
    "tags": []
   },
   "outputs": [],
   "source": [
    "outliers_per_iter = []\n",
    "copy_results = results\n"
   ]
  },
  {
   "cell_type": "code",
   "execution_count": null,
   "id": "50aa79dc-7214-4d32-99d0-601f732975db",
   "metadata": {},
   "outputs": [
    {
     "name": "stdout",
     "output_type": "stream",
     "text": [
      "torch.Size([12, 16, 12, 64])\n",
      "torch.Size([1, 64])\n"
     ]
    }
   ],
   "source": [
    "mean_acts_per_head = mean_acts.view(old_shape)\n",
    "print(mean_acts_per_head.shape)\n",
    "print(target_decomps[0].rels[0].shape)"
   ]
  },
  {
   "cell_type": "code",
   "execution_count": 41,
   "id": "7ef834df-fb0e-445a-bb34-01727ae9624c",
   "metadata": {},
   "outputs": [],
   "source": [
    "\n",
    "ioi_logits, ioi_cache = model.run_with_cache(ioi_dataset.toks) # run on entire dataset along batch dimension\n"
   ]
  },
  {
   "cell_type": "code",
   "execution_count": null,
   "id": "2c8fb521-d084-45e3-9f09-04cfc01eaec5",
   "metadata": {},
   "outputs": [
    {
     "data": {
      "text/plain": [
       "torch.Size([64])"
      ]
     },
     "execution_count": 93,
     "metadata": {},
     "output_type": "execute_result"
    }
   ],
   "source": [
    "ioi_cache['blocks.' + '0' + '.attn.hook_z'][0][0][0].shape"
   ]
  },
  {
   "cell_type": "code",
   "execution_count": 42,
   "id": "0ed01ca5-635f-4198-8898-4b7eeab6a1be",
   "metadata": {},
   "outputs": [],
   "source": [
    "results = []\n",
    "for target_decomp in target_decomps:\n",
    "    # this is just the same as what we did on BERT, seems like we take the ratio of the l1 norm of rel to l1 norm of irrel, summed over target nodes\n",
    "    score = 0\n",
    "    for i, target_node in enumerate(target_decomp.target_nodes):\n",
    "        target_mean_act = mean_acts[target_node.layer_idx, target_node.sequence_idx, target_node.attn_head_idx]\n",
    "        target_rel = ioi_cache['blocks.' + str(target_node.layer_idx) + '.attn.hook_z'][0][target_node.sequence_idx][target_node.attn_head_idx] - target_mean_act \n",
    "        rel = target_decomp.rels[i][0]\n",
    "        #print(target_rel.shape, rel.shape)\n",
    "        score += torch.dot(rel, target_rel)\n",
    "    results.append(Result(target_decomp.ablation_set, score))\n",
    "    "
   ]
  },
  {
   "cell_type": "code",
   "execution_count": 44,
   "id": "a726588c-4b64-4824-9780-43a0a713b1fe",
   "metadata": {},
   "outputs": [
    {
     "name": "stdout",
     "output_type": "stream",
     "text": [
      "Node(layer_idx=7, sequence_idx=2, attn_head_idx=3) tensor(2.8631, device='cuda:0')\n",
      "Node(layer_idx=7, sequence_idx=2, attn_head_idx=9) tensor(2.5057, device='cuda:0')\n",
      "Node(layer_idx=8, sequence_idx=2, attn_head_idx=10) tensor(2.3456, device='cuda:0')\n",
      "Node(layer_idx=7, sequence_idx=3, attn_head_idx=3) tensor(2.1374, device='cuda:0')\n",
      "Node(layer_idx=8, sequence_idx=14, attn_head_idx=6) tensor(2.0232, device='cuda:0')\n",
      "Node(layer_idx=7, sequence_idx=14, attn_head_idx=9) tensor(1.5772, device='cuda:0')\n",
      "Node(layer_idx=8, sequence_idx=10, attn_head_idx=10) tensor(1.5526, device='cuda:0')\n",
      "Node(layer_idx=8, sequence_idx=14, attn_head_idx=10) tensor(1.4639, device='cuda:0')\n",
      "Node(layer_idx=7, sequence_idx=3, attn_head_idx=9) tensor(1.2003, device='cuda:0')\n",
      "Node(layer_idx=8, sequence_idx=2, attn_head_idx=6) tensor(1.1704, device='cuda:0')\n",
      "Node(layer_idx=8, sequence_idx=10, attn_head_idx=6) tensor(1.1144, device='cuda:0')\n",
      "Node(layer_idx=7, sequence_idx=11, attn_head_idx=9) tensor(0.9955, device='cuda:0')\n",
      "Node(layer_idx=7, sequence_idx=9, attn_head_idx=9) tensor(0.9087, device='cuda:0')\n",
      "Node(layer_idx=7, sequence_idx=1, attn_head_idx=3) tensor(0.9014, device='cuda:0')\n",
      "Node(layer_idx=7, sequence_idx=4, attn_head_idx=3) tensor(0.8035, device='cuda:0')\n",
      "Node(layer_idx=7, sequence_idx=1, attn_head_idx=9) tensor(0.8001, device='cuda:0')\n",
      "Node(layer_idx=8, sequence_idx=5, attn_head_idx=10) tensor(0.7452, device='cuda:0')\n",
      "Node(layer_idx=7, sequence_idx=14, attn_head_idx=3) tensor(0.6968, device='cuda:0')\n",
      "Node(layer_idx=8, sequence_idx=4, attn_head_idx=10) tensor(0.6146, device='cuda:0')\n",
      "Node(layer_idx=7, sequence_idx=11, attn_head_idx=3) tensor(0.6018, device='cuda:0')\n",
      "Node(layer_idx=7, sequence_idx=10, attn_head_idx=9) tensor(0.6002, device='cuda:0')\n",
      "Node(layer_idx=7, sequence_idx=6, attn_head_idx=3) tensor(0.5847, device='cuda:0')\n",
      "Node(layer_idx=8, sequence_idx=6, attn_head_idx=10) tensor(0.5632, device='cuda:0')\n",
      "Node(layer_idx=7, sequence_idx=7, attn_head_idx=3) tensor(0.5181, device='cuda:0')\n",
      "Node(layer_idx=7, sequence_idx=5, attn_head_idx=3) tensor(0.5171, device='cuda:0')\n",
      "Node(layer_idx=7, sequence_idx=6, attn_head_idx=9) tensor(0.5040, device='cuda:0')\n",
      "Node(layer_idx=7, sequence_idx=4, attn_head_idx=9) tensor(0.4911, device='cuda:0')\n",
      "Node(layer_idx=7, sequence_idx=10, attn_head_idx=3) tensor(0.4827, device='cuda:0')\n",
      "Node(layer_idx=8, sequence_idx=4, attn_head_idx=6) tensor(0.4606, device='cuda:0')\n",
      "Node(layer_idx=7, sequence_idx=7, attn_head_idx=9) tensor(0.4386, device='cuda:0')\n",
      "Node(layer_idx=7, sequence_idx=5, attn_head_idx=9) tensor(0.3821, device='cuda:0')\n",
      "Node(layer_idx=8, sequence_idx=11, attn_head_idx=6) tensor(0.3639, device='cuda:0')\n",
      "Node(layer_idx=8, sequence_idx=6, attn_head_idx=6) tensor(0.3592, device='cuda:0')\n",
      "Node(layer_idx=7, sequence_idx=13, attn_head_idx=9) tensor(0.2922, device='cuda:0')\n",
      "Node(layer_idx=7, sequence_idx=9, attn_head_idx=3) tensor(0.2882, device='cuda:0')\n",
      "Node(layer_idx=7, sequence_idx=12, attn_head_idx=9) tensor(0.2731, device='cuda:0')\n",
      "Node(layer_idx=8, sequence_idx=7, attn_head_idx=10) tensor(0.2642, device='cuda:0')\n",
      "Node(layer_idx=7, sequence_idx=8, attn_head_idx=3) tensor(0.2243, device='cuda:0')\n",
      "Node(layer_idx=7, sequence_idx=13, attn_head_idx=3) tensor(0.2014, device='cuda:0')\n",
      "Node(layer_idx=8, sequence_idx=11, attn_head_idx=10) tensor(0.1696, device='cuda:0')\n",
      "Node(layer_idx=8, sequence_idx=9, attn_head_idx=6) tensor(0.1240, device='cuda:0')\n",
      "Node(layer_idx=8, sequence_idx=12, attn_head_idx=10) tensor(0.1199, device='cuda:0')\n",
      "Node(layer_idx=8, sequence_idx=5, attn_head_idx=6) tensor(0.1156, device='cuda:0')\n",
      "Node(layer_idx=8, sequence_idx=13, attn_head_idx=6) tensor(0.1136, device='cuda:0')\n",
      "Node(layer_idx=7, sequence_idx=8, attn_head_idx=9) tensor(0.0754, device='cuda:0')\n",
      "Node(layer_idx=8, sequence_idx=1, attn_head_idx=10) tensor(0.0434, device='cuda:0')\n",
      "Node(layer_idx=8, sequence_idx=12, attn_head_idx=6) tensor(0.0395, device='cuda:0')\n",
      "Node(layer_idx=8, sequence_idx=7, attn_head_idx=6) tensor(0.0146, device='cuda:0')\n",
      "Node(layer_idx=7, sequence_idx=0, attn_head_idx=9) tensor(0.0125, device='cuda:0')\n",
      "Node(layer_idx=8, sequence_idx=3, attn_head_idx=10) tensor(0.0039, device='cuda:0')\n",
      "Node(layer_idx=7, sequence_idx=15, attn_head_idx=3) tensor(0., device='cuda:0')\n",
      "Node(layer_idx=7, sequence_idx=15, attn_head_idx=9) tensor(0., device='cuda:0')\n",
      "Node(layer_idx=8, sequence_idx=15, attn_head_idx=6) tensor(0., device='cuda:0')\n",
      "Node(layer_idx=8, sequence_idx=15, attn_head_idx=10) tensor(0., device='cuda:0')\n",
      "Node(layer_idx=7, sequence_idx=12, attn_head_idx=3) tensor(-0.0045, device='cuda:0')\n",
      "Node(layer_idx=7, sequence_idx=0, attn_head_idx=3) tensor(-0.0047, device='cuda:0')\n",
      "Node(layer_idx=8, sequence_idx=0, attn_head_idx=6) tensor(-0.0170, device='cuda:0')\n",
      "Node(layer_idx=8, sequence_idx=0, attn_head_idx=10) tensor(-0.0289, device='cuda:0')\n",
      "Node(layer_idx=8, sequence_idx=8, attn_head_idx=10) tensor(-0.0747, device='cuda:0')\n",
      "Node(layer_idx=8, sequence_idx=1, attn_head_idx=6) tensor(-0.0801, device='cuda:0')\n",
      "Node(layer_idx=8, sequence_idx=13, attn_head_idx=10) tensor(-0.0818, device='cuda:0')\n",
      "Node(layer_idx=8, sequence_idx=9, attn_head_idx=10) tensor(-0.1042, device='cuda:0')\n",
      "Node(layer_idx=8, sequence_idx=8, attn_head_idx=6) tensor(-0.1684, device='cuda:0')\n",
      "Node(layer_idx=8, sequence_idx=3, attn_head_idx=6) tensor(-0.9836, device='cuda:0')\n"
     ]
    }
   ],
   "source": [
    "results.sort(key=operator.attrgetter('score'), reverse=True)\n",
    "results[:50]\n",
    "for result in results:\n",
    "    if result.ablation_set[0].layer_idx == 7 and result.ablation_set[0].attn_head_idx == 9 or \\\n",
    "        result.ablation_set[0].layer_idx == 7 and result.ablation_set[0].attn_head_idx == 3 or \\\n",
    "        result.ablation_set[0].layer_idx == 8 and result.ablation_set[0].attn_head_idx == 6 or \\\n",
    "        result.ablation_set[0].layer_idx == 8 and result.ablation_set[0].attn_head_idx == 10:\n",
    "        print(result.ablation_set[0], result.score)\n"
   ]
  },
  {
   "cell_type": "code",
   "execution_count": 35,
   "id": "32b2b05c-eee7-4a95-aef5-126b082ec550",
   "metadata": {
    "tags": []
   },
   "outputs": [
    {
     "name": "stdout",
     "output_type": "stream",
     "text": [
      "[Node(layer_idx=9, sequence_idx=14, attn_head_idx=6), Node(layer_idx=10, sequence_idx=14, attn_head_idx=0), Node(layer_idx=9, sequence_idx=14, attn_head_idx=9)]\n",
      "Running inputs 0 to 64 (of 2304)\n",
      "Running inputs 64 to 128 (of 2304)\n",
      "Running inputs 128 to 192 (of 2304)\n",
      "Running inputs 192 to 256 (of 2304)\n",
      "Running inputs 256 to 320 (of 2304)\n",
      "Running inputs 320 to 384 (of 2304)\n",
      "Running inputs 384 to 448 (of 2304)\n",
      "Running inputs 448 to 512 (of 2304)\n",
      "Running inputs 512 to 576 (of 2304)\n",
      "Running inputs 576 to 640 (of 2304)\n",
      "Running inputs 640 to 704 (of 2304)\n",
      "Running inputs 704 to 768 (of 2304)\n",
      "Running inputs 768 to 832 (of 2304)\n",
      "Running inputs 832 to 896 (of 2304)\n",
      "Running inputs 896 to 960 (of 2304)\n",
      "Running inputs 960 to 1024 (of 2304)\n",
      "Running inputs 1024 to 1088 (of 2304)\n",
      "Running inputs 1088 to 1152 (of 2304)\n",
      "Running inputs 1152 to 1216 (of 2304)\n",
      "Running inputs 1216 to 1280 (of 2304)\n",
      "Running inputs 1280 to 1344 (of 2304)\n",
      "Running inputs 1344 to 1408 (of 2304)\n",
      "Running inputs 1408 to 1472 (of 2304)\n",
      "Running inputs 1472 to 1536 (of 2304)\n",
      "Running inputs 1536 to 1600 (of 2304)\n",
      "Running inputs 1600 to 1664 (of 2304)\n",
      "Running inputs 1664 to 1728 (of 2304)\n",
      "Running inputs 1728 to 1792 (of 2304)\n",
      "Running inputs 1792 to 1856 (of 2304)\n",
      "Running inputs 1856 to 1920 (of 2304)\n",
      "Running inputs 1920 to 1984 (of 2304)\n",
      "Running inputs 1984 to 2048 (of 2304)\n",
      "Running inputs 2048 to 2112 (of 2304)\n",
      "Running inputs 2112 to 2176 (of 2304)\n",
      "Running inputs 2176 to 2240 (of 2304)\n",
      "Running inputs 2240 to 2304 (of 2304)\n",
      "[Result(ablation_set=(Node(layer_idx=9, sequence_idx=14, attn_head_idx=6),), score=tensor(0.6763, device='cuda:0')), Result(ablation_set=(Node(layer_idx=9, sequence_idx=14, attn_head_idx=9),), score=tensor(0.6328, device='cuda:0')), Result(ablation_set=(Node(layer_idx=10, sequence_idx=14, attn_head_idx=0),), score=tensor(0.6303, device='cuda:0')), Result(ablation_set=(Node(layer_idx=0, sequence_idx=2, attn_head_idx=4),), score=tensor(0.2121, device='cuda:0')), Result(ablation_set=(Node(layer_idx=0, sequence_idx=2, attn_head_idx=1),), score=tensor(0.2109, device='cuda:0')), Result(ablation_set=(Node(layer_idx=0, sequence_idx=2, attn_head_idx=3),), score=tensor(0.2001, device='cuda:0')), Result(ablation_set=(Node(layer_idx=0, sequence_idx=2, attn_head_idx=5),), score=tensor(0.1986, device='cuda:0')), Result(ablation_set=(Node(layer_idx=0, sequence_idx=2, attn_head_idx=10),), score=tensor(0.1894, device='cuda:0')), Result(ablation_set=(Node(layer_idx=0, sequence_idx=2, attn_head_idx=8),), score=tensor(0.1869, device='cuda:0')), Result(ablation_set=(Node(layer_idx=0, sequence_idx=2, attn_head_idx=6),), score=tensor(0.1862, device='cuda:0')), Result(ablation_set=(Node(layer_idx=0, sequence_idx=2, attn_head_idx=11),), score=tensor(0.1819, device='cuda:0')), Result(ablation_set=(Node(layer_idx=0, sequence_idx=1, attn_head_idx=5),), score=tensor(0.1757, device='cuda:0')), Result(ablation_set=(Node(layer_idx=0, sequence_idx=2, attn_head_idx=2),), score=tensor(0.1750, device='cuda:0')), Result(ablation_set=(Node(layer_idx=0, sequence_idx=1, attn_head_idx=8),), score=tensor(0.1750, device='cuda:0')), Result(ablation_set=(Node(layer_idx=0, sequence_idx=1, attn_head_idx=3),), score=tensor(0.1749, device='cuda:0'))]\n"
     ]
    }
   ],
   "source": [
    "# Now, find maximally relevant source nodes to target nodes\n",
    "\n",
    "# TODO: this needs to be put in a loop to implement the \"actual\" algorithm, currently it's just for analysis\n",
    "# results.sort(key=operator.attrgetter('score'), reverse=False)|\n",
    "# iqr = interquartile_range(results)\n",
    "# print(len(iqr))\n",
    "# outliers = n_sigma_rule(results, n=0.5)\n",
    "# print(len(outliers))\n",
    "\n",
    "results.sort(key=operator.attrgetter('score'), reverse=True)\n",
    "outliers = copy_results[:3] # hardcoded first few N\n",
    "outliers_per_iter.append(outliers)\n",
    "target_nodes = [r.ablation_set[0] for r in outliers] # here we assume that we only ever tried to ablate one node at once; our method doesn't handle anything else\n",
    "print(target_nodes)\n",
    "ranges = [\n",
    "        [layer for layer in range(12)],\n",
    "        [sequence_position for sequence_position in range(16)],\n",
    "        # [ioi_dataset.word_idx['IO'][0]],\n",
    "        [attention_head_idx for attention_head_idx in range(12)]\n",
    "    ]\n",
    "\n",
    "source_nodes = [Node(*x) for x in itertools.product(*ranges)]\n",
    "ablation_sets = [(n,) for n in source_nodes]\n",
    "\n",
    "_, _, _, pre_layer_activations = prop_GPT(encoding_idxs[0:1, :], extended_attention_mask, model, [ablation_sets[0]], target_nodes=target_nodes, device=device, mean_acts=mean_acts, set_irrel_to_mean=True)\n",
    "\n",
    "prop_fn = lambda ablation_list: prop_GPT(encoding_idxs[0:1, :], extended_attention_mask, model, ablation_list, target_nodes=target_nodes, device=device, mean_acts=mean_acts, set_irrel_to_mean=True, cached_pre_layer_acts=pre_layer_activations)\n",
    "out_decomps, target_decomps = batch_run(prop_fn, ablation_sets)\n",
    "\n",
    "results = []\n",
    "for target_decomp in target_decomps:\n",
    "    # this is just the same as what we did on BERT, seems like we take the ratio of the l1 norm of rel to l1 norm of irrel, summed over target nodes\n",
    "    score = 0\n",
    "    for i in range(len(target_decomp.target_nodes)):\n",
    "        rels_magnitude = torch.mean(abs(target_decomp.rels[i])) # np.mean if you are on cpu\n",
    "        irrels_magnitude = torch.mean(abs(target_decomp.irrels[i])) # np.mean if you are on cpu\n",
    "        target_node_score = rels_magnitude / (rels_magnitude + irrels_magnitude)\n",
    "        score += target_node_score\n",
    "    results.append(Result(target_decomp.ablation_set, score))\n",
    "\n",
    "results.sort(key=operator.attrgetter('score'), reverse=True)\n",
    "print(results[:15])"
   ]
  },
  {
   "cell_type": "code",
   "execution_count": 39,
   "id": "12f080c6-73e5-4833-9290-2919faa090be",
   "metadata": {
    "tags": []
   },
   "outputs": [
    {
     "name": "stdout",
     "output_type": "stream",
     "text": [
      "Node(layer_idx=7, sequence_idx=3, attn_head_idx=9) tensor(0.0242, device='cuda:0')\n",
      "Node(layer_idx=7, sequence_idx=14, attn_head_idx=9) tensor(0.0228, device='cuda:0')\n",
      "Node(layer_idx=8, sequence_idx=14, attn_head_idx=10) tensor(0.0218, device='cuda:0')\n",
      "Node(layer_idx=7, sequence_idx=3, attn_head_idx=3) tensor(0.0216, device='cuda:0')\n",
      "Node(layer_idx=8, sequence_idx=14, attn_head_idx=6) tensor(0.0204, device='cuda:0')\n",
      "Node(layer_idx=7, sequence_idx=11, attn_head_idx=9) tensor(0.0197, device='cuda:0')\n",
      "Node(layer_idx=8, sequence_idx=3, attn_head_idx=6) tensor(0.0185, device='cuda:0')\n",
      "Node(layer_idx=8, sequence_idx=11, attn_head_idx=10) tensor(0.0180, device='cuda:0')\n",
      "Node(layer_idx=8, sequence_idx=3, attn_head_idx=10) tensor(0.0179, device='cuda:0')\n",
      "Node(layer_idx=8, sequence_idx=11, attn_head_idx=6) tensor(0.0177, device='cuda:0')\n",
      "Node(layer_idx=7, sequence_idx=2, attn_head_idx=3) tensor(0.0171, device='cuda:0')\n",
      "Node(layer_idx=7, sequence_idx=2, attn_head_idx=9) tensor(0.0163, device='cuda:0')\n",
      "Node(layer_idx=7, sequence_idx=1, attn_head_idx=9) tensor(0.0146, device='cuda:0')\n",
      "Node(layer_idx=7, sequence_idx=11, attn_head_idx=3) tensor(0.0145, device='cuda:0')\n",
      "Node(layer_idx=7, sequence_idx=14, attn_head_idx=3) tensor(0.0134, device='cuda:0')\n",
      "Node(layer_idx=7, sequence_idx=1, attn_head_idx=3) tensor(0.0126, device='cuda:0')\n",
      "Node(layer_idx=7, sequence_idx=6, attn_head_idx=3) tensor(0.0121, device='cuda:0')\n",
      "Node(layer_idx=8, sequence_idx=2, attn_head_idx=10) tensor(0.0118, device='cuda:0')\n",
      "Node(layer_idx=7, sequence_idx=4, attn_head_idx=9) tensor(0.0109, device='cuda:0')\n",
      "Node(layer_idx=7, sequence_idx=6, attn_head_idx=9) tensor(0.0108, device='cuda:0')\n",
      "Node(layer_idx=7, sequence_idx=4, attn_head_idx=3) tensor(0.0108, device='cuda:0')\n",
      "Node(layer_idx=8, sequence_idx=2, attn_head_idx=6) tensor(0.0108, device='cuda:0')\n",
      "Node(layer_idx=7, sequence_idx=5, attn_head_idx=3) tensor(0.0101, device='cuda:0')\n",
      "Node(layer_idx=7, sequence_idx=7, attn_head_idx=3) tensor(0.0100, device='cuda:0')\n",
      "Node(layer_idx=8, sequence_idx=6, attn_head_idx=10) tensor(0.0099, device='cuda:0')\n",
      "Node(layer_idx=8, sequence_idx=9, attn_head_idx=10) tensor(0.0097, device='cuda:0')\n",
      "Node(layer_idx=8, sequence_idx=7, attn_head_idx=10) tensor(0.0095, device='cuda:0')\n",
      "Node(layer_idx=8, sequence_idx=4, attn_head_idx=10) tensor(0.0090, device='cuda:0')\n",
      "Node(layer_idx=7, sequence_idx=7, attn_head_idx=9) tensor(0.0086, device='cuda:0')\n",
      "Node(layer_idx=8, sequence_idx=9, attn_head_idx=6) tensor(0.0082, device='cuda:0')\n",
      "Node(layer_idx=7, sequence_idx=5, attn_head_idx=9) tensor(0.0078, device='cuda:0')\n",
      "Node(layer_idx=8, sequence_idx=10, attn_head_idx=10) tensor(0.0076, device='cuda:0')\n",
      "Node(layer_idx=8, sequence_idx=10, attn_head_idx=6) tensor(0.0075, device='cuda:0')\n",
      "Node(layer_idx=8, sequence_idx=4, attn_head_idx=6) tensor(0.0075, device='cuda:0')\n",
      "Node(layer_idx=8, sequence_idx=5, attn_head_idx=10) tensor(0.0068, device='cuda:0')\n",
      "Node(layer_idx=7, sequence_idx=9, attn_head_idx=9) tensor(0.0068, device='cuda:0')\n",
      "Node(layer_idx=8, sequence_idx=6, attn_head_idx=6) tensor(0.0066, device='cuda:0')\n",
      "Node(layer_idx=7, sequence_idx=10, attn_head_idx=9) tensor(0.0064, device='cuda:0')\n",
      "Node(layer_idx=7, sequence_idx=8, attn_head_idx=3) tensor(0.0064, device='cuda:0')\n",
      "Node(layer_idx=8, sequence_idx=8, attn_head_idx=10) tensor(0.0061, device='cuda:0')\n",
      "Node(layer_idx=7, sequence_idx=9, attn_head_idx=3) tensor(0.0060, device='cuda:0')\n",
      "Node(layer_idx=8, sequence_idx=7, attn_head_idx=6) tensor(0.0060, device='cuda:0')\n",
      "Node(layer_idx=7, sequence_idx=10, attn_head_idx=3) tensor(0.0059, device='cuda:0')\n",
      "Node(layer_idx=7, sequence_idx=8, attn_head_idx=9) tensor(0.0057, device='cuda:0')\n",
      "Node(layer_idx=8, sequence_idx=12, attn_head_idx=10) tensor(0.0054, device='cuda:0')\n",
      "Node(layer_idx=8, sequence_idx=5, attn_head_idx=6) tensor(0.0049, device='cuda:0')\n",
      "Node(layer_idx=8, sequence_idx=13, attn_head_idx=10) tensor(0.0048, device='cuda:0')\n",
      "Node(layer_idx=7, sequence_idx=12, attn_head_idx=9) tensor(0.0039, device='cuda:0')\n",
      "Node(layer_idx=8, sequence_idx=8, attn_head_idx=6) tensor(0.0039, device='cuda:0')\n",
      "Node(layer_idx=7, sequence_idx=12, attn_head_idx=3) tensor(0.0038, device='cuda:0')\n",
      "Node(layer_idx=7, sequence_idx=13, attn_head_idx=3) tensor(0.0037, device='cuda:0')\n",
      "Node(layer_idx=7, sequence_idx=13, attn_head_idx=9) tensor(0.0036, device='cuda:0')\n",
      "Node(layer_idx=8, sequence_idx=13, attn_head_idx=6) tensor(0.0027, device='cuda:0')\n",
      "Node(layer_idx=8, sequence_idx=12, attn_head_idx=6) tensor(0.0025, device='cuda:0')\n",
      "Node(layer_idx=7, sequence_idx=0, attn_head_idx=3) tensor(0.0018, device='cuda:0')\n",
      "Node(layer_idx=7, sequence_idx=0, attn_head_idx=9) tensor(0.0018, device='cuda:0')\n",
      "Node(layer_idx=8, sequence_idx=1, attn_head_idx=10) tensor(0.0011, device='cuda:0')\n",
      "Node(layer_idx=8, sequence_idx=1, attn_head_idx=6) tensor(0.0008, device='cuda:0')\n",
      "Node(layer_idx=8, sequence_idx=0, attn_head_idx=10) tensor(0.0002, device='cuda:0')\n",
      "Node(layer_idx=8, sequence_idx=0, attn_head_idx=6) tensor(0.0002, device='cuda:0')\n",
      "Node(layer_idx=7, sequence_idx=15, attn_head_idx=3) tensor(0., device='cuda:0')\n",
      "Node(layer_idx=7, sequence_idx=15, attn_head_idx=9) tensor(0., device='cuda:0')\n",
      "Node(layer_idx=8, sequence_idx=15, attn_head_idx=6) tensor(0., device='cuda:0')\n",
      "Node(layer_idx=8, sequence_idx=15, attn_head_idx=10) tensor(0., device='cuda:0')\n"
     ]
    }
   ],
   "source": [
    "'''\n",
    "for result in results[:20]:\n",
    "    print(result)\n",
    "'''\n",
    "for result in results:\n",
    "    if result.ablation_set[0].layer_idx == 7 and result.ablation_set[0].attn_head_idx == 9 or \\\n",
    "        result.ablation_set[0].layer_idx == 7 and result.ablation_set[0].attn_head_idx == 3 or \\\n",
    "        result.ablation_set[0].layer_idx == 8 and result.ablation_set[0].attn_head_idx == 6 or \\\n",
    "        result.ablation_set[0].layer_idx == 8 and result.ablation_set[0].attn_head_idx == 10:\n",
    "        print(result.ablation_set[0], result.score)\n"
   ]
  },
  {
   "cell_type": "code",
   "execution_count": 121,
   "id": "6be8110d-0ca1-4de2-bffc-3c2a71550ab8",
   "metadata": {
    "tags": []
   },
   "outputs": [
    {
     "name": "stdout",
     "output_type": "stream",
     "text": [
      "['Then', ',', ' Samantha', ' and', ' Laura', ' went', ' to', ' the', ' school', '.', ' Samantha', ' gave', ' a', ' computer', ' to']\n"
     ]
    }
   ],
   "source": [
    "tokens = ioi_dataset.tokenized_prompts[0].split('|')[:-1]\n",
    "print(tokens)"
   ]
  },
  {
   "cell_type": "code",
   "execution_count": 80,
   "id": "0f99ab90-2247-440a-acfc-3bcc76829de1",
   "metadata": {
    "tags": []
   },
   "outputs": [
    {
     "data": {
      "text/plain": [
       "Text(0.5, 0, 'Contribution')"
      ]
     },
     "execution_count": 80,
     "metadata": {},
     "output_type": "execute_result"
    },
    {
     "data": {
      "image/png": "[encoded data removed]",
      "text/plain": [
       "<Figure size 640x480 with 1 Axes>"
      ]
     },
     "metadata": {},
     "output_type": "display_data"
    }
   ],
   "source": [
    "import matplotlib.pyplot as plt\n",
    "import numpy as np\n",
    "%matplotlib inline\n",
    "\n",
    "scores = [result.score.item() if hasattr(result.score, 'item') else result.score for result in results]\n",
    "#print(scores)\n",
    "np.random.seed(42)\n",
    "\n",
    "plt.hist(scores, density=False, bins=192)\n",
    "plt.ylabel('Example Count')\n",
    "plt.xlabel('Contribution')"
   ]
  },
  {
   "cell_type": "code",
   "execution_count": 81,
   "id": "e5844ed6-042c-4dcb-a535-d177f25f417f",
   "metadata": {
    "tags": []
   },
   "outputs": [
    {
     "name": "stdout",
     "output_type": "stream",
     "text": [
      "485\n"
     ]
    }
   ],
   "source": [
    "b_scores = [s for s in scores if s > 0.01]\n",
    "print(len(b_scores))"
   ]
  },
  {
   "cell_type": "code",
   "execution_count": 65,
   "id": "d5baef4b-3ea1-4131-85a2-396d544d5ec1",
   "metadata": {
    "tags": []
   },
   "outputs": [
    {
     "name": "stdout",
     "output_type": "stream",
     "text": [
      "[Node(layer_idx=0, sequence_idx=0, attn_head_idx=10), Node(layer_idx=0, sequence_idx=0, attn_head_idx=1), Node(layer_idx=0, sequence_idx=0, attn_head_idx=0), Node(layer_idx=0, sequence_idx=0, attn_head_idx=7), Node(layer_idx=0, sequence_idx=0, attn_head_idx=3), Node(layer_idx=0, sequence_idx=0, attn_head_idx=9)]\n"
     ]
    },
    {
     "ename": "TypeError",
     "evalue": "can only concatenate list (not \"TargetNodeDecompositionList\") to list",
     "output_type": "error",
     "traceback": [
      "\u001b[0;31m---------------------------------------------------------------------------\u001b[0m",
      "\u001b[0;31mTypeError\u001b[0m                                 Traceback (most recent call last)",
      "Cell \u001b[0;32mIn[65], line 18\u001b[0m\n\u001b[1;32m     15\u001b[0m _, _, _, pre_layer_activations \u001b[38;5;241m=\u001b[39m prop_GPT(encoding_idxs[\u001b[38;5;241m0\u001b[39m:\u001b[38;5;241m1\u001b[39m, :], extended_attention_mask, model, [ablation_sets[\u001b[38;5;241m0\u001b[39m]], target_nodes\u001b[38;5;241m=\u001b[39mtarget_nodes, device\u001b[38;5;241m=\u001b[39mdevice, mean_acts\u001b[38;5;241m=\u001b[39mmean_acts, set_irrel_to_mean\u001b[38;5;241m=\u001b[39m\u001b[38;5;28;01mTrue\u001b[39;00m)\n\u001b[1;32m     17\u001b[0m prop_fn \u001b[38;5;241m=\u001b[39m \u001b[38;5;28;01mlambda\u001b[39;00m ablation_list: prop_GPT(encoding_idxs[\u001b[38;5;241m0\u001b[39m:\u001b[38;5;241m1\u001b[39m, :], extended_attention_mask, model, ablation_list, target_nodes\u001b[38;5;241m=\u001b[39mtarget_nodes, device\u001b[38;5;241m=\u001b[39mdevice, mean_acts\u001b[38;5;241m=\u001b[39mmean_acts, set_irrel_to_mean\u001b[38;5;241m=\u001b[39m\u001b[38;5;28;01mTrue\u001b[39;00m, cached_pre_layer_acts\u001b[38;5;241m=\u001b[39mpre_layer_activations)\n\u001b[0;32m---> 18\u001b[0m out_decomps, target_decomps \u001b[38;5;241m=\u001b[39m \u001b[43mbatch_run\u001b[49m\u001b[43m(\u001b[49m\u001b[43mprop_fn\u001b[49m\u001b[43m,\u001b[49m\u001b[43m \u001b[49m\u001b[43mablation_sets\u001b[49m\u001b[43m)\u001b[49m \n",
      "File \u001b[0;32m~/CD_Circuit/pyfunctions/cdt_source_to_target.py:427\u001b[0m, in \u001b[0;36mbatch_run\u001b[0;34m(prop_model_fn, ablation_list, num_at_time, n_layers)\u001b[0m\n\u001b[1;32m    424\u001b[0m     batch_out_decomps, batch_target_decomps, _, _ \u001b[38;5;241m=\u001b[39m prop_model_fn(ablation_list[b_st: b_end])\n\u001b[1;32m    426\u001b[0m     out_decomps \u001b[38;5;241m=\u001b[39m out_decomps \u001b[38;5;241m+\u001b[39m batch_out_decomps\n\u001b[0;32m--> 427\u001b[0m     target_decomps \u001b[38;5;241m=\u001b[39m [\u001b[43mtarget_decomps\u001b[49m\u001b[43m[\u001b[49m\u001b[43mi\u001b[49m\u001b[43m]\u001b[49m\u001b[43m \u001b[49m\u001b[38;5;241;43m+\u001b[39;49m\u001b[43m \u001b[49m\u001b[43mbatch_target_decomps\u001b[49m\u001b[43m[\u001b[49m\u001b[43mi\u001b[49m\u001b[43m]\u001b[49m \u001b[38;5;28;01mfor\u001b[39;00m i \u001b[38;5;129;01min\u001b[39;00m \u001b[38;5;28mrange\u001b[39m(n_layers)]\n\u001b[1;32m    429\u001b[0m \u001b[38;5;28;01mreturn\u001b[39;00m out_decomps, target_decomps\n",
      "\u001b[0;31mTypeError\u001b[0m: can only concatenate list (not \"TargetNodeDecompositionList\") to list"
     ]
    }
   ],
   "source": [
    "results.sort(key=operator.attrgetter('score'), reverse=True)\n",
    "outliers = results[:6] # hardcoded first few N\n",
    "outliers_per_iter.append(outliers)\n",
    "target_nodes = [r.ablation_set[0] for r in outliers] # here we assume that we only ever tried to ablate one node at once; our method doesn't handle anything else\n",
    "print(target_nodes)\n",
    "ranges = [\n",
    "        [layer for layer in range(12)],\n",
    "        [sequence_position for sequence_position in range(input_shape[1])],\n",
    "        [attention_head_idx for attention_head_idx in range(12)]\n",
    "    ]\n",
    "\n",
    "source_nodes = [Node(*x) for x in itertools.product(*ranges)]\n",
    "ablation_sets = [(n,) for n in source_nodes]\n",
    "\n",
    "_, _, _, pre_layer_activations = prop_GPT(encoding_idxs[0:1, :], extended_attention_mask, model, [ablation_sets[0]], target_nodes=target_nodes, device=device, mean_acts=mean_acts, set_irrel_to_mean=True)\n",
    "\n",
    "prop_fn = lambda ablation_list: prop_GPT(encoding_idxs[0:1, :], extended_attention_mask, model, ablation_list, target_nodes=target_nodes, device=device, mean_acts=mean_acts, set_irrel_to_mean=True, cached_pre_layer_acts=pre_layer_activations)\n",
    "out_decomps, target_decomps = batch_run(prop_fn, ablation_sets) "
   ]
  },
  {
   "cell_type": "code",
   "execution_count": 33,
   "id": "d2bf915a-9f08-46b7-b5ef-1cb1e3a7857b",
   "metadata": {
    "tags": []
   },
   "outputs": [
    {
     "name": "stdout",
     "output_type": "stream",
     "text": [
      "2304\n",
      "tensor([[0., 0., 0., 0., 0., 0., 0., 0., 0., 0., 0., 0., 0., 0., 0., 0., 0., 0., 0., 0., 0., 0., 0., 0.,\n",
      "         0., 0., 0., 0., 0., 0., 0., 0., 0., 0., 0., 0., 0., 0., 0., 0., 0., 0., 0., 0., 0., 0., 0., 0.,\n",
      "         0., 0., 0., 0., 0., 0., 0., 0., 0., 0., 0., 0., 0., 0., 0., 0.]],\n",
      "       device='cuda:0')\n"
     ]
    }
   ],
   "source": [
    "print(len(target_decomps))\n",
    "print((abs(target_decomps[0].rels[0])))"
   ]
  },
  {
   "cell_type": "markdown",
   "id": "18167b58-cf91-4d50-bbb8-42983d510a43",
   "metadata": {
    "tags": [],
    "user_expressions": []
   },
   "source": [
    "## New algorithm (fixed number of nodes per layer, weight relevance to the nodes according to the nodes' relevance in the previous iter, take nodes with highest absolute scores)"
   ]
  },
  {
   "cell_type": "markdown",
   "id": "8131aae5-b946-4acc-aebf-1e769116f9e9",
   "metadata": {},
   "source": [
    "There are two problems with this algorithm generally:\n",
    "\n",
    "1. The \"relevance to logits\" score isn't on the same scale as \"relevance to target nodes\" score, so there's no principled way to decide whether nodes in the last layer are more or less relevant than others.\n",
    "\n",
    "2. More fatally, the most important nodes converge to position 0."
   ]
  },
  {
   "cell_type": "code",
   "execution_count": 22,
   "id": "c2ff3c0a-5464-4075-a40f-a110bef9da4f",
   "metadata": {
    "tags": []
   },
   "outputs": [
    {
     "name": "stdout",
     "output_type": "stream",
     "text": [
      "Running inputs 0 to 64 (of 192)\n",
      "Running inputs 64 to 128 (of 192)\n",
      "Running inputs 128 to 192 (of 192)\n"
     ]
    }
   ],
   "source": [
    "import functools\n",
    "ranges = [\n",
    "        [11],\n",
    "        [sequence_position for sequence_position in range(input_shape[1])],\n",
    "        [attention_head_idx for attention_head_idx in range(12)]\n",
    "    ]\n",
    "\n",
    "source_nodes = [Node(*x) for x in itertools.product(*ranges)]\n",
    "# ablation_sets = [tuple(n for n in source_nodes)]\n",
    "ablation_sets = [(n,) for n in source_nodes]\n",
    "\n",
    "# print(source_nodes[:64])\n",
    "target_nodes = []\n",
    "# out_decomp, _, _, pre_layer_activations = prop_GPT(encoding_idxs[0:1, :], extended_attention_mask, model, [ablation_sets[0]], target_nodes=target_nodes, device=device, mean_acts=mean_acts, set_irrel_to_mean=False)\n",
    "\n",
    "# cache activations for faster batch run\n",
    "out_decomp, _, _, pre_layer_activations = prop_GPT(encoding_idxs[0:1, :], extended_attention_mask, model, [ablation_sets[0]], target_nodes=target_nodes, device=device, mean_acts=mean_acts, set_irrel_to_mean=True)\n",
    "\n",
    "prop_fn = lambda ablation_list: prop_GPT(encoding_idxs[0:1, :], extended_attention_mask, model, ablation_list, target_nodes=target_nodes, device=device, mean_acts=mean_acts, set_irrel_to_mean=True, cached_pre_layer_acts=pre_layer_activations)\n",
    "out_decomps, target_decomps = batch_run(prop_fn, ablation_sets)\n",
    "# for each source node determine the contribution of rel to the actual score\n",
    "\n",
    "logits = (out_decomps[0].rel + out_decomps[0].irrel) # 1, seq_len, 50257=d_vocab\n",
    "io_logit = logits[0, -2, ioi_dataset.io_tokenIDs[0]]\n",
    "s_logit = logits[0, -2, ioi_dataset.s_tokenIDs[0]]\n",
    "full_score = io_logit - s_logit\n",
    "assert(full_score > 0)\n",
    "\n",
    "last_layer_results = []\n",
    "Result = collections.namedtuple('Result', ('ablation_set', 'score'))\n",
    "\n",
    "for decomp in out_decomps:\n",
    "    rel_io_logit = decomp.rel[0, -2, ioi_dataset.io_tokenIDs[0]]\n",
    "    rel_s_logit = decomp.rel[0, -2, ioi_dataset.s_tokenIDs[0]]\n",
    "    score = rel_io_logit - rel_s_logit\n",
    "    #print(score, rel_io_logit, rel_s_logit)\n",
    "    norm_score = score / full_score\n",
    "    last_layer_results.append(Result(decomp.ablation_set, norm_score))\n"
   ]
  },
  {
   "cell_type": "code",
   "execution_count": 23,
   "id": "bc619414-6852-435a-b884-2c0a5692e3a7",
   "metadata": {
    "tags": []
   },
   "outputs": [
    {
     "data": {
      "text/plain": [
       "[Result(ablation_set=(Node(layer_idx=11, sequence_idx=14, attn_head_idx=0),), score=0.0627064),\n",
       " Result(ablation_set=(Node(layer_idx=11, sequence_idx=14, attn_head_idx=6),), score=0.0623091),\n",
       " Result(ablation_set=(Node(layer_idx=11, sequence_idx=14, attn_head_idx=2),), score=0.049144655),\n",
       " Result(ablation_set=(Node(layer_idx=11, sequence_idx=14, attn_head_idx=3),), score=0.04818679),\n",
       " Result(ablation_set=(Node(layer_idx=11, sequence_idx=14, attn_head_idx=7),), score=0.04440797),\n",
       " Result(ablation_set=(Node(layer_idx=11, sequence_idx=14, attn_head_idx=11),), score=0.0425904)]"
      ]
     },
     "execution_count": 23,
     "metadata": {},
     "output_type": "execute_result"
    }
   ],
   "source": [
    "last_layer_results.sort(key=operator.attrgetter('score'), reverse=True)\n",
    "last_layer_results[:6]"
   ]
  },
  {
   "cell_type": "code",
   "execution_count": 24,
   "id": "e8c7d26c-c213-4968-9784-f2c4ead35791",
   "metadata": {
    "tags": []
   },
   "outputs": [
    {
     "name": "stdout",
     "output_type": "stream",
     "text": [
      "layer 10: \n",
      "new target nodes:\n",
      "[Node(layer_idx=11, sequence_idx=14, attn_head_idx=0), Node(layer_idx=11, sequence_idx=14, attn_head_idx=6), Node(layer_idx=11, sequence_idx=14, attn_head_idx=2), Node(layer_idx=11, sequence_idx=14, attn_head_idx=3), Node(layer_idx=11, sequence_idx=14, attn_head_idx=7), Node(layer_idx=11, sequence_idx=14, attn_head_idx=11)]\n",
      "Running inputs 0 to 64 (of 192)\n",
      "Running inputs 64 to 128 (of 192)\n",
      "Running inputs 128 to 192 (of 192)\n",
      "layer 9: \n",
      "new target nodes:\n",
      "[Node(layer_idx=10, sequence_idx=9, attn_head_idx=0), Node(layer_idx=10, sequence_idx=9, attn_head_idx=6), Node(layer_idx=10, sequence_idx=9, attn_head_idx=10), Node(layer_idx=10, sequence_idx=9, attn_head_idx=7), Node(layer_idx=10, sequence_idx=9, attn_head_idx=1), Node(layer_idx=10, sequence_idx=9, attn_head_idx=2)]\n",
      "Running inputs 0 to 64 (of 192)\n",
      "Running inputs 64 to 128 (of 192)\n",
      "Running inputs 128 to 192 (of 192)\n",
      "layer 8: \n",
      "new target nodes:\n",
      "[Node(layer_idx=9, sequence_idx=2, attn_head_idx=0), Node(layer_idx=9, sequence_idx=2, attn_head_idx=8), Node(layer_idx=9, sequence_idx=2, attn_head_idx=2), Node(layer_idx=9, sequence_idx=2, attn_head_idx=5), Node(layer_idx=9, sequence_idx=4, attn_head_idx=8), Node(layer_idx=9, sequence_idx=4, attn_head_idx=3)]\n",
      "Running inputs 0 to 64 (of 192)\n",
      "Running inputs 64 to 128 (of 192)\n",
      "Running inputs 128 to 192 (of 192)\n",
      "layer 7: \n",
      "new target nodes:\n",
      "[Node(layer_idx=8, sequence_idx=2, attn_head_idx=2), Node(layer_idx=8, sequence_idx=2, attn_head_idx=11), Node(layer_idx=8, sequence_idx=2, attn_head_idx=4), Node(layer_idx=8, sequence_idx=2, attn_head_idx=9), Node(layer_idx=8, sequence_idx=2, attn_head_idx=8), Node(layer_idx=8, sequence_idx=2, attn_head_idx=10)]\n",
      "Running inputs 0 to 64 (of 192)\n",
      "Running inputs 64 to 128 (of 192)\n",
      "Running inputs 128 to 192 (of 192)\n",
      "layer 6: \n",
      "new target nodes:\n",
      "[Node(layer_idx=7, sequence_idx=2, attn_head_idx=5), Node(layer_idx=7, sequence_idx=2, attn_head_idx=6), Node(layer_idx=7, sequence_idx=2, attn_head_idx=1), Node(layer_idx=7, sequence_idx=2, attn_head_idx=4), Node(layer_idx=7, sequence_idx=2, attn_head_idx=3), Node(layer_idx=7, sequence_idx=2, attn_head_idx=9)]\n",
      "Running inputs 0 to 64 (of 192)\n",
      "Running inputs 64 to 128 (of 192)\n",
      "Running inputs 128 to 192 (of 192)\n",
      "layer 5: \n",
      "new target nodes:\n",
      "[Node(layer_idx=6, sequence_idx=2, attn_head_idx=4), Node(layer_idx=6, sequence_idx=2, attn_head_idx=6), Node(layer_idx=6, sequence_idx=2, attn_head_idx=7), Node(layer_idx=6, sequence_idx=2, attn_head_idx=0), Node(layer_idx=6, sequence_idx=2, attn_head_idx=5), Node(layer_idx=6, sequence_idx=2, attn_head_idx=1)]\n",
      "Running inputs 0 to 64 (of 192)\n",
      "Running inputs 64 to 128 (of 192)\n",
      "Running inputs 128 to 192 (of 192)\n",
      "layer 4: \n",
      "new target nodes:\n",
      "[Node(layer_idx=5, sequence_idx=2, attn_head_idx=10), Node(layer_idx=5, sequence_idx=2, attn_head_idx=2), Node(layer_idx=5, sequence_idx=2, attn_head_idx=11), Node(layer_idx=5, sequence_idx=2, attn_head_idx=9), Node(layer_idx=5, sequence_idx=2, attn_head_idx=7), Node(layer_idx=5, sequence_idx=2, attn_head_idx=3)]\n",
      "Running inputs 0 to 64 (of 192)\n",
      "Running inputs 64 to 128 (of 192)\n",
      "Running inputs 128 to 192 (of 192)\n",
      "layer 3: \n",
      "new target nodes:\n",
      "[Node(layer_idx=4, sequence_idx=2, attn_head_idx=4), Node(layer_idx=4, sequence_idx=2, attn_head_idx=3), Node(layer_idx=4, sequence_idx=2, attn_head_idx=7), Node(layer_idx=4, sequence_idx=2, attn_head_idx=5), Node(layer_idx=4, sequence_idx=2, attn_head_idx=8), Node(layer_idx=4, sequence_idx=2, attn_head_idx=6)]\n",
      "Running inputs 0 to 64 (of 192)\n",
      "Running inputs 64 to 128 (of 192)\n",
      "Running inputs 128 to 192 (of 192)\n",
      "layer 2: \n",
      "new target nodes:\n",
      "[Node(layer_idx=3, sequence_idx=2, attn_head_idx=6), Node(layer_idx=3, sequence_idx=2, attn_head_idx=10), Node(layer_idx=3, sequence_idx=2, attn_head_idx=5), Node(layer_idx=3, sequence_idx=2, attn_head_idx=7), Node(layer_idx=3, sequence_idx=2, attn_head_idx=2), Node(layer_idx=3, sequence_idx=2, attn_head_idx=3)]\n",
      "Running inputs 0 to 64 (of 192)\n",
      "Running inputs 64 to 128 (of 192)\n",
      "Running inputs 128 to 192 (of 192)\n",
      "layer 1: \n",
      "new target nodes:\n",
      "[Node(layer_idx=2, sequence_idx=2, attn_head_idx=1), Node(layer_idx=2, sequence_idx=2, attn_head_idx=9), Node(layer_idx=2, sequence_idx=2, attn_head_idx=7), Node(layer_idx=2, sequence_idx=2, attn_head_idx=0), Node(layer_idx=2, sequence_idx=2, attn_head_idx=10), Node(layer_idx=2, sequence_idx=2, attn_head_idx=2)]\n",
      "Running inputs 0 to 64 (of 192)\n",
      "Running inputs 64 to 128 (of 192)\n",
      "Running inputs 128 to 192 (of 192)\n",
      "layer 0: \n",
      "new target nodes:\n",
      "[Node(layer_idx=1, sequence_idx=2, attn_head_idx=11), Node(layer_idx=1, sequence_idx=2, attn_head_idx=10), Node(layer_idx=1, sequence_idx=2, attn_head_idx=7), Node(layer_idx=1, sequence_idx=2, attn_head_idx=0), Node(layer_idx=1, sequence_idx=2, attn_head_idx=6), Node(layer_idx=1, sequence_idx=2, attn_head_idx=5)]\n",
      "Running inputs 0 to 64 (of 192)\n",
      "Running inputs 64 to 128 (of 192)\n",
      "Running inputs 128 to 192 (of 192)\n"
     ]
    }
   ],
   "source": [
    "last_layer_results.sort(key=operator.attrgetter('score'), reverse=True)\n",
    "outliers = last_layer_results[:6] # hardcoded first few N\n",
    "outliers_per_iter = [outliers]\n",
    "node_weights = [r.score for r in outliers]\n",
    "\n",
    "for layer in range(10, -1, -1):\n",
    "    target_nodes = [r.ablation_set[0] for r in outliers] # here we assume that we only ever tried to ablate one node at once; our method doesn't handle anything else\n",
    "    sum_scores = sum([r.score for r in outliers])\n",
    "    node_weights = [r.score / sum_scores for r in outliers]\n",
    "    print(\"layer %d: \" % layer)\n",
    "    print(\"new target nodes:\")\n",
    "    print(target_nodes)\n",
    "    ranges = [\n",
    "            [layer],\n",
    "            [sequence_position for sequence_position in range(input_shape[1])],\n",
    "            [attention_head_idx for attention_head_idx in range(12)]\n",
    "        ]\n",
    "\n",
    "    source_nodes = [Node(*x) for x in itertools.product(*ranges)]\n",
    "    ablation_sets = [(n,) for n in source_nodes]\n",
    "\n",
    "    prop_fn = lambda ablation_list: prop_GPT(encoding_idxs[0:1, :], extended_attention_mask, model, ablation_list, target_nodes=target_nodes, device=device, mean_acts=mean_acts, set_irrel_to_mean=True, cached_pre_layer_acts=pre_layer_activations)\n",
    "    _, target_decomps = batch_run(prop_fn, ablation_sets) # why does this run so slowly? is it because moving target decomps is slow or something?\n",
    "\n",
    "    results = []\n",
    "    for target_decomp in target_decomps:\n",
    "        # this is just the same as what we did on BERT, seems like we take the ratio of the l1 norm of rel to l1 norm of irrel, summed over target nodes\n",
    "        score = 0\n",
    "        for i in range(len(target_decomp.target_nodes)):\n",
    "            weight = node_weights[i]\n",
    "            rels_magnitude = torch.mean(abs(target_decomp.rels[i])) # np.mean if you are on cpu\n",
    "            irrels_magnitude = torch.mean(abs(target_decomp.irrels[i])) # np.mean if you are on cpu\n",
    "            target_node_score = rels_magnitude / (rels_magnitude + irrels_magnitude)\n",
    "            score += (target_node_score * weight)\n",
    "        results.append(Result(target_decomp.ablation_set, score))\n",
    "    results.sort(key=operator.attrgetter('score'), reverse=True)\n",
    "    outliers = results[:6] # hardcoded first few N\n",
    "    outliers_per_iter.append(outliers)\n"
   ]
  },
  {
   "cell_type": "code",
   "execution_count": 26,
   "id": "f2e64cd0-7877-420b-9eed-35f9e722eb98",
   "metadata": {
    "tags": []
   },
   "outputs": [
    {
     "name": "stdout",
     "output_type": "stream",
     "text": [
      "Result(ablation_set=(Node(layer_idx=11, sequence_idx=14, attn_head_idx=0),), score=0.0627064)\n",
      "72\n"
     ]
    }
   ],
   "source": [
    "# for outs in outliers_per_iter:\n",
    "#     print([r.score for r in outs])\n",
    "\n",
    "all_outliers = sum(outliers_per_iter, [])\n",
    "print(all_outliers[0])\n",
    "print(len(all_outliers))"
   ]
  },
  {
   "cell_type": "code",
   "execution_count": 27,
   "id": "80475254-fedc-445a-b251-7ee50dd82df9",
   "metadata": {
    "tags": []
   },
   "outputs": [
    {
     "name": "stdout",
     "output_type": "stream",
     "text": [
      "Result(ablation_set=(Node(layer_idx=0, sequence_idx=2, attn_head_idx=1),), score=tensor(0.0721, device='cuda:0'))\n",
      "Result(ablation_set=(Node(layer_idx=0, sequence_idx=2, attn_head_idx=3),), score=tensor(0.0670, device='cuda:0'))\n",
      "Result(ablation_set=(Node(layer_idx=11, sequence_idx=14, attn_head_idx=0),), score=0.0627064)\n",
      "Result(ablation_set=(Node(layer_idx=11, sequence_idx=14, attn_head_idx=6),), score=0.0623091)\n",
      "Result(ablation_set=(Node(layer_idx=0, sequence_idx=2, attn_head_idx=4),), score=tensor(0.0588, device='cuda:0'))\n",
      "Result(ablation_set=(Node(layer_idx=0, sequence_idx=2, attn_head_idx=5),), score=tensor(0.0584, device='cuda:0'))\n",
      "Result(ablation_set=(Node(layer_idx=11, sequence_idx=14, attn_head_idx=2),), score=0.049144655)\n",
      "Result(ablation_set=(Node(layer_idx=11, sequence_idx=14, attn_head_idx=3),), score=0.04818679)\n",
      "Result(ablation_set=(Node(layer_idx=11, sequence_idx=14, attn_head_idx=7),), score=0.04440797)\n",
      "Result(ablation_set=(Node(layer_idx=11, sequence_idx=14, attn_head_idx=11),), score=0.0425904)\n",
      "Result(ablation_set=(Node(layer_idx=10, sequence_idx=9, attn_head_idx=0),), score=tensor(0.0415, device='cuda:0'))\n",
      "Result(ablation_set=(Node(layer_idx=0, sequence_idx=2, attn_head_idx=10),), score=tensor(0.0404, device='cuda:0'))\n",
      "Result(ablation_set=(Node(layer_idx=0, sequence_idx=2, attn_head_idx=11),), score=tensor(0.0392, device='cuda:0'))\n",
      "Result(ablation_set=(Node(layer_idx=2, sequence_idx=2, attn_head_idx=1),), score=tensor(0.0357, device='cuda:0'))\n",
      "Result(ablation_set=(Node(layer_idx=2, sequence_idx=2, attn_head_idx=9),), score=tensor(0.0308, device='cuda:0'))\n",
      "Result(ablation_set=(Node(layer_idx=3, sequence_idx=2, attn_head_idx=6),), score=tensor(0.0284, device='cuda:0'))\n",
      "Result(ablation_set=(Node(layer_idx=8, sequence_idx=2, attn_head_idx=2),), score=tensor(0.0275, device='cuda:0'))\n",
      "Result(ablation_set=(Node(layer_idx=10, sequence_idx=9, attn_head_idx=6),), score=tensor(0.0267, device='cuda:0'))\n",
      "Result(ablation_set=(Node(layer_idx=1, sequence_idx=2, attn_head_idx=11),), score=tensor(0.0266, device='cuda:0'))\n",
      "Result(ablation_set=(Node(layer_idx=8, sequence_idx=2, attn_head_idx=11),), score=tensor(0.0266, device='cuda:0'))\n",
      "Result(ablation_set=(Node(layer_idx=10, sequence_idx=9, attn_head_idx=10),), score=tensor(0.0258, device='cuda:0'))\n",
      "Result(ablation_set=(Node(layer_idx=8, sequence_idx=2, attn_head_idx=4),), score=tensor(0.0251, device='cuda:0'))\n",
      "Result(ablation_set=(Node(layer_idx=1, sequence_idx=2, attn_head_idx=10),), score=tensor(0.0249, device='cuda:0'))\n",
      "Result(ablation_set=(Node(layer_idx=1, sequence_idx=2, attn_head_idx=7),), score=tensor(0.0249, device='cuda:0'))\n",
      "Result(ablation_set=(Node(layer_idx=3, sequence_idx=2, attn_head_idx=10),), score=tensor(0.0236, device='cuda:0'))\n"
     ]
    }
   ],
   "source": [
    "all_outliers.sort(key=operator.attrgetter('score'), reverse=True)\n",
    "for x in range(25):\n",
    "    print(all_outliers[x])"
   ]
  }
 ],
 "metadata": {
  "kernelspec": {
   "display_name": "Python 3.12 (ipykernel)",
   "language": "python",
   "name": "python3.12"
  },
  "language_info": {
   "codemirror_mode": {
    "name": "ipython",
    "version": 3
   },
   "file_extension": ".py",
   "mimetype": "text/x-python",
   "name": "python",
   "nbconvert_exporter": "python",
   "pygments_lexer": "ipython3",
   "version": "3.12.2"
  }
 },
 "nbformat": 4,
 "nbformat_minor": 5
}
