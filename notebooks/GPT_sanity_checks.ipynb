{
 "cells": [
  {
   "cell_type": "code",
   "execution_count": 1,
   "id": "e61a0720",
   "metadata": {
    "tags": []
   },
   "outputs": [],
   "source": [
    "%load_ext autoreload\n",
    "%autoreload 2"
   ]
  },
  {
   "cell_type": "code",
   "execution_count": 3,
   "id": "8a120102",
   "metadata": {
    "tags": []
   },
   "outputs": [],
   "source": [
    "# This is for if we're trying to execute on a remote JupyterHub, where the pwd is set to the server root, or else I think pwd is set correctly already.\n",
    "# %cd CD_Circuit/\n",
    "\n",
    "import argparse\n",
    "import numpy as np\n",
    "import os\n",
    "import pandas as pd\n",
    "import scipy as sp\n",
    "import sys\n",
    "import torch\n",
    "import torch.nn.functional as F\n",
    "import warnings\n",
    "import random\n",
    "import collections\n",
    "\n",
    "# CD-T Imports\n",
    "import math\n",
    "import tqdm\n",
    "import seaborn as sns\n",
    "import matplotlib.pyplot as plt\n",
    "import pickle\n",
    "import itertools\n",
    "import operator\n",
    "\n",
    "from torch import nn\n",
    "\n",
    "warnings.filterwarnings(\"ignore\")\n",
    "\n",
    "base_dir = os.path.split(os.getcwd())[0]\n",
    "sys.path.append(base_dir)\n",
    "\n",
    "from argparse import Namespace\n",
    "from methods.bag_of_ngrams.processing import cleanReports, cleanSplit, stripChars\n",
    "from pyfunctions.general import extractListFromDic, readJson, combine_token_attn, compute_word_intervals, compare_same\n",
    "from pyfunctions.cdt_basic import *\n",
    "from pyfunctions.cdt_source_to_target import *\n",
    "from pyfunctions.ioi_dataset import IOIDataset\n",
    "from sklearn import preprocessing\n",
    "from sklearn.model_selection import train_test_split\n",
    "from torch.utils.data import DataLoader, RandomSampler, SequentialSampler, TensorDataset\n",
    "from transformers import AutoTokenizer, AutoModel\n",
    "from transformers import GPT2Tokenizer, GPT2Model\n",
    "from pyfunctions.wrappers import Node, AblationSet"
   ]
  },
  {
   "cell_type": "markdown",
   "id": "e7651660-7f59-4b59-a574-afecc52dc306",
   "metadata": {
    "tags": []
   },
   "source": [
    "## Load Model\n",
    "\n",
    "Note: Unlike with the BERT model + medical dataset objective, it is not necessary to pretrain GPT-2 to perform the IOI dataset.\n",
    "GPT-2-small is already capable of performing IOI; that's part of the point of the Mech Interp in the Wild paper.\n",
    "We only need to examine how it does it."
   ]
  },
  {
   "cell_type": "code",
   "execution_count": 4,
   "id": "a520f760",
   "metadata": {
    "tags": []
   },
   "outputs": [
    {
     "name": "stderr",
     "output_type": "stream",
     "text": [
      "huggingface/tokenizers: The current process just got forked, after parallelism has already been used. Disabling parallelism to avoid deadlocks...\n",
      "To disable this warning, you can either:\n",
      "\t- Avoid using `tokenizers` before the fork if possible\n",
      "\t- Explicitly set the environment variable TOKENIZERS_PARALLELISM=(true | false)\n",
      "huggingface/tokenizers: The current process just got forked, after parallelism has already been used. Disabling parallelism to avoid deadlocks...\n",
      "To disable this warning, you can either:\n",
      "\t- Avoid using `tokenizers` before the fork if possible\n",
      "\t- Explicitly set the environment variable TOKENIZERS_PARALLELISM=(true | false)\n",
      "huggingface/tokenizers: The current process just got forked, after parallelism has already been used. Disabling parallelism to avoid deadlocks...\n",
      "To disable this warning, you can either:\n",
      "\t- Avoid using `tokenizers` before the fork if possible\n",
      "\t- Explicitly set the environment variable TOKENIZERS_PARALLELISM=(true | false)\n",
      "huggingface/tokenizers: The current process just got forked, after parallelism has already been used. Disabling parallelism to avoid deadlocks...\n",
      "To disable this warning, you can either:\n",
      "\t- Avoid using `tokenizers` before the fork if possible\n",
      "\t- Explicitly set the environment variable TOKENIZERS_PARALLELISM=(true | false)\n",
      "huggingface/tokenizers: The current process just got forked, after parallelism has already been used. Disabling parallelism to avoid deadlocks...\n",
      "To disable this warning, you can either:\n",
      "\t- Avoid using `tokenizers` before the fork if possible\n",
      "\t- Explicitly set the environment variable TOKENIZERS_PARALLELISM=(true | false)\n",
      "huggingface/tokenizers: The current process just got forked, after parallelism has already been used. Disabling parallelism to avoid deadlocks...\n",
      "To disable this warning, you can either:\n",
      "\t- Avoid using `tokenizers` before the fork if possible\n",
      "\t- Explicitly set the environment variable TOKENIZERS_PARALLELISM=(true | false)\n",
      "huggingface/tokenizers: The current process just got forked, after parallelism has already been used. Disabling parallelism to avoid deadlocks...\n",
      "To disable this warning, you can either:\n",
      "\t- Avoid using `tokenizers` before the fork if possible\n",
      "\t- Explicitly set the environment variable TOKENIZERS_PARALLELISM=(true | false)\n",
      "huggingface/tokenizers: The current process just got forked, after parallelism has already been used. Disabling parallelism to avoid deadlocks...\n",
      "To disable this warning, you can either:\n",
      "\t- Avoid using `tokenizers` before the fork if possible\n",
      "\t- Explicitly set the environment variable TOKENIZERS_PARALLELISM=(true | false)\n"
     ]
    },
    {
     "name": "stdout",
     "output_type": "stream",
     "text": [
      "Loaded pretrained model gpt2-small into HookedTransformer\n"
     ]
    }
   ],
   "source": [
    "device = 'cuda:0' if torch.cuda.is_available() else 'cpu'\n",
    "torch.autograd.set_grad_enabled(False)\n",
    "# Model code adapted from Callum McDougall's notebook for ARENA on reproducing the IOI paper using TransformerLens.\n",
    "# This makes some sense, since EasyTransformer, the repo/lib released by the IOI guys, was forked from TransformerLens.\n",
    "# In fact, this makes the reproduction a little bit more faithful, since they most likely do certain things such as \n",
    "# \"folding\" LayerNorms to improve their interpretability results, and we are able to do the same by using TransformerLens.\n",
    "# HuggingFace, by contrast, has the most impenetrable docs and tons of outdated APIs and etc.; even their source \n",
    "# code is impossible to traverse, and I gave up on it, thankfully quickly.\n",
    "\n",
    "from transformer_lens import utils, HookedTransformer, ActivationCache\n",
    "model = HookedTransformer.from_pretrained(\"gpt2-small\",\n",
    "                                          center_unembed=True,\n",
    "                                          center_writing_weights=True,\n",
    "                                          fold_ln=False,\n",
    "                                          refactor_factored_attn_matrices=True)\n",
    "                                          "
   ]
  },
  {
   "cell_type": "markdown",
   "id": "a6ffd4d3-5e8f-4587-bb2a-f06b61918c09",
   "metadata": {
    "user_expressions": []
   },
   "source": [
    "## Generate mean activations\n",
    "\n",
    "This is not as simple as it sounds; for the IOI paper, for each individual input following a template, they ablate using the mean activations of the \"ABC\" dataset, generated over sentences following the same template."
   ]
  },
  {
   "cell_type": "code",
   "execution_count": 5,
   "id": "9ab88048",
   "metadata": {
    "tags": []
   },
   "outputs": [
    {
     "name": "stderr",
     "output_type": "stream",
     "text": [
      "2024-09-16 17:36:23.065044: I tensorflow/core/platform/cpu_feature_guard.cc:210] This TensorFlow binary is optimized to use available CPU instructions in performance-critical operations.\n",
      "To enable the following instructions: AVX2 FMA, in other operations, rebuild TensorFlow with the appropriate compiler flags.\n",
      "2024-09-16 17:36:25.757659: W tensorflow/compiler/tf2tensorrt/utils/py_utils.cc:38] TF-TRT Warning: Could not find TensorRT\n"
     ]
    },
    {
     "data": {
      "text/plain": [
       "torch.Size([12, 20, 768])"
      ]
     },
     "execution_count": 5,
     "metadata": {},
     "output_type": "execute_result"
    }
   ],
   "source": [
    "from pyfunctions.ioi_dataset import IOIDataset\n",
    "\n",
    "# Generate a dataset all consisting of one template, randomly chosen.\n",
    "# nb_templates = 2 due to some logic internal to IOIDataset:\n",
    "# essentially, the nouns can be an ABBA or ABAB order and that counts as separate templates.\n",
    "ioi_dataset = IOIDataset(prompt_type=\"ABBA\", N=50, tokenizer=model.tokenizer, prepend_bos=False, nb_templates=2)\n",
    "\n",
    "# This is the P_ABC that is mentioned in the IOI paper, which we use for mean ablation.\n",
    "# Importantly, passing in prompt_type=\"ABC\" or similar is NOT the same thing as this.\n",
    "abc_dataset = (\n",
    "    ioi_dataset.gen_flipped_prompts((\"IO\", \"RAND\"))\n",
    "    .gen_flipped_prompts((\"S\", \"RAND\"))\n",
    "    .gen_flipped_prompts((\"S1\", \"RAND\"))\n",
    ")\n",
    "\n",
    "logits, cache = model.run_with_cache(abc_dataset.toks) # run on entire dataset along batch dimension\n",
    "\n",
    "attention_outputs = [cache['blocks.' + str(i) + '.hook_attn_out'] for i in range(12)]\n",
    "attention_outputs = torch.stack(attention_outputs, dim=1) # now batch, head, seq, d_model\n",
    "mean_acts = torch.mean(attention_outputs, dim=0)\n",
    "mean_acts.shape"
   ]
  },
  {
   "cell_type": "code",
   "execution_count": 6,
   "id": "dbfa9709-465f-4380-9b69-d80379d6c5db",
   "metadata": {
    "tags": []
   },
   "outputs": [
    {
     "data": {
      "text/plain": [
       "dict_keys(['hook_embed', 'hook_pos_embed', 'blocks.0.hook_resid_pre', 'blocks.0.ln1.hook_scale', 'blocks.0.ln1.hook_normalized', 'blocks.0.attn.hook_q', 'blocks.0.attn.hook_k', 'blocks.0.attn.hook_v', 'blocks.0.attn.hook_attn_scores', 'blocks.0.attn.hook_pattern', 'blocks.0.attn.hook_z', 'blocks.0.hook_attn_out', 'blocks.0.hook_resid_mid', 'blocks.0.ln2.hook_scale', 'blocks.0.ln2.hook_normalized', 'blocks.0.mlp.hook_pre', 'blocks.0.mlp.hook_post', 'blocks.0.hook_mlp_out', 'blocks.0.hook_resid_post', 'blocks.1.hook_resid_pre', 'blocks.1.ln1.hook_scale', 'blocks.1.ln1.hook_normalized', 'blocks.1.attn.hook_q', 'blocks.1.attn.hook_k', 'blocks.1.attn.hook_v', 'blocks.1.attn.hook_attn_scores', 'blocks.1.attn.hook_pattern', 'blocks.1.attn.hook_z', 'blocks.1.hook_attn_out', 'blocks.1.hook_resid_mid', 'blocks.1.ln2.hook_scale', 'blocks.1.ln2.hook_normalized', 'blocks.1.mlp.hook_pre', 'blocks.1.mlp.hook_post', 'blocks.1.hook_mlp_out', 'blocks.1.hook_resid_post', 'blocks.2.hook_resid_pre', 'blocks.2.ln1.hook_scale', 'blocks.2.ln1.hook_normalized', 'blocks.2.attn.hook_q', 'blocks.2.attn.hook_k', 'blocks.2.attn.hook_v', 'blocks.2.attn.hook_attn_scores', 'blocks.2.attn.hook_pattern', 'blocks.2.attn.hook_z', 'blocks.2.hook_attn_out', 'blocks.2.hook_resid_mid', 'blocks.2.ln2.hook_scale', 'blocks.2.ln2.hook_normalized', 'blocks.2.mlp.hook_pre', 'blocks.2.mlp.hook_post', 'blocks.2.hook_mlp_out', 'blocks.2.hook_resid_post', 'blocks.3.hook_resid_pre', 'blocks.3.ln1.hook_scale', 'blocks.3.ln1.hook_normalized', 'blocks.3.attn.hook_q', 'blocks.3.attn.hook_k', 'blocks.3.attn.hook_v', 'blocks.3.attn.hook_attn_scores', 'blocks.3.attn.hook_pattern', 'blocks.3.attn.hook_z', 'blocks.3.hook_attn_out', 'blocks.3.hook_resid_mid', 'blocks.3.ln2.hook_scale', 'blocks.3.ln2.hook_normalized', 'blocks.3.mlp.hook_pre', 'blocks.3.mlp.hook_post', 'blocks.3.hook_mlp_out', 'blocks.3.hook_resid_post', 'blocks.4.hook_resid_pre', 'blocks.4.ln1.hook_scale', 'blocks.4.ln1.hook_normalized', 'blocks.4.attn.hook_q', 'blocks.4.attn.hook_k', 'blocks.4.attn.hook_v', 'blocks.4.attn.hook_attn_scores', 'blocks.4.attn.hook_pattern', 'blocks.4.attn.hook_z', 'blocks.4.hook_attn_out', 'blocks.4.hook_resid_mid', 'blocks.4.ln2.hook_scale', 'blocks.4.ln2.hook_normalized', 'blocks.4.mlp.hook_pre', 'blocks.4.mlp.hook_post', 'blocks.4.hook_mlp_out', 'blocks.4.hook_resid_post', 'blocks.5.hook_resid_pre', 'blocks.5.ln1.hook_scale', 'blocks.5.ln1.hook_normalized', 'blocks.5.attn.hook_q', 'blocks.5.attn.hook_k', 'blocks.5.attn.hook_v', 'blocks.5.attn.hook_attn_scores', 'blocks.5.attn.hook_pattern', 'blocks.5.attn.hook_z', 'blocks.5.hook_attn_out', 'blocks.5.hook_resid_mid', 'blocks.5.ln2.hook_scale', 'blocks.5.ln2.hook_normalized', 'blocks.5.mlp.hook_pre', 'blocks.5.mlp.hook_post', 'blocks.5.hook_mlp_out', 'blocks.5.hook_resid_post', 'blocks.6.hook_resid_pre', 'blocks.6.ln1.hook_scale', 'blocks.6.ln1.hook_normalized', 'blocks.6.attn.hook_q', 'blocks.6.attn.hook_k', 'blocks.6.attn.hook_v', 'blocks.6.attn.hook_attn_scores', 'blocks.6.attn.hook_pattern', 'blocks.6.attn.hook_z', 'blocks.6.hook_attn_out', 'blocks.6.hook_resid_mid', 'blocks.6.ln2.hook_scale', 'blocks.6.ln2.hook_normalized', 'blocks.6.mlp.hook_pre', 'blocks.6.mlp.hook_post', 'blocks.6.hook_mlp_out', 'blocks.6.hook_resid_post', 'blocks.7.hook_resid_pre', 'blocks.7.ln1.hook_scale', 'blocks.7.ln1.hook_normalized', 'blocks.7.attn.hook_q', 'blocks.7.attn.hook_k', 'blocks.7.attn.hook_v', 'blocks.7.attn.hook_attn_scores', 'blocks.7.attn.hook_pattern', 'blocks.7.attn.hook_z', 'blocks.7.hook_attn_out', 'blocks.7.hook_resid_mid', 'blocks.7.ln2.hook_scale', 'blocks.7.ln2.hook_normalized', 'blocks.7.mlp.hook_pre', 'blocks.7.mlp.hook_post', 'blocks.7.hook_mlp_out', 'blocks.7.hook_resid_post', 'blocks.8.hook_resid_pre', 'blocks.8.ln1.hook_scale', 'blocks.8.ln1.hook_normalized', 'blocks.8.attn.hook_q', 'blocks.8.attn.hook_k', 'blocks.8.attn.hook_v', 'blocks.8.attn.hook_attn_scores', 'blocks.8.attn.hook_pattern', 'blocks.8.attn.hook_z', 'blocks.8.hook_attn_out', 'blocks.8.hook_resid_mid', 'blocks.8.ln2.hook_scale', 'blocks.8.ln2.hook_normalized', 'blocks.8.mlp.hook_pre', 'blocks.8.mlp.hook_post', 'blocks.8.hook_mlp_out', 'blocks.8.hook_resid_post', 'blocks.9.hook_resid_pre', 'blocks.9.ln1.hook_scale', 'blocks.9.ln1.hook_normalized', 'blocks.9.attn.hook_q', 'blocks.9.attn.hook_k', 'blocks.9.attn.hook_v', 'blocks.9.attn.hook_attn_scores', 'blocks.9.attn.hook_pattern', 'blocks.9.attn.hook_z', 'blocks.9.hook_attn_out', 'blocks.9.hook_resid_mid', 'blocks.9.ln2.hook_scale', 'blocks.9.ln2.hook_normalized', 'blocks.9.mlp.hook_pre', 'blocks.9.mlp.hook_post', 'blocks.9.hook_mlp_out', 'blocks.9.hook_resid_post', 'blocks.10.hook_resid_pre', 'blocks.10.ln1.hook_scale', 'blocks.10.ln1.hook_normalized', 'blocks.10.attn.hook_q', 'blocks.10.attn.hook_k', 'blocks.10.attn.hook_v', 'blocks.10.attn.hook_attn_scores', 'blocks.10.attn.hook_pattern', 'blocks.10.attn.hook_z', 'blocks.10.hook_attn_out', 'blocks.10.hook_resid_mid', 'blocks.10.ln2.hook_scale', 'blocks.10.ln2.hook_normalized', 'blocks.10.mlp.hook_pre', 'blocks.10.mlp.hook_post', 'blocks.10.hook_mlp_out', 'blocks.10.hook_resid_post', 'blocks.11.hook_resid_pre', 'blocks.11.ln1.hook_scale', 'blocks.11.ln1.hook_normalized', 'blocks.11.attn.hook_q', 'blocks.11.attn.hook_k', 'blocks.11.attn.hook_v', 'blocks.11.attn.hook_attn_scores', 'blocks.11.attn.hook_pattern', 'blocks.11.attn.hook_z', 'blocks.11.hook_attn_out', 'blocks.11.hook_resid_mid', 'blocks.11.ln2.hook_scale', 'blocks.11.ln2.hook_normalized', 'blocks.11.mlp.hook_pre', 'blocks.11.mlp.hook_post', 'blocks.11.hook_mlp_out', 'blocks.11.hook_resid_post', 'ln_final.hook_scale', 'ln_final.hook_normalized'])"
      ]
     },
     "execution_count": 6,
     "metadata": {},
     "output_type": "execute_result"
    }
   ],
   "source": [
    "cache.keys()"
   ]
  },
  {
   "cell_type": "code",
   "execution_count": 62,
   "id": "2b745d68-c87f-48c7-b250-17270f3841c6",
   "metadata": {
    "tags": []
   },
   "outputs": [
    {
     "data": {
      "text/plain": [
       "50"
      ]
     },
     "execution_count": 62,
     "metadata": {},
     "output_type": "execute_result"
    }
   ],
   "source": [
    "len(ioi_dataset.io_tokenIDs)"
   ]
  },
  {
   "cell_type": "code",
   "execution_count": 7,
   "id": "9b5fbb34-e59a-4466-b18e-fde963505a4d",
   "metadata": {
    "tags": []
   },
   "outputs": [],
   "source": [
    "logits, cache = model.run_with_cache(ioi_dataset.toks) # run on entire dataset along batch dimension\n",
    "l = logits.cpu().numpy()\n"
   ]
  },
  {
   "cell_type": "code",
   "execution_count": 8,
   "id": "4496c476-af7c-4b6e-a562-45d024743240",
   "metadata": {
    "tags": []
   },
   "outputs": [
    {
     "name": "stdout",
     "output_type": "stream",
     "text": [
      "-0.061800003\n",
      "3.4876509\n",
      "2.762066\n",
      "4.6025076\n",
      "4.3067627\n",
      "3.7013159\n",
      "5.124916\n",
      "2.8641872\n",
      "2.2746115\n",
      "4.2477646\n",
      "5.069476\n",
      "4.032571\n",
      "4.266741\n",
      "0.6383743\n",
      "3.0531712\n",
      "3.6856441\n",
      "4.2407722\n",
      "4.325715\n",
      "5.227028\n",
      "3.5177307\n",
      "2.6748514\n",
      "3.455246\n",
      "1.1930981\n",
      "3.0591507\n",
      "3.9899797\n",
      "4.2289467\n",
      "3.6776705\n",
      "2.8461456\n",
      "3.719221\n",
      "3.4173727\n",
      "3.091979\n",
      "4.793\n",
      "1.933568\n",
      "5.90215\n",
      "5.956812\n",
      "3.3546934\n",
      "4.845831\n",
      "3.4135513\n",
      "3.018445\n",
      "5.829817\n",
      "3.1500616\n",
      "1.8675127\n",
      "2.0012827\n",
      "3.2550507\n",
      "3.72783\n",
      "3.1797886\n",
      "3.3666992\n",
      "6.708233\n",
      "2.4053087\n",
      "2.652094\n"
     ]
    }
   ],
   "source": [
    "# logits[ioi_dataset.io_tokenIDs]\n",
    "# out[i] = logits[i, 16, io_tokenIDs[i]]\n",
    "       \n",
    "'''\n",
    "out[i][j][k] = input[index[i][j][k]][j][k]  # if dim == 0\n",
    "out[i][j][k] = input[i][index[i][j][k]][k]  # if dim == 1\n",
    "out[i][j][k] = input[i][j][index[i][j][k]]  # if dim == 2\n",
    "'''\n",
    "l = logits.cpu().numpy()\n",
    "for i in range(50):\n",
    "    io_score = l[i, -2, ioi_dataset.io_tokenIDs[i]]\n",
    "    s_score = l[i, -2, ioi_dataset.s_tokenIDs[i]]\n",
    "    print(io_score - s_score)"
   ]
  },
  {
   "cell_type": "code",
   "execution_count": 29,
   "id": "86c32de5",
   "metadata": {
    "tags": []
   },
   "outputs": [],
   "source": [
    "\n",
    "# source_list = [Node(0, 0, 0), Node(1, 1, 1)]\n",
    "# target_nodes = [(7, 0, 1)]\n",
    "\n",
    "text = ioi_dataset.sentences[0]\n",
    "encoding = model.tokenizer.encode_plus(text, \n",
    "                                 add_special_tokens=True, \n",
    "                                 max_length=512,\n",
    "                                 truncation=True, \n",
    "                                 padding = \"longest\", \n",
    "                                 return_attention_mask=True, \n",
    "                                 return_tensors=\"pt\").to(device)\n",
    "encoding_idxs, attention_mask = encoding.input_ids, encoding.attention_mask\n",
    "input_shape = encoding_idxs.size()\n",
    "extended_attention_mask = get_extended_attention_mask(attention_mask, \n",
    "                                                        input_shape, \n",
    "                                                        model,\n",
    "                                                        device)\n",
    "# out_decomps, target_decomps, _ = prop_GPT(encoding_idxs, extended_attention_mask, model, source_list, target_nodes, mean_acts=mean_acts, set_irrel_to_mean=True, device=device)"
   ]
  },
  {
   "cell_type": "markdown",
   "id": "021fbe20-4659-461f-a343-8b9d9d1dc6e9",
   "metadata": {
    "tags": [],
    "user_expressions": []
   },
   "source": [
    "## Ablating last layer and determining value of irrel"
   ]
  },
  {
   "cell_type": "code",
   "execution_count": 27,
   "id": "bb4c809f",
   "metadata": {
    "tags": []
   },
   "outputs": [
    {
     "name": "stdout",
     "output_type": "stream",
     "text": [
      "rel norm:  3120.5266\n",
      "irrel norm:  0.0\n"
     ]
    }
   ],
   "source": [
    "import functools\n",
    "ranges = [\n",
    "        [layer for layer in range(11, 12)],\n",
    "        [sequence_position for sequence_position in range(input_shape[1])],\n",
    "        [attention_head_idx for attention_head_idx in range(12)]\n",
    "    ]\n",
    "\n",
    "source_nodes = [Node(*x) for x in itertools.product(*ranges)]\n",
    "ablation_sets = [tuple(n for n in source_nodes)] # here, note ablation set is a single set consisting of all source nodes in (ranges)\n",
    "\n",
    "target_nodes = []\n",
    "out_decomp, _, _, pre_layer_activations = prop_GPT(encoding_idxs[0:1, :], extended_attention_mask, model, ablation_sets, target_nodes=target_nodes, device=device, mean_acts=mean_acts, set_irrel_to_mean=False)\n",
    "\n",
    "print(\"rel norm: \", np.linalg.norm(out_decomp[0].rel))\n",
    "print(\"irrel norm: \", np.linalg.norm(out_decomp[0].irrel)) # should be zero, but is not\n",
    "\n",
    "# cache activations for faster batch run\n",
    "# out_decomp, _, _, pre_layer_activations = prop_GPT(encoding_idxs[0:1, :], extended_attention_mask, model, [ablation_sets[0]], target_nodes=target_nodes, device=device, mean_acts=mean_acts, set_irrel_to_mean=True)\n",
    "\n",
    "# prop_fn = lambda ablation_list: prop_GPT(encoding_idxs[0:1, :], extended_attention_mask, model, ablation_list, target_nodes=target_nodes, device=device, mean_acts=mean_acts, set_irrel_to_mean=True, cached_pre_layer_acts=pre_layer_activations)\n",
    "# out_decomps, target_decomps = batch_run(prop_fn, ablation_sets)"
   ]
  },
  {
   "cell_type": "markdown",
   "id": "cdd84716-079a-4738-9f8c-413df63c576e",
   "metadata": {
    "tags": [],
    "user_expressions": []
   },
   "source": [
    "## Generate heatmap of (attn_head, layer_idx) relevance to logits at last sequence position "
   ]
  },
  {
   "cell_type": "code",
   "execution_count": 117,
   "id": "ebf91045-2f87-41f9-bd1a-effffcf2b670",
   "metadata": {
    "tags": []
   },
   "outputs": [
    {
     "data": {
      "text/plain": [
       "torch.Size([12, 20, 768])"
      ]
     },
     "execution_count": 117,
     "metadata": {},
     "output_type": "execute_result"
    }
   ],
   "source": [
    "#ioi_dataset = IOIDataset(prompt_type=\"ABBA\", N=50, tokenizer=model.tokenizer, prepend_bos=False, nb_templates=2)\n",
    "\n",
    "ioi_dataset = IOIDataset(prompt_type=\"ABBA\", N=250, tokenizer=model.tokenizer, prepend_bos=False, nb_templates=2)\n",
    "\n",
    "# This is the P_ABC that is mentioned in the IOI paper, which we use for mean ablation.\n",
    "# Importantly, passing in prompt_type=\"ABC\" or similar is NOT the same thing as this.\n",
    "abc_dataset = (\n",
    "    ioi_dataset.gen_flipped_prompts((\"IO\", \"RAND\"))\n",
    "    .gen_flipped_prompts((\"S\", \"RAND\"))\n",
    "    .gen_flipped_prompts((\"S1\", \"RAND\"))\n",
    ")\n",
    "\n",
    "logits, cache = model.run_with_cache(abc_dataset.toks) # run on entire dataset along batch dimension\n",
    "\n",
    "attention_outputs = [cache['blocks.' + str(i) + '.hook_attn_out'] for i in range(12)]\n",
    "attention_outputs = torch.stack(attention_outputs, dim=1) # now batch, head, seq, d_model\n",
    "mean_acts = torch.mean(attention_outputs, dim=0)\n",
    "mean_acts.shape"
   ]
  },
  {
   "cell_type": "code",
   "execution_count": 130,
   "id": "ae90cd5b-4b12-4b62-be84-d8abf27f674b",
   "metadata": {
    "tags": []
   },
   "outputs": [
    {
     "name": "stderr",
     "output_type": "stream",
     "text": [
      "100%|██████████| 250/250 [03:45<00:00,  1.11it/s]\n"
     ]
    },
    {
     "data": {
      "image/png": "[encoded data removed]",
      "text/plain": [
       "<Figure size 640x480 with 2 Axes>"
      ]
     },
     "metadata": {},
     "output_type": "display_data"
    }
   ],
   "source": [
    "import functools\n",
    "\n",
    "relevances = np.zeros((12, 12))\n",
    "for i in tqdm.tqdm(range(250)): # average over samples\n",
    "    text = ioi_dataset.sentences[i]\n",
    "\n",
    "    encoding = model.tokenizer.encode_plus(text, \n",
    "                                     #add_special_tokens=True, \n",
    "                                     #max_length=16,\n",
    "                                     #truncation=True, \n",
    "                                     padding = False,\n",
    "                                     #padding = \"max_length\", \n",
    "                                     return_attention_mask=True, \n",
    "                                     return_tensors=\"pt\").to(device)\n",
    "    encoding_idxs, attention_mask = encoding.input_ids, encoding.attention_mask\n",
    "    input_shape = encoding_idxs.size()\n",
    "    extended_attention_mask = get_extended_attention_mask(attention_mask, \n",
    "                                                            input_shape, \n",
    "                                                            model,\n",
    "                                                            device)\n",
    "    \n",
    "    end_pos = input_shape[1]-2\n",
    "    #print(text)\n",
    "    #print('END', model.tokenizer.convert_ids_to_tokens([encoding_idxs[0, end_pos]]))\n",
    "    #print('IO', model.tokenizer.convert_ids_to_tokens([ioi_dataset.io_tokenIDs[i]]))\n",
    "    #print('S', model.tokenizer.convert_ids_to_tokens([ioi_dataset.s_tokenIDs[i]]))\n",
    "    \n",
    "    ranges = [\n",
    "            [layer for layer in range(12)], \n",
    "            [end_pos], # note fixed to last sequence position\n",
    "            [attention_head_idx for attention_head_idx in range(12)]\n",
    "    ]\n",
    "\n",
    "    source_nodes = [Node(*x) for x in itertools.product(*ranges)]\n",
    "    ablation_sets = [(n,) for n in source_nodes] # here the ablation set is one source node each\n",
    "    target_nodes = []\n",
    "    # cache activations for faster batch run\n",
    "    out_decomp, _, _, pre_layer_activations = prop_GPT(encoding_idxs[0:1, :], extended_attention_mask, model, [ablation_sets[0]], target_nodes=target_nodes, device=device, mean_acts=mean_acts, set_irrel_to_mean=True)\n",
    "\n",
    "    prop_fn = lambda ablation_list: prop_GPT(encoding_idxs[0:1, :], extended_attention_mask, model, ablation_list, target_nodes=target_nodes, device=device, mean_acts=mean_acts, set_irrel_to_mean=True, cached_pre_layer_acts=pre_layer_activations)\n",
    "    out_decomps, target_decomps = batch_run(prop_fn, ablation_sets)\n",
    "    # print([d.ablation_set for d in out_decomps]) # (0, 15, 0), (0, 15, 1)... (1, 15, 0)...\n",
    "    \n",
    "    for layer_idx in range(12):\n",
    "        for head_idx in range(12):\n",
    "            decomp = out_decomps[12 * layer_idx + head_idx]\n",
    "            logits = (decomp.rel + decomp.irrel)\n",
    "            io_logit = logits[0, end_pos, ioi_dataset.io_tokenIDs[i]]\n",
    "            s_logit = logits[0, end_pos, ioi_dataset.s_tokenIDs[i]]\n",
    "            full_score = np.abs(io_logit - s_logit)\n",
    "            \n",
    "            rel_io_logit = decomp.rel[0, end_pos, ioi_dataset.io_tokenIDs[i]]\n",
    "            rel_s_logit = decomp.rel[0, end_pos, ioi_dataset.s_tokenIDs[i]]\n",
    "            \n",
    "            irrel_io_logit = decomp.irrel[0, end_pos, ioi_dataset.io_tokenIDs[i]]\n",
    "            irrel_s_logit = decomp.irrel[0, end_pos, ioi_dataset.s_tokenIDs[i]]\n",
    "            \n",
    "            score = (rel_io_logit - rel_s_logit) / full_score\n",
    "            relevances[layer_idx, head_idx] += score\n",
    "\n",
    "relevances /= 250\n",
    "s = sns.heatmap(relevances, xticklabels = range(12), yticklabels = range(12), cmap='RdBu', cbar_kws={'label': ''})\n",
    "s.set(xlabel='Head', ylabel='Layer')\n",
    "plt.title(\"Relevance of (layer, head) to output logits\")\n",
    "plt.show()\n"
   ]
  },
  {
   "cell_type": "code",
   "execution_count": 129,
   "id": "ec4773e2-80be-4b1f-8a0a-a50c79c797ba",
   "metadata": {
    "tags": []
   },
   "outputs": [
    {
     "data": {
      "image/png": "[encoded data removed]",
      "text/plain": [
       "<Figure size 640x480 with 2 Axes>"
      ]
     },
     "metadata": {},
     "output_type": "display_data"
    }
   ],
   "source": [
    "s = sns.heatmap(relevances, xticklabels = range(12), yticklabels = range(12), cmap='Blues', cbar_kws={'label': ''})\n",
    "s.set(xlabel='Head', ylabel='Layer')\n",
    "plt.title(\"Relevance of (layer, head) to output logits\")\n",
    "plt.show()"
   ]
  },
  {
   "cell_type": "markdown",
   "id": "866f19e9-a28a-46b7-997a-fd286ba35748",
   "metadata": {
    "tags": [],
    "user_expressions": []
   },
   "source": [
    "## Basic local relevance sanity check"
   ]
  },
  {
   "cell_type": "code",
   "execution_count": 65,
   "id": "cad70e3c",
   "metadata": {
    "tags": []
   },
   "outputs": [],
   "source": [
    "import functools\n",
    "'''\n",
    "ranges = [\n",
    "        [layer for layer in range(1)], # only the input layer\n",
    "        [sequence_position for sequence_position in range(input_shape[1])],\n",
    "        [attention_head_idx for attention_head_idx in range(12)]\n",
    "    ]\n",
    "\n",
    "source_nodes = [Node(*x) for x in itertools.product(*ranges)]\n",
    "ablation_sets = [(n,) for n in source_nodes] # here the ablation set is one source node each\n",
    "'''\n",
    "\n",
    "ablation_sets = [tuple(Node(0, pos, head) for head in range(12)) for pos in range(16)]\n",
    "target_nodes = []\n",
    "out_decomps, _, _, pre_layer_activations = prop_GPT(encoding_idxs[0:1, :], extended_attention_mask, model, ablation_sets, target_nodes=target_nodes, device=device, mean_acts=mean_acts, set_irrel_to_mean=True)\n"
   ]
  },
  {
   "cell_type": "code",
   "execution_count": 96,
   "id": "88544298-a19f-4fe0-af3e-30c718985033",
   "metadata": {
    "tags": []
   },
   "outputs": [],
   "source": [
    "import matplotlib\n",
    "from IPython.core.display import display, HTML\n",
    "from matplotlib.colors import LinearSegmentedColormap\n",
    "\n",
    "def normalize_word_scores(word_scores):\n",
    "    neg_pos_lst = [i for i, x in enumerate(word_scores) if x < 0]\n",
    "    abs_word_scores = np.abs(word_scores)\n",
    "    normalized = (abs_word_scores-min(abs_word_scores))/(max(abs_word_scores)-min(abs_word_scores)) # in [0, 1] range\n",
    "    for i, x in enumerate(normalized):\n",
    "        if i in neg_pos_lst:\n",
    "            normalized[i] = -normalized[i]\n",
    "    return normalized\n",
    "\n",
    "def colorize(words, color_array, mid=0, eps=1e-03):\n",
    "    cmap_pos = LinearSegmentedColormap.from_list('', ['white', '#48b6df'])\n",
    "    cmap_neg = LinearSegmentedColormap.from_list('', ['white', '#dd735b'])\n",
    "    template = '<span class=\"barcode\"; style=\"color: black; background-color: {}\">{}</span>'\n",
    "    colored_string = ''\n",
    "    for word, color in zip(words, color_array):\n",
    "        if color > mid:\n",
    "          color = matplotlib.colors.rgb2hex(cmap_pos(color)[:3])\n",
    "        elif color < mid:\n",
    "          color = matplotlib.colors.rgb2hex(cmap_neg(abs(color))[:3])\n",
    "        colored_string += template.format(color, '&nbsp' + word + '&nbsp')\n",
    "    return colored_string"
   ]
  },
  {
   "cell_type": "code",
   "execution_count": 97,
   "id": "b22d38c5-29f9-40a4-a0b7-38f98fb59a92",
   "metadata": {
    "tags": []
   },
   "outputs": [],
   "source": [
    "def get_word_scores(out_decomps, ioi_dataset, data_idx):# calculate the \"ioi score\": the score of the correct logit minus the score of the subject logit\n",
    "    logits = (out_decomps[0].rel + out_decomps[0].irrel) # 1, seq_len, 50257=d_vocab]\n",
    "    io_seq_idx = ioi_dataset.io_tokenIDs[data_idx] \n",
    "    s_seq_idx = ioi_dataset.s_tokenIDs[data_idx] \n",
    "\n",
    "    io_logit = logits[0, -2, io_seq_idx]\n",
    "    s_logit = logits[0, -2, s_seq_idx]\n",
    "    full_score = np.abs(io_logit - s_logit)\n",
    "\n",
    "    # for each source node determine the contribution of rel to the actual score\n",
    "    rel_word_scores = []\n",
    "    irrel_word_scores = []\n",
    "    Result = collections.namedtuple('Result', ('ablation_set', 'score'))\n",
    "    for idx, decomp in enumerate(out_decomps):\n",
    "        assert(idx == decomp.ablation_set[0].sequence_idx)\n",
    "        rel_io_logit = decomp.rel[0, -2, io_seq_idx]\n",
    "        rel_s_logit = decomp.rel[0, -2, s_seq_idx]\n",
    "        rel_score = rel_io_logit - rel_s_logit\n",
    "        rel_norm_score = rel_score / full_score\n",
    "        rel_word_scores.append(rel_norm_score)\n",
    "        irrel_io_logit = decomp.irrel[0, -2, io_seq_idx]\n",
    "        irrel_s_logit = decomp.irrel[0, -2, s_seq_idx]\n",
    "        irrel_score = irrel_io_logit - irrel_s_logit\n",
    "        irrel_norm_score = irrel_score / full_score\n",
    "        irrel_word_scores.append(irrel_norm_score)\n",
    "    irrel_word_scores = normalize_word_scores(irrel_word_scores)\n",
    "    rel_word_scores = normalize_word_scores(rel_word_scores)\n",
    "    return rel_word_scores, irrel_word_scores\n"
   ]
  },
  {
   "cell_type": "code",
   "execution_count": 147,
   "id": "36c56f02-5611-4a42-9a7c-2245f3c0ade6",
   "metadata": {
    "tags": []
   },
   "outputs": [
    {
     "data": {
      "text/html": [
       "<span class=\"barcode\"; style=\"color: black; background-color: #e1f3fa\">&nbspThen&nbsp</span><span class=\"barcode\"; style=\"color: black; background-color: #e5f5fa\">&nbsp,&nbsp</span><span class=\"barcode\"; style=\"color: black; background-color: #48b6df\">&nbsp Katherine&nbsp</span><span class=\"barcode\"; style=\"color: black; background-color: #fdf8f7\">&nbsp and&nbsp</span><span class=\"barcode\"; style=\"color: black; background-color: #eebbaf\">&nbsp Angela&nbsp</span><span class=\"barcode\"; style=\"color: black; background-color: #f7fcfe\">&nbsp went&nbsp</span><span class=\"barcode\"; style=\"color: black; background-color: #f9fcfe\">&nbsp to&nbsp</span><span class=\"barcode\"; style=\"color: black; background-color: #f9fdfe\">&nbsp the&nbsp</span><span class=\"barcode\"; style=\"color: black; background-color: #feffff\">&nbsp office&nbsp</span><span class=\"barcode\"; style=\"color: black; background-color: #fcfefe\">&nbsp.&nbsp</span><span class=\"barcode\"; style=\"color: black; background-color: #fefcfc\">&nbsp Angela&nbsp</span><span class=\"barcode\"; style=\"color: black; background-color: #ebf7fb\">&nbsp gave&nbsp</span><span class=\"barcode\"; style=\"color: black; background-color: #f4fafd\">&nbsp a&nbsp</span><span class=\"barcode\"; style=\"color: black; background-color: #e3f4fa\">&nbsp kiss&nbsp</span><span class=\"barcode\"; style=\"color: black; background-color: #f0f9fc\">&nbsp to&nbsp</span>"
      ],
      "text/plain": [
       "<IPython.core.display.HTML object>"
      ]
     },
     "metadata": {},
     "output_type": "display_data"
    },
    {
     "data": {
      "text/html": [
       "<span class=\"barcode\"; style=\"color: black; background-color: #ecf7fc\">&nbspThen&nbsp</span><span class=\"barcode\"; style=\"color: black; background-color: #e9f6fb\">&nbsp,&nbsp</span><span class=\"barcode\"; style=\"color: black; background-color: #48b6df\">&nbsp Dustin&nbsp</span><span class=\"barcode\"; style=\"color: black; background-color: #fdf6f5\">&nbsp and&nbsp</span><span class=\"barcode\"; style=\"color: black; background-color: #f6d8d1\">&nbsp Amy&nbsp</span><span class=\"barcode\"; style=\"color: black; background-color: #fcfefe\">&nbsp had&nbsp</span><span class=\"barcode\"; style=\"color: black; background-color: #fcfefe\">&nbsp a&nbsp</span><span class=\"barcode\"; style=\"color: black; background-color: #fafdfe\">&nbsp lot&nbsp</span><span class=\"barcode\"; style=\"color: black; background-color: #fbfefe\">&nbsp of&nbsp</span><span class=\"barcode\"; style=\"color: black; background-color: #fbfefe\">&nbsp fun&nbsp</span><span class=\"barcode\"; style=\"color: black; background-color: #fdfeff\">&nbsp at&nbsp</span><span class=\"barcode\"; style=\"color: black; background-color: #fbfdfe\">&nbsp the&nbsp</span><span class=\"barcode\"; style=\"color: black; background-color: #ffffff\">&nbsp school&nbsp</span><span class=\"barcode\"; style=\"color: black; background-color: #fdfeff\">&nbsp.&nbsp</span><span class=\"barcode\"; style=\"color: black; background-color: #ffffff\">&nbsp Amy&nbsp</span><span class=\"barcode\"; style=\"color: black; background-color: #fafdfe\">&nbsp gave&nbsp</span><span class=\"barcode\"; style=\"color: black; background-color: #f4fafd\">&nbsp a&nbsp</span><span class=\"barcode\"; style=\"color: black; background-color: #f1f9fc\">&nbsp drink&nbsp</span><span class=\"barcode\"; style=\"color: black; background-color: #f8fcfe\">&nbsp to&nbsp</span>"
      ],
      "text/plain": [
       "<IPython.core.display.HTML object>"
      ]
     },
     "metadata": {},
     "output_type": "display_data"
    },
    {
     "data": {
      "text/html": [
       "<span class=\"barcode\"; style=\"color: black; background-color: #d4eef7\">&nbspThen&nbsp</span><span class=\"barcode\"; style=\"color: black; background-color: #d5eef8\">&nbsp,&nbsp</span><span class=\"barcode\"; style=\"color: black; background-color: #48b6df\">&nbsp Richard&nbsp</span><span class=\"barcode\"; style=\"color: black; background-color: #fefcfc\">&nbsp and&nbsp</span><span class=\"barcode\"; style=\"color: black; background-color: #f5d6cf\">&nbsp Brian&nbsp</span><span class=\"barcode\"; style=\"color: black; background-color: #eaf7fb\">&nbsp went&nbsp</span><span class=\"barcode\"; style=\"color: black; background-color: #f1f9fc\">&nbsp to&nbsp</span><span class=\"barcode\"; style=\"color: black; background-color: #f2fafd\">&nbsp the&nbsp</span><span class=\"barcode\"; style=\"color: black; background-color: #ecf8fc\">&nbsp school&nbsp</span><span class=\"barcode\"; style=\"color: black; background-color: #f0f9fc\">&nbsp.&nbsp</span><span class=\"barcode\"; style=\"color: black; background-color: #feffff\">&nbsp Brian&nbsp</span><span class=\"barcode\"; style=\"color: black; background-color: #e5f5fa\">&nbsp gave&nbsp</span><span class=\"barcode\"; style=\"color: black; background-color: #f6fcfd\">&nbsp a&nbsp</span><span class=\"barcode\"; style=\"color: black; background-color: #e9f6fb\">&nbsp snack&nbsp</span><span class=\"barcode\"; style=\"color: black; background-color: #e7f5fb\">&nbsp to&nbsp</span>"
      ],
      "text/plain": [
       "<IPython.core.display.HTML object>"
      ]
     },
     "metadata": {},
     "output_type": "display_data"
    },
    {
     "data": {
      "text/html": [
       "<span class=\"barcode\"; style=\"color: black; background-color: #dcf1f9\">&nbspThen&nbsp</span><span class=\"barcode\"; style=\"color: black; background-color: #dff2f9\">&nbsp,&nbsp</span><span class=\"barcode\"; style=\"color: black; background-color: #48b6df\">&nbsp William&nbsp</span><span class=\"barcode\"; style=\"color: black; background-color: #f8e4df\">&nbsp and&nbsp</span><span class=\"barcode\"; style=\"color: black; background-color: #e38c79\">&nbsp Jeffrey&nbsp</span><span class=\"barcode\"; style=\"color: black; background-color: #fbfdfe\">&nbsp had&nbsp</span><span class=\"barcode\"; style=\"color: black; background-color: #f2fafd\">&nbsp a&nbsp</span><span class=\"barcode\"; style=\"color: black; background-color: #f6fcfd\">&nbsp lot&nbsp</span><span class=\"barcode\"; style=\"color: black; background-color: #f4fbfd\">&nbsp of&nbsp</span><span class=\"barcode\"; style=\"color: black; background-color: #fafdfe\">&nbsp fun&nbsp</span><span class=\"barcode\"; style=\"color: black; background-color: #f2fafd\">&nbsp at&nbsp</span><span class=\"barcode\"; style=\"color: black; background-color: #f2fafd\">&nbsp the&nbsp</span><span class=\"barcode\"; style=\"color: black; background-color: #eef8fc\">&nbsp garden&nbsp</span><span class=\"barcode\"; style=\"color: black; background-color: #f1fafd\">&nbsp.&nbsp</span><span class=\"barcode\"; style=\"color: black; background-color: #fffdfd\">&nbsp Jeffrey&nbsp</span><span class=\"barcode\"; style=\"color: black; background-color: #ecf8fc\">&nbsp gave&nbsp</span><span class=\"barcode\"; style=\"color: black; background-color: #ecf7fc\">&nbsp a&nbsp</span><span class=\"barcode\"; style=\"color: black; background-color: #def2f9\">&nbsp bone&nbsp</span><span class=\"barcode\"; style=\"color: black; background-color: #def2f9\">&nbsp to&nbsp</span>"
      ],
      "text/plain": [
       "<IPython.core.display.HTML object>"
      ]
     },
     "metadata": {},
     "output_type": "display_data"
    },
    {
     "data": {
      "text/html": [
       "<span class=\"barcode\"; style=\"color: black; background-color: #daf0f9\">&nbspThen&nbsp</span><span class=\"barcode\"; style=\"color: black; background-color: #e3f4fa\">&nbsp,&nbsp</span><span class=\"barcode\"; style=\"color: black; background-color: #48b6df\">&nbsp Tyler&nbsp</span><span class=\"barcode\"; style=\"color: black; background-color: #fffefe\">&nbsp and&nbsp</span><span class=\"barcode\"; style=\"color: black; background-color: #f7ded8\">&nbsp Brandon&nbsp</span><span class=\"barcode\"; style=\"color: black; background-color: #f4fafd\">&nbsp went&nbsp</span><span class=\"barcode\"; style=\"color: black; background-color: #f5fbfd\">&nbsp to&nbsp</span><span class=\"barcode\"; style=\"color: black; background-color: #f6fbfd\">&nbsp the&nbsp</span><span class=\"barcode\"; style=\"color: black; background-color: #f2fafd\">&nbsp garden&nbsp</span><span class=\"barcode\"; style=\"color: black; background-color: #f2fafd\">&nbsp.&nbsp</span><span class=\"barcode\"; style=\"color: black; background-color: #f9fcfe\">&nbsp Brandon&nbsp</span><span class=\"barcode\"; style=\"color: black; background-color: #e1f3fa\">&nbsp gave&nbsp</span><span class=\"barcode\"; style=\"color: black; background-color: #f1f9fc\">&nbsp a&nbsp</span><span class=\"barcode\"; style=\"color: black; background-color: #f1f9fc\">&nbsp basketball&nbsp</span><span class=\"barcode\"; style=\"color: black; background-color: #f6fbfd\">&nbsp to&nbsp</span>"
      ],
      "text/plain": [
       "<IPython.core.display.HTML object>"
      ]
     },
     "metadata": {},
     "output_type": "display_data"
    },
    {
     "data": {
      "text/html": [
       "<span class=\"barcode\"; style=\"color: black; background-color: #e3f4fa\">&nbspThen&nbsp</span><span class=\"barcode\"; style=\"color: black; background-color: #e9f6fb\">&nbsp,&nbsp</span><span class=\"barcode\"; style=\"color: black; background-color: #48b6df\">&nbsp Stephen&nbsp</span><span class=\"barcode\"; style=\"color: black; background-color: #fbedea\">&nbsp and&nbsp</span><span class=\"barcode\"; style=\"color: black; background-color: #f4d3cc\">&nbsp Mark&nbsp</span><span class=\"barcode\"; style=\"color: black; background-color: #fefeff\">&nbsp went&nbsp</span><span class=\"barcode\"; style=\"color: black; background-color: #ffffff\">&nbsp to&nbsp</span><span class=\"barcode\"; style=\"color: black; background-color: #ffffff\">&nbsp the&nbsp</span><span class=\"barcode\"; style=\"color: black; background-color: #f5fbfd\">&nbsp hospital&nbsp</span><span class=\"barcode\"; style=\"color: black; background-color: #fffefe\">&nbsp.&nbsp</span><span class=\"barcode\"; style=\"color: black; background-color: #f7fcfe\">&nbsp Mark&nbsp</span><span class=\"barcode\"; style=\"color: black; background-color: #e2f3fa\">&nbsp gave&nbsp</span><span class=\"barcode\"; style=\"color: black; background-color: #eff9fc\">&nbsp a&nbsp</span><span class=\"barcode\"; style=\"color: black; background-color: #ecf8fc\">&nbsp ring&nbsp</span><span class=\"barcode\"; style=\"color: black; background-color: #edf8fc\">&nbsp to&nbsp</span>"
      ],
      "text/plain": [
       "<IPython.core.display.HTML object>"
      ]
     },
     "metadata": {},
     "output_type": "display_data"
    },
    {
     "data": {
      "text/html": [
       "<span class=\"barcode\"; style=\"color: black; background-color: #eaf7fb\">&nbspThen&nbsp</span><span class=\"barcode\"; style=\"color: black; background-color: #f6fbfd\">&nbsp,&nbsp</span><span class=\"barcode\"; style=\"color: black; background-color: #48b6df\">&nbsp Christine&nbsp</span><span class=\"barcode\"; style=\"color: black; background-color: #fcf1ee\">&nbsp and&nbsp</span><span class=\"barcode\"; style=\"color: black; background-color: #f2c8be\">&nbsp Robert&nbsp</span><span class=\"barcode\"; style=\"color: black; background-color: #fefeff\">&nbsp went&nbsp</span><span class=\"barcode\"; style=\"color: black; background-color: #fffefe\">&nbsp to&nbsp</span><span class=\"barcode\"; style=\"color: black; background-color: #fffefe\">&nbsp the&nbsp</span><span class=\"barcode\"; style=\"color: black; background-color: #fbfdfe\">&nbsp restaurant&nbsp</span><span class=\"barcode\"; style=\"color: black; background-color: #fcfefe\">&nbsp.&nbsp</span><span class=\"barcode\"; style=\"color: black; background-color: #ffffff\">&nbsp Robert&nbsp</span><span class=\"barcode\"; style=\"color: black; background-color: #eef8fc\">&nbsp gave&nbsp</span><span class=\"barcode\"; style=\"color: black; background-color: #fbfdfe\">&nbsp a&nbsp</span><span class=\"barcode\"; style=\"color: black; background-color: #ecf7fc\">&nbsp ring&nbsp</span><span class=\"barcode\"; style=\"color: black; background-color: #f9fcfe\">&nbsp to&nbsp</span>"
      ],
      "text/plain": [
       "<IPython.core.display.HTML object>"
      ]
     },
     "metadata": {},
     "output_type": "display_data"
    },
    {
     "data": {
      "text/html": [
       "<span class=\"barcode\"; style=\"color: black; background-color: #ecf8fc\">&nbspThen&nbsp</span><span class=\"barcode\"; style=\"color: black; background-color: #f7fcfe\">&nbsp,&nbsp</span><span class=\"barcode\"; style=\"color: black; background-color: #48b6df\">&nbsp Amber&nbsp</span><span class=\"barcode\"; style=\"color: black; background-color: #fbeeeb\">&nbsp and&nbsp</span><span class=\"barcode\"; style=\"color: black; background-color: #f3cec5\">&nbsp William&nbsp</span><span class=\"barcode\"; style=\"color: black; background-color: #fefaf9\">&nbsp went&nbsp</span><span class=\"barcode\"; style=\"color: black; background-color: #fefaf9\">&nbsp to&nbsp</span><span class=\"barcode\"; style=\"color: black; background-color: #fefaf9\">&nbsp the&nbsp</span><span class=\"barcode\"; style=\"color: black; background-color: #fefcfc\">&nbsp restaurant&nbsp</span><span class=\"barcode\"; style=\"color: black; background-color: #fefaf9\">&nbsp.&nbsp</span><span class=\"barcode\"; style=\"color: black; background-color: #fcf1ee\">&nbsp William&nbsp</span><span class=\"barcode\"; style=\"color: black; background-color: #fcfefe\">&nbsp gave&nbsp</span><span class=\"barcode\"; style=\"color: black; background-color: #fefdfc\">&nbsp a&nbsp</span><span class=\"barcode\"; style=\"color: black; background-color: #ffffff\">&nbsp kiss&nbsp</span><span class=\"barcode\"; style=\"color: black; background-color: #fefbfa\">&nbsp to&nbsp</span>"
      ],
      "text/plain": [
       "<IPython.core.display.HTML object>"
      ]
     },
     "metadata": {},
     "output_type": "display_data"
    },
    {
     "data": {
      "text/html": [
       "<span class=\"barcode\"; style=\"color: black; background-color: #f5fbfd\">&nbspThen&nbsp</span><span class=\"barcode\"; style=\"color: black; background-color: #f7fcfe\">&nbsp,&nbsp</span><span class=\"barcode\"; style=\"color: black; background-color: #48b6df\">&nbsp Erica&nbsp</span><span class=\"barcode\"; style=\"color: black; background-color: #faeae6\">&nbsp and&nbsp</span><span class=\"barcode\"; style=\"color: black; background-color: #f1c6bc\">&nbsp Jason&nbsp</span><span class=\"barcode\"; style=\"color: black; background-color: #fdf6f4\">&nbsp had&nbsp</span><span class=\"barcode\"; style=\"color: black; background-color: #fefaf9\">&nbsp a&nbsp</span><span class=\"barcode\"; style=\"color: black; background-color: #fcf3f1\">&nbsp lot&nbsp</span><span class=\"barcode\"; style=\"color: black; background-color: #fdf8f7\">&nbsp of&nbsp</span><span class=\"barcode\"; style=\"color: black; background-color: #fdf8f7\">&nbsp fun&nbsp</span><span class=\"barcode\"; style=\"color: black; background-color: #fef9f8\">&nbsp at&nbsp</span><span class=\"barcode\"; style=\"color: black; background-color: #fdf8f7\">&nbsp the&nbsp</span><span class=\"barcode\"; style=\"color: black; background-color: #fefaf9\">&nbsp store&nbsp</span><span class=\"barcode\"; style=\"color: black; background-color: #fffdfd\">&nbsp.&nbsp</span><span class=\"barcode\"; style=\"color: black; background-color: #fefcfc\">&nbsp Jason&nbsp</span><span class=\"barcode\"; style=\"color: black; background-color: #f6fbfd\">&nbsp gave&nbsp</span><span class=\"barcode\"; style=\"color: black; background-color: #feffff\">&nbsp a&nbsp</span><span class=\"barcode\"; style=\"color: black; background-color: #f2fafd\">&nbsp drink&nbsp</span><span class=\"barcode\"; style=\"color: black; background-color: #ffffff\">&nbsp to&nbsp</span>"
      ],
      "text/plain": [
       "<IPython.core.display.HTML object>"
      ]
     },
     "metadata": {},
     "output_type": "display_data"
    },
    {
     "data": {
      "text/html": [
       "<span class=\"barcode\"; style=\"color: black; background-color: #bee5f4\">&nbspThen&nbsp</span><span class=\"barcode\"; style=\"color: black; background-color: #ccebf6\">&nbsp,&nbsp</span><span class=\"barcode\"; style=\"color: black; background-color: #48b6df\">&nbsp Michael&nbsp</span><span class=\"barcode\"; style=\"color: black; background-color: #f4fafd\">&nbsp and&nbsp</span><span class=\"barcode\"; style=\"color: black; background-color: #fbefec\">&nbsp Katie&nbsp</span><span class=\"barcode\"; style=\"color: black; background-color: #e4f4fa\">&nbsp had&nbsp</span><span class=\"barcode\"; style=\"color: black; background-color: #eef8fc\">&nbsp a&nbsp</span><span class=\"barcode\"; style=\"color: black; background-color: #ebf7fb\">&nbsp lot&nbsp</span><span class=\"barcode\"; style=\"color: black; background-color: #eef8fc\">&nbsp of&nbsp</span><span class=\"barcode\"; style=\"color: black; background-color: #e9f6fb\">&nbsp fun&nbsp</span><span class=\"barcode\"; style=\"color: black; background-color: #eaf7fb\">&nbsp at&nbsp</span><span class=\"barcode\"; style=\"color: black; background-color: #ecf7fc\">&nbsp the&nbsp</span><span class=\"barcode\"; style=\"color: black; background-color: #e2f3fa\">&nbsp restaurant&nbsp</span><span class=\"barcode\"; style=\"color: black; background-color: #dff2f9\">&nbsp.&nbsp</span><span class=\"barcode\"; style=\"color: black; background-color: #d3eef7\">&nbsp Katie&nbsp</span><span class=\"barcode\"; style=\"color: black; background-color: #cbeaf6\">&nbsp gave&nbsp</span><span class=\"barcode\"; style=\"color: black; background-color: #e8f6fb\">&nbsp a&nbsp</span><span class=\"barcode\"; style=\"color: black; background-color: #d2edf7\">&nbsp snack&nbsp</span><span class=\"barcode\"; style=\"color: black; background-color: #ccebf6\">&nbsp to&nbsp</span>"
      ],
      "text/plain": [
       "<IPython.core.display.HTML object>"
      ]
     },
     "metadata": {},
     "output_type": "display_data"
    },
    {
     "data": {
      "text/html": [
       "<span class=\"barcode\"; style=\"color: black; background-color: #e0f3fa\">&nbspThen&nbsp</span><span class=\"barcode\"; style=\"color: black; background-color: #e4f4fa\">&nbsp,&nbsp</span><span class=\"barcode\"; style=\"color: black; background-color: #48b6df\">&nbsp Timothy&nbsp</span><span class=\"barcode\"; style=\"color: black; background-color: #ffffff\">&nbsp and&nbsp</span><span class=\"barcode\"; style=\"color: black; background-color: #f5d7d0\">&nbsp Bradley&nbsp</span><span class=\"barcode\"; style=\"color: black; background-color: #f2fafd\">&nbsp had&nbsp</span><span class=\"barcode\"; style=\"color: black; background-color: #f5fbfd\">&nbsp a&nbsp</span><span class=\"barcode\"; style=\"color: black; background-color: #f3fafd\">&nbsp lot&nbsp</span><span class=\"barcode\"; style=\"color: black; background-color: #f6fcfd\">&nbsp of&nbsp</span><span class=\"barcode\"; style=\"color: black; background-color: #f2fafd\">&nbsp fun&nbsp</span><span class=\"barcode\"; style=\"color: black; background-color: #f4fbfd\">&nbsp at&nbsp</span><span class=\"barcode\"; style=\"color: black; background-color: #f6fbfd\">&nbsp the&nbsp</span><span class=\"barcode\"; style=\"color: black; background-color: #f1f9fc\">&nbsp school&nbsp</span><span class=\"barcode\"; style=\"color: black; background-color: #ecf8fc\">&nbsp.&nbsp</span><span class=\"barcode\"; style=\"color: black; background-color: #f9fdfe\">&nbsp Bradley&nbsp</span><span class=\"barcode\"; style=\"color: black; background-color: #e9f6fb\">&nbsp gave&nbsp</span><span class=\"barcode\"; style=\"color: black; background-color: #f4fbfd\">&nbsp a&nbsp</span><span class=\"barcode\"; style=\"color: black; background-color: #edf8fc\">&nbsp kiss&nbsp</span><span class=\"barcode\"; style=\"color: black; background-color: #ddf2f9\">&nbsp to&nbsp</span>"
      ],
      "text/plain": [
       "<IPython.core.display.HTML object>"
      ]
     },
     "metadata": {},
     "output_type": "display_data"
    },
    {
     "data": {
      "text/html": [
       "<span class=\"barcode\"; style=\"color: black; background-color: #eef8fc\">&nbspThen&nbsp</span><span class=\"barcode\"; style=\"color: black; background-color: #f1f9fc\">&nbsp,&nbsp</span><span class=\"barcode\"; style=\"color: black; background-color: #48b6df\">&nbsp Megan&nbsp</span><span class=\"barcode\"; style=\"color: black; background-color: #fcf1ef\">&nbsp and&nbsp</span><span class=\"barcode\"; style=\"color: black; background-color: #eaa899\">&nbsp Crystal&nbsp</span><span class=\"barcode\"; style=\"color: black; background-color: #f8fcfe\">&nbsp went&nbsp</span><span class=\"barcode\"; style=\"color: black; background-color: #fcfefe\">&nbsp to&nbsp</span><span class=\"barcode\"; style=\"color: black; background-color: #feffff\">&nbsp the&nbsp</span><span class=\"barcode\"; style=\"color: black; background-color: #fefeff\">&nbsp store&nbsp</span><span class=\"barcode\"; style=\"color: black; background-color: #f6fbfd\">&nbsp.&nbsp</span><span class=\"barcode\"; style=\"color: black; background-color: #f9fcfe\">&nbsp Crystal&nbsp</span><span class=\"barcode\"; style=\"color: black; background-color: #f0f9fc\">&nbsp gave&nbsp</span><span class=\"barcode\"; style=\"color: black; background-color: #fbfefe\">&nbsp a&nbsp</span><span class=\"barcode\"; style=\"color: black; background-color: #fefcfb\">&nbsp bone&nbsp</span><span class=\"barcode\"; style=\"color: black; background-color: #e2f4fa\">&nbsp to&nbsp</span>"
      ],
      "text/plain": [
       "<IPython.core.display.HTML object>"
      ]
     },
     "metadata": {},
     "output_type": "display_data"
    },
    {
     "data": {
      "text/html": [
       "<span class=\"barcode\"; style=\"color: black; background-color: #e2f3fa\">&nbspThen&nbsp</span><span class=\"barcode\"; style=\"color: black; background-color: #e1f3fa\">&nbsp,&nbsp</span><span class=\"barcode\"; style=\"color: black; background-color: #48b6df\">&nbsp Kyle&nbsp</span><span class=\"barcode\"; style=\"color: black; background-color: #fcf2f0\">&nbsp and&nbsp</span><span class=\"barcode\"; style=\"color: black; background-color: #f0c2b8\">&nbsp Samuel&nbsp</span><span class=\"barcode\"; style=\"color: black; background-color: #fbfdfe\">&nbsp went&nbsp</span><span class=\"barcode\"; style=\"color: black; background-color: #fafdfe\">&nbsp to&nbsp</span><span class=\"barcode\"; style=\"color: black; background-color: #fcfefe\">&nbsp the&nbsp</span><span class=\"barcode\"; style=\"color: black; background-color: #fcfefe\">&nbsp station&nbsp</span><span class=\"barcode\"; style=\"color: black; background-color: #f7fcfe\">&nbsp.&nbsp</span><span class=\"barcode\"; style=\"color: black; background-color: #fefdfc\">&nbsp Samuel&nbsp</span><span class=\"barcode\"; style=\"color: black; background-color: #f5fbfd\">&nbsp gave&nbsp</span><span class=\"barcode\"; style=\"color: black; background-color: #f9fcfe\">&nbsp a&nbsp</span><span class=\"barcode\"; style=\"color: black; background-color: #eef8fc\">&nbsp bone&nbsp</span><span class=\"barcode\"; style=\"color: black; background-color: #f6fbfd\">&nbsp to&nbsp</span>"
      ],
      "text/plain": [
       "<IPython.core.display.HTML object>"
      ]
     },
     "metadata": {},
     "output_type": "display_data"
    },
    {
     "data": {
      "text/html": [
       "<span class=\"barcode\"; style=\"color: black; background-color: #d3edf7\">&nbspThen&nbsp</span><span class=\"barcode\"; style=\"color: black; background-color: #d8f0f8\">&nbsp,&nbsp</span><span class=\"barcode\"; style=\"color: black; background-color: #48b6df\">&nbsp Benjamin&nbsp</span><span class=\"barcode\"; style=\"color: black; background-color: #f9fcfe\">&nbsp and&nbsp</span><span class=\"barcode\"; style=\"color: black; background-color: #fae9e5\">&nbsp Sara&nbsp</span><span class=\"barcode\"; style=\"color: black; background-color: #eef8fc\">&nbsp had&nbsp</span><span class=\"barcode\"; style=\"color: black; background-color: #f4fafd\">&nbsp a&nbsp</span><span class=\"barcode\"; style=\"color: black; background-color: #f4fafd\">&nbsp lot&nbsp</span><span class=\"barcode\"; style=\"color: black; background-color: #f4fafd\">&nbsp of&nbsp</span><span class=\"barcode\"; style=\"color: black; background-color: #f2fafd\">&nbsp fun&nbsp</span><span class=\"barcode\"; style=\"color: black; background-color: #f2fafd\">&nbsp at&nbsp</span><span class=\"barcode\"; style=\"color: black; background-color: #f2fafd\">&nbsp the&nbsp</span><span class=\"barcode\"; style=\"color: black; background-color: #eff9fc\">&nbsp office&nbsp</span><span class=\"barcode\"; style=\"color: black; background-color: #ecf7fc\">&nbsp.&nbsp</span><span class=\"barcode\"; style=\"color: black; background-color: #dbf1f9\">&nbsp Sara&nbsp</span><span class=\"barcode\"; style=\"color: black; background-color: #d3eef7\">&nbsp gave&nbsp</span><span class=\"barcode\"; style=\"color: black; background-color: #ebf7fb\">&nbsp a&nbsp</span><span class=\"barcode\"; style=\"color: black; background-color: #dbf1f9\">&nbsp ring&nbsp</span><span class=\"barcode\"; style=\"color: black; background-color: #cdebf6\">&nbsp to&nbsp</span>"
      ],
      "text/plain": [
       "<IPython.core.display.HTML object>"
      ]
     },
     "metadata": {},
     "output_type": "display_data"
    },
    {
     "data": {
      "text/html": [
       "<span class=\"barcode\"; style=\"color: black; background-color: #eef8fc\">&nbspThen&nbsp</span><span class=\"barcode\"; style=\"color: black; background-color: #ecf7fc\">&nbsp,&nbsp</span><span class=\"barcode\"; style=\"color: black; background-color: #48b6df\">&nbsp Ashley&nbsp</span><span class=\"barcode\"; style=\"color: black; background-color: #fcf4f2\">&nbsp and&nbsp</span><span class=\"barcode\"; style=\"color: black; background-color: #edb5a8\">&nbsp Timothy&nbsp</span><span class=\"barcode\"; style=\"color: black; background-color: #f9fdfe\">&nbsp had&nbsp</span><span class=\"barcode\"; style=\"color: black; background-color: #f9fdfe\">&nbsp a&nbsp</span><span class=\"barcode\"; style=\"color: black; background-color: #fbfefe\">&nbsp lot&nbsp</span><span class=\"barcode\"; style=\"color: black; background-color: #fbfdfe\">&nbsp of&nbsp</span><span class=\"barcode\"; style=\"color: black; background-color: #f6fcfd\">&nbsp fun&nbsp</span><span class=\"barcode\"; style=\"color: black; background-color: #f8fcfe\">&nbsp at&nbsp</span><span class=\"barcode\"; style=\"color: black; background-color: #fbfefe\">&nbsp the&nbsp</span><span class=\"barcode\"; style=\"color: black; background-color: #f6fcfd\">&nbsp hospital&nbsp</span><span class=\"barcode\"; style=\"color: black; background-color: #fffefe\">&nbsp.&nbsp</span><span class=\"barcode\"; style=\"color: black; background-color: #fcf5f3\">&nbsp Timothy&nbsp</span><span class=\"barcode\"; style=\"color: black; background-color: #e9f6fb\">&nbsp gave&nbsp</span><span class=\"barcode\"; style=\"color: black; background-color: #fafdfe\">&nbsp a&nbsp</span><span class=\"barcode\"; style=\"color: black; background-color: #e6f5fb\">&nbsp snack&nbsp</span><span class=\"barcode\"; style=\"color: black; background-color: #f7fcfe\">&nbsp to&nbsp</span>"
      ],
      "text/plain": [
       "<IPython.core.display.HTML object>"
      ]
     },
     "metadata": {},
     "output_type": "display_data"
    },
    {
     "data": {
      "text/html": [
       "<span class=\"barcode\"; style=\"color: black; background-color: #ddf2f9\">&nbspThen&nbsp</span><span class=\"barcode\"; style=\"color: black; background-color: #daf0f9\">&nbsp,&nbsp</span><span class=\"barcode\"; style=\"color: black; background-color: #48b6df\">&nbsp Michelle&nbsp</span><span class=\"barcode\"; style=\"color: black; background-color: #fefbfa\">&nbsp and&nbsp</span><span class=\"barcode\"; style=\"color: black; background-color: #f3ccc3\">&nbsp Nicole&nbsp</span><span class=\"barcode\"; style=\"color: black; background-color: #f4fafd\">&nbsp had&nbsp</span><span class=\"barcode\"; style=\"color: black; background-color: #f4fafd\">&nbsp a&nbsp</span><span class=\"barcode\"; style=\"color: black; background-color: #f1fafd\">&nbsp lot&nbsp</span><span class=\"barcode\"; style=\"color: black; background-color: #f5fbfd\">&nbsp of&nbsp</span><span class=\"barcode\"; style=\"color: black; background-color: #f2fafd\">&nbsp fun&nbsp</span><span class=\"barcode\"; style=\"color: black; background-color: #f2fafd\">&nbsp at&nbsp</span><span class=\"barcode\"; style=\"color: black; background-color: #f1fafd\">&nbsp the&nbsp</span><span class=\"barcode\"; style=\"color: black; background-color: #f0f9fc\">&nbsp store&nbsp</span><span class=\"barcode\"; style=\"color: black; background-color: #ebf7fb\">&nbsp.&nbsp</span><span class=\"barcode\"; style=\"color: black; background-color: #ebf7fb\">&nbsp Nicole&nbsp</span><span class=\"barcode\"; style=\"color: black; background-color: #ddf2f9\">&nbsp gave&nbsp</span><span class=\"barcode\"; style=\"color: black; background-color: #ecf7fc\">&nbsp a&nbsp</span><span class=\"barcode\"; style=\"color: black; background-color: #e4f4fa\">&nbsp necklace&nbsp</span><span class=\"barcode\"; style=\"color: black; background-color: #dff2f9\">&nbsp to&nbsp</span>"
      ],
      "text/plain": [
       "<IPython.core.display.HTML object>"
      ]
     },
     "metadata": {},
     "output_type": "display_data"
    },
    {
     "data": {
      "text/html": [
       "<span class=\"barcode\"; style=\"color: black; background-color: #e4f4fa\">&nbspThen&nbsp</span><span class=\"barcode\"; style=\"color: black; background-color: #e6f5fb\">&nbsp,&nbsp</span><span class=\"barcode\"; style=\"color: black; background-color: #48b6df\">&nbsp Tyler&nbsp</span><span class=\"barcode\"; style=\"color: black; background-color: #fdf6f5\">&nbsp and&nbsp</span><span class=\"barcode\"; style=\"color: black; background-color: #f4d0c8\">&nbsp Robert&nbsp</span><span class=\"barcode\"; style=\"color: black; background-color: #f6fcfd\">&nbsp had&nbsp</span><span class=\"barcode\"; style=\"color: black; background-color: #f9fdfe\">&nbsp a&nbsp</span><span class=\"barcode\"; style=\"color: black; background-color: #f7fcfe\">&nbsp lot&nbsp</span><span class=\"barcode\"; style=\"color: black; background-color: #f9fdfe\">&nbsp of&nbsp</span><span class=\"barcode\"; style=\"color: black; background-color: #f5fbfd\">&nbsp fun&nbsp</span><span class=\"barcode\"; style=\"color: black; background-color: #f9fcfe\">&nbsp at&nbsp</span><span class=\"barcode\"; style=\"color: black; background-color: #f9fcfe\">&nbsp the&nbsp</span><span class=\"barcode\"; style=\"color: black; background-color: #f4fbfd\">&nbsp station&nbsp</span><span class=\"barcode\"; style=\"color: black; background-color: #f9fdfe\">&nbsp.&nbsp</span><span class=\"barcode\"; style=\"color: black; background-color: #fefeff\">&nbsp Robert&nbsp</span><span class=\"barcode\"; style=\"color: black; background-color: #e0f3fa\">&nbsp gave&nbsp</span><span class=\"barcode\"; style=\"color: black; background-color: #f1f9fc\">&nbsp a&nbsp</span><span class=\"barcode\"; style=\"color: black; background-color: #e6f5fb\">&nbsp ring&nbsp</span><span class=\"barcode\"; style=\"color: black; background-color: #f5fbfd\">&nbsp to&nbsp</span>"
      ],
      "text/plain": [
       "<IPython.core.display.HTML object>"
      ]
     },
     "metadata": {},
     "output_type": "display_data"
    },
    {
     "data": {
      "text/html": [
       "<span class=\"barcode\"; style=\"color: black; background-color: #cdebf6\">&nbspThen&nbsp</span><span class=\"barcode\"; style=\"color: black; background-color: #ddf2f9\">&nbsp,&nbsp</span><span class=\"barcode\"; style=\"color: black; background-color: #48b6df\">&nbsp James&nbsp</span><span class=\"barcode\"; style=\"color: black; background-color: #feffff\">&nbsp and&nbsp</span><span class=\"barcode\"; style=\"color: black; background-color: #f6dad3\">&nbsp Mary&nbsp</span><span class=\"barcode\"; style=\"color: black; background-color: #f3fafd\">&nbsp had&nbsp</span><span class=\"barcode\"; style=\"color: black; background-color: #f6fcfd\">&nbsp a&nbsp</span><span class=\"barcode\"; style=\"color: black; background-color: #f9fcfe\">&nbsp lot&nbsp</span><span class=\"barcode\"; style=\"color: black; background-color: #fbfdfe\">&nbsp of&nbsp</span><span class=\"barcode\"; style=\"color: black; background-color: #f3fafd\">&nbsp fun&nbsp</span><span class=\"barcode\"; style=\"color: black; background-color: #f6fbfd\">&nbsp at&nbsp</span><span class=\"barcode\"; style=\"color: black; background-color: #f6fbfd\">&nbsp the&nbsp</span><span class=\"barcode\"; style=\"color: black; background-color: #f2fafd\">&nbsp office&nbsp</span><span class=\"barcode\"; style=\"color: black; background-color: #e7f5fb\">&nbsp.&nbsp</span><span class=\"barcode\"; style=\"color: black; background-color: #ddf1f9\">&nbsp Mary&nbsp</span><span class=\"barcode\"; style=\"color: black; background-color: #d9f0f8\">&nbsp gave&nbsp</span><span class=\"barcode\"; style=\"color: black; background-color: #edf8fc\">&nbsp a&nbsp</span><span class=\"barcode\"; style=\"color: black; background-color: #e5f5fa\">&nbsp bone&nbsp</span><span class=\"barcode\"; style=\"color: black; background-color: #d9f0f8\">&nbsp to&nbsp</span>"
      ],
      "text/plain": [
       "<IPython.core.display.HTML object>"
      ]
     },
     "metadata": {},
     "output_type": "display_data"
    },
    {
     "data": {
      "text/html": [
       "<span class=\"barcode\"; style=\"color: black; background-color: #e8f6fb\">&nbspThen&nbsp</span><span class=\"barcode\"; style=\"color: black; background-color: #f0f9fc\">&nbsp,&nbsp</span><span class=\"barcode\"; style=\"color: black; background-color: #48b6df\">&nbsp Lauren&nbsp</span><span class=\"barcode\"; style=\"color: black; background-color: #fdf7f6\">&nbsp and&nbsp</span><span class=\"barcode\"; style=\"color: black; background-color: #f7ded8\">&nbsp Michael&nbsp</span><span class=\"barcode\"; style=\"color: black; background-color: #fcfefe\">&nbsp had&nbsp</span><span class=\"barcode\"; style=\"color: black; background-color: #feffff\">&nbsp a&nbsp</span><span class=\"barcode\"; style=\"color: black; background-color: #ffffff\">&nbsp lot&nbsp</span><span class=\"barcode\"; style=\"color: black; background-color: #feffff\">&nbsp of&nbsp</span><span class=\"barcode\"; style=\"color: black; background-color: #fcfefe\">&nbsp fun&nbsp</span><span class=\"barcode\"; style=\"color: black; background-color: #feffff\">&nbsp at&nbsp</span><span class=\"barcode\"; style=\"color: black; background-color: #ffffff\">&nbsp the&nbsp</span><span class=\"barcode\"; style=\"color: black; background-color: #fcfefe\">&nbsp store&nbsp</span><span class=\"barcode\"; style=\"color: black; background-color: #fefcfc\">&nbsp.&nbsp</span><span class=\"barcode\"; style=\"color: black; background-color: #fefbfa\">&nbsp Michael&nbsp</span><span class=\"barcode\"; style=\"color: black; background-color: #fefdfc\">&nbsp gave&nbsp</span><span class=\"barcode\"; style=\"color: black; background-color: #fffefe\">&nbsp a&nbsp</span><span class=\"barcode\"; style=\"color: black; background-color: #fdfeff\">&nbsp computer&nbsp</span><span class=\"barcode\"; style=\"color: black; background-color: #fefaf9\">&nbsp to&nbsp</span>"
      ],
      "text/plain": [
       "<IPython.core.display.HTML object>"
      ]
     },
     "metadata": {},
     "output_type": "display_data"
    },
    {
     "data": {
      "text/html": [
       "<span class=\"barcode\"; style=\"color: black; background-color: #e4f4fa\">&nbspThen&nbsp</span><span class=\"barcode\"; style=\"color: black; background-color: #e2f3fa\">&nbsp,&nbsp</span><span class=\"barcode\"; style=\"color: black; background-color: #48b6df\">&nbsp Emily&nbsp</span><span class=\"barcode\"; style=\"color: black; background-color: #fefcfb\">&nbsp and&nbsp</span><span class=\"barcode\"; style=\"color: black; background-color: #f2c8bf\">&nbsp Lindsey&nbsp</span><span class=\"barcode\"; style=\"color: black; background-color: #f4fbfd\">&nbsp had&nbsp</span><span class=\"barcode\"; style=\"color: black; background-color: #f5fbfd\">&nbsp a&nbsp</span><span class=\"barcode\"; style=\"color: black; background-color: #f4fafd\">&nbsp lot&nbsp</span><span class=\"barcode\"; style=\"color: black; background-color: #f4fbfd\">&nbsp of&nbsp</span><span class=\"barcode\"; style=\"color: black; background-color: #eff9fc\">&nbsp fun&nbsp</span><span class=\"barcode\"; style=\"color: black; background-color: #f3fafd\">&nbsp at&nbsp</span><span class=\"barcode\"; style=\"color: black; background-color: #f5fbfd\">&nbsp the&nbsp</span><span class=\"barcode\"; style=\"color: black; background-color: #f1f9fc\">&nbsp store&nbsp</span><span class=\"barcode\"; style=\"color: black; background-color: #eef8fc\">&nbsp.&nbsp</span><span class=\"barcode\"; style=\"color: black; background-color: #fffefe\">&nbsp Lindsey&nbsp</span><span class=\"barcode\"; style=\"color: black; background-color: #e1f3fa\">&nbsp gave&nbsp</span><span class=\"barcode\"; style=\"color: black; background-color: #f3fafd\">&nbsp a&nbsp</span><span class=\"barcode\"; style=\"color: black; background-color: #f0f9fc\">&nbsp drink&nbsp</span><span class=\"barcode\"; style=\"color: black; background-color: #f2fafd\">&nbsp to&nbsp</span>"
      ],
      "text/plain": [
       "<IPython.core.display.HTML object>"
      ]
     },
     "metadata": {},
     "output_type": "display_data"
    }
   ],
   "source": [
    "for example_idx in range(20):\n",
    "    text = ioi_dataset.sentences[example_idx]\n",
    "    encoding = model.tokenizer.encode_plus(text, \n",
    "                                     #add_special_tokens=True, \n",
    "                                     #max_length=16,\n",
    "                                     #truncation=True, \n",
    "                                     padding = False,\n",
    "                                     #padding = \"max_length\", \n",
    "                                     return_attention_mask=True, \n",
    "                                     return_tensors=\"pt\").to(device)\n",
    "    encoding_idxs, attention_mask = encoding.input_ids, encoding.attention_mask\n",
    "    input_shape = encoding_idxs.size()\n",
    "    extended_attention_mask = get_extended_attention_mask(attention_mask, \n",
    "                                                            input_shape, \n",
    "                                                            model,\n",
    "                                                        device)\n",
    "    \n",
    "    ablation_sets = [tuple(Node(0, pos, head) for head in range(12)) for pos in range(input_shape[1])]\n",
    "    target_nodes = []\n",
    "    \n",
    "    out_decomps, _, _, pre_layer_activations = prop_GPT(encoding_idxs[0:1, :], extended_attention_mask, model, ablation_sets, target_nodes=target_nodes, device=device, mean_acts=mean_acts, set_irrel_to_mean=True)\n",
    "\n",
    "    rel_word_scores, irrel_word_scores = get_word_scores(out_decomps, ioi_dataset, example_idx)\n",
    "    tokens = ioi_dataset.tokenized_prompts[example_idx].split('|')[:-1]\n",
    "    s = colorize(tokens, rel_word_scores[:-1])\n",
    "    #print(rel_word_scores[:-1])\n",
    "    #s = colorize(tokens, [r - i for (r, i) in zip(rel_word_scores[:-1], irrel_word_scores[:-1])])\n",
    "    display(HTML(s))"
   ]
  },
  {
   "cell_type": "code",
   "execution_count": 148,
   "id": "73870f8a-38d0-4f5c-a3a0-26236ebc6344",
   "metadata": {
    "tags": []
   },
   "outputs": [
    {
     "data": {
      "text/plain": [
       "['Then',\n",
       " ',',\n",
       " ' Emily',\n",
       " ' and',\n",
       " ' Lindsey',\n",
       " ' had',\n",
       " ' a',\n",
       " ' lot',\n",
       " ' of',\n",
       " ' fun',\n",
       " ' at',\n",
       " ' the',\n",
       " ' store',\n",
       " '.',\n",
       " ' Lindsey',\n",
       " ' gave',\n",
       " ' a',\n",
       " ' drink',\n",
       " ' to']"
      ]
     },
     "execution_count": 148,
     "metadata": {},
     "output_type": "execute_result"
    }
   ],
   "source": [
    "tokens"
   ]
  },
  {
   "cell_type": "code",
   "execution_count": 140,
   "id": "777b9e69-47c8-4ccc-8877-cf6359c9da6e",
   "metadata": {
    "tags": []
   },
   "outputs": [
    {
     "name": "stdout",
     "output_type": "stream",
     "text": [
      "Then, Katherine and Angela went to the office. Angela gave a kiss to Katherine\n"
     ]
    },
    {
     "data": {
      "text/html": [
       "<span class=\"barcode\"; style=\"color: black; background-color: #e1f3fa\">&nbspThen&nbsp</span><span class=\"barcode\"; style=\"color: black; background-color: #e5f5fa\">&nbsp,&nbsp</span><span class=\"barcode\"; style=\"color: black; background-color: #48b6df\">&nbsp Katherine&nbsp</span><span class=\"barcode\"; style=\"color: black; background-color: #fdf8f7\">&nbsp and&nbsp</span><span class=\"barcode\"; style=\"color: black; background-color: #eebbaf\">&nbsp Angela&nbsp</span><span class=\"barcode\"; style=\"color: black; background-color: #f7fcfe\">&nbsp went&nbsp</span><span class=\"barcode\"; style=\"color: black; background-color: #f9fcfe\">&nbsp to&nbsp</span><span class=\"barcode\"; style=\"color: black; background-color: #f9fdfe\">&nbsp the&nbsp</span><span class=\"barcode\"; style=\"color: black; background-color: #feffff\">&nbsp office&nbsp</span><span class=\"barcode\"; style=\"color: black; background-color: #fcfefe\">&nbsp.&nbsp</span><span class=\"barcode\"; style=\"color: black; background-color: #fefcfc\">&nbsp Angela&nbsp</span><span class=\"barcode\"; style=\"color: black; background-color: #ebf7fb\">&nbsp gave&nbsp</span><span class=\"barcode\"; style=\"color: black; background-color: #f4fafd\">&nbsp a&nbsp</span><span class=\"barcode\"; style=\"color: black; background-color: #e3f4fa\">&nbsp kiss&nbsp</span><span class=\"barcode\"; style=\"color: black; background-color: #f0f9fc\">&nbsp to&nbsp</span>"
      ],
      "text/plain": [
       "<IPython.core.display.HTML object>"
      ]
     },
     "metadata": {},
     "output_type": "display_data"
    },
    {
     "name": "stdout",
     "output_type": "stream",
     "text": [
      "Then, Dustin and Amy had a lot of fun at the school. Amy gave a drink to Dustin\n"
     ]
    },
    {
     "data": {
      "text/html": [
       "<span class=\"barcode\"; style=\"color: black; background-color: #ecf7fc\">&nbspThen&nbsp</span><span class=\"barcode\"; style=\"color: black; background-color: #e9f6fb\">&nbsp,&nbsp</span><span class=\"barcode\"; style=\"color: black; background-color: #48b6df\">&nbsp Dustin&nbsp</span><span class=\"barcode\"; style=\"color: black; background-color: #fdf6f5\">&nbsp and&nbsp</span><span class=\"barcode\"; style=\"color: black; background-color: #f6d8d1\">&nbsp Amy&nbsp</span><span class=\"barcode\"; style=\"color: black; background-color: #fcfefe\">&nbsp had&nbsp</span><span class=\"barcode\"; style=\"color: black; background-color: #fcfefe\">&nbsp a&nbsp</span><span class=\"barcode\"; style=\"color: black; background-color: #fafdfe\">&nbsp lot&nbsp</span><span class=\"barcode\"; style=\"color: black; background-color: #fbfefe\">&nbsp of&nbsp</span><span class=\"barcode\"; style=\"color: black; background-color: #fbfefe\">&nbsp fun&nbsp</span><span class=\"barcode\"; style=\"color: black; background-color: #fdfeff\">&nbsp at&nbsp</span><span class=\"barcode\"; style=\"color: black; background-color: #fbfdfe\">&nbsp the&nbsp</span><span class=\"barcode\"; style=\"color: black; background-color: #ffffff\">&nbsp school&nbsp</span><span class=\"barcode\"; style=\"color: black; background-color: #fdfeff\">&nbsp.&nbsp</span><span class=\"barcode\"; style=\"color: black; background-color: 0.0\">&nbsp Amy&nbsp</span>"
      ],
      "text/plain": [
       "<IPython.core.display.HTML object>"
      ]
     },
     "metadata": {},
     "output_type": "display_data"
    },
    {
     "name": "stdout",
     "output_type": "stream",
     "text": [
      "Then, Richard and Brian went to the school. Brian gave a snack to Richard\n"
     ]
    },
    {
     "data": {
      "text/html": [
       "<span class=\"barcode\"; style=\"color: black; background-color: #d4eef7\">&nbspThen&nbsp</span><span class=\"barcode\"; style=\"color: black; background-color: #d5eef8\">&nbsp,&nbsp</span><span class=\"barcode\"; style=\"color: black; background-color: #48b6df\">&nbsp Richard&nbsp</span><span class=\"barcode\"; style=\"color: black; background-color: #fefcfc\">&nbsp and&nbsp</span><span class=\"barcode\"; style=\"color: black; background-color: #f5d6cf\">&nbsp Brian&nbsp</span><span class=\"barcode\"; style=\"color: black; background-color: #eaf7fb\">&nbsp went&nbsp</span><span class=\"barcode\"; style=\"color: black; background-color: #f1f9fc\">&nbsp to&nbsp</span><span class=\"barcode\"; style=\"color: black; background-color: #f2fafd\">&nbsp the&nbsp</span><span class=\"barcode\"; style=\"color: black; background-color: #ecf8fc\">&nbsp school&nbsp</span><span class=\"barcode\"; style=\"color: black; background-color: #f0f9fc\">&nbsp.&nbsp</span><span class=\"barcode\"; style=\"color: black; background-color: #feffff\">&nbsp Brian&nbsp</span><span class=\"barcode\"; style=\"color: black; background-color: #e5f5fa\">&nbsp gave&nbsp</span><span class=\"barcode\"; style=\"color: black; background-color: #f6fcfd\">&nbsp a&nbsp</span><span class=\"barcode\"; style=\"color: black; background-color: #e9f6fb\">&nbsp snack&nbsp</span><span class=\"barcode\"; style=\"color: black; background-color: #e7f5fb\">&nbsp to&nbsp</span>"
      ],
      "text/plain": [
       "<IPython.core.display.HTML object>"
      ]
     },
     "metadata": {},
     "output_type": "display_data"
    },
    {
     "name": "stdout",
     "output_type": "stream",
     "text": [
      "Then, William and Jeffrey had a lot of fun at the garden. Jeffrey gave a bone to William\n"
     ]
    },
    {
     "data": {
      "text/html": [
       "<span class=\"barcode\"; style=\"color: black; background-color: #def2f9\">&nbspThen&nbsp</span><span class=\"barcode\"; style=\"color: black; background-color: #e2f3fa\">&nbsp,&nbsp</span><span class=\"barcode\"; style=\"color: black; background-color: #48b6df\">&nbsp William&nbsp</span><span class=\"barcode\"; style=\"color: black; background-color: #f9e5e1\">&nbsp and&nbsp</span><span class=\"barcode\"; style=\"color: black; background-color: #e38c79\">&nbsp Jeffrey&nbsp</span><span class=\"barcode\"; style=\"color: black; background-color: #fdfeff\">&nbsp had&nbsp</span><span class=\"barcode\"; style=\"color: black; background-color: #f4fbfd\">&nbsp a&nbsp</span><span class=\"barcode\"; style=\"color: black; background-color: #f9fcfe\">&nbsp lot&nbsp</span><span class=\"barcode\"; style=\"color: black; background-color: #f6fcfd\">&nbsp of&nbsp</span><span class=\"barcode\"; style=\"color: black; background-color: #fcfefe\">&nbsp fun&nbsp</span><span class=\"barcode\"; style=\"color: black; background-color: #f4fbfd\">&nbsp at&nbsp</span><span class=\"barcode\"; style=\"color: black; background-color: #f4fbfd\">&nbsp the&nbsp</span><span class=\"barcode\"; style=\"color: black; background-color: #f0f9fc\">&nbsp garden&nbsp</span><span class=\"barcode\"; style=\"color: black; background-color: #f4fafd\">&nbsp.&nbsp</span><span class=\"barcode\"; style=\"color: black; background-color: -0.0\">&nbsp Jeffrey&nbsp</span>"
      ],
      "text/plain": [
       "<IPython.core.display.HTML object>"
      ]
     },
     "metadata": {},
     "output_type": "display_data"
    },
    {
     "name": "stdout",
     "output_type": "stream",
     "text": [
      "Then, Tyler and Brandon went to the garden. Brandon gave a basketball to Tyler\n"
     ]
    },
    {
     "data": {
      "text/html": [
       "<span class=\"barcode\"; style=\"color: black; background-color: #daf0f9\">&nbspThen&nbsp</span><span class=\"barcode\"; style=\"color: black; background-color: #e3f4fa\">&nbsp,&nbsp</span><span class=\"barcode\"; style=\"color: black; background-color: #48b6df\">&nbsp Tyler&nbsp</span><span class=\"barcode\"; style=\"color: black; background-color: #fffefe\">&nbsp and&nbsp</span><span class=\"barcode\"; style=\"color: black; background-color: #f7ded8\">&nbsp Brandon&nbsp</span><span class=\"barcode\"; style=\"color: black; background-color: #f4fafd\">&nbsp went&nbsp</span><span class=\"barcode\"; style=\"color: black; background-color: #f5fbfd\">&nbsp to&nbsp</span><span class=\"barcode\"; style=\"color: black; background-color: #f6fbfd\">&nbsp the&nbsp</span><span class=\"barcode\"; style=\"color: black; background-color: #f2fafd\">&nbsp garden&nbsp</span><span class=\"barcode\"; style=\"color: black; background-color: #f2fafd\">&nbsp.&nbsp</span><span class=\"barcode\"; style=\"color: black; background-color: #f9fcfe\">&nbsp Brandon&nbsp</span><span class=\"barcode\"; style=\"color: black; background-color: #e1f3fa\">&nbsp gave&nbsp</span><span class=\"barcode\"; style=\"color: black; background-color: #f1f9fc\">&nbsp a&nbsp</span><span class=\"barcode\"; style=\"color: black; background-color: #f1f9fc\">&nbsp basketball&nbsp</span><span class=\"barcode\"; style=\"color: black; background-color: #f6fbfd\">&nbsp to&nbsp</span>"
      ],
      "text/plain": [
       "<IPython.core.display.HTML object>"
      ]
     },
     "metadata": {},
     "output_type": "display_data"
    },
    {
     "name": "stdout",
     "output_type": "stream",
     "text": [
      "Then, Stephen and Mark went to the hospital. Mark gave a ring to Stephen\n"
     ]
    },
    {
     "data": {
      "text/html": [
       "<span class=\"barcode\"; style=\"color: black; background-color: #e3f4fa\">&nbspThen&nbsp</span><span class=\"barcode\"; style=\"color: black; background-color: #e9f6fb\">&nbsp,&nbsp</span><span class=\"barcode\"; style=\"color: black; background-color: #48b6df\">&nbsp Stephen&nbsp</span><span class=\"barcode\"; style=\"color: black; background-color: #fbedea\">&nbsp and&nbsp</span><span class=\"barcode\"; style=\"color: black; background-color: #f4d3cc\">&nbsp Mark&nbsp</span><span class=\"barcode\"; style=\"color: black; background-color: #fefeff\">&nbsp went&nbsp</span><span class=\"barcode\"; style=\"color: black; background-color: #ffffff\">&nbsp to&nbsp</span><span class=\"barcode\"; style=\"color: black; background-color: #ffffff\">&nbsp the&nbsp</span><span class=\"barcode\"; style=\"color: black; background-color: #f5fbfd\">&nbsp hospital&nbsp</span><span class=\"barcode\"; style=\"color: black; background-color: #fffefe\">&nbsp.&nbsp</span><span class=\"barcode\"; style=\"color: black; background-color: #f7fcfe\">&nbsp Mark&nbsp</span><span class=\"barcode\"; style=\"color: black; background-color: #e2f3fa\">&nbsp gave&nbsp</span><span class=\"barcode\"; style=\"color: black; background-color: #eff9fc\">&nbsp a&nbsp</span><span class=\"barcode\"; style=\"color: black; background-color: #ecf8fc\">&nbsp ring&nbsp</span><span class=\"barcode\"; style=\"color: black; background-color: #edf8fc\">&nbsp to&nbsp</span>"
      ],
      "text/plain": [
       "<IPython.core.display.HTML object>"
      ]
     },
     "metadata": {},
     "output_type": "display_data"
    },
    {
     "name": "stdout",
     "output_type": "stream",
     "text": [
      "Then, Christine and Robert went to the restaurant. Robert gave a ring to Christine\n"
     ]
    },
    {
     "data": {
      "text/html": [
       "<span class=\"barcode\"; style=\"color: black; background-color: #eaf7fb\">&nbspThen&nbsp</span><span class=\"barcode\"; style=\"color: black; background-color: #f6fbfd\">&nbsp,&nbsp</span><span class=\"barcode\"; style=\"color: black; background-color: #48b6df\">&nbsp Christine&nbsp</span><span class=\"barcode\"; style=\"color: black; background-color: #fcf1ee\">&nbsp and&nbsp</span><span class=\"barcode\"; style=\"color: black; background-color: #f2c8be\">&nbsp Robert&nbsp</span><span class=\"barcode\"; style=\"color: black; background-color: #fefeff\">&nbsp went&nbsp</span><span class=\"barcode\"; style=\"color: black; background-color: #fffefe\">&nbsp to&nbsp</span><span class=\"barcode\"; style=\"color: black; background-color: #fffefe\">&nbsp the&nbsp</span><span class=\"barcode\"; style=\"color: black; background-color: #fbfdfe\">&nbsp restaurant&nbsp</span><span class=\"barcode\"; style=\"color: black; background-color: #fcfefe\">&nbsp.&nbsp</span><span class=\"barcode\"; style=\"color: black; background-color: #ffffff\">&nbsp Robert&nbsp</span><span class=\"barcode\"; style=\"color: black; background-color: #eef8fc\">&nbsp gave&nbsp</span><span class=\"barcode\"; style=\"color: black; background-color: #fbfdfe\">&nbsp a&nbsp</span><span class=\"barcode\"; style=\"color: black; background-color: #ecf7fc\">&nbsp ring&nbsp</span><span class=\"barcode\"; style=\"color: black; background-color: #f9fcfe\">&nbsp to&nbsp</span>"
      ],
      "text/plain": [
       "<IPython.core.display.HTML object>"
      ]
     },
     "metadata": {},
     "output_type": "display_data"
    },
    {
     "name": "stdout",
     "output_type": "stream",
     "text": [
      "Then, Amber and William went to the restaurant. William gave a kiss to Amber\n"
     ]
    },
    {
     "data": {
      "text/html": [
       "<span class=\"barcode\"; style=\"color: black; background-color: #ecf8fc\">&nbspThen&nbsp</span><span class=\"barcode\"; style=\"color: black; background-color: #f7fcfe\">&nbsp,&nbsp</span><span class=\"barcode\"; style=\"color: black; background-color: #48b6df\">&nbsp Amber&nbsp</span><span class=\"barcode\"; style=\"color: black; background-color: #fbeeeb\">&nbsp and&nbsp</span><span class=\"barcode\"; style=\"color: black; background-color: #f3cec5\">&nbsp William&nbsp</span><span class=\"barcode\"; style=\"color: black; background-color: #fefaf9\">&nbsp went&nbsp</span><span class=\"barcode\"; style=\"color: black; background-color: #fefaf9\">&nbsp to&nbsp</span><span class=\"barcode\"; style=\"color: black; background-color: #fefaf9\">&nbsp the&nbsp</span><span class=\"barcode\"; style=\"color: black; background-color: #fefcfc\">&nbsp restaurant&nbsp</span><span class=\"barcode\"; style=\"color: black; background-color: #fefaf9\">&nbsp.&nbsp</span><span class=\"barcode\"; style=\"color: black; background-color: #fcf1ee\">&nbsp William&nbsp</span><span class=\"barcode\"; style=\"color: black; background-color: #fcfefe\">&nbsp gave&nbsp</span><span class=\"barcode\"; style=\"color: black; background-color: #fefdfc\">&nbsp a&nbsp</span><span class=\"barcode\"; style=\"color: black; background-color: #ffffff\">&nbsp kiss&nbsp</span><span class=\"barcode\"; style=\"color: black; background-color: #fefbfa\">&nbsp to&nbsp</span>"
      ],
      "text/plain": [
       "<IPython.core.display.HTML object>"
      ]
     },
     "metadata": {},
     "output_type": "display_data"
    },
    {
     "name": "stdout",
     "output_type": "stream",
     "text": [
      "Then, Erica and Jason had a lot of fun at the store. Jason gave a drink to Erica\n"
     ]
    },
    {
     "data": {
      "text/html": [
       "<span class=\"barcode\"; style=\"color: black; background-color: #f7fcfe\">&nbspThen&nbsp</span><span class=\"barcode\"; style=\"color: black; background-color: #f9fdfe\">&nbsp,&nbsp</span><span class=\"barcode\"; style=\"color: black; background-color: #48b6df\">&nbsp Erica&nbsp</span><span class=\"barcode\"; style=\"color: black; background-color: #faebe8\">&nbsp and&nbsp</span><span class=\"barcode\"; style=\"color: black; background-color: #f1c7bd\">&nbsp Jason&nbsp</span><span class=\"barcode\"; style=\"color: black; background-color: #fdf7f6\">&nbsp had&nbsp</span><span class=\"barcode\"; style=\"color: black; background-color: #fefbfa\">&nbsp a&nbsp</span><span class=\"barcode\"; style=\"color: black; background-color: #fcf5f3\">&nbsp lot&nbsp</span><span class=\"barcode\"; style=\"color: black; background-color: #fefaf9\">&nbsp of&nbsp</span><span class=\"barcode\"; style=\"color: black; background-color: #fefaf9\">&nbsp fun&nbsp</span><span class=\"barcode\"; style=\"color: black; background-color: #fefbfa\">&nbsp at&nbsp</span><span class=\"barcode\"; style=\"color: black; background-color: #fefaf9\">&nbsp the&nbsp</span><span class=\"barcode\"; style=\"color: black; background-color: #fefcfb\">&nbsp store&nbsp</span><span class=\"barcode\"; style=\"color: black; background-color: -0.0\">&nbsp.&nbsp</span><span class=\"barcode\"; style=\"color: black; background-color: #fffefe\">&nbsp Jason&nbsp</span>"
      ],
      "text/plain": [
       "<IPython.core.display.HTML object>"
      ]
     },
     "metadata": {},
     "output_type": "display_data"
    },
    {
     "name": "stdout",
     "output_type": "stream",
     "text": [
      "Then, Michael and Katie had a lot of fun at the restaurant. Katie gave a snack to Michael\n"
     ]
    },
    {
     "data": {
      "text/html": [
       "<span class=\"barcode\"; style=\"color: black; background-color: #c7e9f5\">&nbspThen&nbsp</span><span class=\"barcode\"; style=\"color: black; background-color: #d5eef8\">&nbsp,&nbsp</span><span class=\"barcode\"; style=\"color: black; background-color: #48b6df\">&nbsp Michael&nbsp</span><span class=\"barcode\"; style=\"color: black; background-color: 0.0\">&nbsp and&nbsp</span><span class=\"barcode\"; style=\"color: black; background-color: #fdf8f7\">&nbsp Katie&nbsp</span><span class=\"barcode\"; style=\"color: black; background-color: #eef8fc\">&nbsp had&nbsp</span><span class=\"barcode\"; style=\"color: black; background-color: #f9fcfe\">&nbsp a&nbsp</span><span class=\"barcode\"; style=\"color: black; background-color: #f6fcfd\">&nbsp lot&nbsp</span><span class=\"barcode\"; style=\"color: black; background-color: #f9fdfe\">&nbsp of&nbsp</span><span class=\"barcode\"; style=\"color: black; background-color: #f4fafd\">&nbsp fun&nbsp</span><span class=\"barcode\"; style=\"color: black; background-color: #f5fbfd\">&nbsp at&nbsp</span><span class=\"barcode\"; style=\"color: black; background-color: #f7fcfe\">&nbsp the&nbsp</span><span class=\"barcode\"; style=\"color: black; background-color: #ecf8fc\">&nbsp restaurant&nbsp</span><span class=\"barcode\"; style=\"color: black; background-color: #e9f6fb\">&nbsp.&nbsp</span><span class=\"barcode\"; style=\"color: black; background-color: #ddf1f9\">&nbsp Katie&nbsp</span>"
      ],
      "text/plain": [
       "<IPython.core.display.HTML object>"
      ]
     },
     "metadata": {},
     "output_type": "display_data"
    }
   ],
   "source": [
    "for example_idx in range(10):\n",
    "    ablation_sets = [tuple(Node(0, pos, head) for head in range(12)) for pos in range(16)]\n",
    "    target_nodes = []\n",
    "    text = ioi_dataset.sentences[example_idx]\n",
    "    print(text)\n",
    "    encoding = model.tokenizer.encode_plus(text, \n",
    "                                     add_special_tokens=True, \n",
    "                                     max_length=512,\n",
    "                                     truncation=True, \n",
    "                                     padding = \"longest\",\n",
    "                                     return_attention_mask=True, \n",
    "                                     return_tensors=\"pt\").to(device)\n",
    "    '''encoding = model.tokenizer.encode_plus(text, \n",
    "                                     #add_special_tokens=True, \n",
    "                                     #max_length=16,\n",
    "                                     #truncation=True, \n",
    "                                     padding = False,\n",
    "                                     #padding = \"max_length\", \n",
    "                                     return_attention_mask=True, \n",
    "                                     return_tensors=\"pt\").to(device)'''\n",
    "    encoding_idxs, attention_mask = encoding.input_ids, encoding.attention_mask\n",
    "    input_shape = encoding_idxs.size()\n",
    "    extended_attention_mask = get_extended_attention_mask(attention_mask, \n",
    "                                                            input_shape, \n",
    "                                                            model,\n",
    "                                                        device)\n",
    "    out_decomps, _, _, pre_layer_activations = prop_GPT(encoding_idxs[0:1, :], extended_attention_mask, model, ablation_sets, target_nodes=target_nodes, device=device, mean_acts=mean_acts, set_irrel_to_mean=True)\n",
    "\n",
    "    rel_word_scores, irrel_word_scores = get_word_scores(out_decomps, ioi_dataset, example_idx)\n",
    "    tokens = ioi_dataset.tokenized_prompts[example_idx].split('|')[:-1]\n",
    "    s = colorize(tokens, rel_word_scores[:-1])\n",
    "    #print(rel_word_scores[:-1])\n",
    "    # s = colorize(tokens, [r - i for (r, i) in zip(rel_word_scores, irrel_word_scores)])\n",
    "    display(HTML(s))\n",
    "    "
   ]
  },
  {
   "cell_type": "code",
   "execution_count": 21,
   "id": "ce463474-bb7b-42c5-84bc-8fac38699c14",
   "metadata": {
    "tags": []
   },
   "outputs": [
    {
     "name": "stdout",
     "output_type": "stream",
     "text": [
      "[ 0.12503366  0.06804211 -0.2677273   0.2379223   1.          0.00652583\n",
      "  0.02117849  0.0179997   0.02852546  0.04209874  0.0623992   0.1255095\n",
      "  0.06398715  0.12358031  0.11079159]\n"
     ]
    },
    {
     "data": {
      "text/html": [
       "<span class=\"barcode\"; style=\"color: black; background-color: #e8f6fb\">&nbspThen&nbsp</span><span class=\"barcode\"; style=\"color: black; background-color: #f3fafd\">&nbsp,&nbsp</span><span class=\"barcode\"; style=\"color: black; background-color: #f6dad3\">&nbsp Lindsay&nbsp</span><span class=\"barcode\"; style=\"color: black; background-color: #d4eef7\">&nbsp and&nbsp</span><span class=\"barcode\"; style=\"color: black; background-color: #48b6df\">&nbsp Danielle&nbsp</span><span class=\"barcode\"; style=\"color: black; background-color: #feffff\">&nbsp went&nbsp</span><span class=\"barcode\"; style=\"color: black; background-color: #fbfefe\">&nbsp to&nbsp</span><span class=\"barcode\"; style=\"color: black; background-color: #fcfefe\">&nbsp the&nbsp</span><span class=\"barcode\"; style=\"color: black; background-color: #fafdfe\">&nbsp school&nbsp</span><span class=\"barcode\"; style=\"color: black; background-color: #f8fcfe\">&nbsp.&nbsp</span><span class=\"barcode\"; style=\"color: black; background-color: #f4fbfd\">&nbsp Lindsay&nbsp</span><span class=\"barcode\"; style=\"color: black; background-color: #e8f6fb\">&nbsp gave&nbsp</span><span class=\"barcode\"; style=\"color: black; background-color: #f4fafd\">&nbsp a&nbsp</span><span class=\"barcode\"; style=\"color: black; background-color: #e9f6fb\">&nbsp drink&nbsp</span><span class=\"barcode\"; style=\"color: black; background-color: #ebf7fb\">&nbsp to&nbsp</span>"
      ],
      "text/plain": [
       "<IPython.core.display.HTML object>"
      ]
     },
     "metadata": {},
     "output_type": "display_data"
    },
    {
     "name": "stdout",
     "output_type": "stream",
     "text": [
      "[-0.1552476  -0.14887741 -0.6305817   0.05864168  1.         -0.06279838\n",
      " -0.0682397  -0.06820069 -0.02659738 -0.05016475  0.00791491 -0.02818444\n",
      " -0.04597878 -0.09961167 -0.04498641]\n"
     ]
    },
    {
     "data": {
      "text/html": [
       "<span class=\"barcode\"; style=\"color: black; background-color: #faeae6\">&nbspThen&nbsp</span><span class=\"barcode\"; style=\"color: black; background-color: #faeae7\">&nbsp,&nbsp</span><span class=\"barcode\"; style=\"color: black; background-color: #eaa797\">&nbsp Cody&nbsp</span><span class=\"barcode\"; style=\"color: black; background-color: #f4fbfd\">&nbsp and&nbsp</span><span class=\"barcode\"; style=\"color: black; background-color: #48b6df\">&nbsp Alicia&nbsp</span><span class=\"barcode\"; style=\"color: black; background-color: #fdf6f5\">&nbsp went&nbsp</span><span class=\"barcode\"; style=\"color: black; background-color: #fdf6f4\">&nbsp to&nbsp</span><span class=\"barcode\"; style=\"color: black; background-color: #fdf6f4\">&nbsp the&nbsp</span><span class=\"barcode\"; style=\"color: black; background-color: #fefcfb\">&nbsp hospital&nbsp</span><span class=\"barcode\"; style=\"color: black; background-color: #fdf8f7\">&nbsp.&nbsp</span><span class=\"barcode\"; style=\"color: black; background-color: #fefeff\">&nbsp Cody&nbsp</span><span class=\"barcode\"; style=\"color: black; background-color: #fefbfa\">&nbsp gave&nbsp</span><span class=\"barcode\"; style=\"color: black; background-color: #fef9f8\">&nbsp a&nbsp</span><span class=\"barcode\"; style=\"color: black; background-color: #fcf1ef\">&nbsp basketball&nbsp</span><span class=\"barcode\"; style=\"color: black; background-color: #fef9f8\">&nbsp to&nbsp</span>"
      ],
      "text/plain": [
       "<IPython.core.display.HTML object>"
      ]
     },
     "metadata": {},
     "output_type": "display_data"
    },
    {
     "name": "stdout",
     "output_type": "stream",
     "text": [
      "[ 0.0425189   0.03517073  1.         -0.09745114 -0.35051733  0.02604655\n",
      "  0.02128902  0.02583591  0.06288438  0.03159104 -0.0043792   0.10695977\n",
      "  0.04921279  0.12951623  0.09041143]\n"
     ]
    },
    {
     "data": {
      "text/html": [
       "<span class=\"barcode\"; style=\"color: black; background-color: #f8fcfe\">&nbspThen&nbsp</span><span class=\"barcode\"; style=\"color: black; background-color: #f9fcfe\">&nbsp,&nbsp</span><span class=\"barcode\"; style=\"color: black; background-color: #48b6df\">&nbsp Alicia&nbsp</span><span class=\"barcode\"; style=\"color: black; background-color: #fcf2f0\">&nbsp and&nbsp</span><span class=\"barcode\"; style=\"color: black; background-color: #f3cec6\">&nbsp Jamie&nbsp</span><span class=\"barcode\"; style=\"color: black; background-color: #fbfdfe\">&nbsp went&nbsp</span><span class=\"barcode\"; style=\"color: black; background-color: #fbfefe\">&nbsp to&nbsp</span><span class=\"barcode\"; style=\"color: black; background-color: #fbfdfe\">&nbsp the&nbsp</span><span class=\"barcode\"; style=\"color: black; background-color: #f4fafd\">&nbsp school&nbsp</span><span class=\"barcode\"; style=\"color: black; background-color: #f9fdfe\">&nbsp.&nbsp</span><span class=\"barcode\"; style=\"color: black; background-color: #fffefe\">&nbsp Jamie&nbsp</span><span class=\"barcode\"; style=\"color: black; background-color: #ecf7fc\">&nbsp gave&nbsp</span><span class=\"barcode\"; style=\"color: black; background-color: #f6fcfd\">&nbsp a&nbsp</span><span class=\"barcode\"; style=\"color: black; background-color: #e7f6fb\">&nbsp necklace&nbsp</span><span class=\"barcode\"; style=\"color: black; background-color: #eef8fc\">&nbsp to&nbsp</span>"
      ],
      "text/plain": [
       "<IPython.core.display.HTML object>"
      ]
     },
     "metadata": {},
     "output_type": "display_data"
    },
    {
     "name": "stdout",
     "output_type": "stream",
     "text": [
      "[ 0.18934785  0.15109085  1.         -0.0344139  -0.33849844  0.07406908\n",
      "  0.05657801  0.04989342  0.09208179  0.06909477  0.09598547  0.17915249\n",
      "  0.06734275  0.14801477  0.11576092]\n"
     ]
    },
    {
     "data": {
      "text/html": [
       "<span class=\"barcode\"; style=\"color: black; background-color: #ddf1f9\">&nbspThen&nbsp</span><span class=\"barcode\"; style=\"color: black; background-color: #e4f4fa\">&nbsp,&nbsp</span><span class=\"barcode\"; style=\"color: black; background-color: #48b6df\">&nbsp Andrea&nbsp</span><span class=\"barcode\"; style=\"color: black; background-color: #fefbfa\">&nbsp and&nbsp</span><span class=\"barcode\"; style=\"color: black; background-color: #f4d0c8\">&nbsp Jamie&nbsp</span><span class=\"barcode\"; style=\"color: black; background-color: #f2fafd\">&nbsp went&nbsp</span><span class=\"barcode\"; style=\"color: black; background-color: #f5fbfd\">&nbsp to&nbsp</span><span class=\"barcode\"; style=\"color: black; background-color: #f6fcfd\">&nbsp the&nbsp</span><span class=\"barcode\"; style=\"color: black; background-color: #eef8fc\">&nbsp school&nbsp</span><span class=\"barcode\"; style=\"color: black; background-color: #f3fafd\">&nbsp.&nbsp</span><span class=\"barcode\"; style=\"color: black; background-color: #eef8fc\">&nbsp Jamie&nbsp</span><span class=\"barcode\"; style=\"color: black; background-color: #dff2f9\">&nbsp gave&nbsp</span><span class=\"barcode\"; style=\"color: black; background-color: #f3fafd\">&nbsp a&nbsp</span><span class=\"barcode\"; style=\"color: black; background-color: #e4f4fa\">&nbsp snack&nbsp</span><span class=\"barcode\"; style=\"color: black; background-color: #eaf7fb\">&nbsp to&nbsp</span>"
      ],
      "text/plain": [
       "<IPython.core.display.HTML object>"
      ]
     },
     "metadata": {},
     "output_type": "display_data"
    },
    {
     "name": "stdout",
     "output_type": "stream",
     "text": [
      "[ 0.12946582  0.12280737  1.         -0.03613115 -0.25130832  0.05250986\n",
      "  0.04029482  0.03867125  0.05197566  0.04712072  0.08957664  0.10962921\n",
      "  0.06660286  0.13164486  0.1481048 ]\n"
     ]
    },
    {
     "data": {
      "text/html": [
       "<span class=\"barcode\"; style=\"color: black; background-color: #e7f6fb\">&nbspThen&nbsp</span><span class=\"barcode\"; style=\"color: black; background-color: #e9f6fb\">&nbsp,&nbsp</span><span class=\"barcode\"; style=\"color: black; background-color: #48b6df\">&nbsp Benjamin&nbsp</span><span class=\"barcode\"; style=\"color: black; background-color: #fefaf9\">&nbsp and&nbsp</span><span class=\"barcode\"; style=\"color: black; background-color: #f6dcd6\">&nbsp Tyler&nbsp</span><span class=\"barcode\"; style=\"color: black; background-color: #f6fbfd\">&nbsp went&nbsp</span><span class=\"barcode\"; style=\"color: black; background-color: #f8fcfe\">&nbsp to&nbsp</span><span class=\"barcode\"; style=\"color: black; background-color: #f9fcfe\">&nbsp the&nbsp</span><span class=\"barcode\"; style=\"color: black; background-color: #f6fbfd\">&nbsp store&nbsp</span><span class=\"barcode\"; style=\"color: black; background-color: #f6fcfd\">&nbsp.&nbsp</span><span class=\"barcode\"; style=\"color: black; background-color: #eff9fc\">&nbsp Tyler&nbsp</span><span class=\"barcode\"; style=\"color: black; background-color: #ebf7fb\">&nbsp gave&nbsp</span><span class=\"barcode\"; style=\"color: black; background-color: #f3fafd\">&nbsp a&nbsp</span><span class=\"barcode\"; style=\"color: black; background-color: #e7f6fb\">&nbsp bone&nbsp</span><span class=\"barcode\"; style=\"color: black; background-color: #e4f4fa\">&nbsp to&nbsp</span>"
      ],
      "text/plain": [
       "<IPython.core.display.HTML object>"
      ]
     },
     "metadata": {},
     "output_type": "display_data"
    },
    {
     "name": "stdout",
     "output_type": "stream",
     "text": [
      "[ 0.1941418   0.1610752   1.         -0.02469452 -0.34211576  0.06260889\n",
      "  0.04523696  0.05116198  0.03708613  0.08449797  0.08677364  0.11668406\n",
      "  0.07921972  0.13993913  0.13289903]\n"
     ]
    },
    {
     "data": {
      "text/html": [
       "<span class=\"barcode\"; style=\"color: black; background-color: #dcf1f9\">&nbspThen&nbsp</span><span class=\"barcode\"; style=\"color: black; background-color: #e2f3fa\">&nbsp,&nbsp</span><span class=\"barcode\"; style=\"color: black; background-color: #48b6df\">&nbsp Christine&nbsp</span><span class=\"barcode\"; style=\"color: black; background-color: #fefcfb\">&nbsp and&nbsp</span><span class=\"barcode\"; style=\"color: black; background-color: #f3cfc7\">&nbsp Melissa&nbsp</span><span class=\"barcode\"; style=\"color: black; background-color: #f4fafd\">&nbsp went&nbsp</span><span class=\"barcode\"; style=\"color: black; background-color: #f7fcfe\">&nbsp to&nbsp</span><span class=\"barcode\"; style=\"color: black; background-color: #f6fbfd\">&nbsp the&nbsp</span><span class=\"barcode\"; style=\"color: black; background-color: #f9fcfe\">&nbsp school&nbsp</span><span class=\"barcode\"; style=\"color: black; background-color: #f0f9fc\">&nbsp.&nbsp</span><span class=\"barcode\"; style=\"color: black; background-color: #eff9fc\">&nbsp Melissa&nbsp</span><span class=\"barcode\"; style=\"color: black; background-color: #eaf7fb\">&nbsp gave&nbsp</span><span class=\"barcode\"; style=\"color: black; background-color: #f1f9fc\">&nbsp a&nbsp</span><span class=\"barcode\"; style=\"color: black; background-color: #e6f5fb\">&nbsp kiss&nbsp</span><span class=\"barcode\"; style=\"color: black; background-color: #e7f5fb\">&nbsp to&nbsp</span>"
      ],
      "text/plain": [
       "<IPython.core.display.HTML object>"
      ]
     },
     "metadata": {},
     "output_type": "display_data"
    },
    {
     "name": "stdout",
     "output_type": "stream",
     "text": [
      "[-0.01461308 -0.00864195 -0.5357655   0.16570593  1.          0.02826415\n",
      "  0.03289288  0.03200421  0.06679868  0.01457724  0.02131403 -0.02401124\n",
      "  0.04435056 -0.01204948  0.00950366]\n"
     ]
    },
    {
     "data": {
      "text/html": [
       "<span class=\"barcode\"; style=\"color: black; background-color: #fffdfd\">&nbspThen&nbsp</span><span class=\"barcode\"; style=\"color: black; background-color: #fffefe\">&nbsp,&nbsp</span><span class=\"barcode\"; style=\"color: black; background-color: #edb4a7\">&nbsp Joshua&nbsp</span><span class=\"barcode\"; style=\"color: black; background-color: #e1f3fa\">&nbsp and&nbsp</span><span class=\"barcode\"; style=\"color: black; background-color: #48b6df\">&nbsp Bradley&nbsp</span><span class=\"barcode\"; style=\"color: black; background-color: #fafdfe\">&nbsp went&nbsp</span><span class=\"barcode\"; style=\"color: black; background-color: #f9fdfe\">&nbsp to&nbsp</span><span class=\"barcode\"; style=\"color: black; background-color: #f9fdfe\">&nbsp the&nbsp</span><span class=\"barcode\"; style=\"color: black; background-color: #f3fafd\">&nbsp school&nbsp</span><span class=\"barcode\"; style=\"color: black; background-color: #fdfeff\">&nbsp.&nbsp</span><span class=\"barcode\"; style=\"color: black; background-color: #fbfefe\">&nbsp Joshua&nbsp</span><span class=\"barcode\"; style=\"color: black; background-color: #fefcfb\">&nbsp gave&nbsp</span><span class=\"barcode\"; style=\"color: black; background-color: #f7fcfe\">&nbsp a&nbsp</span><span class=\"barcode\"; style=\"color: black; background-color: #fffdfd\">&nbsp necklace&nbsp</span><span class=\"barcode\"; style=\"color: black; background-color: #fefeff\">&nbsp to&nbsp</span>"
      ],
      "text/plain": [
       "<IPython.core.display.HTML object>"
      ]
     },
     "metadata": {},
     "output_type": "display_data"
    },
    {
     "name": "stdout",
     "output_type": "stream",
     "text": [
      "[ 0.04435787  0.02368905 -0.57629335  0.19734778  1.          0.02564937\n",
      "  0.03295699  0.02718469  0.02646942  0.01844267  0.06436802  0.04170526\n",
      "  0.03486887  0.07007771  0.03576522]\n"
     ]
    },
    {
     "data": {
      "text/html": [
       "<span class=\"barcode\"; style=\"color: black; background-color: #f7fcfe\">&nbspThen&nbsp</span><span class=\"barcode\"; style=\"color: black; background-color: #fbfdfe\">&nbsp,&nbsp</span><span class=\"barcode\"; style=\"color: black; background-color: #ebaea0\">&nbsp Amber&nbsp</span><span class=\"barcode\"; style=\"color: black; background-color: #dbf1f9\">&nbsp and&nbsp</span><span class=\"barcode\"; style=\"color: black; background-color: #48b6df\">&nbsp Kristen&nbsp</span><span class=\"barcode\"; style=\"color: black; background-color: #fbfdfe\">&nbsp went&nbsp</span><span class=\"barcode\"; style=\"color: black; background-color: #f9fdfe\">&nbsp to&nbsp</span><span class=\"barcode\"; style=\"color: black; background-color: #fbfdfe\">&nbsp the&nbsp</span><span class=\"barcode\"; style=\"color: black; background-color: #fbfdfe\">&nbsp garden&nbsp</span><span class=\"barcode\"; style=\"color: black; background-color: #fcfefe\">&nbsp.&nbsp</span><span class=\"barcode\"; style=\"color: black; background-color: #f4fafd\">&nbsp Amber&nbsp</span><span class=\"barcode\"; style=\"color: black; background-color: #f8fcfe\">&nbsp gave&nbsp</span><span class=\"barcode\"; style=\"color: black; background-color: #f9fdfe\">&nbsp a&nbsp</span><span class=\"barcode\"; style=\"color: black; background-color: #f3fafd\">&nbsp basketball&nbsp</span><span class=\"barcode\"; style=\"color: black; background-color: #f9fcfe\">&nbsp to&nbsp</span>"
      ],
      "text/plain": [
       "<IPython.core.display.HTML object>"
      ]
     },
     "metadata": {},
     "output_type": "display_data"
    },
    {
     "name": "stdout",
     "output_type": "stream",
     "text": [
      "[ 0.2518996   0.19492106 -0.06323055  0.3893512   1.          0.15954773\n",
      "  0.13111773  0.1287994   0.1649629   0.14558947  0.23237486  0.2342385\n",
      "  0.10641388  0.18450557  0.21194205]\n"
     ]
    },
    {
     "data": {
      "text/html": [
       "<span class=\"barcode\"; style=\"color: black; background-color: #d1edf7\">&nbspThen&nbsp</span><span class=\"barcode\"; style=\"color: black; background-color: #dcf1f9\">&nbsp,&nbsp</span><span class=\"barcode\"; style=\"color: black; background-color: #fdf6f5\">&nbsp Samantha&nbsp</span><span class=\"barcode\"; style=\"color: black; background-color: #b8e3f3\">&nbsp and&nbsp</span><span class=\"barcode\"; style=\"color: black; background-color: #48b6df\">&nbsp Jacob&nbsp</span><span class=\"barcode\"; style=\"color: black; background-color: #e2f4fa\">&nbsp went&nbsp</span><span class=\"barcode\"; style=\"color: black; background-color: #e7f6fb\">&nbsp to&nbsp</span><span class=\"barcode\"; style=\"color: black; background-color: #e8f6fb\">&nbsp the&nbsp</span><span class=\"barcode\"; style=\"color: black; background-color: #e1f3fa\">&nbsp restaurant&nbsp</span><span class=\"barcode\"; style=\"color: black; background-color: #e4f4fa\">&nbsp.&nbsp</span><span class=\"barcode\"; style=\"color: black; background-color: #d5eef8\">&nbsp Samantha&nbsp</span><span class=\"barcode\"; style=\"color: black; background-color: #d5eef8\">&nbsp gave&nbsp</span><span class=\"barcode\"; style=\"color: black; background-color: #ecf7fc\">&nbsp a&nbsp</span><span class=\"barcode\"; style=\"color: black; background-color: #ddf2f9\">&nbsp snack&nbsp</span><span class=\"barcode\"; style=\"color: black; background-color: #d8f0f8\">&nbsp to&nbsp</span>"
      ],
      "text/plain": [
       "<IPython.core.display.HTML object>"
      ]
     },
     "metadata": {},
     "output_type": "display_data"
    },
    {
     "name": "stdout",
     "output_type": "stream",
     "text": [
      "[0.17261952 0.13571991 0.08110307 0.2937489  1.         0.08936537\n",
      " 0.06979498 0.06000548 0.09124836 0.09228605 0.18397167 0.13137104\n",
      " 0.05967544 0.12423955 0.07967421]\n"
     ]
    },
    {
     "data": {
      "text/html": [
       "<span class=\"barcode\"; style=\"color: black; background-color: #dff2f9\">&nbspThen&nbsp</span><span class=\"barcode\"; style=\"color: black; background-color: #e7f5fb\">&nbsp,&nbsp</span><span class=\"barcode\"; style=\"color: black; background-color: #f1f9fc\">&nbsp Eric&nbsp</span><span class=\"barcode\"; style=\"color: black; background-color: #c9eaf6\">&nbsp and&nbsp</span><span class=\"barcode\"; style=\"color: black; background-color: #48b6df\">&nbsp Lisa&nbsp</span><span class=\"barcode\"; style=\"color: black; background-color: #eff9fc\">&nbsp went&nbsp</span><span class=\"barcode\"; style=\"color: black; background-color: #f3fafd\">&nbsp to&nbsp</span><span class=\"barcode\"; style=\"color: black; background-color: #f4fbfd\">&nbsp the&nbsp</span><span class=\"barcode\"; style=\"color: black; background-color: #eef8fc\">&nbsp store&nbsp</span><span class=\"barcode\"; style=\"color: black; background-color: #eef8fc\">&nbsp.&nbsp</span><span class=\"barcode\"; style=\"color: black; background-color: #ddf2f9\">&nbsp Eric&nbsp</span><span class=\"barcode\"; style=\"color: black; background-color: #e7f6fb\">&nbsp gave&nbsp</span><span class=\"barcode\"; style=\"color: black; background-color: #f4fbfd\">&nbsp a&nbsp</span><span class=\"barcode\"; style=\"color: black; background-color: #e9f6fb\">&nbsp necklace&nbsp</span><span class=\"barcode\"; style=\"color: black; background-color: #f1f9fc\">&nbsp to&nbsp</span>"
      ],
      "text/plain": [
       "<IPython.core.display.HTML object>"
      ]
     },
     "metadata": {},
     "output_type": "display_data"
    }
   ],
   "source": [
    "for example_idx in range(10):\n",
    "    ablation_sets = [tuple(Node(0, pos, head) for head in range(12)) for pos in range(16)]\n",
    "    target_nodes = []\n",
    "    text = ioi_dataset.sentences[example_idx]\n",
    "    encoding = model.tokenizer.encode_plus(text, \n",
    "                                     add_special_tokens=True, \n",
    "                                     max_length=512,\n",
    "                                     truncation=True, \n",
    "                                     padding = \"longest\", \n",
    "                                     return_attention_mask=True, \n",
    "                                     return_tensors=\"pt\").to(device)\n",
    "    encoding_idxs, attention_mask = encoding.input_ids, encoding.attention_mask\n",
    "    input_shape = encoding_idxs.size()\n",
    "    extended_attention_mask = get_extended_attention_mask(attention_mask, \n",
    "                                                            input_shape, \n",
    "                                                            model,\n",
    "                                                        device)\n",
    "    out_decomps, _, _, pre_layer_activations = prop_GPT(encoding_idxs[0:1, :], extended_attention_mask, model, ablation_sets, target_nodes=target_nodes, device=device, mean_acts=mean_acts, set_irrel_to_mean=True)\n",
    "    rel_word_scores, irrel_word_scores = get_word_scores(out_decomps, ioi_dataset, example_idx)\n",
    "    tokens = ioi_dataset.tokenized_prompts[example_idx].split('|')[:-1]\n",
    "    s = colorize(tokens, rel_word_scores[:-1])\n",
    "    print(rel_word_scores[:-1])\n",
    "    # s = colorize(tokens, [r - i for (r, i) in zip(rel_word_scores, irrel_word_scores)])\n",
    "    display(HTML(s))\n",
    "    "
   ]
  },
  {
   "cell_type": "code",
   "execution_count": 22,
   "id": "fc3f6b47-439f-4fe0-b987-a8b2a1264258",
   "metadata": {
    "tags": []
   },
   "outputs": [],
   "source": [
    "import bisect\n",
    "def interquartile_range(results, iqr_multiplier=1):\n",
    "    # assume sorted in increasing order\n",
    "    third_quartile = results[int(len(results) * 0.75)].score\n",
    "    first_quartile = results[int(len(results) * 0.25)].score\n",
    "    IQR = third_quartile - first_quartile\n",
    "    outlier_score = third_quartile + iqr_multiplier * IQR\n",
    "    print(third_quartile, first_quartile, outlier_score)\n",
    "\n",
    "    by_score = operator.attrgetter('score')\n",
    "    outliers = results[bisect.bisect(results, outlier_score, key=by_score):]\n",
    "    return outliers"
   ]
  },
  {
   "cell_type": "code",
   "execution_count": 23,
   "id": "26ff1e97-c772-4063-8b4c-e9705185498e",
   "metadata": {
    "tags": []
   },
   "outputs": [],
   "source": [
    "def n_sigma_rule(results, n=3):\n",
    "    scores = [r.score for r in results]\n",
    "    std_dev = np.std(scores)\n",
    "    mean = np.mean(scores)\n",
    "    outlier_score = mean + std_dev * n\n",
    "    print(std_dev, mean, outlier_score)\n",
    "    by_score = operator.attrgetter('score')\n",
    "    outliers = results[bisect.bisect(results, outlier_score, key=by_score):] #bisect does a binary search, returns idx of outlier_score\n",
    "    return outliers"
   ]
  },
  {
   "cell_type": "code",
   "execution_count": 61,
   "id": "effd20fb-68cd-41df-99a8-a2c44bff8038",
   "metadata": {
    "tags": []
   },
   "outputs": [
    {
     "name": "stdout",
     "output_type": "stream",
     "text": [
      "0.0048643267 0.0020574331 0.007671220228075981\n",
      "1\n",
      "0.0033118916 0.0037320566 0.005388002377003431\n",
      "1\n"
     ]
    }
   ],
   "source": [
    "results.sort(key=operator.attrgetter('score'), reverse=False)\n",
    "iqr = interquartile_range(results)\n",
    "print(len(iqr))\n",
    "outliers = n_sigma_rule(results, n=0.5)\n",
    "print(len(outliers))"
   ]
  }
 ],
 "metadata": {
  "kernelspec": {
   "display_name": "Python 3.12 (ipykernel)",
   "language": "python",
   "name": "python3.12"
  },
  "language_info": {
   "codemirror_mode": {
    "name": "ipython",
    "version": 3
   },
   "file_extension": ".py",
   "mimetype": "text/x-python",
   "name": "python",
   "nbconvert_exporter": "python",
   "pygments_lexer": "ipython3",
   "version": "3.12.2"
  }
 },
 "nbformat": 4,
 "nbformat_minor": 5
}
