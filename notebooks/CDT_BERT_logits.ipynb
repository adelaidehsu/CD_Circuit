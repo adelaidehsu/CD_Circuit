{
 "cells": [
  {
   "cell_type": "code",
   "execution_count": 1,
   "id": "cd89acf9-7787-4e95-9cf1-f30aba767cd2",
   "metadata": {
    "tags": []
   },
   "outputs": [],
   "source": [
    "%load_ext autoreload\n",
    "%autoreload 2"
   ]
  },
  {
   "cell_type": "code",
   "execution_count": 2,
   "id": "8a120102",
   "metadata": {
    "tags": []
   },
   "outputs": [],
   "source": [
    "import argparse\n",
    "import numpy as np\n",
    "import os\n",
    "import pandas as pd\n",
    "import scipy as sp\n",
    "import sys\n",
    "import torch\n",
    "import torch.nn.functional as F\n",
    "import warnings\n",
    "import random\n",
    "import collections\n",
    "\n",
    "# CD-T Imports\n",
    "import tqdm\n",
    "import seaborn as sns\n",
    "import matplotlib.pyplot as plt\n",
    "import matplotlib.cm as cm\n",
    "import matplotlib.colors as mcolors\n",
    "import pickle\n",
    "import json\n",
    "\n",
    "from torch import nn\n",
    "\n",
    "warnings.filterwarnings(\"ignore\")\n",
    "\n",
    "base_dir = os.path.split(os.getcwd())[0]\n",
    "sys.path.append(base_dir)\n",
    "\n",
    "from argparse import Namespace\n",
    "from methods.bag_of_ngrams.processing import cleanReports, cleanSplit, stripChars\n",
    "from pyfunctions.general import extractListFromDic, readJson, combine_token_attn, compute_word_intervals\n",
    "from pyfunctions.pathology import extract_synoptic, fixLabelProstateGleason, fixProstateLabels, fixLabel, exclude_labels\n",
    "from pyfunctions.patch import *\n",
    "from sklearn import preprocessing\n",
    "from sklearn.model_selection import train_test_split\n",
    "from torch.utils.data import DataLoader, RandomSampler, SequentialSampler, TensorDataset\n",
    "from transformers import AutoTokenizer, AutoModel\n",
    "from transformers import BertTokenizer, BertForSequenceClassification"
   ]
  },
  {
   "cell_type": "code",
   "execution_count": 3,
   "id": "f6d6ada4-4781-4789-b3b1-1d044c11b3d3",
   "metadata": {
    "tags": []
   },
   "outputs": [
    {
     "data": {
      "text/plain": [
       "<torch.autograd.grad_mode.set_grad_enabled at 0x71f9563dd280>"
      ]
     },
     "execution_count": 3,
     "metadata": {},
     "output_type": "execute_result"
    }
   ],
   "source": [
    "torch.autograd.set_grad_enabled(False)"
   ]
  },
  {
   "cell_type": "markdown",
   "id": "e7651660-7f59-4b59-a574-afecc52dc306",
   "metadata": {
    "user_expressions": []
   },
   "source": [
    "## Model Arguments"
   ]
  },
  {
   "cell_type": "code",
   "execution_count": 4,
   "id": "c3183be1-3bf6-4f5a-8134-9bdd83db0a56",
   "metadata": {
    "tags": []
   },
   "outputs": [],
   "source": [
    "args = {\n",
    "    'model_type': 'bert', # bert, medical_bert, pubmed_bert, biobert, clinical_biobert\n",
    "    'task': 'path',\n",
    "    'field': 'PrimaryGleason'\n",
    "}\n",
    "\n",
    "device = 'cpu'"
   ]
  },
  {
   "cell_type": "code",
   "execution_count": 5,
   "id": "8053ccd9",
   "metadata": {
    "tags": []
   },
   "outputs": [],
   "source": [
    "if args['model_type'] == 'bert':\n",
    "    bert_path = 'bert-base-uncased'\n",
    "    tokenizer = BertTokenizer.from_pretrained('bert-base-uncased')\n",
    "elif args['model_type'] == 'medical_bert':\n",
    "    bert_path = f\"{base_dir}/models/pretrained/bert_pretrain_output_all_notes_150000/\"\n",
    "    tokenizer = BertTokenizer.from_pretrained(bert_path, local_files_only=True)\n",
    "elif args['model_type'] == 'pubmed_bert':\n",
    "    bert_path = \"microsoft/BiomedNLP-PubMedBERT-base-uncased-abstract\"\n",
    "    tokenizer = AutoTokenizer.from_pretrained(\"microsoft/BiomedNLP-PubMedBERT-base-uncased-abstract\")\n",
    "elif args['model_type'] == 'pubmed_bert_full':\n",
    "    bert_path = \"microsoft/BiomedNLP-PubMedBERT-base-uncased-abstract-fulltext\"\n",
    "    tokenizer = AutoTokenizer.from_pretrained(\"microsoft/BiomedNLP-PubMedBERT-base-uncased-abstract-fulltext\")\n",
    "elif args['model_type'] == 'biobert':\n",
    "    bert_path = \"dmis-lab/biobert-v1.1\"\n",
    "    tokenizer = AutoTokenizer.from_pretrained(\"dmis-lab/biobert-v1.1\")\n",
    "elif args['model_type'] == 'clinical_biobert':\n",
    "    bert_path = \"emilyalsentzer/Bio_ClinicalBERT\"\n",
    "    tokenizer = AutoTokenizer.from_pretrained(\"emilyalsentzer/Bio_ClinicalBERT\")"
   ]
  },
  {
   "cell_type": "markdown",
   "id": "a836de3c-46aa-4c5f-a16a-7c1b8e832c71",
   "metadata": {
    "user_expressions": []
   },
   "source": [
    "## Load data"
   ]
  },
  {
   "cell_type": "markdown",
   "id": "502827dc-85fc-43d1-8d70-0f0210ffcfe0",
   "metadata": {
    "user_expressions": []
   },
   "source": [
    "you can cutomize the code here to read in your own data."
   ]
  },
  {
   "cell_type": "code",
   "execution_count": 6,
   "id": "4ea84464",
   "metadata": {
    "tags": []
   },
   "outputs": [
    {
     "name": "stderr",
     "output_type": "stream",
     "text": [
      "Token indices sequence length is longer than the specified maximum sequence length for this model (1345 > 512). Running this sequence through the model will result in indexing errors\n"
     ]
    },
    {
     "name": "stdout",
     "output_type": "stream",
     "text": [
      "2066 517 324\n"
     ]
    }
   ],
   "source": [
    "# Read in data\n",
    "#field = 'PrimaryGleason' # out of PrimaryGleason, SecondaryGleason', 'MarginStatusNone', 'SeminalVesicleNone'\n",
    "path = f\"../data/prostate.json\"\n",
    "data = readJson(path)\n",
    "\n",
    "# Clean reports\n",
    "data = cleanSplit(data, stripChars)\n",
    "data['dev_test'] = cleanReports(data['dev_test'], stripChars)\n",
    "data = fixLabel(data)\n",
    "\n",
    "train_documents = [extract_synoptic(patient['document'].lower(), tokenizer) for patient in data['train']]\n",
    "val_documents = [extract_synoptic(patient['document'].lower(), tokenizer) for patient in data['val']]\n",
    "test_documents = [extract_synoptic(patient['document'].lower(), tokenizer) for patient in data['test']]\n",
    "print(len(train_documents), len(val_documents),len(test_documents))"
   ]
  },
  {
   "cell_type": "code",
   "execution_count": 7,
   "id": "5df4aea9",
   "metadata": {
    "tags": []
   },
   "outputs": [],
   "source": [
    "# Create datasets\n",
    "train_labels = [patient['labels'][args['field']] for patient in data['train']]\n",
    "val_labels = [patient['labels'][args['field']] for patient in data['val']]\n",
    "test_labels = [patient['labels'][args['field']] for patient in data['test']]\n",
    "\n",
    "train_documents, train_labels = exclude_labels(train_documents, train_labels)\n",
    "val_documents, val_labels = exclude_labels(val_documents, val_labels)\n",
    "test_documents, test_labels = exclude_labels(test_documents, test_labels)\n",
    "\n",
    "le = preprocessing.LabelEncoder()\n",
    "le.fit(train_labels)\n",
    "\n",
    "# Map raw label to processed label\n",
    "le_dict = dict(zip(le.classes_, le.transform(le.classes_)))\n",
    "le_dict = {str(key):le_dict[key] for key in le_dict}\n",
    "\n",
    "for label in val_labels + test_labels:\n",
    "    if str(label) not in le_dict:\n",
    "        le_dict[str(label)] = len(le_dict)\n",
    "\n",
    "# Map processed label back to raw label\n",
    "inv_le_dict = {v: k for k, v in le_dict.items()}"
   ]
  },
  {
   "cell_type": "code",
   "execution_count": 8,
   "id": "d23e85ca",
   "metadata": {
    "tags": []
   },
   "outputs": [],
   "source": [
    "documents_full = train_documents + val_documents + test_documents\n",
    "labels_full = train_labels + val_labels + test_labels"
   ]
  },
  {
   "cell_type": "markdown",
   "id": "a6ffd4d3-5e8f-4587-bb2a-f06b61918c09",
   "metadata": {
    "user_expressions": []
   },
   "source": [
    "## Load Trained Models"
   ]
  },
  {
   "cell_type": "code",
   "execution_count": 9,
   "id": "dd45f9a1",
   "metadata": {
    "tags": []
   },
   "outputs": [
    {
     "data": {
      "text/plain": [
       "BertForSequenceClassification(\n",
       "  (bert): BertModel(\n",
       "    (embeddings): BertEmbeddings(\n",
       "      (word_embeddings): Embedding(30522, 768, padding_idx=0)\n",
       "      (position_embeddings): Embedding(512, 768)\n",
       "      (token_type_embeddings): Embedding(2, 768)\n",
       "      (LayerNorm): LayerNorm((768,), eps=1e-12, elementwise_affine=True)\n",
       "      (dropout): Dropout(p=0.1, inplace=False)\n",
       "    )\n",
       "    (encoder): BertEncoder(\n",
       "      (layer): ModuleList(\n",
       "        (0-11): 12 x BertLayer(\n",
       "          (attention): BertAttention(\n",
       "            (self): BertSdpaSelfAttention(\n",
       "              (query): Linear(in_features=768, out_features=768, bias=True)\n",
       "              (key): Linear(in_features=768, out_features=768, bias=True)\n",
       "              (value): Linear(in_features=768, out_features=768, bias=True)\n",
       "              (dropout): Dropout(p=0.1, inplace=False)\n",
       "            )\n",
       "            (output): BertSelfOutput(\n",
       "              (dense): Linear(in_features=768, out_features=768, bias=True)\n",
       "              (LayerNorm): LayerNorm((768,), eps=1e-12, elementwise_affine=True)\n",
       "              (dropout): Dropout(p=0.1, inplace=False)\n",
       "            )\n",
       "          )\n",
       "          (intermediate): BertIntermediate(\n",
       "            (dense): Linear(in_features=768, out_features=3072, bias=True)\n",
       "            (intermediate_act_fn): GELUActivation()\n",
       "          )\n",
       "          (output): BertOutput(\n",
       "            (dense): Linear(in_features=3072, out_features=768, bias=True)\n",
       "            (LayerNorm): LayerNorm((768,), eps=1e-12, elementwise_affine=True)\n",
       "            (dropout): Dropout(p=0.1, inplace=False)\n",
       "          )\n",
       "        )\n",
       "      )\n",
       "    )\n",
       "    (pooler): BertPooler(\n",
       "      (dense): Linear(in_features=768, out_features=768, bias=True)\n",
       "      (activation): Tanh()\n",
       "    )\n",
       "  )\n",
       "  (dropout): Dropout(p=0.1, inplace=False)\n",
       "  (classifier): Linear(in_features=768, out_features=3, bias=True)\n",
       ")"
      ]
     },
     "execution_count": 9,
     "metadata": {},
     "output_type": "execute_result"
    }
   ],
   "source": [
    "#load finetuned model\n",
    "model_path = f\"{base_dir}/PG_best_ckpts/bert\" # /{args['model_type']}_{args['field']}\"\n",
    "checkpoint_file = f\"{model_path}/save_output\"\n",
    "# config_file = f\"{model_path}/save_output/config.json\"\n",
    "\n",
    "model = BertForSequenceClassification.from_pretrained(checkpoint_file, num_labels=len(le_dict), output_hidden_states=True)\n",
    "\n",
    "model = model.eval()\n",
    "model.to(device)"
   ]
  },
  {
   "cell_type": "code",
   "execution_count": 15,
   "id": "3f772304",
   "metadata": {},
   "outputs": [
    {
     "data": {
      "text/plain": [
       "BertForSequenceClassification(\n",
       "  (bert): BertModel(\n",
       "    (embeddings): BertEmbeddings(\n",
       "      (word_embeddings): Embedding(30522, 768, padding_idx=0)\n",
       "      (position_embeddings): Embedding(512, 768)\n",
       "      (token_type_embeddings): Embedding(2, 768)\n",
       "      (LayerNorm): LayerNorm((768,), eps=1e-12, elementwise_affine=True)\n",
       "      (dropout): Dropout(p=0.1, inplace=False)\n",
       "    )\n",
       "    (encoder): BertEncoder(\n",
       "      (layer): ModuleList(\n",
       "        (0-11): 12 x BertLayer(\n",
       "          (attention): BertAttention(\n",
       "            (self): BertSdpaSelfAttention(\n",
       "              (query): Linear(in_features=768, out_features=768, bias=True)\n",
       "              (key): Linear(in_features=768, out_features=768, bias=True)\n",
       "              (value): Linear(in_features=768, out_features=768, bias=True)\n",
       "              (dropout): Dropout(p=0.1, inplace=False)\n",
       "            )\n",
       "            (output): BertSelfOutput(\n",
       "              (dense): Linear(in_features=768, out_features=768, bias=True)\n",
       "              (LayerNorm): LayerNorm((768,), eps=1e-12, elementwise_affine=True)\n",
       "              (dropout): Dropout(p=0.1, inplace=False)\n",
       "            )\n",
       "          )\n",
       "          (intermediate): BertIntermediate(\n",
       "            (dense): Linear(in_features=768, out_features=3072, bias=True)\n",
       "            (intermediate_act_fn): GELUActivation()\n",
       "          )\n",
       "          (output): BertOutput(\n",
       "            (dense): Linear(in_features=3072, out_features=768, bias=True)\n",
       "            (LayerNorm): LayerNorm((768,), eps=1e-12, elementwise_affine=True)\n",
       "            (dropout): Dropout(p=0.1, inplace=False)\n",
       "          )\n",
       "        )\n",
       "      )\n",
       "    )\n",
       "    (pooler): BertPooler(\n",
       "      (dense): Linear(in_features=768, out_features=768, bias=True)\n",
       "      (activation): Tanh()\n",
       "    )\n",
       "  )\n",
       "  (dropout): Dropout(p=0.1, inplace=False)\n",
       "  (classifier): Linear(in_features=768, out_features=3, bias=True)\n",
       ")"
      ]
     },
     "execution_count": 15,
     "metadata": {},
     "output_type": "execute_result"
    }
   ],
   "source": [
    "model.to(device)"
   ]
  },
  {
   "cell_type": "markdown",
   "id": "9c47f12e-74aa-4c25-a2a6-1230a32bfe60",
   "metadata": {
    "tags": [],
    "user_expressions": []
   },
   "source": [
    "# Test systematic bias and collect head activations"
   ]
  },
  {
   "cell_type": "code",
   "execution_count": 18,
   "id": "fd4b17cf-c841-48e5-9ebf-86be83c9c66f",
   "metadata": {
    "tags": []
   },
   "outputs": [
    {
     "name": "stderr",
     "output_type": "stream",
     "text": [
      "100%|██████████| 500/500 [03:27<00:00,  2.41it/s]\n"
     ]
    }
   ],
   "source": [
    "# variance of head output across samples\n",
    "# size of head output (context) -> torch.Size([1, 512, 768])\n",
    "\n",
    "with torch.no_grad():\n",
    "    NUM_SAMPLES = 500\n",
    "    POS = 0\n",
    "    index_lst = random.sample(range(0, len(documents_full)), NUM_SAMPLES)\n",
    "    docs = [documents_full[i] for i in index_lst]\n",
    "    \n",
    "    collect = []\n",
    "    for doc in tqdm.tqdm(docs):\n",
    "        encoding = get_encoding(doc, tokenizer, device)\n",
    "        _, _, _, context_lst = prop_classifier_model_patched(encoding, model, device, [], output_context=True)\n",
    "        context = np.stack(context_lst)\n",
    "        context_at_pos = context[:, :, POS, :, :].transpose(1,0,2,3).squeeze(0) #[layer, head, d]\n",
    "        collect.append(context_at_pos)\n",
    "    collect = np.stack(collect)"
   ]
  },
  {
   "cell_type": "code",
   "execution_count": 33,
   "id": "797c5182",
   "metadata": {},
   "outputs": [
    {
     "data": {
      "text/plain": [
       "(200, 12, 1, 512, 12, 64)"
      ]
     },
     "execution_count": 33,
     "metadata": {},
     "output_type": "execute_result"
    }
   ],
   "source": [
    "collect.shape\n"
   ]
  },
  {
   "cell_type": "code",
   "execution_count": 34,
   "id": "02a71c6a",
   "metadata": {},
   "outputs": [
    {
     "name": "stdout",
     "output_type": "stream",
     "text": [
      "(12, 512, 12, 64)\n"
     ]
    }
   ],
   "source": [
    "mean_acts = np.mean(collect.squeeze(2), axis=0)\n",
    "print(mean_acts.shape)\n",
    "path = f\"{base_dir}/output/\"\n",
    "\n",
    "with open(os.path.join(path, f\"{args['model_type']}_mean_acts_random_500.pkl\"), 'wb') as handle:\n",
    "    pickle.dump(mean_acts, handle)"
   ]
  },
  {
   "cell_type": "code",
   "execution_count": 86,
   "id": "e5857269-5c7f-463c-9a5d-6c8e6034a155",
   "metadata": {
    "tags": []
   },
   "outputs": [
    {
     "data": {
      "image/png": "[encoded data removed]",
      "text/plain": [
       "<Figure size 640x480 with 2 Axes>"
      ]
     },
     "metadata": {},
     "output_type": "display_data"
    }
   ],
   "source": [
    "var_context = np.var(collect, axis=0) #collect = [N, layer, head, d]\n",
    "avg_var = np.mean(var_context, axis=-1)\n",
    "\n",
    "s = sns.heatmap(avg_var, xticklabels = range(12), yticklabels = range(12), cmap='Blues', cbar_kws={'label': ''})\n",
    "s.set(xlabel='Head', ylabel='Layer')\n",
    "plt.title(\"Variance of Attention Head Output\")\n",
    "plt.show()"
   ]
  },
  {
   "cell_type": "markdown",
   "id": "cc3b9435",
   "metadata": {
    "user_expressions": []
   },
   "source": [
    "## Head to logits direct influence"
   ]
  },
  {
   "cell_type": "code",
   "execution_count": 11,
   "id": "78272157",
   "metadata": {},
   "outputs": [
    {
     "name": "stdout",
     "output_type": "stream",
     "text": [
      "torch.Size([1, 512, 768])\n",
      "torch.Size([768, 768])\n",
      "torch.Size([1, 512, 768])\n",
      "torch.Size([768, 768])\n",
      "torch.Size([1, 512, 768])\n",
      "torch.Size([768, 3072])\n",
      "torch.Size([1, 512, 3072])\n",
      "torch.Size([3072, 768])\n",
      "torch.Size([1, 512, 768])\n",
      "torch.Size([768, 768])\n",
      "torch.Size([1, 512, 768])\n",
      "torch.Size([768, 768])\n",
      "torch.Size([1, 512, 768])\n",
      "torch.Size([768, 3072])\n",
      "torch.Size([1, 512, 3072])\n",
      "torch.Size([3072, 768])\n",
      "torch.Size([1, 512, 768])\n",
      "torch.Size([768, 768])\n",
      "torch.Size([1, 512, 768])\n",
      "torch.Size([768, 768])\n",
      "torch.Size([1, 512, 768])\n",
      "torch.Size([768, 3072])\n",
      "torch.Size([1, 512, 3072])\n",
      "torch.Size([3072, 768])\n",
      "torch.Size([1, 512, 768])\n",
      "torch.Size([768, 768])\n",
      "torch.Size([1, 512, 768])\n",
      "torch.Size([768, 768])\n",
      "torch.Size([1, 512, 768])\n",
      "torch.Size([768, 3072])\n",
      "torch.Size([1, 512, 3072])\n",
      "torch.Size([3072, 768])\n",
      "torch.Size([1, 512, 768])\n",
      "torch.Size([768, 768])\n",
      "torch.Size([1, 512, 768])\n",
      "torch.Size([768, 768])\n",
      "torch.Size([1, 512, 768])\n",
      "torch.Size([768, 3072])\n",
      "torch.Size([1, 512, 3072])\n",
      "torch.Size([3072, 768])\n",
      "torch.Size([1, 512, 768])\n",
      "torch.Size([768, 768])\n",
      "torch.Size([1, 512, 768])\n",
      "torch.Size([768, 768])\n",
      "torch.Size([1, 512, 768])\n",
      "torch.Size([768, 3072])\n",
      "torch.Size([1, 512, 3072])\n",
      "torch.Size([3072, 768])\n",
      "torch.Size([1, 512, 768])\n",
      "torch.Size([768, 768])\n",
      "torch.Size([1, 512, 768])\n",
      "torch.Size([768, 768])\n",
      "torch.Size([1, 512, 768])\n",
      "torch.Size([768, 3072])\n",
      "torch.Size([1, 512, 3072])\n",
      "torch.Size([3072, 768])\n",
      "torch.Size([1, 512, 768])\n",
      "torch.Size([768, 768])\n",
      "torch.Size([1, 512, 768])\n",
      "torch.Size([768, 768])\n",
      "torch.Size([1, 512, 768])\n",
      "torch.Size([768, 3072])\n",
      "torch.Size([1, 512, 3072])\n",
      "torch.Size([3072, 768])\n",
      "torch.Size([1, 512, 768])\n",
      "torch.Size([768, 768])\n",
      "torch.Size([1, 512, 768])\n",
      "torch.Size([768, 768])\n",
      "torch.Size([1, 512, 768])\n",
      "torch.Size([768, 3072])\n",
      "torch.Size([1, 512, 3072])\n",
      "torch.Size([3072, 768])\n",
      "torch.Size([1, 512, 768])\n",
      "torch.Size([768, 768])\n",
      "torch.Size([1, 512, 768])\n",
      "torch.Size([768, 768])\n",
      "torch.Size([1, 512, 768])\n",
      "torch.Size([768, 3072])\n",
      "torch.Size([1, 512, 3072])\n",
      "torch.Size([3072, 768])\n",
      "torch.Size([1, 512, 768])\n",
      "torch.Size([768, 768])\n",
      "torch.Size([1, 512, 768])\n",
      "torch.Size([768, 768])\n",
      "torch.Size([1, 512, 768])\n",
      "torch.Size([768, 3072])\n",
      "torch.Size([1, 512, 3072])\n",
      "torch.Size([3072, 768])\n",
      "torch.Size([1, 512, 768])\n",
      "torch.Size([768, 768])\n",
      "torch.Size([1, 512, 768])\n",
      "torch.Size([768, 768])\n",
      "torch.Size([1, 512, 768])\n",
      "torch.Size([768, 3072])\n",
      "torch.Size([1, 512, 3072])\n",
      "torch.Size([3072, 768])\n",
      "torch.Size([1, 768])\n",
      "torch.Size([768, 768])\n",
      "torch.Size([1, 768])\n",
      "torch.Size([768, 3])\n"
     ]
    }
   ],
   "source": [
    "doc = documents_full[0]\n",
    "label = labels_full[0]\n",
    "encoding = get_encoding(doc, tokenizer, device)\n",
    "# label_idx = le_dict[label]\n",
    "    \n",
    "patched_entry = [(0, 0, 0)]\n",
    "\n",
    "rel, irrel, _, _ = prop_classifier_model_patched(encoding, model, device, patched_entry,\n",
    "                                                             patched_values=None,\n",
    "                                                             mean_ablated=False)"
   ]
  },
  {
   "cell_type": "code",
   "execution_count": 27,
   "id": "d7e5d04d",
   "metadata": {},
   "outputs": [
    {
     "data": {
      "text/plain": [
       "Linear(in_features=768, out_features=3, bias=True)"
      ]
     },
     "execution_count": 27,
     "metadata": {},
     "output_type": "execute_result"
    }
   ],
   "source": [
    "rel.shape\n",
    "irrel.shape\n",
    "model.classifier"
   ]
  },
  {
   "cell_type": "code",
   "execution_count": 11,
   "id": "7a2c23c9-991a-4033-aaf2-e0fc633ac176",
   "metadata": {
    "tags": []
   },
   "outputs": [],
   "source": [
    "def patch_h_to_logits_at_pos(encoding, model, pos, label_idx, device, mean_act=None, mean_ablated=False):\n",
    "    # patch one node at a time\n",
    "    raw_logit = model(**encoding)[0][0][label_idx] # == raw_irrel\n",
    "    h_ctbn_lst = []\n",
    "    for level in range(12):\n",
    "        h_ctbn_lst.append([])\n",
    "        for h in range(12):\n",
    "            patched_entry = [(level, pos, h)]\n",
    "            rel, irrel, _, _ = prop_classifier_model_patched(encoding, model, device, patched_entry,\n",
    "                                                             patched_values=mean_act,\n",
    "                                                             mean_ablated=mean_ablated)\n",
    "            rel = rel[0][label_idx] # head ctbn\n",
    "            h_ctbn_lst[level].append(rel / abs(raw_logit) * 100)\n",
    "\n",
    "        h_ctbn_lst[level] = torch.stack(h_ctbn_lst[level])\n",
    "    h_ctbn_tot = torch.stack(h_ctbn_lst).cpu().numpy()\n",
    "    return h_ctbn_tot"
   ]
  },
  {
   "cell_type": "code",
   "execution_count": 12,
   "id": "b23ede8c-20b9-411d-a67d-40acc74f9d4c",
   "metadata": {
    "tags": []
   },
   "outputs": [],
   "source": [
    "# load in the mean (pre-collected) to do mean ablation\n",
    "path = f\"{base_dir}/output/{args['task']}/{args['model_type']}_{args['field']}/h_to_logits\"\n",
    "os.makedirs(path, exist_ok=True)\n",
    "\n",
    "with open(os.path.join(path, f\"mean_head_out_res_500.pkl\"), 'rb') as handle:\n",
    "    back = pickle.load(handle)"
   ]
  },
  {
   "cell_type": "code",
   "execution_count": 439,
   "id": "e2bd5a04",
   "metadata": {
    "tags": []
   },
   "outputs": [
    {
     "name": "stderr",
     "output_type": "stream",
     "text": [
      "200it [1:04:24, 19.32s/it]\n"
     ]
    }
   ],
   "source": [
    "# zero-ablating single head at a time [this code also allows you to ablate multiple heads]\n",
    "# h -> logits\n",
    "\n",
    "with torch.no_grad():\n",
    "    NUM_SAMPLES = 200\n",
    "    POS = 0\n",
    "    index_lst = random.sample(range(0, len(documents_full)), NUM_SAMPLES)\n",
    "    docs = [documents_full[i] for i in index_lst]\n",
    "    labels = [labels_full[i] for i in index_lst]\n",
    "\n",
    "    h_ctbn = []\n",
    "    for doc, label in tqdm.tqdm(zip(docs, labels)):\n",
    "        encoding = get_encoding(doc, tokenizer, device)\n",
    "        label_idx = le_dict[label]\n",
    "        h_ctbn_tot = patch_h_to_logits_at_pos(encoding, model, POS, label_idx, device)\n",
    "        h_ctbn.append(h_ctbn_tot) #[12, 12] = [Layer, HEAD]\n",
    "\n",
    "    h_ctbn = np.stack(h_ctbn)"
   ]
  },
  {
   "cell_type": "code",
   "execution_count": null,
   "id": "a648abe1-02a1-4de7-abb1-0f7b81d35798",
   "metadata": {},
   "outputs": [],
   "source": [
    "# mean-ablating single head at a time [this code also allows you to ablate multiple heads]\n",
    "# h -> logits\n",
    "        \n",
    "with torch.no_grad():\n",
    "    NUM_SAMPLES = 200\n",
    "    POS = 0\n",
    "    index_lst = random.sample(range(0, len(documents_full)), NUM_SAMPLES)\n",
    "    docs = [documents_full[i] for i in index_lst]\n",
    "    labels = [labels_full[i] for i in index_lst]\n",
    "\n",
    "    h_ctbn = []\n",
    "    for doc, label in tqdm.tqdm(zip(docs, labels)):\n",
    "        encoding = get_encoding(doc, tokenizer, device)\n",
    "        label_idx = le_dict[label]\n",
    "        h_ctbn_tot = patch_h_to_logits_at_pos(encoding, model, POS, label_idx, device,\n",
    "                                              mean_act=back, mean_ablated=True)\n",
    "        h_ctbn.append(h_ctbn_tot) #[12, 12] = [Layer, HEAD]\n",
    "\n",
    "    h_ctbn = np.stack(h_ctbn)"
   ]
  },
  {
   "cell_type": "code",
   "execution_count": 440,
   "id": "f7dd92ff-f9e0-4598-85c7-e268cbad7b87",
   "metadata": {
    "tags": []
   },
   "outputs": [],
   "source": [
    "avg_h_ctbn = np.mean(h_ctbn, axis=0) #avg over samples"
   ]
  },
  {
   "cell_type": "code",
   "execution_count": 17,
   "id": "3f6a115c-79cd-4e9e-928e-8a5ac3a54531",
   "metadata": {
    "tags": []
   },
   "outputs": [
    {
     "ename": "FileNotFoundError",
     "evalue": "[Errno 2] No such file or directory: '/Users/georgiazhou/research-machine1/CD_Circuit/output/path/bert_PrimaryGleason/h_to_logits/singleH_200_mean_ablated_nov15.pkl'",
     "output_type": "error",
     "traceback": [
      "\u001b[0;31m---------------------------------------------------------------------------\u001b[0m",
      "\u001b[0;31mFileNotFoundError\u001b[0m                         Traceback (most recent call last)",
      "Cell \u001b[0;32mIn[17], line 7\u001b[0m\n\u001b[1;32m      2\u001b[0m os\u001b[38;5;241m.\u001b[39mmakedirs(path, exist_ok\u001b[38;5;241m=\u001b[39m\u001b[38;5;28;01mTrue\u001b[39;00m)\n\u001b[1;32m      4\u001b[0m \u001b[38;5;66;03m#with open(os.path.join(path, f\"singleH_{NUM_SAMPLES}_nov15.pkl\"), 'wb') as handle:\u001b[39;00m\n\u001b[1;32m      5\u001b[0m \u001b[38;5;66;03m#    pickle.dump(avg_h_ctbn, handle)\u001b[39;00m\n\u001b[0;32m----> 7\u001b[0m \u001b[38;5;28;01mwith\u001b[39;00m \u001b[38;5;28mopen\u001b[39m(os\u001b[38;5;241m.\u001b[39mpath\u001b[38;5;241m.\u001b[39mjoin(path, \u001b[38;5;124mf\u001b[39m\u001b[38;5;124m\"\u001b[39m\u001b[38;5;124msingleH_200_mean_ablated_nov15.pkl\u001b[39m\u001b[38;5;124m\"\u001b[39m), \u001b[38;5;124m'\u001b[39m\u001b[38;5;124mrb\u001b[39m\u001b[38;5;124m'\u001b[39m) \u001b[38;5;28;01mas\u001b[39;00m handle:\n\u001b[1;32m      8\u001b[0m     back \u001b[38;5;241m=\u001b[39m pickle\u001b[38;5;241m.\u001b[39mload(handle)\n",
      "File \u001b[0;32m~/miniconda3/lib/python3.12/site-packages/IPython/core/interactiveshell.py:310\u001b[0m, in \u001b[0;36m_modified_open\u001b[0;34m(file, *args, **kwargs)\u001b[0m\n\u001b[1;32m    303\u001b[0m \u001b[38;5;28;01mif\u001b[39;00m file \u001b[38;5;129;01min\u001b[39;00m {\u001b[38;5;241m0\u001b[39m, \u001b[38;5;241m1\u001b[39m, \u001b[38;5;241m2\u001b[39m}:\n\u001b[1;32m    304\u001b[0m     \u001b[38;5;28;01mraise\u001b[39;00m \u001b[38;5;167;01mValueError\u001b[39;00m(\n\u001b[1;32m    305\u001b[0m         \u001b[38;5;124mf\u001b[39m\u001b[38;5;124m\"\u001b[39m\u001b[38;5;124mIPython won\u001b[39m\u001b[38;5;124m'\u001b[39m\u001b[38;5;124mt let you open fd=\u001b[39m\u001b[38;5;132;01m{\u001b[39;00mfile\u001b[38;5;132;01m}\u001b[39;00m\u001b[38;5;124m by default \u001b[39m\u001b[38;5;124m\"\u001b[39m\n\u001b[1;32m    306\u001b[0m         \u001b[38;5;124m\"\u001b[39m\u001b[38;5;124mas it is likely to crash IPython. If you know what you are doing, \u001b[39m\u001b[38;5;124m\"\u001b[39m\n\u001b[1;32m    307\u001b[0m         \u001b[38;5;124m\"\u001b[39m\u001b[38;5;124myou can use builtins\u001b[39m\u001b[38;5;124m'\u001b[39m\u001b[38;5;124m open.\u001b[39m\u001b[38;5;124m\"\u001b[39m\n\u001b[1;32m    308\u001b[0m     )\n\u001b[0;32m--> 310\u001b[0m \u001b[38;5;28;01mreturn\u001b[39;00m io_open(file, \u001b[38;5;241m*\u001b[39margs, \u001b[38;5;241m*\u001b[39m\u001b[38;5;241m*\u001b[39mkwargs)\n",
      "\u001b[0;31mFileNotFoundError\u001b[0m: [Errno 2] No such file or directory: '/Users/georgiazhou/research-machine1/CD_Circuit/output/path/bert_PrimaryGleason/h_to_logits/singleH_200_mean_ablated_nov15.pkl'"
     ]
    }
   ],
   "source": [
    "path = f\"{base_dir}/output/{args['task']}/{args['model_type']}_{args['field']}/h_to_logits\"\n",
    "os.makedirs(path, exist_ok=True)\n",
    "\n",
    "#with open(os.path.join(path, f\"singleH_{NUM_SAMPLES}_nov15.pkl\"), 'wb') as handle:\n",
    "#    pickle.dump(avg_h_ctbn, handle)\n",
    "    \n",
    "with open(os.path.join(path, f\"singleH_200_mean_ablated_nov15.pkl\"), 'rb') as handle:\n",
    "    back = pickle.load(handle)"
   ]
  },
  {
   "cell_type": "code",
   "execution_count": 441,
   "id": "f52aaea4-a392-4cf7-a977-82fe37e9ad61",
   "metadata": {
    "tags": []
   },
   "outputs": [
    {
     "data": {
      "image/png": "[encoded data removed]",
      "text/plain": [
       "<Figure size 640x480 with 2 Axes>"
      ]
     },
     "metadata": {},
     "output_type": "display_data"
    }
   ],
   "source": [
    "# if you want to visualize the effect of each head to logits in a heatmap...\n",
    "# this plot is from zero-ablation\n",
    "\n",
    "cm_max = max(avg_h_ctbn.flatten())\n",
    "cm_min = -cm_max\n",
    "\n",
    "s = sns.heatmap(avg_h_ctbn, xticklabels = range(12), yticklabels = range(12), cmap='RdBu', cbar_kws={'label': '%'},\n",
    "               vmin=cm_min, vmax=cm_max)\n",
    "s.set(xlabel='Head', ylabel='Layer')\n",
    "plt.title(f\"Contribution of Heads to Prediction Logits: CD\")\n",
    "plt.show()"
   ]
  },
  {
   "cell_type": "code",
   "execution_count": 26,
   "id": "1c99a633-533e-4317-b48e-696778dff9e4",
   "metadata": {
    "tags": []
   },
   "outputs": [
    {
     "data": {
      "image/png": "[encoded data removed]",
      "text/plain": [
       "<Figure size 640x480 with 2 Axes>"
      ]
     },
     "metadata": {},
     "output_type": "display_data"
    }
   ],
   "source": [
    "# if you want to visualize the effect of each head to logits in a heatmap...\n",
    "# this plot is from mean-ablation\n",
    "\n",
    "s = sns.heatmap(back, xticklabels = range(12), yticklabels = range(12), cmap='Blues', cbar_kws={'label': '%'})\n",
    "s.set(xlabel='Head', ylabel='Layer')\n",
    "plt.title(f\"Contribution of Heads to Prediction Logits: CD\")\n",
    "plt.show()"
   ]
  },
  {
   "cell_type": "markdown",
   "id": "77bc2046-23b8-4cae-8c45-51f6eae9d9e3",
   "metadata": {
    "user_expressions": []
   },
   "source": [
    "## Extract top N heads and their attended words"
   ]
  },
  {
   "cell_type": "code",
   "execution_count": null,
   "id": "1dc01456-4ee4-4b17-8fe1-ef7f6c797797",
   "metadata": {
    "tags": []
   },
   "outputs": [],
   "source": [
    "# a is the calcuated effect of each head on the logits\n",
    "\n",
    "N = 6\n",
    "a = back\n",
    "top_idxs = np.argsort(a.ravel())[-N:]\n",
    "rows, cols = top_idxs//12, top_idxs%12\n",
    "\n",
    "positives = []\n",
    "for r, c in zip(rows, cols):\n",
    "    positives.append((r, c))"
   ]
  },
  {
   "cell_type": "code",
   "execution_count": 12,
   "id": "47541c67-97b5-4f0a-b385-05c3facdd7a2",
   "metadata": {
    "tags": []
   },
   "outputs": [],
   "source": [
    "def collect_attended_tokens(positives_heads, device, tokenizer, N=100, Z_thres=2, POS=0):\n",
    "    index_lst = random.sample(range(0, len(documents_full)), N)\n",
    "    docs = [documents_full[i] for i in index_lst]\n",
    "    \n",
    "    collect = collections.defaultdict(int)\n",
    "    for doc in docs:\n",
    "        encoding = get_encoding(doc, tokenizer, device)\n",
    "        raw_rel, raw_irrel, raw_att_probs_lst, _ = prop_classifier_model_patched(encoding, model, device, [], output_att_prob=True)\n",
    "        raw_att_probs = torch.stack(raw_att_probs_lst).cpu().numpy()\n",
    "\n",
    "        avg_att_m = np.zeros((512))\n",
    "        for level, h in positives:\n",
    "            att_m = raw_att_probs[level, h, POS, :]\n",
    "            avg_att_m += att_m\n",
    "\n",
    "        avg_att_m /= len(positives)\n",
    "        \n",
    "        # convert to word level\n",
    "        interval_dict, word_lst = compute_word_intervals(encoding, tokenizer)\n",
    "        word_att_m = combine_token_attn(interval_dict, avg_att_m)\n",
    "        \n",
    "        Z = (word_att_m - np.mean(word_att_m)) / np.std(word_att_m)\n",
    "\n",
    "        positive_words = np.where(Z > Z_thres)\n",
    "        \n",
    "        for w_idx in positive_words[0]:\n",
    "            w = word_lst[w_idx]\n",
    "            #collect[w] += 1\n",
    "            collect[w] += word_att_m[w_idx]\n",
    "            \n",
    "    return collect"
   ]
  },
  {
   "cell_type": "code",
   "execution_count": 13,
   "id": "f08e38c6-1bfd-4deb-b732-bea3e7dbb6ae",
   "metadata": {
    "tags": []
   },
   "outputs": [
    {
     "data": {
      "text/html": [
       "<pre style=\"white-space:pre;overflow-x:auto;line-height:normal;font-family:Menlo,'DejaVu Sans Mono',consolas,'Courier New',monospace\"><span style=\"color: #800000; text-decoration-color: #800000\">╭─────────────────────────────── </span><span style=\"color: #800000; text-decoration-color: #800000; font-weight: bold\">Traceback </span><span style=\"color: #bf7f7f; text-decoration-color: #bf7f7f; font-weight: bold\">(most recent call last)</span><span style=\"color: #800000; text-decoration-color: #800000\"> ────────────────────────────────╮</span>\n",
       "<span style=\"color: #800000; text-decoration-color: #800000\">│</span> <span style=\"color: #bfbf7f; text-decoration-color: #bfbf7f\">/tmp/ipykernel_825660/</span><span style=\"color: #808000; text-decoration-color: #808000; font-weight: bold\">1888346581.py</span>:<span style=\"color: #0000ff; text-decoration-color: #0000ff\">1</span> in <span style=\"color: #00ff00; text-decoration-color: #00ff00\">&lt;module&gt;</span>                                                <span style=\"color: #800000; text-decoration-color: #800000\">│</span>\n",
       "<span style=\"color: #800000; text-decoration-color: #800000\">│</span>                                                                                                  <span style=\"color: #800000; text-decoration-color: #800000\">│</span>\n",
       "<span style=\"color: #800000; text-decoration-color: #800000\">│</span> <span style=\"color: #800000; text-decoration-color: #800000; font-style: italic\">[Errno 2] No such file or directory: '/tmp/ipykernel_825660/1888346581.py'</span>                       <span style=\"color: #800000; text-decoration-color: #800000\">│</span>\n",
       "<span style=\"color: #800000; text-decoration-color: #800000\">│</span>                                                                                                  <span style=\"color: #800000; text-decoration-color: #800000\">│</span>\n",
       "<span style=\"color: #800000; text-decoration-color: #800000\">│</span> <span style=\"color: #bfbf7f; text-decoration-color: #bfbf7f\">/tmp/ipykernel_825660/</span><span style=\"color: #808000; text-decoration-color: #808000; font-weight: bold\">4109569869.py</span>:<span style=\"color: #0000ff; text-decoration-color: #0000ff\">12</span> in <span style=\"color: #00ff00; text-decoration-color: #00ff00\">collect_attended_tokens</span>                                <span style=\"color: #800000; text-decoration-color: #800000\">│</span>\n",
       "<span style=\"color: #800000; text-decoration-color: #800000\">│</span>                                                                                                  <span style=\"color: #800000; text-decoration-color: #800000\">│</span>\n",
       "<span style=\"color: #800000; text-decoration-color: #800000\">│</span> <span style=\"color: #800000; text-decoration-color: #800000; font-style: italic\">[Errno 2] No such file or directory: '/tmp/ipykernel_825660/4109569869.py'</span>                       <span style=\"color: #800000; text-decoration-color: #800000\">│</span>\n",
       "<span style=\"color: #800000; text-decoration-color: #800000\">╰──────────────────────────────────────────────────────────────────────────────────────────────────╯</span>\n",
       "<span style=\"color: #ff0000; text-decoration-color: #ff0000; font-weight: bold\">ValueError: </span>too many values to unpack <span style=\"font-weight: bold\">(</span>expected <span style=\"color: #008080; text-decoration-color: #008080; font-weight: bold\">2</span><span style=\"font-weight: bold\">)</span>\n",
       "</pre>\n"
      ],
      "text/plain": [
       "\u001b[31m╭─\u001b[0m\u001b[31m──────────────────────────────\u001b[0m\u001b[31m \u001b[0m\u001b[1;31mTraceback \u001b[0m\u001b[1;2;31m(most recent call last)\u001b[0m\u001b[31m \u001b[0m\u001b[31m───────────────────────────────\u001b[0m\u001b[31m─╮\u001b[0m\n",
       "\u001b[31m│\u001b[0m \u001b[2;33m/tmp/ipykernel_825660/\u001b[0m\u001b[1;33m1888346581.py\u001b[0m:\u001b[94m1\u001b[0m in \u001b[92m<module>\u001b[0m                                                \u001b[31m│\u001b[0m\n",
       "\u001b[31m│\u001b[0m                                                                                                  \u001b[31m│\u001b[0m\n",
       "\u001b[31m│\u001b[0m \u001b[3;31m[Errno 2] No such file or directory: '/tmp/ipykernel_825660/1888346581.py'\u001b[0m                       \u001b[31m│\u001b[0m\n",
       "\u001b[31m│\u001b[0m                                                                                                  \u001b[31m│\u001b[0m\n",
       "\u001b[31m│\u001b[0m \u001b[2;33m/tmp/ipykernel_825660/\u001b[0m\u001b[1;33m4109569869.py\u001b[0m:\u001b[94m12\u001b[0m in \u001b[92mcollect_attended_tokens\u001b[0m                                \u001b[31m│\u001b[0m\n",
       "\u001b[31m│\u001b[0m                                                                                                  \u001b[31m│\u001b[0m\n",
       "\u001b[31m│\u001b[0m \u001b[3;31m[Errno 2] No such file or directory: '/tmp/ipykernel_825660/4109569869.py'\u001b[0m                       \u001b[31m│\u001b[0m\n",
       "\u001b[31m╰──────────────────────────────────────────────────────────────────────────────────────────────────╯\u001b[0m\n",
       "\u001b[1;91mValueError: \u001b[0mtoo many values to unpack \u001b[1m(\u001b[0mexpected \u001b[1;36m2\u001b[0m\u001b[1m)\u001b[0m\n"
      ]
     },
     "metadata": {},
     "output_type": "display_data"
    }
   ],
   "source": [
    "positive_attended_token_freq = collect_attended_tokens(positives, device, tokenizer, N=500, Z_thres=2)\n",
    "positive_attended_token_freq = sorted(positive_attended_token_freq.items(), key=lambda k_v: k_v[1], reverse=True)"
   ]
  },
  {
   "cell_type": "code",
   "execution_count": 109,
   "id": "83551f85-b6a3-489c-bf38-67ac3901825b",
   "metadata": {
    "tags": []
   },
   "outputs": [],
   "source": [
    "with open('result_top1.json', 'w') as fp:\n",
    "    json.dump(positive_attended_token_freq, fp)"
   ]
  },
  {
   "cell_type": "markdown",
   "id": "1dc3e012-2859-4ba9-9543-746727379c0f",
   "metadata": {
    "user_expressions": []
   },
   "source": [
    "## Extra: Ablate with means of different label groups"
   ]
  },
  {
   "cell_type": "code",
   "execution_count": null,
   "id": "0ef70143-71be-4ca1-b608-936a7bb4cae4",
   "metadata": {},
   "outputs": [],
   "source": [
    "label_idx_4_5 = [] #934\n",
    "label_idx_4 = [] #855\n",
    "label_idx_5 = [] #79\n",
    "label_idx_3 = [] #1934\n",
    "\n",
    "for i, x in enumerate(labels_full):\n",
    "    if x == '4':\n",
    "        label_idx_4_5.append(i)\n",
    "        label_idx_4.append(i)\n",
    "    elif x == '5':\n",
    "        label_idx_4_5.append(i)\n",
    "        label_idx_5.append(i)\n",
    "    elif x == '3':\n",
    "        label_idx_3.append(i)"
   ]
  },
  {
   "cell_type": "code",
   "execution_count": null,
   "id": "44ca1f3b-074b-40c8-aa30-383e70dc7c95",
   "metadata": {},
   "outputs": [],
   "source": [
    "path = f\"{base_dir}/output/{args['task']}/{args['model_type']}_{args['field']}/h_to_logits\"\n",
    "os.makedirs(path, exist_ok=True)\n",
    "\n",
    "#with open(os.path.join(path, f\"mean_head_out_res_{NUM_SAMPLES}.pkl\"), 'wb') as handle:\n",
    "#    pickle.dump(mean_act, handle)\n",
    "    \n",
    "with open(os.path.join(path, f\"mean_head_out_res_label4_5_500.pkl\"), 'rb') as handle:\n",
    "    back = pickle.load(handle)"
   ]
  },
  {
   "cell_type": "code",
   "execution_count": null,
   "id": "810affd9-85bc-4136-8b6f-77b0fd3ea2c4",
   "metadata": {},
   "outputs": [],
   "source": [
    "with torch.no_grad():\n",
    "    NUM_SAMPLES = 200\n",
    "    POS = 0\n",
    "    index_lst = random.sample(label_idx_3, NUM_SAMPLES)\n",
    "    docs = [documents_full[i] for i in index_lst]\n",
    "    labels = [labels_full[i] for i in index_lst]\n",
    "\n",
    "    h_ctbn = []\n",
    "    for doc, label in tqdm.tqdm(zip(docs, labels)):\n",
    "        encoding = get_encoding(doc, tokenizer, device)\n",
    "        label_idx = le_dict[label]\n",
    "        h_ctbn_tot = patch_h_to_logits_at_pos(encoding, model, POS, label_idx, device,\n",
    "                                              mean_act=back, mean_ablated=True)\n",
    "        h_ctbn.append(h_ctbn_tot) #[12, 12] = [Layer, HEAD]\n",
    "\n",
    "    h_ctbn = np.stack(h_ctbn)"
   ]
  },
  {
   "cell_type": "markdown",
   "id": "26f3e65e-d0ba-4899-85ce-881f9ed50261",
   "metadata": {
    "user_expressions": []
   },
   "source": []
  }
 ],
 "metadata": {
  "kernelspec": {
   "display_name": "Python 3 (ipykernel)",
   "language": "python",
   "name": "python3"
  },
  "language_info": {
   "codemirror_mode": {
    "name": "ipython",
    "version": 3
   },
   "file_extension": ".py",
   "mimetype": "text/x-python",
   "name": "python",
   "nbconvert_exporter": "python",
   "pygments_lexer": "ipython3",
   "version": "3.12.3"
  }
 },
 "nbformat": 4,
 "nbformat_minor": 5
}
