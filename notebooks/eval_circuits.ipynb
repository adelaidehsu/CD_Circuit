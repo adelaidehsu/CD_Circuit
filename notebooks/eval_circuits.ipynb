{
 "cells": [
  {
   "cell_type": "code",
   "execution_count": 1,
   "id": "cbe2aa68-7c7b-4869-b3c5-0451d23d3614",
   "metadata": {
    "tags": []
   },
   "outputs": [],
   "source": [
    "%load_ext autoreload\n",
    "%autoreload 2"
   ]
  },
  {
   "cell_type": "code",
   "execution_count": 2,
   "id": "09fb8375-697a-4846-b277-83f21fd4ac13",
   "metadata": {
    "tags": []
   },
   "outputs": [
    {
     "ename": "ModuleNotFoundError",
     "evalue": "No module named 'pyfunctions.cd'",
     "output_type": "error",
     "traceback": [
      "\u001b[0;31m---------------------------------------------------------------------------\u001b[0m",
      "\u001b[0;31mModuleNotFoundError\u001b[0m                       Traceback (most recent call last)",
      "Cell \u001b[0;32mIn[2], line 31\u001b[0m\n\u001b[1;32m     29\u001b[0m \u001b[38;5;28;01mfrom\u001b[39;00m \u001b[38;5;21;01mpyfunctions\u001b[39;00m\u001b[38;5;21;01m.\u001b[39;00m\u001b[38;5;21;01mgeneral\u001b[39;00m \u001b[38;5;28;01mimport\u001b[39;00m extractListFromDic, readJson\n\u001b[1;32m     30\u001b[0m \u001b[38;5;28;01mfrom\u001b[39;00m \u001b[38;5;21;01mpyfunctions\u001b[39;00m\u001b[38;5;21;01m.\u001b[39;00m\u001b[38;5;21;01mpathology\u001b[39;00m \u001b[38;5;28;01mimport\u001b[39;00m extract_synoptic, fixLabelProstateGleason, fixProstateLabels, fixLabel, exclude_labels\n\u001b[0;32m---> 31\u001b[0m \u001b[38;5;28;01mfrom\u001b[39;00m \u001b[38;5;21;01mpyfunctions\u001b[39;00m\u001b[38;5;21;01m.\u001b[39;00m\u001b[38;5;21;01mcd\u001b[39;00m \u001b[38;5;28;01mimport\u001b[39;00m \u001b[38;5;241m*\u001b[39m\n\u001b[1;32m     32\u001b[0m \u001b[38;5;28;01mfrom\u001b[39;00m \u001b[38;5;21;01msklearn\u001b[39;00m \u001b[38;5;28;01mimport\u001b[39;00m preprocessing\n\u001b[1;32m     33\u001b[0m \u001b[38;5;28;01mfrom\u001b[39;00m \u001b[38;5;21;01msklearn\u001b[39;00m\u001b[38;5;21;01m.\u001b[39;00m\u001b[38;5;21;01mmodel_selection\u001b[39;00m \u001b[38;5;28;01mimport\u001b[39;00m train_test_split\n",
      "\u001b[0;31mModuleNotFoundError\u001b[0m: No module named 'pyfunctions.cd'"
     ]
    }
   ],
   "source": [
    "import argparse\n",
    "import numpy as np\n",
    "import os\n",
    "import pandas as pd\n",
    "import scipy as sp\n",
    "import sys\n",
    "import torch\n",
    "import torch.nn.functional as F\n",
    "import warnings\n",
    "import random\n",
    "import collections\n",
    "\n",
    "# CD-T Imports\n",
    "import os\n",
    "import tqdm\n",
    "import seaborn as sns\n",
    "import matplotlib.pyplot as plt\n",
    "import itertools\n",
    "\n",
    "from torch import nn\n",
    "\n",
    "warnings.filterwarnings(\"ignore\")\n",
    "\n",
    "base_dir = os.path.split(os.getcwd())[0]\n",
    "sys.path.append(base_dir)\n",
    "\n",
    "from argparse import Namespace\n",
    "from methods.bag_of_ngrams.processing import cleanReports, cleanSplit, stripChars\n",
    "from pyfunctions.general import extractListFromDic, readJson\n",
    "from pyfunctions.pathology import extract_synoptic, fixLabelProstateGleason, fixProstateLabels, fixLabel, exclude_labels\n",
    "from pyfunctions.cd import *\n",
    "from sklearn import preprocessing\n",
    "from sklearn.model_selection import train_test_split\n",
    "from torch.utils.data import DataLoader, RandomSampler, SequentialSampler, TensorDataset\n",
    "from transformers import AutoTokenizer, AutoModel\n",
    "from transformers import BertTokenizer, BertForSequenceClassification"
   ]
  },
  {
   "cell_type": "markdown",
   "id": "76f59a54-c233-47d9-ac6a-85e322f65811",
   "metadata": {
    "user_expressions": []
   },
   "source": [
    "## load in model and data"
   ]
  },
  {
   "cell_type": "code",
   "execution_count": 3,
   "id": "d88fcd35-6261-4487-87fa-f6973c565fff",
   "metadata": {
    "tags": []
   },
   "outputs": [
    {
     "data": {
      "text/plain": [
       "<torch.autograd.grad_mode.set_grad_enabled at 0x7f143a888210>"
      ]
     },
     "execution_count": 3,
     "metadata": {},
     "output_type": "execute_result"
    }
   ],
   "source": [
    "torch.autograd.set_grad_enabled(False)"
   ]
  },
  {
   "cell_type": "code",
   "execution_count": 4,
   "id": "b521f795-8f77-4940-b82c-8472c12706ac",
   "metadata": {
    "tags": []
   },
   "outputs": [],
   "source": [
    "args = {\n",
    "    'model_type': 'bert', # bert, medical_bert, pubmed_bert, biobert, clinical_biobert\n",
    "    'task': 'path',\n",
    "    'field': 'PrimaryGleason'\n",
    "}\n",
    "\n",
    "device = 'cuda:0'"
   ]
  },
  {
   "cell_type": "code",
   "execution_count": 5,
   "id": "4f154c09-1db4-47af-9ab2-f57a9665ff40",
   "metadata": {
    "tags": []
   },
   "outputs": [],
   "source": [
    "if args['model_type'] == 'bert':\n",
    "    bert_path = 'bert-base-uncased'\n",
    "    tokenizer = BertTokenizer.from_pretrained('bert-base-uncased')\n",
    "elif args['model_type'] == 'medical_bert':\n",
    "    bert_path = f\"{base_dir}/models/pretrained/bert_pretrain_output_all_notes_150000/\"\n",
    "    tokenizer = BertTokenizer.from_pretrained(bert_path, local_files_only=True)\n",
    "elif args['model_type'] == 'pubmed_bert':\n",
    "    bert_path = \"microsoft/BiomedNLP-PubMedBERT-base-uncased-abstract\"\n",
    "    tokenizer = AutoTokenizer.from_pretrained(\"microsoft/BiomedNLP-PubMedBERT-base-uncased-abstract\")\n",
    "elif args['model_type'] == 'pubmed_bert_full':\n",
    "    bert_path = \"microsoft/BiomedNLP-PubMedBERT-base-uncased-abstract-fulltext\"\n",
    "    tokenizer = AutoTokenizer.from_pretrained(\"microsoft/BiomedNLP-PubMedBERT-base-uncased-abstract-fulltext\")\n",
    "elif args['model_type'] == 'biobert':\n",
    "    bert_path = \"dmis-lab/biobert-v1.1\"\n",
    "    tokenizer = AutoTokenizer.from_pretrained(\"dmis-lab/biobert-v1.1\")\n",
    "elif args['model_type'] == 'clinical_biobert':\n",
    "    bert_path = \"emilyalsentzer/Bio_ClinicalBERT\"\n",
    "    tokenizer = AutoTokenizer.from_pretrained(\"emilyalsentzer/Bio_ClinicalBERT\")"
   ]
  },
  {
   "cell_type": "code",
   "execution_count": 6,
   "id": "33cfa45d-2353-413d-978d-4a8d6c84c6b5",
   "metadata": {
    "tags": []
   },
   "outputs": [
    {
     "name": "stderr",
     "output_type": "stream",
     "text": [
      "Token indices sequence length is longer than the specified maximum sequence length for this model (1345 > 512). Running this sequence through the model will result in indexing errors\n"
     ]
    },
    {
     "name": "stdout",
     "output_type": "stream",
     "text": [
      "2066 517 324\n"
     ]
    }
   ],
   "source": [
    "# Read in data\n",
    "#field = 'PrimaryGleason' # out of PrimaryGleason, SecondaryGleason', 'MarginStatusNone', 'SeminalVesicleNone'\n",
    "path = f\"../data/prostate.json\"\n",
    "data = readJson(path)\n",
    "\n",
    "# Clean reports\n",
    "data = cleanSplit(data, stripChars)\n",
    "data['dev_test'] = cleanReports(data['dev_test'], stripChars)\n",
    "data = fixLabel(data)\n",
    "\n",
    "train_documents = [extract_synoptic(patient['document'].lower(), tokenizer) for patient in data['train']]\n",
    "val_documents = [extract_synoptic(patient['document'].lower(), tokenizer) for patient in data['val']]\n",
    "test_documents = [extract_synoptic(patient['document'].lower(), tokenizer) for patient in data['test']]\n",
    "print(len(train_documents), len(val_documents),len(test_documents))"
   ]
  },
  {
   "cell_type": "code",
   "execution_count": 7,
   "id": "381ca175-375d-4fe1-a9c3-c5da8f4207eb",
   "metadata": {
    "tags": []
   },
   "outputs": [],
   "source": [
    "# Create datasets\n",
    "train_labels = [patient['labels'][args['field']] for patient in data['train']]\n",
    "val_labels = [patient['labels'][args['field']] for patient in data['val']]\n",
    "test_labels = [patient['labels'][args['field']] for patient in data['test']]\n",
    "\n",
    "train_documents, train_labels = exclude_labels(train_documents, train_labels)\n",
    "val_documents, val_labels = exclude_labels(val_documents, val_labels)\n",
    "test_documents, test_labels = exclude_labels(test_documents, test_labels)\n",
    "\n",
    "le = preprocessing.LabelEncoder()\n",
    "le.fit(train_labels)\n",
    "\n",
    "# Map raw label to processed label\n",
    "le_dict = dict(zip(le.classes_, le.transform(le.classes_)))\n",
    "le_dict = {str(key):le_dict[key] for key in le_dict}\n",
    "\n",
    "for label in val_labels + test_labels:\n",
    "    if str(label) not in le_dict:\n",
    "        le_dict[str(label)] = len(le_dict)\n",
    "\n",
    "# Map processed label back to raw label\n",
    "inv_le_dict = {v: k for k, v in le_dict.items()}"
   ]
  },
  {
   "cell_type": "code",
   "execution_count": 8,
   "id": "8694004b-6fc2-4069-a7da-20c21877dc6e",
   "metadata": {
    "tags": []
   },
   "outputs": [],
   "source": [
    "documents_full = train_documents + val_documents + test_documents\n",
    "labels_full = train_labels + val_labels + test_labels"
   ]
  },
  {
   "cell_type": "code",
   "execution_count": 9,
   "id": "96a621fa-78ea-4f35-8a43-4b42b00a9f24",
   "metadata": {
    "tags": []
   },
   "outputs": [
    {
     "data": {
      "text/plain": [
       "BertForSequenceClassification(\n",
       "  (bert): BertModel(\n",
       "    (embeddings): BertEmbeddings(\n",
       "      (word_embeddings): Embedding(30522, 768, padding_idx=0)\n",
       "      (position_embeddings): Embedding(512, 768)\n",
       "      (token_type_embeddings): Embedding(2, 768)\n",
       "      (LayerNorm): LayerNorm((768,), eps=1e-12, elementwise_affine=True)\n",
       "      (dropout): Dropout(p=0.1, inplace=False)\n",
       "    )\n",
       "    (encoder): BertEncoder(\n",
       "      (layer): ModuleList(\n",
       "        (0-11): 12 x BertLayer(\n",
       "          (attention): BertAttention(\n",
       "            (self): BertSelfAttention(\n",
       "              (query): Linear(in_features=768, out_features=768, bias=True)\n",
       "              (key): Linear(in_features=768, out_features=768, bias=True)\n",
       "              (value): Linear(in_features=768, out_features=768, bias=True)\n",
       "              (dropout): Dropout(p=0.1, inplace=False)\n",
       "            )\n",
       "            (output): BertSelfOutput(\n",
       "              (dense): Linear(in_features=768, out_features=768, bias=True)\n",
       "              (LayerNorm): LayerNorm((768,), eps=1e-12, elementwise_affine=True)\n",
       "              (dropout): Dropout(p=0.1, inplace=False)\n",
       "            )\n",
       "          )\n",
       "          (intermediate): BertIntermediate(\n",
       "            (dense): Linear(in_features=768, out_features=3072, bias=True)\n",
       "            (intermediate_act_fn): GELUActivation()\n",
       "          )\n",
       "          (output): BertOutput(\n",
       "            (dense): Linear(in_features=3072, out_features=768, bias=True)\n",
       "            (LayerNorm): LayerNorm((768,), eps=1e-12, elementwise_affine=True)\n",
       "            (dropout): Dropout(p=0.1, inplace=False)\n",
       "          )\n",
       "        )\n",
       "      )\n",
       "    )\n",
       "    (pooler): BertPooler(\n",
       "      (dense): Linear(in_features=768, out_features=768, bias=True)\n",
       "      (activation): Tanh()\n",
       "    )\n",
       "  )\n",
       "  (dropout): Dropout(p=0.1, inplace=False)\n",
       "  (classifier): Linear(in_features=768, out_features=3, bias=True)\n",
       ")"
      ]
     },
     "execution_count": 9,
     "metadata": {},
     "output_type": "execute_result"
    }
   ],
   "source": [
    "#load finetuned model\n",
    "model_path = f\"{base_dir}/models/{args['task']}/{args['model_type']}_{args['field']}\"\n",
    "checkpoint_file = f\"{model_path}/save_output\"\n",
    "config_file = f\"{model_path}/save_output/config.json\"\n",
    "\n",
    "model = BertForSequenceClassification.from_pretrained(checkpoint_file, num_labels=len(le_dict), output_hidden_states=True)\n",
    "\n",
    "model = model.eval()\n",
    "model.to(device)"
   ]
  },
  {
   "cell_type": "code",
   "execution_count": 10,
   "id": "da2ebf5b-acae-44ac-923c-24756f3b9e69",
   "metadata": {
    "tags": []
   },
   "outputs": [],
   "source": [
    "def reshape_separate_attention_heads(context_layer, sa_module):\n",
    "    new_shape = context_layer.size()[:-1] + (sa_module.num_attention_heads, sa_module.attention_head_size)\n",
    "    context_layer = context_layer.view(new_shape)\n",
    "    return context_layer\n",
    "\n",
    "def reshape_concatenate_attention_heads(context_layer, sa_module):\n",
    "    new_shape = context_layer.size()[:-2] + (sa_module.all_head_size,)\n",
    "    context_layer = context_layer.view(*new_shape)\n",
    "    return context_layer\n",
    "\n",
    "def prop_self_attention_patched(rel, irrel, attention_mask, \n",
    "                                head_mask, patched_entries, layer_patched_values,\n",
    "                                sa_module, att_probs = None):\n",
    "    \n",
    "    if att_probs is not None:\n",
    "        att_probs = att_probs\n",
    "    else:\n",
    "        att_probs = get_attention_probs(rel + irrel, attention_mask, head_mask, sa_module)\n",
    "    \n",
    "    rel_value, irrel_value = prop_linear(rel, irrel, sa_module.value)\n",
    "    \n",
    "    rel_context = mul_att(att_probs, rel_value, sa_module)\n",
    "    irrel_context = mul_att(att_probs, irrel_value, sa_module)\n",
    "        \n",
    "    return rel_context, irrel_context\n",
    "    \n",
    "def patch_context_eval(rel, irrel, patched_entries, layer_patched_values, sa_module):\n",
    "    rel = reshape_separate_attention_heads(rel, sa_module)\n",
    "    irrel = reshape_separate_attention_heads(irrel, sa_module)\n",
    "\n",
    "    for i, entry in enumerate(patched_entries):\n",
    "        pos = entry[1]\n",
    "        att_head = entry[2]\n",
    "        \n",
    "        rel[:, pos, att_head, :] = rel[:, pos, att_head, :] + irrel[:, pos, att_head, :]\n",
    "        irrel[:, pos, att_head, :] = 0\n",
    "        \n",
    "    rel = reshape_concatenate_attention_heads(rel, sa_module)\n",
    "    irrel = reshape_concatenate_attention_heads(irrel, sa_module)\n",
    "    return rel, irrel\n",
    "\n",
    "def prop_attention_patched_baseline(rel, irrel, attention_mask, \n",
    "                           head_mask, patched_entries, layer_patched_values, a_module, \n",
    "                           att_probs = None):\n",
    "\n",
    "    \n",
    "    rel_context, irrel_context = prop_self_attention_patched(rel, irrel, \n",
    "                                                             attention_mask, \n",
    "                                                             head_mask, \n",
    "                                                             patched_entries,\n",
    "                                                             layer_patched_values,\n",
    "                                                             a_module.self, att_probs)\n",
    "\n",
    "    output_module = a_module.output\n",
    "    \n",
    "    rel_dense, irrel_dense = prop_linear(rel_context, irrel_context, output_module.dense)\n",
    "    rel_tot = rel_dense + rel\n",
    "    irrel_tot = irrel_dense + irrel\n",
    "        \n",
    "    rel_tot, irrel_tot = patch_context_eval(rel_tot, irrel_tot, patched_entries, layer_patched_values, a_module.self)\n",
    "    \n",
    "    rel_out, irrel_out = prop_layer_norm(rel_tot, irrel_tot, output_module.LayerNorm)\n",
    "    \n",
    "    return rel_out, irrel_out\n",
    "\n",
    "def prop_layer_patched(rel, irrel, attention_mask, head_mask, patched_entries, layer_patched_values, layer_module, att_probs = None):\n",
    "    \n",
    "    rel_a, irrel_a = prop_attention_patched_baseline(rel, irrel, attention_mask, head_mask,\n",
    "                                                     patched_entries, layer_patched_values,\n",
    "                                                     layer_module.attention, att_probs)\n",
    "    \n",
    "    i_module = layer_module.intermediate\n",
    "    rel_id, irrel_id = prop_linear(rel_a, irrel_a, i_module.dense)\n",
    "    rel_iact, irrel_iact = prop_act(rel_id, irrel_id, i_module.intermediate_act_fn)\n",
    "    \n",
    "    o_module = layer_module.output\n",
    "    rel_od, irrel_od = prop_linear(rel_iact, irrel_iact, o_module.dense)\n",
    "    \n",
    "    rel_tot = rel_od + rel_a\n",
    "    irrel_tot = irrel_od + irrel_a\n",
    "    \n",
    "    rel_out, irrel_out = prop_layer_norm(rel_tot, irrel_tot, o_module.LayerNorm)\n",
    "    \n",
    "    # import pdb; pdb.set_trace()\n",
    "    \n",
    "    return rel_out, irrel_out"
   ]
  },
  {
   "cell_type": "code",
   "execution_count": 11,
   "id": "0eaccdee-2832-4146-beae-85c9f3850fbe",
   "metadata": {
    "tags": []
   },
   "outputs": [],
   "source": [
    "def ablate_target_nodes(encoding, model, patched_entries, patched_values=None, att_list = None):\n",
    "    \n",
    "    embedding_output = get_embeddings_bert(encoding, model.bert)\n",
    "    input_shape = encoding['input_ids'].size()\n",
    "    extended_attention_mask = get_extended_attention_mask(attention_mask = encoding['attention_mask'], \n",
    "                                                          input_shape = input_shape, \n",
    "                                                          bert_model = model.bert,\n",
    "                                                          device = device)\n",
    "    \n",
    "    head_mask = [None] * model.bert.config.num_hidden_layers\n",
    "    encoder_module = model.bert.encoder\n",
    "    \n",
    "    sh = list(embedding_output.shape)\n",
    "    \n",
    "    rel = torch.zeros(sh, dtype = embedding_output.dtype, device = device)\n",
    "    irrel = torch.zeros(sh, dtype = embedding_output.dtype, device = device)\n",
    "    \n",
    "    irrel[:] = embedding_output[:]\n",
    "\n",
    "    for i, layer_module in enumerate(encoder_module.layer):\n",
    "        layer_patched_entries = [p_entry for p_entry in patched_entries if p_entry[0] == i]\n",
    "        layer_head_mask = head_mask[i]\n",
    "        att_probs = None\n",
    "        \n",
    "        if patched_values is not None:\n",
    "            layer_patched_values = patched_values[i]\n",
    "        else:\n",
    "            layer_patched_values = None\n",
    "        \n",
    "        rel_n, irrel_n = prop_layer_patched(rel, irrel, extended_attention_mask,\n",
    "                                            layer_head_mask, layer_patched_entries,\n",
    "                                            layer_patched_values,\n",
    "                                            layer_module, att_probs)\n",
    "        normalize_rel_irrel(rel_n, irrel_n)\n",
    "        rel, irrel = rel_n, irrel_n\n",
    "    \n",
    "    rel_pool, irrel_pool = prop_pooler(rel, irrel, model.bert.pooler)\n",
    "    rel_out, irrel_out = prop_linear(rel_pool, irrel_pool, model.classifier)\n",
    "    \n",
    "    return rel_out, irrel_out"
   ]
  },
  {
   "cell_type": "markdown",
   "id": "a09ec026-86d2-4457-8acc-8f01e9541589",
   "metadata": {
    "user_expressions": []
   },
   "source": [
    "## Faithfulness"
   ]
  },
  {
   "cell_type": "code",
   "execution_count": 12,
   "id": "e7fd5ec7-1b5d-4f9a-a9eb-f9e8d05cc942",
   "metadata": {
    "tags": []
   },
   "outputs": [],
   "source": [
    "# the identified attn heads using CD-T\n",
    "CD_C = [(11, 0, 8), (11, 0, 0), (11, 0, 1), (11, 0, 4), (11, 0, 3), (11, 0, 7),\n",
    "        (10, 82, 0), (10, 61, 8), (10, 82, 7), (10, 176, 2), (10, 467, 1), (10, 91, 7),\n",
    "        (7, 82, 11), (7, 82, 0), (7, 82, 6), (9, 82, 0), (9, 91, 7), (8, 82, 0),\n",
    "        (6, 82, 4), (5, 82, 4), (3, 82, 0), (4, 82, 0), (5, 82, 0), (6, 82, 0),\n",
    "        (0, 82, 9), (0, 82, 1), (0, 82, 7), (1, 82, 6), (0, 82, 6), (2, 82, 0)]"
   ]
  },
  {
   "cell_type": "code",
   "execution_count": 26,
   "id": "c70f979c-8ce7-4654-8b1c-0c48d26c4dc8",
   "metadata": {
    "tags": []
   },
   "outputs": [],
   "source": [
    "# the identified attn heads using CD-T\n",
    "CD_C_15 = [(11, 0, 8), (11, 0, 0), (11, 0, 1), (11, 0, 4), (11, 0, 3),# (11, 0, 7),\n",
    "        #(10, 82, 0), (10, 61, 8), (10, 82, 7), (10, 176, 2), (10, 467, 1), (10, 91, 7),\n",
    "        #(7, 82, 11), (7, 82, 0), (7, 82, 6), (9, 82, 0), (9, 91, 7), (8, 82, 0),\n",
    "        (6, 82, 4), (5, 82, 4), (3, 82, 0), (4, 82, 0), (5, 82, 0),# (6, 82, 0),\n",
    "        (0, 82, 9), (0, 82, 1), (0, 82, 7), (1, 82, 6), (0, 82, 6)]#, (2, 82, 0)]\n",
    "\n",
    "# the identified attn heads using path patching(baseline)\n",
    "NLD_C_15 = [(11, 0, 1), (11, 0, 7), (11, 0, 5), (11, 0, 3), (11, 0, 0),# (11, 0, 8),\n",
    "        (8, 132, 1), (8, 275, 0), (6, 397, 1), (8, 66, 6), (8, 380, 8),# (1, 195, 0),\n",
    "        (1, 169, 2), (2, 169, 2), (2, 169, 3), (4, 169, 8), (1, 411, 3)]#, (2, 169, 1)]"
   ]
  },
  {
   "cell_type": "code",
   "execution_count": 25,
   "id": "25a3eb91-36dc-4489-bb21-54dd757cb7ca",
   "metadata": {
    "tags": []
   },
   "outputs": [],
   "source": [
    "# the identified attn heads using path patching(baseline)\n",
    "NLD_C = [(11, 0, 1), (11, 0, 7), (11, 0, 5), (11, 0, 3), (11, 0, 0), (11, 0, 8),\n",
    "        (8, 132, 1), (8, 275, 0), (6, 397, 1), (8, 66, 6), (8, 380, 8), (1, 195, 0),\n",
    "        (1, 169, 2), (2, 169, 2), (2, 169, 3), (4, 169, 8), (1, 411, 3), (2, 169, 1)]"
   ]
  },
  {
   "cell_type": "code",
   "execution_count": 14,
   "id": "abc71f25-4e4f-4473-bda1-2def9c2216ed",
   "metadata": {
    "tags": []
   },
   "outputs": [],
   "source": [
    "NUM_SAMPLES = 200\n",
    "index_lst = random.sample(range(len(test_documents)), NUM_SAMPLES)\n",
    "docs = [test_documents[i] for i in index_lst]\n",
    "labels = [test_labels[i] for i in index_lst]"
   ]
  },
  {
   "cell_type": "code",
   "execution_count": 28,
   "id": "62baab70-fc0a-452a-bd15-fa0bb8982d84",
   "metadata": {
    "tags": []
   },
   "outputs": [
    {
     "name": "stderr",
     "output_type": "stream",
     "text": [
      "200it [00:15, 12.65it/s]\n"
     ]
    },
    {
     "name": "stdout",
     "output_type": "stream",
     "text": [
      "avg log p:  tensor(0.0634, device='cuda:0')\n",
      "acc:  0.9\n"
     ]
    },
    {
     "name": "stderr",
     "output_type": "stream",
     "text": [
      "200it [00:15, 12.62it/s]\n"
     ]
    },
    {
     "name": "stdout",
     "output_type": "stream",
     "text": [
      "avg log p:  tensor(0.0682, device='cuda:0')\n",
      "acc:  0.905\n"
     ]
    },
    {
     "name": "stderr",
     "output_type": "stream",
     "text": [
      "200it [00:15, 12.60it/s]\n"
     ]
    },
    {
     "name": "stdout",
     "output_type": "stream",
     "text": [
      "avg log p:  tensor(0.0680, device='cuda:0')\n",
      "acc:  0.905\n"
     ]
    },
    {
     "name": "stderr",
     "output_type": "stream",
     "text": [
      "200it [00:15, 12.58it/s]\n"
     ]
    },
    {
     "name": "stdout",
     "output_type": "stream",
     "text": [
      "avg log p:  tensor(0.0716, device='cuda:0')\n",
      "acc:  0.91\n"
     ]
    },
    {
     "name": "stderr",
     "output_type": "stream",
     "text": [
      "200it [00:15, 12.59it/s]\n"
     ]
    },
    {
     "name": "stdout",
     "output_type": "stream",
     "text": [
      "avg log p:  tensor(0.0688, device='cuda:0')\n",
      "acc:  0.91\n"
     ]
    },
    {
     "name": "stderr",
     "output_type": "stream",
     "text": [
      "200it [00:15, 12.58it/s]\n"
     ]
    },
    {
     "name": "stdout",
     "output_type": "stream",
     "text": [
      "avg log p:  tensor(0.0642, device='cuda:0')\n",
      "acc:  0.895\n"
     ]
    },
    {
     "name": "stderr",
     "output_type": "stream",
     "text": [
      "200it [00:15, 12.53it/s]\n"
     ]
    },
    {
     "name": "stdout",
     "output_type": "stream",
     "text": [
      "avg log p:  tensor(0.0664, device='cuda:0')\n",
      "acc:  0.915\n"
     ]
    },
    {
     "name": "stderr",
     "output_type": "stream",
     "text": [
      "200it [00:15, 12.57it/s]\n"
     ]
    },
    {
     "name": "stdout",
     "output_type": "stream",
     "text": [
      "avg log p:  tensor(0.0536, device='cuda:0')\n",
      "acc:  0.915\n"
     ]
    },
    {
     "name": "stderr",
     "output_type": "stream",
     "text": [
      "200it [00:15, 12.60it/s]\n"
     ]
    },
    {
     "name": "stdout",
     "output_type": "stream",
     "text": [
      "avg log p:  tensor(0.0693, device='cuda:0')\n",
      "acc:  0.91\n"
     ]
    },
    {
     "name": "stderr",
     "output_type": "stream",
     "text": [
      "200it [00:15, 12.54it/s]"
     ]
    },
    {
     "name": "stdout",
     "output_type": "stream",
     "text": [
      "avg log p:  tensor(0.0673, device='cuda:0')\n",
      "acc:  0.915\n",
      "global avg log p:  tensor(0.0067, device='cuda:0')\n",
      "global acc:  0.0915\n"
     ]
    },
    {
     "name": "stderr",
     "output_type": "stream",
     "text": [
      "\n"
     ]
    }
   ],
   "source": [
    "pos_specific_hs = [\n",
    "            [i for i in range(12)],\n",
    "            [i for i in range(512)],\n",
    "            [i for i in range(12)]\n",
    "        ]\n",
    "all_heads = list(itertools.product(*pos_specific_hs))\n",
    "    \n",
    "for i in range(10):\n",
    "    g_acc = 0\n",
    "    g_logp = 0\n",
    "    #random heads\n",
    "    random_heads = random.sample(all_heads, 15)\n",
    "\n",
    "    with torch.no_grad():\n",
    "        logp = 0\n",
    "        acc = 0\n",
    "\n",
    "        for doc, label in tqdm.tqdm(zip(docs, labels)):\n",
    "            encoding = get_encoding(doc, tokenizer, device)\n",
    "            label_idx = le_dict[label]\n",
    "            circuit_out, rest_out = ablate_target_nodes(encoding, model, random_heads)\n",
    "\n",
    "            logp += circuit_out[0][label_idx]\n",
    "\n",
    "            pred = torch.argmax(circuit_out)\n",
    "            if pred == label_idx:\n",
    "                acc += 1\n",
    "            \n",
    "    print('avg log p: ', logp / NUM_SAMPLES)\n",
    "    print('acc: ', acc / NUM_SAMPLES)\n",
    "    \n",
    "    g_acc += acc / NUM_SAMPLES\n",
    "    g_logp += logp / NUM_SAMPLES\n",
    "\n",
    "print('global avg log p: ', g_logp / 10)\n",
    "print('global acc: ', g_acc / 10)"
   ]
  },
  {
   "cell_type": "code",
   "execution_count": 23,
   "id": "4afa7fea-f1ac-4c92-a1e7-c77cb0c1c586",
   "metadata": {
    "tags": []
   },
   "outputs": [
    {
     "name": "stderr",
     "output_type": "stream",
     "text": [
      "200it [00:15, 12.58it/s]"
     ]
    },
    {
     "name": "stdout",
     "output_type": "stream",
     "text": [
      "avg log p:  tensor(2.1517, device='cuda:0')\n",
      "acc:  0.995\n"
     ]
    },
    {
     "name": "stderr",
     "output_type": "stream",
     "text": [
      "\n"
     ]
    }
   ],
   "source": [
    "#CD_C\n",
    "with torch.no_grad():\n",
    "    logp = 0\n",
    "    acc = 0\n",
    "    \n",
    "    for doc, label in tqdm.tqdm(zip(docs, labels)):\n",
    "        encoding = get_encoding(doc, tokenizer, device)\n",
    "        label_idx = le_dict[label]\n",
    "        circuit_out, rest_out = ablate_target_nodes(encoding, model, CD_C_15)\n",
    "        \n",
    "        logp += circuit_out[0][label_idx]\n",
    "        \n",
    "        pred = torch.argmax(circuit_out)\n",
    "        if pred == label_idx:\n",
    "            acc += 1\n",
    "            \n",
    "print('avg log p: ', logp / NUM_SAMPLES)\n",
    "print('acc: ', acc / NUM_SAMPLES)"
   ]
  },
  {
   "cell_type": "code",
   "execution_count": 27,
   "id": "605f90aa-eae3-4b6b-b86a-0c5c8f8bd940",
   "metadata": {
    "tags": []
   },
   "outputs": [
    {
     "name": "stderr",
     "output_type": "stream",
     "text": [
      "200it [00:15, 12.61it/s]"
     ]
    },
    {
     "name": "stdout",
     "output_type": "stream",
     "text": [
      "avg log p:  tensor(1.9635, device='cuda:0')\n",
      "acc:  0.995\n"
     ]
    },
    {
     "name": "stderr",
     "output_type": "stream",
     "text": [
      "\n"
     ]
    }
   ],
   "source": [
    "#NLD_C\n",
    "with torch.no_grad():\n",
    "    logp = 0\n",
    "    acc = 0\n",
    "    \n",
    "    for doc, label in tqdm.tqdm(zip(docs, labels)):\n",
    "        encoding = get_encoding(doc, tokenizer, device)\n",
    "        label_idx = le_dict[label]\n",
    "        circuit_out, rest_out = ablate_target_nodes(encoding, model, NLD_C_15)\n",
    "        \n",
    "        logp += circuit_out[0][label_idx]\n",
    "        \n",
    "        pred = torch.argmax(circuit_out)\n",
    "        if pred == label_idx:\n",
    "            acc += 1\n",
    "            \n",
    "print('avg log p: ', logp / NUM_SAMPLES)\n",
    "print('acc: ', acc / NUM_SAMPLES)"
   ]
  },
  {
   "cell_type": "code",
   "execution_count": 110,
   "id": "8d804002-526d-4f8d-911d-b9d268343311",
   "metadata": {
    "tags": []
   },
   "outputs": [
    {
     "name": "stderr",
     "output_type": "stream",
     "text": [
      "200it [00:16, 12.48it/s]"
     ]
    },
    {
     "name": "stdout",
     "output_type": "stream",
     "text": [
      "avg log p:  tensor(6.0313, device='cuda:0')\n",
      "acc:  0.995\n"
     ]
    },
    {
     "name": "stderr",
     "output_type": "stream",
     "text": [
      "\n"
     ]
    }
   ],
   "source": [
    "# full circuit\n",
    "with torch.no_grad():\n",
    "    logp = 0\n",
    "    acc = 0\n",
    "    \n",
    "    for doc, label in tqdm.tqdm(zip(docs, labels)):\n",
    "        encoding = get_encoding(doc, tokenizer, device)\n",
    "        label_idx = le_dict[label]\n",
    "        _, out = ablate_target_nodes(encoding, model, [])\n",
    "        \n",
    "        logp += out[0][label_idx]\n",
    "        \n",
    "        pred = torch.argmax(out)\n",
    "        if pred == label_idx:\n",
    "            acc += 1\n",
    "            \n",
    "print('avg log p: ', logp / NUM_SAMPLES)\n",
    "print('acc: ', acc / NUM_SAMPLES)"
   ]
  },
  {
   "cell_type": "markdown",
   "id": "7f5d9989-f182-4098-8f49-dbdacec57d32",
   "metadata": {
    "user_expressions": []
   },
   "source": [
    "## Minimality"
   ]
  },
  {
   "cell_type": "code",
   "execution_count": 111,
   "id": "f76a6bef-5a49-4488-a5e5-027a3555ba66",
   "metadata": {
    "tags": []
   },
   "outputs": [],
   "source": [
    "NUM_SAMPLES = 50\n",
    "index_lst = random.sample(range(len(test_documents)), NUM_SAMPLES)\n",
    "docs = [test_documents[i] for i in index_lst]\n",
    "labels = [test_labels[i] for i in index_lst]"
   ]
  },
  {
   "cell_type": "code",
   "execution_count": 112,
   "id": "f6c31929-3c22-4df0-acf9-1da67c565991",
   "metadata": {
    "tags": []
   },
   "outputs": [
    {
     "name": "stderr",
     "output_type": "stream",
     "text": [
      "50it [00:04, 12.32it/s]"
     ]
    },
    {
     "name": "stdout",
     "output_type": "stream",
     "text": [
      "avg log p:  tensor(6.0814, device='cuda:0')\n",
      "acc:  1.0\n"
     ]
    },
    {
     "name": "stderr",
     "output_type": "stream",
     "text": [
      "\n"
     ]
    }
   ],
   "source": [
    "# full circuit\n",
    "with torch.no_grad():\n",
    "    logp = 0\n",
    "    acc = 0\n",
    "    \n",
    "    for doc, label in tqdm.tqdm(zip(docs, labels)):\n",
    "        encoding = get_encoding(doc, tokenizer, device)\n",
    "        label_idx = le_dict[label]\n",
    "        _, out = ablate_target_nodes(encoding, model, [])\n",
    "        \n",
    "        logp += out[0][label_idx]\n",
    "        \n",
    "        pred = torch.argmax(out)\n",
    "        if pred == label_idx:\n",
    "            acc += 1\n",
    "            \n",
    "print('avg log p: ', logp / NUM_SAMPLES)\n",
    "print('acc: ', acc / NUM_SAMPLES)"
   ]
  },
  {
   "cell_type": "code",
   "execution_count": 115,
   "id": "eaa2e2db-a203-4949-b4d3-6b6d99c01532",
   "metadata": {
    "tags": []
   },
   "outputs": [],
   "source": [
    "FULL_LOGP = 6.0814"
   ]
  },
  {
   "cell_type": "code",
   "execution_count": 96,
   "id": "14af3780-ec4b-4735-a39e-29070bbbf9b1",
   "metadata": {
    "tags": []
   },
   "outputs": [
    {
     "name": "stderr",
     "output_type": "stream",
     "text": [
      "50it [00:18,  2.69it/s]\n",
      "50it [00:20,  2.40it/s]\n",
      "50it [00:19,  2.57it/s]\n",
      "50it [00:19,  2.53it/s]\n",
      "50it [00:20,  2.45it/s]\n",
      "50it [00:19,  2.63it/s]\n",
      "50it [00:21,  2.36it/s]\n",
      "50it [00:18,  2.76it/s]\n",
      "50it [00:22,  2.23it/s]\n",
      "50it [00:17,  2.87it/s]\n",
      "50it [00:22,  2.19it/s]\n",
      "50it [00:16,  3.03it/s]\n",
      "50it [00:23,  2.09it/s]\n",
      "50it [00:16,  3.01it/s]\n",
      "50it [00:23,  2.10it/s]\n",
      "50it [00:16,  3.05it/s]\n",
      "50it [00:23,  2.10it/s]\n",
      "50it [00:16,  3.05it/s]\n",
      "50it [00:23,  2.10it/s]\n",
      "50it [00:16,  3.04it/s]\n",
      "50it [00:23,  2.16it/s]\n",
      "50it [00:17,  2.94it/s]\n",
      "50it [00:22,  2.19it/s]\n",
      "50it [00:17,  2.86it/s]\n",
      "50it [00:22,  2.27it/s]\n",
      "50it [00:18,  2.75it/s]\n",
      "50it [00:21,  2.34it/s]\n",
      "50it [00:18,  2.63it/s]\n",
      "50it [00:20,  2.45it/s]\n",
      "50it [00:19,  2.54it/s]\n"
     ]
    }
   ],
   "source": [
    "# CD_C\n",
    "with torch.no_grad():\n",
    "    v_lst = []\n",
    "    min_score_lst = []\n",
    "    for i in range(5):\n",
    "        K = CD_C[i*6:(i+1)*6]\n",
    "        score = 0\n",
    "        for v in K:\n",
    "            K_minus_v = [h for h in K if h != v]\n",
    "            for doc, label in tqdm.tqdm(zip(docs, labels)):\n",
    "                encoding = get_encoding(doc, tokenizer, device)\n",
    "                label_idx = le_dict[label]\n",
    "                out1, _ = ablate_target_nodes(encoding, model, [v for v in CD_C if v not in K])\n",
    "                out2, _ = ablate_target_nodes(encoding, model, [v for v in CD_C if v not in K_minus_v])\n",
    "\n",
    "                score += abs(out1[0][label_idx] - out2[0][label_idx])\n",
    "            v_lst.append(v)\n",
    "            min_score_lst.append(score.cpu() / NUM_SAMPLES)                "
   ]
  },
  {
   "cell_type": "code",
   "execution_count": 97,
   "id": "3736a117-889c-44f2-862d-e3171431cdd7",
   "metadata": {
    "tags": []
   },
   "outputs": [
    {
     "data": {
      "text/plain": [
       "Text(0, 0.5, 'Change in logit (%)')"
      ]
     },
     "execution_count": 97,
     "metadata": {},
     "output_type": "execute_result"
    },
    {
     "data": {
      "image/png": "[encoded data removed]",
      "text/plain": [
       "<Figure size 640x480 with 1 Axes>"
      ]
     },
     "metadata": {},
     "output_type": "display_data"
    }
   ],
   "source": [
    "x = range(30)\n",
    "y = [n/FULL_LOGP*100 for n in min_score_lst]\n",
    "plt.bar(x, y)\n",
    "x_labels = [str(v) for v in v_lst]\n",
    "plt.xticks(x, x_labels, rotation='vertical')\n",
    "plt.xlabel('Attention head', fontsize=12)\n",
    "plt.ylabel('Change in logit (%)', fontsize=12)"
   ]
  },
  {
   "cell_type": "code",
   "execution_count": 127,
   "id": "a844b0a1-d222-47cd-9aeb-785b640b1aa6",
   "metadata": {
    "tags": []
   },
   "outputs": [
    {
     "name": "stderr",
     "output_type": "stream",
     "text": [
      "50it [00:07,  6.26it/s]\n",
      "50it [00:07,  6.30it/s]\n",
      "50it [00:07,  6.29it/s]\n",
      "50it [00:07,  6.28it/s]\n",
      "50it [00:07,  6.29it/s]\n",
      "50it [00:07,  6.26it/s]\n"
     ]
    }
   ],
   "source": [
    "# NLD_C\n",
    "with torch.no_grad():\n",
    "    nld_v_lst = []\n",
    "    nld_min_score_lst = []\n",
    "    for i in range(3):\n",
    "        K = NLD_C[i*6:(i+1)*6]\n",
    "        score = 0\n",
    "        for v in K:\n",
    "            K_minus_v = [h for h in K if h != v]\n",
    "            for doc, label in tqdm.tqdm(zip(docs, labels)):\n",
    "                encoding = get_encoding(doc, tokenizer, device)\n",
    "                label_idx = le_dict[label]\n",
    "                out1, _ = ablate_target_nodes(encoding, model, [v for v in NLD_C if v not in K])\n",
    "                out2, _ = ablate_target_nodes(encoding, model, [v for v in NLD_C if v not in K_minus_v])\n",
    "\n",
    "                score += abs(out1[0][label_idx] - out2[0][label_idx])\n",
    "            nld_v_lst.append(v)\n",
    "            nld_min_score_lst.append(score.cpu() / NUM_SAMPLES)   "
   ]
  },
  {
   "cell_type": "code",
   "execution_count": 128,
   "id": "1279edef-4c56-47d3-8d61-7c69088dd48f",
   "metadata": {
    "tags": []
   },
   "outputs": [
    {
     "name": "stderr",
     "output_type": "stream",
     "text": [
      "50it [00:07,  6.28it/s]\n",
      "50it [00:07,  6.27it/s]\n",
      "50it [00:07,  6.28it/s]\n",
      "50it [00:08,  6.24it/s]\n",
      "50it [00:08,  6.24it/s]\n",
      "50it [00:08,  6.21it/s]\n",
      "50it [00:08,  6.23it/s]\n",
      "50it [00:08,  6.20it/s]\n",
      "50it [00:08,  6.18it/s]\n",
      "50it [00:08,  6.17it/s]\n",
      "50it [00:08,  6.17it/s]\n",
      "50it [00:08,  6.19it/s]\n",
      "50it [00:08,  6.07it/s]\n",
      "50it [00:08,  6.05it/s]\n",
      "50it [00:08,  6.10it/s]\n",
      "50it [00:08,  6.16it/s]\n",
      "50it [00:08,  6.15it/s]\n",
      "50it [00:08,  6.13it/s]\n"
     ]
    }
   ],
   "source": [
    "# NLD_C\n",
    "with torch.no_grad():\n",
    "    nld_v_lst = []\n",
    "    nld_min_score_lst = []\n",
    "    K = NLD_C[:6]\n",
    "    for v in NLD_C:\n",
    "        K_minus_v = [h for h in K if h != v]\n",
    "        score = 0\n",
    "        for doc, label in tqdm.tqdm(zip(docs, labels)):\n",
    "            encoding = get_encoding(doc, tokenizer, device)\n",
    "            label_idx = le_dict[label]\n",
    "            out1, _ = ablate_target_nodes(encoding, model, [v for v in NLD_C if v not in K])\n",
    "            out2, _ = ablate_target_nodes(encoding, model, [v for v in NLD_C if v not in K_minus_v])\n",
    "\n",
    "            score += abs(out1[0][label_idx] - out2[0][label_idx])\n",
    "        nld_v_lst.append(v)\n",
    "        nld_min_score_lst.append(score.cpu() / NUM_SAMPLES)  "
   ]
  },
  {
   "cell_type": "code",
   "execution_count": 99,
   "id": "6aa30f7f-8cf6-44f4-bdeb-489d8bd71462",
   "metadata": {
    "tags": []
   },
   "outputs": [
    {
     "data": {
      "text/plain": [
       "Text(0, 0.5, 'Change in logit (%)')"
      ]
     },
     "execution_count": 99,
     "metadata": {},
     "output_type": "execute_result"
    },
    {
     "data": {
      "image/png": "[encoded data removed]",
      "text/plain": [
       "<Figure size 640x480 with 1 Axes>"
      ]
     },
     "metadata": {},
     "output_type": "display_data"
    }
   ],
   "source": [
    "x = range(18)\n",
    "y = [n/FULL_LOGP*100 for n in nld_min_score_lst]\n",
    "plt.bar(x, y)\n",
    "x_labels = [str(v) for v in nld_v_lst]\n",
    "plt.xticks(x, x_labels, rotation='vertical')\n",
    "plt.xlabel('Attention head', fontsize=12)\n",
    "plt.ylabel('Change in logit (%)', fontsize=12)"
   ]
  },
  {
   "cell_type": "markdown",
   "id": "08ffeb11-8e4c-4c5e-815e-924f5c52cd54",
   "metadata": {
    "user_expressions": []
   },
   "source": [
    "# Completeness"
   ]
  },
  {
   "cell_type": "code",
   "execution_count": null,
   "id": "b61b4432-713d-4f7a-ab5e-6aff37f74777",
   "metadata": {},
   "outputs": [],
   "source": []
  }
 ],
 "metadata": {
  "kernelspec": {
   "display_name": "Python 3 (ipykernel)",
   "language": "python",
   "name": "python3"
  },
  "language_info": {
   "codemirror_mode": {
    "name": "ipython",
    "version": 3
   },
   "file_extension": ".py",
   "mimetype": "text/x-python",
   "name": "python",
   "nbconvert_exporter": "python",
   "pygments_lexer": "ipython3",
   "version": "3.11.0"
  }
 },
 "nbformat": 4,
 "nbformat_minor": 5
}
